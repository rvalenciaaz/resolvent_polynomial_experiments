{
 "cells": [
  {
   "cell_type": "code",
   "execution_count": 1,
   "id": "a7354cf6",
   "metadata": {},
   "outputs": [
    {
     "data": {
      "text/plain": [
       "(a1,\n",
       " a2,\n",
       " a3,\n",
       " a4,\n",
       " a5,\n",
       " e,\n",
       " alpha,\n",
       " b,\n",
       " c,\n",
       " d,\n",
       " ratio,\n",
       " x_1,\n",
       " x_2,\n",
       " x_3,\n",
       " x_4,\n",
       " beta,\n",
       " gamma,\n",
       " x)"
      ]
     },
     "execution_count": 1,
     "metadata": {},
     "output_type": "execute_result"
    }
   ],
   "source": [
    "var('a1','a2','a3','a4','a5','e','alpha','b','c','d','ratio',\"x_1\",\"x_2\",\"x_3\",\"x_4\",\"beta\",\"gamma\",\"x\")"
   ]
  },
  {
   "cell_type": "code",
   "execution_count": 2,
   "id": "b0824426",
   "metadata": {},
   "outputs": [],
   "source": [
    "def mycollect(e1, e2):\n",
    "    \"\"\"\n",
    "    Collects e2 coefficients in e1, even when e2 is not a factor of\n",
    "    some of the terms of e1\n",
    "    \"\"\"\n",
    "    g = maxima_calculus.gensym()._sage_()\n",
    "    while g in e1.variables(): g = maxima_calculus.gensym()._sage_()\n",
    "    return sum([v[0]*g^v[1]\n",
    "                for v in e1.subs(e2==g).coefficients(g)]).subs(g==e2)"
   ]
  },
  {
   "cell_type": "code",
   "execution_count": 3,
   "id": "ccaa4a44",
   "metadata": {},
   "outputs": [],
   "source": [
    "def division(dividend, divisor) : \n",
    "    q,r = dividend.maxima_methods().divide(divisor)\n",
    "    return q,r"
   ]
  },
  {
   "cell_type": "code",
   "execution_count": null,
   "id": "2e0ed748",
   "metadata": {},
   "outputs": [],
   "source": []
  },
  {
   "cell_type": "code",
   "execution_count": 4,
   "id": "e34ac3b7",
   "metadata": {},
   "outputs": [],
   "source": [
    "reduced1=(a1 - alpha*a2)*b + 2*(a2 - alpha*a3)*c\n",
    "reduced2=(reduced1+2*alpha*(a1+b*a2+c*a3)).full_simplify()\n",
    "reduced3=reduced2.subs({a1:ratio*a2})\n",
    "sreduced=solve(reduced3==0, ratio)\n",
    "mainratio=sreduced[0].rhs()\n",
    "mainpre=(mainratio^2+b*mainratio+c).full_simplify().factor()"
   ]
  },
  {
   "cell_type": "code",
   "execution_count": 12,
   "id": "6fd08f12",
   "metadata": {},
   "outputs": [
    {
     "data": {
      "text/plain": [
       "-(alpha^2 + alpha*b + c)*(b^2 - 4*c)/(2*alpha + b)^2"
      ]
     },
     "execution_count": 12,
     "metadata": {},
     "output_type": "execute_result"
    }
   ],
   "source": [
    "mainpre"
   ]
  },
  {
   "cell_type": "code",
   "execution_count": 6,
   "id": "4122862a",
   "metadata": {},
   "outputs": [],
   "source": [
    "third1=(a1 - alpha*a2)*b + 2*c*(a2 - alpha*a3)+3*d*(a3 - alpha*a4)\n",
    "third2=(third1+3*alpha*(a1+b*a2+c*a3+d*a4)).full_simplify()"
   ]
  },
  {
   "cell_type": "code",
   "execution_count": null,
   "id": "296aff13",
   "metadata": {},
   "outputs": [],
   "source": []
  },
  {
   "cell_type": "code",
   "execution_count": 7,
   "id": "4a30f750",
   "metadata": {},
   "outputs": [],
   "source": [
    "term1=third2.subs({a1:1,a2:0,a3:0})\n",
    "term2=third2.subs({a1:0,a2:1,a3:0})\n",
    "term3=third2.subs({a1:0,a2:0,a3:1})\n",
    "newb=(term2/term1).full_simplify()\n",
    "newc=(term3/term1).full_simplify()"
   ]
  },
  {
   "cell_type": "code",
   "execution_count": 8,
   "id": "0e23f834",
   "metadata": {},
   "outputs": [
    {
     "data": {
      "text/plain": [
       "2*(alpha*b + c)/(3*alpha + b)"
      ]
     },
     "execution_count": 8,
     "metadata": {},
     "output_type": "execute_result"
    }
   ],
   "source": [
    "newb"
   ]
  },
  {
   "cell_type": "code",
   "execution_count": 9,
   "id": "348527de",
   "metadata": {},
   "outputs": [
    {
     "data": {
      "text/plain": [
       "(alpha*c + 3*d)/(3*alpha + b)"
      ]
     },
     "execution_count": 9,
     "metadata": {},
     "output_type": "execute_result"
    }
   ],
   "source": [
    "newc"
   ]
  },
  {
   "cell_type": "code",
   "execution_count": 97,
   "id": "37f77a6f",
   "metadata": {},
   "outputs": [],
   "source": [
    "newratio=mainratio.subs({b:newb,c:newc}).full_simplify()"
   ]
  },
  {
   "cell_type": "code",
   "execution_count": 98,
   "id": "49de6649",
   "metadata": {},
   "outputs": [
    {
     "data": {
      "text/plain": [
       "-(alpha^2*b + 2*alpha*c + 3*d)/(3*alpha^2 + 2*alpha*b + c)"
      ]
     },
     "execution_count": 98,
     "metadata": {},
     "output_type": "execute_result"
    }
   ],
   "source": [
    "newratio"
   ]
  },
  {
   "cell_type": "code",
   "execution_count": 99,
   "id": "ef980b74",
   "metadata": {},
   "outputs": [],
   "source": [
    "expa=newratio^2+newb*newratio+newc\n",
    "expa2=expa.full_simplify().factor()\n",
    "expa3=expa2.numerator()/(-3*(alpha^3 + alpha^2*b + alpha*c + d))"
   ]
  },
  {
   "cell_type": "code",
   "execution_count": 100,
   "id": "b2d81ce7",
   "metadata": {},
   "outputs": [
    {
     "data": {
      "text/plain": [
       "(b^2 - 3*c)*alpha^2 + (b*c - 9*d)*alpha + c^2 - 3*b*d"
      ]
     },
     "execution_count": 100,
     "metadata": {},
     "output_type": "execute_result"
    }
   ],
   "source": [
    "mycollect(expa3,alpha)"
   ]
  },
  {
   "cell_type": "code",
   "execution_count": 101,
   "id": "3944e6b9",
   "metadata": {},
   "outputs": [
    {
     "data": {
      "text/plain": [
       "(2, 2, 2)"
      ]
     },
     "execution_count": 101,
     "metadata": {},
     "output_type": "execute_result"
    }
   ],
   "source": [
    "2,2,2"
   ]
  },
  {
   "cell_type": "code",
   "execution_count": 102,
   "id": "a189f3ab",
   "metadata": {},
   "outputs": [
    {
     "data": {
      "text/plain": [
       "(3, 2, 1)"
      ]
     },
     "execution_count": 102,
     "metadata": {},
     "output_type": "execute_result"
    }
   ],
   "source": [
    "3,2,1"
   ]
  },
  {
   "cell_type": "code",
   "execution_count": 103,
   "id": "f264db5c",
   "metadata": {},
   "outputs": [],
   "source": [
    "simpy=solve(expa3==0,d)\n",
    "simpy2=simpy[0].rhs()"
   ]
  },
  {
   "cell_type": "code",
   "execution_count": 104,
   "id": "486ad72b",
   "metadata": {},
   "outputs": [],
   "source": [
    "sirat=newratio.subs({d:simpy2}).full_simplify().factor()\n",
    "sinewc=newc.subs({d:simpy2}).full_simplify().factor()"
   ]
  },
  {
   "cell_type": "code",
   "execution_count": 105,
   "id": "08c47564",
   "metadata": {},
   "outputs": [
    {
     "data": {
      "text/plain": [
       "-(alpha*b + c)/(3*alpha + b)"
      ]
     },
     "execution_count": 105,
     "metadata": {},
     "output_type": "execute_result"
    }
   ],
   "source": [
    "sirat"
   ]
  },
  {
   "cell_type": "code",
   "execution_count": 106,
   "id": "869dbac1",
   "metadata": {},
   "outputs": [],
   "source": [
    "sipol=sirat^2+newb*sirat+newc"
   ]
  },
  {
   "cell_type": "code",
   "execution_count": 107,
   "id": "9d8d6417",
   "metadata": {},
   "outputs": [
    {
     "data": {
      "text/plain": [
       "-alpha^2*b^2 + 3*alpha^2*c - alpha*b*c - c^2 + 9*alpha*d + 3*b*d"
      ]
     },
     "execution_count": 107,
     "metadata": {},
     "output_type": "execute_result"
    }
   ],
   "source": [
    "sipol.full_simplify().factor().numerator()"
   ]
  },
  {
   "cell_type": "code",
   "execution_count": 108,
   "id": "7c996487",
   "metadata": {},
   "outputs": [],
   "source": [
    "sipol2=sirat^3+b*sirat^2+c*sirat+d"
   ]
  },
  {
   "cell_type": "code",
   "execution_count": 109,
   "id": "6a64119f",
   "metadata": {},
   "outputs": [],
   "source": [
    "sipos2=sipol2.full_simplify().factor().numerator()"
   ]
  },
  {
   "cell_type": "code",
   "execution_count": 110,
   "id": "1127df55",
   "metadata": {},
   "outputs": [],
   "source": [
    "tet=sipos2.subs({b:-x_1-x_2-x_3,c:x_1*x_2+x_1*x_3+x_2*x_3,d:-x_1*x_2*x_3})\n",
    "tet2=tet.full_simplify().factor()\n",
    "tet3=tet2.subs({x_1:alpha}).full_simplify().factor()\n",
    "tet4=tet3.subs({alpha:x_1})"
   ]
  },
  {
   "cell_type": "code",
   "execution_count": 111,
   "id": "f58e484d",
   "metadata": {},
   "outputs": [
    {
     "data": {
      "text/plain": [
       "-(x_1 - x_2)^3*(x_1 - x_3)^3"
      ]
     },
     "execution_count": 111,
     "metadata": {},
     "output_type": "execute_result"
    }
   ],
   "source": [
    "tet4"
   ]
  },
  {
   "cell_type": "code",
   "execution_count": 112,
   "id": "8092d832",
   "metadata": {},
   "outputs": [],
   "source": [
    "expadeg=newratio^3+b*newratio^2+c*newratio+d\n",
    "expadeg2=expadeg.full_simplify().factor()\n",
    "expadeg3=expadeg2.numerator()/(alpha^3 + alpha^2*b + alpha*c + d)"
   ]
  },
  {
   "cell_type": "code",
   "execution_count": 113,
   "id": "fd7514e5",
   "metadata": {},
   "outputs": [],
   "source": [
    "i1=mycollect(expadeg3,alpha)"
   ]
  },
  {
   "cell_type": "code",
   "execution_count": 114,
   "id": "41880868",
   "metadata": {},
   "outputs": [],
   "source": [
    "i2=mycollect(sipos2,alpha)"
   ]
  },
  {
   "cell_type": "code",
   "execution_count": null,
   "id": "7bc775aa",
   "metadata": {},
   "outputs": [],
   "source": []
  },
  {
   "cell_type": "code",
   "execution_count": null,
   "id": "c9ee5ec9",
   "metadata": {},
   "outputs": [],
   "source": []
  },
  {
   "cell_type": "code",
   "execution_count": null,
   "id": "aaafd1da",
   "metadata": {},
   "outputs": [],
   "source": []
  },
  {
   "cell_type": "code",
   "execution_count": null,
   "id": "82c91fbe",
   "metadata": {},
   "outputs": [],
   "source": []
  },
  {
   "cell_type": "code",
   "execution_count": null,
   "id": "124284cc",
   "metadata": {},
   "outputs": [],
   "source": []
  },
  {
   "cell_type": "code",
   "execution_count": null,
   "id": "40d7211d",
   "metadata": {},
   "outputs": [],
   "source": []
  },
  {
   "cell_type": "code",
   "execution_count": null,
   "id": "265e8c79",
   "metadata": {},
   "outputs": [],
   "source": []
  },
  {
   "cell_type": "code",
   "execution_count": null,
   "id": "7f2dbf8e",
   "metadata": {},
   "outputs": [],
   "source": []
  },
  {
   "cell_type": "code",
   "execution_count": 115,
   "id": "f560a865",
   "metadata": {},
   "outputs": [],
   "source": [
    "i3=mycollect(i1-i2,alpha)"
   ]
  },
  {
   "cell_type": "code",
   "execution_count": null,
   "id": "a241c27d",
   "metadata": {},
   "outputs": [],
   "source": []
  },
  {
   "cell_type": "code",
   "execution_count": 116,
   "id": "54a6a6ce",
   "metadata": {},
   "outputs": [],
   "source": [
    "ai3=i3.subs({alpha:1})"
   ]
  },
  {
   "cell_type": "code",
   "execution_count": 117,
   "id": "90aef78d",
   "metadata": {},
   "outputs": [],
   "source": [
    "tui=i3.operands()"
   ]
  },
  {
   "cell_type": "code",
   "execution_count": 118,
   "id": "9f912ac7",
   "metadata": {},
   "outputs": [],
   "source": [
    "tui2=[i.subs({b:1,c:1,d:1}).abs() for i in tui]"
   ]
  },
  {
   "cell_type": "code",
   "execution_count": 119,
   "id": "b5fd0ad8",
   "metadata": {},
   "outputs": [],
   "source": [
    "tui3=sorted(tui2)"
   ]
  },
  {
   "cell_type": "code",
   "execution_count": 120,
   "id": "b96a277b",
   "metadata": {},
   "outputs": [
    {
     "data": {
      "text/plain": [
       "{1, 9, 16*abs(alpha), 27, 4*abs(alpha^2)}"
      ]
     },
     "execution_count": 120,
     "metadata": {},
     "output_type": "execute_result"
    }
   ],
   "source": [
    "set(tui3)"
   ]
  },
  {
   "cell_type": "code",
   "execution_count": 121,
   "id": "7d14ea5b",
   "metadata": {},
   "outputs": [
    {
     "data": {
      "text/plain": [
       "(3, 4, 4)"
      ]
     },
     "execution_count": 121,
     "metadata": {},
     "output_type": "execute_result"
    }
   ],
   "source": [
    "3,4,4"
   ]
  },
  {
   "cell_type": "code",
   "execution_count": 122,
   "id": "407f537d",
   "metadata": {},
   "outputs": [
    {
     "data": {
      "text/plain": [
       "11"
      ]
     },
     "execution_count": 122,
     "metadata": {},
     "output_type": "execute_result"
    }
   ],
   "source": [
    "3+4+4"
   ]
  },
  {
   "cell_type": "code",
   "execution_count": 123,
   "id": "102e3193",
   "metadata": {},
   "outputs": [
    {
     "data": {
      "text/plain": [
       "-40"
      ]
     },
     "execution_count": 123,
     "metadata": {},
     "output_type": "execute_result"
    }
   ],
   "source": [
    "ai3.subs({b:1,c:1,d:1})"
   ]
  },
  {
   "cell_type": "code",
   "execution_count": 124,
   "id": "4328a5d8",
   "metadata": {},
   "outputs": [
    {
     "data": {
      "text/plain": [
       "2^3 * 5"
      ]
     },
     "execution_count": 124,
     "metadata": {},
     "output_type": "execute_result"
    }
   ],
   "source": [
    "40.factor()"
   ]
  },
  {
   "cell_type": "code",
   "execution_count": 125,
   "id": "0677e359",
   "metadata": {},
   "outputs": [],
   "source": [
    "protoa=- (b^4 - 6*b^2*c + 9*c^2)\n",
    "protob=- (b^3*c - 3*b*c^2 - 9*b^2*d + 27*c*d)\n",
    "protoc=i3.subs({alpha:0})"
   ]
  },
  {
   "cell_type": "code",
   "execution_count": null,
   "id": "fe0dd7b7",
   "metadata": {},
   "outputs": [],
   "source": []
  },
  {
   "cell_type": "code",
   "execution_count": 126,
   "id": "7751ad9e",
   "metadata": {},
   "outputs": [
    {
     "data": {
      "text/plain": [
       "[alpha == -1/2*(b*c - 9*d - sqrt(b^2*c^2 - 4*c^3 - 2*(2*b^3 - 9*b*c)*d - 27*d^2))/(b^2 - 3*c), alpha == -1/2*(b*c - 9*d + sqrt(b^2*c^2 - 4*c^3 - 2*(2*b^3 - 9*b*c)*d - 27*d^2))/(b^2 - 3*c)]"
      ]
     },
     "execution_count": 126,
     "metadata": {},
     "output_type": "execute_result"
    }
   ],
   "source": [
    "solve(i3==0,alpha)"
   ]
  },
  {
   "cell_type": "code",
   "execution_count": 127,
   "id": "32fafb2d",
   "metadata": {},
   "outputs": [
    {
     "data": {
      "text/plain": [
       "b^2*c^2 - 4*b^3*d - 4*c^3 + 18*b*c*d - 27*d^2"
      ]
     },
     "execution_count": 127,
     "metadata": {},
     "output_type": "execute_result"
    }
   ],
   "source": [
    "(b^2*c^2 - 4*c^3 - 2*(2*b^3 - 9*b*c)*d - 27*d^2).expand()"
   ]
  },
  {
   "cell_type": "code",
   "execution_count": null,
   "id": "10632891",
   "metadata": {},
   "outputs": [],
   "source": []
  },
  {
   "cell_type": "code",
   "execution_count": 128,
   "id": "af26bca2",
   "metadata": {},
   "outputs": [],
   "source": [
    "rot=expa3.subs({b:-x_1-x_2-x_3,c:x_1*x_2+x_1*x_3+x_2*x_3,d:-x_1*x_2*x_3})\n",
    "rot2=rot.full_simplify().factor()\n",
    "rot3=rot2.subs({x_1:alpha}).full_simplify().factor()\n",
    "rot4=rot3.subs({alpha:x_1})"
   ]
  },
  {
   "cell_type": "code",
   "execution_count": 129,
   "id": "bf7749db",
   "metadata": {},
   "outputs": [
    {
     "data": {
      "text/plain": [
       "(x_1 - x_2)^2*(x_1 - x_3)^2"
      ]
     },
     "execution_count": 129,
     "metadata": {},
     "output_type": "execute_result"
    }
   ],
   "source": [
    "rot4"
   ]
  },
  {
   "cell_type": "code",
   "execution_count": 130,
   "id": "191962e9",
   "metadata": {},
   "outputs": [],
   "source": [
    "bat=(expadeg3/2).subs({b:-x_1-x_2-x_3,c:x_1*x_2+x_1*x_3+x_2*x_3,d:-x_1*x_2*x_3})\n",
    "bat2=bat.full_simplify().factor()\n",
    "bat3=bat2.subs({x_1:alpha}).full_simplify().factor()\n",
    "bat4=bat3.subs({alpha:x_1})"
   ]
  },
  {
   "cell_type": "code",
   "execution_count": 131,
   "id": "e609ef4d",
   "metadata": {},
   "outputs": [
    {
     "data": {
      "text/plain": [
       "-(x_1 - x_2)^3*(x_1 - x_3)^3"
      ]
     },
     "execution_count": 131,
     "metadata": {},
     "output_type": "execute_result"
    }
   ],
   "source": [
    "bat4"
   ]
  },
  {
   "cell_type": "code",
   "execution_count": 132,
   "id": "b3a0fbc2",
   "metadata": {},
   "outputs": [],
   "source": [
    "leti=(bat3/rot3).subs({alpha:x_1})"
   ]
  },
  {
   "cell_type": "code",
   "execution_count": 133,
   "id": "1159ac0a",
   "metadata": {},
   "outputs": [],
   "source": [
    "letix=(leti-(x_2-x_3)^2).expand().full_simplify()"
   ]
  },
  {
   "cell_type": "code",
   "execution_count": 134,
   "id": "2a6339a0",
   "metadata": {},
   "outputs": [
    {
     "data": {
      "text/plain": [
       "(x_1 - x_2)^2*(x_1 - x_3)^2"
      ]
     },
     "execution_count": 134,
     "metadata": {},
     "output_type": "execute_result"
    }
   ],
   "source": [
    "rot4"
   ]
  },
  {
   "cell_type": "code",
   "execution_count": 135,
   "id": "f87dbfcb",
   "metadata": {},
   "outputs": [
    {
     "data": {
      "text/plain": [
       "-x_1^2 + x_1*x_2 - x_2^2 + (x_1 + x_2)*x_3 - x_3^2"
      ]
     },
     "execution_count": 135,
     "metadata": {},
     "output_type": "execute_result"
    }
   ],
   "source": [
    "((-b^2 + 3*c).subs({b:-x_1-x_2-x_3,c:x_1*x_2+x_1*x_3+x_2*x_3,d:-x_1*x_2*x_3})).expand().full_simplify()"
   ]
  },
  {
   "cell_type": "code",
   "execution_count": null,
   "id": "8f224afa",
   "metadata": {},
   "outputs": [],
   "source": []
  },
  {
   "cell_type": "code",
   "execution_count": 136,
   "id": "e3191b30",
   "metadata": {},
   "outputs": [],
   "source": [
    "first=alpha^2*b^2 - 3*alpha^2*c + alpha*b*c + c^2 - 9*alpha*d - 3*b*d\n",
    "second=first.subs({alpha:beta})\n",
    "third=first.subs({alpha:gamma})"
   ]
  },
  {
   "cell_type": "code",
   "execution_count": 137,
   "id": "26ee290f",
   "metadata": {},
   "outputs": [],
   "source": [
    "expasu=expa3.subs({alpha:x_1})\n",
    "expatrisu=expadeg3.subs({alpha:x_1})\n",
    "expasu2=mycollect(expasu,x_1)\n",
    "expatrisu2=mycollect(expatrisu,x_1)"
   ]
  },
  {
   "cell_type": "code",
   "execution_count": 138,
   "id": "c0d6a5c3",
   "metadata": {},
   "outputs": [],
   "source": [
    "g(x)=expasu2.subs({x_1:x})"
   ]
  },
  {
   "cell_type": "code",
   "execution_count": 139,
   "id": "187c6e42",
   "metadata": {},
   "outputs": [
    {
     "data": {
      "text/plain": [
       "(b^2 - 3*c)*x_1^2 + c^2 - 3*b*d + (b*c - 9*d)*x_1"
      ]
     },
     "execution_count": 139,
     "metadata": {},
     "output_type": "execute_result"
    }
   ],
   "source": [
    "mycollect(expasu,x_1)"
   ]
  },
  {
   "cell_type": "code",
   "execution_count": 140,
   "id": "2b4d3e3d",
   "metadata": {},
   "outputs": [
    {
     "data": {
      "text/plain": [
       "-b^2*c^2 + 4*b^3*d + 4*c^3 - 18*b*c*d + 27*d^2"
      ]
     },
     "execution_count": 140,
     "metadata": {},
     "output_type": "execute_result"
    }
   ],
   "source": [
    "((b*c - 9*d)^2-4*(b^2 - 3*c)*(c^2 - 3*b*d )).full_simplify().factor()/3"
   ]
  },
  {
   "cell_type": "code",
   "execution_count": 141,
   "id": "dbcd49a3",
   "metadata": {},
   "outputs": [],
   "source": [
    "veri=(b^2 - 3*c).subs({b:-x_1-x_2-x_3,c:x_1*x_2+x_1*x_3+x_2*x_3,d:-x_1*x_2*x_3})"
   ]
  },
  {
   "cell_type": "code",
   "execution_count": 142,
   "id": "52dfb086",
   "metadata": {},
   "outputs": [
    {
     "data": {
      "text/plain": [
       "x_1^2 - x_1*x_2 + x_2^2 - x_1*x_3 - x_2*x_3 + x_3^2"
      ]
     },
     "execution_count": 142,
     "metadata": {},
     "output_type": "execute_result"
    }
   ],
   "source": [
    "veri.full_simplify().factor()"
   ]
  },
  {
   "cell_type": "code",
   "execution_count": 143,
   "id": "ea8f5a80",
   "metadata": {},
   "outputs": [],
   "source": [
    "f(x)=expatrisu2.subs({x_1:x})"
   ]
  },
  {
   "cell_type": "code",
   "execution_count": 144,
   "id": "d4d17e61",
   "metadata": {
    "scrolled": true
   },
   "outputs": [
    {
     "data": {
      "text/plain": [
       "((b^4*c - 18*b^2*c^2 + 54*c^3 + 9*(5*b^3 - 21*b*c)*d + 243*d^2 + (2*b^5 - 15*b^3*c + 27*b*c^2 + 27*(b^2 - 3*c)*d)*x)/(b^4 - 6*b^2*c + 9*c^2),\n",
       " -3*(b^4*c^3 - 10*b^2*c^4 + 24*c^5 - 243*b*d^3 - 9*(4*b^4 - 15*b^2*c - 18*c^2)*d^2 - (4*b^5*c - 51*b^3*c^2 + 144*b*c^3)*d + (2*b^5*c^2 - 17*b^3*c^3 + 36*b*c^4 - 81*(2*b^3 - 9*b*c)*d^2 - 729*d^3 - (8*b^6 - 72*b^4*c + 135*b^2*c^2 + 108*c^3)*d)*x)/(b^4 - 6*b^2*c + 9*c^2))"
      ]
     },
     "execution_count": 144,
     "metadata": {},
     "output_type": "execute_result"
    }
   ],
   "source": [
    "division(f,g)"
   ]
  },
  {
   "cell_type": "code",
   "execution_count": 145,
   "id": "8d918b2d",
   "metadata": {},
   "outputs": [],
   "source": [
    "rem=-3*(b^4*c^3 - 10*b^2*c^4 + 24*c^5 - 243*b*d^3 - 9*(4*b^4 - 15*b^2*c - 18*c^2)*d^2 - (4*b^5*c - 51*b^3*c^2 + 144*b*c^3)*d + (2*b^5*c^2 - 17*b^3*c^3 + 36*b*c^4 - 81*(2*b^3 - 9*b*c)*d^2 - 729*d^3 - (8*b^6 - 72*b^4*c + 135*b^2*c^2 + 108*c^3)*d)*x)/(b^4 - 6*b^2*c + 9*c^2)\n"
   ]
  },
  {
   "cell_type": "code",
   "execution_count": 146,
   "id": "0ff1fc68",
   "metadata": {},
   "outputs": [
    {
     "data": {
      "text/plain": [
       "-3*(b^2*c^2 - 4*b^3*d - 4*c^3 + 18*b*c*d - 27*d^2)*(b^2*c - 6*c^2 + 9*b*d)/(b^2 - 3*c)^2"
      ]
     },
     "execution_count": 146,
     "metadata": {},
     "output_type": "execute_result"
    }
   ],
   "source": [
    "rem.subs({x:0}).full_simplify().factor()"
   ]
  },
  {
   "cell_type": "code",
   "execution_count": 147,
   "id": "5a3d0fec",
   "metadata": {},
   "outputs": [
    {
     "data": {
      "text/plain": [
       "-3*(b^2*c^2 - 4*b^3*d - 4*c^3 + 18*b*c*d - 27*d^2)*(2*b^3*x + b^2*c - 9*b*c*x - 6*c^2 + 9*b*d + 27*d*x)/(b^2 - 3*c)^2"
      ]
     },
     "execution_count": 147,
     "metadata": {},
     "output_type": "execute_result"
    }
   ],
   "source": [
    "rem.simplify().factor()"
   ]
  },
  {
   "cell_type": "code",
   "execution_count": 148,
   "id": "f1d96871",
   "metadata": {},
   "outputs": [],
   "source": [
    "expatrisu3=((expatrisu2-(2*b^3 - 9*b*c + 27*d)*(x_1^3+b*x_1^2+c*x_1+d))/2).full_simplify()"
   ]
  },
  {
   "cell_type": "code",
   "execution_count": 232,
   "id": "4ffe5931",
   "metadata": {},
   "outputs": [
    {
     "data": {
      "text/plain": [
       "[x_1 == -1/2*(b*c - 9*d - sqrt(b^2*c^2 - 4*c^3 - 2*(2*b^3 - 9*b*c)*d - 27*d^2))/(b^2 - 3*c), x_1 == -1/2*(b*c - 9*d + sqrt(b^2*c^2 - 4*c^3 - 2*(2*b^3 - 9*b*c)*d - 27*d^2))/(b^2 - 3*c)]"
      ]
     },
     "execution_count": 232,
     "metadata": {},
     "output_type": "execute_result"
    }
   ],
   "source": [
    "solve(expatrisu3==0,x_1)"
   ]
  },
  {
   "cell_type": "code",
   "execution_count": 233,
   "id": "9847ba26",
   "metadata": {},
   "outputs": [
    {
     "data": {
      "text/plain": [
       "-c^3 - (b^4 - 6*b^2*c + 9*c^2)*x_1^2 - (b^3 - 9*b*c)*d - 27*d^2 - (b^3*c - 3*b*c^2 - 9*(b^2 - 3*c)*d)*x_1"
      ]
     },
     "execution_count": 233,
     "metadata": {},
     "output_type": "execute_result"
    }
   ],
   "source": [
    "expatrisu3"
   ]
  },
  {
   "cell_type": "code",
   "execution_count": 150,
   "id": "66796bad",
   "metadata": {},
   "outputs": [
    {
     "data": {
      "text/plain": [
       "-(x_1 - x_2)^3*(x_1 - x_3)^3"
      ]
     },
     "execution_count": 150,
     "metadata": {},
     "output_type": "execute_result"
    }
   ],
   "source": [
    "expatrisu3.subs({b:-x_1-x_2-x_3,c:x_1*x_2+x_1*x_3+x_2*x_3,d:-x_1*x_2*x_3}).full_simplify().factor()"
   ]
  },
  {
   "cell_type": "code",
   "execution_count": 151,
   "id": "8334c787",
   "metadata": {},
   "outputs": [],
   "source": [
    "dis=(expatrisu3+(b^2-3*c)*expasu2).full_simplify().expand()"
   ]
  },
  {
   "cell_type": "code",
   "execution_count": 152,
   "id": "7aa5ee93",
   "metadata": {},
   "outputs": [],
   "source": [
    "yu=mycollect(-expatrisu3,x_1)"
   ]
  },
  {
   "cell_type": "code",
   "execution_count": 153,
   "id": "38dba087",
   "metadata": {},
   "outputs": [
    {
     "data": {
      "text/plain": [
       "[c^3,\n",
       " (b^4 - 6*b^2*c + 9*c^2)*x_1^2,\n",
       " (b^3 - 9*b*c)*d,\n",
       " 27*d^2,\n",
       " (b^3*c - 3*b*c^2 - 9*(b^2 - 3*c)*d)*x_1]"
      ]
     },
     "execution_count": 153,
     "metadata": {},
     "output_type": "execute_result"
    }
   ],
   "source": [
    "yu.operands()"
   ]
  },
  {
   "cell_type": "markdown",
   "id": "b5e2b2e1",
   "metadata": {},
   "source": [
    "\n",
    "[*x_1^2,\n",
    " (b^3*c - 3*b*c^2 - 9*(b^2 - 3*c)*d)/(b^4 - 6*b^2*c + 9*c^2),((b^3 - 9*b*c)*d+27*d^2+c^3)/(b^4 - 6*b^2*c + 9*c^2)]"
   ]
  },
  {
   "cell_type": "code",
   "execution_count": 154,
   "id": "57ffaaa2",
   "metadata": {},
   "outputs": [],
   "source": [
    "pu=((b^3*c - 3*b*c^2 - 9*(b^2 - 3*c)*d)/(b^4 - 6*b^2*c + 9*c^2))^2-4*((b^3 - 9*b*c)*d+27*d^2+c^3)/(b^4 - 6*b^2*c + 9*c^2)"
   ]
  },
  {
   "cell_type": "code",
   "execution_count": 155,
   "id": "737772a9",
   "metadata": {},
   "outputs": [
    {
     "data": {
      "text/plain": [
       "(b^2*c^2 - 4*b^3*d - 4*c^3 + 18*b*c*d - 27*d^2)/(b^2 - 3*c)^2"
      ]
     },
     "execution_count": 155,
     "metadata": {},
     "output_type": "execute_result"
    }
   ],
   "source": [
    "pu.full_simplify().factor()"
   ]
  },
  {
   "cell_type": "code",
   "execution_count": 156,
   "id": "3f6599e1",
   "metadata": {},
   "outputs": [
    {
     "data": {
      "text/plain": [
       "(b^2*c^2 - 4*b^3*d - 4*c^3 + 18*b*c*d - 27*d^2)*(b^2 - 3*c)^2"
      ]
     },
     "execution_count": 156,
     "metadata": {},
     "output_type": "execute_result"
    }
   ],
   "source": [
    "((b^3*c - 3*b*c^2 - 9*(b^2 - 3*c)*d)^2-4*(b^4 - 6*b^2*c + 9*c^2)*((b^3 - 9*b*c)*d + 27*d^2+c^3)).full_simplify().factor()"
   ]
  },
  {
   "cell_type": "code",
   "execution_count": 157,
   "id": "4decb14a",
   "metadata": {},
   "outputs": [
    {
     "data": {
      "text/plain": [
       "-1/3*(b^2 - 3*c)*x_1^2 - 1/3*c^2 + b*d - 1/3*(b*c - 9*d)*x_1"
      ]
     },
     "execution_count": 157,
     "metadata": {},
     "output_type": "execute_result"
    }
   ],
   "source": [
    "mycollect(-expasu2/3,x_1)"
   ]
  },
  {
   "cell_type": "code",
   "execution_count": 158,
   "id": "22856772",
   "metadata": {},
   "outputs": [
    {
     "data": {
      "text/plain": [
       "-3*b^2*c^2 + 12*b^3*d + 12*c^3 - 54*b*c*d + 81*d^2"
      ]
     },
     "execution_count": 158,
     "metadata": {},
     "output_type": "execute_result"
    }
   ],
   "source": [
    "(((b*c - 9*d))^2-4*-(b^2 - 3*c)*-(c^2 - 3*b*d)).full_simplify().factor()"
   ]
  },
  {
   "cell_type": "code",
   "execution_count": 159,
   "id": "5c159ee8",
   "metadata": {},
   "outputs": [
    {
     "data": {
      "text/plain": [
       "4*x_1^2 + 16*x_1 + 20"
      ]
     },
     "execution_count": 159,
     "metadata": {},
     "output_type": "execute_result"
    }
   ],
   "source": [
    "-expatrisu3.subs({b:1,c:1,d:1})"
   ]
  },
  {
   "cell_type": "code",
   "execution_count": 160,
   "id": "4a4bebad",
   "metadata": {},
   "outputs": [],
   "source": [
    "test=-expasu2.subs({b:1,c:1,d:1})"
   ]
  },
  {
   "cell_type": "code",
   "execution_count": 161,
   "id": "349ab67c",
   "metadata": {},
   "outputs": [
    {
     "data": {
      "text/plain": [
       "2*x_1^2 + 8*x_1 + 2"
      ]
     },
     "execution_count": 161,
     "metadata": {},
     "output_type": "execute_result"
    }
   ],
   "source": [
    "test"
   ]
  },
  {
   "cell_type": "code",
   "execution_count": 162,
   "id": "4870c5b4",
   "metadata": {},
   "outputs": [],
   "source": [
    "expatrisu3_x(x)=expatrisu3.subs({x_1:x})"
   ]
  },
  {
   "cell_type": "code",
   "execution_count": 163,
   "id": "e3f9f414",
   "metadata": {},
   "outputs": [
    {
     "data": {
      "text/plain": [
       "(-b^2 + 3*c, b^2*c^2 - 4*c^3 - 2*(2*b^3 - 9*b*c)*d - 27*d^2)"
      ]
     },
     "execution_count": 163,
     "metadata": {},
     "output_type": "execute_result"
    }
   ],
   "source": [
    "division(expatrisu3_x,g)"
   ]
  },
  {
   "cell_type": "code",
   "execution_count": null,
   "id": "69f69c51",
   "metadata": {},
   "outputs": [],
   "source": []
  },
  {
   "cell_type": "code",
   "execution_count": 164,
   "id": "dce6ff82",
   "metadata": {},
   "outputs": [
    {
     "data": {
      "text/plain": [
       "-(x_1 - x_2)*(x_1 - x_3)"
      ]
     },
     "execution_count": 164,
     "metadata": {},
     "output_type": "execute_result"
    }
   ],
   "source": [
    "(((-b^2 + 3*c).subs({b:-x_1-x_2-x_3,c:x_1*x_2+x_1*x_3+x_2*x_3,d:-x_1*x_2*x_3})).full_simplify()+(x_2-x_3)^2).factor()"
   ]
  },
  {
   "cell_type": "code",
   "execution_count": 165,
   "id": "ff28f7b7",
   "metadata": {},
   "outputs": [
    {
     "data": {
      "text/plain": [
       "-x_1^2 + x_1*x_2 - x_2^2 + (x_1 + x_2)*x_3 - x_3^2"
      ]
     },
     "execution_count": 165,
     "metadata": {},
     "output_type": "execute_result"
    }
   ],
   "source": [
    "((-b^2 + 3*c).subs({b:-x_1-x_2-x_3,c:x_1*x_2+x_1*x_3+x_2*x_3,d:-x_1*x_2*x_3})).full_simplify()"
   ]
  },
  {
   "cell_type": "code",
   "execution_count": 166,
   "id": "ff84aefd",
   "metadata": {},
   "outputs": [],
   "source": [
    "#fourth degree"
   ]
  },
  {
   "cell_type": "code",
   "execution_count": 167,
   "id": "bc880aaf",
   "metadata": {},
   "outputs": [],
   "source": [
    "fourth1=(a1 - alpha*a2)*b + 2*c*(a2 - alpha*a3)+3*d*(a3 - alpha*a4)+4*e*(a4 - alpha*a5)\n",
    "fourth2=(fourth1+4*alpha*(a1+b*a2+c*a3+d*a4+e*a5)).full_simplify()"
   ]
  },
  {
   "cell_type": "code",
   "execution_count": 168,
   "id": "4140e750",
   "metadata": {},
   "outputs": [],
   "source": [
    "foterm1=fourth2.subs({a1:1,a2:0,a3:0,a4:0})\n",
    "foterm2=fourth2.subs({a1:0,a2:1,a3:0,a4:0})\n",
    "foterm3=fourth2.subs({a1:0,a2:0,a3:1,a4:0})\n",
    "foterm4=fourth2.subs({a1:0,a2:0,a3:0,a4:1})\n",
    "newfb=foterm2/foterm1\n",
    "newfc=foterm3/foterm1\n",
    "newfd=foterm4/foterm1"
   ]
  },
  {
   "cell_type": "code",
   "execution_count": 169,
   "id": "5273694d",
   "metadata": {},
   "outputs": [
    {
     "data": {
      "text/plain": [
       "(2*alpha*c + 3*d)/(4*alpha + b)"
      ]
     },
     "execution_count": 169,
     "metadata": {},
     "output_type": "execute_result"
    }
   ],
   "source": [
    "newfc"
   ]
  },
  {
   "cell_type": "code",
   "execution_count": 170,
   "id": "a27da1b2",
   "metadata": {},
   "outputs": [],
   "source": [
    "foratio=(newratio.subs({b:newfb,c:newfc,d:newfd})).full_simplify()"
   ]
  },
  {
   "cell_type": "code",
   "execution_count": 171,
   "id": "915ed298",
   "metadata": {},
   "outputs": [],
   "source": [
    "dosb=newb.subs({b:newfb,c:newfc,d:newfd}).full_simplify()\n",
    "dosc=newc.subs({b:newfb,c:newfc,d:newfd}).full_simplify()"
   ]
  },
  {
   "cell_type": "code",
   "execution_count": 172,
   "id": "0b6a8f0c",
   "metadata": {},
   "outputs": [
    {
     "data": {
      "text/plain": [
       "(3*alpha^2*b + 4*alpha*c + 3*d)/(6*alpha^2 + 3*alpha*b + c)"
      ]
     },
     "execution_count": 172,
     "metadata": {},
     "output_type": "execute_result"
    }
   ],
   "source": [
    "dosb.full_simplify()"
   ]
  },
  {
   "cell_type": "code",
   "execution_count": 173,
   "id": "c8439957",
   "metadata": {},
   "outputs": [
    {
     "data": {
      "text/plain": [
       "(alpha^2*c + 3*alpha*d + 6*e)/(6*alpha^2 + 3*alpha*b + c)"
      ]
     },
     "execution_count": 173,
     "metadata": {},
     "output_type": "execute_result"
    }
   ],
   "source": [
    "dosc.full_simplify()"
   ]
  },
  {
   "cell_type": "code",
   "execution_count": 174,
   "id": "c87be1d3",
   "metadata": {},
   "outputs": [],
   "source": [
    "foexp2=(foratio^2+dosb*foratio+dosc)\n",
    "foexp3=(foratio^3+newfb*foratio^2+newfc*foratio+newfd).full_simplify().factor()\n",
    "foexp4=(foratio^4+b*foratio^3+c*foratio^2+d*foratio+e).full_simplify().factor()"
   ]
  },
  {
   "cell_type": "code",
   "execution_count": 175,
   "id": "2b9321a0",
   "metadata": {},
   "outputs": [],
   "source": [
    "quad=foexp2.full_simplify().factor().numerator()/(-6*(alpha^4 + alpha^3*b + alpha^2*c + alpha*d + e))"
   ]
  },
  {
   "cell_type": "code",
   "execution_count": 176,
   "id": "0bf77619",
   "metadata": {},
   "outputs": [],
   "source": [
    "trid=foexp3.full_simplify().factor().numerator()/(8*((alpha^4 + alpha^3*b + alpha^2*c + alpha*d + e)))"
   ]
  },
  {
   "cell_type": "code",
   "execution_count": 177,
   "id": "9673bdd4",
   "metadata": {},
   "outputs": [],
   "source": [
    "force=foexp4.full_simplify().factor().numerator()/((3*(alpha^4 + alpha^3*b + alpha^2*c + alpha*d + e)))"
   ]
  },
  {
   "cell_type": "code",
   "execution_count": 178,
   "id": "db8268da",
   "metadata": {},
   "outputs": [],
   "source": [
    "quad_subs=quad.subs({alpha:x_1,b:-(x_1+x_2+x_3+x_4),c:(x_3*x_4+x_2*x_4+x_2*x_3+x_1*x_4+x_1*x_3+x_1*x_2),d:-(x_1*x_2*x_3+x_1*x_2*x_4+x_1*x_3*x_4+x_2*x_3*x_4),e:(x_1*x_2*x_3*x_4)})"
   ]
  },
  {
   "cell_type": "code",
   "execution_count": 179,
   "id": "3052653e",
   "metadata": {},
   "outputs": [],
   "source": [
    "trid_subs=trid.subs({alpha:x_1,b:-(x_1+x_2+x_3+x_4),c:(x_3*x_4+x_2*x_4+x_2*x_3+x_1*x_4+x_1*x_3+x_1*x_2),d:-(x_1*x_2*x_3+x_1*x_2*x_4+x_1*x_3*x_4+x_2*x_3*x_4),e:(x_1*x_2*x_3*x_4)})"
   ]
  },
  {
   "cell_type": "code",
   "execution_count": 180,
   "id": "ccdd013e",
   "metadata": {},
   "outputs": [],
   "source": [
    "force_subs=force.subs({alpha:x_1,b:-(x_1+x_2+x_3+x_4),c:(x_3*x_4+x_2*x_4+x_2*x_3+x_1*x_4+x_1*x_3+x_1*x_2),d:-(x_1*x_2*x_3+x_1*x_2*x_4+x_1*x_3*x_4+x_2*x_3*x_4),e:(x_1*x_2*x_3*x_4)})"
   ]
  },
  {
   "cell_type": "code",
   "execution_count": 181,
   "id": "aa0562ec",
   "metadata": {},
   "outputs": [
    {
     "data": {
      "text/plain": [
       "-(x_1 - x_2)^4*(x_1 - x_3)^4*(x_1 - x_4)^4"
      ]
     },
     "execution_count": 181,
     "metadata": {},
     "output_type": "execute_result"
    }
   ],
   "source": [
    "force_subs.full_simplify().factor()"
   ]
  },
  {
   "cell_type": "code",
   "execution_count": 182,
   "id": "d6eb16d7",
   "metadata": {},
   "outputs": [],
   "source": [
    "esol=solve(quad==0,e)"
   ]
  },
  {
   "cell_type": "code",
   "execution_count": 183,
   "id": "98e7b746",
   "metadata": {},
   "outputs": [
    {
     "data": {
      "text/plain": [
       "alpha^6*b^3 - 4*alpha^6*b*c + 2*alpha^5*b^2*c - 8*alpha^5*c^2 + 8*alpha^6*d + 4*alpha^5*b*d + 5*alpha^4*b^2*d - 20*alpha^4*c*d + 32*alpha^5*e + 40*alpha^4*b*e + 20*alpha^3*b^2*e - 20*alpha^3*d^2 - 5*alpha^2*b*d^2 + 20*alpha^2*b*c*e - 2*alpha*c*d^2 + 8*alpha*c^2*e - 40*alpha^2*d*e - 4*alpha*b*d*e - d^3 + 4*c*d*e - 32*alpha*e^2 - 8*b*e^2"
      ]
     },
     "execution_count": 183,
     "metadata": {},
     "output_type": "execute_result"
    }
   ],
   "source": [
    "trid"
   ]
  },
  {
   "cell_type": "code",
   "execution_count": 184,
   "id": "b298c4ae",
   "metadata": {},
   "outputs": [],
   "source": [
    "ratio3=foratio.subs({e:esol[0].rhs()}).full_simplify().factor()"
   ]
  },
  {
   "cell_type": "code",
   "execution_count": 185,
   "id": "f3ee752c",
   "metadata": {},
   "outputs": [
    {
     "data": {
      "text/plain": [
       "1/3*(3*b^2 - 8*c)*alpha^4 + 4/3*(b*c - 6*d)*alpha^3 + 2/3*(2*c^2 - 3*b*d - 24*e)*alpha^2 + 4/3*(c*d - 6*b*e)*alpha + d^2 - 8/3*c*e"
      ]
     },
     "execution_count": 185,
     "metadata": {},
     "output_type": "execute_result"
    }
   ],
   "source": [
    "mycollect(quad,alpha)"
   ]
  },
  {
   "cell_type": "code",
   "execution_count": 186,
   "id": "ec05e2b2",
   "metadata": {},
   "outputs": [],
   "source": [
    "quad2=(mycollect(quad,alpha)-1/3*(3*b^2 - 8*c)*(alpha^4 + alpha^3*b + alpha^2*c + alpha*d + e)).full_simplify()"
   ]
  },
  {
   "cell_type": "code",
   "execution_count": null,
   "id": "2a282b81",
   "metadata": {},
   "outputs": [],
   "source": []
  },
  {
   "cell_type": "code",
   "execution_count": 187,
   "id": "129ec7cc",
   "metadata": {},
   "outputs": [],
   "source": [
    "quad2or=mycollect(quad2,alpha)*-1"
   ]
  },
  {
   "cell_type": "code",
   "execution_count": 188,
   "id": "1d59e92f",
   "metadata": {},
   "outputs": [
    {
     "data": {
      "text/plain": [
       "b^3 + b^2*c + b^2*d + b^2*e - 4*b*c - 4*c^2 + 2*b*d - 4*c*d - d^2 + 8*b*e + 8*d + 16*e"
      ]
     },
     "execution_count": 188,
     "metadata": {},
     "output_type": "execute_result"
    }
   ],
   "source": [
    "quad2or.subs({alpha:1})"
   ]
  },
  {
   "cell_type": "code",
   "execution_count": 189,
   "id": "53b39b37",
   "metadata": {},
   "outputs": [
    {
     "data": {
      "text/plain": [
       "(3, 4, 3, 2)"
      ]
     },
     "execution_count": 189,
     "metadata": {},
     "output_type": "execute_result"
    }
   ],
   "source": [
    "3,4,3,2"
   ]
  },
  {
   "cell_type": "code",
   "execution_count": 190,
   "id": "286fd6a7",
   "metadata": {},
   "outputs": [
    {
     "data": {
      "text/plain": [
       "(4, 3, 2, 1)"
      ]
     },
     "execution_count": 190,
     "metadata": {},
     "output_type": "execute_result"
    }
   ],
   "source": [
    "4,3,2,1"
   ]
  },
  {
   "cell_type": "code",
   "execution_count": 191,
   "id": "36131062",
   "metadata": {},
   "outputs": [
    {
     "data": {
      "text/plain": [
       "(4, 6, 6, 4, 2)"
      ]
     },
     "execution_count": 191,
     "metadata": {},
     "output_type": "execute_result"
    }
   ],
   "source": [
    "4,6,6,4,2"
   ]
  },
  {
   "cell_type": "code",
   "execution_count": 192,
   "id": "4eb2b9c1",
   "metadata": {},
   "outputs": [
    {
     "data": {
      "text/plain": [
       "22"
      ]
     },
     "execution_count": 192,
     "metadata": {},
     "output_type": "execute_result"
    }
   ],
   "source": [
    "4+6+6+4+2"
   ]
  },
  {
   "cell_type": "code",
   "execution_count": 193,
   "id": "2abf8ea2",
   "metadata": {},
   "outputs": [
    {
     "data": {
      "text/plain": [
       "12"
      ]
     },
     "execution_count": 193,
     "metadata": {},
     "output_type": "execute_result"
    }
   ],
   "source": [
    "3+4+3+2"
   ]
  },
  {
   "cell_type": "code",
   "execution_count": 194,
   "id": "30bc5e79",
   "metadata": {},
   "outputs": [],
   "source": [
    "termi1=((b^2*c - 4*c^2 + 2*b*d + 16*e)/(b^3 - 4*b*c + 8*d)).full_simplify()\n",
    "termi2=((b^2*d - 4*c*d + 8*b*e)/(b^3 - 4*b*c + 8*d)).full_simplify()\n",
    "termi3=((b^2*e -d^2)/(b^3 - 4*b*c + 8*d)).full_simplify()"
   ]
  },
  {
   "cell_type": "code",
   "execution_count": null,
   "id": "f6eaacb2",
   "metadata": {},
   "outputs": [],
   "source": []
  },
  {
   "cell_type": "code",
   "execution_count": 195,
   "id": "b3b23587",
   "metadata": {},
   "outputs": [],
   "source": [
    "dis3=dis.subs({b:termi1,c:termi2,d:termi3})"
   ]
  },
  {
   "cell_type": "code",
   "execution_count": 196,
   "id": "7b8bebe5",
   "metadata": {},
   "outputs": [
    {
     "data": {
      "text/plain": [
       "(b^2*c^2*d^2 - 4*b^3*d^3 - 4*b^2*c^3*e + 18*b^3*c*d*e - 27*b^4*e^2 - 4*c^3*d^2 + 18*b*c*d^3 + 16*c^4*e - 80*b*c^2*d*e - 6*b^2*d^2*e + 144*b^2*c*e^2 - 27*d^4 + 144*c*d^2*e - 128*c^2*e^2 - 192*b*d*e^2 + 256*e^3)/(b^3 - 4*b*c + 8*d)^2"
      ]
     },
     "execution_count": 196,
     "metadata": {},
     "output_type": "execute_result"
    }
   ],
   "source": [
    "dis3.full_simplify().factor()"
   ]
  },
  {
   "cell_type": "code",
   "execution_count": 197,
   "id": "23043b5f",
   "metadata": {},
   "outputs": [],
   "source": [
    "trid2=(mycollect(trid,alpha)-(b^3 - 4*b*c + 8*d)*alpha^2*(alpha^4 + alpha^3*b + alpha^2*c + alpha*d + e)).full_simplify()"
   ]
  },
  {
   "cell_type": "code",
   "execution_count": null,
   "id": "8b942c1e",
   "metadata": {},
   "outputs": [],
   "source": []
  },
  {
   "cell_type": "code",
   "execution_count": 198,
   "id": "f3d3b14e",
   "metadata": {},
   "outputs": [],
   "source": [
    "trid3=(mycollect(trid2,alpha)+(b^4 - 6*b^2*c + 8*c^2 + 4*b*d - 32*e)*alpha*(alpha^4 + alpha^3*b + alpha^2*c + alpha*d + e)).full_simplify()"
   ]
  },
  {
   "cell_type": "code",
   "execution_count": 199,
   "id": "3bd71be9",
   "metadata": {},
   "outputs": [],
   "source": [
    "trid4=(mycollect(trid3,alpha)-(b^5 - 7*b^3*c + 12*b*c^2 + 9*b^2*d - 28*c*d + 8*b*e)*(alpha^4 + alpha^3*b + alpha^2*c + alpha*d + e)).full_simplify()"
   ]
  },
  {
   "cell_type": "code",
   "execution_count": 200,
   "id": "ff1ab673",
   "metadata": {},
   "outputs": [],
   "source": [
    "trid4or=mycollect(trid4,alpha)"
   ]
  },
  {
   "cell_type": "code",
   "execution_count": 201,
   "id": "3c8d1994",
   "metadata": {},
   "outputs": [
    {
     "data": {
      "text/plain": [
       "-b^5*e + 7*b^3*c*e - (b^6 - 8*b^4*c + 18*b^2*c^2 + 10*b^3*d - 8*c^3 - 36*b*c*d - 12*b^2*e + 28*d^2 + 32*c*e)*alpha^3 - 12*b*c^2*e - 9*b^2*d*e - (b^5*c - 7*b^3*c^2 - b^4*d + 12*b*c^3 + 15*b^2*c*d + b^3*e - 36*c^2*d + b*d^2 - 16*b*c*e + 80*d*e)*alpha^2 - d^3 + 32*c*d*e - 16*b*e^2 - (b^5*d - 7*b^3*c*d - b^4*e + 12*b*c^2*d + 9*b^2*d^2 + 6*b^2*c*e - 26*c*d^2 - 16*c^2*e + 8*b*d*e + 64*e^2)*alpha"
      ]
     },
     "execution_count": 201,
     "metadata": {},
     "output_type": "execute_result"
    }
   ],
   "source": [
    "trid4or"
   ]
  },
  {
   "cell_type": "code",
   "execution_count": 202,
   "id": "913f278d",
   "metadata": {},
   "outputs": [
    {
     "data": {
      "text/plain": [
       "b^6 - 8*b^4*c + 18*b^2*c^2 + 10*b^3*d - 8*c^3 - 36*b*c*d - 12*b^2*e + 28*d^2 + 32*c*e"
      ]
     },
     "execution_count": 202,
     "metadata": {},
     "output_type": "execute_result"
    }
   ],
   "source": [
    "(b^6 - 8*b^4*c + 18*b^2*c^2 + 10*b^3*d - 8*c^3 - 36*b*c*d - 12*b^2*e + 28*d^2 + 32*c*e)"
   ]
  },
  {
   "cell_type": "code",
   "execution_count": 203,
   "id": "4901c40b",
   "metadata": {},
   "outputs": [
    {
     "data": {
      "text/plain": [
       "[-b^5*e,\n",
       " 7*b^3*c*e,\n",
       " -(b^6 - 8*b^4*c + 18*b^2*c^2 + 10*b^3*d - 8*c^3 - 36*b*c*d - 12*b^2*e + 28*d^2 + 32*c*e)*alpha^3,\n",
       " -12*b*c^2*e,\n",
       " -9*b^2*d*e,\n",
       " -(b^5*c - 7*b^3*c^2 - b^4*d + 12*b*c^3 + 15*b^2*c*d + b^3*e - 36*c^2*d + b*d^2 - 16*b*c*e + 80*d*e)*alpha^2,\n",
       " -d^3,\n",
       " 32*c*d*e,\n",
       " -16*b*e^2,\n",
       " -(b^5*d - 7*b^3*c*d - b^4*e + 12*b*c^2*d + 9*b^2*d^2 + 6*b^2*c*e - 26*c*d^2 - 16*c^2*e + 8*b*d*e + 64*e^2)*alpha]"
      ]
     },
     "execution_count": 203,
     "metadata": {},
     "output_type": "execute_result"
    }
   ],
   "source": [
    "trid4or.operands()"
   ]
  },
  {
   "cell_type": "code",
   "execution_count": 204,
   "id": "171dab31",
   "metadata": {},
   "outputs": [],
   "source": [
    "terms=[-(b^6 - 8*b^4*c + 18*b^2*c^2 + 10*b^3*d - 8*c^3 - 36*b*c*d - 12*b^2*e + 28*d^2 + 32*c*e)*alpha^3,\n",
    "-(b^5*c - 7*b^3*c^2 - b^4*d + 12*b*c^3 + 15*b^2*c*d + b^3*e - 36*c^2*d + b*d^2 - 16*b*c*e + 80*d*e)*alpha^2,\n",
    "-(b^5*d - 7*b^3*c*d - b^4*e + 12*b*c^2*d + 9*b^2*d^2 + 6*b^2*c*e - 26*c*d^2 - 16*c^2*e + 8*b*d*e + 64*e^2)*alpha,\n",
    "-b^5*e+7*b^3*c*e-12*b*c^2*e-9*b^2*d*e-d^3+32*c*d*e-16*b*e^2]"
   ]
  },
  {
   "cell_type": "code",
   "execution_count": 205,
   "id": "4aad23db",
   "metadata": {},
   "outputs": [],
   "source": [
    "terms2=[i.subs({alpha:1}) for i in terms]"
   ]
  },
  {
   "cell_type": "code",
   "execution_count": 206,
   "id": "85f8c2de",
   "metadata": {
    "scrolled": true
   },
   "outputs": [],
   "source": [
    "qu=terms2[2]^2*terms2[1]^2 - 4*terms2[3]*terms2[1]^3 - 4*terms2[2]^3*terms2[0] + 18*terms2[3]*terms2[2]*terms2[1]*terms2[0] - 27*terms2[3]^2*terms2[0]^2"
   ]
  },
  {
   "cell_type": "code",
   "execution_count": 207,
   "id": "52abde17",
   "metadata": {},
   "outputs": [
    {
     "data": {
      "text/plain": [
       "(b^18 - 24*b^16*c + 246*b^14*c^2 + 30*b^15*d - 1396*b^12*c^3 - 606*b^13*c*d + 18*b^14*e + 4737*b^10*c^4 + 5082*b^11*c^2*d + 339*b^12*d^2 - 336*b^12*c*e - 9612*b^8*c^5 - 22650*b^9*c^3*d - 5574*b^10*c*d^2 + 2538*b^10*c^2*e + 450*b^11*d*e + 10800*b^6*c^6 + 56592*b^7*c^4*d + 36535*b^8*c^2*d^2 + 1702*b^9*d^3 - 9844*b^8*c^3*e - 6462*b^9*c*d*e - 207*b^10*e^2 - 5184*b^4*c^7 - 75168*b^5*c^5*d - 119356*b^6*c^3*d^2 - 21702*b^7*c*d^3 + 20368*b^6*c^4*e + 35296*b^7*c^2*d*e + 3834*b^8*d^2*e + 2760*b^8*c*e^2 + 41472*b^3*c^6*d + 194388*b^4*c^4*d^2 + 103524*b^5*c^2*d^3 + 3225*b^6*d^4 - 20688*b^4*c^5*e - 89256*b^5*c^3*d*e - 39288*b^6*c*d^2*e - 13916*b^6*c^2*e^2 - 2412*b^7*d*e^2 - 126288*b^2*c^5*d^2 - 219000*b^3*c^3*d^3 - 29504*b^4*c*d^4 + 7488*b^2*c^6*e + 98112*b^3*c^4*d*e + 136552*b^4*c^2*d^2*e + 11112*b^5*d^3*e + 30784*b^4*c^3*e^2 + 28464*b^5*c*d*e^2 - 5952*b^6*e^3 + 173376*b*c^4*d^3 + 89812*b^2*c^2*d^4 + 276*b^3*d^5 - 29952*b*c^5*d*e - 171008*b^2*c^3*d^2*e - 69568*b^3*c*d^3*e - 22016*b^2*c^4*e^2 - 114176*b^3*c^2*d*e^2 - 6768*b^4*d^2*e^2 + 47616*b^4*c*e^3 - 90944*c^3*d^4 - 1008*b*c*d^5 + 34048*c^4*d^2*e + 110080*b*c^2*d^3*e - 288*b^2*d^4*e - 8192*c^5*e^2 + 149504*b*c^3*d*e^2 + 88320*b^2*c*d^2*e^2 - 109568*b^2*c^2*e^3 - 52224*b^3*d*e^3 + 784*d^6 - 5376*c*d^4*e - 198656*c^2*d^2*e^2 + 9216*b*d^3*e^2 + 65536*c^3*e^3 + 143360*b*c*d*e^3 + 49152*b^2*e^4 - 12288*d^2*e^3 - 131072*c*e^4)*(b^2*c^2*d^2 - 4*b^3*d^3 - 4*b^2*c^3*e + 18*b^3*c*d*e - 27*b^4*e^2 - 4*c^3*d^2 + 18*b*c*d^3 + 16*c^4*e - 80*b*c^2*d*e - 6*b^2*d^2*e + 144*b^2*c*e^2 - 27*d^4 + 144*c*d^2*e - 128*c^2*e^2 - 192*b*d*e^2 + 256*e^3)"
      ]
     },
     "execution_count": 207,
     "metadata": {},
     "output_type": "execute_result"
    }
   ],
   "source": [
    "qu.full_simplify().factor()"
   ]
  },
  {
   "cell_type": "code",
   "execution_count": 208,
   "id": "f458d50d",
   "metadata": {},
   "outputs": [
    {
     "data": {
      "text/plain": [
       "b^18 - 24*b^16*c + 246*b^14*c^2 + 30*b^15*d - 1396*b^12*c^3 - 606*b^13*c*d + 18*b^14*e + 4737*b^10*c^4 + 5082*b^11*c^2*d + 339*b^12*d^2 - 336*b^12*c*e - 9612*b^8*c^5 - 22650*b^9*c^3*d - 5574*b^10*c*d^2 + 2538*b^10*c^2*e + 450*b^11*d*e + 10800*b^6*c^6 + 56592*b^7*c^4*d + 36535*b^8*c^2*d^2 + 1702*b^9*d^3 - 9844*b^8*c^3*e - 6462*b^9*c*d*e - 207*b^10*e^2 - 5184*b^4*c^7 - 75168*b^5*c^5*d - 119356*b^6*c^3*d^2 - 21702*b^7*c*d^3 + 20368*b^6*c^4*e + 35296*b^7*c^2*d*e + 3834*b^8*d^2*e + 2760*b^8*c*e^2 + 41472*b^3*c^6*d + 194388*b^4*c^4*d^2 + 103524*b^5*c^2*d^3 + 3225*b^6*d^4 - 20688*b^4*c^5*e - 89256*b^5*c^3*d*e - 39288*b^6*c*d^2*e - 13916*b^6*c^2*e^2 - 2412*b^7*d*e^2 - 126288*b^2*c^5*d^2 - 219000*b^3*c^3*d^3 - 29504*b^4*c*d^4 + 7488*b^2*c^6*e + 98112*b^3*c^4*d*e + 136552*b^4*c^2*d^2*e + 11112*b^5*d^3*e + 30784*b^4*c^3*e^2 + 28464*b^5*c*d*e^2 - 5952*b^6*e^3 + 173376*b*c^4*d^3 + 89812*b^2*c^2*d^4 + 276*b^3*d^5 - 29952*b*c^5*d*e - 171008*b^2*c^3*d^2*e - 69568*b^3*c*d^3*e - 22016*b^2*c^4*e^2 - 114176*b^3*c^2*d*e^2 - 6768*b^4*d^2*e^2 + 47616*b^4*c*e^3 - 90944*c^3*d^4 - 1008*b*c*d^5 + 34048*c^4*d^2*e + 110080*b*c^2*d^3*e - 288*b^2*d^4*e - 8192*c^5*e^2 + 149504*b*c^3*d*e^2 + 88320*b^2*c*d^2*e^2 - 109568*b^2*c^2*e^3 - 52224*b^3*d*e^3 + 784*d^6 - 5376*c*d^4*e - 198656*c^2*d^2*e^2 + 9216*b*d^3*e^2 + 65536*c^3*e^3 + 143360*b*c*d*e^3 + 49152*b^2*e^4 - 12288*d^2*e^3 - 131072*c*e^4"
      ]
     },
     "execution_count": 208,
     "metadata": {},
     "output_type": "execute_result"
    }
   ],
   "source": [
    "(b^18 - 24*b^16*c + 246*b^14*c^2 + 30*b^15*d - 1396*b^12*c^3 - 606*b^13*c*d + 18*b^14*e + 4737*b^10*c^4 + 5082*b^11*c^2*d + 339*b^12*d^2 - 336*b^12*c*e - 9612*b^8*c^5 - 22650*b^9*c^3*d - 5574*b^10*c*d^2 + 2538*b^10*c^2*e + 450*b^11*d*e + 10800*b^6*c^6 + 56592*b^7*c^4*d + 36535*b^8*c^2*d^2 + 1702*b^9*d^3 - 9844*b^8*c^3*e - 6462*b^9*c*d*e - 207*b^10*e^2 - 5184*b^4*c^7 - 75168*b^5*c^5*d - 119356*b^6*c^3*d^2 - 21702*b^7*c*d^3 + 20368*b^6*c^4*e + 35296*b^7*c^2*d*e + 3834*b^8*d^2*e + 2760*b^8*c*e^2 + 41472*b^3*c^6*d + 194388*b^4*c^4*d^2 + 103524*b^5*c^2*d^3 + 3225*b^6*d^4 - 20688*b^4*c^5*e - 89256*b^5*c^3*d*e - 39288*b^6*c*d^2*e - 13916*b^6*c^2*e^2 - 2412*b^7*d*e^2 - 126288*b^2*c^5*d^2 - 219000*b^3*c^3*d^3 - 29504*b^4*c*d^4 + 7488*b^2*c^6*e + 98112*b^3*c^4*d*e + 136552*b^4*c^2*d^2*e + 11112*b^5*d^3*e + 30784*b^4*c^3*e^2 + 28464*b^5*c*d*e^2 - 5952*b^6*e^3 + 173376*b*c^4*d^3 + 89812*b^2*c^2*d^4 + 276*b^3*d^5 - 29952*b*c^5*d*e - 171008*b^2*c^3*d^2*e - 69568*b^3*c*d^3*e - 22016*b^2*c^4*e^2 - 114176*b^3*c^2*d*e^2 - 6768*b^4*d^2*e^2 + 47616*b^4*c*e^3 - 90944*c^3*d^4 - 1008*b*c*d^5 + 34048*c^4*d^2*e + 110080*b*c^2*d^3*e - 288*b^2*d^4*e - 8192*c^5*e^2 + 149504*b*c^3*d*e^2 + 88320*b^2*c*d^2*e^2 - 109568*b^2*c^2*e^3 - 52224*b^3*d*e^3 + 784*d^6 - 5376*c*d^4*e - 198656*c^2*d^2*e^2 + 9216*b*d^3*e^2 + 65536*c^3*e^3 + 143360*b*c*d*e^3 + 49152*b^2*e^4 - 12288*d^2*e^3 - 131072*c*e^4).factor()"
   ]
  },
  {
   "cell_type": "code",
   "execution_count": 209,
   "id": "8c29fd6e",
   "metadata": {},
   "outputs": [],
   "source": [
    "pix=trid4or.subs({alpha:1})"
   ]
  },
  {
   "cell_type": "code",
   "execution_count": null,
   "id": "949cd058",
   "metadata": {},
   "outputs": [],
   "source": []
  },
  {
   "cell_type": "code",
   "execution_count": 210,
   "id": "e3b9af54",
   "metadata": {},
   "outputs": [],
   "source": [
    "pix2=pix.operands()"
   ]
  },
  {
   "cell_type": "code",
   "execution_count": 211,
   "id": "f00cc820",
   "metadata": {},
   "outputs": [],
   "source": [
    "#pix2=trid4or.operands()"
   ]
  },
  {
   "cell_type": "code",
   "execution_count": 212,
   "id": "9dffc0f1",
   "metadata": {},
   "outputs": [
    {
     "data": {
      "text/plain": [
       "36"
      ]
     },
     "execution_count": 212,
     "metadata": {},
     "output_type": "execute_result"
    }
   ],
   "source": [
    "len(pix2)"
   ]
  },
  {
   "cell_type": "code",
   "execution_count": 213,
   "id": "d193a4ed",
   "metadata": {},
   "outputs": [],
   "source": [
    "pix3=[i.subs({b:1,c:1,d:1,e:1}).abs() for i in pix2]"
   ]
  },
  {
   "cell_type": "code",
   "execution_count": 214,
   "id": "2073751a",
   "metadata": {},
   "outputs": [],
   "source": [
    "pix4=sorted(pix3)"
   ]
  },
  {
   "cell_type": "code",
   "execution_count": 215,
   "id": "b43059ff",
   "metadata": {},
   "outputs": [
    {
     "data": {
      "text/plain": [
       "[1,\n",
       " 1,\n",
       " 1,\n",
       " 1,\n",
       " 1,\n",
       " 1,\n",
       " 1,\n",
       " 1,\n",
       " 1,\n",
       " 6,\n",
       " 7,\n",
       " 7,\n",
       " 7,\n",
       " 8,\n",
       " 8,\n",
       " 8,\n",
       " 9,\n",
       " 9,\n",
       " 10,\n",
       " 12,\n",
       " 12,\n",
       " 12,\n",
       " 12,\n",
       " 15,\n",
       " 16,\n",
       " 16,\n",
       " 16,\n",
       " 18,\n",
       " 26,\n",
       " 28,\n",
       " 32,\n",
       " 32,\n",
       " 36,\n",
       " 36,\n",
       " 64,\n",
       " 80]"
      ]
     },
     "execution_count": 215,
     "metadata": {},
     "output_type": "execute_result"
    }
   ],
   "source": [
    "pix4"
   ]
  },
  {
   "cell_type": "code",
   "execution_count": 216,
   "id": "f6e261b7",
   "metadata": {},
   "outputs": [
    {
     "data": {
      "text/plain": [
       "16"
      ]
     },
     "execution_count": 216,
     "metadata": {},
     "output_type": "execute_result"
    }
   ],
   "source": [
    "len(set(pix4))"
   ]
  },
  {
   "cell_type": "code",
   "execution_count": 217,
   "id": "3e6318f3",
   "metadata": {},
   "outputs": [
    {
     "data": {
      "text/plain": [
       "5^3"
      ]
     },
     "execution_count": 217,
     "metadata": {},
     "output_type": "execute_result"
    }
   ],
   "source": [
    "125.factor()"
   ]
  },
  {
   "cell_type": "code",
   "execution_count": 218,
   "id": "e21719b3",
   "metadata": {},
   "outputs": [
    {
     "data": {
      "text/plain": [
       "-b^5*e + 7*b^3*c*e - (b^6 - 8*b^4*c + 18*b^2*c^2 + 10*b^3*d - 8*c^3 - 36*b*c*d - 12*b^2*e + 28*d^2 + 32*c*e)*alpha^3 - 12*b*c^2*e - 9*b^2*d*e - (b^5*c - 7*b^3*c^2 - b^4*d + 12*b*c^3 + 15*b^2*c*d + b^3*e - 36*c^2*d + b*d^2 - 16*b*c*e + 80*d*e)*alpha^2 - d^3 + 32*c*d*e - 16*b*e^2 - (b^5*d - 7*b^3*c*d - b^4*e + 12*b*c^2*d + 9*b^2*d^2 + 6*b^2*c*e - 26*c*d^2 - 16*c^2*e + 8*b*d*e + 64*e^2)*alpha"
      ]
     },
     "execution_count": 218,
     "metadata": {},
     "output_type": "execute_result"
    }
   ],
   "source": [
    "trid4or"
   ]
  },
  {
   "cell_type": "code",
   "execution_count": 219,
   "id": "6d371a01",
   "metadata": {},
   "outputs": [
    {
     "data": {
      "text/plain": [
       "(9, 10, 10, 7)"
      ]
     },
     "execution_count": 219,
     "metadata": {},
     "output_type": "execute_result"
    }
   ],
   "source": [
    "9,10,10,7"
   ]
  },
  {
   "cell_type": "code",
   "execution_count": null,
   "id": "8fbff720",
   "metadata": {},
   "outputs": [],
   "source": []
  },
  {
   "cell_type": "markdown",
   "id": "5ed25089",
   "metadata": {},
   "source": [
    "###### 12+6"
   ]
  },
  {
   "cell_type": "code",
   "execution_count": 220,
   "id": "62626f95",
   "metadata": {
    "scrolled": true
   },
   "outputs": [
    {
     "data": {
      "text/plain": [
       "-1/3*(3*b^4 - 16*b^2*c + 64*b*d - 256*e)*alpha^8 - 8/3*(b^3*c - 8*b*c^2 + 10*b^2*d + 16*c*d - 64*b*e)*alpha^7 + 4/3*(2*b^2*c^2 - 13*b^3*d + 16*c^3 - 24*b*c*d + 88*b^2*e - 48*d^2 + 64*c*e)*alpha^6 + 8/3*(4*b*c^3 - 15*b^2*c*d + 6*b^3*e + 16*c^2*d - 28*b*d^2 + 64*b*c*e - 32*d*e)*alpha^5 + 2/3*(8*c^4 - 8*b*c^2*d - 73*b^2*d^2 + 40*b^2*c*e + 40*c*d^2 + 192*c^2*e - 96*b*d*e - 128*e^2)*alpha^4 + 8/3*(4*c^3*d - 15*b*c*d^2 + 16*b*c^2*e - 28*b^2*d*e + 6*d^3 + 64*c*d*e - 32*b*e^2)*alpha^3 - d^4 + 16/3*c*d^2*e - 64/3*b*d*e^2 + 4/3*(2*c^2*d^2 - 13*b*d^3 + 16*c^3*e - 24*b*c*d*e - 48*b^2*e^2 + 88*d^2*e + 64*c*e^2)*alpha^2 + 256/3*e^3 - 8/3*(c*d^3 - 8*c^2*d*e + 10*b*d^2*e + 16*b*c*e^2 - 64*d*e^2)*alpha"
      ]
     },
     "execution_count": 220,
     "metadata": {},
     "output_type": "execute_result"
    }
   ],
   "source": [
    "mycollect(force,alpha)"
   ]
  },
  {
   "cell_type": "code",
   "execution_count": 221,
   "id": "ae642018",
   "metadata": {},
   "outputs": [],
   "source": [
    "expre=(-1/3*(3*b^4 - 16*b^2*c + 64*b*d - 256*e)*(((alpha^4 + alpha^3*b + alpha^2*c + alpha*d + e)^2).expand()))"
   ]
  },
  {
   "cell_type": "code",
   "execution_count": 222,
   "id": "83c665f3",
   "metadata": {},
   "outputs": [],
   "source": [
    "expre2=(-1/3*(3*b^4 - 16*b^2*c + 64*b*d - 256*e)*((alpha^4*(alpha^4 + alpha^3*b + alpha^2*c + alpha*d + e)).expand()))"
   ]
  },
  {
   "cell_type": "code",
   "execution_count": 223,
   "id": "4edc706b",
   "metadata": {},
   "outputs": [
    {
     "data": {
      "text/plain": [
       "-1/3*(3*b^4 - 16*b^2*c + 64*b*d - 256*e)*alpha^8 - 1/3*(3*b^5 - 16*b^3*c + 64*b^2*d - 256*b*e)*alpha^7 - 1/3*(3*b^4*c - 16*b^2*c^2 + 64*b*c*d - 256*c*e)*alpha^6 - 1/3*(3*b^4*d - 16*b^2*c*d + 64*b*d^2 - 256*d*e)*alpha^5 - 1/3*(3*b^4*e - 16*b^2*c*e + 64*b*d*e - 256*e^2)*alpha^4"
      ]
     },
     "execution_count": 223,
     "metadata": {},
     "output_type": "execute_result"
    }
   ],
   "source": [
    "mycollect(expre2,alpha)"
   ]
  },
  {
   "cell_type": "code",
   "execution_count": 224,
   "id": "ef72e1a1",
   "metadata": {},
   "outputs": [],
   "source": [
    "force2=(force-expre2).full_simplify().factor()"
   ]
  },
  {
   "cell_type": "code",
   "execution_count": 225,
   "id": "63e83f0b",
   "metadata": {},
   "outputs": [
    {
     "data": {
      "text/plain": [
       "1/3*(3*b^5 - 24*b^3*c + 64*b*c^2 - 16*b^2*d - 128*c*d + 256*b*e)*alpha^7 + 1/3*(3*b^4*c - 8*b^2*c^2 - 52*b^3*d + 64*c^3 - 32*b*c*d + 352*b^2*e - 192*d^2)*alpha^6 + 1/3*(3*b^4*d + 32*b*c^3 - 136*b^2*c*d + 48*b^3*e + 128*c^2*d - 160*b*d^2 + 512*b*c*e - 512*d*e)*alpha^5 + 1/3*(3*b^4*e + 16*c^4 - 16*b*c^2*d - 146*b^2*d^2 + 64*b^2*c*e + 80*c*d^2 + 384*c^2*e - 128*b*d*e - 512*e^2)*alpha^4 + 8/3*(4*c^3*d - 15*b*c*d^2 + 16*b*c^2*e - 28*b^2*d*e + 6*d^3 + 64*c*d*e - 32*b*e^2)*alpha^3 - d^4 + 16/3*c*d^2*e - 64/3*b*d*e^2 + 4/3*(2*c^2*d^2 - 13*b*d^3 + 16*c^3*e - 24*b*c*d*e - 48*b^2*e^2 + 88*d^2*e + 64*c*e^2)*alpha^2 + 256/3*e^3 - 8/3*(c*d^3 - 8*c^2*d*e + 10*b*d^2*e + 16*b*c*e^2 - 64*d*e^2)*alpha"
      ]
     },
     "execution_count": 225,
     "metadata": {},
     "output_type": "execute_result"
    }
   ],
   "source": [
    "mycollect(force2,alpha)"
   ]
  },
  {
   "cell_type": "code",
   "execution_count": 226,
   "id": "028f3768",
   "metadata": {},
   "outputs": [],
   "source": [
    "trid_x(x)=trid.subs({alpha:x})\n",
    "quad_x(x)=quad.subs({alpha:x})\n",
    "force_x(x)=force.subs({alpha:x})"
   ]
  },
  {
   "cell_type": "code",
   "execution_count": 227,
   "id": "636b51f0",
   "metadata": {},
   "outputs": [],
   "source": [
    "tmp(x)=trid_x*quad_x"
   ]
  },
  {
   "cell_type": "code",
   "execution_count": null,
   "id": "1f8fce7a",
   "metadata": {},
   "outputs": [],
   "source": []
  },
  {
   "cell_type": "code",
   "execution_count": 228,
   "id": "f3d23df5",
   "metadata": {},
   "outputs": [],
   "source": [
    "newtrid=(mycollect(trid,alpha)-((b^3 - 4*b*c + 8*d)*alpha^2*(alpha^4 + alpha^3*b + alpha^2*c + alpha*d + e))).full_simplify()"
   ]
  },
  {
   "cell_type": "code",
   "execution_count": 229,
   "id": "ddaa7578",
   "metadata": {},
   "outputs": [],
   "source": [
    "newtrid2=(mycollect(newtrid,alpha)+(b^4 - 6*b^2*c + 8*c^2 + 4*b*d - 32*e)*alpha*(alpha^4 + alpha^3*b + alpha^2*c + alpha*d + e)).full_simplify()"
   ]
  },
  {
   "cell_type": "code",
   "execution_count": 230,
   "id": "e8897423",
   "metadata": {},
   "outputs": [],
   "source": [
    "newtrid2_x(x)=mycollect(newtrid2,alpha).subs({alpha:x})"
   ]
  },
  {
   "cell_type": "code",
   "execution_count": 231,
   "id": "de658e2d",
   "metadata": {},
   "outputs": [
    {
     "ename": "NameError",
     "evalue": "name 'quador_x' is not defined",
     "output_type": "error",
     "traceback": [
      "\u001b[0;31m---------------------------------------------------------------------------\u001b[0m",
      "\u001b[0;31mNameError\u001b[0m                                 Traceback (most recent call last)",
      "Cell \u001b[0;32mIn[231], line 1\u001b[0m\n\u001b[0;32m----> 1\u001b[0m q1,r1\u001b[38;5;241m=\u001b[39mdivision(newtrid2_x,\u001b[43mquador_x\u001b[49m)\n",
      "\u001b[0;31mNameError\u001b[0m: name 'quador_x' is not defined"
     ]
    }
   ],
   "source": []
  },
  {
   "cell_type": "code",
   "execution_count": null,
   "id": "c5875e4c",
   "metadata": {},
   "outputs": [],
   "source": [
    "tridor_x=trid4or.subs({alpha:x})"
   ]
  },
  {
   "cell_type": "code",
   "execution_count": null,
   "id": "0bf10218",
   "metadata": {},
   "outputs": [],
   "source": [
    "quador_x=quad2or.subs({alpha:x})"
   ]
  },
  {
   "cell_type": "code",
   "execution_count": null,
   "id": "612d7071",
   "metadata": {},
   "outputs": [],
   "source": [
    "q1,r1=division(newtrid2_x,quador_x)"
   ]
  },
  {
   "cell_type": "code",
   "execution_count": null,
   "id": "aec04ee9",
   "metadata": {},
   "outputs": [],
   "source": [
    "q1.full_simplify().factor()"
   ]
  },
  {
   "cell_type": "code",
   "execution_count": null,
   "id": "02c57800",
   "metadata": {},
   "outputs": [],
   "source": [
    "r1.subs({x:0}).full_simplify().factor()"
   ]
  },
  {
   "cell_type": "code",
   "execution_count": null,
   "id": "ed0c41e7",
   "metadata": {},
   "outputs": [],
   "source": [
    "ver=(3*b^2 - 8*c).subs({b:-(x_1+x_2+x_3+x_4),c:(x_3*x_4+x_2*x_4+x_2*x_3+x_1*x_4+x_1*x_3+x_1*x_2),d:-(x_1*x_2*x_3+x_1*x_2*x_4+x_1*x_3*x_4+x_2*x_3*x_4),e:(x_1*x_2*x_3*x_4)})"
   ]
  },
  {
   "cell_type": "code",
   "execution_count": null,
   "id": "b5195058",
   "metadata": {},
   "outputs": [],
   "source": [
    "ver.factor()"
   ]
  },
  {
   "cell_type": "code",
   "execution_count": null,
   "id": "4064b9bd",
   "metadata": {},
   "outputs": [],
   "source": [
    "newb"
   ]
  },
  {
   "cell_type": "code",
   "execution_count": null,
   "id": "62b3eece",
   "metadata": {},
   "outputs": [],
   "source": [
    "newc"
   ]
  },
  {
   "cell_type": "code",
   "execution_count": null,
   "id": "8c944de2",
   "metadata": {},
   "outputs": [],
   "source": [
    "dosb"
   ]
  },
  {
   "cell_type": "code",
   "execution_count": null,
   "id": "8aec886c",
   "metadata": {},
   "outputs": [],
   "source": [
    "dosc"
   ]
  },
  {
   "cell_type": "code",
   "execution_count": null,
   "id": "5757a5a2",
   "metadata": {},
   "outputs": [],
   "source": [
    "2,2"
   ]
  },
  {
   "cell_type": "code",
   "execution_count": null,
   "id": "1a4fc387",
   "metadata": {},
   "outputs": [],
   "source": [
    "3,2,1"
   ]
  },
  {
   "cell_type": "code",
   "execution_count": null,
   "id": "28f76ccb",
   "metadata": {},
   "outputs": [],
   "source": [
    "sirat"
   ]
  },
  {
   "cell_type": "code",
   "execution_count": null,
   "id": "5105c578",
   "metadata": {},
   "outputs": [],
   "source": [
    "ratio3"
   ]
  },
  {
   "cell_type": "code",
   "execution_count": null,
   "id": "4d74b42d",
   "metadata": {},
   "outputs": [],
   "source": []
  }
 ],
 "metadata": {
  "kernelspec": {
   "display_name": "SageMath 9.7 [conda env:sagemath]",
   "language": "sage",
   "name": "conda-env-sagemath-sagemath"
  },
  "language_info": {
   "codemirror_mode": {
    "name": "ipython",
    "version": 3
   },
   "file_extension": ".py",
   "mimetype": "text/x-python",
   "name": "python",
   "nbconvert_exporter": "python",
   "pygments_lexer": "ipython3",
   "version": "3.10.4"
  }
 },
 "nbformat": 4,
 "nbformat_minor": 5
}
