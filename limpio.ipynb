{
 "cells": [
  {
   "cell_type": "code",
   "execution_count": 1,
   "id": "a17069c7",
   "metadata": {},
   "outputs": [],
   "source": [
    "from tqdm.notebook import trange, tqdm\n",
    "import pickle as pkl\n",
    "import numpy as np\n",
    "from sage.symbolic.expression_conversions import PolynomialConverter"
   ]
  },
  {
   "cell_type": "code",
   "execution_count": 2,
   "id": "5a6c9847",
   "metadata": {},
   "outputs": [],
   "source": [
    "def mycollect(e1, e2):\n",
    "    \"\"\"\n",
    "    Collects e2 coefficients in e1, even when e2 is not a factor of\n",
    "    some of the terms of e1\n",
    "    \"\"\"\n",
    "    g = maxima_calculus.gensym()._sage_()\n",
    "    while g in e1.variables(): g = maxima_calculus.gensym()._sage_()\n",
    "    return sum([v[0]*g^v[1]\n",
    "                for v in e1.subs(e2==g).coefficients(g)]).subs(g==e2)"
   ]
  },
  {
   "cell_type": "code",
   "execution_count": 3,
   "id": "9b10c3df",
   "metadata": {},
   "outputs": [],
   "source": [
    "var_list=[\"a\"+str(i) for i in range(0,100)]+[\"x\"+str(i) for i in range(0,100)]+[\"s1\",\"s2\"]+[\"e\"+str(i) for i in range(0,1000)]"
   ]
  },
  {
   "cell_type": "code",
   "execution_count": 227,
   "id": "1e6a0bef",
   "metadata": {},
   "outputs": [
    {
     "data": {
      "text/plain": [
       "(a0,\n",
       " a1,\n",
       " a2,\n",
       " a3,\n",
       " a4,\n",
       " a5,\n",
       " a6,\n",
       " a7,\n",
       " a8,\n",
       " a9,\n",
       " a10,\n",
       " a11,\n",
       " a12,\n",
       " a13,\n",
       " a14,\n",
       " a15,\n",
       " a16,\n",
       " a17,\n",
       " a18,\n",
       " a19,\n",
       " a20,\n",
       " a21,\n",
       " a22,\n",
       " a23,\n",
       " a24,\n",
       " a25,\n",
       " a26,\n",
       " a27,\n",
       " a28,\n",
       " a29,\n",
       " a30,\n",
       " a31,\n",
       " a32,\n",
       " a33,\n",
       " a34,\n",
       " a35,\n",
       " a36,\n",
       " a37,\n",
       " a38,\n",
       " a39,\n",
       " a40,\n",
       " a41,\n",
       " a42,\n",
       " a43,\n",
       " a44,\n",
       " a45,\n",
       " a46,\n",
       " a47,\n",
       " a48,\n",
       " a49,\n",
       " a50,\n",
       " a51,\n",
       " a52,\n",
       " a53,\n",
       " a54,\n",
       " a55,\n",
       " a56,\n",
       " a57,\n",
       " a58,\n",
       " a59,\n",
       " a60,\n",
       " a61,\n",
       " a62,\n",
       " a63,\n",
       " a64,\n",
       " a65,\n",
       " a66,\n",
       " a67,\n",
       " a68,\n",
       " a69,\n",
       " a70,\n",
       " a71,\n",
       " a72,\n",
       " a73,\n",
       " a74,\n",
       " a75,\n",
       " a76,\n",
       " a77,\n",
       " a78,\n",
       " a79,\n",
       " a80,\n",
       " a81,\n",
       " a82,\n",
       " a83,\n",
       " a84,\n",
       " a85,\n",
       " a86,\n",
       " a87,\n",
       " a88,\n",
       " a89,\n",
       " a90,\n",
       " a91,\n",
       " a92,\n",
       " a93,\n",
       " a94,\n",
       " a95,\n",
       " a96,\n",
       " a97,\n",
       " a98,\n",
       " a99,\n",
       " x0,\n",
       " x1,\n",
       " x2,\n",
       " x3,\n",
       " x4,\n",
       " x5,\n",
       " x6,\n",
       " x7,\n",
       " x8,\n",
       " x9,\n",
       " x10,\n",
       " x11,\n",
       " x12,\n",
       " x13,\n",
       " x14,\n",
       " x15,\n",
       " x16,\n",
       " x17,\n",
       " x18,\n",
       " x19,\n",
       " x20,\n",
       " x21,\n",
       " x22,\n",
       " x23,\n",
       " x24,\n",
       " x25,\n",
       " x26,\n",
       " x27,\n",
       " x28,\n",
       " x29,\n",
       " x30,\n",
       " x31,\n",
       " x32,\n",
       " x33,\n",
       " x34,\n",
       " x35,\n",
       " x36,\n",
       " x37,\n",
       " x38,\n",
       " x39,\n",
       " x40,\n",
       " x41,\n",
       " x42,\n",
       " x43,\n",
       " x44,\n",
       " x45,\n",
       " x46,\n",
       " x47,\n",
       " x48,\n",
       " x49,\n",
       " x50,\n",
       " x51,\n",
       " x52,\n",
       " x53,\n",
       " x54,\n",
       " x55,\n",
       " x56,\n",
       " x57,\n",
       " x58,\n",
       " x59,\n",
       " x60,\n",
       " x61,\n",
       " x62,\n",
       " x63,\n",
       " x64,\n",
       " x65,\n",
       " x66,\n",
       " x67,\n",
       " x68,\n",
       " x69,\n",
       " x70,\n",
       " x71,\n",
       " x72,\n",
       " x73,\n",
       " x74,\n",
       " x75,\n",
       " x76,\n",
       " x77,\n",
       " x78,\n",
       " x79,\n",
       " x80,\n",
       " x81,\n",
       " x82,\n",
       " x83,\n",
       " x84,\n",
       " x85,\n",
       " x86,\n",
       " x87,\n",
       " x88,\n",
       " x89,\n",
       " x90,\n",
       " x91,\n",
       " x92,\n",
       " x93,\n",
       " x94,\n",
       " x95,\n",
       " x96,\n",
       " x97,\n",
       " x98,\n",
       " x99,\n",
       " s1,\n",
       " s2,\n",
       " e0,\n",
       " e1,\n",
       " e2,\n",
       " e3,\n",
       " e4,\n",
       " e5,\n",
       " e6,\n",
       " e7,\n",
       " e8,\n",
       " e9,\n",
       " e10,\n",
       " e11,\n",
       " e12,\n",
       " e13,\n",
       " e14,\n",
       " e15,\n",
       " e16,\n",
       " e17,\n",
       " e18,\n",
       " e19,\n",
       " e20,\n",
       " e21,\n",
       " e22,\n",
       " e23,\n",
       " e24,\n",
       " e25,\n",
       " e26,\n",
       " e27,\n",
       " e28,\n",
       " e29,\n",
       " e30,\n",
       " e31,\n",
       " e32,\n",
       " e33,\n",
       " e34,\n",
       " e35,\n",
       " e36,\n",
       " e37,\n",
       " e38,\n",
       " e39,\n",
       " e40,\n",
       " e41,\n",
       " e42,\n",
       " e43,\n",
       " e44,\n",
       " e45,\n",
       " e46,\n",
       " e47,\n",
       " e48,\n",
       " e49,\n",
       " e50,\n",
       " e51,\n",
       " e52,\n",
       " e53,\n",
       " e54,\n",
       " e55,\n",
       " e56,\n",
       " e57,\n",
       " e58,\n",
       " e59,\n",
       " e60,\n",
       " e61,\n",
       " e62,\n",
       " e63,\n",
       " e64,\n",
       " e65,\n",
       " e66,\n",
       " e67,\n",
       " e68,\n",
       " e69,\n",
       " e70,\n",
       " e71,\n",
       " e72,\n",
       " e73,\n",
       " e74,\n",
       " e75,\n",
       " e76,\n",
       " e77,\n",
       " e78,\n",
       " e79,\n",
       " e80,\n",
       " e81,\n",
       " e82,\n",
       " e83,\n",
       " e84,\n",
       " e85,\n",
       " e86,\n",
       " e87,\n",
       " e88,\n",
       " e89,\n",
       " e90,\n",
       " e91,\n",
       " e92,\n",
       " e93,\n",
       " e94,\n",
       " e95,\n",
       " e96,\n",
       " e97,\n",
       " e98,\n",
       " e99,\n",
       " e100,\n",
       " e101,\n",
       " e102,\n",
       " e103,\n",
       " e104,\n",
       " e105,\n",
       " e106,\n",
       " e107,\n",
       " e108,\n",
       " e109,\n",
       " e110,\n",
       " e111,\n",
       " e112,\n",
       " e113,\n",
       " e114,\n",
       " e115,\n",
       " e116,\n",
       " e117,\n",
       " e118,\n",
       " e119,\n",
       " e120,\n",
       " e121,\n",
       " e122,\n",
       " e123,\n",
       " e124,\n",
       " e125,\n",
       " e126,\n",
       " e127,\n",
       " e128,\n",
       " e129,\n",
       " e130,\n",
       " e131,\n",
       " e132,\n",
       " e133,\n",
       " e134,\n",
       " e135,\n",
       " e136,\n",
       " e137,\n",
       " e138,\n",
       " e139,\n",
       " e140,\n",
       " e141,\n",
       " e142,\n",
       " e143,\n",
       " e144,\n",
       " e145,\n",
       " e146,\n",
       " e147,\n",
       " e148,\n",
       " e149,\n",
       " e150,\n",
       " e151,\n",
       " e152,\n",
       " e153,\n",
       " e154,\n",
       " e155,\n",
       " e156,\n",
       " e157,\n",
       " e158,\n",
       " e159,\n",
       " e160,\n",
       " e161,\n",
       " e162,\n",
       " e163,\n",
       " e164,\n",
       " e165,\n",
       " e166,\n",
       " e167,\n",
       " e168,\n",
       " e169,\n",
       " e170,\n",
       " e171,\n",
       " e172,\n",
       " e173,\n",
       " e174,\n",
       " e175,\n",
       " e176,\n",
       " e177,\n",
       " e178,\n",
       " e179,\n",
       " e180,\n",
       " e181,\n",
       " e182,\n",
       " e183,\n",
       " e184,\n",
       " e185,\n",
       " e186,\n",
       " e187,\n",
       " e188,\n",
       " e189,\n",
       " e190,\n",
       " e191,\n",
       " e192,\n",
       " e193,\n",
       " e194,\n",
       " e195,\n",
       " e196,\n",
       " e197,\n",
       " e198,\n",
       " e199,\n",
       " e200,\n",
       " e201,\n",
       " e202,\n",
       " e203,\n",
       " e204,\n",
       " e205,\n",
       " e206,\n",
       " e207,\n",
       " e208,\n",
       " e209,\n",
       " e210,\n",
       " e211,\n",
       " e212,\n",
       " e213,\n",
       " e214,\n",
       " e215,\n",
       " e216,\n",
       " e217,\n",
       " e218,\n",
       " e219,\n",
       " e220,\n",
       " e221,\n",
       " e222,\n",
       " e223,\n",
       " e224,\n",
       " e225,\n",
       " e226,\n",
       " e227,\n",
       " e228,\n",
       " e229,\n",
       " e230,\n",
       " e231,\n",
       " e232,\n",
       " e233,\n",
       " e234,\n",
       " e235,\n",
       " e236,\n",
       " e237,\n",
       " e238,\n",
       " e239,\n",
       " e240,\n",
       " e241,\n",
       " e242,\n",
       " e243,\n",
       " e244,\n",
       " e245,\n",
       " e246,\n",
       " e247,\n",
       " e248,\n",
       " e249,\n",
       " e250,\n",
       " e251,\n",
       " e252,\n",
       " e253,\n",
       " e254,\n",
       " e255,\n",
       " e256,\n",
       " e257,\n",
       " e258,\n",
       " e259,\n",
       " e260,\n",
       " e261,\n",
       " e262,\n",
       " e263,\n",
       " e264,\n",
       " e265,\n",
       " e266,\n",
       " e267,\n",
       " e268,\n",
       " e269,\n",
       " e270,\n",
       " e271,\n",
       " e272,\n",
       " e273,\n",
       " e274,\n",
       " e275,\n",
       " e276,\n",
       " e277,\n",
       " e278,\n",
       " e279,\n",
       " e280,\n",
       " e281,\n",
       " e282,\n",
       " e283,\n",
       " e284,\n",
       " e285,\n",
       " e286,\n",
       " e287,\n",
       " e288,\n",
       " e289,\n",
       " e290,\n",
       " e291,\n",
       " e292,\n",
       " e293,\n",
       " e294,\n",
       " e295,\n",
       " e296,\n",
       " e297,\n",
       " e298,\n",
       " e299,\n",
       " e300,\n",
       " e301,\n",
       " e302,\n",
       " e303,\n",
       " e304,\n",
       " e305,\n",
       " e306,\n",
       " e307,\n",
       " e308,\n",
       " e309,\n",
       " e310,\n",
       " e311,\n",
       " e312,\n",
       " e313,\n",
       " e314,\n",
       " e315,\n",
       " e316,\n",
       " e317,\n",
       " e318,\n",
       " e319,\n",
       " e320,\n",
       " e321,\n",
       " e322,\n",
       " e323,\n",
       " e324,\n",
       " e325,\n",
       " e326,\n",
       " e327,\n",
       " e328,\n",
       " e329,\n",
       " e330,\n",
       " e331,\n",
       " e332,\n",
       " e333,\n",
       " e334,\n",
       " e335,\n",
       " e336,\n",
       " e337,\n",
       " e338,\n",
       " e339,\n",
       " e340,\n",
       " e341,\n",
       " e342,\n",
       " e343,\n",
       " e344,\n",
       " e345,\n",
       " e346,\n",
       " e347,\n",
       " e348,\n",
       " e349,\n",
       " e350,\n",
       " e351,\n",
       " e352,\n",
       " e353,\n",
       " e354,\n",
       " e355,\n",
       " e356,\n",
       " e357,\n",
       " e358,\n",
       " e359,\n",
       " e360,\n",
       " e361,\n",
       " e362,\n",
       " e363,\n",
       " e364,\n",
       " e365,\n",
       " e366,\n",
       " e367,\n",
       " e368,\n",
       " e369,\n",
       " e370,\n",
       " e371,\n",
       " e372,\n",
       " e373,\n",
       " e374,\n",
       " e375,\n",
       " e376,\n",
       " e377,\n",
       " e378,\n",
       " e379,\n",
       " e380,\n",
       " e381,\n",
       " e382,\n",
       " e383,\n",
       " e384,\n",
       " e385,\n",
       " e386,\n",
       " e387,\n",
       " e388,\n",
       " e389,\n",
       " e390,\n",
       " e391,\n",
       " e392,\n",
       " e393,\n",
       " e394,\n",
       " e395,\n",
       " e396,\n",
       " e397,\n",
       " e398,\n",
       " e399,\n",
       " e400,\n",
       " e401,\n",
       " e402,\n",
       " e403,\n",
       " e404,\n",
       " e405,\n",
       " e406,\n",
       " e407,\n",
       " e408,\n",
       " e409,\n",
       " e410,\n",
       " e411,\n",
       " e412,\n",
       " e413,\n",
       " e414,\n",
       " e415,\n",
       " e416,\n",
       " e417,\n",
       " e418,\n",
       " e419,\n",
       " e420,\n",
       " e421,\n",
       " e422,\n",
       " e423,\n",
       " e424,\n",
       " e425,\n",
       " e426,\n",
       " e427,\n",
       " e428,\n",
       " e429,\n",
       " e430,\n",
       " e431,\n",
       " e432,\n",
       " e433,\n",
       " e434,\n",
       " e435,\n",
       " e436,\n",
       " e437,\n",
       " e438,\n",
       " e439,\n",
       " e440,\n",
       " e441,\n",
       " e442,\n",
       " e443,\n",
       " e444,\n",
       " e445,\n",
       " e446,\n",
       " e447,\n",
       " e448,\n",
       " e449,\n",
       " e450,\n",
       " e451,\n",
       " e452,\n",
       " e453,\n",
       " e454,\n",
       " e455,\n",
       " e456,\n",
       " e457,\n",
       " e458,\n",
       " e459,\n",
       " e460,\n",
       " e461,\n",
       " e462,\n",
       " e463,\n",
       " e464,\n",
       " e465,\n",
       " e466,\n",
       " e467,\n",
       " e468,\n",
       " e469,\n",
       " e470,\n",
       " e471,\n",
       " e472,\n",
       " e473,\n",
       " e474,\n",
       " e475,\n",
       " e476,\n",
       " e477,\n",
       " e478,\n",
       " e479,\n",
       " e480,\n",
       " e481,\n",
       " e482,\n",
       " e483,\n",
       " e484,\n",
       " e485,\n",
       " e486,\n",
       " e487,\n",
       " e488,\n",
       " e489,\n",
       " e490,\n",
       " e491,\n",
       " e492,\n",
       " e493,\n",
       " e494,\n",
       " e495,\n",
       " e496,\n",
       " e497,\n",
       " e498,\n",
       " e499,\n",
       " e500,\n",
       " e501,\n",
       " e502,\n",
       " e503,\n",
       " e504,\n",
       " e505,\n",
       " e506,\n",
       " e507,\n",
       " e508,\n",
       " e509,\n",
       " e510,\n",
       " e511,\n",
       " e512,\n",
       " e513,\n",
       " e514,\n",
       " e515,\n",
       " e516,\n",
       " e517,\n",
       " e518,\n",
       " e519,\n",
       " e520,\n",
       " e521,\n",
       " e522,\n",
       " e523,\n",
       " e524,\n",
       " e525,\n",
       " e526,\n",
       " e527,\n",
       " e528,\n",
       " e529,\n",
       " e530,\n",
       " e531,\n",
       " e532,\n",
       " e533,\n",
       " e534,\n",
       " e535,\n",
       " e536,\n",
       " e537,\n",
       " e538,\n",
       " e539,\n",
       " e540,\n",
       " e541,\n",
       " e542,\n",
       " e543,\n",
       " e544,\n",
       " e545,\n",
       " e546,\n",
       " e547,\n",
       " e548,\n",
       " e549,\n",
       " e550,\n",
       " e551,\n",
       " e552,\n",
       " e553,\n",
       " e554,\n",
       " e555,\n",
       " e556,\n",
       " e557,\n",
       " e558,\n",
       " e559,\n",
       " e560,\n",
       " e561,\n",
       " e562,\n",
       " e563,\n",
       " e564,\n",
       " e565,\n",
       " e566,\n",
       " e567,\n",
       " e568,\n",
       " e569,\n",
       " e570,\n",
       " e571,\n",
       " e572,\n",
       " e573,\n",
       " e574,\n",
       " e575,\n",
       " e576,\n",
       " e577,\n",
       " e578,\n",
       " e579,\n",
       " e580,\n",
       " e581,\n",
       " e582,\n",
       " e583,\n",
       " e584,\n",
       " e585,\n",
       " e586,\n",
       " e587,\n",
       " e588,\n",
       " e589,\n",
       " e590,\n",
       " e591,\n",
       " e592,\n",
       " e593,\n",
       " e594,\n",
       " e595,\n",
       " e596,\n",
       " e597,\n",
       " e598,\n",
       " e599,\n",
       " e600,\n",
       " e601,\n",
       " e602,\n",
       " e603,\n",
       " e604,\n",
       " e605,\n",
       " e606,\n",
       " e607,\n",
       " e608,\n",
       " e609,\n",
       " e610,\n",
       " e611,\n",
       " e612,\n",
       " e613,\n",
       " e614,\n",
       " e615,\n",
       " e616,\n",
       " e617,\n",
       " e618,\n",
       " e619,\n",
       " e620,\n",
       " e621,\n",
       " e622,\n",
       " e623,\n",
       " e624,\n",
       " e625,\n",
       " e626,\n",
       " e627,\n",
       " e628,\n",
       " e629,\n",
       " e630,\n",
       " e631,\n",
       " e632,\n",
       " e633,\n",
       " e634,\n",
       " e635,\n",
       " e636,\n",
       " e637,\n",
       " e638,\n",
       " e639,\n",
       " e640,\n",
       " e641,\n",
       " e642,\n",
       " e643,\n",
       " e644,\n",
       " e645,\n",
       " e646,\n",
       " e647,\n",
       " e648,\n",
       " e649,\n",
       " e650,\n",
       " e651,\n",
       " e652,\n",
       " e653,\n",
       " e654,\n",
       " e655,\n",
       " e656,\n",
       " e657,\n",
       " e658,\n",
       " e659,\n",
       " e660,\n",
       " e661,\n",
       " e662,\n",
       " e663,\n",
       " e664,\n",
       " e665,\n",
       " e666,\n",
       " e667,\n",
       " e668,\n",
       " e669,\n",
       " e670,\n",
       " e671,\n",
       " e672,\n",
       " e673,\n",
       " e674,\n",
       " e675,\n",
       " e676,\n",
       " e677,\n",
       " e678,\n",
       " e679,\n",
       " e680,\n",
       " e681,\n",
       " e682,\n",
       " e683,\n",
       " e684,\n",
       " e685,\n",
       " e686,\n",
       " e687,\n",
       " e688,\n",
       " e689,\n",
       " e690,\n",
       " e691,\n",
       " e692,\n",
       " e693,\n",
       " e694,\n",
       " e695,\n",
       " e696,\n",
       " e697,\n",
       " e698,\n",
       " e699,\n",
       " e700,\n",
       " e701,\n",
       " e702,\n",
       " e703,\n",
       " e704,\n",
       " e705,\n",
       " e706,\n",
       " e707,\n",
       " e708,\n",
       " e709,\n",
       " e710,\n",
       " e711,\n",
       " e712,\n",
       " e713,\n",
       " e714,\n",
       " e715,\n",
       " e716,\n",
       " e717,\n",
       " e718,\n",
       " e719,\n",
       " e720,\n",
       " e721,\n",
       " e722,\n",
       " e723,\n",
       " e724,\n",
       " e725,\n",
       " e726,\n",
       " e727,\n",
       " e728,\n",
       " e729,\n",
       " e730,\n",
       " e731,\n",
       " e732,\n",
       " e733,\n",
       " e734,\n",
       " e735,\n",
       " e736,\n",
       " e737,\n",
       " e738,\n",
       " e739,\n",
       " e740,\n",
       " e741,\n",
       " e742,\n",
       " e743,\n",
       " e744,\n",
       " e745,\n",
       " e746,\n",
       " e747,\n",
       " e748,\n",
       " e749,\n",
       " e750,\n",
       " e751,\n",
       " e752,\n",
       " e753,\n",
       " e754,\n",
       " e755,\n",
       " e756,\n",
       " e757,\n",
       " e758,\n",
       " e759,\n",
       " e760,\n",
       " e761,\n",
       " e762,\n",
       " e763,\n",
       " e764,\n",
       " e765,\n",
       " e766,\n",
       " e767,\n",
       " e768,\n",
       " e769,\n",
       " e770,\n",
       " e771,\n",
       " e772,\n",
       " e773,\n",
       " e774,\n",
       " e775,\n",
       " e776,\n",
       " e777,\n",
       " e778,\n",
       " e779,\n",
       " e780,\n",
       " e781,\n",
       " e782,\n",
       " e783,\n",
       " e784,\n",
       " e785,\n",
       " e786,\n",
       " e787,\n",
       " e788,\n",
       " e789,\n",
       " e790,\n",
       " e791,\n",
       " e792,\n",
       " e793,\n",
       " e794,\n",
       " e795,\n",
       " e796,\n",
       " e797,\n",
       " e798,\n",
       " e799,\n",
       " e800,\n",
       " e801,\n",
       " e802,\n",
       " e803,\n",
       " e804,\n",
       " e805,\n",
       " e806,\n",
       " e807,\n",
       " e808,\n",
       " e809,\n",
       " e810,\n",
       " e811,\n",
       " e812,\n",
       " e813,\n",
       " e814,\n",
       " e815,\n",
       " e816,\n",
       " e817,\n",
       " e818,\n",
       " e819,\n",
       " e820,\n",
       " e821,\n",
       " e822,\n",
       " e823,\n",
       " e824,\n",
       " e825,\n",
       " e826,\n",
       " e827,\n",
       " e828,\n",
       " e829,\n",
       " e830,\n",
       " e831,\n",
       " e832,\n",
       " e833,\n",
       " e834,\n",
       " e835,\n",
       " e836,\n",
       " e837,\n",
       " e838,\n",
       " e839,\n",
       " e840,\n",
       " e841,\n",
       " e842,\n",
       " e843,\n",
       " e844,\n",
       " e845,\n",
       " e846,\n",
       " e847,\n",
       " e848,\n",
       " e849,\n",
       " e850,\n",
       " e851,\n",
       " e852,\n",
       " e853,\n",
       " e854,\n",
       " e855,\n",
       " e856,\n",
       " e857,\n",
       " e858,\n",
       " e859,\n",
       " e860,\n",
       " e861,\n",
       " e862,\n",
       " e863,\n",
       " e864,\n",
       " e865,\n",
       " e866,\n",
       " e867,\n",
       " e868,\n",
       " e869,\n",
       " e870,\n",
       " e871,\n",
       " e872,\n",
       " e873,\n",
       " e874,\n",
       " e875,\n",
       " e876,\n",
       " e877,\n",
       " e878,\n",
       " e879,\n",
       " e880,\n",
       " e881,\n",
       " e882,\n",
       " e883,\n",
       " e884,\n",
       " e885,\n",
       " e886,\n",
       " e887,\n",
       " e888,\n",
       " e889,\n",
       " e890,\n",
       " e891,\n",
       " e892,\n",
       " e893,\n",
       " e894,\n",
       " e895,\n",
       " e896,\n",
       " e897,\n",
       " e898,\n",
       " e899,\n",
       " e900,\n",
       " e901,\n",
       " e902,\n",
       " e903,\n",
       " e904,\n",
       " e905,\n",
       " e906,\n",
       " e907,\n",
       " e908,\n",
       " e909,\n",
       " e910,\n",
       " e911,\n",
       " e912,\n",
       " e913,\n",
       " e914,\n",
       " e915,\n",
       " e916,\n",
       " e917,\n",
       " e918,\n",
       " e919,\n",
       " e920,\n",
       " e921,\n",
       " e922,\n",
       " e923,\n",
       " e924,\n",
       " e925,\n",
       " e926,\n",
       " e927,\n",
       " e928,\n",
       " e929,\n",
       " e930,\n",
       " e931,\n",
       " e932,\n",
       " e933,\n",
       " e934,\n",
       " e935,\n",
       " e936,\n",
       " e937,\n",
       " e938,\n",
       " e939,\n",
       " e940,\n",
       " e941,\n",
       " e942,\n",
       " e943,\n",
       " e944,\n",
       " e945,\n",
       " e946,\n",
       " e947,\n",
       " e948,\n",
       " e949,\n",
       " e950,\n",
       " e951,\n",
       " e952,\n",
       " e953,\n",
       " e954,\n",
       " e955,\n",
       " e956,\n",
       " e957,\n",
       " e958,\n",
       " e959,\n",
       " e960,\n",
       " e961,\n",
       " e962,\n",
       " e963,\n",
       " e964,\n",
       " e965,\n",
       " e966,\n",
       " e967,\n",
       " e968,\n",
       " e969,\n",
       " e970,\n",
       " e971,\n",
       " e972,\n",
       " e973,\n",
       " e974,\n",
       " e975,\n",
       " e976,\n",
       " e977,\n",
       " e978,\n",
       " e979,\n",
       " e980,\n",
       " e981,\n",
       " e982,\n",
       " e983,\n",
       " e984,\n",
       " e985,\n",
       " e986,\n",
       " e987,\n",
       " e988,\n",
       " e989,\n",
       " e990,\n",
       " e991,\n",
       " e992,\n",
       " e993,\n",
       " e994,\n",
       " e995,\n",
       " e996,\n",
       " e997,\n",
       " e998,\n",
       " e999,\n",
       " n0,\n",
       " s,\n",
       " t,\n",
       " n,\n",
       " q,\n",
       " x,\n",
       " a,\n",
       " b,\n",
       " c,\n",
       " d,\n",
       " u)"
      ]
     },
     "execution_count": 227,
     "metadata": {},
     "output_type": "execute_result"
    }
   ],
   "source": [
    "var(var_list+[\"n0\",\"s\",\"t\",\"n\",\"q\",\"x\",\"a\",\"b\",\"c\",\"d\",\"u\"])"
   ]
  },
  {
   "cell_type": "code",
   "execution_count": null,
   "id": "cdf8590e",
   "metadata": {},
   "outputs": [],
   "source": []
  },
  {
   "cell_type": "code",
   "execution_count": 228,
   "id": "2675596d",
   "metadata": {},
   "outputs": [],
   "source": [
    "e = SymmetricFunctions(QQ).e()"
   ]
  },
  {
   "cell_type": "code",
   "execution_count": 229,
   "id": "ff733d28",
   "metadata": {},
   "outputs": [],
   "source": [
    "def ele_dict(deg):\n",
    "        es=[e[i].expand(deg)*(-1)**i for i in range(1,deg+1)]\n",
    "        coe=list(reversed([eval(\"a\"+str(i)) for i in range(0,deg)]))\n",
    "        return dict(zip(coe,es))"
   ]
  },
  {
   "cell_type": "markdown",
   "id": "245e0386",
   "metadata": {},
   "source": [
    "def poly(n):\n",
    "    return sum([x0^(j)*eval(\"a\"+str(j)) for j in [0..n-1]])+x0^n"
   ]
  },
  {
   "cell_type": "markdown",
   "id": "4c4b1ec7",
   "metadata": {},
   "source": [
    "def ordi(exp,vari):\n",
    "    terms=exp.operands()\n",
    "    lonely_terms=[i for i in terms if not(i.has(vari))]\n",
    "    fixed=[i for i in terms if i not in lonely_terms]+[sum(lonely_terms)]\n",
    "    return fixed"
   ]
  },
  {
   "cell_type": "markdown",
   "id": "a317907c",
   "metadata": {},
   "source": [
    "def red(op,deg):\n",
    "    po=poly(deg).operands()\n",
    "    po[0:2]=list(reversed(po[0:2]))\n",
    "    if deg>=4:\n",
    "        for i in range(0,deg-3):\n",
    "            leading=op[i].subs({x0:1})\n",
    "            new=[leading*j*(x0^(deg-4-i)) for j in po]\n",
    "            if -(deg-4-i)<0:\n",
    "                op=[(x-y).full_simplify().factor() for x,y in zip(op[0:-(deg-4-i)],new)]+op[len(op)-(deg-4-i):len(op)]\n",
    "            else:\n",
    "                op=[(x-y).full_simplify().factor() for x,y in zip(op,new)]\n",
    "            op=op[1:]\n",
    "        return op\n",
    "    else:\n",
    "        return op\n",
    "        "
   ]
  },
  {
   "cell_type": "markdown",
   "id": "4ad48456",
   "metadata": {},
   "source": [
    "def red2(op,deg):\n",
    "    po=poly(deg)\n",
    "    if deg>=4:\n",
    "        for i in range(0,deg-3):\n",
    "            leading=op.operands()[0].subs({x0:1})\n",
    "            op=op-leading*(x0^(deg-4-i))*po\n",
    "            op=mycollect(op.full_simplify(),x0)\n",
    "        return op\n",
    "    else:\n",
    "        return op"
   ]
  },
  {
   "cell_type": "code",
   "execution_count": null,
   "id": "647c96cc",
   "metadata": {},
   "outputs": [],
   "source": []
  },
  {
   "cell_type": "markdown",
   "id": "2fba60cb",
   "metadata": {},
   "source": [
    "def asum(n,roo):\n",
    "    return sum([(n-j-1)*(n-j)/2*eval(\"x\"+str(roo))^(n-j-2)*eval(\"a\"+str(n-j)) for j in [1..n-2]])+n*(n-1)/2*eval(\"x\"+str(roo))^(n-2)\n",
    "def bsum(n,roo):\n",
    "    return sum([j*(n-j)*eval(\"x\"+str(roo))^(n-j-1)*eval(\"a\"+str(n-j)) for j in [1..n-1]])\n",
    "def csum(n,roo):\n",
    "    return sum([(j-1)*(j)/2*eval(\"x\"+str(roo))^(n-j)*eval(\"a\"+str(n-j)) for j in [2..n]])"
   ]
  },
  {
   "cell_type": "code",
   "execution_count": null,
   "id": "563ce658",
   "metadata": {},
   "outputs": [],
   "source": []
  },
  {
   "cell_type": "markdown",
   "id": "37074a02",
   "metadata": {},
   "source": [
    "for j in range(2,7):\n",
    "    formula=bsum(j,0)**2-4*asum(j,0)*csum(j,0)\n",
    "    formula2=(mycollect(formula.subs({x0:x}),x)/(j-1)^2).full_simplify()\n",
    "    che=formula.subs(ele_dict(j)).full_simplify().factor()\n",
    "    #p1 = PolynomialConverter(formula2, base_ring=R)\n",
    "    #print(p1())\n",
    "    print(mycollect(formula/(j-1)^2,x0))\n",
    "    print(che)"
   ]
  },
  {
   "cell_type": "code",
   "execution_count": 230,
   "id": "f5d3fe3f",
   "metadata": {},
   "outputs": [],
   "source": [
    "f=(a2^2 - 3*a1)\n",
    "g=(a1*a2 - 9*a0)\n",
    "h=(a1^2 - 3*a0*a2)"
   ]
  },
  {
   "cell_type": "code",
   "execution_count": 231,
   "id": "533ed710",
   "metadata": {},
   "outputs": [],
   "source": [
    "#f=f.subs({a0:-1})\n",
    "#g=g.subs({a0:-1})\n",
    "#h=h.subs({a0:-1})"
   ]
  },
  {
   "cell_type": "code",
   "execution_count": 232,
   "id": "5bcbbd87",
   "metadata": {},
   "outputs": [
    {
     "name": "stdout",
     "output_type": "stream",
     "text": [
      "(x0 + x1 + x2)^2 - 3*x0*x1 - 3*x0*x2 - 3*x1*x2\n",
      "9*x0*x1*x2 - (x0*x1 + x0*x2 + x1*x2)*(x0 + x1 + x2)\n",
      "-3*(x0 + x1 + x2)*x0*x1*x2 + (x0*x1 + x0*x2 + x1*x2)^2\n"
     ]
    }
   ],
   "source": [
    "fsub=f.subs(ele_dict(3))\n",
    "print(fsub)\n",
    "gsub=g.subs(ele_dict(3))\n",
    "print(gsub)\n",
    "hsub=h.subs(ele_dict(3))\n",
    "print(hsub)"
   ]
  },
  {
   "cell_type": "code",
   "execution_count": 233,
   "id": "632b7d09",
   "metadata": {},
   "outputs": [
    {
     "data": {
      "text/plain": [
       "-3 \\, {\\left(x_{0} + x_{1} + x_{2}\\right)} x_{0} x_{1} x_{2} + {\\left(x_{0} x_{1} + x_{0} x_{2} + x_{1} x_{2}\\right)}^{2}"
      ]
     },
     "execution_count": 233,
     "metadata": {},
     "output_type": "execute_result"
    }
   ],
   "source": [
    "latex(hsub)"
   ]
  },
  {
   "cell_type": "code",
   "execution_count": 234,
   "id": "1d8eaed7",
   "metadata": {},
   "outputs": [],
   "source": [
    "action=(a*t+b)/(c*t+d)"
   ]
  },
  {
   "cell_type": "code",
   "execution_count": 235,
   "id": "1fc4404d",
   "metadata": {},
   "outputs": [
    {
     "data": {
      "text/plain": [
       "\\frac{a t + b}{c t + d}"
      ]
     },
     "execution_count": 235,
     "metadata": {},
     "output_type": "execute_result"
    }
   ],
   "source": [
    "latex(action)"
   ]
  },
  {
   "cell_type": "code",
   "execution_count": 236,
   "id": "008cdf75",
   "metadata": {},
   "outputs": [],
   "source": [
    "action_dict={x0:t,x1:action, x2: action.subs({t:action}).full_simplify()}"
   ]
  },
  {
   "cell_type": "code",
   "execution_count": 237,
   "id": "2f568e51",
   "metadata": {},
   "outputs": [
    {
     "data": {
      "text/plain": [
       "\\frac{a b + b d + {\\left(a^{2} + b c\\right)} t}{b c + d^{2} + {\\left(a c + c d\\right)} t}"
      ]
     },
     "execution_count": 237,
     "metadata": {},
     "output_type": "execute_result"
    }
   ],
   "source": [
    "latex(action.subs({t:action}).full_simplify())"
   ]
  },
  {
   "cell_type": "code",
   "execution_count": 238,
   "id": "d2469925",
   "metadata": {},
   "outputs": [],
   "source": [
    "fact=fsub.subs(action_dict).full_simplify()\n",
    "gact=gsub.subs(action_dict).full_simplify()\n",
    "hact=hsub.subs(action_dict).full_simplify()"
   ]
  },
  {
   "cell_type": "code",
   "execution_count": null,
   "id": "fc9ee4b9",
   "metadata": {},
   "outputs": [],
   "source": []
  },
  {
   "cell_type": "code",
   "execution_count": 239,
   "id": "9f744df5",
   "metadata": {},
   "outputs": [],
   "source": [
    "trans1=(gact/fact).full_simplify().factor()"
   ]
  },
  {
   "cell_type": "code",
   "execution_count": 240,
   "id": "ac2e875d",
   "metadata": {},
   "outputs": [],
   "source": [
    "tra1num=mycollect(trans1.numerator(),t)\n",
    "tra1den=mycollect(trans1.denominator(),t)"
   ]
  },
  {
   "cell_type": "code",
   "execution_count": null,
   "id": "040ba3b3",
   "metadata": {},
   "outputs": [],
   "source": []
  },
  {
   "cell_type": "code",
   "execution_count": 241,
   "id": "6a8a4128",
   "metadata": {},
   "outputs": [],
   "source": [
    "trans2=(hact/fact).full_simplify().factor()"
   ]
  },
  {
   "cell_type": "code",
   "execution_count": 242,
   "id": "9f26a442",
   "metadata": {},
   "outputs": [],
   "source": [
    "tra2num=mycollect(trans2.numerator(),t)\n",
    "tra2den=mycollect(trans2.denominator(),t)"
   ]
  },
  {
   "cell_type": "code",
   "execution_count": null,
   "id": "83c9f451",
   "metadata": {},
   "outputs": [],
   "source": []
  },
  {
   "cell_type": "code",
   "execution_count": 243,
   "id": "233f009e",
   "metadata": {},
   "outputs": [
    {
     "data": {
      "text/plain": [
       "(u, v)"
      ]
     },
     "execution_count": 243,
     "metadata": {},
     "output_type": "execute_result"
    }
   ],
   "source": [
    "var(\"u v\")"
   ]
  },
  {
   "cell_type": "code",
   "execution_count": 244,
   "id": "cfc0870f",
   "metadata": {},
   "outputs": [],
   "source": [
    "eq1=(a^2*c^2 + 2*a*c^2*d + c^2*d^2)==u\n",
    "eq2=(a*b*c^2 + a^2*c*d + b*c^2*d + 3*a*c*d^2 + 2*c*d^3)==v"
   ]
  },
  {
   "cell_type": "code",
   "execution_count": 245,
   "id": "b6c01955",
   "metadata": {},
   "outputs": [],
   "source": [
    "premi=solve([eq1,eq2],a,b,c)"
   ]
  },
  {
   "cell_type": "code",
   "execution_count": null,
   "id": "4d62e9e2",
   "metadata": {},
   "outputs": [],
   "source": []
  },
  {
   "cell_type": "code",
   "execution_count": 246,
   "id": "0de1ea12",
   "metadata": {},
   "outputs": [
    {
     "data": {
      "text/plain": [
       "-((d*r3^2*t + d^2*r3)*u + ((r3*t - d)*u + r3*v)*sqrt(u))/((r3^3*t + d*r3^2)*u)"
      ]
     },
     "execution_count": 246,
     "metadata": {},
     "output_type": "execute_result"
    }
   ],
   "source": [
    "action.subs(premi[0]).full_simplify()"
   ]
  },
  {
   "cell_type": "code",
   "execution_count": 247,
   "id": "aeae27a5",
   "metadata": {},
   "outputs": [],
   "source": [
    "primaction=-((d*q^2*t + d^2*q)*u + ((q*t - d)*u + q*v)*sqrt(u))/((q^3*t + d*q^2)*u)"
   ]
  },
  {
   "cell_type": "code",
   "execution_count": 248,
   "id": "34f77f72",
   "metadata": {},
   "outputs": [],
   "source": [
    "primdem=primaction.full_simplify().denominator()"
   ]
  },
  {
   "cell_type": "code",
   "execution_count": 249,
   "id": "44b99a9a",
   "metadata": {},
   "outputs": [],
   "source": [
    "mit=solve(primdem==0,d)"
   ]
  },
  {
   "cell_type": "code",
   "execution_count": 250,
   "id": "94b92aaf",
   "metadata": {},
   "outputs": [
    {
     "data": {
      "text/plain": [
       "(r3^2*v^2 + (r3^2*t^2 + 3*d^2)*u^2 + (r3^2*t - 3*d*r3)*u*v)/(r3^2*u)"
      ]
     },
     "execution_count": 250,
     "metadata": {},
     "output_type": "execute_result"
    }
   ],
   "source": [
    "tra1den.subs(premi[0]).full_simplify()"
   ]
  },
  {
   "cell_type": "code",
   "execution_count": 251,
   "id": "f85da221",
   "metadata": {},
   "outputs": [],
   "source": [
    "oriden=(q^2*v^2 + (q^2*t^2 + 3*d^2)*u^2 + (q^2*t - 3*d*q)*u*v)/(q^2*u)"
   ]
  },
  {
   "cell_type": "code",
   "execution_count": 252,
   "id": "f05ec80f",
   "metadata": {},
   "outputs": [
    {
     "data": {
      "text/plain": [
       "-(2*r3^3*t*v^2 - 4*(d*r3^2*t^2 - d^2*r3*t)*u^2 + (r3^3*t^2 - 8*d*r3^2*t - d^2*r3)*u*v - (2*(r3*t^2 - d*t)*u^2 + (3*r3*t - d)*u*v + r3*v^2)*sqrt(u))/(r3^3*u)"
      ]
     },
     "execution_count": 252,
     "metadata": {},
     "output_type": "execute_result"
    }
   ],
   "source": [
    "tra1num.subs(premi[0]).full_simplify()"
   ]
  },
  {
   "cell_type": "code",
   "execution_count": 253,
   "id": "331d10bb",
   "metadata": {},
   "outputs": [
    {
     "data": {
      "text/plain": [
       "((r3^2*t^2 - 2*d*r3*t + d^2)*u^3 + (7*d^2*r3^4*t^2 + 4*d^3*r3^3*t + d^4*r3^2)*u^2 + (r3^6*t^2 + r3^2*u)*v^2 + (2*(r3^2*t - d*r3)*u^2 - (5*d*r3^5*t^2 + d^2*r3^4*t)*u)*v - (r3^4*t*v^2 - 2*(2*d*r3^3*t^2 - d^2*r3^2*t - d^3*r3)*u^2 + (r3^4*t^2 - 5*d*r3^3*t - 2*d^2*r3^2)*u*v)*sqrt(u))/(r3^6*u)"
      ]
     },
     "execution_count": 253,
     "metadata": {},
     "output_type": "execute_result"
    }
   ],
   "source": [
    "tra2num.subs(premi[0]).full_simplify()"
   ]
  },
  {
   "cell_type": "code",
   "execution_count": 254,
   "id": "d5b12ad5",
   "metadata": {},
   "outputs": [],
   "source": [
    "t1num=-(2*q^3*t*v^2 - 4*(d*q^2*t^2 - d^2*q*t)*u^2 + (q^3*t^2 - 8*d*q^2*t - d^2*q)*u*v - (2*(q*t^2 - d*t)*u^2 + (3*q*t - d)*u*v + q*v^2)*sqrt(u))/(q^3*u)"
   ]
  },
  {
   "cell_type": "code",
   "execution_count": 255,
   "id": "497b9214",
   "metadata": {},
   "outputs": [],
   "source": [
    "t2num=((q^2*t^2 - 2*d*q*t + d^2)*u^3 + (7*d^2*q^4*t^2 + 4*d^3*q^3*t + d^4*q^2)*u^2 + (q^6*t^2 + q^2*u)*v^2 + (2*(q^2*t - d*q)*u^2 - (5*d*q^5*t^2 + d^2*q^4*t)*u)*v - (q^4*t*v^2 - 2*(2*d*q^3*t^2 - d^2*q^2*t - d^3*q)*u^2 + (q^4*t^2 - 5*d*q^3*t - 2*d^2*q^2)*u*v)*sqrt(u))/(q^6*u)"
   ]
  },
  {
   "cell_type": "code",
   "execution_count": null,
   "id": "18848716",
   "metadata": {},
   "outputs": [],
   "source": []
  },
  {
   "cell_type": "code",
   "execution_count": null,
   "id": "82cb363c",
   "metadata": {},
   "outputs": [],
   "source": []
  },
  {
   "cell_type": "code",
   "execution_count": 283,
   "id": "ee808983",
   "metadata": {},
   "outputs": [],
   "source": [
    "mid1=oriden.subs(mit[0]).factor()\n",
    "mid2=t1num.subs(mit[0]).full_simplify().factor()\n",
    "mid3=t2num.subs(mit[0]).full_simplify().factor()"
   ]
  },
  {
   "cell_type": "code",
   "execution_count": 284,
   "id": "06eaa265",
   "metadata": {},
   "outputs": [],
   "source": [
    "#assume(u>0)\n",
    "nmid1=mid1.subs({u:u^2}).full_simplify().factor()"
   ]
  },
  {
   "cell_type": "code",
   "execution_count": 285,
   "id": "5b466543",
   "metadata": {},
   "outputs": [],
   "source": [
    "#assume(u>0)\n",
    "nmid2=mid2.subs({u:u^2}).full_simplify().factor()"
   ]
  },
  {
   "cell_type": "code",
   "execution_count": 286,
   "id": "e2eb174a",
   "metadata": {},
   "outputs": [],
   "source": [
    "#assume(u>0)\n",
    "nmid3=mid3.subs({u:u^2}).full_simplify().factor()"
   ]
  },
  {
   "cell_type": "code",
   "execution_count": 287,
   "id": "9b579bb3",
   "metadata": {},
   "outputs": [
    {
     "data": {
      "text/plain": [
       "(q^4*t^2 - q^2*t*sqrt(u^2) + u^2)*(2*t*u^2 + v)^2/(q^4*u^2)"
      ]
     },
     "execution_count": 287,
     "metadata": {},
     "output_type": "execute_result"
    }
   ],
   "source": [
    "nmid3"
   ]
  },
  {
   "cell_type": "code",
   "execution_count": 288,
   "id": "8b9da45d",
   "metadata": {},
   "outputs": [],
   "source": [
    "nmid2=(-(2*q^2*t - u)*(2*t*u^2 + v)^2/(q^2*u^2)).full_simplify()"
   ]
  },
  {
   "cell_type": "code",
   "execution_count": 289,
   "id": "376f481b",
   "metadata": {},
   "outputs": [],
   "source": [
    "nmid3=((q^4*t^2 - q^2*t*u + u^2)*(2*t*u^2 + v)^2/(q^4*u^2)).full_simplify()"
   ]
  },
  {
   "cell_type": "code",
   "execution_count": 290,
   "id": "168ec22a",
   "metadata": {},
   "outputs": [
    {
     "data": {
      "text/plain": [
       "-3*(2*t*u^2 + v)^4/(q^4*u^2)"
      ]
     },
     "execution_count": 290,
     "metadata": {},
     "output_type": "execute_result"
    }
   ],
   "source": [
    "(nmid2^2-4*nmid1*nmid3).full_simplify().factor()"
   ]
  },
  {
   "cell_type": "code",
   "execution_count": null,
   "id": "aaff23a6",
   "metadata": {},
   "outputs": [],
   "source": []
  },
  {
   "cell_type": "code",
   "execution_count": null,
   "id": "9eca407c",
   "metadata": {},
   "outputs": [],
   "source": []
  },
  {
   "cell_type": "code",
   "execution_count": null,
   "id": "0250c341",
   "metadata": {},
   "outputs": [],
   "source": []
  },
  {
   "cell_type": "code",
   "execution_count": 291,
   "id": "e3e7a4b8",
   "metadata": {},
   "outputs": [],
   "source": [
    "test1=(nmid1.subs({v:0})).full_simplify().factor()"
   ]
  },
  {
   "cell_type": "code",
   "execution_count": 292,
   "id": "69116bbb",
   "metadata": {},
   "outputs": [],
   "source": [
    "test2=(nmid2.subs({v:0})).full_simplify().factor()"
   ]
  },
  {
   "cell_type": "code",
   "execution_count": 293,
   "id": "7613272a",
   "metadata": {},
   "outputs": [],
   "source": [
    "test3=(nmid3.subs({v:0})).full_simplify().factor()"
   ]
  },
  {
   "cell_type": "code",
   "execution_count": 294,
   "id": "55720071",
   "metadata": {},
   "outputs": [
    {
     "data": {
      "text/plain": [
       "(4*t^2*u^2,\n",
       " -4*(2*q^2*t - u)*t^2*u^2/q^2,\n",
       " 4*(q^4*t^2 - q^2*t*u + u^2)*t^2*u^2/q^4)"
      ]
     },
     "execution_count": 294,
     "metadata": {},
     "output_type": "execute_result"
    }
   ],
   "source": [
    "test1,test2,test3"
   ]
  },
  {
   "cell_type": "code",
   "execution_count": 295,
   "id": "072201d8",
   "metadata": {},
   "outputs": [
    {
     "data": {
      "text/plain": [
       "(x, y, z)"
      ]
     },
     "execution_count": 295,
     "metadata": {},
     "output_type": "execute_result"
    }
   ],
   "source": [
    "var(\"x y z\")"
   ]
  },
  {
   "cell_type": "code",
   "execution_count": 296,
   "id": "128a7747",
   "metadata": {},
   "outputs": [],
   "source": [
    "#v0 is the lecacheux"
   ]
  },
  {
   "cell_type": "code",
   "execution_count": 297,
   "id": "9bd10907",
   "metadata": {},
   "outputs": [],
   "source": [
    "eqx=x^2-3*y==t*s\n",
    "eqy=x*y-9*z==-(2*t^2+t)*s\n",
    "eqz=y^2-3*x*z==(t^2+t+1)*t*s"
   ]
  },
  {
   "cell_type": "code",
   "execution_count": 298,
   "id": "4fa285b1",
   "metadata": {},
   "outputs": [],
   "source": [
    "p1=x^2-3*y==nmid1*s\n",
    "p2=x*y-9*z==nmid2*s\n",
    "p3=y^2-3*x*z==nmid3*s"
   ]
  },
  {
   "cell_type": "code",
   "execution_count": 299,
   "id": "dadad1cb",
   "metadata": {},
   "outputs": [
    {
     "name": "stdout",
     "output_type": "stream",
     "text": [
      "x^2 - 3*y == (2*t*u^2 + v)^2*s/u^2\n",
      "x*y - 9*z == -(8*q^2*t^3*u^4 - 4*t^2*u^5 + (2*q^2*t - u)*v^2 + 4*(2*q^2*t^2*u^2 - t*u^3)*v)*s/(q^2*u^2)\n",
      "y^2 - 3*x*z == (4*q^4*t^4*u^4 - 4*q^2*t^3*u^5 + 4*t^2*u^6 + (q^4*t^2 - q^2*t*u + u^2)*v^2 + 4*(q^4*t^3*u^2 - q^2*t^2*u^3 + t*u^4)*v)*s/(q^4*u^2)\n"
     ]
    }
   ],
   "source": [
    "print(p1)\n",
    "print(p2)\n",
    "print(p3)"
   ]
  },
  {
   "cell_type": "code",
   "execution_count": 306,
   "id": "72a8748c",
   "metadata": {},
   "outputs": [],
   "source": [
    "soli=solve([p1,p2,p3],x,y,z)"
   ]
  },
  {
   "cell_type": "code",
   "execution_count": null,
   "id": "7304aa80",
   "metadata": {},
   "outputs": [],
   "source": []
  },
  {
   "cell_type": "code",
   "execution_count": 307,
   "id": "d5542cef",
   "metadata": {},
   "outputs": [],
   "source": [
    "newz=soli[0][2].rhs().full_simplify().factor()"
   ]
  },
  {
   "cell_type": "code",
   "execution_count": 312,
   "id": "4295173d",
   "metadata": {},
   "outputs": [],
   "source": [
    "newz2=mycollect(newz,sqrt(16*q^4*s*t*u^2*v + 4*q^4*s*v^2 + (16*q^4*s*t^2 - 27)*u^4))"
   ]
  },
  {
   "cell_type": "code",
   "execution_count": 321,
   "id": "f1d16dcf",
   "metadata": {},
   "outputs": [],
   "source": [
    "valuesqrt=((-t^3 + 3/2*t^2*u/q^2 + 3/2*t*u^2/q^4 - u^3/q^6+1)*-2)/((t^2/(q^2*u) - t/q^4))"
   ]
  },
  {
   "cell_type": "code",
   "execution_count": 322,
   "id": "2e9d7518",
   "metadata": {},
   "outputs": [
    {
     "data": {
      "text/plain": [
       "(2*t^3 - 3*t^2*u/q^2 - 3*t*u^2/q^4 + 2*u^3/q^6 - 2)/(t^2/(q^2*u) - t/q^4)"
      ]
     },
     "execution_count": 322,
     "metadata": {},
     "output_type": "execute_result"
    }
   ],
   "source": [
    "valuesqrt"
   ]
  },
  {
   "cell_type": "code",
   "execution_count": 323,
   "id": "1aefb7f1",
   "metadata": {},
   "outputs": [],
   "source": [
    "newx=soli[0][0].rhs().full_simplify().factor()"
   ]
  },
  {
   "cell_type": "code",
   "execution_count": 324,
   "id": "f701ecf0",
   "metadata": {},
   "outputs": [],
   "source": [
    "newy=soli[0][1].rhs().full_simplify().factor()"
   ]
  },
  {
   "cell_type": "code",
   "execution_count": 343,
   "id": "b760d84f",
   "metadata": {},
   "outputs": [
    {
     "data": {
      "text/plain": [
       "3*t^2 - 1/2*sqrt(16*q^4*s*t*u^2*v + 4*q^4*s*v^2 + (16*q^4*s*t^2 - 27)*u^4)*(2*t/(q^2*u) - 1/q^4) - 3*t*u/q^2 - 3/2*u^2/q^4"
      ]
     },
     "execution_count": 343,
     "metadata": {},
     "output_type": "execute_result"
    }
   ],
   "source": [
    "mycollect(newy,sqrt(16*q^4*s*t*u^2*v + 4*q^4*s*v^2 + (16*q^4*s*t^2 - 27)*u^4))"
   ]
  },
  {
   "cell_type": "code",
   "execution_count": 327,
   "id": "febffe43",
   "metadata": {},
   "outputs": [],
   "source": [
    "longx=-1/2*(6*q^2*t*u - 3*u^2 - ((2*t^3 - 3*t^2*u/q^2 - 3*t*u^2/q^4 + 2*u^3/q^6 - 2)/(t^2/(q^2*u) - t/q^4)))/(q^2*u)"
   ]
  },
  {
   "cell_type": "code",
   "execution_count": 347,
   "id": "b1132407",
   "metadata": {},
   "outputs": [],
   "source": [
    "lx=longx.full_simplify()"
   ]
  },
  {
   "cell_type": "code",
   "execution_count": 348,
   "id": "3e53c2e0",
   "metadata": {},
   "outputs": [],
   "source": [
    "longy=3*t^2 - 1/2*((2*t^3 - 3*t^2*u/q^2 - 3*t*u^2/q^4 + 2*u^3/q^6 - 2)/(t^2/(q^2*u) - t/q^4))*(2*t/(q^2*u) - 1/q^4) - 3*t*u/q^2 - 3/2*u^2/q^4"
   ]
  },
  {
   "cell_type": "code",
   "execution_count": 349,
   "id": "352030c1",
   "metadata": {},
   "outputs": [],
   "source": [
    "ly=longy.full_simplify()"
   ]
  },
  {
   "cell_type": "code",
   "execution_count": 356,
   "id": "0fddbe63",
   "metadata": {},
   "outputs": [],
   "source": [
    "pruebax=lx.subs({u:1,q:-i}).full_simplify()"
   ]
  },
  {
   "cell_type": "code",
   "execution_count": 357,
   "id": "431589f5",
   "metadata": {},
   "outputs": [],
   "source": [
    "pruebay=ly.subs({u:1,q:-i}).full_simplify()"
   ]
  },
  {
   "cell_type": "markdown",
   "id": "658ae8f0",
   "metadata": {},
   "source": [
    "sis={q:-i,u:3}\n",
    "pruebax=longx2.subs(sis).full_simplify()\n",
    "pruebay=longy2.subs(sis).full_simplify()"
   ]
  },
  {
   "cell_type": "code",
   "execution_count": 366,
   "id": "90333af4",
   "metadata": {},
   "outputs": [],
   "source": [
    "mig=x^3+pruebax*x^2+pruebay*x-1"
   ]
  },
  {
   "cell_type": "code",
   "execution_count": 368,
   "id": "b1efc0e1",
   "metadata": {},
   "outputs": [],
   "source": [
    "ray1=(lx^2-3*ly).full_simplify().factor()\n",
    "ray2=(ly^2+3*lx).factor().full_simplify().factor()"
   ]
  },
  {
   "cell_type": "code",
   "execution_count": 376,
   "id": "c9f8cd33",
   "metadata": {},
   "outputs": [
    {
     "data": {
      "text/plain": [
       "t^2 - t + 1"
      ]
     },
     "execution_count": 376,
     "metadata": {},
     "output_type": "execute_result"
    }
   ],
   "source": [
    "(ray2/ray1).expand().subs({u:1,q:1})"
   ]
  },
  {
   "cell_type": "code",
   "execution_count": 378,
   "id": "ef3f4ef7",
   "metadata": {},
   "outputs": [
    {
     "data": {
      "text/plain": [
       "-(2*t^2 - 3*t + 3)/(t - 1)"
      ]
     },
     "execution_count": 378,
     "metadata": {},
     "output_type": "execute_result"
    }
   ],
   "source": [
    "lx.subs({u:1,q:1}).full_simplify()"
   ]
  },
  {
   "cell_type": "code",
   "execution_count": 377,
   "id": "6acd2eab",
   "metadata": {},
   "outputs": [
    {
     "data": {
      "text/plain": [
       "(t^3 - 2*t^2 + 3*t)/(t - 1)"
      ]
     },
     "execution_count": 377,
     "metadata": {},
     "output_type": "execute_result"
    }
   ],
   "source": [
    "ly.subs({u:1,q:1}).full_simplify()"
   ]
  },
  {
   "cell_type": "code",
   "execution_count": 145,
   "id": "23d4c7a5",
   "metadata": {
    "scrolled": true
   },
   "outputs": [
    {
     "ename": "ValueError",
     "evalue": "power::eval(): division by zero",
     "output_type": "error",
     "traceback": [
      "\u001b[0;31m---------------------------------------------------------------------------\u001b[0m",
      "\u001b[0;31mValueError\u001b[0m                                Traceback (most recent call last)",
      "Cell \u001b[0;32mIn[145], line 11\u001b[0m\n\u001b[1;32m      9\u001b[0m r3\u001b[38;5;241m=\u001b[39m[]\n\u001b[1;32m     10\u001b[0m \u001b[38;5;28;01mfor\u001b[39;00m i \u001b[38;5;129;01min\u001b[39;00m \u001b[38;5;28mrange\u001b[39m(Integer(\u001b[38;5;241m1\u001b[39m),Integer(\u001b[38;5;241m51\u001b[39m),Integer(\u001b[38;5;241m1\u001b[39m)):\n\u001b[0;32m---> 11\u001b[0m     tempi\u001b[38;5;241m=\u001b[39m\u001b[43mmig\u001b[49m\u001b[38;5;241;43m.\u001b[39;49m\u001b[43msubs\u001b[49m\u001b[43m(\u001b[49m\u001b[43m{\u001b[49m\u001b[43mt\u001b[49m\u001b[43m:\u001b[49m\u001b[43mi\u001b[49m\u001b[43m}\u001b[49m\u001b[43m)\u001b[49m\n\u001b[1;32m     12\u001b[0m     K \u001b[38;5;241m=\u001b[39m NumberField(tempi, names\u001b[38;5;241m=\u001b[39m(\u001b[38;5;124m'\u001b[39m\u001b[38;5;124mj\u001b[39m\u001b[38;5;124m'\u001b[39m,)); (j,) \u001b[38;5;241m=\u001b[39m K\u001b[38;5;241m.\u001b[39m_first_ngens(\u001b[38;5;241m1\u001b[39m)\n\u001b[1;32m     13\u001b[0m     \u001b[38;5;28mprint\u001b[39m(tempi)\n",
      "File \u001b[0;32m~/miniconda3/envs/sagemath/lib/python3.10/site-packages/sage/symbolic/expression.pyx:5892\u001b[0m, in \u001b[0;36msage.symbolic.expression.Expression.substitute (build/cythonized/sage/symbolic/expression.cpp:60773)\u001b[0;34m()\u001b[0m\n\u001b[1;32m   5890\u001b[0m     smap.insert(make_pair((<Expression>self.coerce_in(k))._gobj,\n\u001b[1;32m   5891\u001b[0m                           (<Expression>self.coerce_in(v))._gobj))\n\u001b[0;32m-> 5892\u001b[0m res = self._gobj.subs_map(smap, 0)\n\u001b[1;32m   5893\u001b[0m return new_Expression_from_GEx(self._parent, res)\n\u001b[1;32m   5894\u001b[0m \n",
      "\u001b[0;31mValueError\u001b[0m: power::eval(): division by zero"
     ]
    }
   ],
   "source": [
    "tlist=[]\n",
    "class_num=[]\n",
    "condu=[]\n",
    "discri=[]\n",
    "reg=[]\n",
    "llchar=[]\n",
    "r1=[]\n",
    "r2=[]\n",
    "r3=[]\n",
    "for i in range(1,51,1):\n",
    "    tempi=mig.subs({t:i})\n",
    "    K.<j> = NumberField(tempi)\n",
    "    print(tempi)\n",
    "    #UK=UnitGroup(K)\n",
    "    #fund=UK.fundamental_units()\n",
    "    #print(fund)\n",
    "    #print([i.conjugate() for i in fund])\n",
    "    #print(fund)\n",
    "    #print([UK.log(u) for u in UK.gens()])\n",
    "    #print([i, K.class_number(),K.discriminant(),K.regulator()])\n",
    "    tlist.append(i)\n",
    "    class_num.append(K.class_number())\n",
    "    #condu.append(K.conductor())\n",
    "    discri.append(K.discriminant())\n",
    "    reg.append(K.regulator())\n",
    "    #solo=solve(tempi==0,x)\n",
    "    #root1=solo[0].rhs().full_simplify()\n",
    "    #root2=solo[1].rhs().full_simplify()\n",
    "    #root3=solo[2].rhs().full_simplify()\n",
    "    #val1=root1.subs({t:20}).full_simplify().n().real()\n",
    "    #val2=root2.subs({t:20}).full_simplify().n().real()\n",
    "    #val3=root3.subs({t:20}).full_simplify().n().real()\n",
    "    #print(val1,val2,val3,K.regulator(), K.discriminant())\n",
    "    print(i,K.regulator())\n",
    "    #r1.append(val1)\n",
    "    #r2.append(val2)\n",
    "    #r3.append(val3)\n",
    "    #lchar=K.dirichlet_group()[1].lfunction()\n",
    "    #lvalue=lchar(1.00000000001).abs()\n",
    "    #llchar.append(lvalue)\n",
    "    #print(lchar(1.00000000001).abs())\n",
    "    del K"
   ]
  },
  {
   "cell_type": "code",
   "execution_count": 360,
   "id": "47eb697a",
   "metadata": {},
   "outputs": [],
   "source": [
    "import pandas as pd\n",
    "import numpy as np\n",
    "import seaborn as sns\n",
    "import matplotlib.pyplot as plt"
   ]
  },
  {
   "cell_type": "code",
   "execution_count": 147,
   "id": "99f18e62",
   "metadata": {},
   "outputs": [],
   "source": [
    "datos=pd.DataFrame({\"t\":tlist,\"reg\":reg,\"cnum\":class_num,\"disc\":discri})"
   ]
  },
  {
   "cell_type": "code",
   "execution_count": 80,
   "id": "9ab15e18",
   "metadata": {},
   "outputs": [
    {
     "data": {
      "image/png": "[encoded data removed]",
      "text/plain": [
       "<Figure size 720x720 with 1 Axes>"
      ]
     },
     "metadata": {
      "needs_background": "light"
     },
     "output_type": "display_data"
    }
   ],
   "source": [
    "plt.figure(figsize=(10,10))\n",
    "sns.scatterplot(data=datos, x=\"t\",y=\"reg\")\n",
    "plt.grid()"
   ]
  },
  {
   "cell_type": "code",
   "execution_count": 361,
   "id": "d50de31f",
   "metadata": {},
   "outputs": [],
   "source": [
    "ry1=(pruebax^2-3*pruebay).subs({u:u-1}).full_simplify().factor()\n",
    "ry2=(pruebay^2+3*pruebax).subs({u:u-1}).factor().full_simplify().factor()"
   ]
  },
  {
   "cell_type": "code",
   "execution_count": null,
   "id": "5b54eb64",
   "metadata": {},
   "outputs": [],
   "source": []
  },
  {
   "cell_type": "code",
   "execution_count": 362,
   "id": "5ab62503",
   "metadata": {},
   "outputs": [],
   "source": []
  },
  {
   "cell_type": "code",
   "execution_count": 363,
   "id": "c29ec91d",
   "metadata": {},
   "outputs": [
    {
     "data": {
      "text/plain": [
       "(t^2 - t + 1)*(t^2 - 3*t + 3)*(t^2 + 3)/(t - 1)^2"
      ]
     },
     "execution_count": 363,
     "metadata": {},
     "output_type": "execute_result"
    }
   ],
   "source": [
    "ry2"
   ]
  },
  {
   "cell_type": "code",
   "execution_count": 216,
   "id": "716e99b9",
   "metadata": {},
   "outputs": [],
   "source": [
    "qu1=x^2-3*y==ry2*((t - 1)^2)\n",
    "qu2=y^2+3*x==ry1*((t - 1)^2)"
   ]
  },
  {
   "cell_type": "code",
   "execution_count": 364,
   "id": "7d0a02ac",
   "metadata": {},
   "outputs": [
    {
     "data": {
      "text/plain": [
       "t^2 - t + 1"
      ]
     },
     "execution_count": 364,
     "metadata": {},
     "output_type": "execute_result"
    }
   ],
   "source": [
    "ry2/ry1"
   ]
  },
  {
   "cell_type": "code",
   "execution_count": null,
   "id": "902dad03",
   "metadata": {},
   "outputs": [],
   "source": []
  },
  {
   "cell_type": "code",
   "execution_count": null,
   "id": "6df66310",
   "metadata": {},
   "outputs": [],
   "source": []
  },
  {
   "cell_type": "code",
   "execution_count": 218,
   "id": "16622045",
   "metadata": {},
   "outputs": [],
   "source": [
    "previ=solve([qu1,qu2],x,y)"
   ]
  },
  {
   "cell_type": "code",
   "execution_count": 219,
   "id": "a109fa69",
   "metadata": {},
   "outputs": [
    {
     "data": {
      "text/plain": [
       "[[x == -t^3 + 2*t^2 - 3*t + 3, y == -t^2]]"
      ]
     },
     "execution_count": 219,
     "metadata": {},
     "output_type": "execute_result"
    }
   ],
   "source": [
    "previ"
   ]
  },
  {
   "cell_type": "code",
   "execution_count": null,
   "id": "f6a66244",
   "metadata": {},
   "outputs": [],
   "source": []
  },
  {
   "cell_type": "code",
   "execution_count": 154,
   "id": "d96d8b22",
   "metadata": {},
   "outputs": [],
   "source": [
    "ma1=(longx2^2-3*longy2).full_simplify().factor()"
   ]
  },
  {
   "cell_type": "code",
   "execution_count": 155,
   "id": "a66eee0b",
   "metadata": {},
   "outputs": [],
   "source": [
    "ma2=(longx2*longy2+9).full_simplify().factor()"
   ]
  },
  {
   "cell_type": "code",
   "execution_count": 156,
   "id": "5c0ef434",
   "metadata": {},
   "outputs": [],
   "source": [
    "ma3=(longy2^2+3*longx2).full_simplify().factor()"
   ]
  },
  {
   "cell_type": "code",
   "execution_count": 86,
   "id": "53296156",
   "metadata": {},
   "outputs": [],
   "source": [
    "disc=ma2^2-4*ma1*ma3"
   ]
  },
  {
   "cell_type": "code",
   "execution_count": 87,
   "id": "9ff40f63",
   "metadata": {},
   "outputs": [
    {
     "data": {
      "text/plain": [
       "2989441/1024"
      ]
     },
     "execution_count": 87,
     "metadata": {},
     "output_type": "execute_result"
    }
   ],
   "source": [
    "disc.subs(sis).subs({t:2})/-3"
   ]
  },
  {
   "cell_type": "code",
   "execution_count": 88,
   "id": "a7a8fbc2",
   "metadata": {},
   "outputs": [],
   "source": [
    "po1=mycollect(ma1,t).subs({q:1}).numerator().subs({t:1})"
   ]
  },
  {
   "cell_type": "code",
   "execution_count": 89,
   "id": "9784d3c8",
   "metadata": {},
   "outputs": [],
   "source": [
    "po2=mycollect(ma2,t).subs({q:1}).numerator().subs({t:1})"
   ]
  },
  {
   "cell_type": "code",
   "execution_count": 90,
   "id": "dfd3edc0",
   "metadata": {},
   "outputs": [],
   "source": [
    "po3=mycollect(ma3,t).subs({q:1}).numerator().subs({t:1})"
   ]
  },
  {
   "cell_type": "code",
   "execution_count": 91,
   "id": "83a1c81c",
   "metadata": {},
   "outputs": [
    {
     "data": {
      "text/plain": [
       "(u^2 - 3*u + 3)*(u^2 + 3)*u^2"
      ]
     },
     "execution_count": 91,
     "metadata": {},
     "output_type": "execute_result"
    }
   ],
   "source": [
    "po1"
   ]
  },
  {
   "cell_type": "code",
   "execution_count": null,
   "id": "acffe38f",
   "metadata": {},
   "outputs": [],
   "source": []
  },
  {
   "cell_type": "code",
   "execution_count": null,
   "id": "cc3523ba",
   "metadata": {},
   "outputs": [],
   "source": []
  },
  {
   "cell_type": "code",
   "execution_count": 143,
   "id": "8e59a853",
   "metadata": {},
   "outputs": [],
   "source": [
    "eqx=(a^2*c^2 + 2*a*c^2*d + c^2*d^2)==1\n",
    "eqy=(a*b*c^2 + a^2*c*d + b*c^2*d + 3*a*c*d^2 + 2*c*d^3)==0\n",
    "eqz=(b^2*c^2 - a*b*c*d + a^2*d^2 + b*c*d^2 + a*d^3 + d^4 == -3*d^2)"
   ]
  },
  {
   "cell_type": "code",
   "execution_count": null,
   "id": "29f1524a",
   "metadata": {},
   "outputs": [],
   "source": []
  },
  {
   "cell_type": "code",
   "execution_count": 144,
   "id": "d7b050a1",
   "metadata": {},
   "outputs": [],
   "source": [
    "solvi=solve([eqx,eqy,eqz],a,b,c)"
   ]
  },
  {
   "cell_type": "code",
   "execution_count": 145,
   "id": "dd48c39a",
   "metadata": {},
   "outputs": [
    {
     "data": {
      "text/plain": [
       "[[a == -d + I, b == I*d^2 - d, c == I], [a == -d - I, b == -I*d^2 - d, c == -I], [a == -d - I, b == I*d^2 + d, c == I], [a == -d + I, b == -I*d^2 + d, c == -I]]"
      ]
     },
     "execution_count": 145,
     "metadata": {},
     "output_type": "execute_result"
    }
   ],
   "source": [
    "solvi"
   ]
  },
  {
   "cell_type": "code",
   "execution_count": 146,
   "id": "ea7fae69",
   "metadata": {},
   "outputs": [
    {
     "data": {
      "text/plain": [
       "2*I*t"
      ]
     },
     "execution_count": 146,
     "metadata": {},
     "output_type": "execute_result"
    }
   ],
   "source": [
    "action.subs(solvi[0]).full_simplify().numerator().subs({d:-i*t})"
   ]
  },
  {
   "cell_type": "code",
   "execution_count": 147,
   "id": "143d9a12",
   "metadata": {},
   "outputs": [
    {
     "data": {
      "text/plain": [
       "0"
      ]
     },
     "execution_count": 147,
     "metadata": {},
     "output_type": "execute_result"
    }
   ],
   "source": [
    "action.subs(solvi[0]).full_simplify().denominator().subs({d:-i*t})"
   ]
  },
  {
   "cell_type": "code",
   "execution_count": 148,
   "id": "1addac2c",
   "metadata": {},
   "outputs": [
    {
     "data": {
      "text/plain": [
       "4*t^2"
      ]
     },
     "execution_count": 148,
     "metadata": {},
     "output_type": "execute_result"
    }
   ],
   "source": [
    "trans2.denominator().subs(solvi[0]).full_simplify().subs({d:-i*t})"
   ]
  },
  {
   "cell_type": "code",
   "execution_count": 149,
   "id": "d53f35c9",
   "metadata": {},
   "outputs": [
    {
     "data": {
      "text/plain": [
       "4*t^4 + 4*t^3 + 4*t^2"
      ]
     },
     "execution_count": 149,
     "metadata": {},
     "output_type": "execute_result"
    }
   ],
   "source": [
    "trans2.numerator().subs(solvi[0]).full_simplify().factor().subs({d:-i*t})"
   ]
  },
  {
   "cell_type": "code",
   "execution_count": 151,
   "id": "d3c81516",
   "metadata": {},
   "outputs": [
    {
     "data": {
      "text/plain": [
       "-8*t^3 - 4*t^2"
      ]
     },
     "execution_count": 151,
     "metadata": {},
     "output_type": "execute_result"
    }
   ],
   "source": [
    "trans1.numerator().subs(solvi[0]).full_simplify().factor().subs({d:-i*t}).expand()"
   ]
  },
  {
   "cell_type": "code",
   "execution_count": null,
   "id": "af0f8da3",
   "metadata": {},
   "outputs": [],
   "source": []
  },
  {
   "cell_type": "code",
   "execution_count": null,
   "id": "9d89407b",
   "metadata": {},
   "outputs": [],
   "source": []
  }
 ],
 "metadata": {
  "kernelspec": {
   "display_name": "SageMath 9.7 [conda env:sagemath]",
   "language": "sage",
   "name": "conda-env-sagemath-sagemath"
  },
  "language_info": {
   "codemirror_mode": {
    "name": "ipython",
    "version": 3
   },
   "file_extension": ".py",
   "mimetype": "text/x-python",
   "name": "python",
   "nbconvert_exporter": "python",
   "pygments_lexer": "ipython3",
   "version": "3.10.4"
  }
 },
 "nbformat": 4,
 "nbformat_minor": 5
}
