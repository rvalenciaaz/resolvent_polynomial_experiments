{
 "cells": [
  {
   "cell_type": "code",
   "execution_count": 69,
   "id": "586b660a",
   "metadata": {},
   "outputs": [],
   "source": [
    "def mycollect(e1, e2):\n",
    "    \"\"\"\n",
    "    Collects e2 coefficients in e1, even when e2 is not a factor of\n",
    "    some of the terms of e1\n",
    "    \"\"\"\n",
    "    g = maxima_calculus.gensym()._sage_()\n",
    "    while g in e1.variables(): g = maxima_calculus.gensym()._sage_()\n",
    "    return sum([v[0]*g^v[1]\n",
    "                for v in e1.subs(e2==g).coefficients(g)]).subs(g==e2)"
   ]
  },
  {
   "cell_type": "code",
   "execution_count": 70,
   "id": "225d1847",
   "metadata": {},
   "outputs": [],
   "source": [
    "def division(dividend, divisor) : \n",
    "    q,r = dividend.maxima_methods().divide(divisor)\n",
    "    return q,r"
   ]
  },
  {
   "cell_type": "code",
   "execution_count": 71,
   "id": "0951fcdd",
   "metadata": {},
   "outputs": [
    {
     "data": {
      "text/plain": [
       "(a_1, a_0)"
      ]
     },
     "execution_count": 71,
     "metadata": {},
     "output_type": "execute_result"
    }
   ],
   "source": [
    "var(\"a_1,a_0\")"
   ]
  },
  {
   "cell_type": "code",
   "execution_count": 72,
   "id": "f9bd9cba",
   "metadata": {},
   "outputs": [],
   "source": [
    "disc_list=[1,1,a_1^2-4*a_0]"
   ]
  },
  {
   "cell_type": "code",
   "execution_count": 73,
   "id": "bddf95ac",
   "metadata": {},
   "outputs": [],
   "source": [
    "deg=2"
   ]
  },
  {
   "cell_type": "code",
   "execution_count": 74,
   "id": "116b0938",
   "metadata": {},
   "outputs": [],
   "source": [
    "var_list=[\"a_\"+str(i) for i in range(0,deg)]"
   ]
  },
  {
   "cell_type": "code",
   "execution_count": 75,
   "id": "81880a8c",
   "metadata": {},
   "outputs": [
    {
     "data": {
      "text/plain": [
       "(a_0, a_1, alpha)"
      ]
     },
     "execution_count": 75,
     "metadata": {},
     "output_type": "execute_result"
    }
   ],
   "source": [
    "var(var_list+[\"alpha\"])"
   ]
  },
  {
   "cell_type": "code",
   "execution_count": 76,
   "id": "66f4fb0b",
   "metadata": {},
   "outputs": [
    {
     "data": {
      "text/plain": [
       "(x_1, x_2, x_3, x_4, x_5, y, p)"
      ]
     },
     "execution_count": 76,
     "metadata": {},
     "output_type": "execute_result"
    }
   ],
   "source": [
    "var(\"x_1,x_2,x_3,x_4,x_5,y,p\")"
   ]
  },
  {
   "cell_type": "code",
   "execution_count": null,
   "id": "f4556807",
   "metadata": {},
   "outputs": [],
   "source": []
  },
  {
   "cell_type": "code",
   "execution_count": 77,
   "id": "d5bd5516",
   "metadata": {},
   "outputs": [],
   "source": [
    "d_coef=[i*(i+1)/2 for i in range(1,deg)]"
   ]
  },
  {
   "cell_type": "code",
   "execution_count": null,
   "id": "77f0506e",
   "metadata": {},
   "outputs": [],
   "source": []
  },
  {
   "cell_type": "code",
   "execution_count": 78,
   "id": "5a3eb1b2",
   "metadata": {},
   "outputs": [],
   "source": [
    "d_sym=[eval(\"a_\"+str(i)) for i in range(0,deg)]\n",
    "d_sym=d_sym[-(deg-2):]+[1]"
   ]
  },
  {
   "cell_type": "code",
   "execution_count": 79,
   "id": "643779b7",
   "metadata": {},
   "outputs": [
    {
     "data": {
      "text/plain": [
       "[a_0, a_1, 1]"
      ]
     },
     "execution_count": 79,
     "metadata": {},
     "output_type": "execute_result"
    }
   ],
   "source": [
    "d_sym"
   ]
  },
  {
   "cell_type": "code",
   "execution_count": 43,
   "id": "9d929b21",
   "metadata": {},
   "outputs": [],
   "source": [
    "d_alpha=[eval(\"alpha**\"+str(i)) for i in range (0,deg-1)]"
   ]
  },
  {
   "cell_type": "code",
   "execution_count": 44,
   "id": "53006e90",
   "metadata": {},
   "outputs": [],
   "source": [
    "d_exp=sum([i*j*k for i,j,k in zip(d_coef,d_sym,d_alpha)])"
   ]
  },
  {
   "cell_type": "code",
   "execution_count": 45,
   "id": "8b581a1a",
   "metadata": {},
   "outputs": [
    {
     "data": {
      "text/plain": [
       "a_0"
      ]
     },
     "execution_count": 45,
     "metadata": {},
     "output_type": "execute_result"
    }
   ],
   "source": [
    "d_exp"
   ]
  },
  {
   "cell_type": "code",
   "execution_count": 46,
   "id": "07d6d171",
   "metadata": {},
   "outputs": [],
   "source": [
    "n_coef=[2,2]\n",
    "for j in range(0,deg-3):\n",
    "    n_coef=n_coef+[0]\n",
    "    add=list(range(1,j+4))\n",
    "    n_coef=[x + y for x, y in zip(n_coef, add)]"
   ]
  },
  {
   "cell_type": "code",
   "execution_count": 47,
   "id": "e0912d38",
   "metadata": {},
   "outputs": [
    {
     "data": {
      "text/plain": [
       "[2, 2]"
      ]
     },
     "execution_count": 47,
     "metadata": {},
     "output_type": "execute_result"
    }
   ],
   "source": [
    "n_coef"
   ]
  },
  {
   "cell_type": "code",
   "execution_count": 48,
   "id": "585505d2",
   "metadata": {},
   "outputs": [],
   "source": [
    "eqb_sym=[eval(\"a_\"+str(i)) for i in range(0,deg)]\n",
    "eqb_sym=eqb_sym[-(deg-1):]"
   ]
  },
  {
   "cell_type": "code",
   "execution_count": null,
   "id": "4e7939ac",
   "metadata": {},
   "outputs": [],
   "source": []
  },
  {
   "cell_type": "code",
   "execution_count": 49,
   "id": "96d99453",
   "metadata": {},
   "outputs": [],
   "source": [
    "eqb_exp=sum([i*j*k for i,j,k in zip(n_coef,d_alpha,eqb_sym)])"
   ]
  },
  {
   "cell_type": "code",
   "execution_count": 50,
   "id": "f7352dfe",
   "metadata": {},
   "outputs": [
    {
     "data": {
      "text/plain": [
       "2*a_1"
      ]
     },
     "execution_count": 50,
     "metadata": {},
     "output_type": "execute_result"
    }
   ],
   "source": [
    "eqb_exp"
   ]
  },
  {
   "cell_type": "code",
   "execution_count": 51,
   "id": "61c7bcd4",
   "metadata": {},
   "outputs": [],
   "source": [
    "d_coef_rev=list(reversed(d_coef))"
   ]
  },
  {
   "cell_type": "code",
   "execution_count": 52,
   "id": "7e0402d5",
   "metadata": {},
   "outputs": [],
   "source": [
    "eqc_sym=[eval(\"a_\"+str(i)) for i in range(0,deg)]\n",
    "eqc_sym=eqc_sym[0:(deg-1)]"
   ]
  },
  {
   "cell_type": "code",
   "execution_count": 53,
   "id": "e6d57a8e",
   "metadata": {},
   "outputs": [
    {
     "data": {
      "text/plain": [
       "([a_0], [1], [1])"
      ]
     },
     "execution_count": 53,
     "metadata": {},
     "output_type": "execute_result"
    }
   ],
   "source": [
    "eqc_sym, d_coef_rev,d_alpha"
   ]
  },
  {
   "cell_type": "code",
   "execution_count": 54,
   "id": "15c7376f",
   "metadata": {},
   "outputs": [],
   "source": [
    "eqc_exp=sum([i*j*k for i,j,k in zip(d_coef_rev,d_alpha,eqc_sym)])"
   ]
  },
  {
   "cell_type": "code",
   "execution_count": 55,
   "id": "e513c9b9",
   "metadata": {},
   "outputs": [
    {
     "data": {
      "text/plain": [
       "a_0"
      ]
     },
     "execution_count": 55,
     "metadata": {},
     "output_type": "execute_result"
    }
   ],
   "source": [
    "eqc_exp"
   ]
  },
  {
   "cell_type": "code",
   "execution_count": 56,
   "id": "ab85334a",
   "metadata": {},
   "outputs": [
    {
     "data": {
      "text/plain": [
       "a_0"
      ]
     },
     "execution_count": 56,
     "metadata": {},
     "output_type": "execute_result"
    }
   ],
   "source": [
    "d_exp"
   ]
  },
  {
   "cell_type": "code",
   "execution_count": 63,
   "id": "ae3380a6",
   "metadata": {},
   "outputs": [
    {
     "data": {
      "text/plain": [
       "2*a_1"
      ]
     },
     "execution_count": 63,
     "metadata": {},
     "output_type": "execute_result"
    }
   ],
   "source": [
    "eqb_exp"
   ]
  },
  {
   "cell_type": "code",
   "execution_count": 65,
   "id": "f18ccba6",
   "metadata": {},
   "outputs": [
    {
     "data": {
      "text/plain": [
       "-a_1/a_0"
      ]
     },
     "execution_count": 65,
     "metadata": {},
     "output_type": "execute_result"
    }
   ],
   "source": [
    "ratio"
   ]
  },
  {
   "cell_type": "code",
   "execution_count": null,
   "id": "9cf8c012",
   "metadata": {},
   "outputs": [],
   "source": []
  },
  {
   "cell_type": "code",
   "execution_count": 66,
   "id": "229430e9",
   "metadata": {},
   "outputs": [],
   "source": [
    "#-----------------------------------------------------------------------------------------------"
   ]
  },
  {
   "cell_type": "code",
   "execution_count": 67,
   "id": "9422fe13",
   "metadata": {},
   "outputs": [],
   "source": [
    "ratio=-1/2*(eqb_exp/d_exp)"
   ]
  },
  {
   "cell_type": "code",
   "execution_count": 68,
   "id": "c20d025e",
   "metadata": {},
   "outputs": [
    {
     "data": {
      "text/plain": [
       "-a_1/a_0"
      ]
     },
     "execution_count": 68,
     "metadata": {},
     "output_type": "execute_result"
    }
   ],
   "source": [
    "ratio"
   ]
  },
  {
   "cell_type": "code",
   "execution_count": 58,
   "id": "d5877843",
   "metadata": {},
   "outputs": [],
   "source": [
    "eqb=eqb_exp/d_exp\n",
    "eqc=eqc_exp/d_exp"
   ]
  },
  {
   "cell_type": "code",
   "execution_count": 59,
   "id": "cb90b8ce",
   "metadata": {},
   "outputs": [],
   "source": [
    "formula1=((-4/(deg-1)^2)*(ratio^2+eqb*ratio+eqc)*(d_exp^2)).full_simplify().factor() #"
   ]
  },
  {
   "cell_type": "code",
   "execution_count": 60,
   "id": "57c9d67f",
   "metadata": {},
   "outputs": [],
   "source": [
    "formula2=((1/(deg-1)^2)*(eqb_exp^2-4*eqc_exp*d_exp)).full_simplify().factor()"
   ]
  },
  {
   "cell_type": "code",
   "execution_count": 61,
   "id": "84247bd8",
   "metadata": {},
   "outputs": [
    {
     "data": {
      "text/plain": [
       "1"
      ]
     },
     "execution_count": 61,
     "metadata": {},
     "output_type": "execute_result"
    }
   ],
   "source": [
    "formula1/formula2"
   ]
  },
  {
   "cell_type": "code",
   "execution_count": 134,
   "id": "ae49e982",
   "metadata": {},
   "outputs": [],
   "source": [
    "formula=formula2"
   ]
  },
  {
   "cell_type": "code",
   "execution_count": 62,
   "id": "890ab5eb",
   "metadata": {},
   "outputs": [
    {
     "data": {
      "text/plain": [
       "-4*(a_0 + a_1)*(a_0 - a_1)"
      ]
     },
     "execution_count": 62,
     "metadata": {},
     "output_type": "execute_result"
    }
   ],
   "source": [
    "formula1"
   ]
  },
  {
   "cell_type": "code",
   "execution_count": 135,
   "id": "6f112208",
   "metadata": {},
   "outputs": [],
   "source": [
    "che=mycollect(formula,alpha)"
   ]
  },
  {
   "cell_type": "code",
   "execution_count": 136,
   "id": "229dd19f",
   "metadata": {},
   "outputs": [],
   "source": [
    "che2=solve(che==0,alpha)"
   ]
  },
  {
   "cell_type": "code",
   "execution_count": 198,
   "id": "8c828816",
   "metadata": {},
   "outputs": [],
   "source": [
    "ele_3={alpha:x_1,a_2:-x_1-x_2-x_3,a_1:x_1*x_2+x_1*x_3+x_2*x_3,a_0:-x_1*x_2*x_3}\n",
    "ele_3_s={a_2:-x_1-x_2-x_3,a_1:x_1*x_2+x_1*x_3+x_2*x_3,a_0:-x_1*x_2*x_3}\n",
    "#ele_4="
   ]
  },
  {
   "cell_type": "code",
   "execution_count": 191,
   "id": "d9f82f78",
   "metadata": {},
   "outputs": [],
   "source": [
    "sf=formula.subs(ele_3).full_simplify().factor()"
   ]
  },
  {
   "cell_type": "code",
   "execution_count": 192,
   "id": "fb78ced6",
   "metadata": {},
   "outputs": [
    {
     "data": {
      "text/plain": [
       "(x_1 - x_2)^2*(x_1 - x_3)^2"
      ]
     },
     "execution_count": 192,
     "metadata": {},
     "output_type": "execute_result"
    }
   ],
   "source": [
    "sf"
   ]
  },
  {
   "cell_type": "code",
   "execution_count": 171,
   "id": "c7a2ee83",
   "metadata": {},
   "outputs": [],
   "source": [
    "qvan=d_exp*x_1+1/2*eqb_exp"
   ]
  },
  {
   "cell_type": "code",
   "execution_count": null,
   "id": "3d94d469",
   "metadata": {},
   "outputs": [],
   "source": []
  },
  {
   "cell_type": "code",
   "execution_count": 173,
   "id": "92c2b4c0",
   "metadata": {},
   "outputs": [],
   "source": [
    "qvan=mycollect(qvan.subs({x_1:alpha}),alpha)"
   ]
  },
  {
   "cell_type": "code",
   "execution_count": 174,
   "id": "824809a6",
   "metadata": {},
   "outputs": [
    {
     "data": {
      "text/plain": [
       "2*a_2*alpha + 3*alpha^2 + a_1"
      ]
     },
     "execution_count": 174,
     "metadata": {},
     "output_type": "execute_result"
    }
   ],
   "source": [
    "qvan"
   ]
  },
  {
   "cell_type": "code",
   "execution_count": 175,
   "id": "a723805b",
   "metadata": {},
   "outputs": [],
   "source": [
    "qvan_con=qvan.subs(ele_3).full_simplify().factor()"
   ]
  },
  {
   "cell_type": "code",
   "execution_count": 176,
   "id": "bc7fd46f",
   "metadata": {},
   "outputs": [
    {
     "data": {
      "text/plain": [
       "2*a_2*alpha + 3*alpha^2 + a_1"
      ]
     },
     "execution_count": 176,
     "metadata": {},
     "output_type": "execute_result"
    }
   ],
   "source": [
    "qvan"
   ]
  },
  {
   "cell_type": "code",
   "execution_count": 193,
   "id": "0e82653f",
   "metadata": {},
   "outputs": [
    {
     "data": {
      "text/plain": [
       "(x_1 - x_2)*(x_1 - x_3)"
      ]
     },
     "execution_count": 193,
     "metadata": {},
     "output_type": "execute_result"
    }
   ],
   "source": [
    "sf/qvan_con"
   ]
  },
  {
   "cell_type": "code",
   "execution_count": 195,
   "id": "518d17d3",
   "metadata": {},
   "outputs": [
    {
     "data": {
      "text/plain": [
       "(1/3*a_2^2 - a_1,\n",
       " -1/3*a_1*a_2^2 + 2*a_1^2 - 3*a_0*a_2 - 1/3*(2*a_2^3 - 9*a_1*a_2 + 27*a_0)*alpha)"
      ]
     },
     "execution_count": 195,
     "metadata": {},
     "output_type": "execute_result"
    }
   ],
   "source": [
    "division(formula,qvan)"
   ]
  },
  {
   "cell_type": "code",
   "execution_count": 188,
   "id": "006fe167",
   "metadata": {},
   "outputs": [
    {
     "data": {
      "text/plain": [
       "1/3*(2*x_1^2 - 2*x_1*x_2 - x_2^2 - 2*x_1*x_3 + 4*x_2*x_3 - x_3^2)*(x_1 - x_2)*(x_1 - x_3)"
      ]
     },
     "execution_count": 188,
     "metadata": {},
     "output_type": "execute_result"
    }
   ],
   "source": [
    " (-1/3*a_1*a_2^2 + 2*a_1^2 - 3*a_0*a_2 - 1/3*(2*a_2^3 - 9*a_1*a_2 + 27*a_0)*alpha).subs(ele_3).full_simplify().factor()"
   ]
  },
  {
   "cell_type": "code",
   "execution_count": 199,
   "id": "1d52f972",
   "metadata": {},
   "outputs": [],
   "source": [
    "sal=solve(formula==0,alpha)"
   ]
  },
  {
   "cell_type": "code",
   "execution_count": 238,
   "id": "0d68c43a",
   "metadata": {},
   "outputs": [
    {
     "data": {
      "text/plain": [
       "[alpha == -1/2*(a_1*a_2 - 9*a_0 - sqrt(-3*a_1^2*a_2^2 + 12*a_0*a_2^3 + 12*a_1^3 - 54*a_0*a_1*a_2 + 81*a_0^2))/(a_2^2 - 3*a_1), alpha == -1/2*(a_1*a_2 - 9*a_0 + sqrt(-3*a_1^2*a_2^2 + 12*a_0*a_2^3 + 12*a_1^3 - 54*a_0*a_1*a_2 + 81*a_0^2))/(a_2^2 - 3*a_1)]"
      ]
     },
     "execution_count": 238,
     "metadata": {},
     "output_type": "execute_result"
    }
   ],
   "source": [
    "sal"
   ]
  },
  {
   "cell_type": "code",
   "execution_count": 207,
   "id": "4d5f6f5b",
   "metadata": {},
   "outputs": [
    {
     "data": {
      "text/plain": [
       "x^3 - 6*x^2 + 11*x - 6"
      ]
     },
     "execution_count": 207,
     "metadata": {},
     "output_type": "execute_result"
    }
   ],
   "source": [
    "((x-1)*(x-2)*(x-3)).expand()"
   ]
  },
  {
   "cell_type": "code",
   "execution_count": null,
   "id": "55c3ef41",
   "metadata": {},
   "outputs": [],
   "source": []
  },
  {
   "cell_type": "code",
   "execution_count": null,
   "id": "fccaa090",
   "metadata": {},
   "outputs": [],
   "source": []
  },
  {
   "cell_type": "code",
   "execution_count": null,
   "id": "af69728b",
   "metadata": {},
   "outputs": [],
   "source": []
  },
  {
   "cell_type": "code",
   "execution_count": null,
   "id": "d1c019a1",
   "metadata": {},
   "outputs": [],
   "source": []
  },
  {
   "cell_type": "code",
   "execution_count": null,
   "id": "2475591c",
   "metadata": {},
   "outputs": [],
   "source": []
  },
  {
   "cell_type": "code",
   "execution_count": 382,
   "id": "daca4239",
   "metadata": {},
   "outputs": [],
   "source": [
    "f1=(eqb_exp^2).full_simplify().expand()"
   ]
  },
  {
   "cell_type": "code",
   "execution_count": 383,
   "id": "249aaaa2",
   "metadata": {},
   "outputs": [],
   "source": [
    "f2=(4*eqc_exp*d_exp).full_simplify().expand()"
   ]
  },
  {
   "cell_type": "code",
   "execution_count": 384,
   "id": "8c074262",
   "metadata": {},
   "outputs": [],
   "source": [
    "#(mycollect(f1,alpha)-(9*a_3^2)*(alpha^4+a_3*alpha^3+a_2*alpha^2+a_1*alpha+a_0)).full_simplify()"
   ]
  },
  {
   "cell_type": "code",
   "execution_count": 385,
   "id": "6f7476a4",
   "metadata": {},
   "outputs": [],
   "source": [
    "#(mycollect(f2,alpha)-24*a_2*(alpha^4+a_3*alpha^3+a_2*alpha^2+a_1*alpha+a_0)).full_simplify()"
   ]
  },
  {
   "cell_type": "code",
   "execution_count": null,
   "id": "3cb4deff",
   "metadata": {},
   "outputs": [],
   "source": [
    "ele_2={a_1:-x_1-x_2,a_0:x_1*x_2}\n",
    "ele_3={a_2:-x_1-x_2-x_3,a_1:x_1*x_2+x_1*x_3+x_2*x_3,a_0:-x_1*x_2*x_3}"
   ]
  },
  {
   "cell_type": "markdown",
   "id": "0165dfbc",
   "metadata": {},
   "source": [
    "(a_1^2-4*a_0).subs(ele_2).full_simplify().expand()"
   ]
  },
  {
   "cell_type": "markdown",
   "id": "42485f94",
   "metadata": {},
   "source": [
    "(a_1^2*a_2^2 - 4*a_0*a_2^3 - 4*a_1^3 + 18*a_0*a_1*a_2 - 27*a_0^2).subs(ele_3).expand()"
   ]
  },
  {
   "cell_type": "markdown",
   "id": "a6f9b124",
   "metadata": {},
   "source": [
    "x_1^4x_2^2 - 2x_1^3x_2^3 + x_1^2x_2^4 - 2x_1^4x_2x_3 + 2x_1^3x_2^2x_3 + 2x_1^2x_2^3x_3 - 2x_1x_2^4x_3 + x_1^4x_3^2 + 2x_1^3x_2x_3^2 - 6x_1^2x_2^2x_3^2 + 2x_1x_2^3x_3^2 + x_2^4x_3^2 - 2x_1^3x_3^3 + 2x_1^2x_2x_3^3 + 2x_1x_2^2x_3^3 - 2x_2^3x_3^3 + x_1^2x_3^4 - 2x_1x_2x_3^4 + x_2^2x_3^4"
   ]
  },
  {
   "cell_type": "markdown",
   "id": "798031e0",
   "metadata": {},
   "source": [
    "test1=(a_2^2 - 3*a_1).subs({alpha:x_1,a_2:-x_1-x_2-x_3,a_1:x_1*x_2+x_1*x_3+x_2*x_3,a_0:-x_1*x_2*x_3}).full_simplify()"
   ]
  },
  {
   "cell_type": "markdown",
   "id": "4d4090ed",
   "metadata": {},
   "source": [
    "test1s=test1.subs({x_1:x_2,x_2:x_1})"
   ]
  },
  {
   "cell_type": "markdown",
   "id": "13ce261b",
   "metadata": {},
   "source": [
    "test2=(a_1*a_2 - 9*a_0).subs({alpha:x_1,a_2:-x_1-x_2-x_3,a_1:x_1*x_2+x_1*x_3+x_2*x_3,a_0:-x_1*x_2*x_3}).full_simplify()"
   ]
  },
  {
   "cell_type": "markdown",
   "id": "cf37b44d",
   "metadata": {},
   "source": [
    "mycollect(test2,x_3)"
   ]
  },
  {
   "cell_type": "code",
   "execution_count": 105,
   "id": "e5b928ff",
   "metadata": {},
   "outputs": [],
   "source": [
    "e = SymmetricFunctions(QQ).e()"
   ]
  },
  {
   "cell_type": "code",
   "execution_count": 107,
   "id": "3a2b10d8",
   "metadata": {},
   "outputs": [
    {
     "data": {
      "text/plain": [
       "x0 + x1 + x2"
      ]
     },
     "execution_count": 107,
     "metadata": {},
     "output_type": "execute_result"
    }
   ],
   "source": [
    "e([1]).expand(3)"
   ]
  },
  {
   "cell_type": "markdown",
   "id": "17edd41b",
   "metadata": {},
   "source": [
    "x_1*x_2 + x_1*x_3 + x_2*x_3 + x_1*x_4 + x_2*x_4 + x_3*x_4 + x_1*x_5 + x_2*x_5 + x_3*x_5 + x_4*x_5\n",
    "x_1*x_2*x_3 + x_1*x_2*x_4 + x_1*x_3*x_4 + x_2*x_3*x_4 + x_1*x_2*x_5 + x_1*x_3*x_5 + x_2*x_3*x_5 + x_1*x_4*x_5 + x_2*x_4*x_5 + x_3*x_4*x_5\n",
    "x_1*x_2*x_3*x_4 + x_1*x_2*x_3*x_5 + x_1*x_2*x_4*x_5 + x_1*x_3*x_4*x_5 + x_2*x_3*x_4*x_5"
   ]
  },
  {
   "cell_type": "code",
   "execution_count": 386,
   "id": "24982418",
   "metadata": {},
   "outputs": [],
   "source": [
    "#ele_5={a_4:-(x_1 + x_2 + x_3 + x_4 + x_5),a_3:(x_1*x_2 + x_1*x_3 + x_2*x_3 + x_1*x_4 + x_2*x_4 + x_3*x_4 + x_1*x_5 + x_2*x_5 + x_3*x_5 + x_4*x_5),\n",
    "#              a_2:-(x_1*x_2*x_3 + x_1*x_2*x_4 + x_1*x_3*x_4 + x_2*x_3*x_4 + x_1*x_2*x_5 + x_1*x_3*x_5 + x_2*x_3*x_5 + x_1*x_4*x_5 + x_2*x_4*x_5 + x_3*x_4*x_5),\n",
    "#             a_1:(x_1*x_2*x_3*x_4 + x_1*x_2*x_3*x_5 + x_1*x_2*x_4*x_5 + x_1*x_3*x_4*x_5 + x_2*x_3*x_4*x_5),a_0:-(x_1*x_2*x_3*x_4*x_5)}"
   ]
  },
  {
   "cell_type": "code",
   "execution_count": 387,
   "id": "1cfd2547",
   "metadata": {},
   "outputs": [],
   "source": [
    "#verification\n",
    "#formula.subs({alpha:x_3,a_2:-x_1-x_2-x_3,a_1:x_1*x_2+x_1*x_3+x_2*x_3,a_0:-x_1*x_2*x_3}).full_simplify().factor()\n",
    "#formula.subs({alpha:x_1,a_3:-(x_1+x_2+x_3+x_4),a_2:(x_3*x_4+x_2*x_4+x_2*x_3+x_1*x_4+x_1*x_3+x_1*x_2),a_1:-(x_1*x_2*x_3+x_1*x_2*x_4+x_1*x_3*x_4+x_2*x_3*x_4),a_0:(x_1*x_2*x_3*x_4)}).full_simplify().factor()\n",
    "#formula.subs({alpha:x_1,a_4:-(x_1 + x_2 + x_3 + x_4 + x_5),a_3:(x_1*x_2 + x_1*x_3 + x_2*x_3 + x_1*x_4 + x_2*x_4 + x_3*x_4 + x_1*x_5 + x_2*x_5 + x_3*x_5 + x_4*x_5),\n",
    "#              a_2:-(x_1*x_2*x_3 + x_1*x_2*x_4 + x_1*x_3*x_4 + x_2*x_3*x_4 + x_1*x_2*x_5 + x_1*x_3*x_5 + x_2*x_3*x_5 + x_1*x_4*x_5 + x_2*x_4*x_5 + x_3*x_4*x_5),\n",
    "#              a_1:(x_1*x_2*x_3*x_4 + x_1*x_2*x_3*x_5 + x_1*x_2*x_4*x_5 + x_1*x_3*x_4*x_5 + x_2*x_3*x_4*x_5),a_0:-(x_1*x_2*x_3*x_4*x_5)}).full_simplify().factor()"
   ]
  },
  {
   "cell_type": "code",
   "execution_count": 388,
   "id": "0f2980be",
   "metadata": {},
   "outputs": [],
   "source": [
    "coeffs=[eval(\"a_\"+str(i)) for i in range(0,deg)]+[1]\n",
    "alphas=[eval(\"alpha**\"+str(i)) for i in range (0,deg+1)]"
   ]
  },
  {
   "cell_type": "code",
   "execution_count": 389,
   "id": "8c8d9ae7",
   "metadata": {},
   "outputs": [],
   "source": [
    "full=sum([x*y for x,y in zip(coeffs,alphas)])"
   ]
  },
  {
   "cell_type": "code",
   "execution_count": 390,
   "id": "904b955b",
   "metadata": {},
   "outputs": [],
   "source": [
    "tmp=formula\n",
    "for i in range(0,deg-3):\n",
    "    tmp=mycollect(tmp,alpha)\n",
    "    leading=tmp.operands()[0].subs({alpha:1})\n",
    "    tmp=(tmp-leading*alpha^((deg-3)-i-1)*full).full_simplify()"
   ]
  },
  {
   "cell_type": "code",
   "execution_count": 391,
   "id": "a8e5d9fe",
   "metadata": {},
   "outputs": [],
   "source": [
    "simfo=mycollect(tmp,alpha)"
   ]
  },
  {
   "cell_type": "code",
   "execution_count": 392,
   "id": "9c2bd263",
   "metadata": {},
   "outputs": [
    {
     "data": {
      "text/plain": [
       "(a_4^4 - 5*a_3*a_4^2 + 4*a_3^2 + 6*a_2*a_4 - 15*a_1)*alpha^4 + a_0*a_4^3 + (a_3*a_4^3 - a_2*a_4^2 + 12*a_2*a_3 - (4*a_3^2 + 7*a_1)*a_4 - 25*a_0)*alpha^3 - 4*a_0*a_3*a_4 + (a_2*a_4^3 - a_1*a_4^2 + 9*a_2^2 + a_1*a_3 - (4*a_2*a_3 + 15*a_0)*a_4)*alpha^2 + a_1^2 + 5*a_0*a_2 + (a_1*a_4^3 - 4*a_1*a_3*a_4 - a_0*a_4^2 + 9*a_1*a_2 - 5*a_0*a_3)*alpha"
      ]
     },
     "execution_count": 392,
     "metadata": {},
     "output_type": "execute_result"
    }
   ],
   "source": [
    "simfo"
   ]
  },
  {
   "cell_type": "code",
   "execution_count": 393,
   "id": "6f763e51",
   "metadata": {},
   "outputs": [],
   "source": [
    "simfo_terms=simfo.operands()"
   ]
  },
  {
   "cell_type": "code",
   "execution_count": 394,
   "id": "c4c5c3a1",
   "metadata": {},
   "outputs": [
    {
     "data": {
      "text/plain": [
       "[(a_4^4 - 5*a_3*a_4^2 + 4*a_3^2 + 6*a_2*a_4 - 15*a_1)*alpha^4,\n",
       " a_0*a_4^3,\n",
       " (a_3*a_4^3 - a_2*a_4^2 + 12*a_2*a_3 - (4*a_3^2 + 7*a_1)*a_4 - 25*a_0)*alpha^3,\n",
       " -4*a_0*a_3*a_4,\n",
       " (a_2*a_4^3 - a_1*a_4^2 + 9*a_2^2 + a_1*a_3 - (4*a_2*a_3 + 15*a_0)*a_4)*alpha^2,\n",
       " a_1^2,\n",
       " 5*a_0*a_2,\n",
       " (a_1*a_4^3 - 4*a_1*a_3*a_4 - a_0*a_4^2 + 9*a_1*a_2 - 5*a_0*a_3)*alpha]"
      ]
     },
     "execution_count": 394,
     "metadata": {},
     "output_type": "execute_result"
    }
   ],
   "source": [
    "simfo_terms"
   ]
  },
  {
   "cell_type": "code",
   "execution_count": 395,
   "id": "cf319b3c",
   "metadata": {},
   "outputs": [],
   "source": [
    "lonely_terms=[i for i in simfo_terms if not(i.has(alpha))]"
   ]
  },
  {
   "cell_type": "code",
   "execution_count": 396,
   "id": "f1145ca3",
   "metadata": {},
   "outputs": [],
   "source": [
    "fixed=[i for i in simfo_terms if i not in lonely_terms]+[sum(lonely_terms)]"
   ]
  },
  {
   "cell_type": "code",
   "execution_count": 397,
   "id": "e9cac895",
   "metadata": {},
   "outputs": [
    {
     "data": {
      "text/plain": [
       "[(a_4^4 - 5*a_3*a_4^2 + 4*a_3^2 + 6*a_2*a_4 - 15*a_1)*alpha^4,\n",
       " (a_3*a_4^3 - a_2*a_4^2 + 12*a_2*a_3 - (4*a_3^2 + 7*a_1)*a_4 - 25*a_0)*alpha^3,\n",
       " (a_2*a_4^3 - a_1*a_4^2 + 9*a_2^2 + a_1*a_3 - (4*a_2*a_3 + 15*a_0)*a_4)*alpha^2,\n",
       " (a_1*a_4^3 - 4*a_1*a_3*a_4 - a_0*a_4^2 + 9*a_1*a_2 - 5*a_0*a_3)*alpha,\n",
       " a_0*a_4^3 - 4*a_0*a_3*a_4 + a_1^2 + 5*a_0*a_2]"
      ]
     },
     "execution_count": 397,
     "metadata": {},
     "output_type": "execute_result"
    }
   ],
   "source": [
    "fixed"
   ]
  },
  {
   "cell_type": "code",
   "execution_count": 398,
   "id": "3146dfa0",
   "metadata": {},
   "outputs": [],
   "source": [
    "fixed_only=[i.subs({alpha:1}) for i in fixed]"
   ]
  },
  {
   "cell_type": "code",
   "execution_count": 399,
   "id": "395b6d55",
   "metadata": {},
   "outputs": [],
   "source": [
    "fixed_only_2=[i/fixed_only[0] for i in fixed_only]"
   ]
  },
  {
   "cell_type": "code",
   "execution_count": 400,
   "id": "e8359aa8",
   "metadata": {},
   "outputs": [
    {
     "data": {
      "text/plain": [
       "[1,\n",
       " (a_3*a_4^3 - a_2*a_4^2 + 12*a_2*a_3 - (4*a_3^2 + 7*a_1)*a_4 - 25*a_0)/(a_4^4 - 5*a_3*a_4^2 + 4*a_3^2 + 6*a_2*a_4 - 15*a_1),\n",
       " (a_2*a_4^3 - a_1*a_4^2 + 9*a_2^2 + a_1*a_3 - (4*a_2*a_3 + 15*a_0)*a_4)/(a_4^4 - 5*a_3*a_4^2 + 4*a_3^2 + 6*a_2*a_4 - 15*a_1),\n",
       " (a_1*a_4^3 - 4*a_1*a_3*a_4 - a_0*a_4^2 + 9*a_1*a_2 - 5*a_0*a_3)/(a_4^4 - 5*a_3*a_4^2 + 4*a_3^2 + 6*a_2*a_4 - 15*a_1),\n",
       " (a_0*a_4^3 - 4*a_0*a_3*a_4 + a_1^2 + 5*a_0*a_2)/(a_4^4 - 5*a_3*a_4^2 + 4*a_3^2 + 6*a_2*a_4 - 15*a_1)]"
      ]
     },
     "execution_count": 400,
     "metadata": {},
     "output_type": "execute_result"
    }
   ],
   "source": [
    "fixed_only_2"
   ]
  },
  {
   "cell_type": "code",
   "execution_count": 401,
   "id": "3816cb26",
   "metadata": {},
   "outputs": [],
   "source": [
    "cal_list=list(reversed(fixed_only_2[1:]))\n",
    "co_list=[eval(\"a_\"+str(i)) for i in range(0,deg)][:deg-1]"
   ]
  },
  {
   "cell_type": "code",
   "execution_count": 402,
   "id": "c912fb28",
   "metadata": {},
   "outputs": [],
   "source": [
    "subi=dict(zip(co_list,cal_list))"
   ]
  },
  {
   "cell_type": "code",
   "execution_count": 403,
   "id": "c3e18fa4",
   "metadata": {},
   "outputs": [
    {
     "data": {
      "text/plain": [
       "{a_0: (a_0*a_4^3 - 4*a_0*a_3*a_4 + a_1^2 + 5*a_0*a_2)/(a_4^4 - 5*a_3*a_4^2 + 4*a_3^2 + 6*a_2*a_4 - 15*a_1),\n",
       " a_1: (a_1*a_4^3 - 4*a_1*a_3*a_4 - a_0*a_4^2 + 9*a_1*a_2 - 5*a_0*a_3)/(a_4^4 - 5*a_3*a_4^2 + 4*a_3^2 + 6*a_2*a_4 - 15*a_1),\n",
       " a_2: (a_2*a_4^3 - a_1*a_4^2 + 9*a_2^2 + a_1*a_3 - (4*a_2*a_3 + 15*a_0)*a_4)/(a_4^4 - 5*a_3*a_4^2 + 4*a_3^2 + 6*a_2*a_4 - 15*a_1),\n",
       " a_3: (a_3*a_4^3 - a_2*a_4^2 + 12*a_2*a_3 - (4*a_3^2 + 7*a_1)*a_4 - 25*a_0)/(a_4^4 - 5*a_3*a_4^2 + 4*a_3^2 + 6*a_2*a_4 - 15*a_1)}"
      ]
     },
     "execution_count": 403,
     "metadata": {},
     "output_type": "execute_result"
    }
   ],
   "source": [
    "subi"
   ]
  },
  {
   "cell_type": "code",
   "execution_count": null,
   "id": "8341c0fd",
   "metadata": {},
   "outputs": [],
   "source": []
  },
  {
   "cell_type": "code",
   "execution_count": 404,
   "id": "203cf921",
   "metadata": {},
   "outputs": [
    {
     "data": {
      "text/plain": [
       "a_4^4 - 5*a_3*a_4^2 + 4*a_3^2 + 6*a_2*a_4 - 15*a_1"
      ]
     },
     "execution_count": 404,
     "metadata": {},
     "output_type": "execute_result"
    }
   ],
   "source": [
    "fixed_only[0]"
   ]
  },
  {
   "cell_type": "code",
   "execution_count": 405,
   "id": "7495deab",
   "metadata": {},
   "outputs": [],
   "source": [
    "#disc=(disc_list[deg-1].subs(subi)/-3*fixed_only[0]^2).full_simplify().factor() #3\n",
    "#disc=(disc_list[deg-1].subs(subi)*fixed_only[0]^2).full_simplify().factor()  #4\n",
    "disc=(disc_list[deg-1].subs(subi)*fixed_only[0]^6).full_simplify().factor() #5\n",
    "#disc=(disc_list[deg-1].subs(subi)*fixed_only[0]^8).full_simplify().factor()  #6"
   ]
  },
  {
   "cell_type": "code",
   "execution_count": 406,
   "id": "39e970fe",
   "metadata": {},
   "outputs": [
    {
     "data": {
      "text/plain": [
       "(a_4^16 - 20*a_3*a_4^14 + 160*a_3^2*a_4^12 + 40*a_2*a_4^13 - 640*a_3^3*a_4^10 - 640*a_2*a_3*a_4^11 - 20*a_1*a_4^12 + 1280*a_3^4*a_4^8 + 3840*a_2*a_3^2*a_4^9 + 634*a_2^2*a_4^10 + 338*a_1*a_3*a_4^10 - 152*a_0*a_4^11 - 1024*a_3^5*a_4^6 - 10240*a_2*a_3^3*a_4^7 - 7608*a_2^2*a_3*a_4^8 - 2136*a_1*a_3^2*a_4^8 - 634*a_1*a_2*a_4^9 + 2090*a_0*a_3*a_4^9 + 10240*a_2*a_3^4*a_4^5 + 30432*a_2^2*a_3^2*a_4^6 + 5984*a_1*a_3^3*a_4^6 + 4968*a_2^3*a_4^7 + 8076*a_1*a_2*a_3*a_4^7 - 10596*a_0*a_3^2*a_4^7 - 170*a_1^2*a_4^8 - 3094*a_0*a_2*a_4^8 - 40576*a_2^2*a_3^3*a_4^4 - 6272*a_1*a_3^4*a_4^4 - 39744*a_2^3*a_3*a_4^5 - 34176*a_1*a_2*a_3^2*a_4^5 + 23360*a_0*a_3^3*a_4^5 - 7452*a_1*a_2^2*a_4^6 + 1320*a_1^2*a_3*a_4^6 + 30180*a_0*a_2*a_3*a_4^6 + 1520*a_0*a_1*a_4^7 + 79488*a_2^3*a_3^2*a_4^3 + 48064*a_1*a_2*a_3^3*a_4^3 - 18752*a_0*a_3^4*a_4^3 + 19197*a_2^4*a_4^4 + 63666*a_1*a_2^2*a_3*a_4^4 - 2427*a_1^2*a_3^2*a_4^4 - 94656*a_0*a_2*a_3^2*a_4^4 - 2628*a_1^2*a_2*a_4^5 - 20592*a_0*a_2^2*a_4^5 - 12300*a_0*a_1*a_3*a_4^5 - 2000*a_0^2*a_4^6 - 76788*a_2^4*a_3*a_4^2 - 135432*a_1*a_2^2*a_3^2*a_4^2 - 532*a_1^2*a_3^3*a_4^2 + 93760*a_0*a_2*a_3^3*a_4^2 - 38394*a_1*a_2^3*a_4^3 + 9198*a_1^2*a_2*a_3*a_4^3 + 118890*a_0*a_2^2*a_3*a_4^3 + 27330*a_0*a_1*a_3^2*a_4^3 + 1548*a_1^3*a_4^4 + 19620*a_0*a_1*a_2*a_4^4 + 15000*a_0^2*a_3*a_4^4 + 29160*a_2^5*a_4 + 165240*a_1*a_2^3*a_3*a_4 + 5040*a_1^2*a_2*a_3^2*a_4 - 153000*a_0*a_2^2*a_3^2*a_4 - 9800*a_0*a_1*a_3^3*a_4 - 10125*a_1^2*a_2^2*a_4^2 - 44550*a_0*a_2^3*a_4^2 - 6390*a_1^3*a_3*a_4^2 - 79200*a_0*a_1*a_2*a_3*a_4^2 - 27375*a_0^2*a_3^2*a_4^2 - 5400*a_0*a_1^2*a_4^3 - 27000*a_0^2*a_2*a_4^3 - 72900*a_1*a_2^4 - 8100*a_1^2*a_2^2*a_3 + 81000*a_0*a_2^3*a_3 + 900*a_1^3*a_3^2 + 18000*a_0*a_1*a_2*a_3^2 - 2500*a_0^2*a_3^3 + 12150*a_1^3*a_2*a_4 + 60750*a_0*a_1*a_2^2*a_4 + 20250*a_0*a_1^2*a_3*a_4 + 101250*a_0^2*a_2*a_3*a_4 - 3375*a_1^4 - 33750*a_0*a_1^2*a_2 - 84375*a_0^2*a_2^2)*(a_1^2*a_2^2*a_3^2*a_4^2 - 4*a_0*a_2^3*a_3^2*a_4^2 - 4*a_1^3*a_3^3*a_4^2 + 18*a_0*a_1*a_2*a_3^3*a_4^2 - 27*a_0^2*a_3^4*a_4^2 - 4*a_1^2*a_2^3*a_4^3 + 16*a_0*a_2^4*a_4^3 + 18*a_1^3*a_2*a_3*a_4^3 - 80*a_0*a_1*a_2^2*a_3*a_4^3 - 6*a_0*a_1^2*a_3^2*a_4^3 + 144*a_0^2*a_2*a_3^2*a_4^3 - 27*a_1^4*a_4^4 + 144*a_0*a_1^2*a_2*a_4^4 - 128*a_0^2*a_2^2*a_4^4 - 192*a_0^2*a_1*a_3*a_4^4 + 256*a_0^3*a_4^5 - 4*a_1^2*a_2^2*a_3^3 + 16*a_0*a_2^3*a_3^3 + 16*a_1^3*a_3^4 - 72*a_0*a_1*a_2*a_3^4 + 108*a_0^2*a_3^5 + 18*a_1^2*a_2^3*a_3*a_4 - 72*a_0*a_2^4*a_3*a_4 - 80*a_1^3*a_2*a_3^2*a_4 + 356*a_0*a_1*a_2^2*a_3^2*a_4 + 24*a_0*a_1^2*a_3^3*a_4 - 630*a_0^2*a_2*a_3^3*a_4 - 6*a_1^3*a_2^2*a_4^2 + 24*a_0*a_1*a_2^3*a_4^2 + 144*a_1^4*a_3*a_4^2 - 746*a_0*a_1^2*a_2*a_3*a_4^2 + 560*a_0^2*a_2^2*a_3*a_4^2 + 1020*a_0^2*a_1*a_3^2*a_4^2 - 36*a_0*a_1^3*a_4^3 + 160*a_0^2*a_1*a_2*a_4^3 - 1600*a_0^3*a_3*a_4^3 - 27*a_1^2*a_2^4 + 108*a_0*a_2^5 + 144*a_1^3*a_2^2*a_3 - 630*a_0*a_1*a_2^3*a_3 - 128*a_1^4*a_3^2 + 560*a_0*a_1^2*a_2*a_3^2 + 825*a_0^2*a_2^2*a_3^2 - 900*a_0^2*a_1*a_3^3 - 192*a_1^4*a_2*a_4 + 1020*a_0*a_1^2*a_2^2*a_4 - 900*a_0^2*a_2^3*a_4 + 160*a_0*a_1^3*a_3*a_4 - 2050*a_0^2*a_1*a_2*a_3*a_4 + 2250*a_0^3*a_3^2*a_4 - 50*a_0^2*a_1^2*a_4^2 + 2000*a_0^3*a_2*a_4^2 + 256*a_1^5 - 1600*a_0*a_1^3*a_2 + 2250*a_0^2*a_1*a_2^2 + 2000*a_0^2*a_1^2*a_3 - 3750*a_0^3*a_2*a_3 - 2500*a_0^3*a_1*a_4 + 3125*a_0^4)"
      ]
     },
     "execution_count": 406,
     "metadata": {},
     "output_type": "execute_result"
    }
   ],
   "source": [
    "disc"
   ]
  },
  {
   "cell_type": "code",
   "execution_count": 407,
   "id": "a0a4985a",
   "metadata": {},
   "outputs": [],
   "source": [
    "if deg>=5:\n",
    "    disc2=disc.factor_list()\n",
    "    disc3=[j[0] for j in disc2]"
   ]
  },
  {
   "cell_type": "code",
   "execution_count": 408,
   "id": "789ada23",
   "metadata": {},
   "outputs": [
    {
     "data": {
      "text/plain": [
       "a_4^16 - 20*a_3*a_4^14 + 160*a_3^2*a_4^12 + 40*a_2*a_4^13 - 640*a_3^3*a_4^10 - 640*a_2*a_3*a_4^11 - 20*a_1*a_4^12 + 1280*a_3^4*a_4^8 + 3840*a_2*a_3^2*a_4^9 + 634*a_2^2*a_4^10 + 338*a_1*a_3*a_4^10 - 152*a_0*a_4^11 - 1024*a_3^5*a_4^6 - 10240*a_2*a_3^3*a_4^7 - 7608*a_2^2*a_3*a_4^8 - 2136*a_1*a_3^2*a_4^8 - 634*a_1*a_2*a_4^9 + 2090*a_0*a_3*a_4^9 + 10240*a_2*a_3^4*a_4^5 + 30432*a_2^2*a_3^2*a_4^6 + 5984*a_1*a_3^3*a_4^6 + 4968*a_2^3*a_4^7 + 8076*a_1*a_2*a_3*a_4^7 - 10596*a_0*a_3^2*a_4^7 - 170*a_1^2*a_4^8 - 3094*a_0*a_2*a_4^8 - 40576*a_2^2*a_3^3*a_4^4 - 6272*a_1*a_3^4*a_4^4 - 39744*a_2^3*a_3*a_4^5 - 34176*a_1*a_2*a_3^2*a_4^5 + 23360*a_0*a_3^3*a_4^5 - 7452*a_1*a_2^2*a_4^6 + 1320*a_1^2*a_3*a_4^6 + 30180*a_0*a_2*a_3*a_4^6 + 1520*a_0*a_1*a_4^7 + 79488*a_2^3*a_3^2*a_4^3 + 48064*a_1*a_2*a_3^3*a_4^3 - 18752*a_0*a_3^4*a_4^3 + 19197*a_2^4*a_4^4 + 63666*a_1*a_2^2*a_3*a_4^4 - 2427*a_1^2*a_3^2*a_4^4 - 94656*a_0*a_2*a_3^2*a_4^4 - 2628*a_1^2*a_2*a_4^5 - 20592*a_0*a_2^2*a_4^5 - 12300*a_0*a_1*a_3*a_4^5 - 2000*a_0^2*a_4^6 - 76788*a_2^4*a_3*a_4^2 - 135432*a_1*a_2^2*a_3^2*a_4^2 - 532*a_1^2*a_3^3*a_4^2 + 93760*a_0*a_2*a_3^3*a_4^2 - 38394*a_1*a_2^3*a_4^3 + 9198*a_1^2*a_2*a_3*a_4^3 + 118890*a_0*a_2^2*a_3*a_4^3 + 27330*a_0*a_1*a_3^2*a_4^3 + 1548*a_1^3*a_4^4 + 19620*a_0*a_1*a_2*a_4^4 + 15000*a_0^2*a_3*a_4^4 + 29160*a_2^5*a_4 + 165240*a_1*a_2^3*a_3*a_4 + 5040*a_1^2*a_2*a_3^2*a_4 - 153000*a_0*a_2^2*a_3^2*a_4 - 9800*a_0*a_1*a_3^3*a_4 - 10125*a_1^2*a_2^2*a_4^2 - 44550*a_0*a_2^3*a_4^2 - 6390*a_1^3*a_3*a_4^2 - 79200*a_0*a_1*a_2*a_3*a_4^2 - 27375*a_0^2*a_3^2*a_4^2 - 5400*a_0*a_1^2*a_4^3 - 27000*a_0^2*a_2*a_4^3 - 72900*a_1*a_2^4 - 8100*a_1^2*a_2^2*a_3 + 81000*a_0*a_2^3*a_3 + 900*a_1^3*a_3^2 + 18000*a_0*a_1*a_2*a_3^2 - 2500*a_0^2*a_3^3 + 12150*a_1^3*a_2*a_4 + 60750*a_0*a_1*a_2^2*a_4 + 20250*a_0*a_1^2*a_3*a_4 + 101250*a_0^2*a_2*a_3*a_4 - 3375*a_1^4 - 33750*a_0*a_1^2*a_2 - 84375*a_0^2*a_2^2"
      ]
     },
     "execution_count": 408,
     "metadata": {},
     "output_type": "execute_result"
    }
   ],
   "source": [
    "disc3[0]"
   ]
  },
  {
   "cell_type": "code",
   "execution_count": 5,
   "id": "dc3db2a8",
   "metadata": {},
   "outputs": [],
   "source": [
    "split1=a_4^16 - 20*a_3*a_4^14 + 160*a_3^2*a_4^12 + 40*a_2*a_4^13 - 640*a_3^3*a_4^10 - 640*a_2*a_3*a_4^11 - 20*a_1*a_4^12 + 1280*a_3^4*a_4^8 + 3840*a_2*a_3^2*a_4^9 + 634*a_2^2*a_4^10 + 338*a_1*a_3*a_4^10 - 152*a_0*a_4^11 - 1024*a_3^5*a_4^6 - 10240*a_2*a_3^3*a_4^7 - 7608*a_2^2*a_3*a_4^8 - 2136*a_1*a_3^2*a_4^8 - 634*a_1*a_2*a_4^9 + 2090*a_0*a_3*a_4^9 + 10240*a_2*a_3^4*a_4^5 + 30432*a_2^2*a_3^2*a_4^6 + 5984*a_1*a_3^3*a_4^6 + 4968*a_2^3*a_4^7 + 8076*a_1*a_2*a_3*a_4^7 - 10596*a_0*a_3^2*a_4^7 - 170*a_1^2*a_4^8 - 3094*a_0*a_2*a_4^8 - 40576*a_2^2*a_3^3*a_4^4 - 6272*a_1*a_3^4*a_4^4 - 39744*a_2^3*a_3*a_4^5 - 34176*a_1*a_2*a_3^2*a_4^5 + 23360*a_0*a_3^3*a_4^5 - 7452*a_1*a_2^2*a_4^6 + 1320*a_1^2*a_3*a_4^6 + 30180*a_0*a_2*a_3*a_4^6 + 1520*a_0*a_1*a_4^7 + 79488*a_2^3*a_3^2*a_4^3 + 48064*a_1*a_2*a_3^3*a_4^3 - 18752*a_0*a_3^4*a_4^3 + 19197*a_2^4*a_4^4 + 63666*a_1*a_2^2*a_3*a_4^4 - 2427*a_1^2*a_3^2*a_4^4 - 94656*a_0*a_2*a_3^2*a_4^4 - 2628*a_1^2*a_2*a_4^5 - 20592*a_0*a_2^2*a_4^5 - 12300*a_0*a_1*a_3*a_4^5 - 2000*a_0^2*a_4^6 - 76788*a_2^4*a_3*a_4^2 - 135432*a_1*a_2^2*a_3^2*a_4^2 - 532*a_1^2*a_3^3*a_4^2 + 93760*a_0*a_2*a_3^3*a_4^2 - 38394*a_1*a_2^3*a_4^3 + 9198*a_1^2*a_2*a_3*a_4^3 + 118890*a_0*a_2^2*a_3*a_4^3 + 27330*a_0*a_1*a_3^2*a_4^3 + 1548*a_1^3*a_4^4 + 19620*a_0*a_1*a_2*a_4^4 + 15000*a_0^2*a_3*a_4^4 + 29160*a_2^5*a_4 + 165240*a_1*a_2^3*a_3*a_4 + 5040*a_1^2*a_2*a_3^2*a_4 - 153000*a_0*a_2^2*a_3^2*a_4 - 9800*a_0*a_1*a_3^3*a_4 - 10125*a_1^2*a_2^2*a_4^2 - 44550*a_0*a_2^3*a_4^2 - 6390*a_1^3*a_3*a_4^2 - 79200*a_0*a_1*a_2*a_3*a_4^2 - 27375*a_0^2*a_3^2*a_4^2 - 5400*a_0*a_1^2*a_4^3 - 27000*a_0^2*a_2*a_4^3 - 72900*a_1*a_2^4 - 8100*a_1^2*a_2^2*a_3 + 81000*a_0*a_2^3*a_3 + 900*a_1^3*a_3^2 + 18000*a_0*a_1*a_2*a_3^2 - 2500*a_0^2*a_3^3 + 12150*a_1^3*a_2*a_4 + 60750*a_0*a_1*a_2^2*a_4 + 20250*a_0*a_1^2*a_3*a_4 + 101250*a_0^2*a_2*a_3*a_4 - 3375*a_1^4 - 33750*a_0*a_1^2*a_2 - 84375*a_0^2*a_2^2"
   ]
  },
  {
   "cell_type": "code",
   "execution_count": 426,
   "id": "3d6a6f99",
   "metadata": {},
   "outputs": [
    {
     "data": {
      "text/plain": [
       "a_4^16 - 20*a_3*a_4^14 + 160*a_3^2*a_4^12 + 40*a_2*a_4^13 - 640*a_3^3*a_4^10 - 640*a_2*a_3*a_4^11 - 20*a_1*a_4^12 + 1280*a_3^4*a_4^8 + 3840*a_2*a_3^2*a_4^9 + 634*a_2^2*a_4^10 + 338*a_1*a_3*a_4^10 - 152*a_0*a_4^11 - 1024*a_3^5*a_4^6 - 10240*a_2*a_3^3*a_4^7 - 7608*a_2^2*a_3*a_4^8 - 2136*a_1*a_3^2*a_4^8 - 634*a_1*a_2*a_4^9 + 2090*a_0*a_3*a_4^9 + 10240*a_2*a_3^4*a_4^5 + 30432*a_2^2*a_3^2*a_4^6 + 5984*a_1*a_3^3*a_4^6 + 4968*a_2^3*a_4^7 + 8076*a_1*a_2*a_3*a_4^7 - 10596*a_0*a_3^2*a_4^7 - 170*a_1^2*a_4^8 - 3094*a_0*a_2*a_4^8 - 40576*a_2^2*a_3^3*a_4^4 - 6272*a_1*a_3^4*a_4^4 - 39744*a_2^3*a_3*a_4^5 - 34176*a_1*a_2*a_3^2*a_4^5 + 23360*a_0*a_3^3*a_4^5 - 7452*a_1*a_2^2*a_4^6 + 1320*a_1^2*a_3*a_4^6 + 30180*a_0*a_2*a_3*a_4^6 + 1520*a_0*a_1*a_4^7 + 79488*a_2^3*a_3^2*a_4^3 + 48064*a_1*a_2*a_3^3*a_4^3 - 18752*a_0*a_3^4*a_4^3 + 19197*a_2^4*a_4^4 + 63666*a_1*a_2^2*a_3*a_4^4 - 2427*a_1^2*a_3^2*a_4^4 - 94656*a_0*a_2*a_3^2*a_4^4 - 2628*a_1^2*a_2*a_4^5 - 20592*a_0*a_2^2*a_4^5 - 12300*a_0*a_1*a_3*a_4^5 - 2000*a_0^2*a_4^6 - 76788*a_2^4*a_3*a_4^2 - 135432*a_1*a_2^2*a_3^2*a_4^2 - 532*a_1^2*a_3^3*a_4^2 + 93760*a_0*a_2*a_3^3*a_4^2 - 38394*a_1*a_2^3*a_4^3 + 9198*a_1^2*a_2*a_3*a_4^3 + 118890*a_0*a_2^2*a_3*a_4^3 + 27330*a_0*a_1*a_3^2*a_4^3 + 1548*a_1^3*a_4^4 + 19620*a_0*a_1*a_2*a_4^4 + 15000*a_0^2*a_3*a_4^4 + 29160*a_2^5*a_4 + 165240*a_1*a_2^3*a_3*a_4 + 5040*a_1^2*a_2*a_3^2*a_4 - 153000*a_0*a_2^2*a_3^2*a_4 - 9800*a_0*a_1*a_3^3*a_4 - 10125*a_1^2*a_2^2*a_4^2 - 44550*a_0*a_2^3*a_4^2 - 6390*a_1^3*a_3*a_4^2 - 79200*a_0*a_1*a_2*a_3*a_4^2 - 27375*a_0^2*a_3^2*a_4^2 - 5400*a_0*a_1^2*a_4^3 - 27000*a_0^2*a_2*a_4^3 - 72900*a_1*a_2^4 - 8100*a_1^2*a_2^2*a_3 + 81000*a_0*a_2^3*a_3 + 900*a_1^3*a_3^2 + 18000*a_0*a_1*a_2*a_3^2 - 2500*a_0^2*a_3^3 + 12150*a_1^3*a_2*a_4 + 60750*a_0*a_1*a_2^2*a_4 + 20250*a_0*a_1^2*a_3*a_4 + 101250*a_0^2*a_2*a_3*a_4 - 3375*a_1^4 - 33750*a_0*a_1^2*a_2 - 84375*a_0^2*a_2^2"
      ]
     },
     "execution_count": 426,
     "metadata": {},
     "output_type": "execute_result"
    }
   ],
   "source": [
    "split1"
   ]
  },
  {
   "cell_type": "code",
   "execution_count": 7,
   "id": "643d36af",
   "metadata": {},
   "outputs": [],
   "source": [
    "split2=a_1^2*a_2^2*a_3^2*a_4^2 - 4*a_0*a_2^3*a_3^2*a_4^2 - 4*a_1^3*a_3^3*a_4^2 + 18*a_0*a_1*a_2*a_3^3*a_4^2 - 27*a_0^2*a_3^4*a_4^2 - 4*a_1^2*a_2^3*a_4^3 + 16*a_0*a_2^4*a_4^3 + 18*a_1^3*a_2*a_3*a_4^3 - 80*a_0*a_1*a_2^2*a_3*a_4^3 - 6*a_0*a_1^2*a_3^2*a_4^3 + 144*a_0^2*a_2*a_3^2*a_4^3 - 27*a_1^4*a_4^4 + 144*a_0*a_1^2*a_2*a_4^4 - 128*a_0^2*a_2^2*a_4^4 - 192*a_0^2*a_1*a_3*a_4^4 + 256*a_0^3*a_4^5 - 4*a_1^2*a_2^2*a_3^3 + 16*a_0*a_2^3*a_3^3 + 16*a_1^3*a_3^4 - 72*a_0*a_1*a_2*a_3^4 + 108*a_0^2*a_3^5 + 18*a_1^2*a_2^3*a_3*a_4 - 72*a_0*a_2^4*a_3*a_4 - 80*a_1^3*a_2*a_3^2*a_4 + 356*a_0*a_1*a_2^2*a_3^2*a_4 + 24*a_0*a_1^2*a_3^3*a_4 - 630*a_0^2*a_2*a_3^3*a_4 - 6*a_1^3*a_2^2*a_4^2 + 24*a_0*a_1*a_2^3*a_4^2 + 144*a_1^4*a_3*a_4^2 - 746*a_0*a_1^2*a_2*a_3*a_4^2 + 560*a_0^2*a_2^2*a_3*a_4^2 + 1020*a_0^2*a_1*a_3^2*a_4^2 - 36*a_0*a_1^3*a_4^3 + 160*a_0^2*a_1*a_2*a_4^3 - 1600*a_0^3*a_3*a_4^3 - 27*a_1^2*a_2^4 + 108*a_0*a_2^5 + 144*a_1^3*a_2^2*a_3 - 630*a_0*a_1*a_2^3*a_3 - 128*a_1^4*a_3^2 + 560*a_0*a_1^2*a_2*a_3^2 + 825*a_0^2*a_2^2*a_3^2 - 900*a_0^2*a_1*a_3^3 - 192*a_1^4*a_2*a_4 + 1020*a_0*a_1^2*a_2^2*a_4 - 900*a_0^2*a_2^3*a_4 + 160*a_0*a_1^3*a_3*a_4 - 2050*a_0^2*a_1*a_2*a_3*a_4 + 2250*a_0^3*a_3^2*a_4 - 50*a_0^2*a_1^2*a_4^2 + 2000*a_0^3*a_2*a_4^2 + 256*a_1^5 - 1600*a_0*a_1^3*a_2 + 2250*a_0^2*a_1*a_2^2 + 2000*a_0^2*a_1^2*a_3 - 3750*a_0^3*a_2*a_3 - 2500*a_0^3*a_1*a_4 + 3125*a_0^4"
   ]
  },
  {
   "cell_type": "code",
   "execution_count": 56,
   "id": "6b67dab9",
   "metadata": {},
   "outputs": [
    {
     "data": {
      "text/plain": [
       "a_1^2*a_2^2*a_3^2*a_4^2 - 4*a_0*a_2^3*a_3^2*a_4^2 - 4*a_1^3*a_3^3*a_4^2 + 18*a_0*a_1*a_2*a_3^3*a_4^2 - 27*a_0^2*a_3^4*a_4^2 - 4*a_1^2*a_2^3*a_4^3 + 16*a_0*a_2^4*a_4^3 + 18*a_1^3*a_2*a_3*a_4^3 - 80*a_0*a_1*a_2^2*a_3*a_4^3 - 6*a_0*a_1^2*a_3^2*a_4^3 + 144*a_0^2*a_2*a_3^2*a_4^3 - 27*a_1^4*a_4^4 + 144*a_0*a_1^2*a_2*a_4^4 - 128*a_0^2*a_2^2*a_4^4 - 192*a_0^2*a_1*a_3*a_4^4 + 256*a_0^3*a_4^5 - 4*a_1^2*a_2^2*a_3^3 + 16*a_0*a_2^3*a_3^3 + 16*a_1^3*a_3^4 - 72*a_0*a_1*a_2*a_3^4 + 108*a_0^2*a_3^5 + 18*a_1^2*a_2^3*a_3*a_4 - 72*a_0*a_2^4*a_3*a_4 - 80*a_1^3*a_2*a_3^2*a_4 + 356*a_0*a_1*a_2^2*a_3^2*a_4 + 24*a_0*a_1^2*a_3^3*a_4 - 630*a_0^2*a_2*a_3^3*a_4 - 6*a_1^3*a_2^2*a_4^2 + 24*a_0*a_1*a_2^3*a_4^2 + 144*a_1^4*a_3*a_4^2 - 746*a_0*a_1^2*a_2*a_3*a_4^2 + 560*a_0^2*a_2^2*a_3*a_4^2 + 1020*a_0^2*a_1*a_3^2*a_4^2 - 36*a_0*a_1^3*a_4^3 + 160*a_0^2*a_1*a_2*a_4^3 - 1600*a_0^3*a_3*a_4^3 - 27*a_1^2*a_2^4 + 108*a_0*a_2^5 + 144*a_1^3*a_2^2*a_3 - 630*a_0*a_1*a_2^3*a_3 - 128*a_1^4*a_3^2 + 560*a_0*a_1^2*a_2*a_3^2 + 825*a_0^2*a_2^2*a_3^2 - 900*a_0^2*a_1*a_3^3 - 192*a_1^4*a_2*a_4 + 1020*a_0*a_1^2*a_2^2*a_4 - 900*a_0^2*a_2^3*a_4 + 160*a_0*a_1^3*a_3*a_4 - 2050*a_0^2*a_1*a_2*a_3*a_4 + 2250*a_0^3*a_3^2*a_4 - 50*a_0^2*a_1^2*a_4^2 + 2000*a_0^3*a_2*a_4^2 + 256*a_1^5 - 1600*a_0*a_1^3*a_2 + 2250*a_0^2*a_1*a_2^2 + 2000*a_0^2*a_1^2*a_3 - 3750*a_0^3*a_2*a_3 - 2500*a_0^3*a_1*a_4 + 3125*a_0^4"
      ]
     },
     "execution_count": 56,
     "metadata": {},
     "output_type": "execute_result"
    }
   ],
   "source": [
    "split2"
   ]
  },
  {
   "cell_type": "code",
   "execution_count": 182,
   "id": "53c294a5",
   "metadata": {},
   "outputs": [
    {
     "data": {
      "text/plain": [
       "((5, 3), (5, -15), (25, 300), (100, 1000), (250, 625))"
      ]
     },
     "execution_count": 182,
     "metadata": {},
     "output_type": "execute_result"
    }
   ],
   "source": [
    "(5,3),(5,-15),(25,300),(100,1000),(250,625)"
   ]
  },
  {
   "cell_type": "code",
   "execution_count": 417,
   "id": "80b951f8",
   "metadata": {},
   "outputs": [],
   "source": [
    "test1=disc3[0].subs({a_4:-11,a_3:45,a_2:-85,a_1:74,a_0:-24})"
   ]
  },
  {
   "cell_type": "code",
   "execution_count": 418,
   "id": "ba799af7",
   "metadata": {},
   "outputs": [
    {
     "data": {
      "text/plain": [
       "0"
      ]
     },
     "execution_count": 418,
     "metadata": {},
     "output_type": "execute_result"
    }
   ],
   "source": [
    "test1"
   ]
  },
  {
   "cell_type": "code",
   "execution_count": 419,
   "id": "b7a6f958",
   "metadata": {},
   "outputs": [],
   "source": [
    "test2=disc3[1].subs({a_4:-11,a_3:45,a_2:-85,a_1:74,a_0:-24})"
   ]
  },
  {
   "cell_type": "code",
   "execution_count": 420,
   "id": "263d3414",
   "metadata": {},
   "outputs": [
    {
     "data": {
      "text/plain": [
       "0"
      ]
     },
     "execution_count": 420,
     "metadata": {},
     "output_type": "execute_result"
    }
   ],
   "source": [
    "test2"
   ]
  },
  {
   "cell_type": "code",
   "execution_count": null,
   "id": "8992a238",
   "metadata": {},
   "outputs": [],
   "source": [
    "x^5 - 13 x^4 + 64 x^3 - 152 x^2 + 176 x - 80"
   ]
  },
  {
   "cell_type": "code",
   "execution_count": null,
   "id": "7e5fdf66",
   "metadata": {},
   "outputs": [],
   "source": [
    "x^5 - 29 x^4 + 336 x^3 - 1944 x^2 + 5616 x - 6480"
   ]
  },
  {
   "cell_type": "code",
   "execution_count": null,
   "id": "40135333",
   "metadata": {},
   "outputs": [],
   "source": [
    "x^5 - 8 x^4 + 24 x^3 - 34 x^2 + 23 x - 6"
   ]
  },
  {
   "cell_type": "code",
   "execution_count": null,
   "id": "94711c01",
   "metadata": {},
   "outputs": [],
   "source": [
    "x^5 - 12 x^4 + 52 x^3 - 102 x^2 + 91 x - 30"
   ]
  },
  {
   "cell_type": "code",
   "execution_count": 423,
   "id": "809b85ab",
   "metadata": {},
   "outputs": [],
   "source": [
    "test1=disc3[0].subs({a_4:-12,a_3:52,a_2:-102,a_1:91,a_0:-30})\n",
    "test2=disc3[1].subs({a_4:-12,a_3:52,a_2:-102,a_1:91,a_0:-30})"
   ]
  },
  {
   "cell_type": "code",
   "execution_count": 424,
   "id": "71438d7d",
   "metadata": {},
   "outputs": [
    {
     "ename": "SyntaxError",
     "evalue": "invalid syntax (1699046853.py, line 1)",
     "output_type": "error",
     "traceback": [
      "\u001b[0;36m  Cell \u001b[0;32mIn[424], line 1\u001b[0;36m\u001b[0m\n\u001b[0;31m    -Integer(5) + Integer(21) x - Integer(34) x**Integer(2) + Integer(26) x**Integer(3) - Integer(9) x**Integer(4) + x**Integer(5)\u001b[0m\n\u001b[0m                              ^\u001b[0m\n\u001b[0;31mSyntaxError\u001b[0m\u001b[0;31m:\u001b[0m invalid syntax\n"
     ]
    }
   ],
   "source": [
    "-5 + 21 x - 34 x^2 + 26 x^3 - 9 x^4 + x^5"
   ]
  },
  {
   "cell_type": "code",
   "execution_count": 425,
   "id": "93bb9e82",
   "metadata": {},
   "outputs": [
    {
     "data": {
      "text/plain": [
       "(-11497815, 0)"
      ]
     },
     "execution_count": 425,
     "metadata": {},
     "output_type": "execute_result"
    }
   ],
   "source": [
    "test1,test2"
   ]
  },
  {
   "cell_type": "code",
   "execution_count": null,
   "id": "998c7d17",
   "metadata": {},
   "outputs": [],
   "source": [
    "-6480 + 5616 x - 1944 x^2 + 336 x^3 - 29 x^4 + x^5"
   ]
  },
  {
   "cell_type": "code",
   "execution_count": 188,
   "id": "1a6e3072",
   "metadata": {},
   "outputs": [
    {
     "data": {
      "text/plain": [
       "(20500*a_0^2 + 24610368*a_0 + 7386220800,\n",
       " 3125*a_0^4 + 7507056*a_0^3 + 6762696372*a_0^2 + 2707615162944*a_0 + 406522499846400)"
      ]
     },
     "execution_count": 188,
     "metadata": {},
     "output_type": "execute_result"
    }
   ],
   "source": [
    "test1,test2"
   ]
  },
  {
   "cell_type": "code",
   "execution_count": 210,
   "id": "3d4d5731",
   "metadata": {},
   "outputs": [],
   "source": [
    "test1=disc3[0].subs({a_4:0,a_3:0,a_2:1,a_1:-1})\n",
    "test2=disc3[1].subs({a_4:0,a_3:0,a_2:1,a_1:-1})"
   ]
  },
  {
   "cell_type": "code",
   "execution_count": 211,
   "id": "f394f19f",
   "metadata": {
    "scrolled": true
   },
   "outputs": [
    {
     "data": {
      "text/plain": [
       "(-84375*a_0^2 - 33750*a_0 + 69525, 3125*a_0^4 - 2250*a_0^2 + 1708*a_0 - 283)"
      ]
     },
     "execution_count": 211,
     "metadata": {},
     "output_type": "execute_result"
    }
   ],
   "source": [
    "test1,test2"
   ]
  },
  {
   "cell_type": "code",
   "execution_count": 219,
   "id": "ac77410e",
   "metadata": {},
   "outputs": [
    {
     "data": {
      "text/plain": [
       "-1/2250*sqrt(5)*sqrt(3)*(sqrt(5)*sqrt(3)*sqrt(2)*sqrt((2562*45^(1/3)*sqrt(15)*sqrt(6)*(31351*sqrt(107)*sqrt(3) + 533961)^(1/3) - (45^(2/3)*(31351*sqrt(107)*sqrt(3) + 533961)^(2/3) - 11100*45^(1/3) - 2700*(31351*sqrt(107)*sqrt(3) + 533961)^(1/3))*sqrt((30*45^(2/3)*(31351*sqrt(107)*sqrt(3) + 533961)^(1/3) + 45^(1/3)*(31351*sqrt(107)*sqrt(3) + 533961)^(2/3) - 11100)/(31351*sqrt(107)*sqrt(3) + 533961)^(1/3)))/((31351*sqrt(107)*sqrt(3) + 533961)^(1/3)*sqrt((30*45^(2/3)*(31351*sqrt(107)*sqrt(3) + 533961)^(1/3) + 45^(1/3)*(31351*sqrt(107)*sqrt(3) + 533961)^(2/3) - 11100)/(31351*sqrt(107)*sqrt(3) + 533961)^(1/3)))) + sqrt(6)*sqrt(5)*sqrt((45^(2/3)*(31351*sqrt(107)*sqrt(3) + 533961)^(2/3) - 11100*45^(1/3) + 1350*(31351*sqrt(107)*sqrt(3) + 533961)^(1/3))/(31351*sqrt(107)*sqrt(3) + 533961)^(1/3)))"
      ]
     },
     "execution_count": 219,
     "metadata": {},
     "output_type": "execute_result"
    }
   ],
   "source": [
    "solve(test2==0,a_0)[0].rhs().full_simplify()"
   ]
  },
  {
   "cell_type": "code",
   "execution_count": 216,
   "id": "664a427e",
   "metadata": {},
   "outputs": [
    {
     "ename": "SyntaxError",
     "evalue": "incomplete input (552618143.py, line 1)",
     "output_type": "error",
     "traceback": [
      "\u001b[0;36m  Cell \u001b[0;32mIn[216], line 1\u001b[0;36m\u001b[0m\n\u001b[0;31m    (-Integer(1)/Integer(10)*sqrt(Integer(6))*sqrt((Integer(1)/Integer(45))**(Integer(2)/Integer(3))*(Integer(3)*(Integer(1)/Integer(45))**(Integer(2)/Integer(3))*(Integer(31351)*sqrt(Integer(107))*sqrt(Integer(3)) + Integer(533961))**(Integer(2)/Integer(3))).full_simplify()\u001b[0m\n\u001b[0m                                                                                                                                                                                                                                                                                   ^\u001b[0m\n\u001b[0;31mSyntaxError\u001b[0m\u001b[0;31m:\u001b[0m incomplete input\n"
     ]
    }
   ],
   "source": []
  },
  {
   "cell_type": "code",
   "execution_count": 190,
   "id": "bc2ebe80",
   "metadata": {},
   "outputs": [
    {
     "data": {
      "text/plain": [
       "3^5 * 5^5"
      ]
     },
     "execution_count": 190,
     "metadata": {},
     "output_type": "execute_result"
    }
   ],
   "source": [
    "factor(Integer(-test1))"
   ]
  },
  {
   "cell_type": "code",
   "execution_count": 191,
   "id": "92fd5980",
   "metadata": {},
   "outputs": [
    {
     "data": {
      "text/plain": [
       "-1 * 43 * 683"
      ]
     },
     "execution_count": 191,
     "metadata": {},
     "output_type": "execute_result"
    }
   ],
   "source": [
    "factor(Integer(-test2))"
   ]
  },
  {
   "cell_type": "code",
   "execution_count": 9,
   "id": "244ff21c",
   "metadata": {},
   "outputs": [],
   "source": [
    "ele_5={a_4:-(x_1 + x_2 + x_3 + x_4 + x_5),a_3:(x_1*x_2 + x_1*x_3 + x_2*x_3 + x_1*x_4 + x_2*x_4 + x_3*x_4 + x_1*x_5 + x_2*x_5 + x_3*x_5 + x_4*x_5),\n",
    "              a_2:-(x_1*x_2*x_3 + x_1*x_2*x_4 + x_1*x_3*x_4 + x_2*x_3*x_4 + x_1*x_2*x_5 + x_1*x_3*x_5 + x_2*x_3*x_5 + x_1*x_4*x_5 + x_2*x_4*x_5 + x_3*x_4*x_5),\n",
    "             a_1:(x_1*x_2*x_3*x_4 + x_1*x_2*x_3*x_5 + x_1*x_2*x_4*x_5 + x_1*x_3*x_4*x_5 + x_2*x_3*x_4*x_5),a_0:-(x_1*x_2*x_3*x_4*x_5)}"
   ]
  },
  {
   "cell_type": "code",
   "execution_count": 194,
   "id": "e5933d4c",
   "metadata": {},
   "outputs": [
    {
     "data": {
      "text/plain": [
       "-759375"
      ]
     },
     "execution_count": 194,
     "metadata": {},
     "output_type": "execute_result"
    }
   ],
   "source": [
    "test1.subs(ele_5).full_simplify().factor()"
   ]
  },
  {
   "cell_type": "code",
   "execution_count": 195,
   "id": "6d89b2ee",
   "metadata": {},
   "outputs": [
    {
     "data": {
      "text/plain": [
       "29369"
      ]
     },
     "execution_count": 195,
     "metadata": {},
     "output_type": "execute_result"
    }
   ],
   "source": [
    "test2.subs(ele_5).full_simplify().factor()"
   ]
  },
  {
   "cell_type": "code",
   "execution_count": 427,
   "id": "6334c008",
   "metadata": {},
   "outputs": [],
   "source": [
    "ele_falsedisc=split1.subs(ele_5).full_simplify().factor()\n",
    "ele_realdisc=split2.subs(ele_5).full_simplify().factor()"
   ]
  },
  {
   "cell_type": "code",
   "execution_count": null,
   "id": "fce5114d",
   "metadata": {},
   "outputs": [],
   "source": [
    "ele"
   ]
  },
  {
   "cell_type": "code",
   "execution_count": 16,
   "id": "ce6725f7",
   "metadata": {},
   "outputs": [],
   "source": [
    "p=ele_falsedisc.factor_list()"
   ]
  },
  {
   "cell_type": "code",
   "execution_count": 55,
   "id": "6c7600cc",
   "metadata": {},
   "outputs": [
    {
     "data": {
      "text/plain": [
       "(x_1 - x_2)^2*(x_1 - x_3)^2*(x_1 - x_4)^2*(x_1 - x_5)^2*(x_2 - x_3)^2*(x_2 - x_4)^2*(x_2 - x_5)^2*(x_3 - x_4)^2*(x_3 - x_5)^2*(x_4 - x_5)^2"
      ]
     },
     "execution_count": 55,
     "metadata": {},
     "output_type": "execute_result"
    }
   ],
   "source": [
    "ele_realdisc()"
   ]
  },
  {
   "cell_type": "code",
   "execution_count": 275,
   "id": "1ac09d22",
   "metadata": {},
   "outputs": [],
   "source": [
    "srdisc=ele_realdisc.subs({x_1:x_2}).full_simplify()"
   ]
  },
  {
   "cell_type": "code",
   "execution_count": 276,
   "id": "bbbed5f3",
   "metadata": {},
   "outputs": [
    {
     "data": {
      "text/plain": [
       "0"
      ]
     },
     "execution_count": 276,
     "metadata": {},
     "output_type": "execute_result"
    }
   ],
   "source": [
    "srdisc"
   ]
  },
  {
   "cell_type": "code",
   "execution_count": 434,
   "id": "2ccf7272",
   "metadata": {},
   "outputs": [],
   "source": [
    "sfdisc=ele_falsedisc.subs({x_1:x_2}).simplify().factor()"
   ]
  },
  {
   "cell_type": "code",
   "execution_count": 439,
   "id": "4de9da2c",
   "metadata": {},
   "outputs": [
    {
     "data": {
      "text/plain": [
       "(4*x_2^3 - 8*x_2^2*x_4 + 3*x_2*x_4^2 - 4*x_2^2*x_5 + 10*x_2*x_4*x_5 - 3*x_4^2*x_5 - x_2*x_5^2 - 2*x_4*x_5^2 + x_5^3)*(x_2*x_4^2 - 2*x_2*x_4*x_5 - x_4^2*x_5 + x_2*x_5^2 + 2*x_4*x_5^2 - x_5^3)^3*(3*x_2 - 2*x_4 - x_5)*(x_2 - 2*x_4 + x_5)*(x_2 - x_5)^2"
      ]
     },
     "execution_count": 439,
     "metadata": {},
     "output_type": "execute_result"
    }
   ],
   "source": [
    "sfdisc.subs({x_1:x_2,x_3:x_4})"
   ]
  },
  {
   "cell_type": "code",
   "execution_count": 13,
   "id": "da5d7baf",
   "metadata": {},
   "outputs": [],
   "source": [
    "sfdisc2=sfdisc.subs({x_1:x_3,x_3:x_1})"
   ]
  },
  {
   "cell_type": "code",
   "execution_count": 14,
   "id": "3a6a239a",
   "metadata": {},
   "outputs": [
    {
     "data": {
      "text/plain": [
       "1"
      ]
     },
     "execution_count": 14,
     "metadata": {},
     "output_type": "execute_result"
    }
   ],
   "source": [
    "(sfdisc/sfdisc2).full_simplify()"
   ]
  },
  {
   "cell_type": "code",
   "execution_count": 283,
   "id": "68817921",
   "metadata": {},
   "outputs": [
    {
     "data": {
      "text/plain": [
       "x_1^16 - 4*x_1^15*x_2 + 20*x_1^13*x_2^3 - 20*x_1^12*x_2^4 - 36*x_1^11*x_2^5 + 64*x_1^10*x_2^6 + 20*x_1^9*x_2^7 - 90*x_1^8*x_2^8 + 20*x_1^7*x_2^9 + 64*x_1^6*x_2^10 - 36*x_1^5*x_2^11 - 20*x_1^4*x_2^12 + 20*x_1^3*x_2^13 - 4*x_1*x_2^15 + x_2^16 - 4*x_1^15*x_3 + 20*x_1^14*x_2*x_3 - 20*x_1^13*x_2^2*x_3 - 60*x_1^12*x_2^3*x_3 + 140*x_1^11*x_2^4*x_3 + 4*x_1^10*x_2^5*x_3 - 260*x_1^9*x_2^6*x_3 + 180*x_1^8*x_2^7*x_3 + 180*x_1^7*x_2^8*x_3 - 260*x_1^6*x_2^9*x_3 + 4*x_1^5*x_2^10*x_3 + 140*x_1^4*x_2^11*x_3 - 60*x_1^3*x_2^12*x_3 - 20*x_1^2*x_2^13*x_3 + 20*x_1*x_2^14*x_3 - 4*x_2^15*x_3 - 20*x_1^13*x_2*x_3^2 + 74*x_1^12*x_2^2*x_3^2 - 28*x_1^11*x_2^3*x_3^2 - 222*x_1^10*x_2^4*x_3^2 + 292*x_1^9*x_2^5*x_3^2 + 148*x_1^8*x_2^6*x_3^2 - 488*x_1^7*x_2^7*x_3^2 + 148*x_1^6*x_2^8*x_3^2 + 292*x_1^5*x_2^9*x_3^2 - 222*x_1^4*x_2^10*x_3^2 - 28*x_1^3*x_2^11*x_3^2 + 74*x_1^2*x_2^12*x_3^2 - 20*x_1*x_2^13*x_3^2 + 20*x_1^13*x_3^3 - 60*x_1^12*x_2*x_3^3 - 28*x_1^11*x_2^2*x_3^3 + 236*x_1^10*x_2^3*x_3^3 - 92*x_1^9*x_2^4*x_3^3 - 380*x_1^8*x_2^5*x_3^3 + 304*x_1^7*x_2^6*x_3^3 + 304*x_1^6*x_2^7*x_3^3 - 380*x_1^5*x_2^8*x_3^3 - 92*x_1^4*x_2^9*x_3^3 + 236*x_1^3*x_2^10*x_3^3 - 28*x_1^2*x_2^11*x_3^3 - 60*x_1*x_2^12*x_3^3 + 20*x_2^13*x_3^3 - 20*x_1^12*x_3^4 + 140*x_1^11*x_2*x_3^4 - 222*x_1^10*x_2^2*x_3^4 - 92*x_1^9*x_2^3*x_3^4 + 409*x_1^8*x_2^4*x_3^4 - 48*x_1^7*x_2^5*x_3^4 - 334*x_1^6*x_2^6*x_3^4 - 48*x_1^5*x_2^7*x_3^4 + 409*x_1^4*x_2^8*x_3^4 - 92*x_1^3*x_2^9*x_3^4 - 222*x_1^2*x_2^10*x_3^4 + 140*x_1*x_2^11*x_3^4 - 20*x_2^12*x_3^4 - 36*x_1^11*x_3^5 + 4*x_1^10*x_2*x_3^5 + 292*x_1^9*x_2^2*x_3^5 - 380*x_1^8*x_2^3*x_3^5 - 48*x_1^7*x_2^4*x_3^5 + 168*x_1^6*x_2^5*x_3^5 + 168*x_1^5*x_2^6*x_3^5 - 48*x_1^4*x_2^7*x_3^5 - 380*x_1^3*x_2^8*x_3^5 + 292*x_1^2*x_2^9*x_3^5 + 4*x_1*x_2^10*x_3^5 - 36*x_2^11*x_3^5 + 64*x_1^10*x_3^6 - 260*x_1^9*x_2*x_3^6 + 148*x_1^8*x_2^2*x_3^6 + 304*x_1^7*x_2^3*x_3^6 - 334*x_1^6*x_2^4*x_3^6 + 168*x_1^5*x_2^5*x_3^6 - 334*x_1^4*x_2^6*x_3^6 + 304*x_1^3*x_2^7*x_3^6 + 148*x_1^2*x_2^8*x_3^6 - 260*x_1*x_2^9*x_3^6 + 64*x_2^10*x_3^6 + 20*x_1^9*x_3^7 + 180*x_1^8*x_2*x_3^7 - 488*x_1^7*x_2^2*x_3^7 + 304*x_1^6*x_2^3*x_3^7 - 48*x_1^5*x_2^4*x_3^7 - 48*x_1^4*x_2^5*x_3^7 + 304*x_1^3*x_2^6*x_3^7 - 488*x_1^2*x_2^7*x_3^7 + 180*x_1*x_2^8*x_3^7 + 20*x_2^9*x_3^7 - 90*x_1^8*x_3^8 + 180*x_1^7*x_2*x_3^8 + 148*x_1^6*x_2^2*x_3^8 - 380*x_1^5*x_2^3*x_3^8 + 409*x_1^4*x_2^4*x_3^8 - 380*x_1^3*x_2^5*x_3^8 + 148*x_1^2*x_2^6*x_3^8 + 180*x_1*x_2^7*x_3^8 - 90*x_2^8*x_3^8 + 20*x_1^7*x_3^9 - 260*x_1^6*x_2*x_3^9 + 292*x_1^5*x_2^2*x_3^9 - 92*x_1^4*x_2^3*x_3^9 - 92*x_1^3*x_2^4*x_3^9 + 292*x_1^2*x_2^5*x_3^9 - 260*x_1*x_2^6*x_3^9 + 20*x_2^7*x_3^9 + 64*x_1^6*x_3^10 + 4*x_1^5*x_2*x_3^10 - 222*x_1^4*x_2^2*x_3^10 + 236*x_1^3*x_2^3*x_3^10 - 222*x_1^2*x_2^4*x_3^10 + 4*x_1*x_2^5*x_3^10 + 64*x_2^6*x_3^10 - 36*x_1^5*x_3^11 + 140*x_1^4*x_2*x_3^11 - 28*x_1^3*x_2^2*x_3^11 - 28*x_1^2*x_2^3*x_3^11 + 140*x_1*x_2^4*x_3^11 - 36*x_2^5*x_3^11 - 20*x_1^4*x_3^12 - 60*x_1^3*x_2*x_3^12 + 74*x_1^2*x_2^2*x_3^12 - 60*x_1*x_2^3*x_3^12 - 20*x_2^4*x_3^12 + 20*x_1^3*x_3^13 - 20*x_1^2*x_2*x_3^13 - 20*x_1*x_2^2*x_3^13 + 20*x_2^3*x_3^13 + 20*x_1*x_2*x_3^14 - 4*x_1*x_3^15 - 4*x_2*x_3^15 + x_3^16 - 4*x_1^15*x_4 + 20*x_1^14*x_2*x_4 - 20*x_1^13*x_2^2*x_4 - 60*x_1^12*x_2^3*x_4 + 140*x_1^11*x_2^4*x_4 + 4*x_1^10*x_2^5*x_4 - 260*x_1^9*x_2^6*x_4 + 180*x_1^8*x_2^7*x_4 + 180*x_1^7*x_2^8*x_4 - 260*x_1^6*x_2^9*x_4 + 4*x_1^5*x_2^10*x_4 + 140*x_1^4*x_2^11*x_4 - 60*x_1^3*x_2^12*x_4 - 20*x_1^2*x_2^13*x_4 + 20*x_1*x_2^14*x_4 - 4*x_2^15*x_4 + 20*x_1^14*x_3*x_4 - 100*x_1^13*x_2*x_3*x_4 + 146*x_1^12*x_2^2*x_3*x_4 + 108*x_1^11*x_2^3*x_3*x_4 - 558*x_1^10*x_2^4*x_3*x_4 + 468*x_1^9*x_2^5*x_3*x_4 + 392*x_1^8*x_2^6*x_3*x_4 - 952*x_1^7*x_2^7*x_3*x_4 + 392*x_1^6*x_2^8*x_3*x_4 + 468*x_1^5*x_2^9*x_3*x_4 - 558*x_1^4*x_2^10*x_3*x_4 + 108*x_1^3*x_2^11*x_3*x_4 + 146*x_1^2*x_2^12*x_3*x_4 - 100*x_1*x_2^13*x_3*x_4 + 20*x_2^14*x_3*x_4 - 20*x_1^13*x_3^2*x_4 + 146*x_1^12*x_2*x_3^2*x_4 - 360*x_1^11*x_2^2*x_3^2*x_4 + 244*x_1^10*x_2^3*x_3^2*x_4 + 518*x_1^9*x_2^4*x_3^2*x_4 - 1188*x_1^8*x_2^5*x_3^2*x_4 + 660*x_1^7*x_2^6*x_3^2*x_4 + 660*x_1^6*x_2^7*x_3^2*x_4 - 1188*x_1^5*x_2^8*x_3^2*x_4 + 518*x_1^4*x_2^9*x_3^2*x_4 + 244*x_1^3*x_2^10*x_3^2*x_4 - 360*x_1^2*x_2^11*x_3^2*x_4 + 146*x_1*x_2^12*x_3^2*x_4 - 20*x_2^13*x_3^2*x_4 - 60*x_1^12*x_3^3*x_4 + 108*x_1^11*x_2*x_3^3*x_4 + 244*x_1^10*x_2^2*x_3^3*x_4 - 812*x_1^9*x_2^3*x_3^3*x_4 + 546*x_1^8*x_2^4*x_3^3*x_4 + 704*x_1^7*x_2^5*x_3^3*x_4 - 1460*x_1^6*x_2^6*x_3^3*x_4 + 704*x_1^5*x_2^7*x_3^3*x_4 + 546*x_1^4*x_2^8*x_3^3*x_4 - 812*x_1^3*x_2^9*x_3^3*x_4 + 244*x_1^2*x_2^10*x_3^3*x_4 + 108*x_1*x_2^11*x_3^3*x_4 - 60*x_2^12*x_3^3*x_4 + 140*x_1^11*x_3^4*x_4 - 558*x_1^10*x_2*x_3^4*x_4 + 518*x_1^9*x_2^2*x_3^4*x_4 + 546*x_1^8*x_2^3*x_3^4*x_4 - 1396*x_1^7*x_2^4*x_3^4*x_4 + 750*x_1^6*x_2^5*x_3^4*x_4 + 750*x_1^5*x_2^6*x_3^4*x_4 - 1396*x_1^4*x_2^7*x_3^4*x_4 + 546*x_1^3*x_2^8*x_3^4*x_4 + 518*x_1^2*x_2^9*x_3^4*x_4 - 558*x_1*x_2^10*x_3^4*x_4 + 140*x_2^11*x_3^4*x_4 + 4*x_1^10*x_3^5*x_4 + 468*x_1^9*x_2*x_3^5*x_4 - 1188*x_1^8*x_2^2*x_3^5*x_4 + 704*x_1^7*x_2^3*x_3^5*x_4 + 750*x_1^6*x_2^4*x_3^5*x_4 - 1512*x_1^5*x_2^5*x_3^5*x_4 + 750*x_1^4*x_2^6*x_3^5*x_4 + 704*x_1^3*x_2^7*x_3^5*x_4 - 1188*x_1^2*x_2^8*x_3^5*x_4 + 468*x_1*x_2^9*x_3^5*x_4 + 4*x_2^10*x_3^5*x_4 - 260*x_1^9*x_3^6*x_4 + 392*x_1^8*x_2*x_3^6*x_4 + 660*x_1^7*x_2^2*x_3^6*x_4 - 1460*x_1^6*x_2^3*x_3^6*x_4 + 750*x_1^5*x_2^4*x_3^6*x_4 + 750*x_1^4*x_2^5*x_3^6*x_4 - 1460*x_1^3*x_2^6*x_3^6*x_4 + 660*x_1^2*x_2^7*x_3^6*x_4 + 392*x_1*x_2^8*x_3^6*x_4 - 260*x_2^9*x_3^6*x_4 + 180*x_1^8*x_3^7*x_4 - 952*x_1^7*x_2*x_3^7*x_4 + 660*x_1^6*x_2^2*x_3^7*x_4 + 704*x_1^5*x_2^3*x_3^7*x_4 - 1396*x_1^4*x_2^4*x_3^7*x_4 + 704*x_1^3*x_2^5*x_3^7*x_4 + 660*x_1^2*x_2^6*x_3^7*x_4 - 952*x_1*x_2^7*x_3^7*x_4 + 180*x_2^8*x_3^7*x_4 + 180*x_1^7*x_3^8*x_4 + 392*x_1^6*x_2*x_3^8*x_4 - 1188*x_1^5*x_2^2*x_3^8*x_4 + 546*x_1^4*x_2^3*x_3^8*x_4 + 546*x_1^3*x_2^4*x_3^8*x_4 - 1188*x_1^2*x_2^5*x_3^8*x_4 + 392*x_1*x_2^6*x_3^8*x_4 + 180*x_2^7*x_3^8*x_4 - 260*x_1^6*x_3^9*x_4 + 468*x_1^5*x_2*x_3^9*x_4 + 518*x_1^4*x_2^2*x_3^9*x_4 - 812*x_1^3*x_2^3*x_3^9*x_4 + 518*x_1^2*x_2^4*x_3^9*x_4 + 468*x_1*x_2^5*x_3^9*x_4 - 260*x_2^6*x_3^9*x_4 + 4*x_1^5*x_3^10*x_4 - 558*x_1^4*x_2*x_3^10*x_4 + 244*x_1^3*x_2^2*x_3^10*x_4 + 244*x_1^2*x_2^3*x_3^10*x_4 - 558*x_1*x_2^4*x_3^10*x_4 + 4*x_2^5*x_3^10*x_4 + 140*x_1^4*x_3^11*x_4 + 108*x_1^3*x_2*x_3^11*x_4 - 360*x_1^2*x_2^2*x_3^11*x_4 + 108*x_1*x_2^3*x_3^11*x_4 + 140*x_2^4*x_3^11*x_4 - 60*x_1^3*x_3^12*x_4 + 146*x_1^2*x_2*x_3^12*x_4 + 146*x_1*x_2^2*x_3^12*x_4 - 60*x_2^3*x_3^12*x_4 - 20*x_1^2*x_3^13*x_4 - 100*x_1*x_2*x_3^13*x_4 - 20*x_2^2*x_3^13*x_4 + 20*x_1*x_3^14*x_4 + 20*x_2*x_3^14*x_4 - 4*x_3^15*x_4 - 20*x_1^13*x_2*x_4^2 + 74*x_1^12*x_2^2*x_4^2 - 28*x_1^11*x_2^3*x_4^2 - 222*x_1^10*x_2^4*x_4^2 + 292*x_1^9*x_2^5*x_4^2 + 148*x_1^8*x_2^6*x_4^2 - 488*x_1^7*x_2^7*x_4^2 + 148*x_1^6*x_2^8*x_4^2 + 292*x_1^5*x_2^9*x_4^2 - 222*x_1^4*x_2^10*x_4^2 - 28*x_1^3*x_2^11*x_4^2 + 74*x_1^2*x_2^12*x_4^2 - 20*x_1*x_2^13*x_4^2 - 20*x_1^13*x_3*x_4^2 + 146*x_1^12*x_2*x_3*x_4^2 - 360*x_1^11*x_2^2*x_3*x_4^2 + 244*x_1^10*x_2^3*x_3*x_4^2 + 518*x_1^9*x_2^4*x_3*x_4^2 - 1188*x_1^8*x_2^5*x_3*x_4^2 + 660*x_1^7*x_2^6*x_3*x_4^2 + 660*x_1^6*x_2^7*x_3*x_4^2 - 1188*x_1^5*x_2^8*x_3*x_4^2 + 518*x_1^4*x_2^9*x_3*x_4^2 + 244*x_1^3*x_2^10*x_3*x_4^2 - 360*x_1^2*x_2^11*x_3*x_4^2 + 146*x_1*x_2^12*x_3*x_4^2 - 20*x_2^13*x_3*x_4^2 + 74*x_1^12*x_3^2*x_4^2 - 360*x_1^11*x_2*x_3^2*x_4^2 + 682*x_1^10*x_2^2*x_3^2*x_4^2 - 592*x_1^9*x_2^3*x_3^2*x_4^2 - 59*x_1^8*x_2^4*x_3^2*x_4^2 + 952*x_1^7*x_2^5*x_3^2*x_4^2 - 1394*x_1^6*x_2^6*x_3^2*x_4^2 + 952*x_1^5*x_2^7*x_3^2*x_4^2 - 59*x_1^4*x_2^8*x_3^2*x_4^2 - 592*x_1^3*x_2^9*x_3^2*x_4^2 + 682*x_1^2*x_2^10*x_3^2*x_4^2 - 360*x_1*x_2^11*x_3^2*x_4^2 + 74*x_2^12*x_3^2*x_4^2 - 28*x_1^11*x_3^3*x_4^2 + 244*x_1^10*x_2*x_3^3*x_4^2 - 592*x_1^9*x_2^2*x_3^3*x_4^2 + 736*x_1^8*x_2^3*x_3^3*x_4^2 - 612*x_1^7*x_2^4*x_3^3*x_4^2 + 252*x_1^6*x_2^5*x_3^3*x_4^2 + 252*x_1^5*x_2^6*x_3^3*x_4^2 - 612*x_1^4*x_2^7*x_3^3*x_4^2 + 736*x_1^3*x_2^8*x_3^3*x_4^2 - 592*x_1^2*x_2^9*x_3^3*x_4^2 + 244*x_1*x_2^10*x_3^3*x_4^2 - 28*x_2^11*x_3^3*x_4^2 - 222*x_1^10*x_3^4*x_4^2 + 518*x_1^9*x_2*x_3^4*x_4^2 - 59*x_1^8*x_2^2*x_3^4*x_4^2 - 612*x_1^7*x_2^3*x_3^4*x_4^2 + 622*x_1^6*x_2^4*x_3^4*x_4^2 - 422*x_1^5*x_2^5*x_3^4*x_4^2 + 622*x_1^4*x_2^6*x_3^4*x_4^2 - 612*x_1^3*x_2^7*x_3^4*x_4^2 - 59*x_1^2*x_2^8*x_3^4*x_4^2 + 518*x_1*x_2^9*x_3^4*x_4^2 - 222*x_2^10*x_3^4*x_4^2 + 292*x_1^9*x_3^5*x_4^2 - 1188*x_1^8*x_2*x_3^5*x_4^2 + 952*x_1^7*x_2^2*x_3^5*x_4^2 + 252*x_1^6*x_2^3*x_3^5*x_4^2 - 422*x_1^5*x_2^4*x_3^5*x_4^2 - 422*x_1^4*x_2^5*x_3^5*x_4^2 + 252*x_1^3*x_2^6*x_3^5*x_4^2 + 952*x_1^2*x_2^7*x_3^5*x_4^2 - 1188*x_1*x_2^8*x_3^5*x_4^2 + 292*x_2^9*x_3^5*x_4^2 + 148*x_1^8*x_3^6*x_4^2 + 660*x_1^7*x_2*x_3^6*x_4^2 - 1394*x_1^6*x_2^2*x_3^6*x_4^2 + 252*x_1^5*x_2^3*x_3^6*x_4^2 + 622*x_1^4*x_2^4*x_3^6*x_4^2 + 252*x_1^3*x_2^5*x_3^6*x_4^2 - 1394*x_1^2*x_2^6*x_3^6*x_4^2 + 660*x_1*x_2^7*x_3^6*x_4^2 + 148*x_2^8*x_3^6*x_4^2 - 488*x_1^7*x_3^7*x_4^2 + 660*x_1^6*x_2*x_3^7*x_4^2 + 952*x_1^5*x_2^2*x_3^7*x_4^2 - 612*x_1^4*x_2^3*x_3^7*x_4^2 - 612*x_1^3*x_2^4*x_3^7*x_4^2 + 952*x_1^2*x_2^5*x_3^7*x_4^2 + 660*x_1*x_2^6*x_3^7*x_4^2 - 488*x_2^7*x_3^7*x_4^2 + 148*x_1^6*x_3^8*x_4^2 - 1188*x_1^5*x_2*x_3^8*x_4^2 - 59*x_1^4*x_2^2*x_3^8*x_4^2 + 736*x_1^3*x_2^3*x_3^8*x_4^2 - 59*x_1^2*x_2^4*x_3^8*x_4^2 - 1188*x_1*x_2^5*x_3^8*x_4^2 + 148*x_2^6*x_3^8*x_4^2 + 292*x_1^5*x_3^9*x_4^2 + 518*x_1^4*x_2*x_3^9*x_4^2 - 592*x_1^3*x_2^2*x_3^9*x_4^2 - 592*x_1^2*x_2^3*x_3^9*x_4^2 + 518*x_1*x_2^4*x_3^9*x_4^2 + 292*x_2^5*x_3^9*x_4^2 - 222*x_1^4*x_3^10*x_4^2 + 244*x_1^3*x_2*x_3^10*x_4^2 + 682*x_1^2*x_2^2*x_3^10*x_4^2 + 244*x_1*x_2^3*x_3^10*x_4^2 - 222*x_2^4*x_3^10*x_4^2 - 28*x_1^3*x_3^11*x_4^2 - 360*x_1^2*x_2*x_3^11*x_4^2 - 360*x_1*x_2^2*x_3^11*x_4^2 - 28*x_2^3*x_3^11*x_4^2 + 74*x_1^2*x_3^12*x_4^2 + 146*x_1*x_2*x_3^12*x_4^2 + 74*x_2^2*x_3^12*x_4^2 - 20*x_1*x_3^13*x_4^2 - 20*x_2*x_3^13*x_4^2 + 20*x_1^13*x_4^3 - 60*x_1^12*x_2*x_4^3 - 28*x_1^11*x_2^2*x_4^3 + 236*x_1^10*x_2^3*x_4^3 - 92*x_1^9*x_2^4*x_4^3 - 380*x_1^8*x_2^5*x_4^3 + 304*x_1^7*x_2^6*x_4^3 + 304*x_1^6*x_2^7*x_4^3 - 380*x_1^5*x_2^8*x_4^3 - 92*x_1^4*x_2^9*x_4^3 + 236*x_1^3*x_2^10*x_4^3 - 28*x_1^2*x_2^11*x_4^3 - 60*x_1*x_2^12*x_4^3 + 20*x_2^13*x_4^3 - 60*x_1^12*x_3*x_4^3 + 108*x_1^11*x_2*x_3*x_4^3 + 244*x_1^10*x_2^2*x_3*x_4^3 - 812*x_1^9*x_2^3*x_3*x_4^3 + 546*x_1^8*x_2^4*x_3*x_4^3 + 704*x_1^7*x_2^5*x_3*x_4^3 - 1460*x_1^6*x_2^6*x_3*x_4^3 + 704*x_1^5*x_2^7*x_3*x_4^3 + 546*x_1^4*x_2^8*x_3*x_4^3 - 812*x_1^3*x_2^9*x_3*x_4^3 + 244*x_1^2*x_2^10*x_3*x_4^3 + 108*x_1*x_2^11*x_3*x_4^3 - 60*x_2^12*x_3*x_4^3 - 28*x_1^11*x_3^2*x_4^3 + 244*x_1^10*x_2*x_3^2*x_4^3 - 592*x_1^9*x_2^2*x_3^2*x_4^3 + 736*x_1^8*x_2^3*x_3^2*x_4^3 - 612*x_1^7*x_2^4*x_3^2*x_4^3 + 252*x_1^6*x_2^5*x_3^2*x_4^3 + 252*x_1^5*x_2^6*x_3^2*x_4^3 - 612*x_1^4*x_2^7*x_3^2*x_4^3 + 736*x_1^3*x_2^8*x_3^2*x_4^3 - 592*x_1^2*x_2^9*x_3^2*x_4^3 + 244*x_1*x_2^10*x_3^2*x_4^3 - 28*x_2^11*x_3^2*x_4^3 + 236*x_1^10*x_3^3*x_4^3 - 812*x_1^9*x_2*x_3^3*x_4^3 + 736*x_1^8*x_2^2*x_3^3*x_4^3 - 72*x_1^7*x_2^3*x_3^3*x_4^3 + 28*x_1^6*x_2^4*x_3^3*x_4^3 - 316*x_1^5*x_2^5*x_3^3*x_4^3 + 28*x_1^4*x_2^6*x_3^3*x_4^3 - 72*x_1^3*x_2^7*x_3^3*x_4^3 + 736*x_1^2*x_2^8*x_3^3*x_4^3 - 812*x_1*x_2^9*x_3^3*x_4^3 + 236*x_2^10*x_3^3*x_4^3 - 92*x_1^9*x_3^4*x_4^3 + 546*x_1^8*x_2*x_3^4*x_4^3 - 612*x_1^7*x_2^2*x_3^4*x_4^3 + 28*x_1^6*x_2^3*x_3^4*x_4^3 + 180*x_1^5*x_2^4*x_3^4*x_4^3 + 180*x_1^4*x_2^5*x_3^4*x_4^3 + 28*x_1^3*x_2^6*x_3^4*x_4^3 - 612*x_1^2*x_2^7*x_3^4*x_4^3 + 546*x_1*x_2^8*x_3^4*x_4^3 - 92*x_2^9*x_3^4*x_4^3 - 380*x_1^8*x_3^5*x_4^3 + 704*x_1^7*x_2*x_3^5*x_4^3 + 252*x_1^6*x_2^2*x_3^5*x_4^3 - 316*x_1^5*x_2^3*x_3^5*x_4^3 + 180*x_1^4*x_2^4*x_3^5*x_4^3 - 316*x_1^3*x_2^5*x_3^5*x_4^3 + 252*x_1^2*x_2^6*x_3^5*x_4^3 + 704*x_1*x_2^7*x_3^5*x_4^3 - 380*x_2^8*x_3^5*x_4^3 + 304*x_1^7*x_3^6*x_4^3 - 1460*x_1^6*x_2*x_3^6*x_4^3 + 252*x_1^5*x_2^2*x_3^6*x_4^3 + 28*x_1^4*x_2^3*x_3^6*x_4^3 + 28*x_1^3*x_2^4*x_3^6*x_4^3 + 252*x_1^2*x_2^5*x_3^6*x_4^3 - 1460*x_1*x_2^6*x_3^6*x_4^3 + 304*x_2^7*x_3^6*x_4^3 + 304*x_1^6*x_3^7*x_4^3 + 704*x_1^5*x_2*x_3^7*x_4^3 - 612*x_1^4*x_2^2*x_3^7*x_4^3 - 72*x_1^3*x_2^3*x_3^7*x_4^3 - 612*x_1^2*x_2^4*x_3^7*x_4^3 + 704*x_1*x_2^5*x_3^7*x_4^3 + 304*x_2^6*x_3^7*x_4^3 - 380*x_1^5*x_3^8*x_4^3 + 546*x_1^4*x_2*x_3^8*x_4^3 + 736*x_1^3*x_2^2*x_3^8*x_4^3 + 736*x_1^2*x_2^3*x_3^8*x_4^3 + 546*x_1*x_2^4*x_3^8*x_4^3 - 380*x_2^5*x_3^8*x_4^3 - 92*x_1^4*x_3^9*x_4^3 - 812*x_1^3*x_2*x_3^9*x_4^3 - 592*x_1^2*x_2^2*x_3^9*x_4^3 - 812*x_1*x_2^3*x_3^9*x_4^3 - 92*x_2^4*x_3^9*x_4^3 + 236*x_1^3*x_3^10*x_4^3 + 244*x_1^2*x_2*x_3^10*x_4^3 + 244*x_1*x_2^2*x_3^10*x_4^3 + 236*x_2^3*x_3^10*x_4^3 - 28*x_1^2*x_3^11*x_4^3 + 108*x_1*x_2*x_3^11*x_4^3 - 28*x_2^2*x_3^11*x_4^3 - 60*x_1*x_3^12*x_4^3 - 60*x_2*x_3^12*x_4^3 + 20*x_3^13*x_4^3 - 20*x_1^12*x_4^4 + 140*x_1^11*x_2*x_4^4 - 222*x_1^10*x_2^2*x_4^4 - 92*x_1^9*x_2^3*x_4^4 + 409*x_1^8*x_2^4*x_4^4 - 48*x_1^7*x_2^5*x_4^4 - 334*x_1^6*x_2^6*x_4^4 - 48*x_1^5*x_2^7*x_4^4 + 409*x_1^4*x_2^8*x_4^4 - 92*x_1^3*x_2^9*x_4^4 - 222*x_1^2*x_2^10*x_4^4 + 140*x_1*x_2^11*x_4^4 - 20*x_2^12*x_4^4 + 140*x_1^11*x_3*x_4^4 - 558*x_1^10*x_2*x_3*x_4^4 + 518*x_1^9*x_2^2*x_3*x_4^4 + 546*x_1^8*x_2^3*x_3*x_4^4 - 1396*x_1^7*x_2^4*x_3*x_4^4 + 750*x_1^6*x_2^5*x_3*x_4^4 + 750*x_1^5*x_2^6*x_3*x_4^4 - 1396*x_1^4*x_2^7*x_3*x_4^4 + 546*x_1^3*x_2^8*x_3*x_4^4 + 518*x_1^2*x_2^9*x_3*x_4^4 - 558*x_1*x_2^10*x_3*x_4^4 + 140*x_2^11*x_3*x_4^4 - 222*x_1^10*x_3^2*x_4^4 + 518*x_1^9*x_2*x_3^2*x_4^4 - 59*x_1^8*x_2^2*x_3^2*x_4^4 - 612*x_1^7*x_2^3*x_3^2*x_4^4 + 622*x_1^6*x_2^4*x_3^2*x_4^4 - 422*x_1^5*x_2^5*x_3^2*x_4^4 + 622*x_1^4*x_2^6*x_3^2*x_4^4 - 612*x_1^3*x_2^7*x_3^2*x_4^4 - 59*x_1^2*x_2^8*x_3^2*x_4^4 + 518*x_1*x_2^9*x_3^2*x_4^4 - 222*x_2^10*x_3^2*x_4^4 - 92*x_1^9*x_3^3*x_4^4 + 546*x_1^8*x_2*x_3^3*x_4^4 - 612*x_1^7*x_2^2*x_3^3*x_4^4 + 28*x_1^6*x_2^3*x_3^3*x_4^4 + 180*x_1^5*x_2^4*x_3^3*x_4^4 + 180*x_1^4*x_2^5*x_3^3*x_4^4 + 28*x_1^3*x_2^6*x_3^3*x_4^4 - 612*x_1^2*x_2^7*x_3^3*x_4^4 + 546*x_1*x_2^8*x_3^3*x_4^4 - 92*x_2^9*x_3^3*x_4^4 + 409*x_1^8*x_3^4*x_4^4 - 1396*x_1^7*x_2*x_3^4*x_4^4 + 622*x_1^6*x_2^2*x_3^4*x_4^4 + 180*x_1^5*x_2^3*x_3^4*x_4^4 - 675*x_1^4*x_2^4*x_3^4*x_4^4 + 180*x_1^3*x_2^5*x_3^4*x_4^4 + 622*x_1^2*x_2^6*x_3^4*x_4^4 - 1396*x_1*x_2^7*x_3^4*x_4^4 + 409*x_2^8*x_3^4*x_4^4 - 48*x_1^7*x_3^5*x_4^4 + 750*x_1^6*x_2*x_3^5*x_4^4 - 422*x_1^5*x_2^2*x_3^5*x_4^4 + 180*x_1^4*x_2^3*x_3^5*x_4^4 + 180*x_1^3*x_2^4*x_3^5*x_4^4 - 422*x_1^2*x_2^5*x_3^5*x_4^4 + 750*x_1*x_2^6*x_3^5*x_4^4 - 48*x_2^7*x_3^5*x_4^4 - 334*x_1^6*x_3^6*x_4^4 + 750*x_1^5*x_2*x_3^6*x_4^4 + 622*x_1^4*x_2^2*x_3^6*x_4^4 + 28*x_1^3*x_2^3*x_3^6*x_4^4 + 622*x_1^2*x_2^4*x_3^6*x_4^4 + 750*x_1*x_2^5*x_3^6*x_4^4 - 334*x_2^6*x_3^6*x_4^4 - 48*x_1^5*x_3^7*x_4^4 - 1396*x_1^4*x_2*x_3^7*x_4^4 - 612*x_1^3*x_2^2*x_3^7*x_4^4 - 612*x_1^2*x_2^3*x_3^7*x_4^4 - 1396*x_1*x_2^4*x_3^7*x_4^4 - 48*x_2^5*x_3^7*x_4^4 + 409*x_1^4*x_3^8*x_4^4 + 546*x_1^3*x_2*x_3^8*x_4^4 - 59*x_1^2*x_2^2*x_3^8*x_4^4 + 546*x_1*x_2^3*x_3^8*x_4^4 + 409*x_2^4*x_3^8*x_4^4 - 92*x_1^3*x_3^9*x_4^4 + 518*x_1^2*x_2*x_3^9*x_4^4 + 518*x_1*x_2^2*x_3^9*x_4^4 - 92*x_2^3*x_3^9*x_4^4 - 222*x_1^2*x_3^10*x_4^4 - 558*x_1*x_2*x_3^10*x_4^4 - 222*x_2^2*x_3^10*x_4^4 + 140*x_1*x_3^11*x_4^4 + 140*x_2*x_3^11*x_4^4 - 20*x_3^12*x_4^4 - 36*x_1^11*x_4^5 + 4*x_1^10*x_2*x_4^5 + 292*x_1^9*x_2^2*x_4^5 - 380*x_1^8*x_2^3*x_4^5 - 48*x_1^7*x_2^4*x_4^5 + 168*x_1^6*x_2^5*x_4^5 + 168*x_1^5*x_2^6*x_4^5 - 48*x_1^4*x_2^7*x_4^5 - 380*x_1^3*x_2^8*x_4^5 + 292*x_1^2*x_2^9*x_4^5 + 4*x_1*x_2^10*x_4^5 - 36*x_2^11*x_4^5 + 4*x_1^10*x_3*x_4^5 + 468*x_1^9*x_2*x_3*x_4^5 - 1188*x_1^8*x_2^2*x_3*x_4^5 + 704*x_1^7*x_2^3*x_3*x_4^5 + 750*x_1^6*x_2^4*x_3*x_4^5 - 1512*x_1^5*x_2^5*x_3*x_4^5 + 750*x_1^4*x_2^6*x_3*x_4^5 + 704*x_1^3*x_2^7*x_3*x_4^5 - 1188*x_1^2*x_2^8*x_3*x_4^5 + 468*x_1*x_2^9*x_3*x_4^5 + 4*x_2^10*x_3*x_4^5 + 292*x_1^9*x_3^2*x_4^5 - 1188*x_1^8*x_2*x_3^2*x_4^5 + 952*x_1^7*x_2^2*x_3^2*x_4^5 + 252*x_1^6*x_2^3*x_3^2*x_4^5 - 422*x_1^5*x_2^4*x_3^2*x_4^5 - 422*x_1^4*x_2^5*x_3^2*x_4^5 + 252*x_1^3*x_2^6*x_3^2*x_4^5 + 952*x_1^2*x_2^7*x_3^2*x_4^5 - 1188*x_1*x_2^8*x_3^2*x_4^5 + 292*x_2^9*x_3^2*x_4^5 - 380*x_1^8*x_3^3*x_4^5 + 704*x_1^7*x_2*x_3^3*x_4^5 + 252*x_1^6*x_2^2*x_3^3*x_4^5 - 316*x_1^5*x_2^3*x_3^3*x_4^5 + 180*x_1^4*x_2^4*x_3^3*x_4^5 - 316*x_1^3*x_2^5*x_3^3*x_4^5 + 252*x_1^2*x_2^6*x_3^3*x_4^5 + 704*x_1*x_2^7*x_3^3*x_4^5 - 380*x_2^8*x_3^3*x_4^5 - 48*x_1^7*x_3^4*x_4^5 + 750*x_1^6*x_2*x_3^4*x_4^5 - 422*x_1^5*x_2^2*x_3^4*x_4^5 + 180*x_1^4*x_2^3*x_3^4*x_4^5 + 180*x_1^3*x_2^4*x_3^4*x_4^5 - 422*x_1^2*x_2^5*x_3^4*x_4^5 + 750*x_1*x_2^6*x_3^4*x_4^5 - 48*x_2^7*x_3^4*x_4^5 + 168*x_1^6*x_3^5*x_4^5 - 1512*x_1^5*x_2*x_3^5*x_4^5 - 422*x_1^4*x_2^2*x_3^5*x_4^5 - 316*x_1^3*x_2^3*x_3^5*x_4^5 - 422*x_1^2*x_2^4*x_3^5*x_4^5 - 1512*x_1*x_2^5*x_3^5*x_4^5 + 168*x_2^6*x_3^5*x_4^5 + 168*x_1^5*x_3^6*x_4^5 + 750*x_1^4*x_2*x_3^6*x_4^5 + 252*x_1^3*x_2^2*x_3^6*x_4^5 + 252*x_1^2*x_2^3*x_3^6*x_4^5 + 750*x_1*x_2^4*x_3^6*x_4^5 + 168*x_2^5*x_3^6*x_4^5 - 48*x_1^4*x_3^7*x_4^5 + 704*x_1^3*x_2*x_3^7*x_4^5 + 952*x_1^2*x_2^2*x_3^7*x_4^5 + 704*x_1*x_2^3*x_3^7*x_4^5 - 48*x_2^4*x_3^7*x_4^5 - 380*x_1^3*x_3^8*x_4^5 - 1188*x_1^2*x_2*x_3^8*x_4^5 - 1188*x_1*x_2^2*x_3^8*x_4^5 - 380*x_2^3*x_3^8*x_4^5 + 292*x_1^2*x_3^9*x_4^5 + 468*x_1*x_2*x_3^9*x_4^5 + 292*x_2^2*x_3^9*x_4^5 + 4*x_1*x_3^10*x_4^5 + 4*x_2*x_3^10*x_4^5 - 36*x_3^11*x_4^5 + 64*x_1^10*x_4^6 - 260*x_1^9*x_2*x_4^6 + 148*x_1^8*x_2^2*x_4^6 + 304*x_1^7*x_2^3*x_4^6 - 334*x_1^6*x_2^4*x_4^6 + 168*x_1^5*x_2^5*x_4^6 - 334*x_1^4*x_2^6*x_4^6 + 304*x_1^3*x_2^7*x_4^6 + 148*x_1^2*x_2^8*x_4^6 - 260*x_1*x_2^9*x_4^6 + 64*x_2^10*x_4^6 - 260*x_1^9*x_3*x_4^6 + 392*x_1^8*x_2*x_3*x_4^6 + 660*x_1^7*x_2^2*x_3*x_4^6 - 1460*x_1^6*x_2^3*x_3*x_4^6 + 750*x_1^5*x_2^4*x_3*x_4^6 + 750*x_1^4*x_2^5*x_3*x_4^6 - 1460*x_1^3*x_2^6*x_3*x_4^6 + 660*x_1^2*x_2^7*x_3*x_4^6 + 392*x_1*x_2^8*x_3*x_4^6 - 260*x_2^9*x_3*x_4^6 + 148*x_1^8*x_3^2*x_4^6 + 660*x_1^7*x_2*x_3^2*x_4^6 - 1394*x_1^6*x_2^2*x_3^2*x_4^6 + 252*x_1^5*x_2^3*x_3^2*x_4^6 + 622*x_1^4*x_2^4*x_3^2*x_4^6 + 252*x_1^3*x_2^5*x_3^2*x_4^6 - 1394*x_1^2*x_2^6*x_3^2*x_4^6 + 660*x_1*x_2^7*x_3^2*x_4^6 + 148*x_2^8*x_3^2*x_4^6 + 304*x_1^7*x_3^3*x_4^6 - 1460*x_1^6*x_2*x_3^3*x_4^6 + 252*x_1^5*x_2^2*x_3^3*x_4^6 + 28*x_1^4*x_2^3*x_3^3*x_4^6 + 28*x_1^3*x_2^4*x_3^3*x_4^6 + 252*x_1^2*x_2^5*x_3^3*x_4^6 - 1460*x_1*x_2^6*x_3^3*x_4^6 + 304*x_2^7*x_3^3*x_4^6 - 334*x_1^6*x_3^4*x_4^6 + 750*x_1^5*x_2*x_3^4*x_4^6 + 622*x_1^4*x_2^2*x_3^4*x_4^6 + 28*x_1^3*x_2^3*x_3^4*x_4^6 + 622*x_1^2*x_2^4*x_3^4*x_4^6 + 750*x_1*x_2^5*x_3^4*x_4^6 - 334*x_2^6*x_3^4*x_4^6 + 168*x_1^5*x_3^5*x_4^6 + 750*x_1^4*x_2*x_3^5*x_4^6 + 252*x_1^3*x_2^2*x_3^5*x_4^6 + 252*x_1^2*x_2^3*x_3^5*x_4^6 + 750*x_1*x_2^4*x_3^5*x_4^6 + 168*x_2^5*x_3^5*x_4^6 - 334*x_1^4*x_3^6*x_4^6 - 1460*x_1^3*x_2*x_3^6*x_4^6 - 1394*x_1^2*x_2^2*x_3^6*x_4^6 - 1460*x_1*x_2^3*x_3^6*x_4^6 - 334*x_2^4*x_3^6*x_4^6 + 304*x_1^3*x_3^7*x_4^6 + 660*x_1^2*x_2*x_3^7*x_4^6 + 660*x_1*x_2^2*x_3^7*x_4^6 + 304*x_2^3*x_3^7*x_4^6 + 148*x_1^2*x_3^8*x_4^6 + 392*x_1*x_2*x_3^8*x_4^6 + 148*x_2^2*x_3^8*x_4^6 - 260*x_1*x_3^9*x_4^6 - 260*x_2*x_3^9*x_4^6 + 64*x_3^10*x_4^6 + 20*x_1^9*x_4^7 + 180*x_1^8*x_2*x_4^7 - 488*x_1^7*x_2^2*x_4^7 + 304*x_1^6*x_2^3*x_4^7 - 48*x_1^5*x_2^4*x_4^7 - 48*x_1^4*x_2^5*x_4^7 + 304*x_1^3*x_2^6*x_4^7 - 488*x_1^2*x_2^7*x_4^7 + 180*x_1*x_2^8*x_4^7 + 20*x_2^9*x_4^7 + 180*x_1^8*x_3*x_4^7 - 952*x_1^7*x_2*x_3*x_4^7 + 660*x_1^6*x_2^2*x_3*x_4^7 + 704*x_1^5*x_2^3*x_3*x_4^7 - 1396*x_1^4*x_2^4*x_3*x_4^7 + 704*x_1^3*x_2^5*x_3*x_4^7 + 660*x_1^2*x_2^6*x_3*x_4^7 - 952*x_1*x_2^7*x_3*x_4^7 + 180*x_2^8*x_3*x_4^7 - 488*x_1^7*x_3^2*x_4^7 + 660*x_1^6*x_2*x_3^2*x_4^7 + 952*x_1^5*x_2^2*x_3^2*x_4^7 - 612*x_1^4*x_2^3*x_3^2*x_4^7 - 612*x_1^3*x_2^4*x_3^2*x_4^7 + 952*x_1^2*x_2^5*x_3^2*x_4^7 + 660*x_1*x_2^6*x_3^2*x_4^7 - 488*x_2^7*x_3^2*x_4^7 + 304*x_1^6*x_3^3*x_4^7 + 704*x_1^5*x_2*x_3^3*x_4^7 - 612*x_1^4*x_2^2*x_3^3*x_4^7 - 72*x_1^3*x_2^3*x_3^3*x_4^7 - 612*x_1^2*x_2^4*x_3^3*x_4^7 + 704*x_1*x_2^5*x_3^3*x_4^7 + 304*x_2^6*x_3^3*x_4^7 - 48*x_1^5*x_3^4*x_4^7 - 1396*x_1^4*x_2*x_3^4*x_4^7 - 612*x_1^3*x_2^2*x_3^4*x_4^7 - 612*x_1^2*x_2^3*x_3^4*x_4^7 - 1396*x_1*x_2^4*x_3^4*x_4^7 - 48*x_2^5*x_3^4*x_4^7 - 48*x_1^4*x_3^5*x_4^7 + 704*x_1^3*x_2*x_3^5*x_4^7 + 952*x_1^2*x_2^2*x_3^5*x_4^7 + 704*x_1*x_2^3*x_3^5*x_4^7 - 48*x_2^4*x_3^5*x_4^7 + 304*x_1^3*x_3^6*x_4^7 + 660*x_1^2*x_2*x_3^6*x_4^7 + 660*x_1*x_2^2*x_3^6*x_4^7 + 304*x_2^3*x_3^6*x_4^7 - 488*x_1^2*x_3^7*x_4^7 - 952*x_1*x_2*x_3^7*x_4^7 - 488*x_2^2*x_3^7*x_4^7 + 180*x_1*x_3^8*x_4^7 + 180*x_2*x_3^8*x_4^7 + 20*x_3^9*x_4^7 - 90*x_1^8*x_4^8 + 180*x_1^7*x_2*x_4^8 + 148*x_1^6*x_2^2*x_4^8 - 380*x_1^5*x_2^3*x_4^8 + 409*x_1^4*x_2^4*x_4^8 - 380*x_1^3*x_2^5*x_4^8 + 148*x_1^2*x_2^6*x_4^8 + 180*x_1*x_2^7*x_4^8 - 90*x_2^8*x_4^8 + 180*x_1^7*x_3*x_4^8 + 392*x_1^6*x_2*x_3*x_4^8 - 1188*x_1^5*x_2^2*x_3*x_4^8 + 546*x_1^4*x_2^3*x_3*x_4^8 + 546*x_1^3*x_2^4*x_3*x_4^8 - 1188*x_1^2*x_2^5*x_3*x_4^8 + 392*x_1*x_2^6*x_3*x_4^8 + 180*x_2^7*x_3*x_4^8 + 148*x_1^6*x_3^2*x_4^8 - 1188*x_1^5*x_2*x_3^2*x_4^8 - 59*x_1^4*x_2^2*x_3^2*x_4^8 + 736*x_1^3*x_2^3*x_3^2*x_4^8 - 59*x_1^2*x_2^4*x_3^2*x_4^8 - 1188*x_1*x_2^5*x_3^2*x_4^8 + 148*x_2^6*x_3^2*x_4^8 - 380*x_1^5*x_3^3*x_4^8 + 546*x_1^4*x_2*x_3^3*x_4^8 + 736*x_1^3*x_2^2*x_3^3*x_4^8 + 736*x_1^2*x_2^3*x_3^3*x_4^8 + 546*x_1*x_2^4*x_3^3*x_4^8 - 380*x_2^5*x_3^3*x_4^8 + 409*x_1^4*x_3^4*x_4^8 + 546*x_1^3*x_2*x_3^4*x_4^8 - 59*x_1^2*x_2^2*x_3^4*x_4^8 + 546*x_1*x_2^3*x_3^4*x_4^8 + 409*x_2^4*x_3^4*x_4^8 - 380*x_1^3*x_3^5*x_4^8 - 1188*x_1^2*x_2*x_3^5*x_4^8 - 1188*x_1*x_2^2*x_3^5*x_4^8 - 380*x_2^3*x_3^5*x_4^8 + 148*x_1^2*x_3^6*x_4^8 + 392*x_1*x_2*x_3^6*x_4^8 + 148*x_2^2*x_3^6*x_4^8 + 180*x_1*x_3^7*x_4^8 + 180*x_2*x_3^7*x_4^8 - 90*x_3^8*x_4^8 + 20*x_1^7*x_4^9 - 260*x_1^6*x_2*x_4^9 + 292*x_1^5*x_2^2*x_4^9 - 92*x_1^4*x_2^3*x_4^9 - 92*x_1^3*x_2^4*x_4^9 + 292*x_1^2*x_2^5*x_4^9 - 260*x_1*x_2^6*x_4^9 + 20*x_2^7*x_4^9 - 260*x_1^6*x_3*x_4^9 + 468*x_1^5*x_2*x_3*x_4^9 + 518*x_1^4*x_2^2*x_3*x_4^9 - 812*x_1^3*x_2^3*x_3*x_4^9 + 518*x_1^2*x_2^4*x_3*x_4^9 + 468*x_1*x_2^5*x_3*x_4^9 - 260*x_2^6*x_3*x_4^9 + 292*x_1^5*x_3^2*x_4^9 + 518*x_1^4*x_2*x_3^2*x_4^9 - 592*x_1^3*x_2^2*x_3^2*x_4^9 - 592*x_1^2*x_2^3*x_3^2*x_4^9 + 518*x_1*x_2^4*x_3^2*x_4^9 + 292*x_2^5*x_3^2*x_4^9 - 92*x_1^4*x_3^3*x_4^9 - 812*x_1^3*x_2*x_3^3*x_4^9 - 592*x_1^2*x_2^2*x_3^3*x_4^9 - 812*x_1*x_2^3*x_3^3*x_4^9 - 92*x_2^4*x_3^3*x_4^9 - 92*x_1^3*x_3^4*x_4^9 + 518*x_1^2*x_2*x_3^4*x_4^9 + 518*x_1*x_2^2*x_3^4*x_4^9 - 92*x_2^3*x_3^4*x_4^9 + 292*x_1^2*x_3^5*x_4^9 + 468*x_1*x_2*x_3^5*x_4^9 + 292*x_2^2*x_3^5*x_4^9 - 260*x_1*x_3^6*x_4^9 - 260*x_2*x_3^6*x_4^9 + 20*x_3^7*x_4^9 + 64*x_1^6*x_4^10 + 4*x_1^5*x_2*x_4^10 - 222*x_1^4*x_2^2*x_4^10 + 236*x_1^3*x_2^3*x_4^10 - 222*x_1^2*x_2^4*x_4^10 + 4*x_1*x_2^5*x_4^10 + 64*x_2^6*x_4^10 + 4*x_1^5*x_3*x_4^10 - 558*x_1^4*x_2*x_3*x_4^10 + 244*x_1^3*x_2^2*x_3*x_4^10 + 244*x_1^2*x_2^3*x_3*x_4^10 - 558*x_1*x_2^4*x_3*x_4^10 + 4*x_2^5*x_3*x_4^10 - 222*x_1^4*x_3^2*x_4^10 + 244*x_1^3*x_2*x_3^2*x_4^10 + 682*x_1^2*x_2^2*x_3^2*x_4^10 + 244*x_1*x_2^3*x_3^2*x_4^10 - 222*x_2^4*x_3^2*x_4^10 + 236*x_1^3*x_3^3*x_4^10 + 244*x_1^2*x_2*x_3^3*x_4^10 + 244*x_1*x_2^2*x_3^3*x_4^10 + 236*x_2^3*x_3^3*x_4^10 - 222*x_1^2*x_3^4*x_4^10 - 558*x_1*x_2*x_3^4*x_4^10 - 222*x_2^2*x_3^4*x_4^10 + 4*x_1*x_3^5*x_4^10 + 4*x_2*x_3^5*x_4^10 + 64*x_3^6*x_4^10 - 36*x_1^5*x_4^11 + 140*x_1^4*x_2*x_4^11 - 28*x_1^3*x_2^2*x_4^11 - 28*x_1^2*x_2^3*x_4^11 + 140*x_1*x_2^4*x_4^11 - 36*x_2^5*x_4^11 + 140*x_1^4*x_3*x_4^11 + 108*x_1^3*x_2*x_3*x_4^11 - 360*x_1^2*x_2^2*x_3*x_4^11 + 108*x_1*x_2^3*x_3*x_4^11 + 140*x_2^4*x_3*x_4^11 - 28*x_1^3*x_3^2*x_4^11 - 360*x_1^2*x_2*x_3^2*x_4^11 - 360*x_1*x_2^2*x_3^2*x_4^11 - 28*x_2^3*x_3^2*x_4^11 - 28*x_1^2*x_3^3*x_4^11 + 108*x_1*x_2*x_3^3*x_4^11 - 28*x_2^2*x_3^3*x_4^11 + 140*x_1*x_3^4*x_4^11 + 140*x_2*x_3^4*x_4^11 - 36*x_3^5*x_4^11 - 20*x_1^4*x_4^12 - 60*x_1^3*x_2*x_4^12 + 74*x_1^2*x_2^2*x_4^12 - 60*x_1*x_2^3*x_4^12 - 20*x_2^4*x_4^12 - 60*x_1^3*x_3*x_4^12 + 146*x_1^2*x_2*x_3*x_4^12 + 146*x_1*x_2^2*x_3*x_4^12 - 60*x_2^3*x_3*x_4^12 + 74*x_1^2*x_3^2*x_4^12 + 146*x_1*x_2*x_3^2*x_4^12 + 74*x_2^2*x_3^2*x_4^12 - 60*x_1*x_3^3*x_4^12 - 60*x_2*x_3^3*x_4^12 - 20*x_3^4*x_4^12 + 20*x_1^3*x_4^13 - 20*x_1^2*x_2*x_4^13 - 20*x_1*x_2^2*x_4^13 + 20*x_2^3*x_4^13 - 20*x_1^2*x_3*x_4^13 - 100*x_1*x_2*x_3*x_4^13 - 20*x_2^2*x_3*x_4^13 - 20*x_1*x_3^2*x_4^13 - 20*x_2*x_3^2*x_4^13 + 20*x_3^3*x_4^13 + 20*x_1*x_2*x_4^14 + 20*x_1*x_3*x_4^14 + 20*x_2*x_3*x_4^14 - 4*x_1*x_4^15 - 4*x_2*x_4^15 - 4*x_3*x_4^15 + x_4^16 - 4*x_1^15*x_5 + 20*x_1^14*x_2*x_5 - 20*x_1^13*x_2^2*x_5 - 60*x_1^12*x_2^3*x_5 + 140*x_1^11*x_2^4*x_5 + 4*x_1^10*x_2^5*x_5 - 260*x_1^9*x_2^6*x_5 + 180*x_1^8*x_2^7*x_5 + 180*x_1^7*x_2^8*x_5 - 260*x_1^6*x_2^9*x_5 + 4*x_1^5*x_2^10*x_5 + 140*x_1^4*x_2^11*x_5 - 60*x_1^3*x_2^12*x_5 - 20*x_1^2*x_2^13*x_5 + 20*x_1*x_2^14*x_5 - 4*x_2^15*x_5 + 20*x_1^14*x_3*x_5 - 100*x_1^13*x_2*x_3*x_5 + 146*x_1^12*x_2^2*x_3*x_5 + 108*x_1^11*x_2^3*x_3*x_5 - 558*x_1^10*x_2^4*x_3*x_5 + 468*x_1^9*x_2^5*x_3*x_5 + 392*x_1^8*x_2^6*x_3*x_5 - 952*x_1^7*x_2^7*x_3*x_5 + 392*x_1^6*x_2^8*x_3*x_5 + 468*x_1^5*x_2^9*x_3*x_5 - 558*x_1^4*x_2^10*x_3*x_5 + 108*x_1^3*x_2^11*x_3*x_5 + 146*x_1^2*x_2^12*x_3*x_5 - 100*x_1*x_2^13*x_3*x_5 + 20*x_2^14*x_3*x_5 - 20*x_1^13*x_3^2*x_5 + 146*x_1^12*x_2*x_3^2*x_5 - 360*x_1^11*x_2^2*x_3^2*x_5 + 244*x_1^10*x_2^3*x_3^2*x_5 + 518*x_1^9*x_2^4*x_3^2*x_5 - 1188*x_1^8*x_2^5*x_3^2*x_5 + 660*x_1^7*x_2^6*x_3^2*x_5 + 660*x_1^6*x_2^7*x_3^2*x_5 - 1188*x_1^5*x_2^8*x_3^2*x_5 + 518*x_1^4*x_2^9*x_3^2*x_5 + 244*x_1^3*x_2^10*x_3^2*x_5 - 360*x_1^2*x_2^11*x_3^2*x_5 + 146*x_1*x_2^12*x_3^2*x_5 - 20*x_2^13*x_3^2*x_5 - 60*x_1^12*x_3^3*x_5 + 108*x_1^11*x_2*x_3^3*x_5 + 244*x_1^10*x_2^2*x_3^3*x_5 - 812*x_1^9*x_2^3*x_3^3*x_5 + 546*x_1^8*x_2^4*x_3^3*x_5 + 704*x_1^7*x_2^5*x_3^3*x_5 - 1460*x_1^6*x_2^6*x_3^3*x_5 + 704*x_1^5*x_2^7*x_3^3*x_5 + 546*x_1^4*x_2^8*x_3^3*x_5 - 812*x_1^3*x_2^9*x_3^3*x_5 + 244*x_1^2*x_2^10*x_3^3*x_5 + 108*x_1*x_2^11*x_3^3*x_5 - 60*x_2^12*x_3^3*x_5 + 140*x_1^11*x_3^4*x_5 - 558*x_1^10*x_2*x_3^4*x_5 + 518*x_1^9*x_2^2*x_3^4*x_5 + 546*x_1^8*x_2^3*x_3^4*x_5 - 1396*x_1^7*x_2^4*x_3^4*x_5 + 750*x_1^6*x_2^5*x_3^4*x_5 + 750*x_1^5*x_2^6*x_3^4*x_5 - 1396*x_1^4*x_2^7*x_3^4*x_5 + 546*x_1^3*x_2^8*x_3^4*x_5 + 518*x_1^2*x_2^9*x_3^4*x_5 - 558*x_1*x_2^10*x_3^4*x_5 + 140*x_2^11*x_3^4*x_5 + 4*x_1^10*x_3^5*x_5 + 468*x_1^9*x_2*x_3^5*x_5 - 1188*x_1^8*x_2^2*x_3^5*x_5 + 704*x_1^7*x_2^3*x_3^5*x_5 + 750*x_1^6*x_2^4*x_3^5*x_5 - 1512*x_1^5*x_2^5*x_3^5*x_5 + 750*x_1^4*x_2^6*x_3^5*x_5 + 704*x_1^3*x_2^7*x_3^5*x_5 - 1188*x_1^2*x_2^8*x_3^5*x_5 + 468*x_1*x_2^9*x_3^5*x_5 + 4*x_2^10*x_3^5*x_5 - 260*x_1^9*x_3^6*x_5 + 392*x_1^8*x_2*x_3^6*x_5 + 660*x_1^7*x_2^2*x_3^6*x_5 - 1460*x_1^6*x_2^3*x_3^6*x_5 + 750*x_1^5*x_2^4*x_3^6*x_5 + 750*x_1^4*x_2^5*x_3^6*x_5 - 1460*x_1^3*x_2^6*x_3^6*x_5 + 660*x_1^2*x_2^7*x_3^6*x_5 + 392*x_1*x_2^8*x_3^6*x_5 - 260*x_2^9*x_3^6*x_5 + 180*x_1^8*x_3^7*x_5 - 952*x_1^7*x_2*x_3^7*x_5 + 660*x_1^6*x_2^2*x_3^7*x_5 + 704*x_1^5*x_2^3*x_3^7*x_5 - 1396*x_1^4*x_2^4*x_3^7*x_5 + 704*x_1^3*x_2^5*x_3^7*x_5 + 660*x_1^2*x_2^6*x_3^7*x_5 - 952*x_1*x_2^7*x_3^7*x_5 + 180*x_2^8*x_3^7*x_5 + 180*x_1^7*x_3^8*x_5 + 392*x_1^6*x_2*x_3^8*x_5 - 1188*x_1^5*x_2^2*x_3^8*x_5 + 546*x_1^4*x_2^3*x_3^8*x_5 + 546*x_1^3*x_2^4*x_3^8*x_5 - 1188*x_1^2*x_2^5*x_3^8*x_5 + 392*x_1*x_2^6*x_3^8*x_5 + 180*x_2^7*x_3^8*x_5 - 260*x_1^6*x_3^9*x_5 + 468*x_1^5*x_2*x_3^9*x_5 + 518*x_1^4*x_2^2*x_3^9*x_5 - 812*x_1^3*x_2^3*x_3^9*x_5 + 518*x_1^2*x_2^4*x_3^9*x_5 + 468*x_1*x_2^5*x_3^9*x_5 - 260*x_2^6*x_3^9*x_5 + 4*x_1^5*x_3^10*x_5 - 558*x_1^4*x_2*x_3^10*x_5 + 244*x_1^3*x_2^2*x_3^10*x_5 + 244*x_1^2*x_2^3*x_3^10*x_5 - 558*x_1*x_2^4*x_3^10*x_5 + 4*x_2^5*x_3^10*x_5 + 140*x_1^4*x_3^11*x_5 + 108*x_1^3*x_2*x_3^11*x_5 - 360*x_1^2*x_2^2*x_3^11*x_5 + 108*x_1*x_2^3*x_3^11*x_5 + 140*x_2^4*x_3^11*x_5 - 60*x_1^3*x_3^12*x_5 + 146*x_1^2*x_2*x_3^12*x_5 + 146*x_1*x_2^2*x_3^12*x_5 - 60*x_2^3*x_3^12*x_5 - 20*x_1^2*x_3^13*x_5 - 100*x_1*x_2*x_3^13*x_5 - 20*x_2^2*x_3^13*x_5 + 20*x_1*x_3^14*x_5 + 20*x_2*x_3^14*x_5 - 4*x_3^15*x_5 + 20*x_1^14*x_4*x_5 - 100*x_1^13*x_2*x_4*x_5 + 146*x_1^12*x_2^2*x_4*x_5 + 108*x_1^11*x_2^3*x_4*x_5 - 558*x_1^10*x_2^4*x_4*x_5 + 468*x_1^9*x_2^5*x_4*x_5 + 392*x_1^8*x_2^6*x_4*x_5 - 952*x_1^7*x_2^7*x_4*x_5 + 392*x_1^6*x_2^8*x_4*x_5 + 468*x_1^5*x_2^9*x_4*x_5 - 558*x_1^4*x_2^10*x_4*x_5 + 108*x_1^3*x_2^11*x_4*x_5 + 146*x_1^2*x_2^12*x_4*x_5 - 100*x_1*x_2^13*x_4*x_5 + 20*x_2^14*x_4*x_5 - 100*x_1^13*x_3*x_4*x_5 + 424*x_1^12*x_2*x_3*x_4*x_5 - 636*x_1^11*x_2^2*x_3*x_4*x_5 + 68*x_1^10*x_2^3*x_3*x_4*x_5 + 1168*x_1^9*x_2^4*x_3*x_4*x_5 - 1812*x_1^8*x_2^5*x_3*x_4*x_5 + 888*x_1^7*x_2^6*x_3*x_4*x_5 + 888*x_1^6*x_2^7*x_3*x_4*x_5 - 1812*x_1^5*x_2^8*x_3*x_4*x_5 + 1168*x_1^4*x_2^9*x_3*x_4*x_5 + 68*x_1^3*x_2^10*x_3*x_4*x_5 - 636*x_1^2*x_2^11*x_3*x_4*x_5 + 424*x_1*x_2^12*x_3*x_4*x_5 - 100*x_2^13*x_3*x_4*x_5 + 146*x_1^12*x_3^2*x_4*x_5 - 636*x_1^11*x_2*x_3^2*x_4*x_5 + 1132*x_1^10*x_2^2*x_3^2*x_4*x_5 - 892*x_1^9*x_2^3*x_3^2*x_4*x_5 - 242*x_1^8*x_2^4*x_3^2*x_4*x_5 + 1528*x_1^7*x_2^5*x_3^2*x_4*x_5 - 2072*x_1^6*x_2^6*x_3^2*x_4*x_5 + 1528*x_1^5*x_2^7*x_3^2*x_4*x_5 - 242*x_1^4*x_2^8*x_3^2*x_4*x_5 - 892*x_1^3*x_2^9*x_3^2*x_4*x_5 + 1132*x_1^2*x_2^10*x_3^2*x_4*x_5 - 636*x_1*x_2^11*x_3^2*x_4*x_5 + 146*x_2^12*x_3^2*x_4*x_5 + 108*x_1^11*x_3^3*x_4*x_5 + 68*x_1^10*x_2*x_3^3*x_4*x_5 - 892*x_1^9*x_2^2*x_3^3*x_4*x_5 + 1468*x_1^8*x_2^3*x_3^3*x_4*x_5 - 1080*x_1^7*x_2^4*x_3^3*x_4*x_5 + 328*x_1^6*x_2^5*x_3^3*x_4*x_5 + 328*x_1^5*x_2^6*x_3^3*x_4*x_5 - 1080*x_1^4*x_2^7*x_3^3*x_4*x_5 + 1468*x_1^3*x_2^8*x_3^3*x_4*x_5 - 892*x_1^2*x_2^9*x_3^3*x_4*x_5 + 68*x_1*x_2^10*x_3^3*x_4*x_5 + 108*x_2^11*x_3^3*x_4*x_5 - 558*x_1^10*x_3^4*x_4*x_5 + 1168*x_1^9*x_2*x_3^4*x_4*x_5 - 242*x_1^8*x_2^2*x_3^4*x_4*x_5 - 1080*x_1^7*x_2^3*x_3^4*x_4*x_5 + 1028*x_1^6*x_2^4*x_3^4*x_4*x_5 - 596*x_1^5*x_2^5*x_3^4*x_4*x_5 + 1028*x_1^4*x_2^6*x_3^4*x_4*x_5 - 1080*x_1^3*x_2^7*x_3^4*x_4*x_5 - 242*x_1^2*x_2^8*x_3^4*x_4*x_5 + 1168*x_1*x_2^9*x_3^4*x_4*x_5 - 558*x_2^10*x_3^4*x_4*x_5 + 468*x_1^9*x_3^5*x_4*x_5 - 1812*x_1^8*x_2*x_3^5*x_4*x_5 + 1528*x_1^7*x_2^2*x_3^5*x_4*x_5 + 328*x_1^6*x_2^3*x_3^5*x_4*x_5 - 596*x_1^5*x_2^4*x_3^5*x_4*x_5 - 596*x_1^4*x_2^5*x_3^5*x_4*x_5 + 328*x_1^3*x_2^6*x_3^5*x_4*x_5 + 1528*x_1^2*x_2^7*x_3^5*x_4*x_5 - 1812*x_1*x_2^8*x_3^5*x_4*x_5 + 468*x_2^9*x_3^5*x_4*x_5 + 392*x_1^8*x_3^6*x_4*x_5 + 888*x_1^7*x_2*x_3^6*x_4*x_5 - 2072*x_1^6*x_2^2*x_3^6*x_4*x_5 + 328*x_1^5*x_2^3*x_3^6*x_4*x_5 + 1028*x_1^4*x_2^4*x_3^6*x_4*x_5 + 328*x_1^3*x_2^5*x_3^6*x_4*x_5 - 2072*x_1^2*x_2^6*x_3^6*x_4*x_5 + 888*x_1*x_2^7*x_3^6*x_4*x_5 + 392*x_2^8*x_3^6*x_4*x_5 - 952*x_1^7*x_3^7*x_4*x_5 + 888*x_1^6*x_2*x_3^7*x_4*x_5 + 1528*x_1^5*x_2^2*x_3^7*x_4*x_5 - 1080*x_1^4*x_2^3*x_3^7*x_4*x_5 - 1080*x_1^3*x_2^4*x_3^7*x_4*x_5 + 1528*x_1^2*x_2^5*x_3^7*x_4*x_5 + 888*x_1*x_2^6*x_3^7*x_4*x_5 - 952*x_2^7*x_3^7*x_4*x_5 + 392*x_1^6*x_3^8*x_4*x_5 - 1812*x_1^5*x_2*x_3^8*x_4*x_5 - 242*x_1^4*x_2^2*x_3^8*x_4*x_5 + 1468*x_1^3*x_2^3*x_3^8*x_4*x_5 - 242*x_1^2*x_2^4*x_3^8*x_4*x_5 - 1812*x_1*x_2^5*x_3^8*x_4*x_5 + 392*x_2^6*x_3^8*x_4*x_5 + 468*x_1^5*x_3^9*x_4*x_5 + 1168*x_1^4*x_2*x_3^9*x_4*x_5 - 892*x_1^3*x_2^2*x_3^9*x_4*x_5 - 892*x_1^2*x_2^3*x_3^9*x_4*x_5 + 1168*x_1*x_2^4*x_3^9*x_4*x_5 + 468*x_2^5*x_3^9*x_4*x_5 - 558*x_1^4*x_3^10*x_4*x_5 + 68*x_1^3*x_2*x_3^10*x_4*x_5 + 1132*x_1^2*x_2^2*x_3^10*x_4*x_5 + 68*x_1*x_2^3*x_3^10*x_4*x_5 - 558*x_2^4*x_3^10*x_4*x_5 + 108*x_1^3*x_3^11*x_4*x_5 - 636*x_1^2*x_2*x_3^11*x_4*x_5 - 636*x_1*x_2^2*x_3^11*x_4*x_5 + 108*x_2^3*x_3^11*x_4*x_5 + 146*x_1^2*x_3^12*x_4*x_5 + 424*x_1*x_2*x_3^12*x_4*x_5 + 146*x_2^2*x_3^12*x_4*x_5 - 100*x_1*x_3^13*x_4*x_5 - 100*x_2*x_3^13*x_4*x_5 + 20*x_3^14*x_4*x_5 - 20*x_1^13*x_4^2*x_5 + 146*x_1^12*x_2*x_4^2*x_5 - 360*x_1^11*x_2^2*x_4^2*x_5 + 244*x_1^10*x_2^3*x_4^2*x_5 + 518*x_1^9*x_2^4*x_4^2*x_5 - 1188*x_1^8*x_2^5*x_4^2*x_5 + 660*x_1^7*x_2^6*x_4^2*x_5 + 660*x_1^6*x_2^7*x_4^2*x_5 - 1188*x_1^5*x_2^8*x_4^2*x_5 + 518*x_1^4*x_2^9*x_4^2*x_5 + 244*x_1^3*x_2^10*x_4^2*x_5 - 360*x_1^2*x_2^11*x_4^2*x_5 + 146*x_1*x_2^12*x_4^2*x_5 - 20*x_2^13*x_4^2*x_5 + 146*x_1^12*x_3*x_4^2*x_5 - 636*x_1^11*x_2*x_3*x_4^2*x_5 + 1132*x_1^10*x_2^2*x_3*x_4^2*x_5 - 892*x_1^9*x_2^3*x_3*x_4^2*x_5 - 242*x_1^8*x_2^4*x_3*x_4^2*x_5 + 1528*x_1^7*x_2^5*x_3*x_4^2*x_5 - 2072*x_1^6*x_2^6*x_3*x_4^2*x_5 + 1528*x_1^5*x_2^7*x_3*x_4^2*x_5 - 242*x_1^4*x_2^8*x_3*x_4^2*x_5 - 892*x_1^3*x_2^9*x_3*x_4^2*x_5 + 1132*x_1^2*x_2^10*x_3*x_4^2*x_5 - 636*x_1*x_2^11*x_3*x_4^2*x_5 + 146*x_2^12*x_3*x_4^2*x_5 - 360*x_1^11*x_3^2*x_4^2*x_5 + 1132*x_1^10*x_2*x_3^2*x_4^2*x_5 - 1492*x_1^9*x_2^2*x_3^2*x_4^2*x_5 + 1148*x_1^8*x_2^3*x_3^2*x_4^2*x_5 - 616*x_1^7*x_2^4*x_3^2*x_4^2*x_5 + 188*x_1^6*x_2^5*x_3^2*x_4^2*x_5 + 188*x_1^5*x_2^6*x_3^2*x_4^2*x_5 - 616*x_1^4*x_2^7*x_3^2*x_4^2*x_5 + 1148*x_1^3*x_2^8*x_3^2*x_4^2*x_5 - 1492*x_1^2*x_2^9*x_3^2*x_4^2*x_5 + 1132*x_1*x_2^10*x_3^2*x_4^2*x_5 - 360*x_2^11*x_3^2*x_4^2*x_5 + 244*x_1^10*x_3^3*x_4^2*x_5 - 892*x_1^9*x_2*x_3^3*x_4^2*x_5 + 1148*x_1^8*x_2^2*x_3^3*x_4^2*x_5 - 776*x_1^7*x_2^3*x_3^3*x_4^2*x_5 + 452*x_1^6*x_2^4*x_3^3*x_4^2*x_5 - 388*x_1^5*x_2^5*x_3^3*x_4^2*x_5 + 452*x_1^4*x_2^6*x_3^3*x_4^2*x_5 - 776*x_1^3*x_2^7*x_3^3*x_4^2*x_5 + 1148*x_1^2*x_2^8*x_3^3*x_4^2*x_5 - 892*x_1*x_2^9*x_3^3*x_4^2*x_5 + 244*x_2^10*x_3^3*x_4^2*x_5 + 518*x_1^9*x_3^4*x_4^2*x_5 - 242*x_1^8*x_2*x_3^4*x_4^2*x_5 - 616*x_1^7*x_2^2*x_3^4*x_4^2*x_5 + 452*x_1^6*x_2^3*x_3^4*x_4^2*x_5 - 52*x_1^5*x_2^4*x_3^4*x_4^2*x_5 - 52*x_1^4*x_2^5*x_3^4*x_4^2*x_5 + 452*x_1^3*x_2^6*x_3^4*x_4^2*x_5 - 616*x_1^2*x_2^7*x_3^4*x_4^2*x_5 - 242*x_1*x_2^8*x_3^4*x_4^2*x_5 + 518*x_2^9*x_3^4*x_4^2*x_5 - 1188*x_1^8*x_3^5*x_4^2*x_5 + 1528*x_1^7*x_2*x_3^5*x_4^2*x_5 + 188*x_1^6*x_2^2*x_3^5*x_4^2*x_5 - 388*x_1^5*x_2^3*x_3^5*x_4^2*x_5 - 52*x_1^4*x_2^4*x_3^5*x_4^2*x_5 - 388*x_1^3*x_2^5*x_3^5*x_4^2*x_5 + 188*x_1^2*x_2^6*x_3^5*x_4^2*x_5 + 1528*x_1*x_2^7*x_3^5*x_4^2*x_5 - 1188*x_2^8*x_3^5*x_4^2*x_5 + 660*x_1^7*x_3^6*x_4^2*x_5 - 2072*x_1^6*x_2*x_3^6*x_4^2*x_5 + 188*x_1^5*x_2^2*x_3^6*x_4^2*x_5 + 452*x_1^4*x_2^3*x_3^6*x_4^2*x_5 + 452*x_1^3*x_2^4*x_3^6*x_4^2*x_5 + 188*x_1^2*x_2^5*x_3^6*x_4^2*x_5 - 2072*x_1*x_2^6*x_3^6*x_4^2*x_5 + 660*x_2^7*x_3^6*x_4^2*x_5 + 660*x_1^6*x_3^7*x_4^2*x_5 + 1528*x_1^5*x_2*x_3^7*x_4^2*x_5 - 616*x_1^4*x_2^2*x_3^7*x_4^2*x_5 - 776*x_1^3*x_2^3*x_3^7*x_4^2*x_5 - 616*x_1^2*x_2^4*x_3^7*x_4^2*x_5 + 1528*x_1*x_2^5*x_3^7*x_4^2*x_5 + 660*x_2^6*x_3^7*x_4^2*x_5 - 1188*x_1^5*x_3^8*x_4^2*x_5 - 242*x_1^4*x_2*x_3^8*x_4^2*x_5 + 1148*x_1^3*x_2^2*x_3^8*x_4^2*x_5 + 1148*x_1^2*x_2^3*x_3^8*x_4^2*x_5 - 242*x_1*x_2^4*x_3^8*x_4^2*x_5 - 1188*x_2^5*x_3^8*x_4^2*x_5 + 518*x_1^4*x_3^9*x_4^2*x_5 - 892*x_1^3*x_2*x_3^9*x_4^2*x_5 - 1492*x_1^2*x_2^2*x_3^9*x_4^2*x_5 - 892*x_1*x_2^3*x_3^9*x_4^2*x_5 + 518*x_2^4*x_3^9*x_4^2*x_5 + 244*x_1^3*x_3^10*x_4^2*x_5 + 1132*x_1^2*x_2*x_3^10*x_4^2*x_5 + 1132*x_1*x_2^2*x_3^10*x_4^2*x_5 + 244*x_2^3*x_3^10*x_4^2*x_5 - 360*x_1^2*x_3^11*x_4^2*x_5 - 636*x_1*x_2*x_3^11*x_4^2*x_5 - 360*x_2^2*x_3^11*x_4^2*x_5 + 146*x_1*x_3^12*x_4^2*x_5 + 146*x_2*x_3^12*x_4^2*x_5 - 20*x_3^13*x_4^2*x_5 - 60*x_1^12*x_4^3*x_5 + 108*x_1^11*x_2*x_4^3*x_5 + 244*x_1^10*x_2^2*x_4^3*x_5 - 812*x_1^9*x_2^3*x_4^3*x_5 + 546*x_1^8*x_2^4*x_4^3*x_5 + 704*x_1^7*x_2^5*x_4^3*x_5 - 1460*x_1^6*x_2^6*x_4^3*x_5 + 704*x_1^5*x_2^7*x_4^3*x_5 + 546*x_1^4*x_2^8*x_4^3*x_5 - 812*x_1^3*x_2^9*x_4^3*x_5 + 244*x_1^2*x_2^10*x_4^3*x_5 + 108*x_1*x_2^11*x_4^3*x_5 - 60*x_2^12*x_4^3*x_5 + 108*x_1^11*x_3*x_4^3*x_5 + 68*x_1^10*x_2*x_3*x_4^3*x_5 - 892*x_1^9*x_2^2*x_3*x_4^3*x_5 + 1468*x_1^8*x_2^3*x_3*x_4^3*x_5 - 1080*x_1^7*x_2^4*x_3*x_4^3*x_5 + 328*x_1^6*x_2^5*x_3*x_4^3*x_5 + 328*x_1^5*x_2^6*x_3*x_4^3*x_5 - 1080*x_1^4*x_2^7*x_3*x_4^3*x_5 + 1468*x_1^3*x_2^8*x_3*x_4^3*x_5 - 892*x_1^2*x_2^9*x_3*x_4^3*x_5 + 68*x_1*x_2^10*x_3*x_4^3*x_5 + 108*x_2^11*x_3*x_4^3*x_5 + 244*x_1^10*x_3^2*x_4^3*x_5 - 892*x_1^9*x_2*x_3^2*x_4^3*x_5 + 1148*x_1^8*x_2^2*x_3^2*x_4^3*x_5 - 776*x_1^7*x_2^3*x_3^2*x_4^3*x_5 + 452*x_1^6*x_2^4*x_3^2*x_4^3*x_5 - 388*x_1^5*x_2^5*x_3^2*x_4^3*x_5 + 452*x_1^4*x_2^6*x_3^2*x_4^3*x_5 - 776*x_1^3*x_2^7*x_3^2*x_4^3*x_5 + 1148*x_1^2*x_2^8*x_3^2*x_4^3*x_5 - 892*x_1*x_2^9*x_3^2*x_4^3*x_5 + 244*x_2^10*x_3^2*x_4^3*x_5 - 812*x_1^9*x_3^3*x_4^3*x_5 + 1468*x_1^8*x_2*x_3^3*x_4^3*x_5 - 776*x_1^7*x_2^2*x_3^3*x_4^3*x_5 + 168*x_1^6*x_2^3*x_3^3*x_4^3*x_5 - 28*x_1^5*x_2^4*x_3^3*x_4^3*x_5 - 28*x_1^4*x_2^5*x_3^3*x_4^3*x_5 + 168*x_1^3*x_2^6*x_3^3*x_4^3*x_5 - 776*x_1^2*x_2^7*x_3^3*x_4^3*x_5 + 1468*x_1*x_2^8*x_3^3*x_4^3*x_5 - 812*x_2^9*x_3^3*x_4^3*x_5 + 546*x_1^8*x_3^4*x_4^3*x_5 - 1080*x_1^7*x_2*x_3^4*x_4^3*x_5 + 452*x_1^6*x_2^2*x_3^4*x_4^3*x_5 - 28*x_1^5*x_2^3*x_3^4*x_4^3*x_5 - 28*x_1^3*x_2^5*x_3^4*x_4^3*x_5 + 452*x_1^2*x_2^6*x_3^4*x_4^3*x_5 - 1080*x_1*x_2^7*x_3^4*x_4^3*x_5 + 546*x_2^8*x_3^4*x_4^3*x_5 + 704*x_1^7*x_3^5*x_4^3*x_5 + 328*x_1^6*x_2*x_3^5*x_4^3*x_5 - 388*x_1^5*x_2^2*x_3^5*x_4^3*x_5 - 28*x_1^4*x_2^3*x_3^5*x_4^3*x_5 - 28*x_1^3*x_2^4*x_3^5*x_4^3*x_5 - 388*x_1^2*x_2^5*x_3^5*x_4^3*x_5 + 328*x_1*x_2^6*x_3^5*x_4^3*x_5 + 704*x_2^7*x_3^5*x_4^3*x_5 - 1460*x_1^6*x_3^6*x_4^3*x_5 + 328*x_1^5*x_2*x_3^6*x_4^3*x_5 + 452*x_1^4*x_2^2*x_3^6*x_4^3*x_5 + 168*x_1^3*x_2^3*x_3^6*x_4^3*x_5 + 452*x_1^2*x_2^4*x_3^6*x_4^3*x_5 + 328*x_1*x_2^5*x_3^6*x_4^3*x_5 - 1460*x_2^6*x_3^6*x_4^3*x_5 + 704*x_1^5*x_3^7*x_4^3*x_5 - 1080*x_1^4*x_2*x_3^7*x_4^3*x_5 - 776*x_1^3*x_2^2*x_3^7*x_4^3*x_5 - 776*x_1^2*x_2^3*x_3^7*x_4^3*x_5 - 1080*x_1*x_2^4*x_3^7*x_4^3*x_5 + 704*x_2^5*x_3^7*x_4^3*x_5 + 546*x_1^4*x_3^8*x_4^3*x_5 + 1468*x_1^3*x_2*x_3^8*x_4^3*x_5 + 1148*x_1^2*x_2^2*x_3^8*x_4^3*x_5 + 1468*x_1*x_2^3*x_3^8*x_4^3*x_5 + 546*x_2^4*x_3^8*x_4^3*x_5 - 812*x_1^3*x_3^9*x_4^3*x_5 - 892*x_1^2*x_2*x_3^9*x_4^3*x_5 - 892*x_1*x_2^2*x_3^9*x_4^3*x_5 - 812*x_2^3*x_3^9*x_4^3*x_5 + 244*x_1^2*x_3^10*x_4^3*x_5 + 68*x_1*x_2*x_3^10*x_4^3*x_5 + 244*x_2^2*x_3^10*x_4^3*x_5 + 108*x_1*x_3^11*x_4^3*x_5 + 108*x_2*x_3^11*x_4^3*x_5 - 60*x_3^12*x_4^3*x_5 + 140*x_1^11*x_4^4*x_5 - 558*x_1^10*x_2*x_4^4*x_5 + 518*x_1^9*x_2^2*x_4^4*x_5 + 546*x_1^8*x_2^3*x_4^4*x_5 - 1396*x_1^7*x_2^4*x_4^4*x_5 + 750*x_1^6*x_2^5*x_4^4*x_5 + 750*x_1^5*x_2^6*x_4^4*x_5 - 1396*x_1^4*x_2^7*x_4^4*x_5 + 546*x_1^3*x_2^8*x_4^4*x_5 + 518*x_1^2*x_2^9*x_4^4*x_5 - 558*x_1*x_2^10*x_4^4*x_5 + 140*x_2^11*x_4^4*x_5 - 558*x_1^10*x_3*x_4^4*x_5 + 1168*x_1^9*x_2*x_3*x_4^4*x_5 - 242*x_1^8*x_2^2*x_3*x_4^4*x_5 - 1080*x_1^7*x_2^3*x_3*x_4^4*x_5 + 1028*x_1^6*x_2^4*x_3*x_4^4*x_5 - 596*x_1^5*x_2^5*x_3*x_4^4*x_5 + 1028*x_1^4*x_2^6*x_3*x_4^4*x_5 - 1080*x_1^3*x_2^7*x_3*x_4^4*x_5 - 242*x_1^2*x_2^8*x_3*x_4^4*x_5 + 1168*x_1*x_2^9*x_3*x_4^4*x_5 - 558*x_2^10*x_3*x_4^4*x_5 + 518*x_1^9*x_3^2*x_4^4*x_5 - 242*x_1^8*x_2*x_3^2*x_4^4*x_5 - 616*x_1^7*x_2^2*x_3^2*x_4^4*x_5 + 452*x_1^6*x_2^3*x_3^2*x_4^4*x_5 - 52*x_1^5*x_2^4*x_3^2*x_4^4*x_5 - 52*x_1^4*x_2^5*x_3^2*x_4^4*x_5 + 452*x_1^3*x_2^6*x_3^2*x_4^4*x_5 - 616*x_1^2*x_2^7*x_3^2*x_4^4*x_5 - 242*x_1*x_2^8*x_3^2*x_4^4*x_5 + 518*x_2^9*x_3^2*x_4^4*x_5 + 546*x_1^8*x_3^3*x_4^4*x_5 - 1080*x_1^7*x_2*x_3^3*x_4^4*x_5 + 452*x_1^6*x_2^2*x_3^3*x_4^4*x_5 - 28*x_1^5*x_2^3*x_3^3*x_4^4*x_5 - 28*x_1^3*x_2^5*x_3^3*x_4^4*x_5 + 452*x_1^2*x_2^6*x_3^3*x_4^4*x_5 - 1080*x_1*x_2^7*x_3^3*x_4^4*x_5 + 546*x_2^8*x_3^3*x_4^4*x_5 - 1396*x_1^7*x_3^4*x_4^4*x_5 + 1028*x_1^6*x_2*x_3^4*x_4^4*x_5 - 52*x_1^5*x_2^2*x_3^4*x_4^4*x_5 - 52*x_1^2*x_2^5*x_3^4*x_4^4*x_5 + 1028*x_1*x_2^6*x_3^4*x_4^4*x_5 - 1396*x_2^7*x_3^4*x_4^4*x_5 + 750*x_1^6*x_3^5*x_4^4*x_5 - 596*x_1^5*x_2*x_3^5*x_4^4*x_5 - 52*x_1^4*x_2^2*x_3^5*x_4^4*x_5 - 28*x_1^3*x_2^3*x_3^5*x_4^4*x_5 - 52*x_1^2*x_2^4*x_3^5*x_4^4*x_5 - 596*x_1*x_2^5*x_3^5*x_4^4*x_5 + 750*x_2^6*x_3^5*x_4^4*x_5 + 750*x_1^5*x_3^6*x_4^4*x_5 + 1028*x_1^4*x_2*x_3^6*x_4^4*x_5 + 452*x_1^3*x_2^2*x_3^6*x_4^4*x_5 + 452*x_1^2*x_2^3*x_3^6*x_4^4*x_5 + 1028*x_1*x_2^4*x_3^6*x_4^4*x_5 + 750*x_2^5*x_3^6*x_4^4*x_5 - 1396*x_1^4*x_3^7*x_4^4*x_5 - 1080*x_1^3*x_2*x_3^7*x_4^4*x_5 - 616*x_1^2*x_2^2*x_3^7*x_4^4*x_5 - 1080*x_1*x_2^3*x_3^7*x_4^4*x_5 - 1396*x_2^4*x_3^7*x_4^4*x_5 + 546*x_1^3*x_3^8*x_4^4*x_5 - 242*x_1^2*x_2*x_3^8*x_4^4*x_5 - 242*x_1*x_2^2*x_3^8*x_4^4*x_5 + 546*x_2^3*x_3^8*x_4^4*x_5 + 518*x_1^2*x_3^9*x_4^4*x_5 + 1168*x_1*x_2*x_3^9*x_4^4*x_5 + 518*x_2^2*x_3^9*x_4^4*x_5 - 558*x_1*x_3^10*x_4^4*x_5 - 558*x_2*x_3^10*x_4^4*x_5 + 140*x_3^11*x_4^4*x_5 + 4*x_1^10*x_4^5*x_5 + 468*x_1^9*x_2*x_4^5*x_5 - 1188*x_1^8*x_2^2*x_4^5*x_5 + 704*x_1^7*x_2^3*x_4^5*x_5 + 750*x_1^6*x_2^4*x_4^5*x_5 - 1512*x_1^5*x_2^5*x_4^5*x_5 + 750*x_1^4*x_2^6*x_4^5*x_5 + 704*x_1^3*x_2^7*x_4^5*x_5 - 1188*x_1^2*x_2^8*x_4^5*x_5 + 468*x_1*x_2^9*x_4^5*x_5 + 4*x_2^10*x_4^5*x_5 + 468*x_1^9*x_3*x_4^5*x_5 - 1812*x_1^8*x_2*x_3*x_4^5*x_5 + 1528*x_1^7*x_2^2*x_3*x_4^5*x_5 + 328*x_1^6*x_2^3*x_3*x_4^5*x_5 - 596*x_1^5*x_2^4*x_3*x_4^5*x_5 - 596*x_1^4*x_2^5*x_3*x_4^5*x_5 + 328*x_1^3*x_2^6*x_3*x_4^5*x_5 + 1528*x_1^2*x_2^7*x_3*x_4^5*x_5 - 1812*x_1*x_2^8*x_3*x_4^5*x_5 + 468*x_2^9*x_3*x_4^5*x_5 - 1188*x_1^8*x_3^2*x_4^5*x_5 + 1528*x_1^7*x_2*x_3^2*x_4^5*x_5 + 188*x_1^6*x_2^2*x_3^2*x_4^5*x_5 - 388*x_1^5*x_2^3*x_3^2*x_4^5*x_5 - 52*x_1^4*x_2^4*x_3^2*x_4^5*x_5 - 388*x_1^3*x_2^5*x_3^2*x_4^5*x_5 + 188*x_1^2*x_2^6*x_3^2*x_4^5*x_5 + 1528*x_1*x_2^7*x_3^2*x_4^5*x_5 - 1188*x_2^8*x_3^2*x_4^5*x_5 + 704*x_1^7*x_3^3*x_4^5*x_5 + 328*x_1^6*x_2*x_3^3*x_4^5*x_5 - 388*x_1^5*x_2^2*x_3^3*x_4^5*x_5 - 28*x_1^4*x_2^3*x_3^3*x_4^5*x_5 - 28*x_1^3*x_2^4*x_3^3*x_4^5*x_5 - 388*x_1^2*x_2^5*x_3^3*x_4^5*x_5 + 328*x_1*x_2^6*x_3^3*x_4^5*x_5 + 704*x_2^7*x_3^3*x_4^5*x_5 + 750*x_1^6*x_3^4*x_4^5*x_5 - 596*x_1^5*x_2*x_3^4*x_4^5*x_5 - 52*x_1^4*x_2^2*x_3^4*x_4^5*x_5 - 28*x_1^3*x_2^3*x_3^4*x_4^5*x_5 - 52*x_1^2*x_2^4*x_3^4*x_4^5*x_5 - 596*x_1*x_2^5*x_3^4*x_4^5*x_5 + 750*x_2^6*x_3^4*x_4^5*x_5 - 1512*x_1^5*x_3^5*x_4^5*x_5 - 596*x_1^4*x_2*x_3^5*x_4^5*x_5 - 388*x_1^3*x_2^2*x_3^5*x_4^5*x_5 - 388*x_1^2*x_2^3*x_3^5*x_4^5*x_5 - 596*x_1*x_2^4*x_3^5*x_4^5*x_5 - 1512*x_2^5*x_3^5*x_4^5*x_5 + 750*x_1^4*x_3^6*x_4^5*x_5 + 328*x_1^3*x_2*x_3^6*x_4^5*x_5 + 188*x_1^2*x_2^2*x_3^6*x_4^5*x_5 + 328*x_1*x_2^3*x_3^6*x_4^5*x_5 + 750*x_2^4*x_3^6*x_4^5*x_5 + 704*x_1^3*x_3^7*x_4^5*x_5 + 1528*x_1^2*x_2*x_3^7*x_4^5*x_5 + 1528*x_1*x_2^2*x_3^7*x_4^5*x_5 + 704*x_2^3*x_3^7*x_4^5*x_5 - 1188*x_1^2*x_3^8*x_4^5*x_5 - 1812*x_1*x_2*x_3^8*x_4^5*x_5 - 1188*x_2^2*x_3^8*x_4^5*x_5 + 468*x_1*x_3^9*x_4^5*x_5 + 468*x_2*x_3^9*x_4^5*x_5 + 4*x_3^10*x_4^5*x_5 - 260*x_1^9*x_4^6*x_5 + 392*x_1^8*x_2*x_4^6*x_5 + 660*x_1^7*x_2^2*x_4^6*x_5 - 1460*x_1^6*x_2^3*x_4^6*x_5 + 750*x_1^5*x_2^4*x_4^6*x_5 + 750*x_1^4*x_2^5*x_4^6*x_5 - 1460*x_1^3*x_2^6*x_4^6*x_5 + 660*x_1^2*x_2^7*x_4^6*x_5 + 392*x_1*x_2^8*x_4^6*x_5 - 260*x_2^9*x_4^6*x_5 + 392*x_1^8*x_3*x_4^6*x_5 + 888*x_1^7*x_2*x_3*x_4^6*x_5 - 2072*x_1^6*x_2^2*x_3*x_4^6*x_5 + 328*x_1^5*x_2^3*x_3*x_4^6*x_5 + 1028*x_1^4*x_2^4*x_3*x_4^6*x_5 + 328*x_1^3*x_2^5*x_3*x_4^6*x_5 - 2072*x_1^2*x_2^6*x_3*x_4^6*x_5 + 888*x_1*x_2^7*x_3*x_4^6*x_5 + 392*x_2^8*x_3*x_4^6*x_5 + 660*x_1^7*x_3^2*x_4^6*x_5 - 2072*x_1^6*x_2*x_3^2*x_4^6*x_5 + 188*x_1^5*x_2^2*x_3^2*x_4^6*x_5 + 452*x_1^4*x_2^3*x_3^2*x_4^6*x_5 + 452*x_1^3*x_2^4*x_3^2*x_4^6*x_5 + 188*x_1^2*x_2^5*x_3^2*x_4^6*x_5 - 2072*x_1*x_2^6*x_3^2*x_4^6*x_5 + 660*x_2^7*x_3^2*x_4^6*x_5 - 1460*x_1^6*x_3^3*x_4^6*x_5 + 328*x_1^5*x_2*x_3^3*x_4^6*x_5 + 452*x_1^4*x_2^2*x_3^3*x_4^6*x_5 + 168*x_1^3*x_2^3*x_3^3*x_4^6*x_5 + 452*x_1^2*x_2^4*x_3^3*x_4^6*x_5 + 328*x_1*x_2^5*x_3^3*x_4^6*x_5 - 1460*x_2^6*x_3^3*x_4^6*x_5 + 750*x_1^5*x_3^4*x_4^6*x_5 + 1028*x_1^4*x_2*x_3^4*x_4^6*x_5 + 452*x_1^3*x_2^2*x_3^4*x_4^6*x_5 + 452*x_1^2*x_2^3*x_3^4*x_4^6*x_5 + 1028*x_1*x_2^4*x_3^4*x_4^6*x_5 + 750*x_2^5*x_3^4*x_4^6*x_5 + 750*x_1^4*x_3^5*x_4^6*x_5 + 328*x_1^3*x_2*x_3^5*x_4^6*x_5 + 188*x_1^2*x_2^2*x_3^5*x_4^6*x_5 + 328*x_1*x_2^3*x_3^5*x_4^6*x_5 + 750*x_2^4*x_3^5*x_4^6*x_5 - 1460*x_1^3*x_3^6*x_4^6*x_5 - 2072*x_1^2*x_2*x_3^6*x_4^6*x_5 - 2072*x_1*x_2^2*x_3^6*x_4^6*x_5 - 1460*x_2^3*x_3^6*x_4^6*x_5 + 660*x_1^2*x_3^7*x_4^6*x_5 + 888*x_1*x_2*x_3^7*x_4^6*x_5 + 660*x_2^2*x_3^7*x_4^6*x_5 + 392*x_1*x_3^8*x_4^6*x_5 + 392*x_2*x_3^8*x_4^6*x_5 - 260*x_3^9*x_4^6*x_5 + 180*x_1^8*x_4^7*x_5 - 952*x_1^7*x_2*x_4^7*x_5 + 660*x_1^6*x_2^2*x_4^7*x_5 + 704*x_1^5*x_2^3*x_4^7*x_5 - 1396*x_1^4*x_2^4*x_4^7*x_5 + 704*x_1^3*x_2^5*x_4^7*x_5 + 660*x_1^2*x_2^6*x_4^7*x_5 - 952*x_1*x_2^7*x_4^7*x_5 + 180*x_2^8*x_4^7*x_5 - 952*x_1^7*x_3*x_4^7*x_5 + 888*x_1^6*x_2*x_3*x_4^7*x_5 + 1528*x_1^5*x_2^2*x_3*x_4^7*x_5 - 1080*x_1^4*x_2^3*x_3*x_4^7*x_5 - 1080*x_1^3*x_2^4*x_3*x_4^7*x_5 + 1528*x_1^2*x_2^5*x_3*x_4^7*x_5 + 888*x_1*x_2^6*x_3*x_4^7*x_5 - 952*x_2^7*x_3*x_4^7*x_5 + 660*x_1^6*x_3^2*x_4^7*x_5 + 1528*x_1^5*x_2*x_3^2*x_4^7*x_5 - 616*x_1^4*x_2^2*x_3^2*x_4^7*x_5 - 776*x_1^3*x_2^3*x_3^2*x_4^7*x_5 - 616*x_1^2*x_2^4*x_3^2*x_4^7*x_5 + 1528*x_1*x_2^5*x_3^2*x_4^7*x_5 + 660*x_2^6*x_3^2*x_4^7*x_5 + 704*x_1^5*x_3^3*x_4^7*x_5 - 1080*x_1^4*x_2*x_3^3*x_4^7*x_5 - 776*x_1^3*x_2^2*x_3^3*x_4^7*x_5 - 776*x_1^2*x_2^3*x_3^3*x_4^7*x_5 - 1080*x_1*x_2^4*x_3^3*x_4^7*x_5 + 704*x_2^5*x_3^3*x_4^7*x_5 - 1396*x_1^4*x_3^4*x_4^7*x_5 - 1080*x_1^3*x_2*x_3^4*x_4^7*x_5 - 616*x_1^2*x_2^2*x_3^4*x_4^7*x_5 - 1080*x_1*x_2^3*x_3^4*x_4^7*x_5 - 1396*x_2^4*x_3^4*x_4^7*x_5 + 704*x_1^3*x_3^5*x_4^7*x_5 + 1528*x_1^2*x_2*x_3^5*x_4^7*x_5 + 1528*x_1*x_2^2*x_3^5*x_4^7*x_5 + 704*x_2^3*x_3^5*x_4^7*x_5 + 660*x_1^2*x_3^6*x_4^7*x_5 + 888*x_1*x_2*x_3^6*x_4^7*x_5 + 660*x_2^2*x_3^6*x_4^7*x_5 - 952*x_1*x_3^7*x_4^7*x_5 - 952*x_2*x_3^7*x_4^7*x_5 + 180*x_3^8*x_4^7*x_5 + 180*x_1^7*x_4^8*x_5 + 392*x_1^6*x_2*x_4^8*x_5 - 1188*x_1^5*x_2^2*x_4^8*x_5 + 546*x_1^4*x_2^3*x_4^8*x_5 + 546*x_1^3*x_2^4*x_4^8*x_5 - 1188*x_1^2*x_2^5*x_4^8*x_5 + 392*x_1*x_2^6*x_4^8*x_5 + 180*x_2^7*x_4^8*x_5 + 392*x_1^6*x_3*x_4^8*x_5 - 1812*x_1^5*x_2*x_3*x_4^8*x_5 - 242*x_1^4*x_2^2*x_3*x_4^8*x_5 + 1468*x_1^3*x_2^3*x_3*x_4^8*x_5 - 242*x_1^2*x_2^4*x_3*x_4^8*x_5 - 1812*x_1*x_2^5*x_3*x_4^8*x_5 + 392*x_2^6*x_3*x_4^8*x_5 - 1188*x_1^5*x_3^2*x_4^8*x_5 - 242*x_1^4*x_2*x_3^2*x_4^8*x_5 + 1148*x_1^3*x_2^2*x_3^2*x_4^8*x_5 + 1148*x_1^2*x_2^3*x_3^2*x_4^8*x_5 - 242*x_1*x_2^4*x_3^2*x_4^8*x_5 - 1188*x_2^5*x_3^2*x_4^8*x_5 + 546*x_1^4*x_3^3*x_4^8*x_5 + 1468*x_1^3*x_2*x_3^3*x_4^8*x_5 + 1148*x_1^2*x_2^2*x_3^3*x_4^8*x_5 + 1468*x_1*x_2^3*x_3^3*x_4^8*x_5 + 546*x_2^4*x_3^3*x_4^8*x_5 + 546*x_1^3*x_3^4*x_4^8*x_5 - 242*x_1^2*x_2*x_3^4*x_4^8*x_5 - 242*x_1*x_2^2*x_3^4*x_4^8*x_5 + 546*x_2^3*x_3^4*x_4^8*x_5 - 1188*x_1^2*x_3^5*x_4^8*x_5 - 1812*x_1*x_2*x_3^5*x_4^8*x_5 - 1188*x_2^2*x_3^5*x_4^8*x_5 + 392*x_1*x_3^6*x_4^8*x_5 + 392*x_2*x_3^6*x_4^8*x_5 + 180*x_3^7*x_4^8*x_5 - 260*x_1^6*x_4^9*x_5 + 468*x_1^5*x_2*x_4^9*x_5 + 518*x_1^4*x_2^2*x_4^9*x_5 - 812*x_1^3*x_2^3*x_4^9*x_5 + 518*x_1^2*x_2^4*x_4^9*x_5 + 468*x_1*x_2^5*x_4^9*x_5 - 260*x_2^6*x_4^9*x_5 + 468*x_1^5*x_3*x_4^9*x_5 + 1168*x_1^4*x_2*x_3*x_4^9*x_5 - 892*x_1^3*x_2^2*x_3*x_4^9*x_5 - 892*x_1^2*x_2^3*x_3*x_4^9*x_5 + 1168*x_1*x_2^4*x_3*x_4^9*x_5 + 468*x_2^5*x_3*x_4^9*x_5 + 518*x_1^4*x_3^2*x_4^9*x_5 - 892*x_1^3*x_2*x_3^2*x_4^9*x_5 - 1492*x_1^2*x_2^2*x_3^2*x_4^9*x_5 - 892*x_1*x_2^3*x_3^2*x_4^9*x_5 + 518*x_2^4*x_3^2*x_4^9*x_5 - 812*x_1^3*x_3^3*x_4^9*x_5 - 892*x_1^2*x_2*x_3^3*x_4^9*x_5 - 892*x_1*x_2^2*x_3^3*x_4^9*x_5 - 812*x_2^3*x_3^3*x_4^9*x_5 + 518*x_1^2*x_3^4*x_4^9*x_5 + 1168*x_1*x_2*x_3^4*x_4^9*x_5 + 518*x_2^2*x_3^4*x_4^9*x_5 + 468*x_1*x_3^5*x_4^9*x_5 + 468*x_2*x_3^5*x_4^9*x_5 - 260*x_3^6*x_4^9*x_5 + 4*x_1^5*x_4^10*x_5 - 558*x_1^4*x_2*x_4^10*x_5 + 244*x_1^3*x_2^2*x_4^10*x_5 + 244*x_1^2*x_2^3*x_4^10*x_5 - 558*x_1*x_2^4*x_4^10*x_5 + 4*x_2^5*x_4^10*x_5 - 558*x_1^4*x_3*x_4^10*x_5 + 68*x_1^3*x_2*x_3*x_4^10*x_5 + 1132*x_1^2*x_2^2*x_3*x_4^10*x_5 + 68*x_1*x_2^3*x_3*x_4^10*x_5 - 558*x_2^4*x_3*x_4^10*x_5 + 244*x_1^3*x_3^2*x_4^10*x_5 + 1132*x_1^2*x_2*x_3^2*x_4^10*x_5 + 1132*x_1*x_2^2*x_3^2*x_4^10*x_5 + 244*x_2^3*x_3^2*x_4^10*x_5 + 244*x_1^2*x_3^3*x_4^10*x_5 + 68*x_1*x_2*x_3^3*x_4^10*x_5 + 244*x_2^2*x_3^3*x_4^10*x_5 - 558*x_1*x_3^4*x_4^10*x_5 - 558*x_2*x_3^4*x_4^10*x_5 + 4*x_3^5*x_4^10*x_5 + 140*x_1^4*x_4^11*x_5 + 108*x_1^3*x_2*x_4^11*x_5 - 360*x_1^2*x_2^2*x_4^11*x_5 + 108*x_1*x_2^3*x_4^11*x_5 + 140*x_2^4*x_4^11*x_5 + 108*x_1^3*x_3*x_4^11*x_5 - 636*x_1^2*x_2*x_3*x_4^11*x_5 - 636*x_1*x_2^2*x_3*x_4^11*x_5 + 108*x_2^3*x_3*x_4^11*x_5 - 360*x_1^2*x_3^2*x_4^11*x_5 - 636*x_1*x_2*x_3^2*x_4^11*x_5 - 360*x_2^2*x_3^2*x_4^11*x_5 + 108*x_1*x_3^3*x_4^11*x_5 + 108*x_2*x_3^3*x_4^11*x_5 + 140*x_3^4*x_4^11*x_5 - 60*x_1^3*x_4^12*x_5 + 146*x_1^2*x_2*x_4^12*x_5 + 146*x_1*x_2^2*x_4^12*x_5 - 60*x_2^3*x_4^12*x_5 + 146*x_1^2*x_3*x_4^12*x_5 + 424*x_1*x_2*x_3*x_4^12*x_5 + 146*x_2^2*x_3*x_4^12*x_5 + 146*x_1*x_3^2*x_4^12*x_5 + 146*x_2*x_3^2*x_4^12*x_5 - 60*x_3^3*x_4^12*x_5 - 20*x_1^2*x_4^13*x_5 - 100*x_1*x_2*x_4^13*x_5 - 20*x_2^2*x_4^13*x_5 - 100*x_1*x_3*x_4^13*x_5 - 100*x_2*x_3*x_4^13*x_5 - 20*x_3^2*x_4^13*x_5 + 20*x_1*x_4^14*x_5 + 20*x_2*x_4^14*x_5 + 20*x_3*x_4^14*x_5 - 4*x_4^15*x_5 - 20*x_1^13*x_2*x_5^2 + 74*x_1^12*x_2^2*x_5^2 - 28*x_1^11*x_2^3*x_5^2 - 222*x_1^10*x_2^4*x_5^2 + 292*x_1^9*x_2^5*x_5^2 + 148*x_1^8*x_2^6*x_5^2 - 488*x_1^7*x_2^7*x_5^2 + 148*x_1^6*x_2^8*x_5^2 + 292*x_1^5*x_2^9*x_5^2 - 222*x_1^4*x_2^10*x_5^2 - 28*x_1^3*x_2^11*x_5^2 + 74*x_1^2*x_2^12*x_5^2 - 20*x_1*x_2^13*x_5^2 - 20*x_1^13*x_3*x_5^2 + 146*x_1^12*x_2*x_3*x_5^2 - 360*x_1^11*x_2^2*x_3*x_5^2 + 244*x_1^10*x_2^3*x_3*x_5^2 + 518*x_1^9*x_2^4*x_3*x_5^2 - 1188*x_1^8*x_2^5*x_3*x_5^2 + 660*x_1^7*x_2^6*x_3*x_5^2 + 660*x_1^6*x_2^7*x_3*x_5^2 - 1188*x_1^5*x_2^8*x_3*x_5^2 + 518*x_1^4*x_2^9*x_3*x_5^2 + 244*x_1^3*x_2^10*x_3*x_5^2 - 360*x_1^2*x_2^11*x_3*x_5^2 + 146*x_1*x_2^12*x_3*x_5^2 - 20*x_2^13*x_3*x_5^2 + 74*x_1^12*x_3^2*x_5^2 - 360*x_1^11*x_2*x_3^2*x_5^2 + 682*x_1^10*x_2^2*x_3^2*x_5^2 - 592*x_1^9*x_2^3*x_3^2*x_5^2 - 59*x_1^8*x_2^4*x_3^2*x_5^2 + 952*x_1^7*x_2^5*x_3^2*x_5^2 - 1394*x_1^6*x_2^6*x_3^2*x_5^2 + 952*x_1^5*x_2^7*x_3^2*x_5^2 - 59*x_1^4*x_2^8*x_3^2*x_5^2 - 592*x_1^3*x_2^9*x_3^2*x_5^2 + 682*x_1^2*x_2^10*x_3^2*x_5^2 - 360*x_1*x_2^11*x_3^2*x_5^2 + 74*x_2^12*x_3^2*x_5^2 - 28*x_1^11*x_3^3*x_5^2 + 244*x_1^10*x_2*x_3^3*x_5^2 - 592*x_1^9*x_2^2*x_3^3*x_5^2 + 736*x_1^8*x_2^3*x_3^3*x_5^2 - 612*x_1^7*x_2^4*x_3^3*x_5^2 + 252*x_1^6*x_2^5*x_3^3*x_5^2 + 252*x_1^5*x_2^6*x_3^3*x_5^2 - 612*x_1^4*x_2^7*x_3^3*x_5^2 + 736*x_1^3*x_2^8*x_3^3*x_5^2 - 592*x_1^2*x_2^9*x_3^3*x_5^2 + 244*x_1*x_2^10*x_3^3*x_5^2 - 28*x_2^11*x_3^3*x_5^2 - 222*x_1^10*x_3^4*x_5^2 + 518*x_1^9*x_2*x_3^4*x_5^2 - 59*x_1^8*x_2^2*x_3^4*x_5^2 - 612*x_1^7*x_2^3*x_3^4*x_5^2 + 622*x_1^6*x_2^4*x_3^4*x_5^2 - 422*x_1^5*x_2^5*x_3^4*x_5^2 + 622*x_1^4*x_2^6*x_3^4*x_5^2 - 612*x_1^3*x_2^7*x_3^4*x_5^2 - 59*x_1^2*x_2^8*x_3^4*x_5^2 + 518*x_1*x_2^9*x_3^4*x_5^2 - 222*x_2^10*x_3^4*x_5^2 + 292*x_1^9*x_3^5*x_5^2 - 1188*x_1^8*x_2*x_3^5*x_5^2 + 952*x_1^7*x_2^2*x_3^5*x_5^2 + 252*x_1^6*x_2^3*x_3^5*x_5^2 - 422*x_1^5*x_2^4*x_3^5*x_5^2 - 422*x_1^4*x_2^5*x_3^5*x_5^2 + 252*x_1^3*x_2^6*x_3^5*x_5^2 + 952*x_1^2*x_2^7*x_3^5*x_5^2 - 1188*x_1*x_2^8*x_3^5*x_5^2 + 292*x_2^9*x_3^5*x_5^2 + 148*x_1^8*x_3^6*x_5^2 + 660*x_1^7*x_2*x_3^6*x_5^2 - 1394*x_1^6*x_2^2*x_3^6*x_5^2 + 252*x_1^5*x_2^3*x_3^6*x_5^2 + 622*x_1^4*x_2^4*x_3^6*x_5^2 + 252*x_1^3*x_2^5*x_3^6*x_5^2 - 1394*x_1^2*x_2^6*x_3^6*x_5^2 + 660*x_1*x_2^7*x_3^6*x_5^2 + 148*x_2^8*x_3^6*x_5^2 - 488*x_1^7*x_3^7*x_5^2 + 660*x_1^6*x_2*x_3^7*x_5^2 + 952*x_1^5*x_2^2*x_3^7*x_5^2 - 612*x_1^4*x_2^3*x_3^7*x_5^2 - 612*x_1^3*x_2^4*x_3^7*x_5^2 + 952*x_1^2*x_2^5*x_3^7*x_5^2 + 660*x_1*x_2^6*x_3^7*x_5^2 - 488*x_2^7*x_3^7*x_5^2 + 148*x_1^6*x_3^8*x_5^2 - 1188*x_1^5*x_2*x_3^8*x_5^2 - 59*x_1^4*x_2^2*x_3^8*x_5^2 + 736*x_1^3*x_2^3*x_3^8*x_5^2 - 59*x_1^2*x_2^4*x_3^8*x_5^2 - 1188*x_1*x_2^5*x_3^8*x_5^2 + 148*x_2^6*x_3^8*x_5^2 + 292*x_1^5*x_3^9*x_5^2 + 518*x_1^4*x_2*x_3^9*x_5^2 - 592*x_1^3*x_2^2*x_3^9*x_5^2 - 592*x_1^2*x_2^3*x_3^9*x_5^2 + 518*x_1*x_2^4*x_3^9*x_5^2 + 292*x_2^5*x_3^9*x_5^2 - 222*x_1^4*x_3^10*x_5^2 + 244*x_1^3*x_2*x_3^10*x_5^2 + 682*x_1^2*x_2^2*x_3^10*x_5^2 + 244*x_1*x_2^3*x_3^10*x_5^2 - 222*x_2^4*x_3^10*x_5^2 - 28*x_1^3*x_3^11*x_5^2 - 360*x_1^2*x_2*x_3^11*x_5^2 - 360*x_1*x_2^2*x_3^11*x_5^2 - 28*x_2^3*x_3^11*x_5^2 + 74*x_1^2*x_3^12*x_5^2 + 146*x_1*x_2*x_3^12*x_5^2 + 74*x_2^2*x_3^12*x_5^2 - 20*x_1*x_3^13*x_5^2 - 20*x_2*x_3^13*x_5^2 - 20*x_1^13*x_4*x_5^2 + 146*x_1^12*x_2*x_4*x_5^2 - 360*x_1^11*x_2^2*x_4*x_5^2 + 244*x_1^10*x_2^3*x_4*x_5^2 + 518*x_1^9*x_2^4*x_4*x_5^2 - 1188*x_1^8*x_2^5*x_4*x_5^2 + 660*x_1^7*x_2^6*x_4*x_5^2 + 660*x_1^6*x_2^7*x_4*x_5^2 - 1188*x_1^5*x_2^8*x_4*x_5^2 + 518*x_1^4*x_2^9*x_4*x_5^2 + 244*x_1^3*x_2^10*x_4*x_5^2 - 360*x_1^2*x_2^11*x_4*x_5^2 + 146*x_1*x_2^12*x_4*x_5^2 - 20*x_2^13*x_4*x_5^2 + 146*x_1^12*x_3*x_4*x_5^2 - 636*x_1^11*x_2*x_3*x_4*x_5^2 + 1132*x_1^10*x_2^2*x_3*x_4*x_5^2 - 892*x_1^9*x_2^3*x_3*x_4*x_5^2 - 242*x_1^8*x_2^4*x_3*x_4*x_5^2 + 1528*x_1^7*x_2^5*x_3*x_4*x_5^2 - 2072*x_1^6*x_2^6*x_3*x_4*x_5^2 + 1528*x_1^5*x_2^7*x_3*x_4*x_5^2 - 242*x_1^4*x_2^8*x_3*x_4*x_5^2 - 892*x_1^3*x_2^9*x_3*x_4*x_5^2 + 1132*x_1^2*x_2^10*x_3*x_4*x_5^2 - 636*x_1*x_2^11*x_3*x_4*x_5^2 + 146*x_2^12*x_3*x_4*x_5^2 - 360*x_1^11*x_3^2*x_4*x_5^2 + 1132*x_1^10*x_2*x_3^2*x_4*x_5^2 - 1492*x_1^9*x_2^2*x_3^2*x_4*x_5^2 + 1148*x_1^8*x_2^3*x_3^2*x_4*x_5^2 - 616*x_1^7*x_2^4*x_3^2*x_4*x_5^2 + 188*x_1^6*x_2^5*x_3^2*x_4*x_5^2 + 188*x_1^5*x_2^6*x_3^2*x_4*x_5^2 - 616*x_1^4*x_2^7*x_3^2*x_4*x_5^2 + 1148*x_1^3*x_2^8*x_3^2*x_4*x_5^2 - 1492*x_1^2*x_2^9*x_3^2*x_4*x_5^2 + 1132*x_1*x_2^10*x_3^2*x_4*x_5^2 - 360*x_2^11*x_3^2*x_4*x_5^2 + 244*x_1^10*x_3^3*x_4*x_5^2 - 892*x_1^9*x_2*x_3^3*x_4*x_5^2 + 1148*x_1^8*x_2^2*x_3^3*x_4*x_5^2 - 776*x_1^7*x_2^3*x_3^3*x_4*x_5^2 + 452*x_1^6*x_2^4*x_3^3*x_4*x_5^2 - 388*x_1^5*x_2^5*x_3^3*x_4*x_5^2 + 452*x_1^4*x_2^6*x_3^3*x_4*x_5^2 - 776*x_1^3*x_2^7*x_3^3*x_4*x_5^2 + 1148*x_1^2*x_2^8*x_3^3*x_4*x_5^2 - 892*x_1*x_2^9*x_3^3*x_4*x_5^2 + 244*x_2^10*x_3^3*x_4*x_5^2 + 518*x_1^9*x_3^4*x_4*x_5^2 - 242*x_1^8*x_2*x_3^4*x_4*x_5^2 - 616*x_1^7*x_2^2*x_3^4*x_4*x_5^2 + 452*x_1^6*x_2^3*x_3^4*x_4*x_5^2 - 52*x_1^5*x_2^4*x_3^4*x_4*x_5^2 - 52*x_1^4*x_2^5*x_3^4*x_4*x_5^2 + 452*x_1^3*x_2^6*x_3^4*x_4*x_5^2 - 616*x_1^2*x_2^7*x_3^4*x_4*x_5^2 - 242*x_1*x_2^8*x_3^4*x_4*x_5^2 + 518*x_2^9*x_3^4*x_4*x_5^2 - 1188*x_1^8*x_3^5*x_4*x_5^2 + 1528*x_1^7*x_2*x_3^5*x_4*x_5^2 + 188*x_1^6*x_2^2*x_3^5*x_4*x_5^2 - 388*x_1^5*x_2^3*x_3^5*x_4*x_5^2 - 52*x_1^4*x_2^4*x_3^5*x_4*x_5^2 - 388*x_1^3*x_2^5*x_3^5*x_4*x_5^2 + 188*x_1^2*x_2^6*x_3^5*x_4*x_5^2 + 1528*x_1*x_2^7*x_3^5*x_4*x_5^2 - 1188*x_2^8*x_3^5*x_4*x_5^2 + 660*x_1^7*x_3^6*x_4*x_5^2 - 2072*x_1^6*x_2*x_3^6*x_4*x_5^2 + 188*x_1^5*x_2^2*x_3^6*x_4*x_5^2 + 452*x_1^4*x_2^3*x_3^6*x_4*x_5^2 + 452*x_1^3*x_2^4*x_3^6*x_4*x_5^2 + 188*x_1^2*x_2^5*x_3^6*x_4*x_5^2 - 2072*x_1*x_2^6*x_3^6*x_4*x_5^2 + 660*x_2^7*x_3^6*x_4*x_5^2 + 660*x_1^6*x_3^7*x_4*x_5^2 + 1528*x_1^5*x_2*x_3^7*x_4*x_5^2 - 616*x_1^4*x_2^2*x_3^7*x_4*x_5^2 - 776*x_1^3*x_2^3*x_3^7*x_4*x_5^2 - 616*x_1^2*x_2^4*x_3^7*x_4*x_5^2 + 1528*x_1*x_2^5*x_3^7*x_4*x_5^2 + 660*x_2^6*x_3^7*x_4*x_5^2 - 1188*x_1^5*x_3^8*x_4*x_5^2 - 242*x_1^4*x_2*x_3^8*x_4*x_5^2 + 1148*x_1^3*x_2^2*x_3^8*x_4*x_5^2 + 1148*x_1^2*x_2^3*x_3^8*x_4*x_5^2 - 242*x_1*x_2^4*x_3^8*x_4*x_5^2 - 1188*x_2^5*x_3^8*x_4*x_5^2 + 518*x_1^4*x_3^9*x_4*x_5^2 - 892*x_1^3*x_2*x_3^9*x_4*x_5^2 - 1492*x_1^2*x_2^2*x_3^9*x_4*x_5^2 - 892*x_1*x_2^3*x_3^9*x_4*x_5^2 + 518*x_2^4*x_3^9*x_4*x_5^2 + 244*x_1^3*x_3^10*x_4*x_5^2 + 1132*x_1^2*x_2*x_3^10*x_4*x_5^2 + 1132*x_1*x_2^2*x_3^10*x_4*x_5^2 + 244*x_2^3*x_3^10*x_4*x_5^2 - 360*x_1^2*x_3^11*x_4*x_5^2 - 636*x_1*x_2*x_3^11*x_4*x_5^2 - 360*x_2^2*x_3^11*x_4*x_5^2 + 146*x_1*x_3^12*x_4*x_5^2 + 146*x_2*x_3^12*x_4*x_5^2 - 20*x_3^13*x_4*x_5^2 + 74*x_1^12*x_4^2*x_5^2 - 360*x_1^11*x_2*x_4^2*x_5^2 + 682*x_1^10*x_2^2*x_4^2*x_5^2 - 592*x_1^9*x_2^3*x_4^2*x_5^2 - 59*x_1^8*x_2^4*x_4^2*x_5^2 + 952*x_1^7*x_2^5*x_4^2*x_5^2 - 1394*x_1^6*x_2^6*x_4^2*x_5^2 + 952*x_1^5*x_2^7*x_4^2*x_5^2 - 59*x_1^4*x_2^8*x_4^2*x_5^2 - 592*x_1^3*x_2^9*x_4^2*x_5^2 + 682*x_1^2*x_2^10*x_4^2*x_5^2 - 360*x_1*x_2^11*x_4^2*x_5^2 + 74*x_2^12*x_4^2*x_5^2 - 360*x_1^11*x_3*x_4^2*x_5^2 + 1132*x_1^10*x_2*x_3*x_4^2*x_5^2 - 1492*x_1^9*x_2^2*x_3*x_4^2*x_5^2 + 1148*x_1^8*x_2^3*x_3*x_4^2*x_5^2 - 616*x_1^7*x_2^4*x_3*x_4^2*x_5^2 + 188*x_1^6*x_2^5*x_3*x_4^2*x_5^2 + 188*x_1^5*x_2^6*x_3*x_4^2*x_5^2 - 616*x_1^4*x_2^7*x_3*x_4^2*x_5^2 + 1148*x_1^3*x_2^8*x_3*x_4^2*x_5^2 - 1492*x_1^2*x_2^9*x_3*x_4^2*x_5^2 + 1132*x_1*x_2^10*x_3*x_4^2*x_5^2 - 360*x_2^11*x_3*x_4^2*x_5^2 + 682*x_1^10*x_3^2*x_4^2*x_5^2 - 1492*x_1^9*x_2*x_3^2*x_4^2*x_5^2 + 1548*x_1^8*x_2^2*x_3^2*x_4^2*x_5^2 - 1032*x_1^7*x_2^3*x_3^2*x_4^2*x_5^2 + 330*x_1^6*x_2^4*x_3^2*x_4^2*x_5^2 + 36*x_1^5*x_2^5*x_3^2*x_4^2*x_5^2 + 330*x_1^4*x_2^6*x_3^2*x_4^2*x_5^2 - 1032*x_1^3*x_2^7*x_3^2*x_4^2*x_5^2 + 1548*x_1^2*x_2^8*x_3^2*x_4^2*x_5^2 - 1492*x_1*x_2^9*x_3^2*x_4^2*x_5^2 + 682*x_2^10*x_3^2*x_4^2*x_5^2 - 592*x_1^9*x_3^3*x_4^2*x_5^2 + 1148*x_1^8*x_2*x_3^3*x_4^2*x_5^2 - 1032*x_1^7*x_2^2*x_3^3*x_4^2*x_5^2 + 656*x_1^6*x_2^3*x_3^3*x_4^2*x_5^2 - 240*x_1^5*x_2^4*x_3^3*x_4^2*x_5^2 - 240*x_1^4*x_2^5*x_3^3*x_4^2*x_5^2 + 656*x_1^3*x_2^6*x_3^3*x_4^2*x_5^2 - 1032*x_1^2*x_2^7*x_3^3*x_4^2*x_5^2 + 1148*x_1*x_2^8*x_3^3*x_4^2*x_5^2 - 592*x_2^9*x_3^3*x_4^2*x_5^2 - 59*x_1^8*x_3^4*x_4^2*x_5^2 - 616*x_1^7*x_2*x_3^4*x_4^2*x_5^2 + 330*x_1^6*x_2^2*x_3^4*x_4^2*x_5^2 - 240*x_1^5*x_2^3*x_3^4*x_4^2*x_5^2 + 390*x_1^4*x_2^4*x_3^4*x_4^2*x_5^2 - 240*x_1^3*x_2^5*x_3^4*x_4^2*x_5^2 + 330*x_1^2*x_2^6*x_3^4*x_4^2*x_5^2 - 616*x_1*x_2^7*x_3^4*x_4^2*x_5^2 - 59*x_2^8*x_3^4*x_4^2*x_5^2 + 952*x_1^7*x_3^5*x_4^2*x_5^2 + 188*x_1^6*x_2*x_3^5*x_4^2*x_5^2 + 36*x_1^5*x_2^2*x_3^5*x_4^2*x_5^2 - 240*x_1^4*x_2^3*x_3^5*x_4^2*x_5^2 - 240*x_1^3*x_2^4*x_3^5*x_4^2*x_5^2 + 36*x_1^2*x_2^5*x_3^5*x_4^2*x_5^2 + 188*x_1*x_2^6*x_3^5*x_4^2*x_5^2 + 952*x_2^7*x_3^5*x_4^2*x_5^2 - 1394*x_1^6*x_3^6*x_4^2*x_5^2 + 188*x_1^5*x_2*x_3^6*x_4^2*x_5^2 + 330*x_1^4*x_2^2*x_3^6*x_4^2*x_5^2 + 656*x_1^3*x_2^3*x_3^6*x_4^2*x_5^2 + 330*x_1^2*x_2^4*x_3^6*x_4^2*x_5^2 + 188*x_1*x_2^5*x_3^6*x_4^2*x_5^2 - 1394*x_2^6*x_3^6*x_4^2*x_5^2 + 952*x_1^5*x_3^7*x_4^2*x_5^2 - 616*x_1^4*x_2*x_3^7*x_4^2*x_5^2 - 1032*x_1^3*x_2^2*x_3^7*x_4^2*x_5^2 - 1032*x_1^2*x_2^3*x_3^7*x_4^2*x_5^2 - 616*x_1*x_2^4*x_3^7*x_4^2*x_5^2 + 952*x_2^5*x_3^7*x_4^2*x_5^2 - 59*x_1^4*x_3^8*x_4^2*x_5^2 + 1148*x_1^3*x_2*x_3^8*x_4^2*x_5^2 + 1548*x_1^2*x_2^2*x_3^8*x_4^2*x_5^2 + 1148*x_1*x_2^3*x_3^8*x_4^2*x_5^2 - 59*x_2^4*x_3^8*x_4^2*x_5^2 - 592*x_1^3*x_3^9*x_4^2*x_5^2 - 1492*x_1^2*x_2*x_3^9*x_4^2*x_5^2 - 1492*x_1*x_2^2*x_3^9*x_4^2*x_5^2 - 592*x_2^3*x_3^9*x_4^2*x_5^2 + 682*x_1^2*x_3^10*x_4^2*x_5^2 + 1132*x_1*x_2*x_3^10*x_4^2*x_5^2 + 682*x_2^2*x_3^10*x_4^2*x_5^2 - 360*x_1*x_3^11*x_4^2*x_5^2 - 360*x_2*x_3^11*x_4^2*x_5^2 + 74*x_3^12*x_4^2*x_5^2 - 28*x_1^11*x_4^3*x_5^2 + 244*x_1^10*x_2*x_4^3*x_5^2 - 592*x_1^9*x_2^2*x_4^3*x_5^2 + 736*x_1^8*x_2^3*x_4^3*x_5^2 - 612*x_1^7*x_2^4*x_4^3*x_5^2 + 252*x_1^6*x_2^5*x_4^3*x_5^2 + 252*x_1^5*x_2^6*x_4^3*x_5^2 - 612*x_1^4*x_2^7*x_4^3*x_5^2 + 736*x_1^3*x_2^8*x_4^3*x_5^2 - 592*x_1^2*x_2^9*x_4^3*x_5^2 + 244*x_1*x_2^10*x_4^3*x_5^2 - 28*x_2^11*x_4^3*x_5^2 + 244*x_1^10*x_3*x_4^3*x_5^2 - 892*x_1^9*x_2*x_3*x_4^3*x_5^2 + 1148*x_1^8*x_2^2*x_3*x_4^3*x_5^2 - 776*x_1^7*x_2^3*x_3*x_4^3*x_5^2 + 452*x_1^6*x_2^4*x_3*x_4^3*x_5^2 - 388*x_1^5*x_2^5*x_3*x_4^3*x_5^2 + 452*x_1^4*x_2^6*x_3*x_4^3*x_5^2 - 776*x_1^3*x_2^7*x_3*x_4^3*x_5^2 + 1148*x_1^2*x_2^8*x_3*x_4^3*x_5^2 - 892*x_1*x_2^9*x_3*x_4^3*x_5^2 + 244*x_2^10*x_3*x_4^3*x_5^2 - 592*x_1^9*x_3^2*x_4^3*x_5^2 + 1148*x_1^8*x_2*x_3^2*x_4^3*x_5^2 - 1032*x_1^7*x_2^2*x_3^2*x_4^3*x_5^2 + 656*x_1^6*x_2^3*x_3^2*x_4^3*x_5^2 - 240*x_1^5*x_2^4*x_3^2*x_4^3*x_5^2 - 240*x_1^4*x_2^5*x_3^2*x_4^3*x_5^2 + 656*x_1^3*x_2^6*x_3^2*x_4^3*x_5^2 - 1032*x_1^2*x_2^7*x_3^2*x_4^3*x_5^2 + 1148*x_1*x_2^8*x_3^2*x_4^3*x_5^2 - 592*x_2^9*x_3^2*x_4^3*x_5^2 + 736*x_1^8*x_3^3*x_4^3*x_5^2 - 776*x_1^7*x_2*x_3^3*x_4^3*x_5^2 + 656*x_1^6*x_2^2*x_3^3*x_4^3*x_5^2 - 336*x_1^5*x_2^3*x_3^3*x_4^3*x_5^2 + 140*x_1^4*x_2^4*x_3^3*x_4^3*x_5^2 - 336*x_1^3*x_2^5*x_3^3*x_4^3*x_5^2 + 656*x_1^2*x_2^6*x_3^3*x_4^3*x_5^2 - 776*x_1*x_2^7*x_3^3*x_4^3*x_5^2 + 736*x_2^8*x_3^3*x_4^3*x_5^2 - 612*x_1^7*x_3^4*x_4^3*x_5^2 + 452*x_1^6*x_2*x_3^4*x_4^3*x_5^2 - 240*x_1^5*x_2^2*x_3^4*x_4^3*x_5^2 + 140*x_1^4*x_2^3*x_3^4*x_4^3*x_5^2 + 140*x_1^3*x_2^4*x_3^4*x_4^3*x_5^2 - 240*x_1^2*x_2^5*x_3^4*x_4^3*x_5^2 + 452*x_1*x_2^6*x_3^4*x_4^3*x_5^2 - 612*x_2^7*x_3^4*x_4^3*x_5^2 + 252*x_1^6*x_3^5*x_4^3*x_5^2 - 388*x_1^5*x_2*x_3^5*x_4^3*x_5^2 - 240*x_1^4*x_2^2*x_3^5*x_4^3*x_5^2 - 336*x_1^3*x_2^3*x_3^5*x_4^3*x_5^2 - 240*x_1^2*x_2^4*x_3^5*x_4^3*x_5^2 - 388*x_1*x_2^5*x_3^5*x_4^3*x_5^2 + 252*x_2^6*x_3^5*x_4^3*x_5^2 + 252*x_1^5*x_3^6*x_4^3*x_5^2 + 452*x_1^4*x_2*x_3^6*x_4^3*x_5^2 + 656*x_1^3*x_2^2*x_3^6*x_4^3*x_5^2 + 656*x_1^2*x_2^3*x_3^6*x_4^3*x_5^2 + 452*x_1*x_2^4*x_3^6*x_4^3*x_5^2 + 252*x_2^5*x_3^6*x_4^3*x_5^2 - 612*x_1^4*x_3^7*x_4^3*x_5^2 - 776*x_1^3*x_2*x_3^7*x_4^3*x_5^2 - 1032*x_1^2*x_2^2*x_3^7*x_4^3*x_5^2 - 776*x_1*x_2^3*x_3^7*x_4^3*x_5^2 - 612*x_2^4*x_3^7*x_4^3*x_5^2 + 736*x_1^3*x_3^8*x_4^3*x_5^2 + 1148*x_1^2*x_2*x_3^8*x_4^3*x_5^2 + 1148*x_1*x_2^2*x_3^8*x_4^3*x_5^2 + 736*x_2^3*x_3^8*x_4^3*x_5^2 - 592*x_1^2*x_3^9*x_4^3*x_5^2 - 892*x_1*x_2*x_3^9*x_4^3*x_5^2 - 592*x_2^2*x_3^9*x_4^3*x_5^2 + 244*x_1*x_3^10*x_4^3*x_5^2 + 244*x_2*x_3^10*x_4^3*x_5^2 - 28*x_3^11*x_4^3*x_5^2 - 222*x_1^10*x_4^4*x_5^2 + 518*x_1^9*x_2*x_4^4*x_5^2 - 59*x_1^8*x_2^2*x_4^4*x_5^2 - 612*x_1^7*x_2^3*x_4^4*x_5^2 + 622*x_1^6*x_2^4*x_4^4*x_5^2 - 422*x_1^5*x_2^5*x_4^4*x_5^2 + 622*x_1^4*x_2^6*x_4^4*x_5^2 - 612*x_1^3*x_2^7*x_4^4*x_5^2 - 59*x_1^2*x_2^8*x_4^4*x_5^2 + 518*x_1*x_2^9*x_4^4*x_5^2 - 222*x_2^10*x_4^4*x_5^2 + 518*x_1^9*x_3*x_4^4*x_5^2 - 242*x_1^8*x_2*x_3*x_4^4*x_5^2 - 616*x_1^7*x_2^2*x_3*x_4^4*x_5^2 + 452*x_1^6*x_2^3*x_3*x_4^4*x_5^2 - 52*x_1^5*x_2^4*x_3*x_4^4*x_5^2 - 52*x_1^4*x_2^5*x_3*x_4^4*x_5^2 + 452*x_1^3*x_2^6*x_3*x_4^4*x_5^2 - 616*x_1^2*x_2^7*x_3*x_4^4*x_5^2 - 242*x_1*x_2^8*x_3*x_4^4*x_5^2 + 518*x_2^9*x_3*x_4^4*x_5^2 - 59*x_1^8*x_3^2*x_4^4*x_5^2 - 616*x_1^7*x_2*x_3^2*x_4^4*x_5^2 + 330*x_1^6*x_2^2*x_3^2*x_4^4*x_5^2 - 240*x_1^5*x_2^3*x_3^2*x_4^4*x_5^2 + 390*x_1^4*x_2^4*x_3^2*x_4^4*x_5^2 - 240*x_1^3*x_2^5*x_3^2*x_4^4*x_5^2 + 330*x_1^2*x_2^6*x_3^2*x_4^4*x_5^2 - 616*x_1*x_2^7*x_3^2*x_4^4*x_5^2 - 59*x_2^8*x_3^2*x_4^4*x_5^2 - 612*x_1^7*x_3^3*x_4^4*x_5^2 + 452*x_1^6*x_2*x_3^3*x_4^4*x_5^2 - 240*x_1^5*x_2^2*x_3^3*x_4^4*x_5^2 + 140*x_1^4*x_2^3*x_3^3*x_4^4*x_5^2 + 140*x_1^3*x_2^4*x_3^3*x_4^4*x_5^2 - 240*x_1^2*x_2^5*x_3^3*x_4^4*x_5^2 + 452*x_1*x_2^6*x_3^3*x_4^4*x_5^2 - 612*x_2^7*x_3^3*x_4^4*x_5^2 + 622*x_1^6*x_3^4*x_4^4*x_5^2 - 52*x_1^5*x_2*x_3^4*x_4^4*x_5^2 + 390*x_1^4*x_2^2*x_3^4*x_4^4*x_5^2 + 140*x_1^3*x_2^3*x_3^4*x_4^4*x_5^2 + 390*x_1^2*x_2^4*x_3^4*x_4^4*x_5^2 - 52*x_1*x_2^5*x_3^4*x_4^4*x_5^2 + 622*x_2^6*x_3^4*x_4^4*x_5^2 - 422*x_1^5*x_3^5*x_4^4*x_5^2 - 52*x_1^4*x_2*x_3^5*x_4^4*x_5^2 - 240*x_1^3*x_2^2*x_3^5*x_4^4*x_5^2 - 240*x_1^2*x_2^3*x_3^5*x_4^4*x_5^2 - 52*x_1*x_2^4*x_3^5*x_4^4*x_5^2 - 422*x_2^5*x_3^5*x_4^4*x_5^2 + 622*x_1^4*x_3^6*x_4^4*x_5^2 + 452*x_1^3*x_2*x_3^6*x_4^4*x_5^2 + 330*x_1^2*x_2^2*x_3^6*x_4^4*x_5^2 + 452*x_1*x_2^3*x_3^6*x_4^4*x_5^2 + 622*x_2^4*x_3^6*x_4^4*x_5^2 - 612*x_1^3*x_3^7*x_4^4*x_5^2 - 616*x_1^2*x_2*x_3^7*x_4^4*x_5^2 - 616*x_1*x_2^2*x_3^7*x_4^4*x_5^2 - 612*x_2^3*x_3^7*x_4^4*x_5^2 - 59*x_1^2*x_3^8*x_4^4*x_5^2 - 242*x_1*x_2*x_3^8*x_4^4*x_5^2 - 59*x_2^2*x_3^8*x_4^4*x_5^2 + 518*x_1*x_3^9*x_4^4*x_5^2 + 518*x_2*x_3^9*x_4^4*x_5^2 - 222*x_3^10*x_4^4*x_5^2 + 292*x_1^9*x_4^5*x_5^2 - 1188*x_1^8*x_2*x_4^5*x_5^2 + 952*x_1^7*x_2^2*x_4^5*x_5^2 + 252*x_1^6*x_2^3*x_4^5*x_5^2 - 422*x_1^5*x_2^4*x_4^5*x_5^2 - 422*x_1^4*x_2^5*x_4^5*x_5^2 + 252*x_1^3*x_2^6*x_4^5*x_5^2 + 952*x_1^2*x_2^7*x_4^5*x_5^2 - 1188*x_1*x_2^8*x_4^5*x_5^2 + 292*x_2^9*x_4^5*x_5^2 - 1188*x_1^8*x_3*x_4^5*x_5^2 + 1528*x_1^7*x_2*x_3*x_4^5*x_5^2 + 188*x_1^6*x_2^2*x_3*x_4^5*x_5^2 - 388*x_1^5*x_2^3*x_3*x_4^5*x_5^2 - 52*x_1^4*x_2^4*x_3*x_4^5*x_5^2 - 388*x_1^3*x_2^5*x_3*x_4^5*x_5^2 + 188*x_1^2*x_2^6*x_3*x_4^5*x_5^2 + 1528*x_1*x_2^7*x_3*x_4^5*x_5^2 - 1188*x_2^8*x_3*x_4^5*x_5^2 + 952*x_1^7*x_3^2*x_4^5*x_5^2 + 188*x_1^6*x_2*x_3^2*x_4^5*x_5^2 + 36*x_1^5*x_2^2*x_3^2*x_4^5*x_5^2 - 240*x_1^4*x_2^3*x_3^2*x_4^5*x_5^2 - 240*x_1^3*x_2^4*x_3^2*x_4^5*x_5^2 + 36*x_1^2*x_2^5*x_3^2*x_4^5*x_5^2 + 188*x_1*x_2^6*x_3^2*x_4^5*x_5^2 + 952*x_2^7*x_3^2*x_4^5*x_5^2 + 252*x_1^6*x_3^3*x_4^5*x_5^2 - 388*x_1^5*x_2*x_3^3*x_4^5*x_5^2 - 240*x_1^4*x_2^2*x_3^3*x_4^5*x_5^2 - 336*x_1^3*x_2^3*x_3^3*x_4^5*x_5^2 - 240*x_1^2*x_2^4*x_3^3*x_4^5*x_5^2 - 388*x_1*x_2^5*x_3^3*x_4^5*x_5^2 + 252*x_2^6*x_3^3*x_4^5*x_5^2 - 422*x_1^5*x_3^4*x_4^5*x_5^2 - 52*x_1^4*x_2*x_3^4*x_4^5*x_5^2 - 240*x_1^3*x_2^2*x_3^4*x_4^5*x_5^2 - 240*x_1^2*x_2^3*x_3^4*x_4^5*x_5^2 - 52*x_1*x_2^4*x_3^4*x_4^5*x_5^2 - 422*x_2^5*x_3^4*x_4^5*x_5^2 - 422*x_1^4*x_3^5*x_4^5*x_5^2 - 388*x_1^3*x_2*x_3^5*x_4^5*x_5^2 + 36*x_1^2*x_2^2*x_3^5*x_4^5*x_5^2 - 388*x_1*x_2^3*x_3^5*x_4^5*x_5^2 - 422*x_2^4*x_3^5*x_4^5*x_5^2 + 252*x_1^3*x_3^6*x_4^5*x_5^2 + 188*x_1^2*x_2*x_3^6*x_4^5*x_5^2 + 188*x_1*x_2^2*x_3^6*x_4^5*x_5^2 + 252*x_2^3*x_3^6*x_4^5*x_5^2 + 952*x_1^2*x_3^7*x_4^5*x_5^2 + 1528*x_1*x_2*x_3^7*x_4^5*x_5^2 + 952*x_2^2*x_3^7*x_4^5*x_5^2 - 1188*x_1*x_3^8*x_4^5*x_5^2 - 1188*x_2*x_3^8*x_4^5*x_5^2 + 292*x_3^9*x_4^5*x_5^2 + 148*x_1^8*x_4^6*x_5^2 + 660*x_1^7*x_2*x_4^6*x_5^2 - 1394*x_1^6*x_2^2*x_4^6*x_5^2 + 252*x_1^5*x_2^3*x_4^6*x_5^2 + 622*x_1^4*x_2^4*x_4^6*x_5^2 + 252*x_1^3*x_2^5*x_4^6*x_5^2 - 1394*x_1^2*x_2^6*x_4^6*x_5^2 + 660*x_1*x_2^7*x_4^6*x_5^2 + 148*x_2^8*x_4^6*x_5^2 + 660*x_1^7*x_3*x_4^6*x_5^2 - 2072*x_1^6*x_2*x_3*x_4^6*x_5^2 + 188*x_1^5*x_2^2*x_3*x_4^6*x_5^2 + 452*x_1^4*x_2^3*x_3*x_4^6*x_5^2 + 452*x_1^3*x_2^4*x_3*x_4^6*x_5^2 + 188*x_1^2*x_2^5*x_3*x_4^6*x_5^2 - 2072*x_1*x_2^6*x_3*x_4^6*x_5^2 + 660*x_2^7*x_3*x_4^6*x_5^2 - 1394*x_1^6*x_3^2*x_4^6*x_5^2 + 188*x_1^5*x_2*x_3^2*x_4^6*x_5^2 + 330*x_1^4*x_2^2*x_3^2*x_4^6*x_5^2 + 656*x_1^3*x_2^3*x_3^2*x_4^6*x_5^2 + 330*x_1^2*x_2^4*x_3^2*x_4^6*x_5^2 + 188*x_1*x_2^5*x_3^2*x_4^6*x_5^2 - 1394*x_2^6*x_3^2*x_4^6*x_5^2 + 252*x_1^5*x_3^3*x_4^6*x_5^2 + 452*x_1^4*x_2*x_3^3*x_4^6*x_5^2 + 656*x_1^3*x_2^2*x_3^3*x_4^6*x_5^2 + 656*x_1^2*x_2^3*x_3^3*x_4^6*x_5^2 + 452*x_1*x_2^4*x_3^3*x_4^6*x_5^2 + 252*x_2^5*x_3^3*x_4^6*x_5^2 + 622*x_1^4*x_3^4*x_4^6*x_5^2 + 452*x_1^3*x_2*x_3^4*x_4^6*x_5^2 + 330*x_1^2*x_2^2*x_3^4*x_4^6*x_5^2 + 452*x_1*x_2^3*x_3^4*x_4^6*x_5^2 + 622*x_2^4*x_3^4*x_4^6*x_5^2 + 252*x_1^3*x_3^5*x_4^6*x_5^2 + 188*x_1^2*x_2*x_3^5*x_4^6*x_5^2 + 188*x_1*x_2^2*x_3^5*x_4^6*x_5^2 + 252*x_2^3*x_3^5*x_4^6*x_5^2 - 1394*x_1^2*x_3^6*x_4^6*x_5^2 - 2072*x_1*x_2*x_3^6*x_4^6*x_5^2 - 1394*x_2^2*x_3^6*x_4^6*x_5^2 + 660*x_1*x_3^7*x_4^6*x_5^2 + 660*x_2*x_3^7*x_4^6*x_5^2 + 148*x_3^8*x_4^6*x_5^2 - 488*x_1^7*x_4^7*x_5^2 + 660*x_1^6*x_2*x_4^7*x_5^2 + 952*x_1^5*x_2^2*x_4^7*x_5^2 - 612*x_1^4*x_2^3*x_4^7*x_5^2 - 612*x_1^3*x_2^4*x_4^7*x_5^2 + 952*x_1^2*x_2^5*x_4^7*x_5^2 + 660*x_1*x_2^6*x_4^7*x_5^2 - 488*x_2^7*x_4^7*x_5^2 + 660*x_1^6*x_3*x_4^7*x_5^2 + 1528*x_1^5*x_2*x_3*x_4^7*x_5^2 - 616*x_1^4*x_2^2*x_3*x_4^7*x_5^2 - 776*x_1^3*x_2^3*x_3*x_4^7*x_5^2 - 616*x_1^2*x_2^4*x_3*x_4^7*x_5^2 + 1528*x_1*x_2^5*x_3*x_4^7*x_5^2 + 660*x_2^6*x_3*x_4^7*x_5^2 + 952*x_1^5*x_3^2*x_4^7*x_5^2 - 616*x_1^4*x_2*x_3^2*x_4^7*x_5^2 - 1032*x_1^3*x_2^2*x_3^2*x_4^7*x_5^2 - 1032*x_1^2*x_2^3*x_3^2*x_4^7*x_5^2 - 616*x_1*x_2^4*x_3^2*x_4^7*x_5^2 + 952*x_2^5*x_3^2*x_4^7*x_5^2 - 612*x_1^4*x_3^3*x_4^7*x_5^2 - 776*x_1^3*x_2*x_3^3*x_4^7*x_5^2 - 1032*x_1^2*x_2^2*x_3^3*x_4^7*x_5^2 - 776*x_1*x_2^3*x_3^3*x_4^7*x_5^2 - 612*x_2^4*x_3^3*x_4^7*x_5^2 - 612*x_1^3*x_3^4*x_4^7*x_5^2 - 616*x_1^2*x_2*x_3^4*x_4^7*x_5^2 - 616*x_1*x_2^2*x_3^4*x_4^7*x_5^2 - 612*x_2^3*x_3^4*x_4^7*x_5^2 + 952*x_1^2*x_3^5*x_4^7*x_5^2 + 1528*x_1*x_2*x_3^5*x_4^7*x_5^2 + 952*x_2^2*x_3^5*x_4^7*x_5^2 + 660*x_1*x_3^6*x_4^7*x_5^2 + 660*x_2*x_3^6*x_4^7*x_5^2 - 488*x_3^7*x_4^7*x_5^2 + 148*x_1^6*x_4^8*x_5^2 - 1188*x_1^5*x_2*x_4^8*x_5^2 - 59*x_1^4*x_2^2*x_4^8*x_5^2 + 736*x_1^3*x_2^3*x_4^8*x_5^2 - 59*x_1^2*x_2^4*x_4^8*x_5^2 - 1188*x_1*x_2^5*x_4^8*x_5^2 + 148*x_2^6*x_4^8*x_5^2 - 1188*x_1^5*x_3*x_4^8*x_5^2 - 242*x_1^4*x_2*x_3*x_4^8*x_5^2 + 1148*x_1^3*x_2^2*x_3*x_4^8*x_5^2 + 1148*x_1^2*x_2^3*x_3*x_4^8*x_5^2 - 242*x_1*x_2^4*x_3*x_4^8*x_5^2 - 1188*x_2^5*x_3*x_4^8*x_5^2 - 59*x_1^4*x_3^2*x_4^8*x_5^2 + 1148*x_1^3*x_2*x_3^2*x_4^8*x_5^2 + 1548*x_1^2*x_2^2*x_3^2*x_4^8*x_5^2 + 1148*x_1*x_2^3*x_3^2*x_4^8*x_5^2 - 59*x_2^4*x_3^2*x_4^8*x_5^2 + 736*x_1^3*x_3^3*x_4^8*x_5^2 + 1148*x_1^2*x_2*x_3^3*x_4^8*x_5^2 + 1148*x_1*x_2^2*x_3^3*x_4^8*x_5^2 + 736*x_2^3*x_3^3*x_4^8*x_5^2 - 59*x_1^2*x_3^4*x_4^8*x_5^2 - 242*x_1*x_2*x_3^4*x_4^8*x_5^2 - 59*x_2^2*x_3^4*x_4^8*x_5^2 - 1188*x_1*x_3^5*x_4^8*x_5^2 - 1188*x_2*x_3^5*x_4^8*x_5^2 + 148*x_3^6*x_4^8*x_5^2 + 292*x_1^5*x_4^9*x_5^2 + 518*x_1^4*x_2*x_4^9*x_5^2 - 592*x_1^3*x_2^2*x_4^9*x_5^2 - 592*x_1^2*x_2^3*x_4^9*x_5^2 + 518*x_1*x_2^4*x_4^9*x_5^2 + 292*x_2^5*x_4^9*x_5^2 + 518*x_1^4*x_3*x_4^9*x_5^2 - 892*x_1^3*x_2*x_3*x_4^9*x_5^2 - 1492*x_1^2*x_2^2*x_3*x_4^9*x_5^2 - 892*x_1*x_2^3*x_3*x_4^9*x_5^2 + 518*x_2^4*x_3*x_4^9*x_5^2 - 592*x_1^3*x_3^2*x_4^9*x_5^2 - 1492*x_1^2*x_2*x_3^2*x_4^9*x_5^2 - 1492*x_1*x_2^2*x_3^2*x_4^9*x_5^2 - 592*x_2^3*x_3^2*x_4^9*x_5^2 - 592*x_1^2*x_3^3*x_4^9*x_5^2 - 892*x_1*x_2*x_3^3*x_4^9*x_5^2 - 592*x_2^2*x_3^3*x_4^9*x_5^2 + 518*x_1*x_3^4*x_4^9*x_5^2 + 518*x_2*x_3^4*x_4^9*x_5^2 + 292*x_3^5*x_4^9*x_5^2 - 222*x_1^4*x_4^10*x_5^2 + 244*x_1^3*x_2*x_4^10*x_5^2 + 682*x_1^2*x_2^2*x_4^10*x_5^2 + 244*x_1*x_2^3*x_4^10*x_5^2 - 222*x_2^4*x_4^10*x_5^2 + 244*x_1^3*x_3*x_4^10*x_5^2 + 1132*x_1^2*x_2*x_3*x_4^10*x_5^2 + 1132*x_1*x_2^2*x_3*x_4^10*x_5^2 + 244*x_2^3*x_3*x_4^10*x_5^2 + 682*x_1^2*x_3^2*x_4^10*x_5^2 + 1132*x_1*x_2*x_3^2*x_4^10*x_5^2 + 682*x_2^2*x_3^2*x_4^10*x_5^2 + 244*x_1*x_3^3*x_4^10*x_5^2 + 244*x_2*x_3^3*x_4^10*x_5^2 - 222*x_3^4*x_4^10*x_5^2 - 28*x_1^3*x_4^11*x_5^2 - 360*x_1^2*x_2*x_4^11*x_5^2 - 360*x_1*x_2^2*x_4^11*x_5^2 - 28*x_2^3*x_4^11*x_5^2 - 360*x_1^2*x_3*x_4^11*x_5^2 - 636*x_1*x_2*x_3*x_4^11*x_5^2 - 360*x_2^2*x_3*x_4^11*x_5^2 - 360*x_1*x_3^2*x_4^11*x_5^2 - 360*x_2*x_3^2*x_4^11*x_5^2 - 28*x_3^3*x_4^11*x_5^2 + 74*x_1^2*x_4^12*x_5^2 + 146*x_1*x_2*x_4^12*x_5^2 + 74*x_2^2*x_4^12*x_5^2 + 146*x_1*x_3*x_4^12*x_5^2 + 146*x_2*x_3*x_4^12*x_5^2 + 74*x_3^2*x_4^12*x_5^2 - 20*x_1*x_4^13*x_5^2 - 20*x_2*x_4^13*x_5^2 - 20*x_3*x_4^13*x_5^2 + 20*x_1^13*x_5^3 - 60*x_1^12*x_2*x_5^3 - 28*x_1^11*x_2^2*x_5^3 + 236*x_1^10*x_2^3*x_5^3 - 92*x_1^9*x_2^4*x_5^3 - 380*x_1^8*x_2^5*x_5^3 + 304*x_1^7*x_2^6*x_5^3 + 304*x_1^6*x_2^7*x_5^3 - 380*x_1^5*x_2^8*x_5^3 - 92*x_1^4*x_2^9*x_5^3 + 236*x_1^3*x_2^10*x_5^3 - 28*x_1^2*x_2^11*x_5^3 - 60*x_1*x_2^12*x_5^3 + 20*x_2^13*x_5^3 - 60*x_1^12*x_3*x_5^3 + 108*x_1^11*x_2*x_3*x_5^3 + 244*x_1^10*x_2^2*x_3*x_5^3 - 812*x_1^9*x_2^3*x_3*x_5^3 + 546*x_1^8*x_2^4*x_3*x_5^3 + 704*x_1^7*x_2^5*x_3*x_5^3 - 1460*x_1^6*x_2^6*x_3*x_5^3 + 704*x_1^5*x_2^7*x_3*x_5^3 + 546*x_1^4*x_2^8*x_3*x_5^3 - 812*x_1^3*x_2^9*x_3*x_5^3 + 244*x_1^2*x_2^10*x_3*x_5^3 + 108*x_1*x_2^11*x_3*x_5^3 - 60*x_2^12*x_3*x_5^3 - 28*x_1^11*x_3^2*x_5^3 + 244*x_1^10*x_2*x_3^2*x_5^3 - 592*x_1^9*x_2^2*x_3^2*x_5^3 + 736*x_1^8*x_2^3*x_3^2*x_5^3 - 612*x_1^7*x_2^4*x_3^2*x_5^3 + 252*x_1^6*x_2^5*x_3^2*x_5^3 + 252*x_1^5*x_2^6*x_3^2*x_5^3 - 612*x_1^4*x_2^7*x_3^2*x_5^3 + 736*x_1^3*x_2^8*x_3^2*x_5^3 - 592*x_1^2*x_2^9*x_3^2*x_5^3 + 244*x_1*x_2^10*x_3^2*x_5^3 - 28*x_2^11*x_3^2*x_5^3 + 236*x_1^10*x_3^3*x_5^3 - 812*x_1^9*x_2*x_3^3*x_5^3 + 736*x_1^8*x_2^2*x_3^3*x_5^3 - 72*x_1^7*x_2^3*x_3^3*x_5^3 + 28*x_1^6*x_2^4*x_3^3*x_5^3 - 316*x_1^5*x_2^5*x_3^3*x_5^3 + 28*x_1^4*x_2^6*x_3^3*x_5^3 - 72*x_1^3*x_2^7*x_3^3*x_5^3 + 736*x_1^2*x_2^8*x_3^3*x_5^3 - 812*x_1*x_2^9*x_3^3*x_5^3 + 236*x_2^10*x_3^3*x_5^3 - 92*x_1^9*x_3^4*x_5^3 + 546*x_1^8*x_2*x_3^4*x_5^3 - 612*x_1^7*x_2^2*x_3^4*x_5^3 + 28*x_1^6*x_2^3*x_3^4*x_5^3 + 180*x_1^5*x_2^4*x_3^4*x_5^3 + 180*x_1^4*x_2^5*x_3^4*x_5^3 + 28*x_1^3*x_2^6*x_3^4*x_5^3 - 612*x_1^2*x_2^7*x_3^4*x_5^3 + 546*x_1*x_2^8*x_3^4*x_5^3 - 92*x_2^9*x_3^4*x_5^3 - 380*x_1^8*x_3^5*x_5^3 + 704*x_1^7*x_2*x_3^5*x_5^3 + 252*x_1^6*x_2^2*x_3^5*x_5^3 - 316*x_1^5*x_2^3*x_3^5*x_5^3 + 180*x_1^4*x_2^4*x_3^5*x_5^3 - 316*x_1^3*x_2^5*x_3^5*x_5^3 + 252*x_1^2*x_2^6*x_3^5*x_5^3 + 704*x_1*x_2^7*x_3^5*x_5^3 - 380*x_2^8*x_3^5*x_5^3 + 304*x_1^7*x_3^6*x_5^3 - 1460*x_1^6*x_2*x_3^6*x_5^3 + 252*x_1^5*x_2^2*x_3^6*x_5^3 + 28*x_1^4*x_2^3*x_3^6*x_5^3 + 28*x_1^3*x_2^4*x_3^6*x_5^3 + 252*x_1^2*x_2^5*x_3^6*x_5^3 - 1460*x_1*x_2^6*x_3^6*x_5^3 + 304*x_2^7*x_3^6*x_5^3 + 304*x_1^6*x_3^7*x_5^3 + 704*x_1^5*x_2*x_3^7*x_5^3 - 612*x_1^4*x_2^2*x_3^7*x_5^3 - 72*x_1^3*x_2^3*x_3^7*x_5^3 - 612*x_1^2*x_2^4*x_3^7*x_5^3 + 704*x_1*x_2^5*x_3^7*x_5^3 + 304*x_2^6*x_3^7*x_5^3 - 380*x_1^5*x_3^8*x_5^3 + 546*x_1^4*x_2*x_3^8*x_5^3 + 736*x_1^3*x_2^2*x_3^8*x_5^3 + 736*x_1^2*x_2^3*x_3^8*x_5^3 + 546*x_1*x_2^4*x_3^8*x_5^3 - 380*x_2^5*x_3^8*x_5^3 - 92*x_1^4*x_3^9*x_5^3 - 812*x_1^3*x_2*x_3^9*x_5^3 - 592*x_1^2*x_2^2*x_3^9*x_5^3 - 812*x_1*x_2^3*x_3^9*x_5^3 - 92*x_2^4*x_3^9*x_5^3 + 236*x_1^3*x_3^10*x_5^3 + 244*x_1^2*x_2*x_3^10*x_5^3 + 244*x_1*x_2^2*x_3^10*x_5^3 + 236*x_2^3*x_3^10*x_5^3 - 28*x_1^2*x_3^11*x_5^3 + 108*x_1*x_2*x_3^11*x_5^3 - 28*x_2^2*x_3^11*x_5^3 - 60*x_1*x_3^12*x_5^3 - 60*x_2*x_3^12*x_5^3 + 20*x_3^13*x_5^3 - 60*x_1^12*x_4*x_5^3 + 108*x_1^11*x_2*x_4*x_5^3 + 244*x_1^10*x_2^2*x_4*x_5^3 - 812*x_1^9*x_2^3*x_4*x_5^3 + 546*x_1^8*x_2^4*x_4*x_5^3 + 704*x_1^7*x_2^5*x_4*x_5^3 - 1460*x_1^6*x_2^6*x_4*x_5^3 + 704*x_1^5*x_2^7*x_4*x_5^3 + 546*x_1^4*x_2^8*x_4*x_5^3 - 812*x_1^3*x_2^9*x_4*x_5^3 + 244*x_1^2*x_2^10*x_4*x_5^3 + 108*x_1*x_2^11*x_4*x_5^3 - 60*x_2^12*x_4*x_5^3 + 108*x_1^11*x_3*x_4*x_5^3 + 68*x_1^10*x_2*x_3*x_4*x_5^3 - 892*x_1^9*x_2^2*x_3*x_4*x_5^3 + 1468*x_1^8*x_2^3*x_3*x_4*x_5^3 - 1080*x_1^7*x_2^4*x_3*x_4*x_5^3 + 328*x_1^6*x_2^5*x_3*x_4*x_5^3 + 328*x_1^5*x_2^6*x_3*x_4*x_5^3 - 1080*x_1^4*x_2^7*x_3*x_4*x_5^3 + 1468*x_1^3*x_2^8*x_3*x_4*x_5^3 - 892*x_1^2*x_2^9*x_3*x_4*x_5^3 + 68*x_1*x_2^10*x_3*x_4*x_5^3 + 108*x_2^11*x_3*x_4*x_5^3 + 244*x_1^10*x_3^2*x_4*x_5^3 - 892*x_1^9*x_2*x_3^2*x_4*x_5^3 + 1148*x_1^8*x_2^2*x_3^2*x_4*x_5^3 - 776*x_1^7*x_2^3*x_3^2*x_4*x_5^3 + 452*x_1^6*x_2^4*x_3^2*x_4*x_5^3 - 388*x_1^5*x_2^5*x_3^2*x_4*x_5^3 + 452*x_1^4*x_2^6*x_3^2*x_4*x_5^3 - 776*x_1^3*x_2^7*x_3^2*x_4*x_5^3 + 1148*x_1^2*x_2^8*x_3^2*x_4*x_5^3 - 892*x_1*x_2^9*x_3^2*x_4*x_5^3 + 244*x_2^10*x_3^2*x_4*x_5^3 - 812*x_1^9*x_3^3*x_4*x_5^3 + 1468*x_1^8*x_2*x_3^3*x_4*x_5^3 - 776*x_1^7*x_2^2*x_3^3*x_4*x_5^3 + 168*x_1^6*x_2^3*x_3^3*x_4*x_5^3 - 28*x_1^5*x_2^4*x_3^3*x_4*x_5^3 - 28*x_1^4*x_2^5*x_3^3*x_4*x_5^3 + 168*x_1^3*x_2^6*x_3^3*x_4*x_5^3 - 776*x_1^2*x_2^7*x_3^3*x_4*x_5^3 + 1468*x_1*x_2^8*x_3^3*x_4*x_5^3 - 812*x_2^9*x_3^3*x_4*x_5^3 + 546*x_1^8*x_3^4*x_4*x_5^3 - 1080*x_1^7*x_2*x_3^4*x_4*x_5^3 + 452*x_1^6*x_2^2*x_3^4*x_4*x_5^3 - 28*x_1^5*x_2^3*x_3^4*x_4*x_5^3 - 28*x_1^3*x_2^5*x_3^4*x_4*x_5^3 + 452*x_1^2*x_2^6*x_3^4*x_4*x_5^3 - 1080*x_1*x_2^7*x_3^4*x_4*x_5^3 + 546*x_2^8*x_3^4*x_4*x_5^3 + 704*x_1^7*x_3^5*x_4*x_5^3 + 328*x_1^6*x_2*x_3^5*x_4*x_5^3 - 388*x_1^5*x_2^2*x_3^5*x_4*x_5^3 - 28*x_1^4*x_2^3*x_3^5*x_4*x_5^3 - 28*x_1^3*x_2^4*x_3^5*x_4*x_5^3 - 388*x_1^2*x_2^5*x_3^5*x_4*x_5^3 + 328*x_1*x_2^6*x_3^5*x_4*x_5^3 + 704*x_2^7*x_3^5*x_4*x_5^3 - 1460*x_1^6*x_3^6*x_4*x_5^3 + 328*x_1^5*x_2*x_3^6*x_4*x_5^3 + 452*x_1^4*x_2^2*x_3^6*x_4*x_5^3 + 168*x_1^3*x_2^3*x_3^6*x_4*x_5^3 + 452*x_1^2*x_2^4*x_3^6*x_4*x_5^3 + 328*x_1*x_2^5*x_3^6*x_4*x_5^3 - 1460*x_2^6*x_3^6*x_4*x_5^3 + 704*x_1^5*x_3^7*x_4*x_5^3 - 1080*x_1^4*x_2*x_3^7*x_4*x_5^3 - 776*x_1^3*x_2^2*x_3^7*x_4*x_5^3 - 776*x_1^2*x_2^3*x_3^7*x_4*x_5^3 - 1080*x_1*x_2^4*x_3^7*x_4*x_5^3 + 704*x_2^5*x_3^7*x_4*x_5^3 + 546*x_1^4*x_3^8*x_4*x_5^3 + 1468*x_1^3*x_2*x_3^8*x_4*x_5^3 + 1148*x_1^2*x_2^2*x_3^8*x_4*x_5^3 + 1468*x_1*x_2^3*x_3^8*x_4*x_5^3 + 546*x_2^4*x_3^8*x_4*x_5^3 - 812*x_1^3*x_3^9*x_4*x_5^3 - 892*x_1^2*x_2*x_3^9*x_4*x_5^3 - 892*x_1*x_2^2*x_3^9*x_4*x_5^3 - 812*x_2^3*x_3^9*x_4*x_5^3 + 244*x_1^2*x_3^10*x_4*x_5^3 + 68*x_1*x_2*x_3^10*x_4*x_5^3 + 244*x_2^2*x_3^10*x_4*x_5^3 + 108*x_1*x_3^11*x_4*x_5^3 + 108*x_2*x_3^11*x_4*x_5^3 - 60*x_3^12*x_4*x_5^3 - 28*x_1^11*x_4^2*x_5^3 + 244*x_1^10*x_2*x_4^2*x_5^3 - 592*x_1^9*x_2^2*x_4^2*x_5^3 + 736*x_1^8*x_2^3*x_4^2*x_5^3 - 612*x_1^7*x_2^4*x_4^2*x_5^3 + 252*x_1^6*x_2^5*x_4^2*x_5^3 + 252*x_1^5*x_2^6*x_4^2*x_5^3 - 612*x_1^4*x_2^7*x_4^2*x_5^3 + 736*x_1^3*x_2^8*x_4^2*x_5^3 - 592*x_1^2*x_2^9*x_4^2*x_5^3 + 244*x_1*x_2^10*x_4^2*x_5^3 - 28*x_2^11*x_4^2*x_5^3 + 244*x_1^10*x_3*x_4^2*x_5^3 - 892*x_1^9*x_2*x_3*x_4^2*x_5^3 + 1148*x_1^8*x_2^2*x_3*x_4^2*x_5^3 - 776*x_1^7*x_2^3*x_3*x_4^2*x_5^3 + 452*x_1^6*x_2^4*x_3*x_4^2*x_5^3 - 388*x_1^5*x_2^5*x_3*x_4^2*x_5^3 + 452*x_1^4*x_2^6*x_3*x_4^2*x_5^3 - 776*x_1^3*x_2^7*x_3*x_4^2*x_5^3 + 1148*x_1^2*x_2^8*x_3*x_4^2*x_5^3 - 892*x_1*x_2^9*x_3*x_4^2*x_5^3 + 244*x_2^10*x_3*x_4^2*x_5^3 - 592*x_1^9*x_3^2*x_4^2*x_5^3 + 1148*x_1^8*x_2*x_3^2*x_4^2*x_5^3 - 1032*x_1^7*x_2^2*x_3^2*x_4^2*x_5^3 + 656*x_1^6*x_2^3*x_3^2*x_4^2*x_5^3 - 240*x_1^5*x_2^4*x_3^2*x_4^2*x_5^3 - 240*x_1^4*x_2^5*x_3^2*x_4^2*x_5^3 + 656*x_1^3*x_2^6*x_3^2*x_4^2*x_5^3 - 1032*x_1^2*x_2^7*x_3^2*x_4^2*x_5^3 + 1148*x_1*x_2^8*x_3^2*x_4^2*x_5^3 - 592*x_2^9*x_3^2*x_4^2*x_5^3 + 736*x_1^8*x_3^3*x_4^2*x_5^3 - 776*x_1^7*x_2*x_3^3*x_4^2*x_5^3 + 656*x_1^6*x_2^2*x_3^3*x_4^2*x_5^3 - 336*x_1^5*x_2^3*x_3^3*x_4^2*x_5^3 + 140*x_1^4*x_2^4*x_3^3*x_4^2*x_5^3 - 336*x_1^3*x_2^5*x_3^3*x_4^2*x_5^3 + 656*x_1^2*x_2^6*x_3^3*x_4^2*x_5^3 - 776*x_1*x_2^7*x_3^3*x_4^2*x_5^3 + 736*x_2^8*x_3^3*x_4^2*x_5^3 - 612*x_1^7*x_3^4*x_4^2*x_5^3 + 452*x_1^6*x_2*x_3^4*x_4^2*x_5^3 - 240*x_1^5*x_2^2*x_3^4*x_4^2*x_5^3 + 140*x_1^4*x_2^3*x_3^4*x_4^2*x_5^3 + 140*x_1^3*x_2^4*x_3^4*x_4^2*x_5^3 - 240*x_1^2*x_2^5*x_3^4*x_4^2*x_5^3 + 452*x_1*x_2^6*x_3^4*x_4^2*x_5^3 - 612*x_2^7*x_3^4*x_4^2*x_5^3 + 252*x_1^6*x_3^5*x_4^2*x_5^3 - 388*x_1^5*x_2*x_3^5*x_4^2*x_5^3 - 240*x_1^4*x_2^2*x_3^5*x_4^2*x_5^3 - 336*x_1^3*x_2^3*x_3^5*x_4^2*x_5^3 - 240*x_1^2*x_2^4*x_3^5*x_4^2*x_5^3 - 388*x_1*x_2^5*x_3^5*x_4^2*x_5^3 + 252*x_2^6*x_3^5*x_4^2*x_5^3 + 252*x_1^5*x_3^6*x_4^2*x_5^3 + 452*x_1^4*x_2*x_3^6*x_4^2*x_5^3 + 656*x_1^3*x_2^2*x_3^6*x_4^2*x_5^3 + 656*x_1^2*x_2^3*x_3^6*x_4^2*x_5^3 + 452*x_1*x_2^4*x_3^6*x_4^2*x_5^3 + 252*x_2^5*x_3^6*x_4^2*x_5^3 - 612*x_1^4*x_3^7*x_4^2*x_5^3 - 776*x_1^3*x_2*x_3^7*x_4^2*x_5^3 - 1032*x_1^2*x_2^2*x_3^7*x_4^2*x_5^3 - 776*x_1*x_2^3*x_3^7*x_4^2*x_5^3 - 612*x_2^4*x_3^7*x_4^2*x_5^3 + 736*x_1^3*x_3^8*x_4^2*x_5^3 + 1148*x_1^2*x_2*x_3^8*x_4^2*x_5^3 + 1148*x_1*x_2^2*x_3^8*x_4^2*x_5^3 + 736*x_2^3*x_3^8*x_4^2*x_5^3 - 592*x_1^2*x_3^9*x_4^2*x_5^3 - 892*x_1*x_2*x_3^9*x_4^2*x_5^3 - 592*x_2^2*x_3^9*x_4^2*x_5^3 + 244*x_1*x_3^10*x_4^2*x_5^3 + 244*x_2*x_3^10*x_4^2*x_5^3 - 28*x_3^11*x_4^2*x_5^3 + 236*x_1^10*x_4^3*x_5^3 - 812*x_1^9*x_2*x_4^3*x_5^3 + 736*x_1^8*x_2^2*x_4^3*x_5^3 - 72*x_1^7*x_2^3*x_4^3*x_5^3 + 28*x_1^6*x_2^4*x_4^3*x_5^3 - 316*x_1^5*x_2^5*x_4^3*x_5^3 + 28*x_1^4*x_2^6*x_4^3*x_5^3 - 72*x_1^3*x_2^7*x_4^3*x_5^3 + 736*x_1^2*x_2^8*x_4^3*x_5^3 - 812*x_1*x_2^9*x_4^3*x_5^3 + 236*x_2^10*x_4^3*x_5^3 - 812*x_1^9*x_3*x_4^3*x_5^3 + 1468*x_1^8*x_2*x_3*x_4^3*x_5^3 - 776*x_1^7*x_2^2*x_3*x_4^3*x_5^3 + 168*x_1^6*x_2^3*x_3*x_4^3*x_5^3 - 28*x_1^5*x_2^4*x_3*x_4^3*x_5^3 - 28*x_1^4*x_2^5*x_3*x_4^3*x_5^3 + 168*x_1^3*x_2^6*x_3*x_4^3*x_5^3 - 776*x_1^2*x_2^7*x_3*x_4^3*x_5^3 + 1468*x_1*x_2^8*x_3*x_4^3*x_5^3 - 812*x_2^9*x_3*x_4^3*x_5^3 + 736*x_1^8*x_3^2*x_4^3*x_5^3 - 776*x_1^7*x_2*x_3^2*x_4^3*x_5^3 + 656*x_1^6*x_2^2*x_3^2*x_4^3*x_5^3 - 336*x_1^5*x_2^3*x_3^2*x_4^3*x_5^3 + 140*x_1^4*x_2^4*x_3^2*x_4^3*x_5^3 - 336*x_1^3*x_2^5*x_3^2*x_4^3*x_5^3 + 656*x_1^2*x_2^6*x_3^2*x_4^3*x_5^3 - 776*x_1*x_2^7*x_3^2*x_4^3*x_5^3 + 736*x_2^8*x_3^2*x_4^3*x_5^3 - 72*x_1^7*x_3^3*x_4^3*x_5^3 + 168*x_1^6*x_2*x_3^3*x_4^3*x_5^3 - 336*x_1^5*x_2^2*x_3^3*x_4^3*x_5^3 - 336*x_1^2*x_2^5*x_3^3*x_4^3*x_5^3 + 168*x_1*x_2^6*x_3^3*x_4^3*x_5^3 - 72*x_2^7*x_3^3*x_4^3*x_5^3 + 28*x_1^6*x_3^4*x_4^3*x_5^3 - 28*x_1^5*x_2*x_3^4*x_4^3*x_5^3 + 140*x_1^4*x_2^2*x_3^4*x_4^3*x_5^3 + 140*x_1^2*x_2^4*x_3^4*x_4^3*x_5^3 - 28*x_1*x_2^5*x_3^4*x_4^3*x_5^3 + 28*x_2^6*x_3^4*x_4^3*x_5^3 - 316*x_1^5*x_3^5*x_4^3*x_5^3 - 28*x_1^4*x_2*x_3^5*x_4^3*x_5^3 - 336*x_1^3*x_2^2*x_3^5*x_4^3*x_5^3 - 336*x_1^2*x_2^3*x_3^5*x_4^3*x_5^3 - 28*x_1*x_2^4*x_3^5*x_4^3*x_5^3 - 316*x_2^5*x_3^5*x_4^3*x_5^3 + 28*x_1^4*x_3^6*x_4^3*x_5^3 + 168*x_1^3*x_2*x_3^6*x_4^3*x_5^3 + 656*x_1^2*x_2^2*x_3^6*x_4^3*x_5^3 + 168*x_1*x_2^3*x_3^6*x_4^3*x_5^3 + 28*x_2^4*x_3^6*x_4^3*x_5^3 - 72*x_1^3*x_3^7*x_4^3*x_5^3 - 776*x_1^2*x_2*x_3^7*x_4^3*x_5^3 - 776*x_1*x_2^2*x_3^7*x_4^3*x_5^3 - 72*x_2^3*x_3^7*x_4^3*x_5^3 + 736*x_1^2*x_3^8*x_4^3*x_5^3 + 1468*x_1*x_2*x_3^8*x_4^3*x_5^3 + 736*x_2^2*x_3^8*x_4^3*x_5^3 - 812*x_1*x_3^9*x_4^3*x_5^3 - 812*x_2*x_3^9*x_4^3*x_5^3 + 236*x_3^10*x_4^3*x_5^3 - 92*x_1^9*x_4^4*x_5^3 + 546*x_1^8*x_2*x_4^4*x_5^3 - 612*x_1^7*x_2^2*x_4^4*x_5^3 + 28*x_1^6*x_2^3*x_4^4*x_5^3 + 180*x_1^5*x_2^4*x_4^4*x_5^3 + 180*x_1^4*x_2^5*x_4^4*x_5^3 + 28*x_1^3*x_2^6*x_4^4*x_5^3 - 612*x_1^2*x_2^7*x_4^4*x_5^3 + 546*x_1*x_2^8*x_4^4*x_5^3 - 92*x_2^9*x_4^4*x_5^3 + 546*x_1^8*x_3*x_4^4*x_5^3 - 1080*x_1^7*x_2*x_3*x_4^4*x_5^3 + 452*x_1^6*x_2^2*x_3*x_4^4*x_5^3 - 28*x_1^5*x_2^3*x_3*x_4^4*x_5^3 - 28*x_1^3*x_2^5*x_3*x_4^4*x_5^3 + 452*x_1^2*x_2^6*x_3*x_4^4*x_5^3 - 1080*x_1*x_2^7*x_3*x_4^4*x_5^3 + 546*x_2^8*x_3*x_4^4*x_5^3 - 612*x_1^7*x_3^2*x_4^4*x_5^3 + 452*x_1^6*x_2*x_3^2*x_4^4*x_5^3 - 240*x_1^5*x_2^2*x_3^2*x_4^4*x_5^3 + 140*x_1^4*x_2^3*x_3^2*x_4^4*x_5^3 + 140*x_1^3*x_2^4*x_3^2*x_4^4*x_5^3 - 240*x_1^2*x_2^5*x_3^2*x_4^4*x_5^3 + 452*x_1*x_2^6*x_3^2*x_4^4*x_5^3 - 612*x_2^7*x_3^2*x_4^4*x_5^3 + 28*x_1^6*x_3^3*x_4^4*x_5^3 - 28*x_1^5*x_2*x_3^3*x_4^4*x_5^3 + 140*x_1^4*x_2^2*x_3^3*x_4^4*x_5^3 + 140*x_1^2*x_2^4*x_3^3*x_4^4*x_5^3 - 28*x_1*x_2^5*x_3^3*x_4^4*x_5^3 + 28*x_2^6*x_3^3*x_4^4*x_5^3 + 180*x_1^5*x_3^4*x_4^4*x_5^3 + 140*x_1^3*x_2^2*x_3^4*x_4^4*x_5^3 + 140*x_1^2*x_2^3*x_3^4*x_4^4*x_5^3 + 180*x_2^5*x_3^4*x_4^4*x_5^3 + 180*x_1^4*x_3^5*x_4^4*x_5^3 - 28*x_1^3*x_2*x_3^5*x_4^4*x_5^3 - 240*x_1^2*x_2^2*x_3^5*x_4^4*x_5^3 - 28*x_1*x_2^3*x_3^5*x_4^4*x_5^3 + 180*x_2^4*x_3^5*x_4^4*x_5^3 + 28*x_1^3*x_3^6*x_4^4*x_5^3 + 452*x_1^2*x_2*x_3^6*x_4^4*x_5^3 + 452*x_1*x_2^2*x_3^6*x_4^4*x_5^3 + 28*x_2^3*x_3^6*x_4^4*x_5^3 - 612*x_1^2*x_3^7*x_4^4*x_5^3 - 1080*x_1*x_2*x_3^7*x_4^4*x_5^3 - 612*x_2^2*x_3^7*x_4^4*x_5^3 + 546*x_1*x_3^8*x_4^4*x_5^3 + 546*x_2*x_3^8*x_4^4*x_5^3 - 92*x_3^9*x_4^4*x_5^3 - 380*x_1^8*x_4^5*x_5^3 + 704*x_1^7*x_2*x_4^5*x_5^3 + 252*x_1^6*x_2^2*x_4^5*x_5^3 - 316*x_1^5*x_2^3*x_4^5*x_5^3 + 180*x_1^4*x_2^4*x_4^5*x_5^3 - 316*x_1^3*x_2^5*x_4^5*x_5^3 + 252*x_1^2*x_2^6*x_4^5*x_5^3 + 704*x_1*x_2^7*x_4^5*x_5^3 - 380*x_2^8*x_4^5*x_5^3 + 704*x_1^7*x_3*x_4^5*x_5^3 + 328*x_1^6*x_2*x_3*x_4^5*x_5^3 - 388*x_1^5*x_2^2*x_3*x_4^5*x_5^3 - 28*x_1^4*x_2^3*x_3*x_4^5*x_5^3 - 28*x_1^3*x_2^4*x_3*x_4^5*x_5^3 - 388*x_1^2*x_2^5*x_3*x_4^5*x_5^3 + 328*x_1*x_2^6*x_3*x_4^5*x_5^3 + 704*x_2^7*x_3*x_4^5*x_5^3 + 252*x_1^6*x_3^2*x_4^5*x_5^3 - 388*x_1^5*x_2*x_3^2*x_4^5*x_5^3 - 240*x_1^4*x_2^2*x_3^2*x_4^5*x_5^3 - 336*x_1^3*x_2^3*x_3^2*x_4^5*x_5^3 - 240*x_1^2*x_2^4*x_3^2*x_4^5*x_5^3 - 388*x_1*x_2^5*x_3^2*x_4^5*x_5^3 + 252*x_2^6*x_3^2*x_4^5*x_5^3 - 316*x_1^5*x_3^3*x_4^5*x_5^3 - 28*x_1^4*x_2*x_3^3*x_4^5*x_5^3 - 336*x_1^3*x_2^2*x_3^3*x_4^5*x_5^3 - 336*x_1^2*x_2^3*x_3^3*x_4^5*x_5^3 - 28*x_1*x_2^4*x_3^3*x_4^5*x_5^3 - 316*x_2^5*x_3^3*x_4^5*x_5^3 + 180*x_1^4*x_3^4*x_4^5*x_5^3 - 28*x_1^3*x_2*x_3^4*x_4^5*x_5^3 - 240*x_1^2*x_2^2*x_3^4*x_4^5*x_5^3 - 28*x_1*x_2^3*x_3^4*x_4^5*x_5^3 + 180*x_2^4*x_3^4*x_4^5*x_5^3 - 316*x_1^3*x_3^5*x_4^5*x_5^3 - 388*x_1^2*x_2*x_3^5*x_4^5*x_5^3 - 388*x_1*x_2^2*x_3^5*x_4^5*x_5^3 - 316*x_2^3*x_3^5*x_4^5*x_5^3 + 252*x_1^2*x_3^6*x_4^5*x_5^3 + 328*x_1*x_2*x_3^6*x_4^5*x_5^3 + 252*x_2^2*x_3^6*x_4^5*x_5^3 + 704*x_1*x_3^7*x_4^5*x_5^3 + 704*x_2*x_3^7*x_4^5*x_5^3 - 380*x_3^8*x_4^5*x_5^3 + 304*x_1^7*x_4^6*x_5^3 - 1460*x_1^6*x_2*x_4^6*x_5^3 + 252*x_1^5*x_2^2*x_4^6*x_5^3 + 28*x_1^4*x_2^3*x_4^6*x_5^3 + 28*x_1^3*x_2^4*x_4^6*x_5^3 + 252*x_1^2*x_2^5*x_4^6*x_5^3 - 1460*x_1*x_2^6*x_4^6*x_5^3 + 304*x_2^7*x_4^6*x_5^3 - 1460*x_1^6*x_3*x_4^6*x_5^3 + 328*x_1^5*x_2*x_3*x_4^6*x_5^3 + 452*x_1^4*x_2^2*x_3*x_4^6*x_5^3 + 168*x_1^3*x_2^3*x_3*x_4^6*x_5^3 + 452*x_1^2*x_2^4*x_3*x_4^6*x_5^3 + 328*x_1*x_2^5*x_3*x_4^6*x_5^3 - 1460*x_2^6*x_3*x_4^6*x_5^3 + 252*x_1^5*x_3^2*x_4^6*x_5^3 + 452*x_1^4*x_2*x_3^2*x_4^6*x_5^3 + 656*x_1^3*x_2^2*x_3^2*x_4^6*x_5^3 + 656*x_1^2*x_2^3*x_3^2*x_4^6*x_5^3 + 452*x_1*x_2^4*x_3^2*x_4^6*x_5^3 + 252*x_2^5*x_3^2*x_4^6*x_5^3 + 28*x_1^4*x_3^3*x_4^6*x_5^3 + 168*x_1^3*x_2*x_3^3*x_4^6*x_5^3 + 656*x_1^2*x_2^2*x_3^3*x_4^6*x_5^3 + 168*x_1*x_2^3*x_3^3*x_4^6*x_5^3 + 28*x_2^4*x_3^3*x_4^6*x_5^3 + 28*x_1^3*x_3^4*x_4^6*x_5^3 + 452*x_1^2*x_2*x_3^4*x_4^6*x_5^3 + 452*x_1*x_2^2*x_3^4*x_4^6*x_5^3 + 28*x_2^3*x_3^4*x_4^6*x_5^3 + 252*x_1^2*x_3^5*x_4^6*x_5^3 + 328*x_1*x_2*x_3^5*x_4^6*x_5^3 + 252*x_2^2*x_3^5*x_4^6*x_5^3 - 1460*x_1*x_3^6*x_4^6*x_5^3 - 1460*x_2*x_3^6*x_4^6*x_5^3 + 304*x_3^7*x_4^6*x_5^3 + 304*x_1^6*x_4^7*x_5^3 + 704*x_1^5*x_2*x_4^7*x_5^3 - 612*x_1^4*x_2^2*x_4^7*x_5^3 - 72*x_1^3*x_2^3*x_4^7*x_5^3 - 612*x_1^2*x_2^4*x_4^7*x_5^3 + 704*x_1*x_2^5*x_4^7*x_5^3 + 304*x_2^6*x_4^7*x_5^3 + 704*x_1^5*x_3*x_4^7*x_5^3 - 1080*x_1^4*x_2*x_3*x_4^7*x_5^3 - 776*x_1^3*x_2^2*x_3*x_4^7*x_5^3 - 776*x_1^2*x_2^3*x_3*x_4^7*x_5^3 - 1080*x_1*x_2^4*x_3*x_4^7*x_5^3 + 704*x_2^5*x_3*x_4^7*x_5^3 - 612*x_1^4*x_3^2*x_4^7*x_5^3 - 776*x_1^3*x_2*x_3^2*x_4^7*x_5^3 - 1032*x_1^2*x_2^2*x_3^2*x_4^7*x_5^3 - 776*x_1*x_2^3*x_3^2*x_4^7*x_5^3 - 612*x_2^4*x_3^2*x_4^7*x_5^3 - 72*x_1^3*x_3^3*x_4^7*x_5^3 - 776*x_1^2*x_2*x_3^3*x_4^7*x_5^3 - 776*x_1*x_2^2*x_3^3*x_4^7*x_5^3 - 72*x_2^3*x_3^3*x_4^7*x_5^3 - 612*x_1^2*x_3^4*x_4^7*x_5^3 - 1080*x_1*x_2*x_3^4*x_4^7*x_5^3 - 612*x_2^2*x_3^4*x_4^7*x_5^3 + 704*x_1*x_3^5*x_4^7*x_5^3 + 704*x_2*x_3^5*x_4^7*x_5^3 + 304*x_3^6*x_4^7*x_5^3 - 380*x_1^5*x_4^8*x_5^3 + 546*x_1^4*x_2*x_4^8*x_5^3 + 736*x_1^3*x_2^2*x_4^8*x_5^3 + 736*x_1^2*x_2^3*x_4^8*x_5^3 + 546*x_1*x_2^4*x_4^8*x_5^3 - 380*x_2^5*x_4^8*x_5^3 + 546*x_1^4*x_3*x_4^8*x_5^3 + 1468*x_1^3*x_2*x_3*x_4^8*x_5^3 + 1148*x_1^2*x_2^2*x_3*x_4^8*x_5^3 + 1468*x_1*x_2^3*x_3*x_4^8*x_5^3 + 546*x_2^4*x_3*x_4^8*x_5^3 + 736*x_1^3*x_3^2*x_4^8*x_5^3 + 1148*x_1^2*x_2*x_3^2*x_4^8*x_5^3 + 1148*x_1*x_2^2*x_3^2*x_4^8*x_5^3 + 736*x_2^3*x_3^2*x_4^8*x_5^3 + 736*x_1^2*x_3^3*x_4^8*x_5^3 + 1468*x_1*x_2*x_3^3*x_4^8*x_5^3 + 736*x_2^2*x_3^3*x_4^8*x_5^3 + 546*x_1*x_3^4*x_4^8*x_5^3 + 546*x_2*x_3^4*x_4^8*x_5^3 - 380*x_3^5*x_4^8*x_5^3 - 92*x_1^4*x_4^9*x_5^3 - 812*x_1^3*x_2*x_4^9*x_5^3 - 592*x_1^2*x_2^2*x_4^9*x_5^3 - 812*x_1*x_2^3*x_4^9*x_5^3 - 92*x_2^4*x_4^9*x_5^3 - 812*x_1^3*x_3*x_4^9*x_5^3 - 892*x_1^2*x_2*x_3*x_4^9*x_5^3 - 892*x_1*x_2^2*x_3*x_4^9*x_5^3 - 812*x_2^3*x_3*x_4^9*x_5^3 - 592*x_1^2*x_3^2*x_4^9*x_5^3 - 892*x_1*x_2*x_3^2*x_4^9*x_5^3 - 592*x_2^2*x_3^2*x_4^9*x_5^3 - 812*x_1*x_3^3*x_4^9*x_5^3 - 812*x_2*x_3^3*x_4^9*x_5^3 - 92*x_3^4*x_4^9*x_5^3 + 236*x_1^3*x_4^10*x_5^3 + 244*x_1^2*x_2*x_4^10*x_5^3 + 244*x_1*x_2^2*x_4^10*x_5^3 + 236*x_2^3*x_4^10*x_5^3 + 244*x_1^2*x_3*x_4^10*x_5^3 + 68*x_1*x_2*x_3*x_4^10*x_5^3 + 244*x_2^2*x_3*x_4^10*x_5^3 + 244*x_1*x_3^2*x_4^10*x_5^3 + 244*x_2*x_3^2*x_4^10*x_5^3 + 236*x_3^3*x_4^10*x_5^3 - 28*x_1^2*x_4^11*x_5^3 + 108*x_1*x_2*x_4^11*x_5^3 - 28*x_2^2*x_4^11*x_5^3 + 108*x_1*x_3*x_4^11*x_5^3 + 108*x_2*x_3*x_4^11*x_5^3 - 28*x_3^2*x_4^11*x_5^3 - 60*x_1*x_4^12*x_5^3 - 60*x_2*x_4^12*x_5^3 - 60*x_3*x_4^12*x_5^3 + 20*x_4^13*x_5^3 - 20*x_1^12*x_5^4 + 140*x_1^11*x_2*x_5^4 - 222*x_1^10*x_2^2*x_5^4 - 92*x_1^9*x_2^3*x_5^4 + 409*x_1^8*x_2^4*x_5^4 - 48*x_1^7*x_2^5*x_5^4 - 334*x_1^6*x_2^6*x_5^4 - 48*x_1^5*x_2^7*x_5^4 + 409*x_1^4*x_2^8*x_5^4 - 92*x_1^3*x_2^9*x_5^4 - 222*x_1^2*x_2^10*x_5^4 + 140*x_1*x_2^11*x_5^4 - 20*x_2^12*x_5^4 + 140*x_1^11*x_3*x_5^4 - 558*x_1^10*x_2*x_3*x_5^4 + 518*x_1^9*x_2^2*x_3*x_5^4 + 546*x_1^8*x_2^3*x_3*x_5^4 - 1396*x_1^7*x_2^4*x_3*x_5^4 + 750*x_1^6*x_2^5*x_3*x_5^4 + 750*x_1^5*x_2^6*x_3*x_5^4 - 1396*x_1^4*x_2^7*x_3*x_5^4 + 546*x_1^3*x_2^8*x_3*x_5^4 + 518*x_1^2*x_2^9*x_3*x_5^4 - 558*x_1*x_2^10*x_3*x_5^4 + 140*x_2^11*x_3*x_5^4 - 222*x_1^10*x_3^2*x_5^4 + 518*x_1^9*x_2*x_3^2*x_5^4 - 59*x_1^8*x_2^2*x_3^2*x_5^4 - 612*x_1^7*x_2^3*x_3^2*x_5^4 + 622*x_1^6*x_2^4*x_3^2*x_5^4 - 422*x_1^5*x_2^5*x_3^2*x_5^4 + 622*x_1^4*x_2^6*x_3^2*x_5^4 - 612*x_1^3*x_2^7*x_3^2*x_5^4 - 59*x_1^2*x_2^8*x_3^2*x_5^4 + 518*x_1*x_2^9*x_3^2*x_5^4 - 222*x_2^10*x_3^2*x_5^4 - 92*x_1^9*x_3^3*x_5^4 + 546*x_1^8*x_2*x_3^3*x_5^4 - 612*x_1^7*x_2^2*x_3^3*x_5^4 + 28*x_1^6*x_2^3*x_3^3*x_5^4 + 180*x_1^5*x_2^4*x_3^3*x_5^4 + 180*x_1^4*x_2^5*x_3^3*x_5^4 + 28*x_1^3*x_2^6*x_3^3*x_5^4 - 612*x_1^2*x_2^7*x_3^3*x_5^4 + 546*x_1*x_2^8*x_3^3*x_5^4 - 92*x_2^9*x_3^3*x_5^4 + 409*x_1^8*x_3^4*x_5^4 - 1396*x_1^7*x_2*x_3^4*x_5^4 + 622*x_1^6*x_2^2*x_3^4*x_5^4 + 180*x_1^5*x_2^3*x_3^4*x_5^4 - 675*x_1^4*x_2^4*x_3^4*x_5^4 + 180*x_1^3*x_2^5*x_3^4*x_5^4 + 622*x_1^2*x_2^6*x_3^4*x_5^4 - 1396*x_1*x_2^7*x_3^4*x_5^4 + 409*x_2^8*x_3^4*x_5^4 - 48*x_1^7*x_3^5*x_5^4 + 750*x_1^6*x_2*x_3^5*x_5^4 - 422*x_1^5*x_2^2*x_3^5*x_5^4 + 180*x_1^4*x_2^3*x_3^5*x_5^4 + 180*x_1^3*x_2^4*x_3^5*x_5^4 - 422*x_1^2*x_2^5*x_3^5*x_5^4 + 750*x_1*x_2^6*x_3^5*x_5^4 - 48*x_2^7*x_3^5*x_5^4 - 334*x_1^6*x_3^6*x_5^4 + 750*x_1^5*x_2*x_3^6*x_5^4 + 622*x_1^4*x_2^2*x_3^6*x_5^4 + 28*x_1^3*x_2^3*x_3^6*x_5^4 + 622*x_1^2*x_2^4*x_3^6*x_5^4 + 750*x_1*x_2^5*x_3^6*x_5^4 - 334*x_2^6*x_3^6*x_5^4 - 48*x_1^5*x_3^7*x_5^4 - 1396*x_1^4*x_2*x_3^7*x_5^4 - 612*x_1^3*x_2^2*x_3^7*x_5^4 - 612*x_1^2*x_2^3*x_3^7*x_5^4 - 1396*x_1*x_2^4*x_3^7*x_5^4 - 48*x_2^5*x_3^7*x_5^4 + 409*x_1^4*x_3^8*x_5^4 + 546*x_1^3*x_2*x_3^8*x_5^4 - 59*x_1^2*x_2^2*x_3^8*x_5^4 + 546*x_1*x_2^3*x_3^8*x_5^4 + 409*x_2^4*x_3^8*x_5^4 - 92*x_1^3*x_3^9*x_5^4 + 518*x_1^2*x_2*x_3^9*x_5^4 + 518*x_1*x_2^2*x_3^9*x_5^4 - 92*x_2^3*x_3^9*x_5^4 - 222*x_1^2*x_3^10*x_5^4 - 558*x_1*x_2*x_3^10*x_5^4 - 222*x_2^2*x_3^10*x_5^4 + 140*x_1*x_3^11*x_5^4 + 140*x_2*x_3^11*x_5^4 - 20*x_3^12*x_5^4 + 140*x_1^11*x_4*x_5^4 - 558*x_1^10*x_2*x_4*x_5^4 + 518*x_1^9*x_2^2*x_4*x_5^4 + 546*x_1^8*x_2^3*x_4*x_5^4 - 1396*x_1^7*x_2^4*x_4*x_5^4 + 750*x_1^6*x_2^5*x_4*x_5^4 + 750*x_1^5*x_2^6*x_4*x_5^4 - 1396*x_1^4*x_2^7*x_4*x_5^4 + 546*x_1^3*x_2^8*x_4*x_5^4 + 518*x_1^2*x_2^9*x_4*x_5^4 - 558*x_1*x_2^10*x_4*x_5^4 + 140*x_2^11*x_4*x_5^4 - 558*x_1^10*x_3*x_4*x_5^4 + 1168*x_1^9*x_2*x_3*x_4*x_5^4 - 242*x_1^8*x_2^2*x_3*x_4*x_5^4 - 1080*x_1^7*x_2^3*x_3*x_4*x_5^4 + 1028*x_1^6*x_2^4*x_3*x_4*x_5^4 - 596*x_1^5*x_2^5*x_3*x_4*x_5^4 + 1028*x_1^4*x_2^6*x_3*x_4*x_5^4 - 1080*x_1^3*x_2^7*x_3*x_4*x_5^4 - 242*x_1^2*x_2^8*x_3*x_4*x_5^4 + 1168*x_1*x_2^9*x_3*x_4*x_5^4 - 558*x_2^10*x_3*x_4*x_5^4 + 518*x_1^9*x_3^2*x_4*x_5^4 - 242*x_1^8*x_2*x_3^2*x_4*x_5^4 - 616*x_1^7*x_2^2*x_3^2*x_4*x_5^4 + 452*x_1^6*x_2^3*x_3^2*x_4*x_5^4 - 52*x_1^5*x_2^4*x_3^2*x_4*x_5^4 - 52*x_1^4*x_2^5*x_3^2*x_4*x_5^4 + 452*x_1^3*x_2^6*x_3^2*x_4*x_5^4 - 616*x_1^2*x_2^7*x_3^2*x_4*x_5^4 - 242*x_1*x_2^8*x_3^2*x_4*x_5^4 + 518*x_2^9*x_3^2*x_4*x_5^4 + 546*x_1^8*x_3^3*x_4*x_5^4 - 1080*x_1^7*x_2*x_3^3*x_4*x_5^4 + 452*x_1^6*x_2^2*x_3^3*x_4*x_5^4 - 28*x_1^5*x_2^3*x_3^3*x_4*x_5^4 - 28*x_1^3*x_2^5*x_3^3*x_4*x_5^4 + 452*x_1^2*x_2^6*x_3^3*x_4*x_5^4 - 1080*x_1*x_2^7*x_3^3*x_4*x_5^4 + 546*x_2^8*x_3^3*x_4*x_5^4 - 1396*x_1^7*x_3^4*x_4*x_5^4 + 1028*x_1^6*x_2*x_3^4*x_4*x_5^4 - 52*x_1^5*x_2^2*x_3^4*x_4*x_5^4 - 52*x_1^2*x_2^5*x_3^4*x_4*x_5^4 + 1028*x_1*x_2^6*x_3^4*x_4*x_5^4 - 1396*x_2^7*x_3^4*x_4*x_5^4 + 750*x_1^6*x_3^5*x_4*x_5^4 - 596*x_1^5*x_2*x_3^5*x_4*x_5^4 - 52*x_1^4*x_2^2*x_3^5*x_4*x_5^4 - 28*x_1^3*x_2^3*x_3^5*x_4*x_5^4 - 52*x_1^2*x_2^4*x_3^5*x_4*x_5^4 - 596*x_1*x_2^5*x_3^5*x_4*x_5^4 + 750*x_2^6*x_3^5*x_4*x_5^4 + 750*x_1^5*x_3^6*x_4*x_5^4 + 1028*x_1^4*x_2*x_3^6*x_4*x_5^4 + 452*x_1^3*x_2^2*x_3^6*x_4*x_5^4 + 452*x_1^2*x_2^3*x_3^6*x_4*x_5^4 + 1028*x_1*x_2^4*x_3^6*x_4*x_5^4 + 750*x_2^5*x_3^6*x_4*x_5^4 - 1396*x_1^4*x_3^7*x_4*x_5^4 - 1080*x_1^3*x_2*x_3^7*x_4*x_5^4 - 616*x_1^2*x_2^2*x_3^7*x_4*x_5^4 - 1080*x_1*x_2^3*x_3^7*x_4*x_5^4 - 1396*x_2^4*x_3^7*x_4*x_5^4 + 546*x_1^3*x_3^8*x_4*x_5^4 - 242*x_1^2*x_2*x_3^8*x_4*x_5^4 - 242*x_1*x_2^2*x_3^8*x_4*x_5^4 + 546*x_2^3*x_3^8*x_4*x_5^4 + 518*x_1^2*x_3^9*x_4*x_5^4 + 1168*x_1*x_2*x_3^9*x_4*x_5^4 + 518*x_2^2*x_3^9*x_4*x_5^4 - 558*x_1*x_3^10*x_4*x_5^4 - 558*x_2*x_3^10*x_4*x_5^4 + 140*x_3^11*x_4*x_5^4 - 222*x_1^10*x_4^2*x_5^4 + 518*x_1^9*x_2*x_4^2*x_5^4 - 59*x_1^8*x_2^2*x_4^2*x_5^4 - 612*x_1^7*x_2^3*x_4^2*x_5^4 + 622*x_1^6*x_2^4*x_4^2*x_5^4 - 422*x_1^5*x_2^5*x_4^2*x_5^4 + 622*x_1^4*x_2^6*x_4^2*x_5^4 - 612*x_1^3*x_2^7*x_4^2*x_5^4 - 59*x_1^2*x_2^8*x_4^2*x_5^4 + 518*x_1*x_2^9*x_4^2*x_5^4 - 222*x_2^10*x_4^2*x_5^4 + 518*x_1^9*x_3*x_4^2*x_5^4 - 242*x_1^8*x_2*x_3*x_4^2*x_5^4 - 616*x_1^7*x_2^2*x_3*x_4^2*x_5^4 + 452*x_1^6*x_2^3*x_3*x_4^2*x_5^4 - 52*x_1^5*x_2^4*x_3*x_4^2*x_5^4 - 52*x_1^4*x_2^5*x_3*x_4^2*x_5^4 + 452*x_1^3*x_2^6*x_3*x_4^2*x_5^4 - 616*x_1^2*x_2^7*x_3*x_4^2*x_5^4 - 242*x_1*x_2^8*x_3*x_4^2*x_5^4 + 518*x_2^9*x_3*x_4^2*x_5^4 - 59*x_1^8*x_3^2*x_4^2*x_5^4 - 616*x_1^7*x_2*x_3^2*x_4^2*x_5^4 + 330*x_1^6*x_2^2*x_3^2*x_4^2*x_5^4 - 240*x_1^5*x_2^3*x_3^2*x_4^2*x_5^4 + 390*x_1^4*x_2^4*x_3^2*x_4^2*x_5^4 - 240*x_1^3*x_2^5*x_3^2*x_4^2*x_5^4 + 330*x_1^2*x_2^6*x_3^2*x_4^2*x_5^4 - 616*x_1*x_2^7*x_3^2*x_4^2*x_5^4 - 59*x_2^8*x_3^2*x_4^2*x_5^4 - 612*x_1^7*x_3^3*x_4^2*x_5^4 + 452*x_1^6*x_2*x_3^3*x_4^2*x_5^4 - 240*x_1^5*x_2^2*x_3^3*x_4^2*x_5^4 + 140*x_1^4*x_2^3*x_3^3*x_4^2*x_5^4 + 140*x_1^3*x_2^4*x_3^3*x_4^2*x_5^4 - 240*x_1^2*x_2^5*x_3^3*x_4^2*x_5^4 + 452*x_1*x_2^6*x_3^3*x_4^2*x_5^4 - 612*x_2^7*x_3^3*x_4^2*x_5^4 + 622*x_1^6*x_3^4*x_4^2*x_5^4 - 52*x_1^5*x_2*x_3^4*x_4^2*x_5^4 + 390*x_1^4*x_2^2*x_3^4*x_4^2*x_5^4 + 140*x_1^3*x_2^3*x_3^4*x_4^2*x_5^4 + 390*x_1^2*x_2^4*x_3^4*x_4^2*x_5^4 - 52*x_1*x_2^5*x_3^4*x_4^2*x_5^4 + 622*x_2^6*x_3^4*x_4^2*x_5^4 - 422*x_1^5*x_3^5*x_4^2*x_5^4 - 52*x_1^4*x_2*x_3^5*x_4^2*x_5^4 - 240*x_1^3*x_2^2*x_3^5*x_4^2*x_5^4 - 240*x_1^2*x_2^3*x_3^5*x_4^2*x_5^4 - 52*x_1*x_2^4*x_3^5*x_4^2*x_5^4 - 422*x_2^5*x_3^5*x_4^2*x_5^4 + 622*x_1^4*x_3^6*x_4^2*x_5^4 + 452*x_1^3*x_2*x_3^6*x_4^2*x_5^4 + 330*x_1^2*x_2^2*x_3^6*x_4^2*x_5^4 + 452*x_1*x_2^3*x_3^6*x_4^2*x_5^4 + 622*x_2^4*x_3^6*x_4^2*x_5^4 - 612*x_1^3*x_3^7*x_4^2*x_5^4 - 616*x_1^2*x_2*x_3^7*x_4^2*x_5^4 - 616*x_1*x_2^2*x_3^7*x_4^2*x_5^4 - 612*x_2^3*x_3^7*x_4^2*x_5^4 - 59*x_1^2*x_3^8*x_4^2*x_5^4 - 242*x_1*x_2*x_3^8*x_4^2*x_5^4 - 59*x_2^2*x_3^8*x_4^2*x_5^4 + 518*x_1*x_3^9*x_4^2*x_5^4 + 518*x_2*x_3^9*x_4^2*x_5^4 - 222*x_3^10*x_4^2*x_5^4 - 92*x_1^9*x_4^3*x_5^4 + 546*x_1^8*x_2*x_4^3*x_5^4 - 612*x_1^7*x_2^2*x_4^3*x_5^4 + 28*x_1^6*x_2^3*x_4^3*x_5^4 + 180*x_1^5*x_2^4*x_4^3*x_5^4 + 180*x_1^4*x_2^5*x_4^3*x_5^4 + 28*x_1^3*x_2^6*x_4^3*x_5^4 - 612*x_1^2*x_2^7*x_4^3*x_5^4 + 546*x_1*x_2^8*x_4^3*x_5^4 - 92*x_2^9*x_4^3*x_5^4 + 546*x_1^8*x_3*x_4^3*x_5^4 - 1080*x_1^7*x_2*x_3*x_4^3*x_5^4 + 452*x_1^6*x_2^2*x_3*x_4^3*x_5^4 - 28*x_1^5*x_2^3*x_3*x_4^3*x_5^4 - 28*x_1^3*x_2^5*x_3*x_4^3*x_5^4 + 452*x_1^2*x_2^6*x_3*x_4^3*x_5^4 - 1080*x_1*x_2^7*x_3*x_4^3*x_5^4 + 546*x_2^8*x_3*x_4^3*x_5^4 - 612*x_1^7*x_3^2*x_4^3*x_5^4 + 452*x_1^6*x_2*x_3^2*x_4^3*x_5^4 - 240*x_1^5*x_2^2*x_3^2*x_4^3*x_5^4 + 140*x_1^4*x_2^3*x_3^2*x_4^3*x_5^4 + 140*x_1^3*x_2^4*x_3^2*x_4^3*x_5^4 - 240*x_1^2*x_2^5*x_3^2*x_4^3*x_5^4 + 452*x_1*x_2^6*x_3^2*x_4^3*x_5^4 - 612*x_2^7*x_3^2*x_4^3*x_5^4 + 28*x_1^6*x_3^3*x_4^3*x_5^4 - 28*x_1^5*x_2*x_3^3*x_4^3*x_5^4 + 140*x_1^4*x_2^2*x_3^3*x_4^3*x_5^4 + 140*x_1^2*x_2^4*x_3^3*x_4^3*x_5^4 - 28*x_1*x_2^5*x_3^3*x_4^3*x_5^4 + 28*x_2^6*x_3^3*x_4^3*x_5^4 + 180*x_1^5*x_3^4*x_4^3*x_5^4 + 140*x_1^3*x_2^2*x_3^4*x_4^3*x_5^4 + 140*x_1^2*x_2^3*x_3^4*x_4^3*x_5^4 + 180*x_2^5*x_3^4*x_4^3*x_5^4 + 180*x_1^4*x_3^5*x_4^3*x_5^4 - 28*x_1^3*x_2*x_3^5*x_4^3*x_5^4 - 240*x_1^2*x_2^2*x_3^5*x_4^3*x_5^4 - 28*x_1*x_2^3*x_3^5*x_4^3*x_5^4 + 180*x_2^4*x_3^5*x_4^3*x_5^4 + 28*x_1^3*x_3^6*x_4^3*x_5^4 + 452*x_1^2*x_2*x_3^6*x_4^3*x_5^4 + 452*x_1*x_2^2*x_3^6*x_4^3*x_5^4 + 28*x_2^3*x_3^6*x_4^3*x_5^4 - 612*x_1^2*x_3^7*x_4^3*x_5^4 - 1080*x_1*x_2*x_3^7*x_4^3*x_5^4 - 612*x_2^2*x_3^7*x_4^3*x_5^4 + 546*x_1*x_3^8*x_4^3*x_5^4 + 546*x_2*x_3^8*x_4^3*x_5^4 - 92*x_3^9*x_4^3*x_5^4 + 409*x_1^8*x_4^4*x_5^4 - 1396*x_1^7*x_2*x_4^4*x_5^4 + 622*x_1^6*x_2^2*x_4^4*x_5^4 + 180*x_1^5*x_2^3*x_4^4*x_5^4 - 675*x_1^4*x_2^4*x_4^4*x_5^4 + 180*x_1^3*x_2^5*x_4^4*x_5^4 + 622*x_1^2*x_2^6*x_4^4*x_5^4 - 1396*x_1*x_2^7*x_4^4*x_5^4 + 409*x_2^8*x_4^4*x_5^4 - 1396*x_1^7*x_3*x_4^4*x_5^4 + 1028*x_1^6*x_2*x_3*x_4^4*x_5^4 - 52*x_1^5*x_2^2*x_3*x_4^4*x_5^4 - 52*x_1^2*x_2^5*x_3*x_4^4*x_5^4 + 1028*x_1*x_2^6*x_3*x_4^4*x_5^4 - 1396*x_2^7*x_3*x_4^4*x_5^4 + 622*x_1^6*x_3^2*x_4^4*x_5^4 - 52*x_1^5*x_2*x_3^2*x_4^4*x_5^4 + 390*x_1^4*x_2^2*x_3^2*x_4^4*x_5^4 + 140*x_1^3*x_2^3*x_3^2*x_4^4*x_5^4 + 390*x_1^2*x_2^4*x_3^2*x_4^4*x_5^4 - 52*x_1*x_2^5*x_3^2*x_4^4*x_5^4 + 622*x_2^6*x_3^2*x_4^4*x_5^4 + 180*x_1^5*x_3^3*x_4^4*x_5^4 + 140*x_1^3*x_2^2*x_3^3*x_4^4*x_5^4 + 140*x_1^2*x_2^3*x_3^3*x_4^4*x_5^4 + 180*x_2^5*x_3^3*x_4^4*x_5^4 - 675*x_1^4*x_3^4*x_4^4*x_5^4 + 390*x_1^2*x_2^2*x_3^4*x_4^4*x_5^4 - 675*x_2^4*x_3^4*x_4^4*x_5^4 + 180*x_1^3*x_3^5*x_4^4*x_5^4 - 52*x_1^2*x_2*x_3^5*x_4^4*x_5^4 - 52*x_1*x_2^2*x_3^5*x_4^4*x_5^4 + 180*x_2^3*x_3^5*x_4^4*x_5^4 + 622*x_1^2*x_3^6*x_4^4*x_5^4 + 1028*x_1*x_2*x_3^6*x_4^4*x_5^4 + 622*x_2^2*x_3^6*x_4^4*x_5^4 - 1396*x_1*x_3^7*x_4^4*x_5^4 - 1396*x_2*x_3^7*x_4^4*x_5^4 + 409*x_3^8*x_4^4*x_5^4 - 48*x_1^7*x_4^5*x_5^4 + 750*x_1^6*x_2*x_4^5*x_5^4 - 422*x_1^5*x_2^2*x_4^5*x_5^4 + 180*x_1^4*x_2^3*x_4^5*x_5^4 + 180*x_1^3*x_2^4*x_4^5*x_5^4 - 422*x_1^2*x_2^5*x_4^5*x_5^4 + 750*x_1*x_2^6*x_4^5*x_5^4 - 48*x_2^7*x_4^5*x_5^4 + 750*x_1^6*x_3*x_4^5*x_5^4 - 596*x_1^5*x_2*x_3*x_4^5*x_5^4 - 52*x_1^4*x_2^2*x_3*x_4^5*x_5^4 - 28*x_1^3*x_2^3*x_3*x_4^5*x_5^4 - 52*x_1^2*x_2^4*x_3*x_4^5*x_5^4 - 596*x_1*x_2^5*x_3*x_4^5*x_5^4 + 750*x_2^6*x_3*x_4^5*x_5^4 - 422*x_1^5*x_3^2*x_4^5*x_5^4 - 52*x_1^4*x_2*x_3^2*x_4^5*x_5^4 - 240*x_1^3*x_2^2*x_3^2*x_4^5*x_5^4 - 240*x_1^2*x_2^3*x_3^2*x_4^5*x_5^4 - 52*x_1*x_2^4*x_3^2*x_4^5*x_5^4 - 422*x_2^5*x_3^2*x_4^5*x_5^4 + 180*x_1^4*x_3^3*x_4^5*x_5^4 - 28*x_1^3*x_2*x_3^3*x_4^5*x_5^4 - 240*x_1^2*x_2^2*x_3^3*x_4^5*x_5^4 - 28*x_1*x_2^3*x_3^3*x_4^5*x_5^4 + 180*x_2^4*x_3^3*x_4^5*x_5^4 + 180*x_1^3*x_3^4*x_4^5*x_5^4 - 52*x_1^2*x_2*x_3^4*x_4^5*x_5^4 - 52*x_1*x_2^2*x_3^4*x_4^5*x_5^4 + 180*x_2^3*x_3^4*x_4^5*x_5^4 - 422*x_1^2*x_3^5*x_4^5*x_5^4 - 596*x_1*x_2*x_3^5*x_4^5*x_5^4 - 422*x_2^2*x_3^5*x_4^5*x_5^4 + 750*x_1*x_3^6*x_4^5*x_5^4 + 750*x_2*x_3^6*x_4^5*x_5^4 - 48*x_3^7*x_4^5*x_5^4 - 334*x_1^6*x_4^6*x_5^4 + 750*x_1^5*x_2*x_4^6*x_5^4 + 622*x_1^4*x_2^2*x_4^6*x_5^4 + 28*x_1^3*x_2^3*x_4^6*x_5^4 + 622*x_1^2*x_2^4*x_4^6*x_5^4 + 750*x_1*x_2^5*x_4^6*x_5^4 - 334*x_2^6*x_4^6*x_5^4 + 750*x_1^5*x_3*x_4^6*x_5^4 + 1028*x_1^4*x_2*x_3*x_4^6*x_5^4 + 452*x_1^3*x_2^2*x_3*x_4^6*x_5^4 + 452*x_1^2*x_2^3*x_3*x_4^6*x_5^4 + 1028*x_1*x_2^4*x_3*x_4^6*x_5^4 + 750*x_2^5*x_3*x_4^6*x_5^4 + 622*x_1^4*x_3^2*x_4^6*x_5^4 + 452*x_1^3*x_2*x_3^2*x_4^6*x_5^4 + 330*x_1^2*x_2^2*x_3^2*x_4^6*x_5^4 + 452*x_1*x_2^3*x_3^2*x_4^6*x_5^4 + 622*x_2^4*x_3^2*x_4^6*x_5^4 + 28*x_1^3*x_3^3*x_4^6*x_5^4 + 452*x_1^2*x_2*x_3^3*x_4^6*x_5^4 + 452*x_1*x_2^2*x_3^3*x_4^6*x_5^4 + 28*x_2^3*x_3^3*x_4^6*x_5^4 + 622*x_1^2*x_3^4*x_4^6*x_5^4 + 1028*x_1*x_2*x_3^4*x_4^6*x_5^4 + 622*x_2^2*x_3^4*x_4^6*x_5^4 + 750*x_1*x_3^5*x_4^6*x_5^4 + 750*x_2*x_3^5*x_4^6*x_5^4 - 334*x_3^6*x_4^6*x_5^4 - 48*x_1^5*x_4^7*x_5^4 - 1396*x_1^4*x_2*x_4^7*x_5^4 - 612*x_1^3*x_2^2*x_4^7*x_5^4 - 612*x_1^2*x_2^3*x_4^7*x_5^4 - 1396*x_1*x_2^4*x_4^7*x_5^4 - 48*x_2^5*x_4^7*x_5^4 - 1396*x_1^4*x_3*x_4^7*x_5^4 - 1080*x_1^3*x_2*x_3*x_4^7*x_5^4 - 616*x_1^2*x_2^2*x_3*x_4^7*x_5^4 - 1080*x_1*x_2^3*x_3*x_4^7*x_5^4 - 1396*x_2^4*x_3*x_4^7*x_5^4 - 612*x_1^3*x_3^2*x_4^7*x_5^4 - 616*x_1^2*x_2*x_3^2*x_4^7*x_5^4 - 616*x_1*x_2^2*x_3^2*x_4^7*x_5^4 - 612*x_2^3*x_3^2*x_4^7*x_5^4 - 612*x_1^2*x_3^3*x_4^7*x_5^4 - 1080*x_1*x_2*x_3^3*x_4^7*x_5^4 - 612*x_2^2*x_3^3*x_4^7*x_5^4 - 1396*x_1*x_3^4*x_4^7*x_5^4 - 1396*x_2*x_3^4*x_4^7*x_5^4 - 48*x_3^5*x_4^7*x_5^4 + 409*x_1^4*x_4^8*x_5^4 + 546*x_1^3*x_2*x_4^8*x_5^4 - 59*x_1^2*x_2^2*x_4^8*x_5^4 + 546*x_1*x_2^3*x_4^8*x_5^4 + 409*x_2^4*x_4^8*x_5^4 + 546*x_1^3*x_3*x_4^8*x_5^4 - 242*x_1^2*x_2*x_3*x_4^8*x_5^4 - 242*x_1*x_2^2*x_3*x_4^8*x_5^4 + 546*x_2^3*x_3*x_4^8*x_5^4 - 59*x_1^2*x_3^2*x_4^8*x_5^4 - 242*x_1*x_2*x_3^2*x_4^8*x_5^4 - 59*x_2^2*x_3^2*x_4^8*x_5^4 + 546*x_1*x_3^3*x_4^8*x_5^4 + 546*x_2*x_3^3*x_4^8*x_5^4 + 409*x_3^4*x_4^8*x_5^4 - 92*x_1^3*x_4^9*x_5^4 + 518*x_1^2*x_2*x_4^9*x_5^4 + 518*x_1*x_2^2*x_4^9*x_5^4 - 92*x_2^3*x_4^9*x_5^4 + 518*x_1^2*x_3*x_4^9*x_5^4 + 1168*x_1*x_2*x_3*x_4^9*x_5^4 + 518*x_2^2*x_3*x_4^9*x_5^4 + 518*x_1*x_3^2*x_4^9*x_5^4 + 518*x_2*x_3^2*x_4^9*x_5^4 - 92*x_3^3*x_4^9*x_5^4 - 222*x_1^2*x_4^10*x_5^4 - 558*x_1*x_2*x_4^10*x_5^4 - 222*x_2^2*x_4^10*x_5^4 - 558*x_1*x_3*x_4^10*x_5^4 - 558*x_2*x_3*x_4^10*x_5^4 - 222*x_3^2*x_4^10*x_5^4 + 140*x_1*x_4^11*x_5^4 + 140*x_2*x_4^11*x_5^4 + 140*x_3*x_4^11*x_5^4 - 20*x_4^12*x_5^4 - 36*x_1^11*x_5^5 + 4*x_1^10*x_2*x_5^5 + 292*x_1^9*x_2^2*x_5^5 - 380*x_1^8*x_2^3*x_5^5 - 48*x_1^7*x_2^4*x_5^5 + 168*x_1^6*x_2^5*x_5^5 + 168*x_1^5*x_2^6*x_5^5 - 48*x_1^4*x_2^7*x_5^5 - 380*x_1^3*x_2^8*x_5^5 + 292*x_1^2*x_2^9*x_5^5 + 4*x_1*x_2^10*x_5^5 - 36*x_2^11*x_5^5 + 4*x_1^10*x_3*x_5^5 + 468*x_1^9*x_2*x_3*x_5^5 - 1188*x_1^8*x_2^2*x_3*x_5^5 + 704*x_1^7*x_2^3*x_3*x_5^5 + 750*x_1^6*x_2^4*x_3*x_5^5 - 1512*x_1^5*x_2^5*x_3*x_5^5 + 750*x_1^4*x_2^6*x_3*x_5^5 + 704*x_1^3*x_2^7*x_3*x_5^5 - 1188*x_1^2*x_2^8*x_3*x_5^5 + 468*x_1*x_2^9*x_3*x_5^5 + 4*x_2^10*x_3*x_5^5 + 292*x_1^9*x_3^2*x_5^5 - 1188*x_1^8*x_2*x_3^2*x_5^5 + 952*x_1^7*x_2^2*x_3^2*x_5^5 + 252*x_1^6*x_2^3*x_3^2*x_5^5 - 422*x_1^5*x_2^4*x_3^2*x_5^5 - 422*x_1^4*x_2^5*x_3^2*x_5^5 + 252*x_1^3*x_2^6*x_3^2*x_5^5 + 952*x_1^2*x_2^7*x_3^2*x_5^5 - 1188*x_1*x_2^8*x_3^2*x_5^5 + 292*x_2^9*x_3^2*x_5^5 - 380*x_1^8*x_3^3*x_5^5 + 704*x_1^7*x_2*x_3^3*x_5^5 + 252*x_1^6*x_2^2*x_3^3*x_5^5 - 316*x_1^5*x_2^3*x_3^3*x_5^5 + 180*x_1^4*x_2^4*x_3^3*x_5^5 - 316*x_1^3*x_2^5*x_3^3*x_5^5 + 252*x_1^2*x_2^6*x_3^3*x_5^5 + 704*x_1*x_2^7*x_3^3*x_5^5 - 380*x_2^8*x_3^3*x_5^5 - 48*x_1^7*x_3^4*x_5^5 + 750*x_1^6*x_2*x_3^4*x_5^5 - 422*x_1^5*x_2^2*x_3^4*x_5^5 + 180*x_1^4*x_2^3*x_3^4*x_5^5 + 180*x_1^3*x_2^4*x_3^4*x_5^5 - 422*x_1^2*x_2^5*x_3^4*x_5^5 + 750*x_1*x_2^6*x_3^4*x_5^5 - 48*x_2^7*x_3^4*x_5^5 + 168*x_1^6*x_3^5*x_5^5 - 1512*x_1^5*x_2*x_3^5*x_5^5 - 422*x_1^4*x_2^2*x_3^5*x_5^5 - 316*x_1^3*x_2^3*x_3^5*x_5^5 - 422*x_1^2*x_2^4*x_3^5*x_5^5 - 1512*x_1*x_2^5*x_3^5*x_5^5 + 168*x_2^6*x_3^5*x_5^5 + 168*x_1^5*x_3^6*x_5^5 + 750*x_1^4*x_2*x_3^6*x_5^5 + 252*x_1^3*x_2^2*x_3^6*x_5^5 + 252*x_1^2*x_2^3*x_3^6*x_5^5 + 750*x_1*x_2^4*x_3^6*x_5^5 + 168*x_2^5*x_3^6*x_5^5 - 48*x_1^4*x_3^7*x_5^5 + 704*x_1^3*x_2*x_3^7*x_5^5 + 952*x_1^2*x_2^2*x_3^7*x_5^5 + 704*x_1*x_2^3*x_3^7*x_5^5 - 48*x_2^4*x_3^7*x_5^5 - 380*x_1^3*x_3^8*x_5^5 - 1188*x_1^2*x_2*x_3^8*x_5^5 - 1188*x_1*x_2^2*x_3^8*x_5^5 - 380*x_2^3*x_3^8*x_5^5 + 292*x_1^2*x_3^9*x_5^5 + 468*x_1*x_2*x_3^9*x_5^5 + 292*x_2^2*x_3^9*x_5^5 + 4*x_1*x_3^10*x_5^5 + 4*x_2*x_3^10*x_5^5 - 36*x_3^11*x_5^5 + 4*x_1^10*x_4*x_5^5 + 468*x_1^9*x_2*x_4*x_5^5 - 1188*x_1^8*x_2^2*x_4*x_5^5 + 704*x_1^7*x_2^3*x_4*x_5^5 + 750*x_1^6*x_2^4*x_4*x_5^5 - 1512*x_1^5*x_2^5*x_4*x_5^5 + 750*x_1^4*x_2^6*x_4*x_5^5 + 704*x_1^3*x_2^7*x_4*x_5^5 - 1188*x_1^2*x_2^8*x_4*x_5^5 + 468*x_1*x_2^9*x_4*x_5^5 + 4*x_2^10*x_4*x_5^5 + 468*x_1^9*x_3*x_4*x_5^5 - 1812*x_1^8*x_2*x_3*x_4*x_5^5 + 1528*x_1^7*x_2^2*x_3*x_4*x_5^5 + 328*x_1^6*x_2^3*x_3*x_4*x_5^5 - 596*x_1^5*x_2^4*x_3*x_4*x_5^5 - 596*x_1^4*x_2^5*x_3*x_4*x_5^5 + 328*x_1^3*x_2^6*x_3*x_4*x_5^5 + 1528*x_1^2*x_2^7*x_3*x_4*x_5^5 - 1812*x_1*x_2^8*x_3*x_4*x_5^5 + 468*x_2^9*x_3*x_4*x_5^5 - 1188*x_1^8*x_3^2*x_4*x_5^5 + 1528*x_1^7*x_2*x_3^2*x_4*x_5^5 + 188*x_1^6*x_2^2*x_3^2*x_4*x_5^5 - 388*x_1^5*x_2^3*x_3^2*x_4*x_5^5 - 52*x_1^4*x_2^4*x_3^2*x_4*x_5^5 - 388*x_1^3*x_2^5*x_3^2*x_4*x_5^5 + 188*x_1^2*x_2^6*x_3^2*x_4*x_5^5 + 1528*x_1*x_2^7*x_3^2*x_4*x_5^5 - 1188*x_2^8*x_3^2*x_4*x_5^5 + 704*x_1^7*x_3^3*x_4*x_5^5 + 328*x_1^6*x_2*x_3^3*x_4*x_5^5 - 388*x_1^5*x_2^2*x_3^3*x_4*x_5^5 - 28*x_1^4*x_2^3*x_3^3*x_4*x_5^5 - 28*x_1^3*x_2^4*x_3^3*x_4*x_5^5 - 388*x_1^2*x_2^5*x_3^3*x_4*x_5^5 + 328*x_1*x_2^6*x_3^3*x_4*x_5^5 + 704*x_2^7*x_3^3*x_4*x_5^5 + 750*x_1^6*x_3^4*x_4*x_5^5 - 596*x_1^5*x_2*x_3^4*x_4*x_5^5 - 52*x_1^4*x_2^2*x_3^4*x_4*x_5^5 - 28*x_1^3*x_2^3*x_3^4*x_4*x_5^5 - 52*x_1^2*x_2^4*x_3^4*x_4*x_5^5 - 596*x_1*x_2^5*x_3^4*x_4*x_5^5 + 750*x_2^6*x_3^4*x_4*x_5^5 - 1512*x_1^5*x_3^5*x_4*x_5^5 - 596*x_1^4*x_2*x_3^5*x_4*x_5^5 - 388*x_1^3*x_2^2*x_3^5*x_4*x_5^5 - 388*x_1^2*x_2^3*x_3^5*x_4*x_5^5 - 596*x_1*x_2^4*x_3^5*x_4*x_5^5 - 1512*x_2^5*x_3^5*x_4*x_5^5 + 750*x_1^4*x_3^6*x_4*x_5^5 + 328*x_1^3*x_2*x_3^6*x_4*x_5^5 + 188*x_1^2*x_2^2*x_3^6*x_4*x_5^5 + 328*x_1*x_2^3*x_3^6*x_4*x_5^5 + 750*x_2^4*x_3^6*x_4*x_5^5 + 704*x_1^3*x_3^7*x_4*x_5^5 + 1528*x_1^2*x_2*x_3^7*x_4*x_5^5 + 1528*x_1*x_2^2*x_3^7*x_4*x_5^5 + 704*x_2^3*x_3^7*x_4*x_5^5 - 1188*x_1^2*x_3^8*x_4*x_5^5 - 1812*x_1*x_2*x_3^8*x_4*x_5^5 - 1188*x_2^2*x_3^8*x_4*x_5^5 + 468*x_1*x_3^9*x_4*x_5^5 + 468*x_2*x_3^9*x_4*x_5^5 + 4*x_3^10*x_4*x_5^5 + 292*x_1^9*x_4^2*x_5^5 - 1188*x_1^8*x_2*x_4^2*x_5^5 + 952*x_1^7*x_2^2*x_4^2*x_5^5 + 252*x_1^6*x_2^3*x_4^2*x_5^5 - 422*x_1^5*x_2^4*x_4^2*x_5^5 - 422*x_1^4*x_2^5*x_4^2*x_5^5 + 252*x_1^3*x_2^6*x_4^2*x_5^5 + 952*x_1^2*x_2^7*x_4^2*x_5^5 - 1188*x_1*x_2^8*x_4^2*x_5^5 + 292*x_2^9*x_4^2*x_5^5 - 1188*x_1^8*x_3*x_4^2*x_5^5 + 1528*x_1^7*x_2*x_3*x_4^2*x_5^5 + 188*x_1^6*x_2^2*x_3*x_4^2*x_5^5 - 388*x_1^5*x_2^3*x_3*x_4^2*x_5^5 - 52*x_1^4*x_2^4*x_3*x_4^2*x_5^5 - 388*x_1^3*x_2^5*x_3*x_4^2*x_5^5 + 188*x_1^2*x_2^6*x_3*x_4^2*x_5^5 + 1528*x_1*x_2^7*x_3*x_4^2*x_5^5 - 1188*x_2^8*x_3*x_4^2*x_5^5 + 952*x_1^7*x_3^2*x_4^2*x_5^5 + 188*x_1^6*x_2*x_3^2*x_4^2*x_5^5 + 36*x_1^5*x_2^2*x_3^2*x_4^2*x_5^5 - 240*x_1^4*x_2^3*x_3^2*x_4^2*x_5^5 - 240*x_1^3*x_2^4*x_3^2*x_4^2*x_5^5 + 36*x_1^2*x_2^5*x_3^2*x_4^2*x_5^5 + 188*x_1*x_2^6*x_3^2*x_4^2*x_5^5 + 952*x_2^7*x_3^2*x_4^2*x_5^5 + 252*x_1^6*x_3^3*x_4^2*x_5^5 - 388*x_1^5*x_2*x_3^3*x_4^2*x_5^5 - 240*x_1^4*x_2^2*x_3^3*x_4^2*x_5^5 - 336*x_1^3*x_2^3*x_3^3*x_4^2*x_5^5 - 240*x_1^2*x_2^4*x_3^3*x_4^2*x_5^5 - 388*x_1*x_2^5*x_3^3*x_4^2*x_5^5 + 252*x_2^6*x_3^3*x_4^2*x_5^5 - 422*x_1^5*x_3^4*x_4^2*x_5^5 - 52*x_1^4*x_2*x_3^4*x_4^2*x_5^5 - 240*x_1^3*x_2^2*x_3^4*x_4^2*x_5^5 - 240*x_1^2*x_2^3*x_3^4*x_4^2*x_5^5 - 52*x_1*x_2^4*x_3^4*x_4^2*x_5^5 - 422*x_2^5*x_3^4*x_4^2*x_5^5 - 422*x_1^4*x_3^5*x_4^2*x_5^5 - 388*x_1^3*x_2*x_3^5*x_4^2*x_5^5 + 36*x_1^2*x_2^2*x_3^5*x_4^2*x_5^5 - 388*x_1*x_2^3*x_3^5*x_4^2*x_5^5 - 422*x_2^4*x_3^5*x_4^2*x_5^5 + 252*x_1^3*x_3^6*x_4^2*x_5^5 + 188*x_1^2*x_2*x_3^6*x_4^2*x_5^5 + 188*x_1*x_2^2*x_3^6*x_4^2*x_5^5 + 252*x_2^3*x_3^6*x_4^2*x_5^5 + 952*x_1^2*x_3^7*x_4^2*x_5^5 + 1528*x_1*x_2*x_3^7*x_4^2*x_5^5 + 952*x_2^2*x_3^7*x_4^2*x_5^5 - 1188*x_1*x_3^8*x_4^2*x_5^5 - 1188*x_2*x_3^8*x_4^2*x_5^5 + 292*x_3^9*x_4^2*x_5^5 - 380*x_1^8*x_4^3*x_5^5 + 704*x_1^7*x_2*x_4^3*x_5^5 + 252*x_1^6*x_2^2*x_4^3*x_5^5 - 316*x_1^5*x_2^3*x_4^3*x_5^5 + 180*x_1^4*x_2^4*x_4^3*x_5^5 - 316*x_1^3*x_2^5*x_4^3*x_5^5 + 252*x_1^2*x_2^6*x_4^3*x_5^5 + 704*x_1*x_2^7*x_4^3*x_5^5 - 380*x_2^8*x_4^3*x_5^5 + 704*x_1^7*x_3*x_4^3*x_5^5 + 328*x_1^6*x_2*x_3*x_4^3*x_5^5 - 388*x_1^5*x_2^2*x_3*x_4^3*x_5^5 - 28*x_1^4*x_2^3*x_3*x_4^3*x_5^5 - 28*x_1^3*x_2^4*x_3*x_4^3*x_5^5 - 388*x_1^2*x_2^5*x_3*x_4^3*x_5^5 + 328*x_1*x_2^6*x_3*x_4^3*x_5^5 + 704*x_2^7*x_3*x_4^3*x_5^5 + 252*x_1^6*x_3^2*x_4^3*x_5^5 - 388*x_1^5*x_2*x_3^2*x_4^3*x_5^5 - 240*x_1^4*x_2^2*x_3^2*x_4^3*x_5^5 - 336*x_1^3*x_2^3*x_3^2*x_4^3*x_5^5 - 240*x_1^2*x_2^4*x_3^2*x_4^3*x_5^5 - 388*x_1*x_2^5*x_3^2*x_4^3*x_5^5 + 252*x_2^6*x_3^2*x_4^3*x_5^5 - 316*x_1^5*x_3^3*x_4^3*x_5^5 - 28*x_1^4*x_2*x_3^3*x_4^3*x_5^5 - 336*x_1^3*x_2^2*x_3^3*x_4^3*x_5^5 - 336*x_1^2*x_2^3*x_3^3*x_4^3*x_5^5 - 28*x_1*x_2^4*x_3^3*x_4^3*x_5^5 - 316*x_2^5*x_3^3*x_4^3*x_5^5 + 180*x_1^4*x_3^4*x_4^3*x_5^5 - 28*x_1^3*x_2*x_3^4*x_4^3*x_5^5 - 240*x_1^2*x_2^2*x_3^4*x_4^3*x_5^5 - 28*x_1*x_2^3*x_3^4*x_4^3*x_5^5 + 180*x_2^4*x_3^4*x_4^3*x_5^5 - 316*x_1^3*x_3^5*x_4^3*x_5^5 - 388*x_1^2*x_2*x_3^5*x_4^3*x_5^5 - 388*x_1*x_2^2*x_3^5*x_4^3*x_5^5 - 316*x_2^3*x_3^5*x_4^3*x_5^5 + 252*x_1^2*x_3^6*x_4^3*x_5^5 + 328*x_1*x_2*x_3^6*x_4^3*x_5^5 + 252*x_2^2*x_3^6*x_4^3*x_5^5 + 704*x_1*x_3^7*x_4^3*x_5^5 + 704*x_2*x_3^7*x_4^3*x_5^5 - 380*x_3^8*x_4^3*x_5^5 - 48*x_1^7*x_4^4*x_5^5 + 750*x_1^6*x_2*x_4^4*x_5^5 - 422*x_1^5*x_2^2*x_4^4*x_5^5 + 180*x_1^4*x_2^3*x_4^4*x_5^5 + 180*x_1^3*x_2^4*x_4^4*x_5^5 - 422*x_1^2*x_2^5*x_4^4*x_5^5 + 750*x_1*x_2^6*x_4^4*x_5^5 - 48*x_2^7*x_4^4*x_5^5 + 750*x_1^6*x_3*x_4^4*x_5^5 - 596*x_1^5*x_2*x_3*x_4^4*x_5^5 - 52*x_1^4*x_2^2*x_3*x_4^4*x_5^5 - 28*x_1^3*x_2^3*x_3*x_4^4*x_5^5 - 52*x_1^2*x_2^4*x_3*x_4^4*x_5^5 - 596*x_1*x_2^5*x_3*x_4^4*x_5^5 + 750*x_2^6*x_3*x_4^4*x_5^5 - 422*x_1^5*x_3^2*x_4^4*x_5^5 - 52*x_1^4*x_2*x_3^2*x_4^4*x_5^5 - 240*x_1^3*x_2^2*x_3^2*x_4^4*x_5^5 - 240*x_1^2*x_2^3*x_3^2*x_4^4*x_5^5 - 52*x_1*x_2^4*x_3^2*x_4^4*x_5^5 - 422*x_2^5*x_3^2*x_4^4*x_5^5 + 180*x_1^4*x_3^3*x_4^4*x_5^5 - 28*x_1^3*x_2*x_3^3*x_4^4*x_5^5 - 240*x_1^2*x_2^2*x_3^3*x_4^4*x_5^5 - 28*x_1*x_2^3*x_3^3*x_4^4*x_5^5 + 180*x_2^4*x_3^3*x_4^4*x_5^5 + 180*x_1^3*x_3^4*x_4^4*x_5^5 - 52*x_1^2*x_2*x_3^4*x_4^4*x_5^5 - 52*x_1*x_2^2*x_3^4*x_4^4*x_5^5 + 180*x_2^3*x_3^4*x_4^4*x_5^5 - 422*x_1^2*x_3^5*x_4^4*x_5^5 - 596*x_1*x_2*x_3^5*x_4^4*x_5^5 - 422*x_2^2*x_3^5*x_4^4*x_5^5 + 750*x_1*x_3^6*x_4^4*x_5^5 + 750*x_2*x_3^6*x_4^4*x_5^5 - 48*x_3^7*x_4^4*x_5^5 + 168*x_1^6*x_4^5*x_5^5 - 1512*x_1^5*x_2*x_4^5*x_5^5 - 422*x_1^4*x_2^2*x_4^5*x_5^5 - 316*x_1^3*x_2^3*x_4^5*x_5^5 - 422*x_1^2*x_2^4*x_4^5*x_5^5 - 1512*x_1*x_2^5*x_4^5*x_5^5 + 168*x_2^6*x_4^5*x_5^5 - 1512*x_1^5*x_3*x_4^5*x_5^5 - 596*x_1^4*x_2*x_3*x_4^5*x_5^5 - 388*x_1^3*x_2^2*x_3*x_4^5*x_5^5 - 388*x_1^2*x_2^3*x_3*x_4^5*x_5^5 - 596*x_1*x_2^4*x_3*x_4^5*x_5^5 - 1512*x_2^5*x_3*x_4^5*x_5^5 - 422*x_1^4*x_3^2*x_4^5*x_5^5 - 388*x_1^3*x_2*x_3^2*x_4^5*x_5^5 + 36*x_1^2*x_2^2*x_3^2*x_4^5*x_5^5 - 388*x_1*x_2^3*x_3^2*x_4^5*x_5^5 - 422*x_2^4*x_3^2*x_4^5*x_5^5 - 316*x_1^3*x_3^3*x_4^5*x_5^5 - 388*x_1^2*x_2*x_3^3*x_4^5*x_5^5 - 388*x_1*x_2^2*x_3^3*x_4^5*x_5^5 - 316*x_2^3*x_3^3*x_4^5*x_5^5 - 422*x_1^2*x_3^4*x_4^5*x_5^5 - 596*x_1*x_2*x_3^4*x_4^5*x_5^5 - 422*x_2^2*x_3^4*x_4^5*x_5^5 - 1512*x_1*x_3^5*x_4^5*x_5^5 - 1512*x_2*x_3^5*x_4^5*x_5^5 + 168*x_3^6*x_4^5*x_5^5 + 168*x_1^5*x_4^6*x_5^5 + 750*x_1^4*x_2*x_4^6*x_5^5 + 252*x_1^3*x_2^2*x_4^6*x_5^5 + 252*x_1^2*x_2^3*x_4^6*x_5^5 + 750*x_1*x_2^4*x_4^6*x_5^5 + 168*x_2^5*x_4^6*x_5^5 + 750*x_1^4*x_3*x_4^6*x_5^5 + 328*x_1^3*x_2*x_3*x_4^6*x_5^5 + 188*x_1^2*x_2^2*x_3*x_4^6*x_5^5 + 328*x_1*x_2^3*x_3*x_4^6*x_5^5 + 750*x_2^4*x_3*x_4^6*x_5^5 + 252*x_1^3*x_3^2*x_4^6*x_5^5 + 188*x_1^2*x_2*x_3^2*x_4^6*x_5^5 + 188*x_1*x_2^2*x_3^2*x_4^6*x_5^5 + 252*x_2^3*x_3^2*x_4^6*x_5^5 + 252*x_1^2*x_3^3*x_4^6*x_5^5 + 328*x_1*x_2*x_3^3*x_4^6*x_5^5 + 252*x_2^2*x_3^3*x_4^6*x_5^5 + 750*x_1*x_3^4*x_4^6*x_5^5 + 750*x_2*x_3^4*x_4^6*x_5^5 + 168*x_3^5*x_4^6*x_5^5 - 48*x_1^4*x_4^7*x_5^5 + 704*x_1^3*x_2*x_4^7*x_5^5 + 952*x_1^2*x_2^2*x_4^7*x_5^5 + 704*x_1*x_2^3*x_4^7*x_5^5 - 48*x_2^4*x_4^7*x_5^5 + 704*x_1^3*x_3*x_4^7*x_5^5 + 1528*x_1^2*x_2*x_3*x_4^7*x_5^5 + 1528*x_1*x_2^2*x_3*x_4^7*x_5^5 + 704*x_2^3*x_3*x_4^7*x_5^5 + 952*x_1^2*x_3^2*x_4^7*x_5^5 + 1528*x_1*x_2*x_3^2*x_4^7*x_5^5 + 952*x_2^2*x_3^2*x_4^7*x_5^5 + 704*x_1*x_3^3*x_4^7*x_5^5 + 704*x_2*x_3^3*x_4^7*x_5^5 - 48*x_3^4*x_4^7*x_5^5 - 380*x_1^3*x_4^8*x_5^5 - 1188*x_1^2*x_2*x_4^8*x_5^5 - 1188*x_1*x_2^2*x_4^8*x_5^5 - 380*x_2^3*x_4^8*x_5^5 - 1188*x_1^2*x_3*x_4^8*x_5^5 - 1812*x_1*x_2*x_3*x_4^8*x_5^5 - 1188*x_2^2*x_3*x_4^8*x_5^5 - 1188*x_1*x_3^2*x_4^8*x_5^5 - 1188*x_2*x_3^2*x_4^8*x_5^5 - 380*x_3^3*x_4^8*x_5^5 + 292*x_1^2*x_4^9*x_5^5 + 468*x_1*x_2*x_4^9*x_5^5 + 292*x_2^2*x_4^9*x_5^5 + 468*x_1*x_3*x_4^9*x_5^5 + 468*x_2*x_3*x_4^9*x_5^5 + 292*x_3^2*x_4^9*x_5^5 + 4*x_1*x_4^10*x_5^5 + 4*x_2*x_4^10*x_5^5 + 4*x_3*x_4^10*x_5^5 - 36*x_4^11*x_5^5 + 64*x_1^10*x_5^6 - 260*x_1^9*x_2*x_5^6 + 148*x_1^8*x_2^2*x_5^6 + 304*x_1^7*x_2^3*x_5^6 - 334*x_1^6*x_2^4*x_5^6 + 168*x_1^5*x_2^5*x_5^6 - 334*x_1^4*x_2^6*x_5^6 + 304*x_1^3*x_2^7*x_5^6 + 148*x_1^2*x_2^8*x_5^6 - 260*x_1*x_2^9*x_5^6 + 64*x_2^10*x_5^6 - 260*x_1^9*x_3*x_5^6 + 392*x_1^8*x_2*x_3*x_5^6 + 660*x_1^7*x_2^2*x_3*x_5^6 - 1460*x_1^6*x_2^3*x_3*x_5^6 + 750*x_1^5*x_2^4*x_3*x_5^6 + 750*x_1^4*x_2^5*x_3*x_5^6 - 1460*x_1^3*x_2^6*x_3*x_5^6 + 660*x_1^2*x_2^7*x_3*x_5^6 + 392*x_1*x_2^8*x_3*x_5^6 - 260*x_2^9*x_3*x_5^6 + 148*x_1^8*x_3^2*x_5^6 + 660*x_1^7*x_2*x_3^2*x_5^6 - 1394*x_1^6*x_2^2*x_3^2*x_5^6 + 252*x_1^5*x_2^3*x_3^2*x_5^6 + 622*x_1^4*x_2^4*x_3^2*x_5^6 + 252*x_1^3*x_2^5*x_3^2*x_5^6 - 1394*x_1^2*x_2^6*x_3^2*x_5^6 + 660*x_1*x_2^7*x_3^2*x_5^6 + 148*x_2^8*x_3^2*x_5^6 + 304*x_1^7*x_3^3*x_5^6 - 1460*x_1^6*x_2*x_3^3*x_5^6 + 252*x_1^5*x_2^2*x_3^3*x_5^6 + 28*x_1^4*x_2^3*x_3^3*x_5^6 + 28*x_1^3*x_2^4*x_3^3*x_5^6 + 252*x_1^2*x_2^5*x_3^3*x_5^6 - 1460*x_1*x_2^6*x_3^3*x_5^6 + 304*x_2^7*x_3^3*x_5^6 - 334*x_1^6*x_3^4*x_5^6 + 750*x_1^5*x_2*x_3^4*x_5^6 + 622*x_1^4*x_2^2*x_3^4*x_5^6 + 28*x_1^3*x_2^3*x_3^4*x_5^6 + 622*x_1^2*x_2^4*x_3^4*x_5^6 + 750*x_1*x_2^5*x_3^4*x_5^6 - 334*x_2^6*x_3^4*x_5^6 + 168*x_1^5*x_3^5*x_5^6 + 750*x_1^4*x_2*x_3^5*x_5^6 + 252*x_1^3*x_2^2*x_3^5*x_5^6 + 252*x_1^2*x_2^3*x_3^5*x_5^6 + 750*x_1*x_2^4*x_3^5*x_5^6 + 168*x_2^5*x_3^5*x_5^6 - 334*x_1^4*x_3^6*x_5^6 - 1460*x_1^3*x_2*x_3^6*x_5^6 - 1394*x_1^2*x_2^2*x_3^6*x_5^6 - 1460*x_1*x_2^3*x_3^6*x_5^6 - 334*x_2^4*x_3^6*x_5^6 + 304*x_1^3*x_3^7*x_5^6 + 660*x_1^2*x_2*x_3^7*x_5^6 + 660*x_1*x_2^2*x_3^7*x_5^6 + 304*x_2^3*x_3^7*x_5^6 + 148*x_1^2*x_3^8*x_5^6 + 392*x_1*x_2*x_3^8*x_5^6 + 148*x_2^2*x_3^8*x_5^6 - 260*x_1*x_3^9*x_5^6 - 260*x_2*x_3^9*x_5^6 + 64*x_3^10*x_5^6 - 260*x_1^9*x_4*x_5^6 + 392*x_1^8*x_2*x_4*x_5^6 + 660*x_1^7*x_2^2*x_4*x_5^6 - 1460*x_1^6*x_2^3*x_4*x_5^6 + 750*x_1^5*x_2^4*x_4*x_5^6 + 750*x_1^4*x_2^5*x_4*x_5^6 - 1460*x_1^3*x_2^6*x_4*x_5^6 + 660*x_1^2*x_2^7*x_4*x_5^6 + 392*x_1*x_2^8*x_4*x_5^6 - 260*x_2^9*x_4*x_5^6 + 392*x_1^8*x_3*x_4*x_5^6 + 888*x_1^7*x_2*x_3*x_4*x_5^6 - 2072*x_1^6*x_2^2*x_3*x_4*x_5^6 + 328*x_1^5*x_2^3*x_3*x_4*x_5^6 + 1028*x_1^4*x_2^4*x_3*x_4*x_5^6 + 328*x_1^3*x_2^5*x_3*x_4*x_5^6 - 2072*x_1^2*x_2^6*x_3*x_4*x_5^6 + 888*x_1*x_2^7*x_3*x_4*x_5^6 + 392*x_2^8*x_3*x_4*x_5^6 + 660*x_1^7*x_3^2*x_4*x_5^6 - 2072*x_1^6*x_2*x_3^2*x_4*x_5^6 + 188*x_1^5*x_2^2*x_3^2*x_4*x_5^6 + 452*x_1^4*x_2^3*x_3^2*x_4*x_5^6 + 452*x_1^3*x_2^4*x_3^2*x_4*x_5^6 + 188*x_1^2*x_2^5*x_3^2*x_4*x_5^6 - 2072*x_1*x_2^6*x_3^2*x_4*x_5^6 + 660*x_2^7*x_3^2*x_4*x_5^6 - 1460*x_1^6*x_3^3*x_4*x_5^6 + 328*x_1^5*x_2*x_3^3*x_4*x_5^6 + 452*x_1^4*x_2^2*x_3^3*x_4*x_5^6 + 168*x_1^3*x_2^3*x_3^3*x_4*x_5^6 + 452*x_1^2*x_2^4*x_3^3*x_4*x_5^6 + 328*x_1*x_2^5*x_3^3*x_4*x_5^6 - 1460*x_2^6*x_3^3*x_4*x_5^6 + 750*x_1^5*x_3^4*x_4*x_5^6 + 1028*x_1^4*x_2*x_3^4*x_4*x_5^6 + 452*x_1^3*x_2^2*x_3^4*x_4*x_5^6 + 452*x_1^2*x_2^3*x_3^4*x_4*x_5^6 + 1028*x_1*x_2^4*x_3^4*x_4*x_5^6 + 750*x_2^5*x_3^4*x_4*x_5^6 + 750*x_1^4*x_3^5*x_4*x_5^6 + 328*x_1^3*x_2*x_3^5*x_4*x_5^6 + 188*x_1^2*x_2^2*x_3^5*x_4*x_5^6 + 328*x_1*x_2^3*x_3^5*x_4*x_5^6 + 750*x_2^4*x_3^5*x_4*x_5^6 - 1460*x_1^3*x_3^6*x_4*x_5^6 - 2072*x_1^2*x_2*x_3^6*x_4*x_5^6 - 2072*x_1*x_2^2*x_3^6*x_4*x_5^6 - 1460*x_2^3*x_3^6*x_4*x_5^6 + 660*x_1^2*x_3^7*x_4*x_5^6 + 888*x_1*x_2*x_3^7*x_4*x_5^6 + 660*x_2^2*x_3^7*x_4*x_5^6 + 392*x_1*x_3^8*x_4*x_5^6 + 392*x_2*x_3^8*x_4*x_5^6 - 260*x_3^9*x_4*x_5^6 + 148*x_1^8*x_4^2*x_5^6 + 660*x_1^7*x_2*x_4^2*x_5^6 - 1394*x_1^6*x_2^2*x_4^2*x_5^6 + 252*x_1^5*x_2^3*x_4^2*x_5^6 + 622*x_1^4*x_2^4*x_4^2*x_5^6 + 252*x_1^3*x_2^5*x_4^2*x_5^6 - 1394*x_1^2*x_2^6*x_4^2*x_5^6 + 660*x_1*x_2^7*x_4^2*x_5^6 + 148*x_2^8*x_4^2*x_5^6 + 660*x_1^7*x_3*x_4^2*x_5^6 - 2072*x_1^6*x_2*x_3*x_4^2*x_5^6 + 188*x_1^5*x_2^2*x_3*x_4^2*x_5^6 + 452*x_1^4*x_2^3*x_3*x_4^2*x_5^6 + 452*x_1^3*x_2^4*x_3*x_4^2*x_5^6 + 188*x_1^2*x_2^5*x_3*x_4^2*x_5^6 - 2072*x_1*x_2^6*x_3*x_4^2*x_5^6 + 660*x_2^7*x_3*x_4^2*x_5^6 - 1394*x_1^6*x_3^2*x_4^2*x_5^6 + 188*x_1^5*x_2*x_3^2*x_4^2*x_5^6 + 330*x_1^4*x_2^2*x_3^2*x_4^2*x_5^6 + 656*x_1^3*x_2^3*x_3^2*x_4^2*x_5^6 + 330*x_1^2*x_2^4*x_3^2*x_4^2*x_5^6 + 188*x_1*x_2^5*x_3^2*x_4^2*x_5^6 - 1394*x_2^6*x_3^2*x_4^2*x_5^6 + 252*x_1^5*x_3^3*x_4^2*x_5^6 + 452*x_1^4*x_2*x_3^3*x_4^2*x_5^6 + 656*x_1^3*x_2^2*x_3^3*x_4^2*x_5^6 + 656*x_1^2*x_2^3*x_3^3*x_4^2*x_5^6 + 452*x_1*x_2^4*x_3^3*x_4^2*x_5^6 + 252*x_2^5*x_3^3*x_4^2*x_5^6 + 622*x_1^4*x_3^4*x_4^2*x_5^6 + 452*x_1^3*x_2*x_3^4*x_4^2*x_5^6 + 330*x_1^2*x_2^2*x_3^4*x_4^2*x_5^6 + 452*x_1*x_2^3*x_3^4*x_4^2*x_5^6 + 622*x_2^4*x_3^4*x_4^2*x_5^6 + 252*x_1^3*x_3^5*x_4^2*x_5^6 + 188*x_1^2*x_2*x_3^5*x_4^2*x_5^6 + 188*x_1*x_2^2*x_3^5*x_4^2*x_5^6 + 252*x_2^3*x_3^5*x_4^2*x_5^6 - 1394*x_1^2*x_3^6*x_4^2*x_5^6 - 2072*x_1*x_2*x_3^6*x_4^2*x_5^6 - 1394*x_2^2*x_3^6*x_4^2*x_5^6 + 660*x_1*x_3^7*x_4^2*x_5^6 + 660*x_2*x_3^7*x_4^2*x_5^6 + 148*x_3^8*x_4^2*x_5^6 + 304*x_1^7*x_4^3*x_5^6 - 1460*x_1^6*x_2*x_4^3*x_5^6 + 252*x_1^5*x_2^2*x_4^3*x_5^6 + 28*x_1^4*x_2^3*x_4^3*x_5^6 + 28*x_1^3*x_2^4*x_4^3*x_5^6 + 252*x_1^2*x_2^5*x_4^3*x_5^6 - 1460*x_1*x_2^6*x_4^3*x_5^6 + 304*x_2^7*x_4^3*x_5^6 - 1460*x_1^6*x_3*x_4^3*x_5^6 + 328*x_1^5*x_2*x_3*x_4^3*x_5^6 + 452*x_1^4*x_2^2*x_3*x_4^3*x_5^6 + 168*x_1^3*x_2^3*x_3*x_4^3*x_5^6 + 452*x_1^2*x_2^4*x_3*x_4^3*x_5^6 + 328*x_1*x_2^5*x_3*x_4^3*x_5^6 - 1460*x_2^6*x_3*x_4^3*x_5^6 + 252*x_1^5*x_3^2*x_4^3*x_5^6 + 452*x_1^4*x_2*x_3^2*x_4^3*x_5^6 + 656*x_1^3*x_2^2*x_3^2*x_4^3*x_5^6 + 656*x_1^2*x_2^3*x_3^2*x_4^3*x_5^6 + 452*x_1*x_2^4*x_3^2*x_4^3*x_5^6 + 252*x_2^5*x_3^2*x_4^3*x_5^6 + 28*x_1^4*x_3^3*x_4^3*x_5^6 + 168*x_1^3*x_2*x_3^3*x_4^3*x_5^6 + 656*x_1^2*x_2^2*x_3^3*x_4^3*x_5^6 + 168*x_1*x_2^3*x_3^3*x_4^3*x_5^6 + 28*x_2^4*x_3^3*x_4^3*x_5^6 + 28*x_1^3*x_3^4*x_4^3*x_5^6 + 452*x_1^2*x_2*x_3^4*x_4^3*x_5^6 + 452*x_1*x_2^2*x_3^4*x_4^3*x_5^6 + 28*x_2^3*x_3^4*x_4^3*x_5^6 + 252*x_1^2*x_3^5*x_4^3*x_5^6 + 328*x_1*x_2*x_3^5*x_4^3*x_5^6 + 252*x_2^2*x_3^5*x_4^3*x_5^6 - 1460*x_1*x_3^6*x_4^3*x_5^6 - 1460*x_2*x_3^6*x_4^3*x_5^6 + 304*x_3^7*x_4^3*x_5^6 - 334*x_1^6*x_4^4*x_5^6 + 750*x_1^5*x_2*x_4^4*x_5^6 + 622*x_1^4*x_2^2*x_4^4*x_5^6 + 28*x_1^3*x_2^3*x_4^4*x_5^6 + 622*x_1^2*x_2^4*x_4^4*x_5^6 + 750*x_1*x_2^5*x_4^4*x_5^6 - 334*x_2^6*x_4^4*x_5^6 + 750*x_1^5*x_3*x_4^4*x_5^6 + 1028*x_1^4*x_2*x_3*x_4^4*x_5^6 + 452*x_1^3*x_2^2*x_3*x_4^4*x_5^6 + 452*x_1^2*x_2^3*x_3*x_4^4*x_5^6 + 1028*x_1*x_2^4*x_3*x_4^4*x_5^6 + 750*x_2^5*x_3*x_4^4*x_5^6 + 622*x_1^4*x_3^2*x_4^4*x_5^6 + 452*x_1^3*x_2*x_3^2*x_4^4*x_5^6 + 330*x_1^2*x_2^2*x_3^2*x_4^4*x_5^6 + 452*x_1*x_2^3*x_3^2*x_4^4*x_5^6 + 622*x_2^4*x_3^2*x_4^4*x_5^6 + 28*x_1^3*x_3^3*x_4^4*x_5^6 + 452*x_1^2*x_2*x_3^3*x_4^4*x_5^6 + 452*x_1*x_2^2*x_3^3*x_4^4*x_5^6 + 28*x_2^3*x_3^3*x_4^4*x_5^6 + 622*x_1^2*x_3^4*x_4^4*x_5^6 + 1028*x_1*x_2*x_3^4*x_4^4*x_5^6 + 622*x_2^2*x_3^4*x_4^4*x_5^6 + 750*x_1*x_3^5*x_4^4*x_5^6 + 750*x_2*x_3^5*x_4^4*x_5^6 - 334*x_3^6*x_4^4*x_5^6 + 168*x_1^5*x_4^5*x_5^6 + 750*x_1^4*x_2*x_4^5*x_5^6 + 252*x_1^3*x_2^2*x_4^5*x_5^6 + 252*x_1^2*x_2^3*x_4^5*x_5^6 + 750*x_1*x_2^4*x_4^5*x_5^6 + 168*x_2^5*x_4^5*x_5^6 + 750*x_1^4*x_3*x_4^5*x_5^6 + 328*x_1^3*x_2*x_3*x_4^5*x_5^6 + 188*x_1^2*x_2^2*x_3*x_4^5*x_5^6 + 328*x_1*x_2^3*x_3*x_4^5*x_5^6 + 750*x_2^4*x_3*x_4^5*x_5^6 + 252*x_1^3*x_3^2*x_4^5*x_5^6 + 188*x_1^2*x_2*x_3^2*x_4^5*x_5^6 + 188*x_1*x_2^2*x_3^2*x_4^5*x_5^6 + 252*x_2^3*x_3^2*x_4^5*x_5^6 + 252*x_1^2*x_3^3*x_4^5*x_5^6 + 328*x_1*x_2*x_3^3*x_4^5*x_5^6 + 252*x_2^2*x_3^3*x_4^5*x_5^6 + 750*x_1*x_3^4*x_4^5*x_5^6 + 750*x_2*x_3^4*x_4^5*x_5^6 + 168*x_3^5*x_4^5*x_5^6 - 334*x_1^4*x_4^6*x_5^6 - 1460*x_1^3*x_2*x_4^6*x_5^6 - 1394*x_1^2*x_2^2*x_4^6*x_5^6 - 1460*x_1*x_2^3*x_4^6*x_5^6 - 334*x_2^4*x_4^6*x_5^6 - 1460*x_1^3*x_3*x_4^6*x_5^6 - 2072*x_1^2*x_2*x_3*x_4^6*x_5^6 - 2072*x_1*x_2^2*x_3*x_4^6*x_5^6 - 1460*x_2^3*x_3*x_4^6*x_5^6 - 1394*x_1^2*x_3^2*x_4^6*x_5^6 - 2072*x_1*x_2*x_3^2*x_4^6*x_5^6 - 1394*x_2^2*x_3^2*x_4^6*x_5^6 - 1460*x_1*x_3^3*x_4^6*x_5^6 - 1460*x_2*x_3^3*x_4^6*x_5^6 - 334*x_3^4*x_4^6*x_5^6 + 304*x_1^3*x_4^7*x_5^6 + 660*x_1^2*x_2*x_4^7*x_5^6 + 660*x_1*x_2^2*x_4^7*x_5^6 + 304*x_2^3*x_4^7*x_5^6 + 660*x_1^2*x_3*x_4^7*x_5^6 + 888*x_1*x_2*x_3*x_4^7*x_5^6 + 660*x_2^2*x_3*x_4^7*x_5^6 + 660*x_1*x_3^2*x_4^7*x_5^6 + 660*x_2*x_3^2*x_4^7*x_5^6 + 304*x_3^3*x_4^7*x_5^6 + 148*x_1^2*x_4^8*x_5^6 + 392*x_1*x_2*x_4^8*x_5^6 + 148*x_2^2*x_4^8*x_5^6 + 392*x_1*x_3*x_4^8*x_5^6 + 392*x_2*x_3*x_4^8*x_5^6 + 148*x_3^2*x_4^8*x_5^6 - 260*x_1*x_4^9*x_5^6 - 260*x_2*x_4^9*x_5^6 - 260*x_3*x_4^9*x_5^6 + 64*x_4^10*x_5^6 + 20*x_1^9*x_5^7 + 180*x_1^8*x_2*x_5^7 - 488*x_1^7*x_2^2*x_5^7 + 304*x_1^6*x_2^3*x_5^7 - 48*x_1^5*x_2^4*x_5^7 - 48*x_1^4*x_2^5*x_5^7 + 304*x_1^3*x_2^6*x_5^7 - 488*x_1^2*x_2^7*x_5^7 + 180*x_1*x_2^8*x_5^7 + 20*x_2^9*x_5^7 + 180*x_1^8*x_3*x_5^7 - 952*x_1^7*x_2*x_3*x_5^7 + 660*x_1^6*x_2^2*x_3*x_5^7 + 704*x_1^5*x_2^3*x_3*x_5^7 - 1396*x_1^4*x_2^4*x_3*x_5^7 + 704*x_1^3*x_2^5*x_3*x_5^7 + 660*x_1^2*x_2^6*x_3*x_5^7 - 952*x_1*x_2^7*x_3*x_5^7 + 180*x_2^8*x_3*x_5^7 - 488*x_1^7*x_3^2*x_5^7 + 660*x_1^6*x_2*x_3^2*x_5^7 + 952*x_1^5*x_2^2*x_3^2*x_5^7 - 612*x_1^4*x_2^3*x_3^2*x_5^7 - 612*x_1^3*x_2^4*x_3^2*x_5^7 + 952*x_1^2*x_2^5*x_3^2*x_5^7 + 660*x_1*x_2^6*x_3^2*x_5^7 - 488*x_2^7*x_3^2*x_5^7 + 304*x_1^6*x_3^3*x_5^7 + 704*x_1^5*x_2*x_3^3*x_5^7 - 612*x_1^4*x_2^2*x_3^3*x_5^7 - 72*x_1^3*x_2^3*x_3^3*x_5^7 - 612*x_1^2*x_2^4*x_3^3*x_5^7 + 704*x_1*x_2^5*x_3^3*x_5^7 + 304*x_2^6*x_3^3*x_5^7 - 48*x_1^5*x_3^4*x_5^7 - 1396*x_1^4*x_2*x_3^4*x_5^7 - 612*x_1^3*x_2^2*x_3^4*x_5^7 - 612*x_1^2*x_2^3*x_3^4*x_5^7 - 1396*x_1*x_2^4*x_3^4*x_5^7 - 48*x_2^5*x_3^4*x_5^7 - 48*x_1^4*x_3^5*x_5^7 + 704*x_1^3*x_2*x_3^5*x_5^7 + 952*x_1^2*x_2^2*x_3^5*x_5^7 + 704*x_1*x_2^3*x_3^5*x_5^7 - 48*x_2^4*x_3^5*x_5^7 + 304*x_1^3*x_3^6*x_5^7 + 660*x_1^2*x_2*x_3^6*x_5^7 + 660*x_1*x_2^2*x_3^6*x_5^7 + 304*x_2^3*x_3^6*x_5^7 - 488*x_1^2*x_3^7*x_5^7 - 952*x_1*x_2*x_3^7*x_5^7 - 488*x_2^2*x_3^7*x_5^7 + 180*x_1*x_3^8*x_5^7 + 180*x_2*x_3^8*x_5^7 + 20*x_3^9*x_5^7 + 180*x_1^8*x_4*x_5^7 - 952*x_1^7*x_2*x_4*x_5^7 + 660*x_1^6*x_2^2*x_4*x_5^7 + 704*x_1^5*x_2^3*x_4*x_5^7 - 1396*x_1^4*x_2^4*x_4*x_5^7 + 704*x_1^3*x_2^5*x_4*x_5^7 + 660*x_1^2*x_2^6*x_4*x_5^7 - 952*x_1*x_2^7*x_4*x_5^7 + 180*x_2^8*x_4*x_5^7 - 952*x_1^7*x_3*x_4*x_5^7 + 888*x_1^6*x_2*x_3*x_4*x_5^7 + 1528*x_1^5*x_2^2*x_3*x_4*x_5^7 - 1080*x_1^4*x_2^3*x_3*x_4*x_5^7 - 1080*x_1^3*x_2^4*x_3*x_4*x_5^7 + 1528*x_1^2*x_2^5*x_3*x_4*x_5^7 + 888*x_1*x_2^6*x_3*x_4*x_5^7 - 952*x_2^7*x_3*x_4*x_5^7 + 660*x_1^6*x_3^2*x_4*x_5^7 + 1528*x_1^5*x_2*x_3^2*x_4*x_5^7 - 616*x_1^4*x_2^2*x_3^2*x_4*x_5^7 - 776*x_1^3*x_2^3*x_3^2*x_4*x_5^7 - 616*x_1^2*x_2^4*x_3^2*x_4*x_5^7 + 1528*x_1*x_2^5*x_3^2*x_4*x_5^7 + 660*x_2^6*x_3^2*x_4*x_5^7 + 704*x_1^5*x_3^3*x_4*x_5^7 - 1080*x_1^4*x_2*x_3^3*x_4*x_5^7 - 776*x_1^3*x_2^2*x_3^3*x_4*x_5^7 - 776*x_1^2*x_2^3*x_3^3*x_4*x_5^7 - 1080*x_1*x_2^4*x_3^3*x_4*x_5^7 + 704*x_2^5*x_3^3*x_4*x_5^7 - 1396*x_1^4*x_3^4*x_4*x_5^7 - 1080*x_1^3*x_2*x_3^4*x_4*x_5^7 - 616*x_1^2*x_2^2*x_3^4*x_4*x_5^7 - 1080*x_1*x_2^3*x_3^4*x_4*x_5^7 - 1396*x_2^4*x_3^4*x_4*x_5^7 + 704*x_1^3*x_3^5*x_4*x_5^7 + 1528*x_1^2*x_2*x_3^5*x_4*x_5^7 + 1528*x_1*x_2^2*x_3^5*x_4*x_5^7 + 704*x_2^3*x_3^5*x_4*x_5^7 + 660*x_1^2*x_3^6*x_4*x_5^7 + 888*x_1*x_2*x_3^6*x_4*x_5^7 + 660*x_2^2*x_3^6*x_4*x_5^7 - 952*x_1*x_3^7*x_4*x_5^7 - 952*x_2*x_3^7*x_4*x_5^7 + 180*x_3^8*x_4*x_5^7 - 488*x_1^7*x_4^2*x_5^7 + 660*x_1^6*x_2*x_4^2*x_5^7 + 952*x_1^5*x_2^2*x_4^2*x_5^7 - 612*x_1^4*x_2^3*x_4^2*x_5^7 - 612*x_1^3*x_2^4*x_4^2*x_5^7 + 952*x_1^2*x_2^5*x_4^2*x_5^7 + 660*x_1*x_2^6*x_4^2*x_5^7 - 488*x_2^7*x_4^2*x_5^7 + 660*x_1^6*x_3*x_4^2*x_5^7 + 1528*x_1^5*x_2*x_3*x_4^2*x_5^7 - 616*x_1^4*x_2^2*x_3*x_4^2*x_5^7 - 776*x_1^3*x_2^3*x_3*x_4^2*x_5^7 - 616*x_1^2*x_2^4*x_3*x_4^2*x_5^7 + 1528*x_1*x_2^5*x_3*x_4^2*x_5^7 + 660*x_2^6*x_3*x_4^2*x_5^7 + 952*x_1^5*x_3^2*x_4^2*x_5^7 - 616*x_1^4*x_2*x_3^2*x_4^2*x_5^7 - 1032*x_1^3*x_2^2*x_3^2*x_4^2*x_5^7 - 1032*x_1^2*x_2^3*x_3^2*x_4^2*x_5^7 - 616*x_1*x_2^4*x_3^2*x_4^2*x_5^7 + 952*x_2^5*x_3^2*x_4^2*x_5^7 - 612*x_1^4*x_3^3*x_4^2*x_5^7 - 776*x_1^3*x_2*x_3^3*x_4^2*x_5^7 - 1032*x_1^2*x_2^2*x_3^3*x_4^2*x_5^7 - 776*x_1*x_2^3*x_3^3*x_4^2*x_5^7 - 612*x_2^4*x_3^3*x_4^2*x_5^7 - 612*x_1^3*x_3^4*x_4^2*x_5^7 - 616*x_1^2*x_2*x_3^4*x_4^2*x_5^7 - 616*x_1*x_2^2*x_3^4*x_4^2*x_5^7 - 612*x_2^3*x_3^4*x_4^2*x_5^7 + 952*x_1^2*x_3^5*x_4^2*x_5^7 + 1528*x_1*x_2*x_3^5*x_4^2*x_5^7 + 952*x_2^2*x_3^5*x_4^2*x_5^7 + 660*x_1*x_3^6*x_4^2*x_5^7 + 660*x_2*x_3^6*x_4^2*x_5^7 - 488*x_3^7*x_4^2*x_5^7 + 304*x_1^6*x_4^3*x_5^7 + 704*x_1^5*x_2*x_4^3*x_5^7 - 612*x_1^4*x_2^2*x_4^3*x_5^7 - 72*x_1^3*x_2^3*x_4^3*x_5^7 - 612*x_1^2*x_2^4*x_4^3*x_5^7 + 704*x_1*x_2^5*x_4^3*x_5^7 + 304*x_2^6*x_4^3*x_5^7 + 704*x_1^5*x_3*x_4^3*x_5^7 - 1080*x_1^4*x_2*x_3*x_4^3*x_5^7 - 776*x_1^3*x_2^2*x_3*x_4^3*x_5^7 - 776*x_1^2*x_2^3*x_3*x_4^3*x_5^7 - 1080*x_1*x_2^4*x_3*x_4^3*x_5^7 + 704*x_2^5*x_3*x_4^3*x_5^7 - 612*x_1^4*x_3^2*x_4^3*x_5^7 - 776*x_1^3*x_2*x_3^2*x_4^3*x_5^7 - 1032*x_1^2*x_2^2*x_3^2*x_4^3*x_5^7 - 776*x_1*x_2^3*x_3^2*x_4^3*x_5^7 - 612*x_2^4*x_3^2*x_4^3*x_5^7 - 72*x_1^3*x_3^3*x_4^3*x_5^7 - 776*x_1^2*x_2*x_3^3*x_4^3*x_5^7 - 776*x_1*x_2^2*x_3^3*x_4^3*x_5^7 - 72*x_2^3*x_3^3*x_4^3*x_5^7 - 612*x_1^2*x_3^4*x_4^3*x_5^7 - 1080*x_1*x_2*x_3^4*x_4^3*x_5^7 - 612*x_2^2*x_3^4*x_4^3*x_5^7 + 704*x_1*x_3^5*x_4^3*x_5^7 + 704*x_2*x_3^5*x_4^3*x_5^7 + 304*x_3^6*x_4^3*x_5^7 - 48*x_1^5*x_4^4*x_5^7 - 1396*x_1^4*x_2*x_4^4*x_5^7 - 612*x_1^3*x_2^2*x_4^4*x_5^7 - 612*x_1^2*x_2^3*x_4^4*x_5^7 - 1396*x_1*x_2^4*x_4^4*x_5^7 - 48*x_2^5*x_4^4*x_5^7 - 1396*x_1^4*x_3*x_4^4*x_5^7 - 1080*x_1^3*x_2*x_3*x_4^4*x_5^7 - 616*x_1^2*x_2^2*x_3*x_4^4*x_5^7 - 1080*x_1*x_2^3*x_3*x_4^4*x_5^7 - 1396*x_2^4*x_3*x_4^4*x_5^7 - 612*x_1^3*x_3^2*x_4^4*x_5^7 - 616*x_1^2*x_2*x_3^2*x_4^4*x_5^7 - 616*x_1*x_2^2*x_3^2*x_4^4*x_5^7 - 612*x_2^3*x_3^2*x_4^4*x_5^7 - 612*x_1^2*x_3^3*x_4^4*x_5^7 - 1080*x_1*x_2*x_3^3*x_4^4*x_5^7 - 612*x_2^2*x_3^3*x_4^4*x_5^7 - 1396*x_1*x_3^4*x_4^4*x_5^7 - 1396*x_2*x_3^4*x_4^4*x_5^7 - 48*x_3^5*x_4^4*x_5^7 - 48*x_1^4*x_4^5*x_5^7 + 704*x_1^3*x_2*x_4^5*x_5^7 + 952*x_1^2*x_2^2*x_4^5*x_5^7 + 704*x_1*x_2^3*x_4^5*x_5^7 - 48*x_2^4*x_4^5*x_5^7 + 704*x_1^3*x_3*x_4^5*x_5^7 + 1528*x_1^2*x_2*x_3*x_4^5*x_5^7 + 1528*x_1*x_2^2*x_3*x_4^5*x_5^7 + 704*x_2^3*x_3*x_4^5*x_5^7 + 952*x_1^2*x_3^2*x_4^5*x_5^7 + 1528*x_1*x_2*x_3^2*x_4^5*x_5^7 + 952*x_2^2*x_3^2*x_4^5*x_5^7 + 704*x_1*x_3^3*x_4^5*x_5^7 + 704*x_2*x_3^3*x_4^5*x_5^7 - 48*x_3^4*x_4^5*x_5^7 + 304*x_1^3*x_4^6*x_5^7 + 660*x_1^2*x_2*x_4^6*x_5^7 + 660*x_1*x_2^2*x_4^6*x_5^7 + 304*x_2^3*x_4^6*x_5^7 + 660*x_1^2*x_3*x_4^6*x_5^7 + 888*x_1*x_2*x_3*x_4^6*x_5^7 + 660*x_2^2*x_3*x_4^6*x_5^7 + 660*x_1*x_3^2*x_4^6*x_5^7 + 660*x_2*x_3^2*x_4^6*x_5^7 + 304*x_3^3*x_4^6*x_5^7 - 488*x_1^2*x_4^7*x_5^7 - 952*x_1*x_2*x_4^7*x_5^7 - 488*x_2^2*x_4^7*x_5^7 - 952*x_1*x_3*x_4^7*x_5^7 - 952*x_2*x_3*x_4^7*x_5^7 - 488*x_3^2*x_4^7*x_5^7 + 180*x_1*x_4^8*x_5^7 + 180*x_2*x_4^8*x_5^7 + 180*x_3*x_4^8*x_5^7 + 20*x_4^9*x_5^7 - 90*x_1^8*x_5^8 + 180*x_1^7*x_2*x_5^8 + 148*x_1^6*x_2^2*x_5^8 - 380*x_1^5*x_2^3*x_5^8 + 409*x_1^4*x_2^4*x_5^8 - 380*x_1^3*x_2^5*x_5^8 + 148*x_1^2*x_2^6*x_5^8 + 180*x_1*x_2^7*x_5^8 - 90*x_2^8*x_5^8 + 180*x_1^7*x_3*x_5^8 + 392*x_1^6*x_2*x_3*x_5^8 - 1188*x_1^5*x_2^2*x_3*x_5^8 + 546*x_1^4*x_2^3*x_3*x_5^8 + 546*x_1^3*x_2^4*x_3*x_5^8 - 1188*x_1^2*x_2^5*x_3*x_5^8 + 392*x_1*x_2^6*x_3*x_5^8 + 180*x_2^7*x_3*x_5^8 + 148*x_1^6*x_3^2*x_5^8 - 1188*x_1^5*x_2*x_3^2*x_5^8 - 59*x_1^4*x_2^2*x_3^2*x_5^8 + 736*x_1^3*x_2^3*x_3^2*x_5^8 - 59*x_1^2*x_2^4*x_3^2*x_5^8 - 1188*x_1*x_2^5*x_3^2*x_5^8 + 148*x_2^6*x_3^2*x_5^8 - 380*x_1^5*x_3^3*x_5^8 + 546*x_1^4*x_2*x_3^3*x_5^8 + 736*x_1^3*x_2^2*x_3^3*x_5^8 + 736*x_1^2*x_2^3*x_3^3*x_5^8 + 546*x_1*x_2^4*x_3^3*x_5^8 - 380*x_2^5*x_3^3*x_5^8 + 409*x_1^4*x_3^4*x_5^8 + 546*x_1^3*x_2*x_3^4*x_5^8 - 59*x_1^2*x_2^2*x_3^4*x_5^8 + 546*x_1*x_2^3*x_3^4*x_5^8 + 409*x_2^4*x_3^4*x_5^8 - 380*x_1^3*x_3^5*x_5^8 - 1188*x_1^2*x_2*x_3^5*x_5^8 - 1188*x_1*x_2^2*x_3^5*x_5^8 - 380*x_2^3*x_3^5*x_5^8 + 148*x_1^2*x_3^6*x_5^8 + 392*x_1*x_2*x_3^6*x_5^8 + 148*x_2^2*x_3^6*x_5^8 + 180*x_1*x_3^7*x_5^8 + 180*x_2*x_3^7*x_5^8 - 90*x_3^8*x_5^8 + 180*x_1^7*x_4*x_5^8 + 392*x_1^6*x_2*x_4*x_5^8 - 1188*x_1^5*x_2^2*x_4*x_5^8 + 546*x_1^4*x_2^3*x_4*x_5^8 + 546*x_1^3*x_2^4*x_4*x_5^8 - 1188*x_1^2*x_2^5*x_4*x_5^8 + 392*x_1*x_2^6*x_4*x_5^8 + 180*x_2^7*x_4*x_5^8 + 392*x_1^6*x_3*x_4*x_5^8 - 1812*x_1^5*x_2*x_3*x_4*x_5^8 - 242*x_1^4*x_2^2*x_3*x_4*x_5^8 + 1468*x_1^3*x_2^3*x_3*x_4*x_5^8 - 242*x_1^2*x_2^4*x_3*x_4*x_5^8 - 1812*x_1*x_2^5*x_3*x_4*x_5^8 + 392*x_2^6*x_3*x_4*x_5^8 - 1188*x_1^5*x_3^2*x_4*x_5^8 - 242*x_1^4*x_2*x_3^2*x_4*x_5^8 + 1148*x_1^3*x_2^2*x_3^2*x_4*x_5^8 + 1148*x_1^2*x_2^3*x_3^2*x_4*x_5^8 - 242*x_1*x_2^4*x_3^2*x_4*x_5^8 - 1188*x_2^5*x_3^2*x_4*x_5^8 + 546*x_1^4*x_3^3*x_4*x_5^8 + 1468*x_1^3*x_2*x_3^3*x_4*x_5^8 + 1148*x_1^2*x_2^2*x_3^3*x_4*x_5^8 + 1468*x_1*x_2^3*x_3^3*x_4*x_5^8 + 546*x_2^4*x_3^3*x_4*x_5^8 + 546*x_1^3*x_3^4*x_4*x_5^8 - 242*x_1^2*x_2*x_3^4*x_4*x_5^8 - 242*x_1*x_2^2*x_3^4*x_4*x_5^8 + 546*x_2^3*x_3^4*x_4*x_5^8 - 1188*x_1^2*x_3^5*x_4*x_5^8 - 1812*x_1*x_2*x_3^5*x_4*x_5^8 - 1188*x_2^2*x_3^5*x_4*x_5^8 + 392*x_1*x_3^6*x_4*x_5^8 + 392*x_2*x_3^6*x_4*x_5^8 + 180*x_3^7*x_4*x_5^8 + 148*x_1^6*x_4^2*x_5^8 - 1188*x_1^5*x_2*x_4^2*x_5^8 - 59*x_1^4*x_2^2*x_4^2*x_5^8 + 736*x_1^3*x_2^3*x_4^2*x_5^8 - 59*x_1^2*x_2^4*x_4^2*x_5^8 - 1188*x_1*x_2^5*x_4^2*x_5^8 + 148*x_2^6*x_4^2*x_5^8 - 1188*x_1^5*x_3*x_4^2*x_5^8 - 242*x_1^4*x_2*x_3*x_4^2*x_5^8 + 1148*x_1^3*x_2^2*x_3*x_4^2*x_5^8 + 1148*x_1^2*x_2^3*x_3*x_4^2*x_5^8 - 242*x_1*x_2^4*x_3*x_4^2*x_5^8 - 1188*x_2^5*x_3*x_4^2*x_5^8 - 59*x_1^4*x_3^2*x_4^2*x_5^8 + 1148*x_1^3*x_2*x_3^2*x_4^2*x_5^8 + 1548*x_1^2*x_2^2*x_3^2*x_4^2*x_5^8 + 1148*x_1*x_2^3*x_3^2*x_4^2*x_5^8 - 59*x_2^4*x_3^2*x_4^2*x_5^8 + 736*x_1^3*x_3^3*x_4^2*x_5^8 + 1148*x_1^2*x_2*x_3^3*x_4^2*x_5^8 + 1148*x_1*x_2^2*x_3^3*x_4^2*x_5^8 + 736*x_2^3*x_3^3*x_4^2*x_5^8 - 59*x_1^2*x_3^4*x_4^2*x_5^8 - 242*x_1*x_2*x_3^4*x_4^2*x_5^8 - 59*x_2^2*x_3^4*x_4^2*x_5^8 - 1188*x_1*x_3^5*x_4^2*x_5^8 - 1188*x_2*x_3^5*x_4^2*x_5^8 + 148*x_3^6*x_4^2*x_5^8 - 380*x_1^5*x_4^3*x_5^8 + 546*x_1^4*x_2*x_4^3*x_5^8 + 736*x_1^3*x_2^2*x_4^3*x_5^8 + 736*x_1^2*x_2^3*x_4^3*x_5^8 + 546*x_1*x_2^4*x_4^3*x_5^8 - 380*x_2^5*x_4^3*x_5^8 + 546*x_1^4*x_3*x_4^3*x_5^8 + 1468*x_1^3*x_2*x_3*x_4^3*x_5^8 + 1148*x_1^2*x_2^2*x_3*x_4^3*x_5^8 + 1468*x_1*x_2^3*x_3*x_4^3*x_5^8 + 546*x_2^4*x_3*x_4^3*x_5^8 + 736*x_1^3*x_3^2*x_4^3*x_5^8 + 1148*x_1^2*x_2*x_3^2*x_4^3*x_5^8 + 1148*x_1*x_2^2*x_3^2*x_4^3*x_5^8 + 736*x_2^3*x_3^2*x_4^3*x_5^8 + 736*x_1^2*x_3^3*x_4^3*x_5^8 + 1468*x_1*x_2*x_3^3*x_4^3*x_5^8 + 736*x_2^2*x_3^3*x_4^3*x_5^8 + 546*x_1*x_3^4*x_4^3*x_5^8 + 546*x_2*x_3^4*x_4^3*x_5^8 - 380*x_3^5*x_4^3*x_5^8 + 409*x_1^4*x_4^4*x_5^8 + 546*x_1^3*x_2*x_4^4*x_5^8 - 59*x_1^2*x_2^2*x_4^4*x_5^8 + 546*x_1*x_2^3*x_4^4*x_5^8 + 409*x_2^4*x_4^4*x_5^8 + 546*x_1^3*x_3*x_4^4*x_5^8 - 242*x_1^2*x_2*x_3*x_4^4*x_5^8 - 242*x_1*x_2^2*x_3*x_4^4*x_5^8 + 546*x_2^3*x_3*x_4^4*x_5^8 - 59*x_1^2*x_3^2*x_4^4*x_5^8 - 242*x_1*x_2*x_3^2*x_4^4*x_5^8 - 59*x_2^2*x_3^2*x_4^4*x_5^8 + 546*x_1*x_3^3*x_4^4*x_5^8 + 546*x_2*x_3^3*x_4^4*x_5^8 + 409*x_3^4*x_4^4*x_5^8 - 380*x_1^3*x_4^5*x_5^8 - 1188*x_1^2*x_2*x_4^5*x_5^8 - 1188*x_1*x_2^2*x_4^5*x_5^8 - 380*x_2^3*x_4^5*x_5^8 - 1188*x_1^2*x_3*x_4^5*x_5^8 - 1812*x_1*x_2*x_3*x_4^5*x_5^8 - 1188*x_2^2*x_3*x_4^5*x_5^8 - 1188*x_1*x_3^2*x_4^5*x_5^8 - 1188*x_2*x_3^2*x_4^5*x_5^8 - 380*x_3^3*x_4^5*x_5^8 + 148*x_1^2*x_4^6*x_5^8 + 392*x_1*x_2*x_4^6*x_5^8 + 148*x_2^2*x_4^6*x_5^8 + 392*x_1*x_3*x_4^6*x_5^8 + 392*x_2*x_3*x_4^6*x_5^8 + 148*x_3^2*x_4^6*x_5^8 + 180*x_1*x_4^7*x_5^8 + 180*x_2*x_4^7*x_5^8 + 180*x_3*x_4^7*x_5^8 - 90*x_4^8*x_5^8 + 20*x_1^7*x_5^9 - 260*x_1^6*x_2*x_5^9 + 292*x_1^5*x_2^2*x_5^9 - 92*x_1^4*x_2^3*x_5^9 - 92*x_1^3*x_2^4*x_5^9 + 292*x_1^2*x_2^5*x_5^9 - 260*x_1*x_2^6*x_5^9 + 20*x_2^7*x_5^9 - 260*x_1^6*x_3*x_5^9 + 468*x_1^5*x_2*x_3*x_5^9 + 518*x_1^4*x_2^2*x_3*x_5^9 - 812*x_1^3*x_2^3*x_3*x_5^9 + 518*x_1^2*x_2^4*x_3*x_5^9 + 468*x_1*x_2^5*x_3*x_5^9 - 260*x_2^6*x_3*x_5^9 + 292*x_1^5*x_3^2*x_5^9 + 518*x_1^4*x_2*x_3^2*x_5^9 - 592*x_1^3*x_2^2*x_3^2*x_5^9 - 592*x_1^2*x_2^3*x_3^2*x_5^9 + 518*x_1*x_2^4*x_3^2*x_5^9 + 292*x_2^5*x_3^2*x_5^9 - 92*x_1^4*x_3^3*x_5^9 - 812*x_1^3*x_2*x_3^3*x_5^9 - 592*x_1^2*x_2^2*x_3^3*x_5^9 - 812*x_1*x_2^3*x_3^3*x_5^9 - 92*x_2^4*x_3^3*x_5^9 - 92*x_1^3*x_3^4*x_5^9 + 518*x_1^2*x_2*x_3^4*x_5^9 + 518*x_1*x_2^2*x_3^4*x_5^9 - 92*x_2^3*x_3^4*x_5^9 + 292*x_1^2*x_3^5*x_5^9 + 468*x_1*x_2*x_3^5*x_5^9 + 292*x_2^2*x_3^5*x_5^9 - 260*x_1*x_3^6*x_5^9 - 260*x_2*x_3^6*x_5^9 + 20*x_3^7*x_5^9 - 260*x_1^6*x_4*x_5^9 + 468*x_1^5*x_2*x_4*x_5^9 + 518*x_1^4*x_2^2*x_4*x_5^9 - 812*x_1^3*x_2^3*x_4*x_5^9 + 518*x_1^2*x_2^4*x_4*x_5^9 + 468*x_1*x_2^5*x_4*x_5^9 - 260*x_2^6*x_4*x_5^9 + 468*x_1^5*x_3*x_4*x_5^9 + 1168*x_1^4*x_2*x_3*x_4*x_5^9 - 892*x_1^3*x_2^2*x_3*x_4*x_5^9 - 892*x_1^2*x_2^3*x_3*x_4*x_5^9 + 1168*x_1*x_2^4*x_3*x_4*x_5^9 + 468*x_2^5*x_3*x_4*x_5^9 + 518*x_1^4*x_3^2*x_4*x_5^9 - 892*x_1^3*x_2*x_3^2*x_4*x_5^9 - 1492*x_1^2*x_2^2*x_3^2*x_4*x_5^9 - 892*x_1*x_2^3*x_3^2*x_4*x_5^9 + 518*x_2^4*x_3^2*x_4*x_5^9 - 812*x_1^3*x_3^3*x_4*x_5^9 - 892*x_1^2*x_2*x_3^3*x_4*x_5^9 - 892*x_1*x_2^2*x_3^3*x_4*x_5^9 - 812*x_2^3*x_3^3*x_4*x_5^9 + 518*x_1^2*x_3^4*x_4*x_5^9 + 1168*x_1*x_2*x_3^4*x_4*x_5^9 + 518*x_2^2*x_3^4*x_4*x_5^9 + 468*x_1*x_3^5*x_4*x_5^9 + 468*x_2*x_3^5*x_4*x_5^9 - 260*x_3^6*x_4*x_5^9 + 292*x_1^5*x_4^2*x_5^9 + 518*x_1^4*x_2*x_4^2*x_5^9 - 592*x_1^3*x_2^2*x_4^2*x_5^9 - 592*x_1^2*x_2^3*x_4^2*x_5^9 + 518*x_1*x_2^4*x_4^2*x_5^9 + 292*x_2^5*x_4^2*x_5^9 + 518*x_1^4*x_3*x_4^2*x_5^9 - 892*x_1^3*x_2*x_3*x_4^2*x_5^9 - 1492*x_1^2*x_2^2*x_3*x_4^2*x_5^9 - 892*x_1*x_2^3*x_3*x_4^2*x_5^9 + 518*x_2^4*x_3*x_4^2*x_5^9 - 592*x_1^3*x_3^2*x_4^2*x_5^9 - 1492*x_1^2*x_2*x_3^2*x_4^2*x_5^9 - 1492*x_1*x_2^2*x_3^2*x_4^2*x_5^9 - 592*x_2^3*x_3^2*x_4^2*x_5^9 - 592*x_1^2*x_3^3*x_4^2*x_5^9 - 892*x_1*x_2*x_3^3*x_4^2*x_5^9 - 592*x_2^2*x_3^3*x_4^2*x_5^9 + 518*x_1*x_3^4*x_4^2*x_5^9 + 518*x_2*x_3^4*x_4^2*x_5^9 + 292*x_3^5*x_4^2*x_5^9 - 92*x_1^4*x_4^3*x_5^9 - 812*x_1^3*x_2*x_4^3*x_5^9 - 592*x_1^2*x_2^2*x_4^3*x_5^9 - 812*x_1*x_2^3*x_4^3*x_5^9 - 92*x_2^4*x_4^3*x_5^9 - 812*x_1^3*x_3*x_4^3*x_5^9 - 892*x_1^2*x_2*x_3*x_4^3*x_5^9 - 892*x_1*x_2^2*x_3*x_4^3*x_5^9 - 812*x_2^3*x_3*x_4^3*x_5^9 - 592*x_1^2*x_3^2*x_4^3*x_5^9 - 892*x_1*x_2*x_3^2*x_4^3*x_5^9 - 592*x_2^2*x_3^2*x_4^3*x_5^9 - 812*x_1*x_3^3*x_4^3*x_5^9 - 812*x_2*x_3^3*x_4^3*x_5^9 - 92*x_3^4*x_4^3*x_5^9 - 92*x_1^3*x_4^4*x_5^9 + 518*x_1^2*x_2*x_4^4*x_5^9 + 518*x_1*x_2^2*x_4^4*x_5^9 - 92*x_2^3*x_4^4*x_5^9 + 518*x_1^2*x_3*x_4^4*x_5^9 + 1168*x_1*x_2*x_3*x_4^4*x_5^9 + 518*x_2^2*x_3*x_4^4*x_5^9 + 518*x_1*x_3^2*x_4^4*x_5^9 + 518*x_2*x_3^2*x_4^4*x_5^9 - 92*x_3^3*x_4^4*x_5^9 + 292*x_1^2*x_4^5*x_5^9 + 468*x_1*x_2*x_4^5*x_5^9 + 292*x_2^2*x_4^5*x_5^9 + 468*x_1*x_3*x_4^5*x_5^9 + 468*x_2*x_3*x_4^5*x_5^9 + 292*x_3^2*x_4^5*x_5^9 - 260*x_1*x_4^6*x_5^9 - 260*x_2*x_4^6*x_5^9 - 260*x_3*x_4^6*x_5^9 + 20*x_4^7*x_5^9 + 64*x_1^6*x_5^10 + 4*x_1^5*x_2*x_5^10 - 222*x_1^4*x_2^2*x_5^10 + 236*x_1^3*x_2^3*x_5^10 - 222*x_1^2*x_2^4*x_5^10 + 4*x_1*x_2^5*x_5^10 + 64*x_2^6*x_5^10 + 4*x_1^5*x_3*x_5^10 - 558*x_1^4*x_2*x_3*x_5^10 + 244*x_1^3*x_2^2*x_3*x_5^10 + 244*x_1^2*x_2^3*x_3*x_5^10 - 558*x_1*x_2^4*x_3*x_5^10 + 4*x_2^5*x_3*x_5^10 - 222*x_1^4*x_3^2*x_5^10 + 244*x_1^3*x_2*x_3^2*x_5^10 + 682*x_1^2*x_2^2*x_3^2*x_5^10 + 244*x_1*x_2^3*x_3^2*x_5^10 - 222*x_2^4*x_3^2*x_5^10 + 236*x_1^3*x_3^3*x_5^10 + 244*x_1^2*x_2*x_3^3*x_5^10 + 244*x_1*x_2^2*x_3^3*x_5^10 + 236*x_2^3*x_3^3*x_5^10 - 222*x_1^2*x_3^4*x_5^10 - 558*x_1*x_2*x_3^4*x_5^10 - 222*x_2^2*x_3^4*x_5^10 + 4*x_1*x_3^5*x_5^10 + 4*x_2*x_3^5*x_5^10 + 64*x_3^6*x_5^10 + 4*x_1^5*x_4*x_5^10 - 558*x_1^4*x_2*x_4*x_5^10 + 244*x_1^3*x_2^2*x_4*x_5^10 + 244*x_1^2*x_2^3*x_4*x_5^10 - 558*x_1*x_2^4*x_4*x_5^10 + 4*x_2^5*x_4*x_5^10 - 558*x_1^4*x_3*x_4*x_5^10 + 68*x_1^3*x_2*x_3*x_4*x_5^10 + 1132*x_1^2*x_2^2*x_3*x_4*x_5^10 + 68*x_1*x_2^3*x_3*x_4*x_5^10 - 558*x_2^4*x_3*x_4*x_5^10 + 244*x_1^3*x_3^2*x_4*x_5^10 + 1132*x_1^2*x_2*x_3^2*x_4*x_5^10 + 1132*x_1*x_2^2*x_3^2*x_4*x_5^10 + 244*x_2^3*x_3^2*x_4*x_5^10 + 244*x_1^2*x_3^3*x_4*x_5^10 + 68*x_1*x_2*x_3^3*x_4*x_5^10 + 244*x_2^2*x_3^3*x_4*x_5^10 - 558*x_1*x_3^4*x_4*x_5^10 - 558*x_2*x_3^4*x_4*x_5^10 + 4*x_3^5*x_4*x_5^10 - 222*x_1^4*x_4^2*x_5^10 + 244*x_1^3*x_2*x_4^2*x_5^10 + 682*x_1^2*x_2^2*x_4^2*x_5^10 + 244*x_1*x_2^3*x_4^2*x_5^10 - 222*x_2^4*x_4^2*x_5^10 + 244*x_1^3*x_3*x_4^2*x_5^10 + 1132*x_1^2*x_2*x_3*x_4^2*x_5^10 + 1132*x_1*x_2^2*x_3*x_4^2*x_5^10 + 244*x_2^3*x_3*x_4^2*x_5^10 + 682*x_1^2*x_3^2*x_4^2*x_5^10 + 1132*x_1*x_2*x_3^2*x_4^2*x_5^10 + 682*x_2^2*x_3^2*x_4^2*x_5^10 + 244*x_1*x_3^3*x_4^2*x_5^10 + 244*x_2*x_3^3*x_4^2*x_5^10 - 222*x_3^4*x_4^2*x_5^10 + 236*x_1^3*x_4^3*x_5^10 + 244*x_1^2*x_2*x_4^3*x_5^10 + 244*x_1*x_2^2*x_4^3*x_5^10 + 236*x_2^3*x_4^3*x_5^10 + 244*x_1^2*x_3*x_4^3*x_5^10 + 68*x_1*x_2*x_3*x_4^3*x_5^10 + 244*x_2^2*x_3*x_4^3*x_5^10 + 244*x_1*x_3^2*x_4^3*x_5^10 + 244*x_2*x_3^2*x_4^3*x_5^10 + 236*x_3^3*x_4^3*x_5^10 - 222*x_1^2*x_4^4*x_5^10 - 558*x_1*x_2*x_4^4*x_5^10 - 222*x_2^2*x_4^4*x_5^10 - 558*x_1*x_3*x_4^4*x_5^10 - 558*x_2*x_3*x_4^4*x_5^10 - 222*x_3^2*x_4^4*x_5^10 + 4*x_1*x_4^5*x_5^10 + 4*x_2*x_4^5*x_5^10 + 4*x_3*x_4^5*x_5^10 + 64*x_4^6*x_5^10 - 36*x_1^5*x_5^11 + 140*x_1^4*x_2*x_5^11 - 28*x_1^3*x_2^2*x_5^11 - 28*x_1^2*x_2^3*x_5^11 + 140*x_1*x_2^4*x_5^11 - 36*x_2^5*x_5^11 + 140*x_1^4*x_3*x_5^11 + 108*x_1^3*x_2*x_3*x_5^11 - 360*x_1^2*x_2^2*x_3*x_5^11 + 108*x_1*x_2^3*x_3*x_5^11 + 140*x_2^4*x_3*x_5^11 - 28*x_1^3*x_3^2*x_5^11 - 360*x_1^2*x_2*x_3^2*x_5^11 - 360*x_1*x_2^2*x_3^2*x_5^11 - 28*x_2^3*x_3^2*x_5^11 - 28*x_1^2*x_3^3*x_5^11 + 108*x_1*x_2*x_3^3*x_5^11 - 28*x_2^2*x_3^3*x_5^11 + 140*x_1*x_3^4*x_5^11 + 140*x_2*x_3^4*x_5^11 - 36*x_3^5*x_5^11 + 140*x_1^4*x_4*x_5^11 + 108*x_1^3*x_2*x_4*x_5^11 - 360*x_1^2*x_2^2*x_4*x_5^11 + 108*x_1*x_2^3*x_4*x_5^11 + 140*x_2^4*x_4*x_5^11 + 108*x_1^3*x_3*x_4*x_5^11 - 636*x_1^2*x_2*x_3*x_4*x_5^11 - 636*x_1*x_2^2*x_3*x_4*x_5^11 + 108*x_2^3*x_3*x_4*x_5^11 - 360*x_1^2*x_3^2*x_4*x_5^11 - 636*x_1*x_2*x_3^2*x_4*x_5^11 - 360*x_2^2*x_3^2*x_4*x_5^11 + 108*x_1*x_3^3*x_4*x_5^11 + 108*x_2*x_3^3*x_4*x_5^11 + 140*x_3^4*x_4*x_5^11 - 28*x_1^3*x_4^2*x_5^11 - 360*x_1^2*x_2*x_4^2*x_5^11 - 360*x_1*x_2^2*x_4^2*x_5^11 - 28*x_2^3*x_4^2*x_5^11 - 360*x_1^2*x_3*x_4^2*x_5^11 - 636*x_1*x_2*x_3*x_4^2*x_5^11 - 360*x_2^2*x_3*x_4^2*x_5^11 - 360*x_1*x_3^2*x_4^2*x_5^11 - 360*x_2*x_3^2*x_4^2*x_5^11 - 28*x_3^3*x_4^2*x_5^11 - 28*x_1^2*x_4^3*x_5^11 + 108*x_1*x_2*x_4^3*x_5^11 - 28*x_2^2*x_4^3*x_5^11 + 108*x_1*x_3*x_4^3*x_5^11 + 108*x_2*x_3*x_4^3*x_5^11 - 28*x_3^2*x_4^3*x_5^11 + 140*x_1*x_4^4*x_5^11 + 140*x_2*x_4^4*x_5^11 + 140*x_3*x_4^4*x_5^11 - 36*x_4^5*x_5^11 - 20*x_1^4*x_5^12 - 60*x_1^3*x_2*x_5^12 + 74*x_1^2*x_2^2*x_5^12 - 60*x_1*x_2^3*x_5^12 - 20*x_2^4*x_5^12 - 60*x_1^3*x_3*x_5^12 + 146*x_1^2*x_2*x_3*x_5^12 + 146*x_1*x_2^2*x_3*x_5^12 - 60*x_2^3*x_3*x_5^12 + 74*x_1^2*x_3^2*x_5^12 + 146*x_1*x_2*x_3^2*x_5^12 + 74*x_2^2*x_3^2*x_5^12 - 60*x_1*x_3^3*x_5^12 - 60*x_2*x_3^3*x_5^12 - 20*x_3^4*x_5^12 - 60*x_1^3*x_4*x_5^12 + 146*x_1^2*x_2*x_4*x_5^12 + 146*x_1*x_2^2*x_4*x_5^12 - 60*x_2^3*x_4*x_5^12 + 146*x_1^2*x_3*x_4*x_5^12 + 424*x_1*x_2*x_3*x_4*x_5^12 + 146*x_2^2*x_3*x_4*x_5^12 + 146*x_1*x_3^2*x_4*x_5^12 + 146*x_2*x_3^2*x_4*x_5^12 - 60*x_3^3*x_4*x_5^12 + 74*x_1^2*x_4^2*x_5^12 + 146*x_1*x_2*x_4^2*x_5^12 + 74*x_2^2*x_4^2*x_5^12 + 146*x_1*x_3*x_4^2*x_5^12 + 146*x_2*x_3*x_4^2*x_5^12 + 74*x_3^2*x_4^2*x_5^12 - 60*x_1*x_4^3*x_5^12 - 60*x_2*x_4^3*x_5^12 - 60*x_3*x_4^3*x_5^12 - 20*x_4^4*x_5^12 + 20*x_1^3*x_5^13 - 20*x_1^2*x_2*x_5^13 - 20*x_1*x_2^2*x_5^13 + 20*x_2^3*x_5^13 - 20*x_1^2*x_3*x_5^13 - 100*x_1*x_2*x_3*x_5^13 - 20*x_2^2*x_3*x_5^13 - 20*x_1*x_3^2*x_5^13 - 20*x_2*x_3^2*x_5^13 + 20*x_3^3*x_5^13 - 20*x_1^2*x_4*x_5^13 - 100*x_1*x_2*x_4*x_5^13 - 20*x_2^2*x_4*x_5^13 - 100*x_1*x_3*x_4*x_5^13 - 100*x_2*x_3*x_4*x_5^13 - 20*x_3^2*x_4*x_5^13 - 20*x_1*x_4^2*x_5^13 - 20*x_2*x_4^2*x_5^13 - 20*x_3*x_4^2*x_5^13 + 20*x_4^3*x_5^13 + 20*x_1*x_2*x_5^14 + 20*x_1*x_3*x_5^14 + 20*x_2*x_3*x_5^14 + 20*x_1*x_4*x_5^14 + 20*x_2*x_4*x_5^14 + 20*x_3*x_4*x_5^14 - 4*x_1*x_5^15 - 4*x_2*x_5^15 - 4*x_3*x_5^15 - 4*x_4*x_5^15 + x_5^16"
      ]
     },
     "execution_count": 283,
     "metadata": {},
     "output_type": "execute_result"
    }
   ],
   "source": [
    "ele_falsedisc"
   ]
  },
  {
   "cell_type": "code",
   "execution_count": 538,
   "id": "9ce008f7",
   "metadata": {},
   "outputs": [
    {
     "data": {
      "text/plain": [
       "(0, 0)"
      ]
     },
     "execution_count": 538,
     "metadata": {},
     "output_type": "execute_result"
    }
   ],
   "source": []
  },
  {
   "cell_type": "code",
   "execution_count": 529,
   "id": "10ff8533",
   "metadata": {},
   "outputs": [
    {
     "ename": "ArithmeticError",
     "evalue": "factorization of 0 is not defined",
     "output_type": "error",
     "traceback": [
      "\u001b[0;31m---------------------------------------------------------------------------\u001b[0m",
      "\u001b[0;31mArithmeticError\u001b[0m                           Traceback (most recent call last)",
      "Cell \u001b[0;32mIn[529], line 1\u001b[0m\n\u001b[0;32m----> 1\u001b[0m f1\u001b[38;5;241m=\u001b[39m\u001b[43mfactor\u001b[49m\u001b[43m(\u001b[49m\u001b[43mInteger\u001b[49m\u001b[43m(\u001b[49m\u001b[43mtest1\u001b[49m\u001b[43m)\u001b[49m\u001b[43m)\u001b[49m\n",
      "File \u001b[0;32m~/miniconda3/envs/sagemath/lib/python3.10/site-packages/sage/arith/misc.py:2622\u001b[0m, in \u001b[0;36mfactor\u001b[0;34m(n, proof, int_, algorithm, verbose, **kwds)\u001b[0m\n\u001b[1;32m   2619\u001b[0m     m \u001b[38;5;241m=\u001b[39m n\u001b[38;5;241m.\u001b[39mfactor\n\u001b[1;32m   2621\u001b[0m \u001b[38;5;28;01mif\u001b[39;00m \u001b[38;5;28misinstance\u001b[39m(n, Integer):\n\u001b[0;32m-> 2622\u001b[0m     \u001b[38;5;28;01mreturn\u001b[39;00m \u001b[43mm\u001b[49m\u001b[43m(\u001b[49m\u001b[43mproof\u001b[49m\u001b[38;5;241;43m=\u001b[39;49m\u001b[43mproof\u001b[49m\u001b[43m,\u001b[49m\u001b[43m \u001b[49m\u001b[43malgorithm\u001b[49m\u001b[38;5;241;43m=\u001b[39;49m\u001b[43malgorithm\u001b[49m\u001b[43m,\u001b[49m\u001b[43m \u001b[49m\u001b[43mint_\u001b[49m\u001b[38;5;241;43m=\u001b[39;49m\u001b[43mint_\u001b[49m\u001b[43m,\u001b[49m\n\u001b[1;32m   2623\u001b[0m \u001b[43m             \u001b[49m\u001b[43mverbose\u001b[49m\u001b[38;5;241;43m=\u001b[39;49m\u001b[43mverbose\u001b[49m\u001b[43m,\u001b[49m\u001b[43m \u001b[49m\u001b[38;5;241;43m*\u001b[39;49m\u001b[38;5;241;43m*\u001b[39;49m\u001b[43mkwds\u001b[49m\u001b[43m)\u001b[49m\n\u001b[1;32m   2625\u001b[0m \u001b[38;5;66;03m# Polynomial or other factorable object\u001b[39;00m\n\u001b[1;32m   2626\u001b[0m \u001b[38;5;28;01mtry\u001b[39;00m:\n",
      "File \u001b[0;32m~/miniconda3/envs/sagemath/lib/python3.10/site-packages/sage/rings/integer.pyx:3919\u001b[0m, in \u001b[0;36msage.rings.integer.Integer.factor (build/cythonized/sage/rings/integer.c:24931)\u001b[0;34m()\u001b[0m\n\u001b[1;32m   3917\u001b[0m \n\u001b[1;32m   3918\u001b[0m         if mpz_sgn(self.value) == 0:\n\u001b[0;32m-> 3919\u001b[0m             raise ArithmeticError(\"factorization of 0 is not defined\")\n\u001b[1;32m   3920\u001b[0m \n\u001b[1;32m   3921\u001b[0m         if mpz_sgn(self.value) > 0:\n",
      "\u001b[0;31mArithmeticError\u001b[0m: factorization of 0 is not defined"
     ]
    }
   ],
   "source": [
    "f1=factor(Integer(test1))"
   ]
  },
  {
   "cell_type": "code",
   "execution_count": 496,
   "id": "dc0eaba2",
   "metadata": {},
   "outputs": [],
   "source": [
    "f2=factor(Integer(test2))"
   ]
  },
  {
   "cell_type": "code",
   "execution_count": 497,
   "id": "825648e0",
   "metadata": {},
   "outputs": [
    {
     "data": {
      "text/plain": [
       "(-1 * 2^2 * 3^3 * 5^19, 2^12 * 5^13 * 29^2)"
      ]
     },
     "execution_count": 497,
     "metadata": {},
     "output_type": "execute_result"
    }
   ],
   "source": [
    "f1,f2"
   ]
  },
  {
   "cell_type": "code",
   "execution_count": 352,
   "id": "bee1b258",
   "metadata": {},
   "outputs": [],
   "source": [
    "disc_list.append(disc)"
   ]
  },
  {
   "cell_type": "code",
   "execution_count": 353,
   "id": "3f96fa75",
   "metadata": {},
   "outputs": [
    {
     "data": {
      "text/plain": [
       "[1,\n",
       " 1,\n",
       " a_1^2 - 4*a_0,\n",
       " a_1^2*a_2^2 - 4*a_0*a_2^3 - 4*a_1^3 + 18*a_0*a_1*a_2 - 27*a_0^2,\n",
       " a_1^2*a_2^2*a_3^2 - 4*a_0*a_2^3*a_3^2 - 4*a_1^3*a_3^3 + 18*a_0*a_1*a_2*a_3^3 - 27*a_0^2*a_3^4 - 4*a_1^2*a_2^3 + 16*a_0*a_2^4 + 18*a_1^3*a_2*a_3 - 80*a_0*a_1*a_2^2*a_3 - 6*a_0*a_1^2*a_3^2 + 144*a_0^2*a_2*a_3^2 - 27*a_1^4 + 144*a_0*a_1^2*a_2 - 128*a_0^2*a_2^2 - 192*a_0^2*a_1*a_3 + 256*a_0^3]"
      ]
     },
     "execution_count": 353,
     "metadata": {},
     "output_type": "execute_result"
    }
   ],
   "source": [
    "\n",
    "disc_list"
   ]
  },
  {
   "cell_type": "code",
   "execution_count": null,
   "id": "488754c2",
   "metadata": {},
   "outputs": [],
   "source": [
    "-24 + 74*x - 85*x^2 + 45*x^3 - 11*x^4 + x^5"
   ]
  },
  {
   "cell_type": "code",
   "execution_count": 233,
   "id": "a484877c",
   "metadata": {},
   "outputs": [],
   "source": [
    "#-------------------------------------------------------------------------------------------------------------"
   ]
  },
  {
   "cell_type": "code",
   "execution_count": null,
   "id": "637760a5",
   "metadata": {},
   "outputs": [],
   "source": []
  }
 ],
 "metadata": {
  "kernelspec": {
   "display_name": "SageMath 9.7 [conda env:sagemath]",
   "language": "sage",
   "name": "conda-env-sagemath-sagemath"
  },
  "language_info": {
   "codemirror_mode": {
    "name": "ipython",
    "version": 3
   },
   "file_extension": ".py",
   "mimetype": "text/x-python",
   "name": "python",
   "nbconvert_exporter": "python",
   "pygments_lexer": "ipython3",
   "version": "3.10.4"
  }
 },
 "nbformat": 4,
 "nbformat_minor": 5
}
