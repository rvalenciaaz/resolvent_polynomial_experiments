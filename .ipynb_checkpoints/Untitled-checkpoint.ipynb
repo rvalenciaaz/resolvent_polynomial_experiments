{
 "cells": [
  {
   "cell_type": "code",
   "execution_count": 1,
   "id": "23ec0499-8adb-44cf-8f55-a0cc9f97b5a5",
   "metadata": {},
   "outputs": [],
   "source": [
    "def mycollect(e1, e2):\n",
    "    \"\"\"\n",
    "    Collects e2 coefficients in e1, even when e2 is not a factor of\n",
    "    some of the terms of e1.\n",
    "    Assumes a Sage/Maxima environment where maxima_calculus.gensym()._sage_()\n",
    "    is available.\n",
    "    \"\"\"\n",
    "    g = maxima_calculus.gensym()._sage_()\n",
    "    while g in e1.variables():\n",
    "        g = maxima_calculus.gensym()._sage_()\n",
    "    return sum([v[0]*g^v[1] for v in e1.subs(e2 == g).coefficients(g)]).subs(g == e2)"
   ]
  },
  {
   "cell_type": "code",
   "execution_count": 2,
   "id": "2225f7ae-050b-4825-9b5e-e50a4ba8e264",
   "metadata": {},
   "outputs": [],
   "source": [
    "deg = 4"
   ]
  },
  {
   "cell_type": "code",
   "execution_count": 3,
   "id": "7eff0dd1-e3a6-4f59-a7c2-331884071fa2",
   "metadata": {},
   "outputs": [
    {
     "data": {
      "text/plain": [
       "(a_0, a_1, a_2, a_3, alpha)"
      ]
     },
     "execution_count": 3,
     "metadata": {},
     "output_type": "execute_result"
    }
   ],
   "source": [
    "var_list = [\"a_\" + str(i) for i in range(deg)]\n",
    "var(var_list + [\"alpha\"])  # Sage-specific function to declare symbolic vars"
   ]
  },
  {
   "cell_type": "code",
   "execution_count": 4,
   "id": "825807a8-1e2f-4f3c-81d5-0a92a412bb45",
   "metadata": {},
   "outputs": [],
   "source": [
    "# Example disc_list; make sure it has enough entries if you're indexing disc_list[deg-1]\n",
    "disc_list = [1, 1, a_1^2 - 4*a_0]  # For deg = 4, disc_list[3] is needed below."
   ]
  },
  {
   "cell_type": "code",
   "execution_count": 5,
   "id": "3f259a66-402c-426d-9b2c-d566a73b6857",
   "metadata": {},
   "outputs": [],
   "source": [
    "# d_coef: [ (1*2)/2, (2*3)/2, (3*4)/2, ... ] up to deg-1\n",
    "d_coef = [i*(i+1)/2 for i in range(1, deg)]\n",
    "\n",
    "# d_sym: last (deg-2) of a_i plus [1]\n",
    "d_sym = [eval(\"a_\" + str(i)) for i in range(deg)]\n",
    "d_sym = d_sym[-(deg-2):] + [1]\n",
    "\n",
    "# d_alpha: [1, alpha, alpha^2, ... ] up to alpha^(deg-2)\n",
    "d_alpha = [eval(\"alpha**\" + str(i)) for i in range(deg - 1)]\n",
    "\n",
    "# d_exp = sum of i*j*k for i in d_coef, j in d_sym, k in d_alpha\n",
    "d_exp = sum([i*j*k for i, j, k in zip(d_coef, d_sym, d_alpha)])\n",
    "\n",
    "# n_coef initialization\n",
    "n_coef = [2, 2]\n",
    "for j in range(deg - 3):\n",
    "    n_coef.append(0)\n",
    "    add = list(range(1, j + 4))\n",
    "    n_coef = [x + y for x, y in zip(n_coef, add)]\n",
    "\n",
    "# eqb_sym: last (deg-1) of a_i\n",
    "eqb_sym = [eval(\"a_\" + str(i)) for i in range(deg)]\n",
    "eqb_sym = eqb_sym[-(deg - 1):]\n",
    "eqb_exp = sum([i*j*k for i, j, k in zip(n_coef, d_alpha, eqb_sym)])\n",
    "\n",
    "# eqc_sym uses reversed(d_coef) and first (deg-1) of a_i\n",
    "d_coef_rev = list(reversed(d_coef))\n",
    "eqc_sym = [eval(\"a_\" + str(i)) for i in range(deg)]\n",
    "eqc_sym = eqc_sym[: (deg - 1)]\n",
    "eqc_exp = sum([i*j*k for i, j, k in zip(d_coef_rev, d_alpha, eqc_sym)])\n",
    "\n",
    "# Compute ratio, eqb, eqc\n",
    "ratio = -1/2 * (eqb_exp / d_exp)\n",
    "eqb = eqb_exp / d_exp\n",
    "eqc = eqc_exp / d_exp\n",
    "\n",
    "# formula\n",
    "formula = ((ratio^2 + eqb*ratio + eqc) * (d_exp^2)).full_simplify().factor()"
   ]
  },
  {
   "cell_type": "code",
   "execution_count": 11,
   "id": "529bd7a6-9c1a-46ad-9f0f-5346eaf3d5e3",
   "metadata": {},
   "outputs": [],
   "source": [
    "# Build a \"full\" expression\n",
    "coeffs = [eval(\"a_\" + str(i)) for i in range(deg)] + [1]\n",
    "alphas = [eval(\"alpha**\" + str(i)) for i in range(deg + 1)]\n",
    "full = sum([x*y for x, y in zip(coeffs, alphas)])"
   ]
  },
  {
   "cell_type": "code",
   "execution_count": 12,
   "id": "dc91994c-e4a4-4d19-9fac-0148113a30c8",
   "metadata": {},
   "outputs": [
    {
     "data": {
      "text/plain": [
       "-9/4*a_3^2*alpha^4 - 3*a_2*a_3*alpha^3 + 6*a_2*alpha^4 - 3*a_2^2*alpha^2 + 9/2*a_1*a_3*alpha^2 + 18*a_1*alpha^3 - 3*a_1*a_2*alpha + 18*a_0*a_3*alpha + 36*a_0*alpha^2 - 9/4*a_1^2 + 6*a_0*a_2"
      ]
     },
     "execution_count": 12,
     "metadata": {},
     "output_type": "execute_result"
    }
   ],
   "source": [
    "formula"
   ]
  },
  {
   "cell_type": "code",
   "execution_count": 13,
   "id": "e2b33213-08b1-46a2-89af-718866262ec6",
   "metadata": {},
   "outputs": [],
   "source": [
    "# Collect terms of formula\n",
    "formula_collected = mycollect(formula, alpha)\n",
    "tmp = formula"
   ]
  },
  {
   "cell_type": "code",
   "execution_count": 14,
   "id": "5ff70539-47ba-460d-990d-08f65f0c1096",
   "metadata": {},
   "outputs": [
    {
     "data": {
      "text/plain": [
       "-3/4*(3*a_3^2 - 8*a_2)*alpha^4 - 3*(a_2*a_3 - 6*a_1)*alpha^3 - 3/2*(2*a_2^2 - 3*a_1*a_3 - 24*a_0)*alpha^2 - 9/4*a_1^2 + 6*a_0*a_2 - 3*(a_1*a_2 - 6*a_0*a_3)*alpha"
      ]
     },
     "execution_count": 14,
     "metadata": {},
     "output_type": "execute_result"
    }
   ],
   "source": [
    "formula_collected"
   ]
  },
  {
   "cell_type": "code",
   "execution_count": 15,
   "id": "5d2be107-a87b-4482-a7bc-e90d9ed86b38",
   "metadata": {},
   "outputs": [],
   "source": [
    "for i in range(deg - 3):\n",
    "    tmp = mycollect(tmp, alpha)\n",
    "    leading = tmp.operands()[0].subs({alpha: 1})\n",
    "    tmp = (tmp - leading * alpha**((deg - 3) - i - 1) * full).full_simplify()\n",
    "\n",
    "simfo = mycollect(tmp, alpha)\n",
    "simfo_terms = simfo.operands()"
   ]
  },
  {
   "cell_type": "code",
   "execution_count": 16,
   "id": "442ffede-e0c4-47cf-bc07-74816765f7c9",
   "metadata": {},
   "outputs": [],
   "source": [
    "lonely_terms = [term for term in simfo_terms if not(term.has(alpha))]\n",
    "fixed = [term for term in simfo_terms if term not in lonely_terms] + [sum(lonely_terms)]\n",
    "fixed_only = [term.subs({alpha: 1}) for term in fixed]\n",
    "fixed_only_2 = [val / fixed_only[0] for val in fixed_only]\n",
    "\n",
    "cal_list = list(reversed(fixed_only_2[1:]))\n",
    "co_list = [eval(\"a_\" + str(i)) for i in range(deg)][:deg - 1]\n",
    "subi = dict(zip(co_list, cal_list))"
   ]
  },
  {
   "cell_type": "code",
   "execution_count": 17,
   "id": "e7f22251-7c3a-42ee-ab42-90c0d19f88b2",
   "metadata": {},
   "outputs": [
    {
     "data": {
      "text/plain": [
       "{a_0: (a_0*a_3^2 - a_1^2)/(a_3^3 - 4*a_2*a_3 + 8*a_1),\n",
       " a_1: (a_1*a_3^2 - 4*a_1*a_2 + 8*a_0*a_3)/(a_3^3 - 4*a_2*a_3 + 8*a_1),\n",
       " a_2: (a_2*a_3^2 - 4*a_2^2 + 2*a_1*a_3 + 16*a_0)/(a_3^3 - 4*a_2*a_3 + 8*a_1)}"
      ]
     },
     "execution_count": 17,
     "metadata": {},
     "output_type": "execute_result"
    }
   ],
   "source": [
    "subi"
   ]
  },
  {
   "cell_type": "code",
   "execution_count": null,
   "id": "99aa1f4d-03e4-4918-bce3-5d8977e9b7b5",
   "metadata": {},
   "outputs": [],
   "source": []
  }
 ],
 "metadata": {
  "kernelspec": {
   "display_name": "SageMath 10.5",
   "language": "sage",
   "name": "sagemath"
  },
  "language_info": {
   "codemirror_mode": {
    "name": "ipython",
    "version": 3
   },
   "file_extension": ".py",
   "mimetype": "text/x-python",
   "name": "python",
   "nbconvert_exporter": "python",
   "pygments_lexer": "ipython3",
   "version": "3.12.9"
  }
 },
 "nbformat": 4,
 "nbformat_minor": 5
}
