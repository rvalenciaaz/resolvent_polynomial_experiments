{
 "cells": [
  {
   "cell_type": "code",
   "execution_count": 1,
   "id": "586b660a",
   "metadata": {},
   "outputs": [],
   "source": [
    "def mycollect(e1, e2):\n",
    "    \"\"\"\n",
    "    Collects e2 coefficients in e1, even when e2 is not a factor of\n",
    "    some of the terms of e1\n",
    "    \"\"\"\n",
    "    g = maxima_calculus.gensym()._sage_()\n",
    "    while g in e1.variables(): g = maxima_calculus.gensym()._sage_()\n",
    "    return sum([v[0]*g^v[1]\n",
    "                for v in e1.subs(e2==g).coefficients(g)]).subs(g==e2)"
   ]
  },
  {
   "cell_type": "code",
   "execution_count": null,
   "id": "f9bd9cba",
   "metadata": {},
   "outputs": [],
   "source": []
  },
  {
   "cell_type": "code",
   "execution_count": 2,
   "id": "bddf95ac",
   "metadata": {},
   "outputs": [],
   "source": [
    "deg=3"
   ]
  },
  {
   "cell_type": "code",
   "execution_count": 3,
   "id": "116b0938",
   "metadata": {},
   "outputs": [],
   "source": [
    "var_list=[\"a_\"+str(i) for i in range(0,deg+1)]"
   ]
  },
  {
   "cell_type": "code",
   "execution_count": 4,
   "id": "81880a8c",
   "metadata": {},
   "outputs": [
    {
     "data": {
      "text/plain": [
       "(a_0, a_1, a_2, a_3, alpha)"
      ]
     },
     "execution_count": 4,
     "metadata": {},
     "output_type": "execute_result"
    }
   ],
   "source": [
    "var(var_list+[\"alpha\"])"
   ]
  },
  {
   "cell_type": "code",
   "execution_count": 5,
   "id": "66f4fb0b",
   "metadata": {},
   "outputs": [
    {
     "data": {
      "text/plain": [
       "(x_1, x_2, x_3, x_4, x_5)"
      ]
     },
     "execution_count": 5,
     "metadata": {},
     "output_type": "execute_result"
    }
   ],
   "source": [
    "var(\"x_1,x_2,x_3,x_4,x_5\")"
   ]
  },
  {
   "cell_type": "code",
   "execution_count": 6,
   "id": "f4556807",
   "metadata": {},
   "outputs": [],
   "source": [
    "#disc_list=[1,1,a_1^2-4*a_0*a_2]"
   ]
  },
  {
   "cell_type": "code",
   "execution_count": 7,
   "id": "d5bd5516",
   "metadata": {},
   "outputs": [],
   "source": [
    "d_coef=[i*(i+1)/2 for i in range(1,deg)]"
   ]
  },
  {
   "cell_type": "code",
   "execution_count": null,
   "id": "77f0506e",
   "metadata": {},
   "outputs": [],
   "source": []
  },
  {
   "cell_type": "code",
   "execution_count": 8,
   "id": "5a3eb1b2",
   "metadata": {},
   "outputs": [],
   "source": [
    "d_sym=[eval(\"a_\"+str(i)) for i in range(0,deg)]\n",
    "d_sym=d_sym[-(deg-2):]+[1]"
   ]
  },
  {
   "cell_type": "code",
   "execution_count": 9,
   "id": "643779b7",
   "metadata": {},
   "outputs": [
    {
     "data": {
      "text/plain": [
       "[a_2, 1]"
      ]
     },
     "execution_count": 9,
     "metadata": {},
     "output_type": "execute_result"
    }
   ],
   "source": [
    "d_sym"
   ]
  },
  {
   "cell_type": "code",
   "execution_count": 10,
   "id": "9d929b21",
   "metadata": {},
   "outputs": [],
   "source": [
    "d_alpha=[eval(\"alpha**\"+str(i)) for i in range (0,deg-1)]"
   ]
  },
  {
   "cell_type": "code",
   "execution_count": 11,
   "id": "53006e90",
   "metadata": {},
   "outputs": [],
   "source": [
    "d_exp=sum([i*j*k for i,j,k in zip(d_coef,d_sym,d_alpha)])"
   ]
  },
  {
   "cell_type": "code",
   "execution_count": 12,
   "id": "8b581a1a",
   "metadata": {},
   "outputs": [
    {
     "data": {
      "text/plain": [
       "a_2 + 3*alpha"
      ]
     },
     "execution_count": 12,
     "metadata": {},
     "output_type": "execute_result"
    }
   ],
   "source": [
    "d_exp"
   ]
  },
  {
   "cell_type": "code",
   "execution_count": 13,
   "id": "07d6d171",
   "metadata": {},
   "outputs": [],
   "source": [
    "n_coef=[2,2]\n",
    "for j in range(0,deg-3):\n",
    "    n_coef=n_coef+[0]\n",
    "    add=list(range(1,j+4))\n",
    "    n_coef=[x + y for x, y in zip(n_coef, add)]"
   ]
  },
  {
   "cell_type": "code",
   "execution_count": 14,
   "id": "e0912d38",
   "metadata": {},
   "outputs": [
    {
     "data": {
      "text/plain": [
       "[2, 2]"
      ]
     },
     "execution_count": 14,
     "metadata": {},
     "output_type": "execute_result"
    }
   ],
   "source": [
    "n_coef"
   ]
  },
  {
   "cell_type": "code",
   "execution_count": 15,
   "id": "585505d2",
   "metadata": {},
   "outputs": [],
   "source": [
    "eqb_sym=[eval(\"a_\"+str(i)) for i in range(0,deg)]\n",
    "eqb_sym=eqb_sym[-(deg-1):]"
   ]
  },
  {
   "cell_type": "code",
   "execution_count": null,
   "id": "4e7939ac",
   "metadata": {},
   "outputs": [],
   "source": []
  },
  {
   "cell_type": "code",
   "execution_count": 16,
   "id": "96d99453",
   "metadata": {},
   "outputs": [],
   "source": [
    "eqb_exp=sum([i*j*k for i,j,k in zip(n_coef,d_alpha,eqb_sym)])"
   ]
  },
  {
   "cell_type": "code",
   "execution_count": 17,
   "id": "f7352dfe",
   "metadata": {},
   "outputs": [
    {
     "data": {
      "text/plain": [
       "2*a_2*alpha + 2*a_1"
      ]
     },
     "execution_count": 17,
     "metadata": {},
     "output_type": "execute_result"
    }
   ],
   "source": [
    "eqb_exp"
   ]
  },
  {
   "cell_type": "code",
   "execution_count": 18,
   "id": "61c7bcd4",
   "metadata": {},
   "outputs": [],
   "source": [
    "d_coef_rev=list(reversed(d_coef))"
   ]
  },
  {
   "cell_type": "code",
   "execution_count": 19,
   "id": "7e0402d5",
   "metadata": {},
   "outputs": [],
   "source": [
    "eqc_sym=[eval(\"a_\"+str(i)) for i in range(0,deg)]\n",
    "eqc_sym=eqc_sym[0:(deg-1)]"
   ]
  },
  {
   "cell_type": "code",
   "execution_count": 20,
   "id": "e6d57a8e",
   "metadata": {},
   "outputs": [
    {
     "data": {
      "text/plain": [
       "([a_0, a_1], [3, 1], [1, alpha])"
      ]
     },
     "execution_count": 20,
     "metadata": {},
     "output_type": "execute_result"
    }
   ],
   "source": [
    "eqc_sym, d_coef_rev,d_alpha"
   ]
  },
  {
   "cell_type": "code",
   "execution_count": 21,
   "id": "15c7376f",
   "metadata": {},
   "outputs": [],
   "source": [
    "eqc_exp=sum([i*j*k for i,j,k in zip(d_coef_rev,d_alpha,eqc_sym)])"
   ]
  },
  {
   "cell_type": "code",
   "execution_count": 22,
   "id": "e513c9b9",
   "metadata": {},
   "outputs": [
    {
     "data": {
      "text/plain": [
       "a_1*alpha + 3*a_0"
      ]
     },
     "execution_count": 22,
     "metadata": {},
     "output_type": "execute_result"
    }
   ],
   "source": [
    "eqc_exp"
   ]
  },
  {
   "cell_type": "code",
   "execution_count": null,
   "id": "ae3380a6",
   "metadata": {},
   "outputs": [],
   "source": []
  },
  {
   "cell_type": "code",
   "execution_count": 23,
   "id": "229430e9",
   "metadata": {},
   "outputs": [],
   "source": [
    "#-----------------------------------------------------------------------------------------------"
   ]
  },
  {
   "cell_type": "code",
   "execution_count": 24,
   "id": "9422fe13",
   "metadata": {},
   "outputs": [],
   "source": [
    "ratio=-1/2*(eqb_exp/d_exp)"
   ]
  },
  {
   "cell_type": "code",
   "execution_count": 25,
   "id": "d5877843",
   "metadata": {},
   "outputs": [],
   "source": [
    "eqb=eqb_exp/d_exp\n",
    "eqc=eqc_exp/d_exp"
   ]
  },
  {
   "cell_type": "code",
   "execution_count": 26,
   "id": "cb90b8ce",
   "metadata": {},
   "outputs": [],
   "source": [
    "formula1=((-4/(deg-1)^2)*(ratio^2+eqb*ratio+eqc)*(d_exp^2)).full_simplify().factor() #"
   ]
  },
  {
   "cell_type": "code",
   "execution_count": 27,
   "id": "098353b7",
   "metadata": {},
   "outputs": [],
   "source": [
    "formula2=((1/(deg-1)^2)*((eqb_exp)^2-4*eqc_exp*d_exp)).full_simplify().factor()"
   ]
  },
  {
   "cell_type": "code",
   "execution_count": 28,
   "id": "77f42deb",
   "metadata": {},
   "outputs": [
    {
     "data": {
      "text/plain": [
       "1"
      ]
     },
     "execution_count": 28,
     "metadata": {},
     "output_type": "execute_result"
    }
   ],
   "source": [
    "formula1/formula2"
   ]
  },
  {
   "cell_type": "code",
   "execution_count": 156,
   "id": "c7da54e3",
   "metadata": {},
   "outputs": [],
   "source": [
    "formula=formula2"
   ]
  },
  {
   "cell_type": "code",
   "execution_count": null,
   "id": "d539d6eb",
   "metadata": {},
   "outputs": [],
   "source": []
  },
  {
   "cell_type": "code",
   "execution_count": 157,
   "id": "daca4239",
   "metadata": {},
   "outputs": [],
   "source": [
    "f1=(eqb_exp^2).full_simplify().expand()"
   ]
  },
  {
   "cell_type": "code",
   "execution_count": 158,
   "id": "c388c95d",
   "metadata": {},
   "outputs": [],
   "source": [
    "f2=(4*eqc_exp*d_exp).full_simplify().expand()"
   ]
  },
  {
   "cell_type": "code",
   "execution_count": 159,
   "id": "9fe0d732",
   "metadata": {},
   "outputs": [],
   "source": [
    "#(mycollect(f1,alpha)-(9*a_3^2)*(alpha^4+a_3*alpha^3+a_2*alpha^2+a_1*alpha+a_0)).full_simplify()"
   ]
  },
  {
   "cell_type": "code",
   "execution_count": 160,
   "id": "f33c3982",
   "metadata": {},
   "outputs": [],
   "source": [
    "#(mycollect(f2,alpha)-24*a_2*(alpha^4+a_3*alpha^3+a_2*alpha^2+a_1*alpha+a_0)).full_simplify()"
   ]
  },
  {
   "cell_type": "code",
   "execution_count": 161,
   "id": "5bbacdce",
   "metadata": {},
   "outputs": [
    {
     "data": {
      "text/plain": [
       "(16*a_4^2*alpha^6 + 48*a_3*a_4*alpha^5 + 36*a_3^2*alpha^4 + 48*a_2*a_4*alpha^4 + 72*a_2*a_3*alpha^3 + 32*a_1*a_4*alpha^3 + 36*a_2^2*alpha^2 + 48*a_1*a_3*alpha^2 + 48*a_1*a_2*alpha + 16*a_1^2,\n",
       " 24*a_3*a_4*alpha^5 + 40*a_3*alpha^6 + 12*a_3^2*alpha^4 + 72*a_2*a_4*alpha^4 + 120*a_2*alpha^5 + 40*a_2*a_3*alpha^3 + 144*a_1*a_4*alpha^3 + 240*a_1*alpha^4 + 12*a_2^2*alpha^2 + 72*a_1*a_3*alpha^2 + 240*a_0*a_4*alpha^2 + 400*a_0*alpha^3 + 24*a_1*a_2*alpha + 120*a_0*a_3*alpha + 40*a_0*a_2)"
      ]
     },
     "execution_count": 161,
     "metadata": {},
     "output_type": "execute_result"
    }
   ],
   "source": [
    "f1,f2"
   ]
  },
  {
   "cell_type": "markdown",
   "id": "d1cc0e79",
   "metadata": {},
   "source": [
    "e = SymmetricFunctions(QQ).e()"
   ]
  },
  {
   "cell_type": "markdown",
   "id": "07bfe738",
   "metadata": {},
   "source": [
    "e([4]).expand(5)"
   ]
  },
  {
   "cell_type": "markdown",
   "id": "ad7c4640",
   "metadata": {},
   "source": [
    "x_1*x_2 + x_1*x_3 + x_2*x_3 + x_1*x_4 + x_2*x_4 + x_3*x_4 + x_1*x_5 + x_2*x_5 + x_3*x_5 + x_4*x_5\n",
    "x_1*x_2*x_3 + x_1*x_2*x_4 + x_1*x_3*x_4 + x_2*x_3*x_4 + x_1*x_2*x_5 + x_1*x_3*x_5 + x_2*x_3*x_5 + x_1*x_4*x_5 + x_2*x_4*x_5 + x_3*x_4*x_5\n",
    "x_1*x_2*x_3*x_4 + x_1*x_2*x_3*x_5 + x_1*x_2*x_4*x_5 + x_1*x_3*x_4*x_5 + x_2*x_3*x_4*x_5"
   ]
  },
  {
   "cell_type": "code",
   "execution_count": 162,
   "id": "1cfd2547",
   "metadata": {},
   "outputs": [
    {
     "data": {
      "text/plain": [
       "a_4^2*x_1^6 + 3/2*a_3*a_4*x_1^5 - 5/2*a_3*x_1^6 + 3/2*a_3^2*x_1^4 + 3/2*a_4*x_1^5 + 15/2*x_1^6 - 11/2*a_4*x_1^4*x_2 - 15/2*x_1^5*x_2 - 11/2*a_4*x_1^4*x_3 - 15/2*x_1^5*x_3 + 8*a_4*x_1^3*x_2*x_3 + 10*x_1^4*x_2*x_3 - 2*a_3*x_1^4 - 7/2*a_3*x_1^3*x_2 - 7/2*a_3*x_1^3*x_3 + 6*a_3*x_1^2*x_2*x_3 + 3/2*x_1^4 + 3/2*x_1^3*x_2 + x_1^2*x_2^2 + 3/2*x_1^3*x_3 - 2*x_1^2*x_2*x_3 - 2*x_1*x_2^2*x_3 + x_1^2*x_3^2 - 2*x_1*x_2*x_3^2 + x_2^2*x_3^2"
      ]
     },
     "execution_count": 162,
     "metadata": {},
     "output_type": "execute_result"
    }
   ],
   "source": [
    "#verification\n",
    "formula.subs({alpha:x_1,a_2:-x_1-x_2-x_3,a_1:x_1*x_2+x_1*x_3+x_2*x_3,a_0:-x_1*x_2*x_3}).full_simplify().factor()\n",
    "#formula.subs({alpha:x_1,a_3:-(x_1+x_2+x_3+x_4),a_2:(x_3*x_4+x_2*x_4+x_2*x_3+x_1*x_4+x_1*x_3+x_1*x_2),a_1:-(x_1*x_2*x_3+x_1*x_2*x_4+x_1*x_3*x_4+x_2*x_3*x_4),a_0:(x_1*x_2*x_3*x_4)}).full_simplify().factor()\n",
    "#formula.subs({alpha:x_1,a_4:-(x_1 + x_2 + x_3 + x_4 + x_5),a_3:(x_1*x_2 + x_1*x_3 + x_2*x_3 + x_1*x_4 + x_2*x_4 + x_3*x_4 + x_1*x_5 + x_2*x_5 + x_3*x_5 + x_4*x_5),\n",
    "#              a_2:-(x_1*x_2*x_3 + x_1*x_2*x_4 + x_1*x_3*x_4 + x_2*x_3*x_4 + x_1*x_2*x_5 + x_1*x_3*x_5 + x_2*x_3*x_5 + x_1*x_4*x_5 + x_2*x_4*x_5 + x_3*x_4*x_5),\n",
    "#              a_1:(x_1*x_2*x_3*x_4 + x_1*x_2*x_3*x_5 + x_1*x_2*x_4*x_5 + x_1*x_3*x_4*x_5 + x_2*x_3*x_4*x_5),a_0:-(x_1*x_2*x_3*x_4*x_5)}).full_simplify().factor()"
   ]
  },
  {
   "cell_type": "code",
   "execution_count": 163,
   "id": "0f2980be",
   "metadata": {},
   "outputs": [],
   "source": [
    "coeffs=[eval(\"a_\"+str(i)) for i in range(0,deg)]+[1]\n",
    "alphas=[eval(\"alpha**\"+str(i)) for i in range (0,deg+1)]"
   ]
  },
  {
   "cell_type": "code",
   "execution_count": 164,
   "id": "8c8d9ae7",
   "metadata": {},
   "outputs": [],
   "source": [
    "full=sum([x*y for x,y in zip(coeffs,alphas)])"
   ]
  },
  {
   "cell_type": "code",
   "execution_count": 165,
   "id": "904b955b",
   "metadata": {},
   "outputs": [],
   "source": [
    "tmp=formula\n",
    "for i in range(0,deg-3):\n",
    "    tmp=mycollect(tmp,alpha)\n",
    "    leading=tmp.operands()[0].subs({alpha:1})\n",
    "    tmp=(tmp-leading*alpha^((deg-3)-i-1)*full).full_simplify()"
   ]
  },
  {
   "cell_type": "code",
   "execution_count": 166,
   "id": "a8e5d9fe",
   "metadata": {},
   "outputs": [],
   "source": [
    "simfo=mycollect(tmp,alpha)"
   ]
  },
  {
   "cell_type": "code",
   "execution_count": 167,
   "id": "9c2bd263",
   "metadata": {},
   "outputs": [
    {
     "data": {
      "text/plain": [
       "(a_4^4 - 5*a_3*a_4^2 + 4*a_3^2 + 6*a_2*a_4 - 15*a_1)*alpha^4 + a_0*a_4^3 + (a_3*a_4^3 - a_2*a_4^2 + 12*a_2*a_3 - (4*a_3^2 + 7*a_1)*a_4 - 25*a_0)*alpha^3 - 4*a_0*a_3*a_4 + (a_2*a_4^3 - a_1*a_4^2 + 9*a_2^2 + a_1*a_3 - (4*a_2*a_3 + 15*a_0)*a_4)*alpha^2 + a_1^2 + 5*a_0*a_2 + (a_1*a_4^3 - 4*a_1*a_3*a_4 - a_0*a_4^2 + 9*a_1*a_2 - 5*a_0*a_3)*alpha"
      ]
     },
     "execution_count": 167,
     "metadata": {},
     "output_type": "execute_result"
    }
   ],
   "source": [
    "simfo"
   ]
  },
  {
   "cell_type": "code",
   "execution_count": 168,
   "id": "6f763e51",
   "metadata": {},
   "outputs": [],
   "source": [
    "simfo_terms=simfo.operands()"
   ]
  },
  {
   "cell_type": "code",
   "execution_count": 169,
   "id": "c4c5c3a1",
   "metadata": {},
   "outputs": [
    {
     "data": {
      "text/plain": [
       "[(a_4^4 - 5*a_3*a_4^2 + 4*a_3^2 + 6*a_2*a_4 - 15*a_1)*alpha^4,\n",
       " a_0*a_4^3,\n",
       " (a_3*a_4^3 - a_2*a_4^2 + 12*a_2*a_3 - (4*a_3^2 + 7*a_1)*a_4 - 25*a_0)*alpha^3,\n",
       " -4*a_0*a_3*a_4,\n",
       " (a_2*a_4^3 - a_1*a_4^2 + 9*a_2^2 + a_1*a_3 - (4*a_2*a_3 + 15*a_0)*a_4)*alpha^2,\n",
       " a_1^2,\n",
       " 5*a_0*a_2,\n",
       " (a_1*a_4^3 - 4*a_1*a_3*a_4 - a_0*a_4^2 + 9*a_1*a_2 - 5*a_0*a_3)*alpha]"
      ]
     },
     "execution_count": 169,
     "metadata": {},
     "output_type": "execute_result"
    }
   ],
   "source": [
    "simfo_terms"
   ]
  },
  {
   "cell_type": "code",
   "execution_count": 170,
   "id": "cf319b3c",
   "metadata": {},
   "outputs": [],
   "source": [
    "lonely_terms=[i for i in simfo_terms if not(i.has(alpha))]"
   ]
  },
  {
   "cell_type": "code",
   "execution_count": 171,
   "id": "f1145ca3",
   "metadata": {},
   "outputs": [],
   "source": [
    "fixed=[i for i in simfo_terms if i not in lonely_terms]+[sum(lonely_terms)]"
   ]
  },
  {
   "cell_type": "code",
   "execution_count": 172,
   "id": "e9cac895",
   "metadata": {},
   "outputs": [
    {
     "data": {
      "text/plain": [
       "[(a_4^4 - 5*a_3*a_4^2 + 4*a_3^2 + 6*a_2*a_4 - 15*a_1)*alpha^4,\n",
       " (a_3*a_4^3 - a_2*a_4^2 + 12*a_2*a_3 - (4*a_3^2 + 7*a_1)*a_4 - 25*a_0)*alpha^3,\n",
       " (a_2*a_4^3 - a_1*a_4^2 + 9*a_2^2 + a_1*a_3 - (4*a_2*a_3 + 15*a_0)*a_4)*alpha^2,\n",
       " (a_1*a_4^3 - 4*a_1*a_3*a_4 - a_0*a_4^2 + 9*a_1*a_2 - 5*a_0*a_3)*alpha,\n",
       " a_0*a_4^3 - 4*a_0*a_3*a_4 + a_1^2 + 5*a_0*a_2]"
      ]
     },
     "execution_count": 172,
     "metadata": {},
     "output_type": "execute_result"
    }
   ],
   "source": [
    "fixed"
   ]
  },
  {
   "cell_type": "code",
   "execution_count": 173,
   "id": "3146dfa0",
   "metadata": {},
   "outputs": [],
   "source": [
    "fixed_only=[i.subs({alpha:1}) for i in fixed]"
   ]
  },
  {
   "cell_type": "code",
   "execution_count": 174,
   "id": "395b6d55",
   "metadata": {},
   "outputs": [],
   "source": [
    "#fixed_only_2=[i/fixed_only[0] for i in fixed_only]"
   ]
  },
  {
   "cell_type": "code",
   "execution_count": 175,
   "id": "f4e7a199",
   "metadata": {},
   "outputs": [
    {
     "data": {
      "text/plain": [
       "[a_4^4 - 5*a_3*a_4^2 + 4*a_3^2 + 6*a_2*a_4 - 15*a_1,\n",
       " a_3*a_4^3 - a_2*a_4^2 + 12*a_2*a_3 - (4*a_3^2 + 7*a_1)*a_4 - 25*a_0,\n",
       " a_2*a_4^3 - a_1*a_4^2 + 9*a_2^2 + a_1*a_3 - (4*a_2*a_3 + 15*a_0)*a_4,\n",
       " a_1*a_4^3 - 4*a_1*a_3*a_4 - a_0*a_4^2 + 9*a_1*a_2 - 5*a_0*a_3,\n",
       " a_0*a_4^3 - 4*a_0*a_3*a_4 + a_1^2 + 5*a_0*a_2]"
      ]
     },
     "execution_count": 175,
     "metadata": {},
     "output_type": "execute_result"
    }
   ],
   "source": [
    "fixed_only"
   ]
  },
  {
   "cell_type": "code",
   "execution_count": 176,
   "id": "3816cb26",
   "metadata": {},
   "outputs": [],
   "source": [
    "cal_list=list(reversed(fixed_only))\n",
    "co_list=[eval(\"a_\"+str(i)) for i in range(0,deg)]"
   ]
  },
  {
   "cell_type": "code",
   "execution_count": 177,
   "id": "c912fb28",
   "metadata": {},
   "outputs": [],
   "source": [
    "subi=dict(zip(co_list,cal_list))"
   ]
  },
  {
   "cell_type": "code",
   "execution_count": null,
   "id": "cd3c2260",
   "metadata": {},
   "outputs": [],
   "source": []
  },
  {
   "cell_type": "code",
   "execution_count": 178,
   "id": "c3e18fa4",
   "metadata": {},
   "outputs": [
    {
     "data": {
      "text/plain": [
       "{a_0: a_0*a_4^3 - 4*a_0*a_3*a_4 + a_1^2 + 5*a_0*a_2,\n",
       " a_1: a_1*a_4^3 - 4*a_1*a_3*a_4 - a_0*a_4^2 + 9*a_1*a_2 - 5*a_0*a_3,\n",
       " a_2: a_2*a_4^3 - a_1*a_4^2 + 9*a_2^2 + a_1*a_3 - (4*a_2*a_3 + 15*a_0)*a_4,\n",
       " a_3: a_3*a_4^3 - a_2*a_4^2 + 12*a_2*a_3 - (4*a_3^2 + 7*a_1)*a_4 - 25*a_0,\n",
       " a_4: a_4^4 - 5*a_3*a_4^2 + 4*a_3^2 + 6*a_2*a_4 - 15*a_1}"
      ]
     },
     "execution_count": 178,
     "metadata": {},
     "output_type": "execute_result"
    }
   ],
   "source": [
    "subi"
   ]
  },
  {
   "cell_type": "code",
   "execution_count": 179,
   "id": "8341c0fd",
   "metadata": {},
   "outputs": [],
   "source": [
    "disc=disc_list[deg-1].subs(subi).full_simplify().factor()"
   ]
  },
  {
   "cell_type": "code",
   "execution_count": 180,
   "id": "203cf921",
   "metadata": {},
   "outputs": [
    {
     "data": {
      "text/plain": [
       "(a_4^16 - 20*a_3*a_4^14 + 160*a_3^2*a_4^12 + 40*a_2*a_4^13 - 640*a_3^3*a_4^10 - 640*a_2*a_3*a_4^11 - 20*a_1*a_4^12 + 1280*a_3^4*a_4^8 + 3840*a_2*a_3^2*a_4^9 + 634*a_2^2*a_4^10 + 338*a_1*a_3*a_4^10 - 152*a_0*a_4^11 - 1024*a_3^5*a_4^6 - 10240*a_2*a_3^3*a_4^7 - 7608*a_2^2*a_3*a_4^8 - 2136*a_1*a_3^2*a_4^8 - 634*a_1*a_2*a_4^9 + 2090*a_0*a_3*a_4^9 + 10240*a_2*a_3^4*a_4^5 + 30432*a_2^2*a_3^2*a_4^6 + 5984*a_1*a_3^3*a_4^6 + 4968*a_2^3*a_4^7 + 8076*a_1*a_2*a_3*a_4^7 - 10596*a_0*a_3^2*a_4^7 - 170*a_1^2*a_4^8 - 3094*a_0*a_2*a_4^8 - 40576*a_2^2*a_3^3*a_4^4 - 6272*a_1*a_3^4*a_4^4 - 39744*a_2^3*a_3*a_4^5 - 34176*a_1*a_2*a_3^2*a_4^5 + 23360*a_0*a_3^3*a_4^5 - 7452*a_1*a_2^2*a_4^6 + 1320*a_1^2*a_3*a_4^6 + 30180*a_0*a_2*a_3*a_4^6 + 1520*a_0*a_1*a_4^7 + 79488*a_2^3*a_3^2*a_4^3 + 48064*a_1*a_2*a_3^3*a_4^3 - 18752*a_0*a_3^4*a_4^3 + 19197*a_2^4*a_4^4 + 63666*a_1*a_2^2*a_3*a_4^4 - 2427*a_1^2*a_3^2*a_4^4 - 94656*a_0*a_2*a_3^2*a_4^4 - 2628*a_1^2*a_2*a_4^5 - 20592*a_0*a_2^2*a_4^5 - 12300*a_0*a_1*a_3*a_4^5 - 2000*a_0^2*a_4^6 - 76788*a_2^4*a_3*a_4^2 - 135432*a_1*a_2^2*a_3^2*a_4^2 - 532*a_1^2*a_3^3*a_4^2 + 93760*a_0*a_2*a_3^3*a_4^2 - 38394*a_1*a_2^3*a_4^3 + 9198*a_1^2*a_2*a_3*a_4^3 + 118890*a_0*a_2^2*a_3*a_4^3 + 27330*a_0*a_1*a_3^2*a_4^3 + 1548*a_1^3*a_4^4 + 19620*a_0*a_1*a_2*a_4^4 + 15000*a_0^2*a_3*a_4^4 + 29160*a_2^5*a_4 + 165240*a_1*a_2^3*a_3*a_4 + 5040*a_1^2*a_2*a_3^2*a_4 - 153000*a_0*a_2^2*a_3^2*a_4 - 9800*a_0*a_1*a_3^3*a_4 - 10125*a_1^2*a_2^2*a_4^2 - 44550*a_0*a_2^3*a_4^2 - 6390*a_1^3*a_3*a_4^2 - 79200*a_0*a_1*a_2*a_3*a_4^2 - 27375*a_0^2*a_3^2*a_4^2 - 5400*a_0*a_1^2*a_4^3 - 27000*a_0^2*a_2*a_4^3 - 72900*a_1*a_2^4 - 8100*a_1^2*a_2^2*a_3 + 81000*a_0*a_2^3*a_3 + 900*a_1^3*a_3^2 + 18000*a_0*a_1*a_2*a_3^2 - 2500*a_0^2*a_3^3 + 12150*a_1^3*a_2*a_4 + 60750*a_0*a_1*a_2^2*a_4 + 20250*a_0*a_1^2*a_3*a_4 + 101250*a_0^2*a_2*a_3*a_4 - 3375*a_1^4 - 33750*a_0*a_1^2*a_2 - 84375*a_0^2*a_2^2)*(a_1^2*a_2^2*a_3^2*a_4^2 - 4*a_0*a_2^3*a_3^2*a_4^2 - 4*a_1^3*a_3^3*a_4^2 + 18*a_0*a_1*a_2*a_3^3*a_4^2 - 27*a_0^2*a_3^4*a_4^2 - 4*a_1^2*a_2^3*a_4^3 + 16*a_0*a_2^4*a_4^3 + 18*a_1^3*a_2*a_3*a_4^3 - 80*a_0*a_1*a_2^2*a_3*a_4^3 - 6*a_0*a_1^2*a_3^2*a_4^3 + 144*a_0^2*a_2*a_3^2*a_4^3 - 27*a_1^4*a_4^4 + 144*a_0*a_1^2*a_2*a_4^4 - 128*a_0^2*a_2^2*a_4^4 - 192*a_0^2*a_1*a_3*a_4^4 + 256*a_0^3*a_4^5 - 4*a_1^2*a_2^2*a_3^3 + 16*a_0*a_2^3*a_3^3 + 16*a_1^3*a_3^4 - 72*a_0*a_1*a_2*a_3^4 + 108*a_0^2*a_3^5 + 18*a_1^2*a_2^3*a_3*a_4 - 72*a_0*a_2^4*a_3*a_4 - 80*a_1^3*a_2*a_3^2*a_4 + 356*a_0*a_1*a_2^2*a_3^2*a_4 + 24*a_0*a_1^2*a_3^3*a_4 - 630*a_0^2*a_2*a_3^3*a_4 - 6*a_1^3*a_2^2*a_4^2 + 24*a_0*a_1*a_2^3*a_4^2 + 144*a_1^4*a_3*a_4^2 - 746*a_0*a_1^2*a_2*a_3*a_4^2 + 560*a_0^2*a_2^2*a_3*a_4^2 + 1020*a_0^2*a_1*a_3^2*a_4^2 - 36*a_0*a_1^3*a_4^3 + 160*a_0^2*a_1*a_2*a_4^3 - 1600*a_0^3*a_3*a_4^3 - 27*a_1^2*a_2^4 + 108*a_0*a_2^5 + 144*a_1^3*a_2^2*a_3 - 630*a_0*a_1*a_2^3*a_3 - 128*a_1^4*a_3^2 + 560*a_0*a_1^2*a_2*a_3^2 + 825*a_0^2*a_2^2*a_3^2 - 900*a_0^2*a_1*a_3^3 - 192*a_1^4*a_2*a_4 + 1020*a_0*a_1^2*a_2^2*a_4 - 900*a_0^2*a_2^3*a_4 + 160*a_0*a_1^3*a_3*a_4 - 2050*a_0^2*a_1*a_2*a_3*a_4 + 2250*a_0^3*a_3^2*a_4 - 50*a_0^2*a_1^2*a_4^2 + 2000*a_0^3*a_2*a_4^2 + 256*a_1^5 - 1600*a_0*a_1^3*a_2 + 2250*a_0^2*a_1*a_2^2 + 2000*a_0^2*a_1^2*a_3 - 3750*a_0^3*a_2*a_3 - 2500*a_0^3*a_1*a_4 + 3125*a_0^4)"
      ]
     },
     "execution_count": 180,
     "metadata": {},
     "output_type": "execute_result"
    }
   ],
   "source": [
    "disc"
   ]
  },
  {
   "cell_type": "code",
   "execution_count": 59,
   "id": "7495deab",
   "metadata": {},
   "outputs": [],
   "source": [
    "#disc=(disc_list[deg-1].subs(subi)*fixed_only[0]^6).full_simplify().factor()"
   ]
  },
  {
   "cell_type": "code",
   "execution_count": null,
   "id": "a0a4985a",
   "metadata": {},
   "outputs": [],
   "source": []
  },
  {
   "cell_type": "code",
   "execution_count": null,
   "id": "10ff8533",
   "metadata": {},
   "outputs": [],
   "source": []
  },
  {
   "cell_type": "code",
   "execution_count": 60,
   "id": "bee1b258",
   "metadata": {},
   "outputs": [],
   "source": [
    "disc_list.append(disc)"
   ]
  },
  {
   "cell_type": "code",
   "execution_count": 61,
   "id": "3f96fa75",
   "metadata": {},
   "outputs": [
    {
     "data": {
      "text/plain": [
       "[1,\n",
       " 1,\n",
       " a_1^2 - 4*a_0*a_2,\n",
       " a_1^2*a_2^2 - 4*a_0*a_2^3 - 4*a_1^3 + 18*a_0*a_1*a_2 - 27*a_0^2]"
      ]
     },
     "execution_count": 61,
     "metadata": {},
     "output_type": "execute_result"
    }
   ],
   "source": [
    "disc_list"
   ]
  },
  {
   "cell_type": "code",
   "execution_count": 67,
   "id": "488754c2",
   "metadata": {},
   "outputs": [],
   "source": [
    "disc_list=disc_list[:-1]"
   ]
  },
  {
   "cell_type": "code",
   "execution_count": 68,
   "id": "ceab7ef8",
   "metadata": {},
   "outputs": [
    {
     "data": {
      "text/plain": [
       "[1, 1, a_1^2 - 4*a_0*a_2]"
      ]
     },
     "execution_count": 68,
     "metadata": {},
     "output_type": "execute_result"
    }
   ],
   "source": [
    "disc_list"
   ]
  },
  {
   "cell_type": "code",
   "execution_count": 69,
   "id": "bedf65da",
   "metadata": {},
   "outputs": [],
   "source": [
    "disc_list=disc_list+[a_1^2*a_2^2 - 4*a_0*a_2^3 - 4*a_1^3*a_3 + 18*a_0*a_1*a_2*a_3 - 27*a_0^2*a_3^2]"
   ]
  },
  {
   "cell_type": "code",
   "execution_count": 127,
   "id": "62cca29d",
   "metadata": {},
   "outputs": [],
   "source": [
    "disc_list=disc_list+[a_1^2*a_2^2*a_3^2 - 4*a_0*a_2^3*a_3^2 - 4*a_1^3*a_3^3 + 18*a_0*a_1*a_2*a_3^3 - 27*a_0^2*a_3^4 - 4*a_1^2*a_2^3*a_4 + 16*a_0*a_2^4*a_4 + 18*a_1^3*a_2*a_3*a_4 - 80*a_0*a_1*a_2^2*a_3*a_4 - 6*a_0*a_1^2*a_3^2*a_4 + 144*a_0^2*a_2*a_3^2*a_4 - 27*a_1^4*a_4^2 + 144*a_0*a_1^2*a_2*a_4^2 - 128*a_0^2*a_2^2*a_4^2 - 192*a_0^2*a_1*a_3*a_4^2 + 256*a_0^3*a_4^3]"
   ]
  },
  {
   "cell_type": "code",
   "execution_count": 233,
   "id": "a484877c",
   "metadata": {},
   "outputs": [],
   "source": [
    "#-------------------------------------------------------------------------------------------------------------"
   ]
  },
  {
   "cell_type": "code",
   "execution_count": null,
   "id": "637760a5",
   "metadata": {},
   "outputs": [],
   "source": []
  }
 ],
 "metadata": {
  "kernelspec": {
   "display_name": "SageMath 9.7 [conda env:sagemath]",
   "language": "sage",
   "name": "conda-env-sagemath-sagemath"
  },
  "language_info": {
   "codemirror_mode": {
    "name": "ipython",
    "version": 3
   },
   "file_extension": ".py",
   "mimetype": "text/x-python",
   "name": "python",
   "nbconvert_exporter": "python",
   "pygments_lexer": "ipython3",
   "version": "3.10.4"
  }
 },
 "nbformat": 4,
 "nbformat_minor": 5
}
