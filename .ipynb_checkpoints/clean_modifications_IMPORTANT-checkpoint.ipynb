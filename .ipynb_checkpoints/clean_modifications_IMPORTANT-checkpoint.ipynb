{
 "cells": [
  {
   "cell_type": "code",
   "execution_count": 174,
   "id": "36d90521",
   "metadata": {},
   "outputs": [],
   "source": [
    "#defining important variables, w acts as holder for the recurence wn=w(n-n), a and e are coefficients of the polynomial and the elementary symmetric polynomial, x are the roots, and alpha, beta, ratio additional auxiliary variables\n",
    "var_list=[\"w\"+str(i) for i in range(0,100)]+[\"a\"+str(i) for i in range(0,100)]+[\"e\"+str(i) for i in range(0,100)]+[\"h\"+str(i) for i in range(0,100)]+[\"p\"+str(i) for i in range(0,100)]+[\"x\"+str(i) for i in range(0,100)]+[\"alpha\",\"beta\",\"ratio\"]"
   ]
  },
  {
   "cell_type": "code",
   "execution_count": 175,
   "id": "efdd4859",
   "metadata": {},
   "outputs": [
    {
     "data": {
      "text/plain": [
       "(w0,\n",
       " w1,\n",
       " w2,\n",
       " w3,\n",
       " w4,\n",
       " w5,\n",
       " w6,\n",
       " w7,\n",
       " w8,\n",
       " w9,\n",
       " w10,\n",
       " w11,\n",
       " w12,\n",
       " w13,\n",
       " w14,\n",
       " w15,\n",
       " w16,\n",
       " w17,\n",
       " w18,\n",
       " w19,\n",
       " w20,\n",
       " w21,\n",
       " w22,\n",
       " w23,\n",
       " w24,\n",
       " w25,\n",
       " w26,\n",
       " w27,\n",
       " w28,\n",
       " w29,\n",
       " w30,\n",
       " w31,\n",
       " w32,\n",
       " w33,\n",
       " w34,\n",
       " w35,\n",
       " w36,\n",
       " w37,\n",
       " w38,\n",
       " w39,\n",
       " w40,\n",
       " w41,\n",
       " w42,\n",
       " w43,\n",
       " w44,\n",
       " w45,\n",
       " w46,\n",
       " w47,\n",
       " w48,\n",
       " w49,\n",
       " w50,\n",
       " w51,\n",
       " w52,\n",
       " w53,\n",
       " w54,\n",
       " w55,\n",
       " w56,\n",
       " w57,\n",
       " w58,\n",
       " w59,\n",
       " w60,\n",
       " w61,\n",
       " w62,\n",
       " w63,\n",
       " w64,\n",
       " w65,\n",
       " w66,\n",
       " w67,\n",
       " w68,\n",
       " w69,\n",
       " w70,\n",
       " w71,\n",
       " w72,\n",
       " w73,\n",
       " w74,\n",
       " w75,\n",
       " w76,\n",
       " w77,\n",
       " w78,\n",
       " w79,\n",
       " w80,\n",
       " w81,\n",
       " w82,\n",
       " w83,\n",
       " w84,\n",
       " w85,\n",
       " w86,\n",
       " w87,\n",
       " w88,\n",
       " w89,\n",
       " w90,\n",
       " w91,\n",
       " w92,\n",
       " w93,\n",
       " w94,\n",
       " w95,\n",
       " w96,\n",
       " w97,\n",
       " w98,\n",
       " w99,\n",
       " a0,\n",
       " a1,\n",
       " a2,\n",
       " a3,\n",
       " a4,\n",
       " a5,\n",
       " a6,\n",
       " a7,\n",
       " a8,\n",
       " a9,\n",
       " a10,\n",
       " a11,\n",
       " a12,\n",
       " a13,\n",
       " a14,\n",
       " a15,\n",
       " a16,\n",
       " a17,\n",
       " a18,\n",
       " a19,\n",
       " a20,\n",
       " a21,\n",
       " a22,\n",
       " a23,\n",
       " a24,\n",
       " a25,\n",
       " a26,\n",
       " a27,\n",
       " a28,\n",
       " a29,\n",
       " a30,\n",
       " a31,\n",
       " a32,\n",
       " a33,\n",
       " a34,\n",
       " a35,\n",
       " a36,\n",
       " a37,\n",
       " a38,\n",
       " a39,\n",
       " a40,\n",
       " a41,\n",
       " a42,\n",
       " a43,\n",
       " a44,\n",
       " a45,\n",
       " a46,\n",
       " a47,\n",
       " a48,\n",
       " a49,\n",
       " a50,\n",
       " a51,\n",
       " a52,\n",
       " a53,\n",
       " a54,\n",
       " a55,\n",
       " a56,\n",
       " a57,\n",
       " a58,\n",
       " a59,\n",
       " a60,\n",
       " a61,\n",
       " a62,\n",
       " a63,\n",
       " a64,\n",
       " a65,\n",
       " a66,\n",
       " a67,\n",
       " a68,\n",
       " a69,\n",
       " a70,\n",
       " a71,\n",
       " a72,\n",
       " a73,\n",
       " a74,\n",
       " a75,\n",
       " a76,\n",
       " a77,\n",
       " a78,\n",
       " a79,\n",
       " a80,\n",
       " a81,\n",
       " a82,\n",
       " a83,\n",
       " a84,\n",
       " a85,\n",
       " a86,\n",
       " a87,\n",
       " a88,\n",
       " a89,\n",
       " a90,\n",
       " a91,\n",
       " a92,\n",
       " a93,\n",
       " a94,\n",
       " a95,\n",
       " a96,\n",
       " a97,\n",
       " a98,\n",
       " a99,\n",
       " e0,\n",
       " e1,\n",
       " e2,\n",
       " e3,\n",
       " e4,\n",
       " e5,\n",
       " e6,\n",
       " e7,\n",
       " e8,\n",
       " e9,\n",
       " e10,\n",
       " e11,\n",
       " e12,\n",
       " e13,\n",
       " e14,\n",
       " e15,\n",
       " e16,\n",
       " e17,\n",
       " e18,\n",
       " e19,\n",
       " e20,\n",
       " e21,\n",
       " e22,\n",
       " e23,\n",
       " e24,\n",
       " e25,\n",
       " e26,\n",
       " e27,\n",
       " e28,\n",
       " e29,\n",
       " e30,\n",
       " e31,\n",
       " e32,\n",
       " e33,\n",
       " e34,\n",
       " e35,\n",
       " e36,\n",
       " e37,\n",
       " e38,\n",
       " e39,\n",
       " e40,\n",
       " e41,\n",
       " e42,\n",
       " e43,\n",
       " e44,\n",
       " e45,\n",
       " e46,\n",
       " e47,\n",
       " e48,\n",
       " e49,\n",
       " e50,\n",
       " e51,\n",
       " e52,\n",
       " e53,\n",
       " e54,\n",
       " e55,\n",
       " e56,\n",
       " e57,\n",
       " e58,\n",
       " e59,\n",
       " e60,\n",
       " e61,\n",
       " e62,\n",
       " e63,\n",
       " e64,\n",
       " e65,\n",
       " e66,\n",
       " e67,\n",
       " e68,\n",
       " e69,\n",
       " e70,\n",
       " e71,\n",
       " e72,\n",
       " e73,\n",
       " e74,\n",
       " e75,\n",
       " e76,\n",
       " e77,\n",
       " e78,\n",
       " e79,\n",
       " e80,\n",
       " e81,\n",
       " e82,\n",
       " e83,\n",
       " e84,\n",
       " e85,\n",
       " e86,\n",
       " e87,\n",
       " e88,\n",
       " e89,\n",
       " e90,\n",
       " e91,\n",
       " e92,\n",
       " e93,\n",
       " e94,\n",
       " e95,\n",
       " e96,\n",
       " e97,\n",
       " e98,\n",
       " e99,\n",
       " h0,\n",
       " h1,\n",
       " h2,\n",
       " h3,\n",
       " h4,\n",
       " h5,\n",
       " h6,\n",
       " h7,\n",
       " h8,\n",
       " h9,\n",
       " h10,\n",
       " h11,\n",
       " h12,\n",
       " h13,\n",
       " h14,\n",
       " h15,\n",
       " h16,\n",
       " h17,\n",
       " h18,\n",
       " h19,\n",
       " h20,\n",
       " h21,\n",
       " h22,\n",
       " h23,\n",
       " h24,\n",
       " h25,\n",
       " h26,\n",
       " h27,\n",
       " h28,\n",
       " h29,\n",
       " h30,\n",
       " h31,\n",
       " h32,\n",
       " h33,\n",
       " h34,\n",
       " h35,\n",
       " h36,\n",
       " h37,\n",
       " h38,\n",
       " h39,\n",
       " h40,\n",
       " h41,\n",
       " h42,\n",
       " h43,\n",
       " h44,\n",
       " h45,\n",
       " h46,\n",
       " h47,\n",
       " h48,\n",
       " h49,\n",
       " h50,\n",
       " h51,\n",
       " h52,\n",
       " h53,\n",
       " h54,\n",
       " h55,\n",
       " h56,\n",
       " h57,\n",
       " h58,\n",
       " h59,\n",
       " h60,\n",
       " h61,\n",
       " h62,\n",
       " h63,\n",
       " h64,\n",
       " h65,\n",
       " h66,\n",
       " h67,\n",
       " h68,\n",
       " h69,\n",
       " h70,\n",
       " h71,\n",
       " h72,\n",
       " h73,\n",
       " h74,\n",
       " h75,\n",
       " h76,\n",
       " h77,\n",
       " h78,\n",
       " h79,\n",
       " h80,\n",
       " h81,\n",
       " h82,\n",
       " h83,\n",
       " h84,\n",
       " h85,\n",
       " h86,\n",
       " h87,\n",
       " h88,\n",
       " h89,\n",
       " h90,\n",
       " h91,\n",
       " h92,\n",
       " h93,\n",
       " h94,\n",
       " h95,\n",
       " h96,\n",
       " h97,\n",
       " h98,\n",
       " h99,\n",
       " p0,\n",
       " p1,\n",
       " p2,\n",
       " p3,\n",
       " p4,\n",
       " p5,\n",
       " p6,\n",
       " p7,\n",
       " p8,\n",
       " p9,\n",
       " p10,\n",
       " p11,\n",
       " p12,\n",
       " p13,\n",
       " p14,\n",
       " p15,\n",
       " p16,\n",
       " p17,\n",
       " p18,\n",
       " p19,\n",
       " p20,\n",
       " p21,\n",
       " p22,\n",
       " p23,\n",
       " p24,\n",
       " p25,\n",
       " p26,\n",
       " p27,\n",
       " p28,\n",
       " p29,\n",
       " p30,\n",
       " p31,\n",
       " p32,\n",
       " p33,\n",
       " p34,\n",
       " p35,\n",
       " p36,\n",
       " p37,\n",
       " p38,\n",
       " p39,\n",
       " p40,\n",
       " p41,\n",
       " p42,\n",
       " p43,\n",
       " p44,\n",
       " p45,\n",
       " p46,\n",
       " p47,\n",
       " p48,\n",
       " p49,\n",
       " p50,\n",
       " p51,\n",
       " p52,\n",
       " p53,\n",
       " p54,\n",
       " p55,\n",
       " p56,\n",
       " p57,\n",
       " p58,\n",
       " p59,\n",
       " p60,\n",
       " p61,\n",
       " p62,\n",
       " p63,\n",
       " p64,\n",
       " p65,\n",
       " p66,\n",
       " p67,\n",
       " p68,\n",
       " p69,\n",
       " p70,\n",
       " p71,\n",
       " p72,\n",
       " p73,\n",
       " p74,\n",
       " p75,\n",
       " p76,\n",
       " p77,\n",
       " p78,\n",
       " p79,\n",
       " p80,\n",
       " p81,\n",
       " p82,\n",
       " p83,\n",
       " p84,\n",
       " p85,\n",
       " p86,\n",
       " p87,\n",
       " p88,\n",
       " p89,\n",
       " p90,\n",
       " p91,\n",
       " p92,\n",
       " p93,\n",
       " p94,\n",
       " p95,\n",
       " p96,\n",
       " p97,\n",
       " p98,\n",
       " p99,\n",
       " x0,\n",
       " x1,\n",
       " x2,\n",
       " x3,\n",
       " x4,\n",
       " x5,\n",
       " x6,\n",
       " x7,\n",
       " x8,\n",
       " x9,\n",
       " x10,\n",
       " x11,\n",
       " x12,\n",
       " x13,\n",
       " x14,\n",
       " x15,\n",
       " x16,\n",
       " x17,\n",
       " x18,\n",
       " x19,\n",
       " x20,\n",
       " x21,\n",
       " x22,\n",
       " x23,\n",
       " x24,\n",
       " x25,\n",
       " x26,\n",
       " x27,\n",
       " x28,\n",
       " x29,\n",
       " x30,\n",
       " x31,\n",
       " x32,\n",
       " x33,\n",
       " x34,\n",
       " x35,\n",
       " x36,\n",
       " x37,\n",
       " x38,\n",
       " x39,\n",
       " x40,\n",
       " x41,\n",
       " x42,\n",
       " x43,\n",
       " x44,\n",
       " x45,\n",
       " x46,\n",
       " x47,\n",
       " x48,\n",
       " x49,\n",
       " x50,\n",
       " x51,\n",
       " x52,\n",
       " x53,\n",
       " x54,\n",
       " x55,\n",
       " x56,\n",
       " x57,\n",
       " x58,\n",
       " x59,\n",
       " x60,\n",
       " x61,\n",
       " x62,\n",
       " x63,\n",
       " x64,\n",
       " x65,\n",
       " x66,\n",
       " x67,\n",
       " x68,\n",
       " x69,\n",
       " x70,\n",
       " x71,\n",
       " x72,\n",
       " x73,\n",
       " x74,\n",
       " x75,\n",
       " x76,\n",
       " x77,\n",
       " x78,\n",
       " x79,\n",
       " x80,\n",
       " x81,\n",
       " x82,\n",
       " x83,\n",
       " x84,\n",
       " x85,\n",
       " x86,\n",
       " x87,\n",
       " x88,\n",
       " x89,\n",
       " x90,\n",
       " x91,\n",
       " x92,\n",
       " x93,\n",
       " x94,\n",
       " x95,\n",
       " x96,\n",
       " x97,\n",
       " x98,\n",
       " x99,\n",
       " alpha,\n",
       " beta,\n",
       " ratio)"
      ]
     },
     "execution_count": 175,
     "metadata": {},
     "output_type": "execute_result"
    }
   ],
   "source": [
    "var(var_list)"
   ]
  },
  {
   "cell_type": "code",
   "execution_count": 176,
   "id": "e80c1eb7",
   "metadata": {},
   "outputs": [],
   "source": [
    "def mycollect(e1, e2):\n",
    "    \"\"\"\n",
    "    Collects e2 coefficients in e1, even when e2 is not a factor of\n",
    "    some of the terms of e1\n",
    "    \"\"\"\n",
    "    g = maxima_calculus.gensym()._sage_()\n",
    "    while g in e1.variables(): g = maxima_calculus.gensym()._sage_()\n",
    "    return sum([v[0]*g^v[1]\n",
    "                for v in e1.subs(e2==g).coefficients(g)]).subs(g==e2)"
   ]
  },
  {
   "cell_type": "code",
   "execution_count": 177,
   "id": "20a36926-4b40-4901-819c-f95939143209",
   "metadata": {},
   "outputs": [],
   "source": [
    "e = SymmetricFunctions(QQ).e()\n",
    "def ele_dict(deg):\n",
    "        es=[e[i].expand(deg) for i in range(0,deg+1)]\n",
    "        coe=list([eval(\"e\"+str(i)) for i in range(0,deg+1)])\n",
    "        return dict(zip(coe,es))\n",
    "def atoe_dict(deg):\n",
    "        coe=list([eval(\"a\"+str(deg-i)) for i in range(0,deg+1)])\n",
    "        #print(coe)\n",
    "        es=list([(-1)**i*eval(\"e\"+str(i)) for i in range(0,deg+1)])\n",
    "        return dict(zip(coe,es))\n",
    "h = SymmetricFunctions(QQ).h()\n",
    "def hdict(deg):\n",
    "        es=[h[i].expand(deg) for i in range(0,deg+1)]\n",
    "        coe=list([eval(\"h\"+str(i)) for i in range(0,deg+1)])\n",
    "        return dict(zip(coe,es))\n",
    "p = SymmetricFunctions(QQ).p()\n",
    "def pdict(deg):\n",
    "        es=[p[i].expand(deg) for i in range(0,deg+1)]\n",
    "        coe=list([eval(\"p\"+str(i)) for i in range(0,deg+1)])\n",
    "        return dict(zip(coe,es))\n",
    "def wtoh_dict(deg):\n",
    "        coe=list([eval(\"w\"+str(deg-i)) for i in range(0,deg+1)])\n",
    "        #print(coe)\n",
    "        es=list([eval(\"h\"+str(i)) for i in range(0,deg+1)])\n",
    "        return dict(zip(coe,es))\n",
    "def wtop_dict(deg):\n",
    "        coe=list([eval(\"w\"+str(deg-i)) for i in range(0,deg+1)])\n",
    "        #print(coe)\n",
    "        es=list([eval(\"p\"+str(i)) for i in range(0,deg+1)])\n",
    "        return dict(zip(coe,es))\n",
    "def pdict_initial(deg):\n",
    "        es=[p[i].expand(deg) for i in range(0,deg+1)]\n",
    "        es[0]=deg\n",
    "        coe=list([eval(\"p\"+str(i)) for i in range(0,deg+1)])\n",
    "        return dict(zip(coe,es))"
   ]
  },
  {
   "cell_type": "code",
   "execution_count": null,
   "id": "c502dbf2-ea26-4fa1-ad57-32303eb6b717",
   "metadata": {},
   "outputs": [],
   "source": []
  },
  {
   "cell_type": "code",
   "execution_count": null,
   "id": "7d8e09cd-46fd-4c9e-9114-24e87d082635",
   "metadata": {
    "scrolled": true
   },
   "outputs": [],
   "source": []
  },
  {
   "cell_type": "code",
   "execution_count": 178,
   "id": "57ada6ff-06ea-4e24-ac6d-ce70554c2887",
   "metadata": {},
   "outputs": [],
   "source": [
    "#(a2*0*w0+a1*1*w1+a0*2*w2)*beta-(a2*0*w1+a1*1*w2+a0*2*w3)*alpha\n",
    "#a1*1*w1+a0*2*w2-a1*1*w2-a0*2*w3"
   ]
  },
  {
   "cell_type": "code",
   "execution_count": 179,
   "id": "ade0a294-f4d3-48a2-93a9-d4247600095b",
   "metadata": {},
   "outputs": [],
   "source": [
    "def leftexpression(n):\n",
    "    return sum([eval(\"a\"+str(n-i))*eval(\"w\"+str(i)) for i in [0..n]])\n",
    "def rightexpression(n):\n",
    "    return sum([eval(\"a\"+str(n-i))*eval(\"w\"+str(i+1)) for i in [0..n]])"
   ]
  },
  {
   "cell_type": "code",
   "execution_count": 180,
   "id": "d91c4cb9-bb08-4c93-9b57-f3d5ab3da677",
   "metadata": {},
   "outputs": [
    {
     "data": {
      "text/plain": [
       "{e0: 1, e1: x0 + x1, e2: x0*x1}"
      ]
     },
     "execution_count": 180,
     "metadata": {},
     "output_type": "execute_result"
    }
   ],
   "source": [
    "ele_dict(2)"
   ]
  },
  {
   "cell_type": "code",
   "execution_count": 181,
   "id": "7cff122c",
   "metadata": {},
   "outputs": [],
   "source": [
    "def mainexp(n):\n",
    "    return sum([i*eval(\"a\"+str(n-i))*(eval(\"w\"+str(i))*beta-alpha*eval(\"w\"+str(i+1))) for i in [1..n]])"
   ]
  },
  {
   "cell_type": "code",
   "execution_count": 182,
   "id": "dabf47eb-633b-4d28-a8fd-824d436f5fe6",
   "metadata": {},
   "outputs": [],
   "source": [
    "def poltotalshift(n,q):\n",
    "    return sum([eval(\"a\"+str(n-i))*eval(\"w\"+str(i+q)) for i in [0..n]])"
   ]
  },
  {
   "cell_type": "code",
   "execution_count": 183,
   "id": "b356477d-9811-4f9b-ac1d-75d8543efec0",
   "metadata": {},
   "outputs": [],
   "source": [
    "degree=5"
   ]
  },
  {
   "cell_type": "code",
   "execution_count": 184,
   "id": "f05a6d01-801f-411c-9f20-c43e29b3935f",
   "metadata": {},
   "outputs": [],
   "source": [
    "#checking expresion\n",
    "checking=poltotalshift(degree,0).subs(atoe_dict(degree)).subs(ele_dict(degree))"
   ]
  },
  {
   "cell_type": "code",
   "execution_count": 185,
   "id": "cb2b124d-13da-421f-bc3e-9a9dd3d89dca",
   "metadata": {},
   "outputs": [
    {
     "data": {
      "text/plain": [
       "0"
      ]
     },
     "execution_count": 185,
     "metadata": {},
     "output_type": "execute_result"
    }
   ],
   "source": [
    "checking.subs(wtoh_dict(degree)).subs(hdict(degree)).full_simplify()"
   ]
  },
  {
   "cell_type": "code",
   "execution_count": 186,
   "id": "1ea21eb2-ff29-4eb0-8642-a14c0ce040a9",
   "metadata": {},
   "outputs": [
    {
     "data": {
      "text/plain": [
       "0"
      ]
     },
     "execution_count": 186,
     "metadata": {},
     "output_type": "execute_result"
    }
   ],
   "source": [
    "checking.subs(wtop_dict(degree)).subs(pdict_initial(degree)).full_simplify()"
   ]
  },
  {
   "cell_type": "code",
   "execution_count": 245,
   "id": "c12fa6bb-908d-4b38-8b04-9d62c744c111",
   "metadata": {},
   "outputs": [],
   "source": [
    "#beta 1\n",
    "def mainexp2(n):\n",
    "    return sum([i*eval(\"a\"+str(n-i))*(eval(\"w\"+str(i))-alpha*eval(\"w\"+str(i+1))) for i in [1..n]])"
   ]
  },
  {
   "cell_type": "code",
   "execution_count": null,
   "id": "c40abf16-325f-4e9b-8ad6-5905aeaf9c55",
   "metadata": {},
   "outputs": [],
   "source": []
  },
  {
   "cell_type": "code",
   "execution_count": 204,
   "id": "fa255089-eab4-4986-a4d6-870ba06f15db",
   "metadata": {},
   "outputs": [],
   "source": [
    "degi=2"
   ]
  },
  {
   "cell_type": "code",
   "execution_count": 205,
   "id": "c4b8fbca",
   "metadata": {},
   "outputs": [],
   "source": [
    "#def mainsim(n):\n",
    "#    return sum([i*eval(\"a\"+str(n-i))*(alpha*eval(\"w\"+str(i+1))) for i in [1..n]])"
   ]
  },
  {
   "cell_type": "code",
   "execution_count": 206,
   "id": "537d6a2b",
   "metadata": {},
   "outputs": [],
   "source": [
    "#def polexp(n):\n",
    "#    return sum([eval(\"a\"+str(n-i))*eval(\"w\"+str(i+1)) for i in [1..n]])+w1"
   ]
  },
  {
   "cell_type": "code",
   "execution_count": 207,
   "id": "68b4c87f",
   "metadata": {
    "scrolled": true
   },
   "outputs": [],
   "source": [
    "#calculate with term need to add to remove the last recurrent term\n",
    "tocal1=mainexp(degi).expand().operands()\n",
    "tocal2=[i for i in tocal1 if i.has(w3)]\n",
    "tocal3=sum(tocal2)\n",
    "tocal4=tocal3.factor()\n",
    "tocal5=tocal4.subs({w3:1})"
   ]
  },
  {
   "cell_type": "code",
   "execution_count": 208,
   "id": "c6acb833-c29a-46c3-a113-314a9d3e5e4f",
   "metadata": {},
   "outputs": [],
   "source": [
    "min1=poltotalshift(degi,1).expand().operands()\n",
    "min2=[i for i in min1 if i.has(w3)]\n",
    "min3=sum(min2)\n",
    "min4=min3.factor()\n",
    "min5=min4.subs({w3:1})"
   ]
  },
  {
   "cell_type": "code",
   "execution_count": 209,
   "id": "d527cf49-ed3d-4306-af81-67e0974d263d",
   "metadata": {},
   "outputs": [],
   "source": [
    "#basically the polynomial recurrence is assumed"
   ]
  },
  {
   "cell_type": "code",
   "execution_count": 210,
   "id": "361ebd6b-318b-4d07-b3f2-817bd991b490",
   "metadata": {},
   "outputs": [],
   "source": [
    "#the last term in the recurrence is removed\n",
    "reduced2=(mainexp(degi)-tocal5*poltotalshift(degi,1)/min5).full_simplify()"
   ]
  },
  {
   "cell_type": "code",
   "execution_count": 232,
   "id": "80d918a9-fbc1-4564-baf2-cb81fdeacdc1",
   "metadata": {},
   "outputs": [
    {
     "data": {
      "text/plain": [
       "(2*a2*alpha + a1)*w1 + (a1*alpha + 2*a0)*w2"
      ]
     },
     "execution_count": 232,
     "metadata": {},
     "output_type": "execute_result"
    }
   ],
   "source": [
    "reduced2.subs({beta:1})"
   ]
  },
  {
   "cell_type": "code",
   "execution_count": 233,
   "id": "cbaec7e6-a257-477c-ac09-c50cdb0e7244",
   "metadata": {},
   "outputs": [],
   "source": [
    "#reduced2.subs({beta:0}).subs(atoe_dict(degi)).subs(ele_dict(degi)).subs(wtoh_dict(degi)).subs(hdict(degi))"
   ]
  },
  {
   "cell_type": "code",
   "execution_count": 234,
   "id": "7c0b7052-e729-41aa-9fcd-1d6df8209787",
   "metadata": {},
   "outputs": [],
   "source": [
    "#reduced2.subs({beta:0}).subs(atoe_dict(degi)).subs(ele_dict(degi)).subs(wtop_dict(degi)).subs(pdict_initial(degi))"
   ]
  },
  {
   "cell_type": "code",
   "execution_count": 235,
   "id": "f68ef6a8-62db-47a5-ad0b-b036d1406d3d",
   "metadata": {},
   "outputs": [],
   "source": [
    "simp=(-(a1*alpha + 2*a0))^2-a1*(a1*alpha + 2*a0)*(2*a2*alpha + a1)+a0*(2*a2*alpha + a1)^2"
   ]
  },
  {
   "cell_type": "code",
   "execution_count": 236,
   "id": "02afbd79-a6fe-4782-b987-3e91984ebeb7",
   "metadata": {},
   "outputs": [],
   "source": [
    "simpli=simp.full_simplify().factor()"
   ]
  },
  {
   "cell_type": "code",
   "execution_count": 244,
   "id": "9649bc2f-9186-4635-a733-5cc74df11fcf",
   "metadata": {},
   "outputs": [
    {
     "data": {
      "text/plain": [
       "-(a1^2 - 4*a0)*(a1*alpha + alpha^2 + a0)"
      ]
     },
     "execution_count": 244,
     "metadata": {},
     "output_type": "execute_result"
    }
   ],
   "source": [
    "simpli.subs({a2:1}).factor()"
   ]
  },
  {
   "cell_type": "code",
   "execution_count": null,
   "id": "a8832d12-36d1-49cd-a6ad-6cfa36661528",
   "metadata": {},
   "outputs": [],
   "source": []
  },
  {
   "cell_type": "code",
   "execution_count": 229,
   "id": "07c5250f",
   "metadata": {},
   "outputs": [],
   "source": [
    "reduced3=reduced2.subs({w1:ratio*w2})"
   ]
  },
  {
   "cell_type": "code",
   "execution_count": 42,
   "id": "cdf6c729-47ca-410c-989e-581386101669",
   "metadata": {},
   "outputs": [],
   "source": [
    "sreduced=solve(reduced3==0, ratio)"
   ]
  },
  {
   "cell_type": "code",
   "execution_count": 168,
   "id": "4c33a10a-7bab-4fd9-a698-4915dd12f864",
   "metadata": {},
   "outputs": [],
   "source": [
    "mainratio=sreduced[0].rhs()"
   ]
  },
  {
   "cell_type": "code",
   "execution_count": 169,
   "id": "d5bf2075-a7b0-4f14-9401-abb0de1266ea",
   "metadata": {},
   "outputs": [],
   "source": [
    "mainratio2=mainratio.subs({beta:1})"
   ]
  },
  {
   "cell_type": "code",
   "execution_count": 201,
   "id": "8cd2b434-db53-4aad-9ab3-80a252ce5f6b",
   "metadata": {},
   "outputs": [
    {
     "data": {
      "text/plain": [
       "-(a1*alpha + 2*a0)/(2*a2*alpha + a1)"
      ]
     },
     "execution_count": 201,
     "metadata": {},
     "output_type": "execute_result"
    }
   ],
   "source": [
    "mainratio2"
   ]
  },
  {
   "cell_type": "code",
   "execution_count": 145,
   "id": "49a4859b",
   "metadata": {},
   "outputs": [],
   "source": [
    "mainpre=(mainratio2^2+a1*mainratio2+a0).full_simplify().factor()"
   ]
  },
  {
   "cell_type": "code",
   "execution_count": 146,
   "id": "e0af8e00-9b29-4fd8-9ada-85bc81e02b64",
   "metadata": {},
   "outputs": [
    {
     "data": {
      "text/plain": [
       "-(alpha^2 - alpha*e1 + e2)*(e1^2 - 4*e2)/(2*alpha - e1)^2"
      ]
     },
     "execution_count": 146,
     "metadata": {},
     "output_type": "execute_result"
    }
   ],
   "source": [
    "mainpre.subs(atoe_dict(degi)).subs({e0:1})"
   ]
  },
  {
   "cell_type": "markdown",
   "id": "c000b8e9",
   "metadata": {},
   "source": [
    "def poltotal(n):\n",
    "    return sum([eval(\"a\"+str(n-i))*eval(\"w\"+str(n-i)) for i in [0..n]])\n",
    "def polshift(n):\n",
    "    return sum([eval(\"a\"+str(n-i))*eval(\"w\"+str(n-i+1)) for i in [0..n]])"
   ]
  },
  {
   "cell_type": "code",
   "execution_count": 47,
   "id": "8bfa6b87",
   "metadata": {},
   "outputs": [
    {
     "data": {
      "text/plain": [
       "-(a1*alpha + 2*a0*beta)/(2*a2*alpha + a1*beta)"
      ]
     },
     "execution_count": 47,
     "metadata": {},
     "output_type": "execute_result"
    }
   ],
   "source": [
    "mainratio"
   ]
  },
  {
   "cell_type": "code",
   "execution_count": 48,
   "id": "c9b795c3",
   "metadata": {},
   "outputs": [],
   "source": [
    "#calculate with term need to add to remove the last recurrent term\n",
    "tocala1=mainexp(degi).expand().operands()\n",
    "tocala2=[i for i in tocala1 if i.has(w2)]\n",
    "tocala3=sum(tocala2)\n",
    "tocala4=tocala3.factor()\n",
    "tocala5=tocala4.subs({w2:1})"
   ]
  },
  {
   "cell_type": "code",
   "execution_count": 49,
   "id": "d6607131",
   "metadata": {},
   "outputs": [
    {
     "data": {
      "text/plain": [
       "-a1*alpha + 2*a0*beta"
      ]
     },
     "execution_count": 49,
     "metadata": {},
     "output_type": "execute_result"
    }
   ],
   "source": [
    "tocala5"
   ]
  },
  {
   "cell_type": "code",
   "execution_count": 50,
   "id": "8e75b75b",
   "metadata": {},
   "outputs": [],
   "source": [
    "min1=poltotalshift(degi,1).expand().operands()\n",
    "min2=[i for i in min1 if i.has(w2)]\n",
    "min3=sum(min2)\n",
    "min4=min3.factor()\n",
    "min5=min4.subs({w2:1})"
   ]
  },
  {
   "cell_type": "code",
   "execution_count": null,
   "id": "d9d8daa8",
   "metadata": {},
   "outputs": [],
   "source": []
  },
  {
   "cell_type": "code",
   "execution_count": null,
   "id": "2e319d46",
   "metadata": {},
   "outputs": [],
   "source": []
  },
  {
   "cell_type": "code",
   "execution_count": 51,
   "id": "d5f58483",
   "metadata": {},
   "outputs": [],
   "source": [
    "alt=(mainexp(2)-tocala5*poltotalshift(degi,1)/min5).full_simplify()"
   ]
  },
  {
   "cell_type": "code",
   "execution_count": null,
   "id": "609925cd-4e84-4c54-bdcf-b7faeebbe770",
   "metadata": {},
   "outputs": [],
   "source": []
  },
  {
   "cell_type": "code",
   "execution_count": 52,
   "id": "074f47b9",
   "metadata": {},
   "outputs": [],
   "source": [
    "alt2=alt.subs({w1:ratio*w3})"
   ]
  },
  {
   "cell_type": "code",
   "execution_count": 53,
   "id": "817aa6d4",
   "metadata": {},
   "outputs": [],
   "source": [
    "alt3=solve(alt2==0,ratio)"
   ]
  },
  {
   "cell_type": "code",
   "execution_count": 54,
   "id": "babf4d4e",
   "metadata": {},
   "outputs": [],
   "source": [
    "altratio=alt3[0].rhs().factor()"
   ]
  },
  {
   "cell_type": "code",
   "execution_count": 55,
   "id": "ae38937d",
   "metadata": {},
   "outputs": [
    {
     "data": {
      "text/plain": [
       "(a1*alpha + 2*a0*beta)*a0/(a1*a2*alpha + a1^2*beta - 2*a0*a2*beta)"
      ]
     },
     "execution_count": 55,
     "metadata": {},
     "output_type": "execute_result"
    }
   ],
   "source": [
    "altratio"
   ]
  },
  {
   "cell_type": "code",
   "execution_count": 56,
   "id": "bea0da7d-1c09-45ff-9d1f-281a47dd0996",
   "metadata": {},
   "outputs": [],
   "source": [
    "alt=(mainexp(2)-tocala5*poltotalshift(degi,1)/min5).full_simplify()\n",
    "alt2=alt.subs({w1:ratio*w3})\n",
    "alt3=solve(alt2==0, ratio)\n",
    "alt4=alt3[0].rhs()\n",
    "alt5=alt4.subs({beta:0})\n",
    "mainalt=(alt5^2+a1*alt5+a0).full_simplify().factor()"
   ]
  },
  {
   "cell_type": "code",
   "execution_count": 57,
   "id": "750c73e5-d41b-406f-829c-a9818778a521",
   "metadata": {},
   "outputs": [
    {
     "data": {
      "text/plain": [
       "(a1*alpha + 2*a0*beta)*a0/(a1*a2*alpha + a1^2*beta - 2*a0*a2*beta)"
      ]
     },
     "execution_count": 57,
     "metadata": {},
     "output_type": "execute_result"
    }
   ],
   "source": [
    "alt4.factor()"
   ]
  },
  {
   "cell_type": "code",
   "execution_count": 58,
   "id": "5db957fa-4ffb-4132-a04a-693c0d4a8eb5",
   "metadata": {},
   "outputs": [
    {
     "data": {
      "text/plain": [
       "-(e1 - e2 - 1)*e2"
      ]
     },
     "execution_count": 58,
     "metadata": {},
     "output_type": "execute_result"
    }
   ],
   "source": [
    "mainalt.subs(atoe_dict(degi)).subs({e0:1})"
   ]
  },
  {
   "cell_type": "code",
   "execution_count": 59,
   "id": "9a0fac14",
   "metadata": {},
   "outputs": [],
   "source": [
    "#last combination"
   ]
  },
  {
   "cell_type": "code",
   "execution_count": 60,
   "id": "7be7a841",
   "metadata": {},
   "outputs": [],
   "source": [
    "#calculate with term need to add to remove the last recurrent term\n",
    "import itertools"
   ]
  },
  {
   "cell_type": "code",
   "execution_count": 111,
   "id": "36a7819f",
   "metadata": {
    "scrolled": true
   },
   "outputs": [
    {
     "name": "stdout",
     "output_type": "stream",
     "text": [
      "(w1, w2, w3)\n",
      "-(2*a0*a2*alpha + a0*a1*beta)/(a1*a2*alpha + (a1^2 - 2*a0*a2)*beta)\n",
      "\n",
      "\n",
      "-(a0*a1 + 2*a0*a2)/(a1^2 - 2*a0*a2 + a1*a2)\n",
      "\n",
      "\n",
      "(alpha*beta*e1 - beta^2*e2 - alpha^2)*(e1^2 - 4*e2)*e2/(beta*e1^2 - alpha*e1 - 2*beta*e2)^2\n",
      "\n",
      "\n",
      "-(alpha^2 - alpha*e1 + e2)*(e1^2 - 4*e2)*e2/(alpha*e1 - e1^2 + 2*e2)^2\n",
      "\n",
      "\n",
      "(w1, w3, w2)\n",
      "-(a1*a2*alpha + (a1^2 - 2*a0*a2)*beta)/(2*a0*a2*alpha + a0*a1*beta)\n",
      "\n",
      "\n",
      "-(a1^2 - 2*a0*a2 + a1*a2)/(a0*a1 + 2*a0*a2)\n",
      "\n",
      "\n",
      "-(beta^2*e1^4*e2 - beta^2*e1^2*e2^3 - beta^2*e1^4 - 3*alpha*beta*e1^3*e2 - 2*beta^2*e1^2*e2^2 + 4*alpha*beta*e1*e2^3 + 2*alpha*beta*e1^3 + 2*alpha^2*e1^2*e2 + 4*beta^2*e1^2*e2 + 4*alpha*beta*e1*e2^2 - 4*alpha^2*e2^3 - alpha^2*e1^2 - 4*alpha*beta*e1*e2 - 4*beta^2*e2^2)/((beta*e1 - 2*alpha)^2*e2^2)\n",
      "\n",
      "\n",
      "-(2*alpha^2*e1^2*e2 - 3*alpha*e1^3*e2 + e1^4*e2 - 4*alpha^2*e2^3 + 4*alpha*e1*e2^3 - e1^2*e2^3 - alpha^2*e1^2 + 2*alpha*e1^3 - e1^4 + 4*alpha*e1*e2^2 - 2*e1^2*e2^2 - 4*alpha*e1*e2 + 4*e1^2*e2 - 4*e2^2)/((2*alpha - e1)^2*e2^2)\n",
      "\n",
      "\n",
      "(w2, w1, w3)\n",
      "(a0*a1*alpha + 2*a0^2*beta)/(a1*a2*alpha + (a1^2 - 2*a0*a2)*beta)\n",
      "\n",
      "\n",
      "(2*a0^2 + a0*a1)/(a1^2 - 2*a0*a2 + a1*a2)\n",
      "\n",
      "\n",
      "(alpha*beta*e1^4 + beta^2*e1^4 - 2*beta^2*e1^3*e2 - alpha^2*e1^3 - 2*alpha*beta*e1^3 + alpha^2*e1^2*e2 - 4*beta^2*e1^2*e2 - 4*alpha*beta*e1*e2^2 + 4*beta^2*e1*e2^2 + 4*beta^2*e2^3 + alpha^2*e1^2 + 4*alpha*beta*e1*e2 + 4*beta^2*e2^2)*e2/(beta*e1^2 - alpha*e1 - 2*beta*e2)^2\n",
      "\n",
      "\n",
      "-(alpha^2*e1^3 - alpha*e1^4 - alpha^2*e1^2*e2 - alpha^2*e1^2 + 2*alpha*e1^3 - e1^4 + 2*e1^3*e2 + 4*alpha*e1*e2^2 - 4*alpha*e1*e2 + 4*e1^2*e2 - 4*e1*e2^2 - 4*e2^3 - 4*e2^2)*e2/(alpha*e1 - e1^2 + 2*e2)^2\n",
      "\n",
      "\n",
      "(w2, w3, w1)\n",
      "(a1*a2*alpha + (a1^2 - 2*a0*a2)*beta)/(a0*a1*alpha + 2*a0^2*beta)\n",
      "\n",
      "\n",
      "(a1^2 - 2*a0*a2 + a1*a2)/(2*a0^2 + a0*a1)\n",
      "\n",
      "\n",
      "(alpha*beta*e1^4*e2 - 2*beta^2*e1^3*e2^2 + alpha^2*e1^2*e2^3 - 4*alpha*beta*e1*e2^4 + 4*beta^2*e2^5 + beta^2*e1^4 - alpha^2*e1^3*e2 + 4*beta^2*e1*e2^3 - 2*alpha*beta*e1^3 - 4*beta^2*e1^2*e2 + alpha^2*e1^2 + 4*alpha*beta*e1*e2 + 4*beta^2*e2^2)/((alpha*e1 - 2*beta*e2)^2*e2^2)\n",
      "\n",
      "\n",
      "(alpha^2*e1^2*e2^3 - alpha^2*e1^3*e2 + alpha*e1^4*e2 - 4*alpha*e1*e2^4 - 2*e1^3*e2^2 + 4*e2^5 + alpha^2*e1^2 - 2*alpha*e1^3 + e1^4 + 4*e1*e2^3 + 4*alpha*e1*e2 - 4*e1^2*e2 + 4*e2^2)/((alpha*e1 - 2*e2)^2*e2^2)\n",
      "\n",
      "\n",
      "(w3, w1, w2)\n",
      "-(a1*alpha + 2*a0*beta)/(2*a2*alpha + a1*beta)\n",
      "\n",
      "\n",
      "-(2*a0 + a1)/(a1 + 2*a2)\n",
      "\n",
      "\n",
      "(alpha*beta*e1 - beta^2*e2 - alpha^2)*(e1^2 - 4*e2)/(beta*e1 - 2*alpha)^2\n",
      "\n",
      "\n",
      "-(alpha^2 - alpha*e1 + e2)*(e1^2 - 4*e2)/(2*alpha - e1)^2\n",
      "\n",
      "\n",
      "(w3, w2, w1)\n",
      "-(2*a2*alpha + a1*beta)/(a1*alpha + 2*a0*beta)\n",
      "\n",
      "\n",
      "-(a1 + 2*a2)/(2*a0 + a1)\n",
      "\n",
      "\n",
      "(alpha*beta*e1^3 + alpha^2*e1^2*e2 - 2*beta^2*e1^2*e2 - 4*alpha*beta*e1*e2^2 + 4*beta^2*e2^3 - 2*alpha^2*e1^2 + beta^2*e1^2 + 4*alpha*beta*e1*e2 - 4*alpha*beta*e1 + 4*alpha^2)/(alpha*e1 - 2*beta*e2)^2\n",
      "\n",
      "\n",
      "(alpha^2*e1^2*e2 - 2*alpha^2*e1^2 + alpha*e1^3 - 4*alpha*e1*e2^2 + 4*alpha*e1*e2 - 2*e1^2*e2 + 4*e2^3 + 4*alpha^2 - 4*alpha*e1 + e1^2)/(alpha*e1 - 2*e2)^2\n",
      "\n",
      "\n"
     ]
    }
   ],
   "source": [
    "degi=2\n",
    "for i in itertools.permutations([w1,w2,w3]):\n",
    "    print(i)\n",
    "    #extract term to substract from the original recurrence\n",
    "    tocala1=mainexp(degi).expand().operands()\n",
    "    tocala2=[j for j in tocala1 if j.has(i[0])]\n",
    "    tocala3=sum(tocala2)\n",
    "    tocala4=tocala3.factor()\n",
    "    tocala5=tocala4.subs({i[0]:1})\n",
    "    \n",
    "    #extract term in the full polynomial to divide\n",
    "    min1=poltotalshift(degi,1).expand().operands()\n",
    "    min2=[j for j in min1 if j.has(i[0])]\n",
    "    min3=sum(min2)\n",
    "    min4=min3.factor()\n",
    "    min5=min4.subs({i[0]:1})\n",
    "    \n",
    "    #do calculations\n",
    "    alt=(mainexp(degi)-tocala5*poltotalshift(degi,1)/min5).full_simplify()\n",
    "    #print(alt.has(i[0]))\n",
    "    alt2=alt.subs({i[1]:ratio*i[2]})\n",
    "    alt3=solve(alt2==0, ratio)\n",
    "    alt4=alt3[0].rhs()\n",
    "    alt5=alt4#.subs({beta:1,alpha:1})\n",
    "    print(alt5)\n",
    "    print(\"\\n\")\n",
    "    print(alt5.subs({alpha:1,beta:1}))\n",
    "    print(\"\\n\")\n",
    "    mainalt=(alt5^2+a1*alt5+a0).full_simplify().factor()\n",
    "    mainalt2=mainalt.subs(atoe_dict(degi)).subs({e0:1}).simplify().factor()\n",
    "    #print(mainalt.subs(atoe_dict(degi)).subs({e0:1}).simplify().factor())\n",
    "    print(mainalt2)\n",
    "    print(\"\\n\")\n",
    "    print(mainalt2.subs({beta:1}))\n",
    "    #print(mainalt.subs(atoe_dict(degi)).subs(ele_dict(degi)).full_simplify().factor())\n",
    "    print(\"\\n\")"
   ]
  },
  {
   "cell_type": "code",
   "execution_count": 62,
   "id": "c6208ad0-7473-4660-8f82-704258f2a66b",
   "metadata": {},
   "outputs": [],
   "source": [
    "mainratio=-(a1*alpha + 2*a0*beta)/(2*a2*alpha + a1*beta)"
   ]
  },
  {
   "cell_type": "code",
   "execution_count": 63,
   "id": "cf873338-0ca0-4253-bf66-3fc3eca742e6",
   "metadata": {},
   "outputs": [],
   "source": [
    "mainratio=mainratio.subs({a2:1})"
   ]
  },
  {
   "cell_type": "code",
   "execution_count": 64,
   "id": "16eaa38d",
   "metadata": {},
   "outputs": [],
   "source": [
    "degi=3"
   ]
  },
  {
   "cell_type": "code",
   "execution_count": 65,
   "id": "8c86cf35",
   "metadata": {},
   "outputs": [],
   "source": [
    "#extract term to substract from the original recurrence\n",
    "tocala1=mainexp(degi).expand().operands()\n",
    "tocala2=[j for j in tocala1 if j.has(w4)]\n",
    "tocala3=sum(tocala2)\n",
    "tocala4=tocala3.factor()\n",
    "tocala5=tocala4.subs({w4:1})\n",
    "    \n",
    "#extract term in the full polynomial to divide\n",
    "min1=poltotalshift(degi,1).expand().operands()\n",
    "min2=[j for j in min1 if j.has(w4)]\n",
    "min3=sum(min2)\n",
    "min4=min3.factor()\n",
    "min5=min4.subs({w4:1})"
   ]
  },
  {
   "cell_type": "code",
   "execution_count": 66,
   "id": "4640c993",
   "metadata": {},
   "outputs": [],
   "source": [
    "#do calculations\n",
    "alt=(mainexp(degi)-tocala5*poltotalshift(degi,1)/min5).full_simplify()"
   ]
  },
  {
   "cell_type": "code",
   "execution_count": 67,
   "id": "312ff622",
   "metadata": {},
   "outputs": [
    {
     "data": {
      "text/plain": [
       "False"
      ]
     },
     "execution_count": 67,
     "metadata": {},
     "output_type": "execute_result"
    }
   ],
   "source": [
    "alt.has(w4)"
   ]
  },
  {
   "cell_type": "code",
   "execution_count": 68,
   "id": "a3b5388a-8c5c-41d4-902c-363f4a981cc9",
   "metadata": {},
   "outputs": [
    {
     "data": {
      "text/plain": [
       "{a3: e0, a2: -e1, a1: e2, a0: -e3}"
      ]
     },
     "execution_count": 68,
     "metadata": {},
     "output_type": "execute_result"
    }
   ],
   "source": [
    "atoe_dict(3)"
   ]
  },
  {
   "cell_type": "code",
   "execution_count": 69,
   "id": "9129dbe1-be74-4e02-9e0b-5cf526f7e872",
   "metadata": {},
   "outputs": [
    {
     "data": {
      "text/plain": [
       "a3*w1 + a2*w2 + a1*w3 + a0*w4"
      ]
     },
     "execution_count": 69,
     "metadata": {},
     "output_type": "execute_result"
    }
   ],
   "source": [
    "poltotalshift(degi,1)"
   ]
  },
  {
   "cell_type": "code",
   "execution_count": 70,
   "id": "54e7ec2b",
   "metadata": {},
   "outputs": [
    {
     "data": {
      "text/plain": [
       "3*a0*beta*w3 - 3*a0*alpha*w4 + 2*(beta*w2 - alpha*w3)*a1 + (beta*w1 - alpha*w2)*a2"
      ]
     },
     "execution_count": 70,
     "metadata": {},
     "output_type": "execute_result"
    }
   ],
   "source": [
    "mycollect(mainexp(degi),w4)"
   ]
  },
  {
   "cell_type": "code",
   "execution_count": 71,
   "id": "4bf2a86c",
   "metadata": {},
   "outputs": [],
   "source": [
    "term1=alt.subs({w1:1,w2:0,w3:0})\n",
    "term2=alt.subs({w1:0,w2:1,w3:0})\n",
    "term3=alt.subs({w1:0,w2:0,w3:1})\n",
    "newb=(term2/term1).full_simplify()\n",
    "newc=(term3/term1).full_simplify()"
   ]
  },
  {
   "cell_type": "code",
   "execution_count": 78,
   "id": "29074f1c-8220-4b93-8928-d24abe27f55a",
   "metadata": {},
   "outputs": [
    {
     "name": "stdout",
     "output_type": "stream",
     "text": [
      "2*(a2*alpha + a1)/(a2 + 3*alpha)\n",
      "(a1*alpha + 3*a0)/(a2 + 3*alpha)\n"
     ]
    }
   ],
   "source": [
    "print(newb.subs({beta:1}).subs({a3:1}))\n",
    "print(newc.subs({beta:1}).subs({a3:1}))"
   ]
  },
  {
   "cell_type": "code",
   "execution_count": 81,
   "id": "efd267e4",
   "metadata": {},
   "outputs": [],
   "source": [
    "newratio=mainratio.subs({a1:newb,a0:newc}).full_simplify().factor()"
   ]
  },
  {
   "cell_type": "code",
   "execution_count": 121,
   "id": "15db9f1e-e178-44c0-ba91-22840a8a9644",
   "metadata": {},
   "outputs": [],
   "source": [
    "lix=(newratio^2+newb*newratio+newc).full_simplify().factor()"
   ]
  },
  {
   "cell_type": "code",
   "execution_count": 138,
   "id": "8e90d166-bfc8-4cd7-aeb3-0ccdd7a31d04",
   "metadata": {},
   "outputs": [
    {
     "data": {
      "text/plain": [
       "-3*(a2^2*alpha^2 + a1*a2*alpha - 3*a1*alpha^2 + a1^2 - 3*a0*a2 - 9*a0*alpha)*(a2*alpha^2 + alpha^3 + a1*alpha + a0)/((2*a2*alpha + 3*alpha^2 + a1)^2*(a2 + 3*alpha))"
      ]
     },
     "execution_count": 138,
     "metadata": {},
     "output_type": "execute_result"
    }
   ],
   "source": [
    "lix.subs({beta:1,a3:1})"
   ]
  },
  {
   "cell_type": "code",
   "execution_count": 141,
   "id": "6453ce3f-c4eb-4b49-8ec3-592b9e612ee8",
   "metadata": {},
   "outputs": [
    {
     "data": {
      "text/plain": [
       "(x0 - x1)^2*(x0 - x2)^2"
      ]
     },
     "execution_count": 141,
     "metadata": {},
     "output_type": "execute_result"
    }
   ],
   "source": [
    "(a2^2*alpha^2 + a1*a2*alpha - 3*a1*alpha^2 + a1^2 - 3*a0*a2 - 9*a0*alpha).subs(atoe_dict(3)).subs(ele_dict(3)).subs({alpha:x0}).full_simplify().factor()"
   ]
  },
  {
   "cell_type": "code",
   "execution_count": 139,
   "id": "dc486bed-ef90-4117-ae21-382992fb1d0c",
   "metadata": {},
   "outputs": [],
   "source": [
    "lix2=(newratio^3+a2*newratio^2+a1*newratio+a0).full_simplify().factor()"
   ]
  },
  {
   "cell_type": "code",
   "execution_count": 140,
   "id": "d8d1dfe4-b708-4ba1-8492-b2b36a107865",
   "metadata": {},
   "outputs": [
    {
     "data": {
      "text/plain": [
       "(2*a2^3*alpha^3 + 3*a1*a2^2*alpha^2 - 9*a1*a2*alpha^3 - 3*a1^2*a2*alpha + 18*a0*a2^2*alpha - 18*a1^2*alpha^2 + 27*a0*a2*alpha^2 + 27*a0*alpha^3 - 2*a1^3 + 9*a0*a1*a2 - 27*a0*a1*alpha - 27*a0^2)*(a2*alpha^2 + alpha^3 + a1*alpha + a0)/(2*a2*alpha + 3*alpha^2 + a1)^3"
      ]
     },
     "execution_count": 140,
     "metadata": {},
     "output_type": "execute_result"
    }
   ],
   "source": [
    "lix2.subs({beta:1,a3:1}).full_simplify().factor()"
   ]
  },
  {
   "cell_type": "code",
   "execution_count": 142,
   "id": "2cc18ec7-473f-4a73-802a-8ce347fe467c",
   "metadata": {},
   "outputs": [
    {
     "data": {
      "text/plain": [
       "-2*(x0 - x1)^3*(x0 - x2)^3"
      ]
     },
     "execution_count": 142,
     "metadata": {},
     "output_type": "execute_result"
    }
   ],
   "source": [
    "(2*a2^3*alpha^3 + 3*a1*a2^2*alpha^2 - 9*a1*a2*alpha^3 - 3*a1^2*a2*alpha + 18*a0*a2^2*alpha - 18*a1^2*alpha^2 + 27*a0*a2*alpha^2 + 27*a0*alpha^3 - 2*a1^3 + 9*a0*a1*a2 - 27*a0*a1*alpha - 27*a0^2).subs(atoe_dict(3)).subs(ele_dict(3)).subs({alpha:x0}).full_simplify().factor()"
   ]
  },
  {
   "cell_type": "code",
   "execution_count": 143,
   "id": "3a10cb98-199c-4525-a227-fb903dda1cca",
   "metadata": {},
   "outputs": [],
   "source": [
    "#aqui termine el codigo por ahora, 31 jan, pude recobrar los valores"
   ]
  },
  {
   "cell_type": "code",
   "execution_count": 108,
   "id": "2dd6d6fc-84bc-4ae5-a8dd-d9b405b85f23",
   "metadata": {},
   "outputs": [
    {
     "data": {
      "text/plain": [
       "(x0 - x1)^2*(x0 - x2)^2"
      ]
     },
     "execution_count": 108,
     "metadata": {},
     "output_type": "execute_result"
    }
   ],
   "source": [
    "(a2^2*alpha^2 + a1*a2*alpha - 3*a1*alpha^2 + a1^2 - 3*a0*a2 - 9*a0*alpha).subs(atoe_dict(3)).subs(ele_dict(3)).subs({alpha:x0}).full_simplify().factor()"
   ]
  },
  {
   "cell_type": "code",
   "execution_count": 732,
   "id": "38b227a9-3f19-42dd-8b54-7dc0dbd5b477",
   "metadata": {},
   "outputs": [],
   "source": [
    "expa3=expa2.subs(atoe_dict(degi)).subs({e0:1}).simplify().factor()"
   ]
  },
  {
   "cell_type": "code",
   "execution_count": 733,
   "id": "421cd640-ca3d-4e98-9e0d-fff2f49c983c",
   "metadata": {},
   "outputs": [
    {
     "data": {
      "text/plain": [
       "-1/9*e1^2 + 1/3*e2"
      ]
     },
     "execution_count": 733,
     "metadata": {},
     "output_type": "execute_result"
    }
   ],
   "source": [
    "expa3.subs({beta:0}).full_simplify().factor()"
   ]
  },
  {
   "cell_type": "code",
   "execution_count": 616,
   "id": "2eea4565",
   "metadata": {},
   "outputs": [],
   "source": [
    "numi=3\n",
    "wnumi=\"w\"+str(numi+1)\n",
    "wnumi=eval(wnumi)\n",
    "try1=mainexp(numi).expand().operands()\n",
    "try2=[i for i in try1 if i.has(wnumi)]\n",
    "try3=try2[0].subs({a0:1,wnumi:1})\n",
    "#th1=(a1 - alpha*a2)*b + 2*(a2 - alpha*a3)*c\n",
    "th2=(mainexp(numi)-try3*polexp(numi)).full_simplify()\n",
    "#th3=th2.subs({w1:ratio*w2})"
   ]
  },
  {
   "cell_type": "code",
   "execution_count": 647,
   "id": "0512fc29-5730-4d01-a63b-aa6d38be2cb6",
   "metadata": {},
   "outputs": [
    {
     "data": {
      "text/plain": [
       "-3*alpha"
      ]
     },
     "execution_count": 647,
     "metadata": {},
     "output_type": "execute_result"
    }
   ],
   "source": [
    "try3"
   ]
  },
  {
   "cell_type": "code",
   "execution_count": 34,
   "id": "e4cd6738",
   "metadata": {},
   "outputs": [],
   "source": [
    "order2=th2.subs({w1:w2*ratio})\n",
    "sorder2=solve(order2==0, ratio)[0].rhs()"
   ]
  },
  {
   "cell_type": "code",
   "execution_count": 35,
   "id": "73d0c592",
   "metadata": {},
   "outputs": [
    {
     "data": {
      "text/plain": [
       "-(a1*alpha + 2*a0)/(a1 + 2*alpha)"
      ]
     },
     "execution_count": 35,
     "metadata": {},
     "output_type": "execute_result"
    }
   ],
   "source": [
    "sorder2.subs({beta:1})"
   ]
  },
  {
   "cell_type": "code",
   "execution_count": 36,
   "id": "3231633d",
   "metadata": {},
   "outputs": [],
   "source": [
    "#third1=(w1 - alpha*w2)*b + 2*c*(w2 - alpha*w3)+3*d*(w3 - alpha*a4)\n",
    "#third2=(third1+3*alpha*(w1+b*w2+c*w3+d*a4)).full_simplify()\n",
    "if numi==3:\n",
    "    term1=th2.subs({w1:1,w2:0,w3:0})\n",
    "    term2=th2.subs({w1:0,w2:1,w3:0})\n",
    "    term3=th2.subs({w1:0,w2:0,w3:1})\n",
    "    newb=(term2/term1).full_simplify()\n",
    "    newc=(term3/term1).full_simplify()"
   ]
  },
  {
   "cell_type": "code",
   "execution_count": 40,
   "id": "3aafe788",
   "metadata": {},
   "outputs": [
    {
     "ename": "NameError",
     "evalue": "name 'newb' is not defined",
     "output_type": "error",
     "traceback": [
      "\u001b[0;31m---------------------------------------------------------------------------\u001b[0m",
      "\u001b[0;31mNameError\u001b[0m                                 Traceback (most recent call last)",
      "Cell \u001b[0;32mIn[40], line 1\u001b[0m\n\u001b[0;32m----> 1\u001b[0m \u001b[43mnewb\u001b[49m\n",
      "\u001b[0;31mNameError\u001b[0m: name 'newb' is not defined"
     ]
    }
   ],
   "source": [
    "newb"
   ]
  },
  {
   "cell_type": "code",
   "execution_count": 39,
   "id": "109bcc4c",
   "metadata": {},
   "outputs": [
    {
     "ename": "NameError",
     "evalue": "name 'b' is not defined",
     "output_type": "error",
     "traceback": [
      "\u001b[0;31m---------------------------------------------------------------------------\u001b[0m",
      "\u001b[0;31mNameError\u001b[0m                                 Traceback (most recent call last)",
      "Cell \u001b[0;32mIn[39], line 1\u001b[0m\n\u001b[0;32m----> 1\u001b[0m newratio\u001b[38;5;241m=\u001b[39mmainratio\u001b[38;5;241m.\u001b[39msubs({\u001b[43mb\u001b[49m:newb,c:newc})\u001b[38;5;241m.\u001b[39mfull_simplify()\n\u001b[1;32m      2\u001b[0m expa\u001b[38;5;241m=\u001b[39mnewratio\u001b[38;5;241m*\u001b[39m\u001b[38;5;241m*\u001b[39mInteger(\u001b[38;5;241m2\u001b[39m)\u001b[38;5;241m+\u001b[39mnewb\u001b[38;5;241m*\u001b[39mnewratio\u001b[38;5;241m+\u001b[39mnewc\n\u001b[1;32m      3\u001b[0m expa2\u001b[38;5;241m=\u001b[39mexpa\u001b[38;5;241m.\u001b[39mfull_simplify()\u001b[38;5;241m.\u001b[39mfactor()\n",
      "\u001b[0;31mNameError\u001b[0m: name 'b' is not defined"
     ]
    }
   ],
   "source": [
    "newratio=mainratio.subs({b:newb,c:newc}).full_simplify()\n",
    "expa=newratio^2+newb*newratio+newc\n",
    "expa2=expa.full_simplify().factor()"
   ]
  },
  {
   "cell_type": "code",
   "execution_count": 6,
   "id": "ea37c427",
   "metadata": {},
   "outputs": [],
   "source": [
    "exp1=alpha^2*b^2 - 3*alpha^2*c + alpha*b*c + c^2 - 9*alpha*d - 3*b*d"
   ]
  },
  {
   "cell_type": "code",
   "execution_count": 7,
   "id": "b7f00f76",
   "metadata": {},
   "outputs": [],
   "source": [
    "dsol=solve(exp1==0,d)\n",
    "dsol2=dsol[0].rhs()"
   ]
  },
  {
   "cell_type": "code",
   "execution_count": 8,
   "id": "286f3b1a",
   "metadata": {},
   "outputs": [],
   "source": [
    "dratio=newratio.subs({d:dsol2}).full_simplify().factor()"
   ]
  },
  {
   "cell_type": "code",
   "execution_count": 9,
   "id": "e56a1f55",
   "metadata": {},
   "outputs": [],
   "source": [
    "altexpa=(dratio^2+newb*dratio+newc).full_simplify().factor()"
   ]
  },
  {
   "cell_type": "code",
   "execution_count": 10,
   "id": "d00733cb",
   "metadata": {},
   "outputs": [],
   "source": [
    "altexpa2=-altexpa.numerator()"
   ]
  },
  {
   "cell_type": "code",
   "execution_count": null,
   "id": "1d4b7787",
   "metadata": {},
   "outputs": [],
   "source": []
  },
  {
   "cell_type": "code",
   "execution_count": 11,
   "id": "9e3eb0f8",
   "metadata": {},
   "outputs": [],
   "source": [
    "dis2=b^2-4*a*c"
   ]
  },
  {
   "cell_type": "code",
   "execution_count": 12,
   "id": "2f910fdc",
   "metadata": {},
   "outputs": [],
   "source": [
    "altexpa3=mycollect(altexpa2,alpha)\n",
    "altexpa4=altexpa3.operands()\n",
    "altexpa5=[i.subs({alpha:1})for i in altexpa4]"
   ]
  },
  {
   "cell_type": "code",
   "execution_count": 13,
   "id": "12532186",
   "metadata": {},
   "outputs": [
    {
     "data": {
      "text/plain": [
       "(b^2 - 3*c)*alpha^2 + (b*c - 9*d)*alpha + c^2 - 3*b*d"
      ]
     },
     "execution_count": 13,
     "metadata": {},
     "output_type": "execute_result"
    }
   ],
   "source": [
    "altexpa3"
   ]
  },
  {
   "cell_type": "code",
   "execution_count": 14,
   "id": "46254148",
   "metadata": {},
   "outputs": [],
   "source": [
    "altexpa5=[b^2 - 3*c, b*c - 9*d, c^2-3*b*d]"
   ]
  },
  {
   "cell_type": "code",
   "execution_count": 15,
   "id": "f2bdb333",
   "metadata": {},
   "outputs": [],
   "source": [
    "dis3=dis2.subs({a:altexpa5[0],b:altexpa5[1],c:altexpa5[2]})"
   ]
  },
  {
   "cell_type": "code",
   "execution_count": 16,
   "id": "d9733090",
   "metadata": {},
   "outputs": [],
   "source": [
    "dis3=dis3.full_simplify().factor()/-3"
   ]
  },
  {
   "cell_type": "code",
   "execution_count": 17,
   "id": "4459f74c",
   "metadata": {},
   "outputs": [],
   "source": [
    "fourth1=(a1 - alpha*a2)*b + 2*c*(a2 - alpha*a3)+3*d*(a3 - alpha*a4)+4*e*(a4 - alpha*a5)\n",
    "fourth2=(fourth1+4*alpha*(a1+b*a2+c*a3+d*a4+e*a5)).full_simplify()"
   ]
  },
  {
   "cell_type": "code",
   "execution_count": 18,
   "id": "5ed0a907",
   "metadata": {},
   "outputs": [],
   "source": [
    "foterm1=fourth2.subs({a1:1,a2:0,a3:0,a4:0})\n",
    "foterm2=fourth2.subs({a1:0,a2:1,a3:0,a4:0})\n",
    "foterm3=fourth2.subs({a1:0,a2:0,a3:1,a4:0})\n",
    "foterm4=fourth2.subs({a1:0,a2:0,a3:0,a4:1})\n",
    "newfb=foterm2/foterm1\n",
    "newfc=foterm3/foterm1\n",
    "newfd=foterm4/foterm1"
   ]
  },
  {
   "cell_type": "code",
   "execution_count": 19,
   "id": "127c6d51",
   "metadata": {},
   "outputs": [],
   "source": [
    "foratio=(newratio.subs({b:newfb,c:newfc,d:newfd})).full_simplify()\n",
    "dosb=newb.subs({b:newfb,c:newfc,d:newfd}).full_simplify()\n",
    "dosc=newc.subs({b:newfb,c:newfc,d:newfd}).full_simplify()"
   ]
  },
  {
   "cell_type": "code",
   "execution_count": 20,
   "id": "f848feb2",
   "metadata": {},
   "outputs": [],
   "source": [
    "foexp2=(foratio^2+dosb*foratio+dosc).full_simplify().factor()"
   ]
  },
  {
   "cell_type": "code",
   "execution_count": 21,
   "id": "f5fafa28",
   "metadata": {},
   "outputs": [
    {
     "data": {
      "text/plain": [
       "-2*(3*alpha^4*b^2 - 8*alpha^4*c + 4*alpha^3*b*c + 4*alpha^2*c^2 - 24*alpha^3*d - 6*alpha^2*b*d + 4*alpha*c*d - 48*alpha^2*e - 24*alpha*b*e + 3*d^2 - 8*c*e)*(alpha^4 + alpha^3*b + alpha^2*c + alpha*d + e)/((4*alpha^3 + 3*alpha^2*b + 2*alpha*c + d)^2*(6*alpha^2 + 3*alpha*b + c))"
      ]
     },
     "execution_count": 21,
     "metadata": {},
     "output_type": "execute_result"
    }
   ],
   "source": [
    "foexp2"
   ]
  },
  {
   "cell_type": "code",
   "execution_count": 22,
   "id": "5ad98482",
   "metadata": {},
   "outputs": [],
   "source": [
    "exp2=3*alpha^4*b^2 - 8*alpha^4*c + 4*alpha^3*b*c + 4*alpha^2*c^2 - 24*alpha^3*d - 6*alpha^2*b*d + 4*alpha*c*d - 48*alpha^2*e - 24*alpha*b*e + 3*d^2 - 8*c*e"
   ]
  },
  {
   "cell_type": "code",
   "execution_count": 23,
   "id": "d74d4ece",
   "metadata": {},
   "outputs": [],
   "source": [
    "esol=solve(exp2==0,e)\n",
    "esol2=esol[0].rhs()"
   ]
  },
  {
   "cell_type": "code",
   "execution_count": 24,
   "id": "64c0a6b7",
   "metadata": {},
   "outputs": [],
   "source": [
    "eratio=foratio.subs({e:esol2}).full_simplify().factor()"
   ]
  },
  {
   "cell_type": "code",
   "execution_count": 25,
   "id": "93374f3d",
   "metadata": {},
   "outputs": [],
   "source": [
    "altafo=(eratio^2+dosb*eratio+dosc).full_simplify().factor()"
   ]
  },
  {
   "cell_type": "code",
   "execution_count": 26,
   "id": "29beef97",
   "metadata": {},
   "outputs": [
    {
     "data": {
      "text/plain": [
       "-3/4*(3*alpha^4*b^2 - 8*alpha^4*c + 4*alpha^3*b*c + 4*alpha^2*c^2 - 24*alpha^3*d - 6*alpha^2*b*d + 4*alpha*c*d - 48*alpha^2*e - 24*alpha*b*e + 3*d^2 - 8*c*e)/(6*alpha^2 + 3*alpha*b + c)^2"
      ]
     },
     "execution_count": 26,
     "metadata": {},
     "output_type": "execute_result"
    }
   ],
   "source": [
    "altafo"
   ]
  },
  {
   "cell_type": "code",
   "execution_count": 27,
   "id": "af1e4cf6",
   "metadata": {},
   "outputs": [],
   "source": [
    "altafo2=altafo.numerator()/-3\n",
    "altafo3=(altafo2-(3*b^2 - 8*c)*(alpha^4 + alpha^3*b + alpha^2*c + alpha*d + e)).full_simplify()\n",
    "altafo4=mycollect(altafo3,alpha)/-3\n",
    "altafo5=altafo4.operands()"
   ]
  },
  {
   "cell_type": "code",
   "execution_count": 28,
   "id": "8a0bbb72",
   "metadata": {},
   "outputs": [
    {
     "data": {
      "text/plain": [
       "2/9*(3*b^2 - 8*c)*alpha^4 + 1/9*(9*b^3 - 28*b*c + 24*d)*alpha^3 + 1/9*(9*b^2*c - 28*c^2 + 6*b*d + 48*e)*alpha^2 + b^2*e + 1/9*(9*b^2*d - 28*c*d + 24*b*e)*alpha - 1/3*d^2 - 16/9*c*e"
      ]
     },
     "execution_count": 28,
     "metadata": {},
     "output_type": "execute_result"
    }
   ],
   "source": [
    "altafo4"
   ]
  },
  {
   "cell_type": "code",
   "execution_count": 29,
   "id": "d83052aa",
   "metadata": {},
   "outputs": [],
   "source": [
    "altafo5=[(b^3 - 4*b*c + 8*d)*alpha^3,\n",
    " (b^2*c - 4*c^2 + 2*b*d + 16*e)*alpha^2,\n",
    " (b^2*d - 4*c*d + 8*b*e)*alpha,\n",
    " b^2*e-d^2]"
   ]
  },
  {
   "cell_type": "code",
   "execution_count": 30,
   "id": "26fb36a1",
   "metadata": {},
   "outputs": [],
   "source": [
    "altafo6=[i.subs({alpha:1})for i in altafo5]"
   ]
  },
  {
   "cell_type": "code",
   "execution_count": 31,
   "id": "bc719031",
   "metadata": {},
   "outputs": [],
   "source": [
    "altafo7=[j/altafo6[0]for j in altafo6]"
   ]
  },
  {
   "cell_type": "code",
   "execution_count": 32,
   "id": "abb94519",
   "metadata": {},
   "outputs": [
    {
     "data": {
      "text/plain": [
       "[1,\n",
       " (b^2*c - 4*c^2 + 2*b*d + 16*e)/(b^3 - 4*b*c + 8*d),\n",
       " (b^2*d - 4*c*d + 8*b*e)/(b^3 - 4*b*c + 8*d),\n",
       " (b^2*e - d^2)/(b^3 - 4*b*c + 8*d)]"
      ]
     },
     "execution_count": 32,
     "metadata": {},
     "output_type": "execute_result"
    }
   ],
   "source": [
    "altafo7"
   ]
  },
  {
   "cell_type": "code",
   "execution_count": 33,
   "id": "8c1c3bc3",
   "metadata": {},
   "outputs": [],
   "source": [
    "dis4=(dis3.subs({b:altafo7[1],c:altafo7[2],d:altafo7[3]})).full_simplify().factor()"
   ]
  },
  {
   "cell_type": "code",
   "execution_count": 34,
   "id": "faecdbe8",
   "metadata": {},
   "outputs": [],
   "source": [
    "dis4=dis4.numerator()"
   ]
  },
  {
   "cell_type": "code",
   "execution_count": 35,
   "id": "6064036d",
   "metadata": {},
   "outputs": [
    {
     "data": {
      "text/plain": [
       "b^2*c^2*d^2 - 4*b^3*d^3 - 4*b^2*c^3*e + 18*b^3*c*d*e - 27*b^4*e^2 - 4*c^3*d^2 + 18*b*c*d^3 + 16*c^4*e - 80*b*c^2*d*e - 6*b^2*d^2*e + 144*b^2*c*e^2 - 27*d^4 + 144*c*d^2*e - 128*c^2*e^2 - 192*b*d*e^2 + 256*e^3"
      ]
     },
     "execution_count": 35,
     "metadata": {},
     "output_type": "execute_result"
    }
   ],
   "source": [
    "dis4"
   ]
  },
  {
   "cell_type": "code",
   "execution_count": null,
   "id": "c7912e87",
   "metadata": {},
   "outputs": [],
   "source": []
  },
  {
   "cell_type": "code",
   "execution_count": 36,
   "id": "4466b063",
   "metadata": {},
   "outputs": [],
   "source": [
    "fifth1=(a1 - alpha*a2)*b + 2*c*(a2 - alpha*a3)+3*d*(a3 - alpha*a4)+4*e*(a4 - alpha*a5)+5*f*(a5 - alpha*a6)\n",
    "fifth2=(fifth1+5*alpha*(a1+b*a2+c*a3+d*a4+e*a5+f*a6)).full_simplify()"
   ]
  },
  {
   "cell_type": "code",
   "execution_count": 37,
   "id": "37b1ffce",
   "metadata": {},
   "outputs": [
    {
     "data": {
      "text/plain": [
       "5*a1*alpha + (4*a2*alpha + a1)*b + (3*a3*alpha + 2*a2)*c + (2*a4*alpha + 3*a3)*d + (a5*alpha + 4*a4)*e + 5*a5*f"
      ]
     },
     "execution_count": 37,
     "metadata": {},
     "output_type": "execute_result"
    }
   ],
   "source": [
    "fifth2"
   ]
  },
  {
   "cell_type": "code",
   "execution_count": 38,
   "id": "4223a626",
   "metadata": {},
   "outputs": [],
   "source": [
    "fiterm1=fifth2.subs({a1:1,a2:0,a3:0,a4:0,a5:0})\n",
    "fiterm2=fifth2.subs({a1:0,a2:1,a3:0,a4:0,a5:0})\n",
    "fiterm3=fifth2.subs({a1:0,a2:0,a3:1,a4:0,a5:0})\n",
    "fiterm4=fifth2.subs({a1:0,a2:0,a3:0,a4:1,a5:0})\n",
    "fiterm5=fifth2.subs({a1:0,a2:0,a3:0,a4:0,a5:1})\n",
    "fifb=fiterm2/fiterm1\n",
    "fifc=fiterm3/fiterm1\n",
    "fifd=fiterm4/fiterm1\n",
    "fife=fiterm5/fiterm1"
   ]
  },
  {
   "cell_type": "code",
   "execution_count": 39,
   "id": "4839af1b",
   "metadata": {},
   "outputs": [],
   "source": [
    "fifratio=(foratio.subs({b:fifb,c:fifc,d:fifd,e:fife})).full_simplify().factor()\n",
    "cincob=dosb.subs({b:fifb,c:fifc,d:fifd,e:fife}).full_simplify().factor()\n",
    "cincoc=dosc.subs({b:fifb,c:fifc,d:fifd,e:fife}).full_simplify().factor()"
   ]
  },
  {
   "cell_type": "code",
   "execution_count": 40,
   "id": "d63bc722",
   "metadata": {},
   "outputs": [
    {
     "data": {
      "text/plain": [
       "(2*(alpha*b + c)/(3*alpha + b), (alpha*c + 3*d)/(3*alpha + b))"
      ]
     },
     "execution_count": 40,
     "metadata": {},
     "output_type": "execute_result"
    }
   ],
   "source": [
    "newb, newc"
   ]
  },
  {
   "cell_type": "code",
   "execution_count": 41,
   "id": "fcd0a280",
   "metadata": {},
   "outputs": [
    {
     "data": {
      "text/plain": [
       "((3*alpha^2*b + 4*alpha*c + 3*d)/(6*alpha^2 + 3*alpha*b + c),\n",
       " (alpha^2*c + 3*alpha*d + 6*e)/(6*alpha^2 + 3*alpha*b + c))"
      ]
     },
     "execution_count": 41,
     "metadata": {},
     "output_type": "execute_result"
    }
   ],
   "source": [
    "dosb,dosc"
   ]
  },
  {
   "cell_type": "code",
   "execution_count": 42,
   "id": "37167530",
   "metadata": {},
   "outputs": [
    {
     "data": {
      "text/plain": [
       "(2*(2*alpha^3*b + 3*alpha^2*c + 3*alpha*d + 2*e)/(10*alpha^3 + 6*alpha^2*b + 3*alpha*c + d),\n",
       " (alpha^3*c + 3*alpha^2*d + 6*alpha*e + 10*f)/(10*alpha^3 + 6*alpha^2*b + 3*alpha*c + d))"
      ]
     },
     "execution_count": 42,
     "metadata": {},
     "output_type": "execute_result"
    }
   ],
   "source": [
    "cincob, cincoc"
   ]
  },
  {
   "cell_type": "code",
   "execution_count": 43,
   "id": "6e09a220",
   "metadata": {},
   "outputs": [],
   "source": [
    "fiexp2=(fifratio^2+cincob*fifratio+cincoc).full_simplify().factor()"
   ]
  },
  {
   "cell_type": "code",
   "execution_count": 44,
   "id": "a452501f",
   "metadata": {},
   "outputs": [
    {
     "data": {
      "text/plain": [
       "-5*(2*alpha^6*b^2 - 5*alpha^6*c + 3*alpha^5*b*c + 3*alpha^4*c^2 - 15*alpha^5*d - 3*alpha^4*b*d + 4*alpha^3*c*d - 30*alpha^4*e - 14*alpha^3*b*e + 3*alpha^2*d^2 - 3*alpha^2*c*e - 50*alpha^3*f - 30*alpha^2*b*f + 3*alpha*d*e - 15*alpha*c*f + 2*e^2 - 5*d*f)*(alpha^5 + alpha^4*b + alpha^3*c + alpha^2*d + alpha*e + f)/((5*alpha^4 + 4*alpha^3*b + 3*alpha^2*c + 2*alpha*d + e)^2*(10*alpha^3 + 6*alpha^2*b + 3*alpha*c + d))"
      ]
     },
     "execution_count": 44,
     "metadata": {},
     "output_type": "execute_result"
    }
   ],
   "source": [
    "fiexp2"
   ]
  },
  {
   "cell_type": "code",
   "execution_count": 45,
   "id": "d4b720a2",
   "metadata": {},
   "outputs": [],
   "source": [
    "exp3=(2*alpha^6*b^2 - 5*alpha^6*c + 3*alpha^5*b*c + 3*alpha^4*c^2 - 15*alpha^5*d - 3*alpha^4*b*d + 4*alpha^3*c*d - 30*alpha^4*e - 14*alpha^3*b*e + 3*alpha^2*d^2 - 3*alpha^2*c*e - 50*alpha^3*f - 30*alpha^2*b*f + 3*alpha*d*e - 15*alpha*c*f + 2*e^2 - 5*d*f)"
   ]
  },
  {
   "cell_type": "code",
   "execution_count": 46,
   "id": "a30bbee6",
   "metadata": {},
   "outputs": [],
   "source": [
    "fsol=solve(exp3==0,f)\n",
    "fsol2=fsol[0].rhs()"
   ]
  },
  {
   "cell_type": "code",
   "execution_count": 47,
   "id": "80526638",
   "metadata": {},
   "outputs": [],
   "source": [
    "fratio=fifratio.subs({f:fsol2}).full_simplify().factor()"
   ]
  },
  {
   "cell_type": "code",
   "execution_count": 48,
   "id": "8cafa6eb",
   "metadata": {},
   "outputs": [
    {
     "data": {
      "text/plain": [
       "-(alpha*b + c)/(3*alpha + b)"
      ]
     },
     "execution_count": 48,
     "metadata": {},
     "output_type": "execute_result"
    }
   ],
   "source": [
    "dratio"
   ]
  },
  {
   "cell_type": "code",
   "execution_count": 49,
   "id": "2135b94c",
   "metadata": {},
   "outputs": [
    {
     "data": {
      "text/plain": [
       "-1/2*(3*alpha^2*b + 4*alpha*c + 3*d)/(6*alpha^2 + 3*alpha*b + c)"
      ]
     },
     "execution_count": 49,
     "metadata": {},
     "output_type": "execute_result"
    }
   ],
   "source": [
    "eratio"
   ]
  },
  {
   "cell_type": "code",
   "execution_count": 50,
   "id": "6b5586a4",
   "metadata": {},
   "outputs": [
    {
     "data": {
      "text/plain": [
       "-(2*alpha^3*b + 3*alpha^2*c + 3*alpha*d + 2*e)/(10*alpha^3 + 6*alpha^2*b + 3*alpha*c + d)"
      ]
     },
     "execution_count": 50,
     "metadata": {},
     "output_type": "execute_result"
    }
   ],
   "source": [
    "fratio"
   ]
  },
  {
   "cell_type": "code",
   "execution_count": 51,
   "id": "0f6218de",
   "metadata": {},
   "outputs": [],
   "source": [
    "altafi=(fratio^2+cincob*fratio+cincoc).full_simplify().factor()"
   ]
  },
  {
   "cell_type": "code",
   "execution_count": null,
   "id": "49860835",
   "metadata": {},
   "outputs": [],
   "source": []
  },
  {
   "cell_type": "code",
   "execution_count": 52,
   "id": "b659a1fe",
   "metadata": {},
   "outputs": [],
   "source": [
    "altafi2=mycollect(altafi.numerator(),alpha)"
   ]
  },
  {
   "cell_type": "code",
   "execution_count": 53,
   "id": "ab38c4be",
   "metadata": {},
   "outputs": [],
   "source": [
    "newbi=altafi2\n",
    "for i in range(0,2):\n",
    "    newbi=mycollect(newbi,alpha)\n",
    "    pris=newbi.operands()[0].subs({alpha:1})\n",
    "    newbi=(newbi-pris*alpha^(2-i-1)*(alpha^5 + alpha^4*b + alpha^3*c + alpha^2*d + alpha*e+f)).full_simplify()"
   ]
  },
  {
   "cell_type": "code",
   "execution_count": 54,
   "id": "60ad3589",
   "metadata": {},
   "outputs": [
    {
     "data": {
      "text/plain": [
       "-4*(b^4 - 5*b^2*c + 4*c^2 + 6*b*d - 15*e)*alpha^4 - 4*(b^3*c - 4*b*c^2 - b^2*d + 12*c*d - 7*b*e - 25*f)*alpha^3 - 4*b^3*f - 4*(b^3*d - 4*b*c*d - b^2*e + 9*d^2 + c*e - 15*b*f)*alpha^2 + 16*b*c*f - 4*(b^3*e - 4*b*c*e - b^2*f + 9*d*e - 5*c*f)*alpha - 4*e^2 - 20*d*f"
      ]
     },
     "execution_count": 54,
     "metadata": {},
     "output_type": "execute_result"
    }
   ],
   "source": [
    "mycollect(newbi,alpha)"
   ]
  },
  {
   "cell_type": "code",
   "execution_count": null,
   "id": "a7a0e63e",
   "metadata": {},
   "outputs": [],
   "source": []
  },
  {
   "cell_type": "code",
   "execution_count": 55,
   "id": "83aed158",
   "metadata": {},
   "outputs": [
    {
     "data": {
      "text/plain": [
       "-2*(2*b^2 - 5*c)*alpha^6 - 6*(b*c - 5*d)*alpha^5 - 6*(c^2 - b*d - 10*e)*alpha^4 - 4*(2*c*d - 7*b*e - 25*f)*alpha^3 - 6*(d^2 - c*e - 10*b*f)*alpha^2 - 6*(d*e - 5*c*f)*alpha - 4*e^2 + 10*d*f"
      ]
     },
     "execution_count": 55,
     "metadata": {},
     "output_type": "execute_result"
    }
   ],
   "source": [
    "altafi2"
   ]
  },
  {
   "cell_type": "code",
   "execution_count": 56,
   "id": "33e6283c",
   "metadata": {},
   "outputs": [],
   "source": [
    "dis1=altafi2.operands()[0].subs({alpha:1})"
   ]
  },
  {
   "cell_type": "code",
   "execution_count": 57,
   "id": "b55180e3",
   "metadata": {},
   "outputs": [
    {
     "data": {
      "text/plain": [
       "alpha^4 + alpha^3*b + alpha^2*c + alpha*d + e"
      ]
     },
     "execution_count": 57,
     "metadata": {},
     "output_type": "execute_result"
    }
   ],
   "source": [
    "(alpha^4 + alpha^3*b + alpha^2*c + alpha*d + e)"
   ]
  },
  {
   "cell_type": "code",
   "execution_count": 58,
   "id": "7110f98d",
   "metadata": {},
   "outputs": [
    {
     "data": {
      "text/plain": [
       "-3/4*(3*alpha^4*b^2 - 8*alpha^4*c + 4*alpha^3*b*c + 4*alpha^2*c^2 - 24*alpha^3*d - 6*alpha^2*b*d + 4*alpha*c*d - 48*alpha^2*e - 24*alpha*b*e + 3*d^2 - 8*c*e)/(6*alpha^2 + 3*alpha*b + c)^2"
      ]
     },
     "execution_count": 58,
     "metadata": {},
     "output_type": "execute_result"
    }
   ],
   "source": [
    "altafo"
   ]
  },
  {
   "cell_type": "code",
   "execution_count": 59,
   "id": "6ef12f61",
   "metadata": {},
   "outputs": [],
   "source": [
    "tmp=mycollect(altafo3,alpha)"
   ]
  },
  {
   "cell_type": "code",
   "execution_count": 60,
   "id": "a091b4bf",
   "metadata": {},
   "outputs": [
    {
     "data": {
      "text/plain": [
       "-3*b^3 - 3*b^2*c - 3*b^2*d - 3*b^2*e - 2*b^2 + 28/3*b*c + 28/3*c^2 - 2*b*d + 28/3*c*d + d^2 - 8*b*e + 16/3*c*e + 16/3*c - 8*d - 16*e"
      ]
     },
     "execution_count": 60,
     "metadata": {},
     "output_type": "execute_result"
    }
   ],
   "source": [
    "tmp.subs({alpha:1})"
   ]
  },
  {
   "cell_type": "code",
   "execution_count": 61,
   "id": "00c1694c",
   "metadata": {},
   "outputs": [
    {
     "ename": "NameError",
     "evalue": "name 'tmp2' is not defined",
     "output_type": "error",
     "traceback": [
      "\u001b[0;31m---------------------------------------------------------------------------\u001b[0m",
      "\u001b[0;31mNameError\u001b[0m                                 Traceback (most recent call last)",
      "Cell \u001b[0;32mIn[61], line 1\u001b[0m\n\u001b[0;32m----> 1\u001b[0m \u001b[43mtmp2\u001b[49m\u001b[38;5;241m.\u001b[39msubs({alpha:Integer(\u001b[38;5;241m1\u001b[39m)})\n",
      "\u001b[0;31mNameError\u001b[0m: name 'tmp2' is not defined"
     ]
    }
   ],
   "source": [
    "tmp2.subs({alpha:1})"
   ]
  },
  {
   "cell_type": "code",
   "execution_count": null,
   "id": "6967009d",
   "metadata": {},
   "outputs": [],
   "source": []
  }
 ],
 "metadata": {
  "kernelspec": {
   "display_name": "SageMath 9.7 [conda env:sagemath]",
   "language": "sage",
   "name": "conda-env-sagemath-sagemath"
  },
  "language_info": {
   "codemirror_mode": {
    "name": "ipython",
    "version": 3
   },
   "file_extension": ".py",
   "mimetype": "text/x-python",
   "name": "python",
   "nbconvert_exporter": "python",
   "pygments_lexer": "ipython3",
   "version": "3.10.4"
  }
 },
 "nbformat": 4,
 "nbformat_minor": 5
}
