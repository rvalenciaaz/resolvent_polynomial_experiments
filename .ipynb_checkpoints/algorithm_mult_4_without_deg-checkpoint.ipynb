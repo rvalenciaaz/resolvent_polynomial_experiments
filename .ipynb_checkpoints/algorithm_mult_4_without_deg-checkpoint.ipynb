{
 "cells": [
  {
   "cell_type": "code",
   "execution_count": 1,
   "id": "586b660a",
   "metadata": {},
   "outputs": [],
   "source": [
    "def mycollect(e1, e2):\n",
    "    \"\"\"\n",
    "    Collects e2 coefficients in e1, even when e2 is not a factor of\n",
    "    some of the terms of e1\n",
    "    \"\"\"\n",
    "    g = maxima_calculus.gensym()._sage_()\n",
    "    while g in e1.variables(): g = maxima_calculus.gensym()._sage_()\n",
    "    return sum([v[0]*g^v[1]\n",
    "                for v in e1.subs(e2==g).coefficients(g)]).subs(g==e2)"
   ]
  },
  {
   "cell_type": "code",
   "execution_count": null,
   "id": "f9bd9cba",
   "metadata": {},
   "outputs": [],
   "source": []
  },
  {
   "cell_type": "code",
   "execution_count": 2,
   "id": "bddf95ac",
   "metadata": {},
   "outputs": [],
   "source": [
    "deg=5"
   ]
  },
  {
   "cell_type": "code",
   "execution_count": 3,
   "id": "116b0938",
   "metadata": {},
   "outputs": [],
   "source": [
    "var_list=[\"a_\"+str(i) for i in range(0,deg)]"
   ]
  },
  {
   "cell_type": "code",
   "execution_count": 4,
   "id": "81880a8c",
   "metadata": {},
   "outputs": [
    {
     "data": {
      "text/plain": [
       "(a_0, a_1, a_2, a_3, a_4, alpha)"
      ]
     },
     "execution_count": 4,
     "metadata": {},
     "output_type": "execute_result"
    }
   ],
   "source": [
    "var(var_list+[\"alpha\"])"
   ]
  },
  {
   "cell_type": "code",
   "execution_count": 9,
   "id": "66f4fb0b",
   "metadata": {},
   "outputs": [
    {
     "data": {
      "text/plain": [
       "(x_1, x_2, x_3, x_4, x_5, y, x, r24)"
      ]
     },
     "execution_count": 9,
     "metadata": {},
     "output_type": "execute_result"
    }
   ],
   "source": [
    "var(\"x_1,x_2,x_3,x_4,x_5,y,x,r24\")"
   ]
  },
  {
   "cell_type": "code",
   "execution_count": 369,
   "id": "f4556807",
   "metadata": {},
   "outputs": [],
   "source": [
    "#disc_list=[1,1,a_1^2-4*a_0, a_1^2*a_2^2 - 4*a_0*a_2^3 - 4*a_1^3 + 18*a_0*a_1*a_2 - 27*a_0^2]"
   ]
  },
  {
   "cell_type": "code",
   "execution_count": 370,
   "id": "d5bd5516",
   "metadata": {},
   "outputs": [],
   "source": [
    "d_coef=[i*(i+1)/2 for i in range(1,deg)]"
   ]
  },
  {
   "cell_type": "code",
   "execution_count": null,
   "id": "77f0506e",
   "metadata": {},
   "outputs": [],
   "source": []
  },
  {
   "cell_type": "code",
   "execution_count": 371,
   "id": "5a3eb1b2",
   "metadata": {},
   "outputs": [],
   "source": [
    "d_sym=[eval(\"a_\"+str(i)) for i in range(0,deg)]\n",
    "d_sym=d_sym[-(deg-2):]+[1]"
   ]
  },
  {
   "cell_type": "code",
   "execution_count": 372,
   "id": "643779b7",
   "metadata": {},
   "outputs": [
    {
     "data": {
      "text/plain": [
       "[a_2, a_3, a_4, 1]"
      ]
     },
     "execution_count": 372,
     "metadata": {},
     "output_type": "execute_result"
    }
   ],
   "source": [
    "d_sym"
   ]
  },
  {
   "cell_type": "code",
   "execution_count": 373,
   "id": "9d929b21",
   "metadata": {},
   "outputs": [],
   "source": [
    "d_alpha=[eval(\"alpha**\"+str(i)) for i in range (0,deg-1)]"
   ]
  },
  {
   "cell_type": "code",
   "execution_count": 374,
   "id": "53006e90",
   "metadata": {},
   "outputs": [],
   "source": [
    "d_exp=sum([i*j*k for i,j,k in zip(d_coef,d_sym,d_alpha)])"
   ]
  },
  {
   "cell_type": "code",
   "execution_count": 375,
   "id": "8b581a1a",
   "metadata": {},
   "outputs": [
    {
     "data": {
      "text/plain": [
       "6*a_4*alpha^2 + 10*alpha^3 + 3*a_3*alpha + a_2"
      ]
     },
     "execution_count": 375,
     "metadata": {},
     "output_type": "execute_result"
    }
   ],
   "source": [
    "d_exp"
   ]
  },
  {
   "cell_type": "code",
   "execution_count": 376,
   "id": "07d6d171",
   "metadata": {},
   "outputs": [],
   "source": [
    "n_coef=[2,2]\n",
    "for j in range(0,deg-3):\n",
    "    n_coef=n_coef+[0]\n",
    "    add=list(range(1,j+4))\n",
    "    n_coef=[x + y for x, y in zip(n_coef, add)]"
   ]
  },
  {
   "cell_type": "code",
   "execution_count": 377,
   "id": "e0912d38",
   "metadata": {},
   "outputs": [
    {
     "data": {
      "text/plain": [
       "[4, 6, 6, 4]"
      ]
     },
     "execution_count": 377,
     "metadata": {},
     "output_type": "execute_result"
    }
   ],
   "source": [
    "n_coef"
   ]
  },
  {
   "cell_type": "code",
   "execution_count": 378,
   "id": "585505d2",
   "metadata": {},
   "outputs": [],
   "source": [
    "eqb_sym=[eval(\"a_\"+str(i)) for i in range(0,deg)]\n",
    "eqb_sym=eqb_sym[-(deg-1):]"
   ]
  },
  {
   "cell_type": "code",
   "execution_count": null,
   "id": "4e7939ac",
   "metadata": {},
   "outputs": [],
   "source": []
  },
  {
   "cell_type": "code",
   "execution_count": 379,
   "id": "96d99453",
   "metadata": {},
   "outputs": [],
   "source": [
    "eqb_exp=sum([i*j*k for i,j,k in zip(n_coef,d_alpha,eqb_sym)])"
   ]
  },
  {
   "cell_type": "code",
   "execution_count": 380,
   "id": "f7352dfe",
   "metadata": {},
   "outputs": [
    {
     "data": {
      "text/plain": [
       "4*a_4*alpha^3 + 6*a_3*alpha^2 + 6*a_2*alpha + 4*a_1"
      ]
     },
     "execution_count": 380,
     "metadata": {},
     "output_type": "execute_result"
    }
   ],
   "source": [
    "eqb_exp"
   ]
  },
  {
   "cell_type": "code",
   "execution_count": 381,
   "id": "61c7bcd4",
   "metadata": {},
   "outputs": [],
   "source": [
    "d_coef_rev=list(reversed(d_coef))"
   ]
  },
  {
   "cell_type": "code",
   "execution_count": 382,
   "id": "7e0402d5",
   "metadata": {},
   "outputs": [],
   "source": [
    "eqc_sym=[eval(\"a_\"+str(i)) for i in range(0,deg)]\n",
    "eqc_sym=eqc_sym[0:(deg-1)]"
   ]
  },
  {
   "cell_type": "code",
   "execution_count": 383,
   "id": "e6d57a8e",
   "metadata": {},
   "outputs": [
    {
     "data": {
      "text/plain": [
       "([a_0, a_1, a_2, a_3], [10, 6, 3, 1], [1, alpha, alpha^2, alpha^3])"
      ]
     },
     "execution_count": 383,
     "metadata": {},
     "output_type": "execute_result"
    }
   ],
   "source": [
    "eqc_sym, d_coef_rev,d_alpha"
   ]
  },
  {
   "cell_type": "code",
   "execution_count": 384,
   "id": "15c7376f",
   "metadata": {},
   "outputs": [],
   "source": [
    "eqc_exp=sum([i*j*k for i,j,k in zip(d_coef_rev,d_alpha,eqc_sym)])"
   ]
  },
  {
   "cell_type": "code",
   "execution_count": 385,
   "id": "e513c9b9",
   "metadata": {},
   "outputs": [
    {
     "data": {
      "text/plain": [
       "a_3*alpha^3 + 3*a_2*alpha^2 + 6*a_1*alpha + 10*a_0"
      ]
     },
     "execution_count": 385,
     "metadata": {},
     "output_type": "execute_result"
    }
   ],
   "source": [
    "eqc_exp"
   ]
  },
  {
   "cell_type": "code",
   "execution_count": null,
   "id": "ae3380a6",
   "metadata": {},
   "outputs": [],
   "source": []
  },
  {
   "cell_type": "code",
   "execution_count": 386,
   "id": "229430e9",
   "metadata": {},
   "outputs": [],
   "source": [
    "#-----------------------------------------------------------------------------------------------"
   ]
  },
  {
   "cell_type": "code",
   "execution_count": 387,
   "id": "9422fe13",
   "metadata": {},
   "outputs": [],
   "source": [
    "ratio=-1/2*(eqb_exp/d_exp)"
   ]
  },
  {
   "cell_type": "code",
   "execution_count": 388,
   "id": "d5877843",
   "metadata": {},
   "outputs": [],
   "source": [
    "eqb=eqb_exp/d_exp\n",
    "eqc=eqc_exp/d_exp"
   ]
  },
  {
   "cell_type": "code",
   "execution_count": 389,
   "id": "cb90b8ce",
   "metadata": {},
   "outputs": [],
   "source": [
    "formula1=((-4/(deg-1)^2)*(ratio^2+eqb*ratio+eqc)*(d_exp^2)).full_simplify().factor() #"
   ]
  },
  {
   "cell_type": "code",
   "execution_count": 390,
   "id": "57c9d67f",
   "metadata": {},
   "outputs": [],
   "source": [
    "formula2=((eqb_exp^2-4*eqc_exp*d_exp)).full_simplify().factor() #(1/(deg-1)^2)*"
   ]
  },
  {
   "cell_type": "code",
   "execution_count": 391,
   "id": "31ff7da5",
   "metadata": {},
   "outputs": [
    {
     "data": {
      "text/plain": [
       "1/16"
      ]
     },
     "execution_count": 391,
     "metadata": {},
     "output_type": "execute_result"
    }
   ],
   "source": [
    "formula1/formula2"
   ]
  },
  {
   "cell_type": "code",
   "execution_count": 392,
   "id": "58be5ac7",
   "metadata": {},
   "outputs": [],
   "source": [
    "formula=formula2"
   ]
  },
  {
   "cell_type": "code",
   "execution_count": null,
   "id": "f5a37a42",
   "metadata": {},
   "outputs": [],
   "source": []
  },
  {
   "cell_type": "code",
   "execution_count": 393,
   "id": "46132f00",
   "metadata": {},
   "outputs": [],
   "source": [
    "polori=d_exp*y^2+eqb_exp*y+eqc_exp"
   ]
  },
  {
   "cell_type": "code",
   "execution_count": null,
   "id": "69f50e83",
   "metadata": {},
   "outputs": [],
   "source": []
  },
  {
   "cell_type": "code",
   "execution_count": 394,
   "id": "32750810",
   "metadata": {},
   "outputs": [],
   "source": [
    "polori2=polori.subs({alpha:x})"
   ]
  },
  {
   "cell_type": "code",
   "execution_count": 395,
   "id": "ce48310c",
   "metadata": {},
   "outputs": [],
   "source": [
    "polori3=mycollect(polori2,x)"
   ]
  },
  {
   "cell_type": "code",
   "execution_count": 396,
   "id": "f0030845",
   "metadata": {},
   "outputs": [],
   "source": [
    "polori4=polori3.operands()"
   ]
  },
  {
   "cell_type": "code",
   "execution_count": 397,
   "id": "273fd991",
   "metadata": {},
   "outputs": [
    {
     "data": {
      "text/plain": [
       "[(4*a_4*y + 10*y^2 + a_3)*x^3,\n",
       " 3*(2*a_4*y^2 + 2*a_3*y + a_2)*x^2,\n",
       " a_2*y^2,\n",
       " 3*(a_3*y^2 + 2*a_2*y + 2*a_1)*x,\n",
       " 4*a_1*y,\n",
       " 10*a_0]"
      ]
     },
     "execution_count": 397,
     "metadata": {},
     "output_type": "execute_result"
    }
   ],
   "source": [
    "polori4"
   ]
  },
  {
   "cell_type": "code",
   "execution_count": 398,
   "id": "910dc8cd",
   "metadata": {},
   "outputs": [],
   "source": [
    "polori5a=sum([i for i in polori4 if not(i.has(x))])\n",
    "polori5b=[i for i in polori4 if i.has(x)]+[polori5a]\n",
    "polori5c=[i.subs({x:1}) for i in polori5b]"
   ]
  },
  {
   "cell_type": "code",
   "execution_count": 399,
   "id": "825a9102",
   "metadata": {},
   "outputs": [
    {
     "data": {
      "text/plain": [
       "[4*a_4*y + 10*y^2 + a_3,\n",
       " 6*a_4*y^2 + 6*a_3*y + 3*a_2,\n",
       " 3*a_3*y^2 + 6*a_2*y + 6*a_1,\n",
       " a_2*y^2 + 4*a_1*y + 10*a_0]"
      ]
     },
     "execution_count": 399,
     "metadata": {},
     "output_type": "execute_result"
    }
   ],
   "source": [
    "polori5c"
   ]
  },
  {
   "cell_type": "code",
   "execution_count": 400,
   "id": "0924131e",
   "metadata": {},
   "outputs": [],
   "source": [
    "pofi=(polori5c[1]^2-4*polori5c[0]*polori5c[2]).full_simplify()"
   ]
  },
  {
   "cell_type": "code",
   "execution_count": 401,
   "id": "58c7a2e0",
   "metadata": {},
   "outputs": [
    {
     "ename": "SyntaxError",
     "evalue": "invalid decimal literal (1578392101.py, line 1)",
     "output_type": "error",
     "traceback": [
      "\u001b[0;36m  Cell \u001b[0;32mIn[401], line 1\u001b[0;36m\u001b[0m\n\u001b[0;31m    pofi=( b**{Integer(2)}c**{Integer(2)}-4ac**{Integer(3)}-4b**{Integer(3)}d-27a**{Integer(2)}d**{Integer(2)}+18abcd)\u001b[0m\n\u001b[0m                                          ^\u001b[0m\n\u001b[0;31mSyntaxError\u001b[0m\u001b[0;31m:\u001b[0m invalid decimal literal\n"
     ]
    }
   ],
   "source": [
    "pofi=( b^{2}c^{2}-4ac^{3}-4b^{3}d-27a^{2}d^{2}+18abcd)"
   ]
  },
  {
   "cell_type": "code",
   "execution_count": 402,
   "id": "86de9961",
   "metadata": {},
   "outputs": [],
   "source": [
    "fori=mycollect(formula,alpha).subs({alpha:y})"
   ]
  },
  {
   "cell_type": "code",
   "execution_count": 403,
   "id": "1a1e3ffd",
   "metadata": {},
   "outputs": [
    {
     "data": {
      "text/plain": [
       "8/3*((2*a_4^2 - 5*a_3)*y^6 + 3*(a_3*a_4 - 5*a_2)*y^5 + 3*(a_3^2 - a_2*a_4 - 10*a_1)*y^4 + 2*(2*a_2*a_3 - 7*a_1*a_4 - 25*a_0)*y^3 + 3*(a_2^2 - a_1*a_3 - 10*a_0*a_4)*y^2 + 2*a_1^2 - 5*a_0*a_2 + 3*(a_1*a_2 - 5*a_0*a_3)*y)/(4*(3*a_4^2 - 10*a_3)*y^4 + 8*(a_3*a_4 - 10*a_2)*y^3 + 4*(2*a_3^2 - 5*a_2*a_4 - 20*a_1)*y^2 + 3*a_2^2 - 8*a_1*a_3 + 4*(a_2*a_3 - 8*a_1*a_4)*y)"
      ]
     },
     "execution_count": 403,
     "metadata": {},
     "output_type": "execute_result"
    }
   ],
   "source": [
    "fori/pofi"
   ]
  },
  {
   "cell_type": "code",
   "execution_count": null,
   "id": "84247bd8",
   "metadata": {},
   "outputs": [],
   "source": []
  },
  {
   "cell_type": "code",
   "execution_count": null,
   "id": "23edbb84",
   "metadata": {},
   "outputs": [],
   "source": []
  },
  {
   "cell_type": "code",
   "execution_count": null,
   "id": "ae49e982",
   "metadata": {},
   "outputs": [],
   "source": []
  },
  {
   "cell_type": "code",
   "execution_count": null,
   "id": "6f112208",
   "metadata": {},
   "outputs": [],
   "source": []
  },
  {
   "cell_type": "code",
   "execution_count": 404,
   "id": "daca4239",
   "metadata": {},
   "outputs": [],
   "source": [
    "f1=(eqb_exp^2).full_simplify().expand()"
   ]
  },
  {
   "cell_type": "code",
   "execution_count": 405,
   "id": "249aaaa2",
   "metadata": {},
   "outputs": [],
   "source": [
    "f2=(4*eqc_exp*d_exp).full_simplify().expand()"
   ]
  },
  {
   "cell_type": "code",
   "execution_count": 406,
   "id": "8c074262",
   "metadata": {},
   "outputs": [],
   "source": [
    "#(mycollect(f1,alpha)-(9*a_3^2)*(alpha^4+a_3*alpha^3+a_2*alpha^2+a_1*alpha+a_0)).full_simplify()"
   ]
  },
  {
   "cell_type": "code",
   "execution_count": 407,
   "id": "6f7476a4",
   "metadata": {},
   "outputs": [],
   "source": [
    "#(mycollect(f2,alpha)-24*a_2*(alpha^4+a_3*alpha^3+a_2*alpha^2+a_1*alpha+a_0)).full_simplify()"
   ]
  },
  {
   "cell_type": "code",
   "execution_count": null,
   "id": "9f970c68",
   "metadata": {},
   "outputs": [],
   "source": []
  },
  {
   "cell_type": "markdown",
   "id": "b563f69d",
   "metadata": {},
   "source": [
    "e = SymmetricFunctions(QQ).e()"
   ]
  },
  {
   "cell_type": "markdown",
   "id": "9abd498d",
   "metadata": {},
   "source": [
    "e([4]).expand(5)"
   ]
  },
  {
   "cell_type": "markdown",
   "id": "17edd41b",
   "metadata": {},
   "source": [
    "x_1*x_2 + x_1*x_3 + x_2*x_3 + x_1*x_4 + x_2*x_4 + x_3*x_4 + x_1*x_5 + x_2*x_5 + x_3*x_5 + x_4*x_5\n",
    "x_1*x_2*x_3 + x_1*x_2*x_4 + x_1*x_3*x_4 + x_2*x_3*x_4 + x_1*x_2*x_5 + x_1*x_3*x_5 + x_2*x_3*x_5 + x_1*x_4*x_5 + x_2*x_4*x_5 + x_3*x_4*x_5\n",
    "x_1*x_2*x_3*x_4 + x_1*x_2*x_3*x_5 + x_1*x_2*x_4*x_5 + x_1*x_3*x_4*x_5 + x_2*x_3*x_4*x_5"
   ]
  },
  {
   "cell_type": "code",
   "execution_count": 413,
   "id": "1cfd2547",
   "metadata": {},
   "outputs": [],
   "source": [
    "#verification\n",
    "#formula.subs({alpha:x_1,a_2:-x_1-x_2-x_3,a_1:x_1*x_2+x_1*x_3+x_2*x_3,a_0:-x_1*x_2*x_3}).full_simplify().factor()\n",
    "#formula.subs({alpha:x_1,a_3:-(x_1+x_2+x_3+x_4),a_2:(x_3*x_4+x_2*x_4+x_2*x_3+x_1*x_4+x_1*x_3+x_1*x_2),a_1:-(x_1*x_2*x_3+x_1*x_2*x_4+x_1*x_3*x_4+x_2*x_3*x_4),a_0:(x_1*x_2*x_3*x_4)}).full_simplify().factor()\n",
    "#formula.subs({alpha:x_1,a_4:-(x_1 + x_2 + x_3 + x_4 + x_5),a_3:(x_1*x_2 + x_1*x_3 + x_2*x_3 + x_1*x_4 + x_2*x_4 + x_3*x_4 + x_1*x_5 + x_2*x_5 + x_3*x_5 + x_4*x_5),\n",
    "#              a_2:-(x_1*x_2*x_3 + x_1*x_2*x_4 + x_1*x_3*x_4 + x_2*x_3*x_4 + x_1*x_2*x_5 + x_1*x_3*x_5 + x_2*x_3*x_5 + x_1*x_4*x_5 + x_2*x_4*x_5 + x_3*x_4*x_5),\n",
    "#              a_1:(x_1*x_2*x_3*x_4 + x_1*x_2*x_3*x_5 + x_1*x_2*x_4*x_5 + x_1*x_3*x_4*x_5 + x_2*x_3*x_4*x_5),a_0:-(x_1*x_2*x_3*x_4*x_5)}).full_simplify().factor()"
   ]
  },
  {
   "cell_type": "code",
   "execution_count": 414,
   "id": "0f2980be",
   "metadata": {},
   "outputs": [],
   "source": [
    "coeffs=[eval(\"a_\"+str(i)) for i in range(0,deg)]+[1]\n",
    "alphas=[eval(\"alpha**\"+str(i)) for i in range (0,deg+1)]"
   ]
  },
  {
   "cell_type": "code",
   "execution_count": 415,
   "id": "8c8d9ae7",
   "metadata": {},
   "outputs": [],
   "source": [
    "full=sum([x*y for x,y in zip(coeffs,alphas)])"
   ]
  },
  {
   "cell_type": "code",
   "execution_count": 416,
   "id": "904b955b",
   "metadata": {},
   "outputs": [],
   "source": [
    "tmp=formula\n",
    "for i in range(0,deg-3):\n",
    "    tmp=mycollect(tmp,alpha)\n",
    "    leading=tmp.operands()[0].subs({alpha:1})\n",
    "    tmp=(tmp-leading*alpha^((deg-3)-i-1)*full).full_simplify()"
   ]
  },
  {
   "cell_type": "code",
   "execution_count": 417,
   "id": "a8e5d9fe",
   "metadata": {},
   "outputs": [],
   "source": [
    "simfo=mycollect(tmp,alpha)"
   ]
  },
  {
   "cell_type": "code",
   "execution_count": 418,
   "id": "9c2bd263",
   "metadata": {},
   "outputs": [
    {
     "data": {
      "text/plain": [
       "16*(a_4^4 - 5*a_3*a_4^2 + 4*a_3^2 + 6*a_2*a_4 - 15*a_1)*alpha^4 + 16*a_0*a_4^3 + 16*(a_3*a_4^3 - a_2*a_4^2 + 12*a_2*a_3 - (4*a_3^2 + 7*a_1)*a_4 - 25*a_0)*alpha^3 - 64*a_0*a_3*a_4 + 16*(a_2*a_4^3 - a_1*a_4^2 + 9*a_2^2 + a_1*a_3 - (4*a_2*a_3 + 15*a_0)*a_4)*alpha^2 + 16*a_1^2 + 80*a_0*a_2 + 16*(a_1*a_4^3 - 4*a_1*a_3*a_4 - a_0*a_4^2 + 9*a_1*a_2 - 5*a_0*a_3)*alpha"
      ]
     },
     "execution_count": 418,
     "metadata": {},
     "output_type": "execute_result"
    }
   ],
   "source": [
    "simfo"
   ]
  },
  {
   "cell_type": "code",
   "execution_count": 419,
   "id": "6f763e51",
   "metadata": {},
   "outputs": [],
   "source": [
    "simfo_terms=simfo.operands()"
   ]
  },
  {
   "cell_type": "code",
   "execution_count": 420,
   "id": "c4c5c3a1",
   "metadata": {},
   "outputs": [
    {
     "data": {
      "text/plain": [
       "[16*(a_4^4 - 5*a_3*a_4^2 + 4*a_3^2 + 6*a_2*a_4 - 15*a_1)*alpha^4,\n",
       " 16*a_0*a_4^3,\n",
       " 16*(a_3*a_4^3 - a_2*a_4^2 + 12*a_2*a_3 - (4*a_3^2 + 7*a_1)*a_4 - 25*a_0)*alpha^3,\n",
       " -64*a_0*a_3*a_4,\n",
       " 16*(a_2*a_4^3 - a_1*a_4^2 + 9*a_2^2 + a_1*a_3 - (4*a_2*a_3 + 15*a_0)*a_4)*alpha^2,\n",
       " 16*a_1^2,\n",
       " 80*a_0*a_2,\n",
       " 16*(a_1*a_4^3 - 4*a_1*a_3*a_4 - a_0*a_4^2 + 9*a_1*a_2 - 5*a_0*a_3)*alpha]"
      ]
     },
     "execution_count": 420,
     "metadata": {},
     "output_type": "execute_result"
    }
   ],
   "source": [
    "simfo_terms"
   ]
  },
  {
   "cell_type": "code",
   "execution_count": 421,
   "id": "cf319b3c",
   "metadata": {},
   "outputs": [],
   "source": [
    "lonely_terms=[i for i in simfo_terms if not(i.has(alpha))]"
   ]
  },
  {
   "cell_type": "code",
   "execution_count": 422,
   "id": "f1145ca3",
   "metadata": {},
   "outputs": [],
   "source": [
    "fixed=[i for i in simfo_terms if i not in lonely_terms]+[sum(lonely_terms)]"
   ]
  },
  {
   "cell_type": "code",
   "execution_count": 423,
   "id": "e9cac895",
   "metadata": {},
   "outputs": [
    {
     "data": {
      "text/plain": [
       "[16*(a_4^4 - 5*a_3*a_4^2 + 4*a_3^2 + 6*a_2*a_4 - 15*a_1)*alpha^4,\n",
       " 16*(a_3*a_4^3 - a_2*a_4^2 + 12*a_2*a_3 - (4*a_3^2 + 7*a_1)*a_4 - 25*a_0)*alpha^3,\n",
       " 16*(a_2*a_4^3 - a_1*a_4^2 + 9*a_2^2 + a_1*a_3 - (4*a_2*a_3 + 15*a_0)*a_4)*alpha^2,\n",
       " 16*(a_1*a_4^3 - 4*a_1*a_3*a_4 - a_0*a_4^2 + 9*a_1*a_2 - 5*a_0*a_3)*alpha,\n",
       " 16*a_0*a_4^3 - 64*a_0*a_3*a_4 + 16*a_1^2 + 80*a_0*a_2]"
      ]
     },
     "execution_count": 423,
     "metadata": {},
     "output_type": "execute_result"
    }
   ],
   "source": [
    "fixed"
   ]
  },
  {
   "cell_type": "code",
   "execution_count": 424,
   "id": "3146dfa0",
   "metadata": {},
   "outputs": [],
   "source": [
    "fixed_only=[i.subs({alpha:1}) for i in fixed]"
   ]
  },
  {
   "cell_type": "code",
   "execution_count": 425,
   "id": "395b6d55",
   "metadata": {},
   "outputs": [],
   "source": [
    "fixed_only_2=[i/fixed_only[0] for i in fixed_only]"
   ]
  },
  {
   "cell_type": "code",
   "execution_count": 426,
   "id": "e8359aa8",
   "metadata": {},
   "outputs": [
    {
     "data": {
      "text/plain": [
       "[1,\n",
       " (a_3*a_4^3 - a_2*a_4^2 + 12*a_2*a_3 - (4*a_3^2 + 7*a_1)*a_4 - 25*a_0)/(a_4^4 - 5*a_3*a_4^2 + 4*a_3^2 + 6*a_2*a_4 - 15*a_1),\n",
       " (a_2*a_4^3 - a_1*a_4^2 + 9*a_2^2 + a_1*a_3 - (4*a_2*a_3 + 15*a_0)*a_4)/(a_4^4 - 5*a_3*a_4^2 + 4*a_3^2 + 6*a_2*a_4 - 15*a_1),\n",
       " (a_1*a_4^3 - 4*a_1*a_3*a_4 - a_0*a_4^2 + 9*a_1*a_2 - 5*a_0*a_3)/(a_4^4 - 5*a_3*a_4^2 + 4*a_3^2 + 6*a_2*a_4 - 15*a_1),\n",
       " (a_0*a_4^3 - 4*a_0*a_3*a_4 + a_1^2 + 5*a_0*a_2)/(a_4^4 - 5*a_3*a_4^2 + 4*a_3^2 + 6*a_2*a_4 - 15*a_1)]"
      ]
     },
     "execution_count": 426,
     "metadata": {},
     "output_type": "execute_result"
    }
   ],
   "source": [
    "fixed_only_2"
   ]
  },
  {
   "cell_type": "code",
   "execution_count": 427,
   "id": "3816cb26",
   "metadata": {},
   "outputs": [],
   "source": [
    "cal_list=list(reversed(fixed_only_2[1:]))\n",
    "co_list=[eval(\"a_\"+str(i)) for i in range(0,deg)][:deg-1]"
   ]
  },
  {
   "cell_type": "code",
   "execution_count": 428,
   "id": "c912fb28",
   "metadata": {},
   "outputs": [],
   "source": [
    "subi=dict(zip(co_list,cal_list))"
   ]
  },
  {
   "cell_type": "code",
   "execution_count": 429,
   "id": "c3e18fa4",
   "metadata": {},
   "outputs": [
    {
     "data": {
      "text/plain": [
       "{a_0: (a_0*a_4^3 - 4*a_0*a_3*a_4 + a_1^2 + 5*a_0*a_2)/(a_4^4 - 5*a_3*a_4^2 + 4*a_3^2 + 6*a_2*a_4 - 15*a_1),\n",
       " a_1: (a_1*a_4^3 - 4*a_1*a_3*a_4 - a_0*a_4^2 + 9*a_1*a_2 - 5*a_0*a_3)/(a_4^4 - 5*a_3*a_4^2 + 4*a_3^2 + 6*a_2*a_4 - 15*a_1),\n",
       " a_2: (a_2*a_4^3 - a_1*a_4^2 + 9*a_2^2 + a_1*a_3 - (4*a_2*a_3 + 15*a_0)*a_4)/(a_4^4 - 5*a_3*a_4^2 + 4*a_3^2 + 6*a_2*a_4 - 15*a_1),\n",
       " a_3: (a_3*a_4^3 - a_2*a_4^2 + 12*a_2*a_3 - (4*a_3^2 + 7*a_1)*a_4 - 25*a_0)/(a_4^4 - 5*a_3*a_4^2 + 4*a_3^2 + 6*a_2*a_4 - 15*a_1)}"
      ]
     },
     "execution_count": 429,
     "metadata": {},
     "output_type": "execute_result"
    }
   ],
   "source": [
    "subi"
   ]
  },
  {
   "cell_type": "code",
   "execution_count": null,
   "id": "8341c0fd",
   "metadata": {},
   "outputs": [],
   "source": []
  },
  {
   "cell_type": "code",
   "execution_count": 430,
   "id": "203cf921",
   "metadata": {},
   "outputs": [
    {
     "data": {
      "text/plain": [
       "16/3*a_4^4 - 80/3*a_3*a_4^2 + 64/3*a_3^2 + 32*a_2*a_4 - 80*a_1"
      ]
     },
     "execution_count": 430,
     "metadata": {},
     "output_type": "execute_result"
    }
   ],
   "source": [
    "fixed_only[0]/3"
   ]
  },
  {
   "cell_type": "code",
   "execution_count": 431,
   "id": "7495deab",
   "metadata": {},
   "outputs": [],
   "source": [
    "disc=(disc_list[deg-1].subs(subi)*(fixed_only[0]/9)^2).full_simplify().factor()"
   ]
  },
  {
   "cell_type": "code",
   "execution_count": 432,
   "id": "a0a4985a",
   "metadata": {},
   "outputs": [
    {
     "data": {
      "text/plain": [
       "256/81*(a_4^16 - 20*a_3*a_4^14 + 160*a_3^2*a_4^12 + 40*a_2*a_4^13 - 640*a_3^3*a_4^10 - 640*a_2*a_3*a_4^11 - 20*a_1*a_4^12 + 1280*a_3^4*a_4^8 + 3840*a_2*a_3^2*a_4^9 + 634*a_2^2*a_4^10 + 338*a_1*a_3*a_4^10 - 152*a_0*a_4^11 - 1024*a_3^5*a_4^6 - 10240*a_2*a_3^3*a_4^7 - 7608*a_2^2*a_3*a_4^8 - 2136*a_1*a_3^2*a_4^8 - 634*a_1*a_2*a_4^9 + 2090*a_0*a_3*a_4^9 + 10240*a_2*a_3^4*a_4^5 + 30432*a_2^2*a_3^2*a_4^6 + 5984*a_1*a_3^3*a_4^6 + 4968*a_2^3*a_4^7 + 8076*a_1*a_2*a_3*a_4^7 - 10596*a_0*a_3^2*a_4^7 - 170*a_1^2*a_4^8 - 3094*a_0*a_2*a_4^8 - 40576*a_2^2*a_3^3*a_4^4 - 6272*a_1*a_3^4*a_4^4 - 39744*a_2^3*a_3*a_4^5 - 34176*a_1*a_2*a_3^2*a_4^5 + 23360*a_0*a_3^3*a_4^5 - 7452*a_1*a_2^2*a_4^6 + 1320*a_1^2*a_3*a_4^6 + 30180*a_0*a_2*a_3*a_4^6 + 1520*a_0*a_1*a_4^7 + 79488*a_2^3*a_3^2*a_4^3 + 48064*a_1*a_2*a_3^3*a_4^3 - 18752*a_0*a_3^4*a_4^3 + 19197*a_2^4*a_4^4 + 63666*a_1*a_2^2*a_3*a_4^4 - 2427*a_1^2*a_3^2*a_4^4 - 94656*a_0*a_2*a_3^2*a_4^4 - 2628*a_1^2*a_2*a_4^5 - 20592*a_0*a_2^2*a_4^5 - 12300*a_0*a_1*a_3*a_4^5 - 2000*a_0^2*a_4^6 - 76788*a_2^4*a_3*a_4^2 - 135432*a_1*a_2^2*a_3^2*a_4^2 - 532*a_1^2*a_3^3*a_4^2 + 93760*a_0*a_2*a_3^3*a_4^2 - 38394*a_1*a_2^3*a_4^3 + 9198*a_1^2*a_2*a_3*a_4^3 + 118890*a_0*a_2^2*a_3*a_4^3 + 27330*a_0*a_1*a_3^2*a_4^3 + 1548*a_1^3*a_4^4 + 19620*a_0*a_1*a_2*a_4^4 + 15000*a_0^2*a_3*a_4^4 + 29160*a_2^5*a_4 + 165240*a_1*a_2^3*a_3*a_4 + 5040*a_1^2*a_2*a_3^2*a_4 - 153000*a_0*a_2^2*a_3^2*a_4 - 9800*a_0*a_1*a_3^3*a_4 - 10125*a_1^2*a_2^2*a_4^2 - 44550*a_0*a_2^3*a_4^2 - 6390*a_1^3*a_3*a_4^2 - 79200*a_0*a_1*a_2*a_3*a_4^2 - 27375*a_0^2*a_3^2*a_4^2 - 5400*a_0*a_1^2*a_4^3 - 27000*a_0^2*a_2*a_4^3 - 72900*a_1*a_2^4 - 8100*a_1^2*a_2^2*a_3 + 81000*a_0*a_2^3*a_3 + 900*a_1^3*a_3^2 + 18000*a_0*a_1*a_2*a_3^2 - 2500*a_0^2*a_3^3 + 12150*a_1^3*a_2*a_4 + 60750*a_0*a_1*a_2^2*a_4 + 20250*a_0*a_1^2*a_3*a_4 + 101250*a_0^2*a_2*a_3*a_4 - 3375*a_1^4 - 33750*a_0*a_1^2*a_2 - 84375*a_0^2*a_2^2)*(a_1^2*a_2^2*a_3^2*a_4^2 - 4*a_0*a_2^3*a_3^2*a_4^2 - 4*a_1^3*a_3^3*a_4^2 + 18*a_0*a_1*a_2*a_3^3*a_4^2 - 27*a_0^2*a_3^4*a_4^2 - 4*a_1^2*a_2^3*a_4^3 + 16*a_0*a_2^4*a_4^3 + 18*a_1^3*a_2*a_3*a_4^3 - 80*a_0*a_1*a_2^2*a_3*a_4^3 - 6*a_0*a_1^2*a_3^2*a_4^3 + 144*a_0^2*a_2*a_3^2*a_4^3 - 27*a_1^4*a_4^4 + 144*a_0*a_1^2*a_2*a_4^4 - 128*a_0^2*a_2^2*a_4^4 - 192*a_0^2*a_1*a_3*a_4^4 + 256*a_0^3*a_4^5 - 4*a_1^2*a_2^2*a_3^3 + 16*a_0*a_2^3*a_3^3 + 16*a_1^3*a_3^4 - 72*a_0*a_1*a_2*a_3^4 + 108*a_0^2*a_3^5 + 18*a_1^2*a_2^3*a_3*a_4 - 72*a_0*a_2^4*a_3*a_4 - 80*a_1^3*a_2*a_3^2*a_4 + 356*a_0*a_1*a_2^2*a_3^2*a_4 + 24*a_0*a_1^2*a_3^3*a_4 - 630*a_0^2*a_2*a_3^3*a_4 - 6*a_1^3*a_2^2*a_4^2 + 24*a_0*a_1*a_2^3*a_4^2 + 144*a_1^4*a_3*a_4^2 - 746*a_0*a_1^2*a_2*a_3*a_4^2 + 560*a_0^2*a_2^2*a_3*a_4^2 + 1020*a_0^2*a_1*a_3^2*a_4^2 - 36*a_0*a_1^3*a_4^3 + 160*a_0^2*a_1*a_2*a_4^3 - 1600*a_0^3*a_3*a_4^3 - 27*a_1^2*a_2^4 + 108*a_0*a_2^5 + 144*a_1^3*a_2^2*a_3 - 630*a_0*a_1*a_2^3*a_3 - 128*a_1^4*a_3^2 + 560*a_0*a_1^2*a_2*a_3^2 + 825*a_0^2*a_2^2*a_3^2 - 900*a_0^2*a_1*a_3^3 - 192*a_1^4*a_2*a_4 + 1020*a_0*a_1^2*a_2^2*a_4 - 900*a_0^2*a_2^3*a_4 + 160*a_0*a_1^3*a_3*a_4 - 2050*a_0^2*a_1*a_2*a_3*a_4 + 2250*a_0^3*a_3^2*a_4 - 50*a_0^2*a_1^2*a_4^2 + 2000*a_0^3*a_2*a_4^2 + 256*a_1^5 - 1600*a_0*a_1^3*a_2 + 2250*a_0^2*a_1*a_2^2 + 2000*a_0^2*a_1^2*a_3 - 3750*a_0^3*a_2*a_3 - 2500*a_0^3*a_1*a_4 + 3125*a_0^4)/(a_4^4 - 5*a_3*a_4^2 + 4*a_3^2 + 6*a_2*a_4 - 15*a_1)^4"
      ]
     },
     "execution_count": 432,
     "metadata": {},
     "output_type": "execute_result"
    }
   ],
   "source": [
    "disc"
   ]
  },
  {
   "cell_type": "code",
   "execution_count": null,
   "id": "10ff8533",
   "metadata": {},
   "outputs": [],
   "source": []
  },
  {
   "cell_type": "code",
   "execution_count": 362,
   "id": "bee1b258",
   "metadata": {},
   "outputs": [],
   "source": [
    "disc_list.append(disc)"
   ]
  },
  {
   "cell_type": "code",
   "execution_count": 363,
   "id": "3f96fa75",
   "metadata": {},
   "outputs": [
    {
     "data": {
      "text/plain": [
       "[1,\n",
       " 1,\n",
       " a_1^2 - 4*a_0,\n",
       " a_1^2*a_2^2 - 4*a_0*a_2^3 - 4*a_1^3 + 18*a_0*a_1*a_2 - 27*a_0^2,\n",
       " a_1^2*a_2^2*a_3^2 - 4*a_0*a_2^3*a_3^2 - 4*a_1^3*a_3^3 + 18*a_0*a_1*a_2*a_3^3 - 27*a_0^2*a_3^4 - 4*a_1^2*a_2^3 + 16*a_0*a_2^4 + 18*a_1^3*a_2*a_3 - 80*a_0*a_1*a_2^2*a_3 - 6*a_0*a_1^2*a_3^2 + 144*a_0^2*a_2*a_3^2 - 27*a_1^4 + 144*a_0*a_1^2*a_2 - 128*a_0^2*a_2^2 - 192*a_0^2*a_1*a_3 + 256*a_0^3]"
      ]
     },
     "execution_count": 363,
     "metadata": {},
     "output_type": "execute_result"
    }
   ],
   "source": [
    "disc_list"
   ]
  },
  {
   "cell_type": "code",
   "execution_count": null,
   "id": "488754c2",
   "metadata": {},
   "outputs": [],
   "source": []
  },
  {
   "cell_type": "code",
   "execution_count": 364,
   "id": "a484877c",
   "metadata": {},
   "outputs": [],
   "source": [
    "#-------------------------------------------------------------------------------------------------------------"
   ]
  },
  {
   "cell_type": "code",
   "execution_count": null,
   "id": "637760a5",
   "metadata": {},
   "outputs": [],
   "source": []
  },
  {
   "cell_type": "code",
   "execution_count": 6,
   "id": "6720dd7d",
   "metadata": {},
   "outputs": [],
   "source": [
    "addi=(a_4^16 - 20*a_3*a_4^14 + 160*a_3^2*a_4^12 + 40*a_2*a_4^13 - 640*a_3^3*a_4^10 - 640*a_2*a_3*a_4^11 - 20*a_1*a_4^12 + 1280*a_3^4*a_4^8 + 3840*a_2*a_3^2*a_4^9 + 634*a_2^2*a_4^10 + 338*a_1*a_3*a_4^10 - 152*a_0*a_4^11 - 1024*a_3^5*a_4^6 - 10240*a_2*a_3^3*a_4^7 - 7608*a_2^2*a_3*a_4^8 - 2136*a_1*a_3^2*a_4^8 - 634*a_1*a_2*a_4^9 + 2090*a_0*a_3*a_4^9 + 10240*a_2*a_3^4*a_4^5 + 30432*a_2^2*a_3^2*a_4^6 + 5984*a_1*a_3^3*a_4^6 + 4968*a_2^3*a_4^7 + 8076*a_1*a_2*a_3*a_4^7 - 10596*a_0*a_3^2*a_4^7 - 170*a_1^2*a_4^8 - 3094*a_0*a_2*a_4^8 - 40576*a_2^2*a_3^3*a_4^4 - 6272*a_1*a_3^4*a_4^4 - 39744*a_2^3*a_3*a_4^5 - 34176*a_1*a_2*a_3^2*a_4^5 + 23360*a_0*a_3^3*a_4^5 - 7452*a_1*a_2^2*a_4^6 + 1320*a_1^2*a_3*a_4^6 + 30180*a_0*a_2*a_3*a_4^6 + 1520*a_0*a_1*a_4^7 + 79488*a_2^3*a_3^2*a_4^3 + 48064*a_1*a_2*a_3^3*a_4^3 - 18752*a_0*a_3^4*a_4^3 + 19197*a_2^4*a_4^4 + 63666*a_1*a_2^2*a_3*a_4^4 - 2427*a_1^2*a_3^2*a_4^4 - 94656*a_0*a_2*a_3^2*a_4^4 - 2628*a_1^2*a_2*a_4^5 - 20592*a_0*a_2^2*a_4^5 - 12300*a_0*a_1*a_3*a_4^5 - 2000*a_0^2*a_4^6 - 76788*a_2^4*a_3*a_4^2 - 135432*a_1*a_2^2*a_3^2*a_4^2 - 532*a_1^2*a_3^3*a_4^2 + 93760*a_0*a_2*a_3^3*a_4^2 - 38394*a_1*a_2^3*a_4^3 + 9198*a_1^2*a_2*a_3*a_4^3 + 118890*a_0*a_2^2*a_3*a_4^3 + 27330*a_0*a_1*a_3^2*a_4^3 + 1548*a_1^3*a_4^4 + 19620*a_0*a_1*a_2*a_4^4 + 15000*a_0^2*a_3*a_4^4 + 29160*a_2^5*a_4 + 165240*a_1*a_2^3*a_3*a_4 + 5040*a_1^2*a_2*a_3^2*a_4 - 153000*a_0*a_2^2*a_3^2*a_4 - 9800*a_0*a_1*a_3^3*a_4 - 10125*a_1^2*a_2^2*a_4^2 - 44550*a_0*a_2^3*a_4^2 - 6390*a_1^3*a_3*a_4^2 - 79200*a_0*a_1*a_2*a_3*a_4^2 - 27375*a_0^2*a_3^2*a_4^2 - 5400*a_0*a_1^2*a_4^3 - 27000*a_0^2*a_2*a_4^3 - 72900*a_1*a_2^4 - 8100*a_1^2*a_2^2*a_3 + 81000*a_0*a_2^3*a_3 + 900*a_1^3*a_3^2 + 18000*a_0*a_1*a_2*a_3^2 - 2500*a_0^2*a_3^3 + 12150*a_1^3*a_2*a_4 + 60750*a_0*a_1*a_2^2*a_4 + 20250*a_0*a_1^2*a_3*a_4 + 101250*a_0^2*a_2*a_3*a_4 - 3375*a_1^4 - 33750*a_0*a_1^2*a_2 - 84375*a_0^2*a_2^2)"
   ]
  },
  {
   "cell_type": "code",
   "execution_count": 10,
   "id": "a611393b",
   "metadata": {},
   "outputs": [
    {
     "data": {
      "text/plain": [
       "x_1^16 - 4*x_1^15*x_2 + 20*x_1^13*x_2^3 - 20*x_1^12*x_2^4 - 36*x_1^11*x_2^5 + 64*x_1^10*x_2^6 + 20*x_1^9*x_2^7 - 90*x_1^8*x_2^8 + 20*x_1^7*x_2^9 + 64*x_1^6*x_2^10 - 36*x_1^5*x_2^11 - 20*x_1^4*x_2^12 + 20*x_1^3*x_2^13 - 4*x_1*x_2^15 + x_2^16 - 4*x_1^15*x_3 + 20*x_1^14*x_2*x_3 - 20*x_1^13*x_2^2*x_3 - 60*x_1^12*x_2^3*x_3 + 140*x_1^11*x_2^4*x_3 + 4*x_1^10*x_2^5*x_3 - 260*x_1^9*x_2^6*x_3 + 180*x_1^8*x_2^7*x_3 + 180*x_1^7*x_2^8*x_3 - 260*x_1^6*x_2^9*x_3 + 4*x_1^5*x_2^10*x_3 + 140*x_1^4*x_2^11*x_3 - 60*x_1^3*x_2^12*x_3 - 20*x_1^2*x_2^13*x_3 + 20*x_1*x_2^14*x_3 - 4*x_2^15*x_3 - 20*x_1^13*x_2*x_3^2 + 74*x_1^12*x_2^2*x_3^2 - 28*x_1^11*x_2^3*x_3^2 - 222*x_1^10*x_2^4*x_3^2 + 292*x_1^9*x_2^5*x_3^2 + 148*x_1^8*x_2^6*x_3^2 - 488*x_1^7*x_2^7*x_3^2 + 148*x_1^6*x_2^8*x_3^2 + 292*x_1^5*x_2^9*x_3^2 - 222*x_1^4*x_2^10*x_3^2 - 28*x_1^3*x_2^11*x_3^2 + 74*x_1^2*x_2^12*x_3^2 - 20*x_1*x_2^13*x_3^2 + 20*x_1^13*x_3^3 - 60*x_1^12*x_2*x_3^3 - 28*x_1^11*x_2^2*x_3^3 + 236*x_1^10*x_2^3*x_3^3 - 92*x_1^9*x_2^4*x_3^3 - 380*x_1^8*x_2^5*x_3^3 + 304*x_1^7*x_2^6*x_3^3 + 304*x_1^6*x_2^7*x_3^3 - 380*x_1^5*x_2^8*x_3^3 - 92*x_1^4*x_2^9*x_3^3 + 236*x_1^3*x_2^10*x_3^3 - 28*x_1^2*x_2^11*x_3^3 - 60*x_1*x_2^12*x_3^3 + 20*x_2^13*x_3^3 - 20*x_1^12*x_3^4 + 140*x_1^11*x_2*x_3^4 - 222*x_1^10*x_2^2*x_3^4 - 92*x_1^9*x_2^3*x_3^4 + 409*x_1^8*x_2^4*x_3^4 - 48*x_1^7*x_2^5*x_3^4 - 334*x_1^6*x_2^6*x_3^4 - 48*x_1^5*x_2^7*x_3^4 + 409*x_1^4*x_2^8*x_3^4 - 92*x_1^3*x_2^9*x_3^4 - 222*x_1^2*x_2^10*x_3^4 + 140*x_1*x_2^11*x_3^4 - 20*x_2^12*x_3^4 - 36*x_1^11*x_3^5 + 4*x_1^10*x_2*x_3^5 + 292*x_1^9*x_2^2*x_3^5 - 380*x_1^8*x_2^3*x_3^5 - 48*x_1^7*x_2^4*x_3^5 + 168*x_1^6*x_2^5*x_3^5 + 168*x_1^5*x_2^6*x_3^5 - 48*x_1^4*x_2^7*x_3^5 - 380*x_1^3*x_2^8*x_3^5 + 292*x_1^2*x_2^9*x_3^5 + 4*x_1*x_2^10*x_3^5 - 36*x_2^11*x_3^5 + 64*x_1^10*x_3^6 - 260*x_1^9*x_2*x_3^6 + 148*x_1^8*x_2^2*x_3^6 + 304*x_1^7*x_2^3*x_3^6 - 334*x_1^6*x_2^4*x_3^6 + 168*x_1^5*x_2^5*x_3^6 - 334*x_1^4*x_2^6*x_3^6 + 304*x_1^3*x_2^7*x_3^6 + 148*x_1^2*x_2^8*x_3^6 - 260*x_1*x_2^9*x_3^6 + 64*x_2^10*x_3^6 + 20*x_1^9*x_3^7 + 180*x_1^8*x_2*x_3^7 - 488*x_1^7*x_2^2*x_3^7 + 304*x_1^6*x_2^3*x_3^7 - 48*x_1^5*x_2^4*x_3^7 - 48*x_1^4*x_2^5*x_3^7 + 304*x_1^3*x_2^6*x_3^7 - 488*x_1^2*x_2^7*x_3^7 + 180*x_1*x_2^8*x_3^7 + 20*x_2^9*x_3^7 - 90*x_1^8*x_3^8 + 180*x_1^7*x_2*x_3^8 + 148*x_1^6*x_2^2*x_3^8 - 380*x_1^5*x_2^3*x_3^8 + 409*x_1^4*x_2^4*x_3^8 - 380*x_1^3*x_2^5*x_3^8 + 148*x_1^2*x_2^6*x_3^8 + 180*x_1*x_2^7*x_3^8 - 90*x_2^8*x_3^8 + 20*x_1^7*x_3^9 - 260*x_1^6*x_2*x_3^9 + 292*x_1^5*x_2^2*x_3^9 - 92*x_1^4*x_2^3*x_3^9 - 92*x_1^3*x_2^4*x_3^9 + 292*x_1^2*x_2^5*x_3^9 - 260*x_1*x_2^6*x_3^9 + 20*x_2^7*x_3^9 + 64*x_1^6*x_3^10 + 4*x_1^5*x_2*x_3^10 - 222*x_1^4*x_2^2*x_3^10 + 236*x_1^3*x_2^3*x_3^10 - 222*x_1^2*x_2^4*x_3^10 + 4*x_1*x_2^5*x_3^10 + 64*x_2^6*x_3^10 - 36*x_1^5*x_3^11 + 140*x_1^4*x_2*x_3^11 - 28*x_1^3*x_2^2*x_3^11 - 28*x_1^2*x_2^3*x_3^11 + 140*x_1*x_2^4*x_3^11 - 36*x_2^5*x_3^11 - 20*x_1^4*x_3^12 - 60*x_1^3*x_2*x_3^12 + 74*x_1^2*x_2^2*x_3^12 - 60*x_1*x_2^3*x_3^12 - 20*x_2^4*x_3^12 + 20*x_1^3*x_3^13 - 20*x_1^2*x_2*x_3^13 - 20*x_1*x_2^2*x_3^13 + 20*x_2^3*x_3^13 + 20*x_1*x_2*x_3^14 - 4*x_1*x_3^15 - 4*x_2*x_3^15 + x_3^16 - 4*x_1^15*x_4 + 20*x_1^14*x_2*x_4 - 20*x_1^13*x_2^2*x_4 - 60*x_1^12*x_2^3*x_4 + 140*x_1^11*x_2^4*x_4 + 4*x_1^10*x_2^5*x_4 - 260*x_1^9*x_2^6*x_4 + 180*x_1^8*x_2^7*x_4 + 180*x_1^7*x_2^8*x_4 - 260*x_1^6*x_2^9*x_4 + 4*x_1^5*x_2^10*x_4 + 140*x_1^4*x_2^11*x_4 - 60*x_1^3*x_2^12*x_4 - 20*x_1^2*x_2^13*x_4 + 20*x_1*x_2^14*x_4 - 4*x_2^15*x_4 + 20*x_1^14*x_3*x_4 - 100*x_1^13*x_2*x_3*x_4 + 146*x_1^12*x_2^2*x_3*x_4 + 108*x_1^11*x_2^3*x_3*x_4 - 558*x_1^10*x_2^4*x_3*x_4 + 468*x_1^9*x_2^5*x_3*x_4 + 392*x_1^8*x_2^6*x_3*x_4 - 952*x_1^7*x_2^7*x_3*x_4 + 392*x_1^6*x_2^8*x_3*x_4 + 468*x_1^5*x_2^9*x_3*x_4 - 558*x_1^4*x_2^10*x_3*x_4 + 108*x_1^3*x_2^11*x_3*x_4 + 146*x_1^2*x_2^12*x_3*x_4 - 100*x_1*x_2^13*x_3*x_4 + 20*x_2^14*x_3*x_4 - 20*x_1^13*x_3^2*x_4 + 146*x_1^12*x_2*x_3^2*x_4 - 360*x_1^11*x_2^2*x_3^2*x_4 + 244*x_1^10*x_2^3*x_3^2*x_4 + 518*x_1^9*x_2^4*x_3^2*x_4 - 1188*x_1^8*x_2^5*x_3^2*x_4 + 660*x_1^7*x_2^6*x_3^2*x_4 + 660*x_1^6*x_2^7*x_3^2*x_4 - 1188*x_1^5*x_2^8*x_3^2*x_4 + 518*x_1^4*x_2^9*x_3^2*x_4 + 244*x_1^3*x_2^10*x_3^2*x_4 - 360*x_1^2*x_2^11*x_3^2*x_4 + 146*x_1*x_2^12*x_3^2*x_4 - 20*x_2^13*x_3^2*x_4 - 60*x_1^12*x_3^3*x_4 + 108*x_1^11*x_2*x_3^3*x_4 + 244*x_1^10*x_2^2*x_3^3*x_4 - 812*x_1^9*x_2^3*x_3^3*x_4 + 546*x_1^8*x_2^4*x_3^3*x_4 + 704*x_1^7*x_2^5*x_3^3*x_4 - 1460*x_1^6*x_2^6*x_3^3*x_4 + 704*x_1^5*x_2^7*x_3^3*x_4 + 546*x_1^4*x_2^8*x_3^3*x_4 - 812*x_1^3*x_2^9*x_3^3*x_4 + 244*x_1^2*x_2^10*x_3^3*x_4 + 108*x_1*x_2^11*x_3^3*x_4 - 60*x_2^12*x_3^3*x_4 + 140*x_1^11*x_3^4*x_4 - 558*x_1^10*x_2*x_3^4*x_4 + 518*x_1^9*x_2^2*x_3^4*x_4 + 546*x_1^8*x_2^3*x_3^4*x_4 - 1396*x_1^7*x_2^4*x_3^4*x_4 + 750*x_1^6*x_2^5*x_3^4*x_4 + 750*x_1^5*x_2^6*x_3^4*x_4 - 1396*x_1^4*x_2^7*x_3^4*x_4 + 546*x_1^3*x_2^8*x_3^4*x_4 + 518*x_1^2*x_2^9*x_3^4*x_4 - 558*x_1*x_2^10*x_3^4*x_4 + 140*x_2^11*x_3^4*x_4 + 4*x_1^10*x_3^5*x_4 + 468*x_1^9*x_2*x_3^5*x_4 - 1188*x_1^8*x_2^2*x_3^5*x_4 + 704*x_1^7*x_2^3*x_3^5*x_4 + 750*x_1^6*x_2^4*x_3^5*x_4 - 1512*x_1^5*x_2^5*x_3^5*x_4 + 750*x_1^4*x_2^6*x_3^5*x_4 + 704*x_1^3*x_2^7*x_3^5*x_4 - 1188*x_1^2*x_2^8*x_3^5*x_4 + 468*x_1*x_2^9*x_3^5*x_4 + 4*x_2^10*x_3^5*x_4 - 260*x_1^9*x_3^6*x_4 + 392*x_1^8*x_2*x_3^6*x_4 + 660*x_1^7*x_2^2*x_3^6*x_4 - 1460*x_1^6*x_2^3*x_3^6*x_4 + 750*x_1^5*x_2^4*x_3^6*x_4 + 750*x_1^4*x_2^5*x_3^6*x_4 - 1460*x_1^3*x_2^6*x_3^6*x_4 + 660*x_1^2*x_2^7*x_3^6*x_4 + 392*x_1*x_2^8*x_3^6*x_4 - 260*x_2^9*x_3^6*x_4 + 180*x_1^8*x_3^7*x_4 - 952*x_1^7*x_2*x_3^7*x_4 + 660*x_1^6*x_2^2*x_3^7*x_4 + 704*x_1^5*x_2^3*x_3^7*x_4 - 1396*x_1^4*x_2^4*x_3^7*x_4 + 704*x_1^3*x_2^5*x_3^7*x_4 + 660*x_1^2*x_2^6*x_3^7*x_4 - 952*x_1*x_2^7*x_3^7*x_4 + 180*x_2^8*x_3^7*x_4 + 180*x_1^7*x_3^8*x_4 + 392*x_1^6*x_2*x_3^8*x_4 - 1188*x_1^5*x_2^2*x_3^8*x_4 + 546*x_1^4*x_2^3*x_3^8*x_4 + 546*x_1^3*x_2^4*x_3^8*x_4 - 1188*x_1^2*x_2^5*x_3^8*x_4 + 392*x_1*x_2^6*x_3^8*x_4 + 180*x_2^7*x_3^8*x_4 - 260*x_1^6*x_3^9*x_4 + 468*x_1^5*x_2*x_3^9*x_4 + 518*x_1^4*x_2^2*x_3^9*x_4 - 812*x_1^3*x_2^3*x_3^9*x_4 + 518*x_1^2*x_2^4*x_3^9*x_4 + 468*x_1*x_2^5*x_3^9*x_4 - 260*x_2^6*x_3^9*x_4 + 4*x_1^5*x_3^10*x_4 - 558*x_1^4*x_2*x_3^10*x_4 + 244*x_1^3*x_2^2*x_3^10*x_4 + 244*x_1^2*x_2^3*x_3^10*x_4 - 558*x_1*x_2^4*x_3^10*x_4 + 4*x_2^5*x_3^10*x_4 + 140*x_1^4*x_3^11*x_4 + 108*x_1^3*x_2*x_3^11*x_4 - 360*x_1^2*x_2^2*x_3^11*x_4 + 108*x_1*x_2^3*x_3^11*x_4 + 140*x_2^4*x_3^11*x_4 - 60*x_1^3*x_3^12*x_4 + 146*x_1^2*x_2*x_3^12*x_4 + 146*x_1*x_2^2*x_3^12*x_4 - 60*x_2^3*x_3^12*x_4 - 20*x_1^2*x_3^13*x_4 - 100*x_1*x_2*x_3^13*x_4 - 20*x_2^2*x_3^13*x_4 + 20*x_1*x_3^14*x_4 + 20*x_2*x_3^14*x_4 - 4*x_3^15*x_4 - 20*x_1^13*x_2*x_4^2 + 74*x_1^12*x_2^2*x_4^2 - 28*x_1^11*x_2^3*x_4^2 - 222*x_1^10*x_2^4*x_4^2 + 292*x_1^9*x_2^5*x_4^2 + 148*x_1^8*x_2^6*x_4^2 - 488*x_1^7*x_2^7*x_4^2 + 148*x_1^6*x_2^8*x_4^2 + 292*x_1^5*x_2^9*x_4^2 - 222*x_1^4*x_2^10*x_4^2 - 28*x_1^3*x_2^11*x_4^2 + 74*x_1^2*x_2^12*x_4^2 - 20*x_1*x_2^13*x_4^2 - 20*x_1^13*x_3*x_4^2 + 146*x_1^12*x_2*x_3*x_4^2 - 360*x_1^11*x_2^2*x_3*x_4^2 + 244*x_1^10*x_2^3*x_3*x_4^2 + 518*x_1^9*x_2^4*x_3*x_4^2 - 1188*x_1^8*x_2^5*x_3*x_4^2 + 660*x_1^7*x_2^6*x_3*x_4^2 + 660*x_1^6*x_2^7*x_3*x_4^2 - 1188*x_1^5*x_2^8*x_3*x_4^2 + 518*x_1^4*x_2^9*x_3*x_4^2 + 244*x_1^3*x_2^10*x_3*x_4^2 - 360*x_1^2*x_2^11*x_3*x_4^2 + 146*x_1*x_2^12*x_3*x_4^2 - 20*x_2^13*x_3*x_4^2 + 74*x_1^12*x_3^2*x_4^2 - 360*x_1^11*x_2*x_3^2*x_4^2 + 682*x_1^10*x_2^2*x_3^2*x_4^2 - 592*x_1^9*x_2^3*x_3^2*x_4^2 - 59*x_1^8*x_2^4*x_3^2*x_4^2 + 952*x_1^7*x_2^5*x_3^2*x_4^2 - 1394*x_1^6*x_2^6*x_3^2*x_4^2 + 952*x_1^5*x_2^7*x_3^2*x_4^2 - 59*x_1^4*x_2^8*x_3^2*x_4^2 - 592*x_1^3*x_2^9*x_3^2*x_4^2 + 682*x_1^2*x_2^10*x_3^2*x_4^2 - 360*x_1*x_2^11*x_3^2*x_4^2 + 74*x_2^12*x_3^2*x_4^2 - 28*x_1^11*x_3^3*x_4^2 + 244*x_1^10*x_2*x_3^3*x_4^2 - 592*x_1^9*x_2^2*x_3^3*x_4^2 + 736*x_1^8*x_2^3*x_3^3*x_4^2 - 612*x_1^7*x_2^4*x_3^3*x_4^2 + 252*x_1^6*x_2^5*x_3^3*x_4^2 + 252*x_1^5*x_2^6*x_3^3*x_4^2 - 612*x_1^4*x_2^7*x_3^3*x_4^2 + 736*x_1^3*x_2^8*x_3^3*x_4^2 - 592*x_1^2*x_2^9*x_3^3*x_4^2 + 244*x_1*x_2^10*x_3^3*x_4^2 - 28*x_2^11*x_3^3*x_4^2 - 222*x_1^10*x_3^4*x_4^2 + 518*x_1^9*x_2*x_3^4*x_4^2 - 59*x_1^8*x_2^2*x_3^4*x_4^2 - 612*x_1^7*x_2^3*x_3^4*x_4^2 + 622*x_1^6*x_2^4*x_3^4*x_4^2 - 422*x_1^5*x_2^5*x_3^4*x_4^2 + 622*x_1^4*x_2^6*x_3^4*x_4^2 - 612*x_1^3*x_2^7*x_3^4*x_4^2 - 59*x_1^2*x_2^8*x_3^4*x_4^2 + 518*x_1*x_2^9*x_3^4*x_4^2 - 222*x_2^10*x_3^4*x_4^2 + 292*x_1^9*x_3^5*x_4^2 - 1188*x_1^8*x_2*x_3^5*x_4^2 + 952*x_1^7*x_2^2*x_3^5*x_4^2 + 252*x_1^6*x_2^3*x_3^5*x_4^2 - 422*x_1^5*x_2^4*x_3^5*x_4^2 - 422*x_1^4*x_2^5*x_3^5*x_4^2 + 252*x_1^3*x_2^6*x_3^5*x_4^2 + 952*x_1^2*x_2^7*x_3^5*x_4^2 - 1188*x_1*x_2^8*x_3^5*x_4^2 + 292*x_2^9*x_3^5*x_4^2 + 148*x_1^8*x_3^6*x_4^2 + 660*x_1^7*x_2*x_3^6*x_4^2 - 1394*x_1^6*x_2^2*x_3^6*x_4^2 + 252*x_1^5*x_2^3*x_3^6*x_4^2 + 622*x_1^4*x_2^4*x_3^6*x_4^2 + 252*x_1^3*x_2^5*x_3^6*x_4^2 - 1394*x_1^2*x_2^6*x_3^6*x_4^2 + 660*x_1*x_2^7*x_3^6*x_4^2 + 148*x_2^8*x_3^6*x_4^2 - 488*x_1^7*x_3^7*x_4^2 + 660*x_1^6*x_2*x_3^7*x_4^2 + 952*x_1^5*x_2^2*x_3^7*x_4^2 - 612*x_1^4*x_2^3*x_3^7*x_4^2 - 612*x_1^3*x_2^4*x_3^7*x_4^2 + 952*x_1^2*x_2^5*x_3^7*x_4^2 + 660*x_1*x_2^6*x_3^7*x_4^2 - 488*x_2^7*x_3^7*x_4^2 + 148*x_1^6*x_3^8*x_4^2 - 1188*x_1^5*x_2*x_3^8*x_4^2 - 59*x_1^4*x_2^2*x_3^8*x_4^2 + 736*x_1^3*x_2^3*x_3^8*x_4^2 - 59*x_1^2*x_2^4*x_3^8*x_4^2 - 1188*x_1*x_2^5*x_3^8*x_4^2 + 148*x_2^6*x_3^8*x_4^2 + 292*x_1^5*x_3^9*x_4^2 + 518*x_1^4*x_2*x_3^9*x_4^2 - 592*x_1^3*x_2^2*x_3^9*x_4^2 - 592*x_1^2*x_2^3*x_3^9*x_4^2 + 518*x_1*x_2^4*x_3^9*x_4^2 + 292*x_2^5*x_3^9*x_4^2 - 222*x_1^4*x_3^10*x_4^2 + 244*x_1^3*x_2*x_3^10*x_4^2 + 682*x_1^2*x_2^2*x_3^10*x_4^2 + 244*x_1*x_2^3*x_3^10*x_4^2 - 222*x_2^4*x_3^10*x_4^2 - 28*x_1^3*x_3^11*x_4^2 - 360*x_1^2*x_2*x_3^11*x_4^2 - 360*x_1*x_2^2*x_3^11*x_4^2 - 28*x_2^3*x_3^11*x_4^2 + 74*x_1^2*x_3^12*x_4^2 + 146*x_1*x_2*x_3^12*x_4^2 + 74*x_2^2*x_3^12*x_4^2 - 20*x_1*x_3^13*x_4^2 - 20*x_2*x_3^13*x_4^2 + 20*x_1^13*x_4^3 - 60*x_1^12*x_2*x_4^3 - 28*x_1^11*x_2^2*x_4^3 + 236*x_1^10*x_2^3*x_4^3 - 92*x_1^9*x_2^4*x_4^3 - 380*x_1^8*x_2^5*x_4^3 + 304*x_1^7*x_2^6*x_4^3 + 304*x_1^6*x_2^7*x_4^3 - 380*x_1^5*x_2^8*x_4^3 - 92*x_1^4*x_2^9*x_4^3 + 236*x_1^3*x_2^10*x_4^3 - 28*x_1^2*x_2^11*x_4^3 - 60*x_1*x_2^12*x_4^3 + 20*x_2^13*x_4^3 - 60*x_1^12*x_3*x_4^3 + 108*x_1^11*x_2*x_3*x_4^3 + 244*x_1^10*x_2^2*x_3*x_4^3 - 812*x_1^9*x_2^3*x_3*x_4^3 + 546*x_1^8*x_2^4*x_3*x_4^3 + 704*x_1^7*x_2^5*x_3*x_4^3 - 1460*x_1^6*x_2^6*x_3*x_4^3 + 704*x_1^5*x_2^7*x_3*x_4^3 + 546*x_1^4*x_2^8*x_3*x_4^3 - 812*x_1^3*x_2^9*x_3*x_4^3 + 244*x_1^2*x_2^10*x_3*x_4^3 + 108*x_1*x_2^11*x_3*x_4^3 - 60*x_2^12*x_3*x_4^3 - 28*x_1^11*x_3^2*x_4^3 + 244*x_1^10*x_2*x_3^2*x_4^3 - 592*x_1^9*x_2^2*x_3^2*x_4^3 + 736*x_1^8*x_2^3*x_3^2*x_4^3 - 612*x_1^7*x_2^4*x_3^2*x_4^3 + 252*x_1^6*x_2^5*x_3^2*x_4^3 + 252*x_1^5*x_2^6*x_3^2*x_4^3 - 612*x_1^4*x_2^7*x_3^2*x_4^3 + 736*x_1^3*x_2^8*x_3^2*x_4^3 - 592*x_1^2*x_2^9*x_3^2*x_4^3 + 244*x_1*x_2^10*x_3^2*x_4^3 - 28*x_2^11*x_3^2*x_4^3 + 236*x_1^10*x_3^3*x_4^3 - 812*x_1^9*x_2*x_3^3*x_4^3 + 736*x_1^8*x_2^2*x_3^3*x_4^3 - 72*x_1^7*x_2^3*x_3^3*x_4^3 + 28*x_1^6*x_2^4*x_3^3*x_4^3 - 316*x_1^5*x_2^5*x_3^3*x_4^3 + 28*x_1^4*x_2^6*x_3^3*x_4^3 - 72*x_1^3*x_2^7*x_3^3*x_4^3 + 736*x_1^2*x_2^8*x_3^3*x_4^3 - 812*x_1*x_2^9*x_3^3*x_4^3 + 236*x_2^10*x_3^3*x_4^3 - 92*x_1^9*x_3^4*x_4^3 + 546*x_1^8*x_2*x_3^4*x_4^3 - 612*x_1^7*x_2^2*x_3^4*x_4^3 + 28*x_1^6*x_2^3*x_3^4*x_4^3 + 180*x_1^5*x_2^4*x_3^4*x_4^3 + 180*x_1^4*x_2^5*x_3^4*x_4^3 + 28*x_1^3*x_2^6*x_3^4*x_4^3 - 612*x_1^2*x_2^7*x_3^4*x_4^3 + 546*x_1*x_2^8*x_3^4*x_4^3 - 92*x_2^9*x_3^4*x_4^3 - 380*x_1^8*x_3^5*x_4^3 + 704*x_1^7*x_2*x_3^5*x_4^3 + 252*x_1^6*x_2^2*x_3^5*x_4^3 - 316*x_1^5*x_2^3*x_3^5*x_4^3 + 180*x_1^4*x_2^4*x_3^5*x_4^3 - 316*x_1^3*x_2^5*x_3^5*x_4^3 + 252*x_1^2*x_2^6*x_3^5*x_4^3 + 704*x_1*x_2^7*x_3^5*x_4^3 - 380*x_2^8*x_3^5*x_4^3 + 304*x_1^7*x_3^6*x_4^3 - 1460*x_1^6*x_2*x_3^6*x_4^3 + 252*x_1^5*x_2^2*x_3^6*x_4^3 + 28*x_1^4*x_2^3*x_3^6*x_4^3 + 28*x_1^3*x_2^4*x_3^6*x_4^3 + 252*x_1^2*x_2^5*x_3^6*x_4^3 - 1460*x_1*x_2^6*x_3^6*x_4^3 + 304*x_2^7*x_3^6*x_4^3 + 304*x_1^6*x_3^7*x_4^3 + 704*x_1^5*x_2*x_3^7*x_4^3 - 612*x_1^4*x_2^2*x_3^7*x_4^3 - 72*x_1^3*x_2^3*x_3^7*x_4^3 - 612*x_1^2*x_2^4*x_3^7*x_4^3 + 704*x_1*x_2^5*x_3^7*x_4^3 + 304*x_2^6*x_3^7*x_4^3 - 380*x_1^5*x_3^8*x_4^3 + 546*x_1^4*x_2*x_3^8*x_4^3 + 736*x_1^3*x_2^2*x_3^8*x_4^3 + 736*x_1^2*x_2^3*x_3^8*x_4^3 + 546*x_1*x_2^4*x_3^8*x_4^3 - 380*x_2^5*x_3^8*x_4^3 - 92*x_1^4*x_3^9*x_4^3 - 812*x_1^3*x_2*x_3^9*x_4^3 - 592*x_1^2*x_2^2*x_3^9*x_4^3 - 812*x_1*x_2^3*x_3^9*x_4^3 - 92*x_2^4*x_3^9*x_4^3 + 236*x_1^3*x_3^10*x_4^3 + 244*x_1^2*x_2*x_3^10*x_4^3 + 244*x_1*x_2^2*x_3^10*x_4^3 + 236*x_2^3*x_3^10*x_4^3 - 28*x_1^2*x_3^11*x_4^3 + 108*x_1*x_2*x_3^11*x_4^3 - 28*x_2^2*x_3^11*x_4^3 - 60*x_1*x_3^12*x_4^3 - 60*x_2*x_3^12*x_4^3 + 20*x_3^13*x_4^3 - 20*x_1^12*x_4^4 + 140*x_1^11*x_2*x_4^4 - 222*x_1^10*x_2^2*x_4^4 - 92*x_1^9*x_2^3*x_4^4 + 409*x_1^8*x_2^4*x_4^4 - 48*x_1^7*x_2^5*x_4^4 - 334*x_1^6*x_2^6*x_4^4 - 48*x_1^5*x_2^7*x_4^4 + 409*x_1^4*x_2^8*x_4^4 - 92*x_1^3*x_2^9*x_4^4 - 222*x_1^2*x_2^10*x_4^4 + 140*x_1*x_2^11*x_4^4 - 20*x_2^12*x_4^4 + 140*x_1^11*x_3*x_4^4 - 558*x_1^10*x_2*x_3*x_4^4 + 518*x_1^9*x_2^2*x_3*x_4^4 + 546*x_1^8*x_2^3*x_3*x_4^4 - 1396*x_1^7*x_2^4*x_3*x_4^4 + 750*x_1^6*x_2^5*x_3*x_4^4 + 750*x_1^5*x_2^6*x_3*x_4^4 - 1396*x_1^4*x_2^7*x_3*x_4^4 + 546*x_1^3*x_2^8*x_3*x_4^4 + 518*x_1^2*x_2^9*x_3*x_4^4 - 558*x_1*x_2^10*x_3*x_4^4 + 140*x_2^11*x_3*x_4^4 - 222*x_1^10*x_3^2*x_4^4 + 518*x_1^9*x_2*x_3^2*x_4^4 - 59*x_1^8*x_2^2*x_3^2*x_4^4 - 612*x_1^7*x_2^3*x_3^2*x_4^4 + 622*x_1^6*x_2^4*x_3^2*x_4^4 - 422*x_1^5*x_2^5*x_3^2*x_4^4 + 622*x_1^4*x_2^6*x_3^2*x_4^4 - 612*x_1^3*x_2^7*x_3^2*x_4^4 - 59*x_1^2*x_2^8*x_3^2*x_4^4 + 518*x_1*x_2^9*x_3^2*x_4^4 - 222*x_2^10*x_3^2*x_4^4 - 92*x_1^9*x_3^3*x_4^4 + 546*x_1^8*x_2*x_3^3*x_4^4 - 612*x_1^7*x_2^2*x_3^3*x_4^4 + 28*x_1^6*x_2^3*x_3^3*x_4^4 + 180*x_1^5*x_2^4*x_3^3*x_4^4 + 180*x_1^4*x_2^5*x_3^3*x_4^4 + 28*x_1^3*x_2^6*x_3^3*x_4^4 - 612*x_1^2*x_2^7*x_3^3*x_4^4 + 546*x_1*x_2^8*x_3^3*x_4^4 - 92*x_2^9*x_3^3*x_4^4 + 409*x_1^8*x_3^4*x_4^4 - 1396*x_1^7*x_2*x_3^4*x_4^4 + 622*x_1^6*x_2^2*x_3^4*x_4^4 + 180*x_1^5*x_2^3*x_3^4*x_4^4 - 675*x_1^4*x_2^4*x_3^4*x_4^4 + 180*x_1^3*x_2^5*x_3^4*x_4^4 + 622*x_1^2*x_2^6*x_3^4*x_4^4 - 1396*x_1*x_2^7*x_3^4*x_4^4 + 409*x_2^8*x_3^4*x_4^4 - 48*x_1^7*x_3^5*x_4^4 + 750*x_1^6*x_2*x_3^5*x_4^4 - 422*x_1^5*x_2^2*x_3^5*x_4^4 + 180*x_1^4*x_2^3*x_3^5*x_4^4 + 180*x_1^3*x_2^4*x_3^5*x_4^4 - 422*x_1^2*x_2^5*x_3^5*x_4^4 + 750*x_1*x_2^6*x_3^5*x_4^4 - 48*x_2^7*x_3^5*x_4^4 - 334*x_1^6*x_3^6*x_4^4 + 750*x_1^5*x_2*x_3^6*x_4^4 + 622*x_1^4*x_2^2*x_3^6*x_4^4 + 28*x_1^3*x_2^3*x_3^6*x_4^4 + 622*x_1^2*x_2^4*x_3^6*x_4^4 + 750*x_1*x_2^5*x_3^6*x_4^4 - 334*x_2^6*x_3^6*x_4^4 - 48*x_1^5*x_3^7*x_4^4 - 1396*x_1^4*x_2*x_3^7*x_4^4 - 612*x_1^3*x_2^2*x_3^7*x_4^4 - 612*x_1^2*x_2^3*x_3^7*x_4^4 - 1396*x_1*x_2^4*x_3^7*x_4^4 - 48*x_2^5*x_3^7*x_4^4 + 409*x_1^4*x_3^8*x_4^4 + 546*x_1^3*x_2*x_3^8*x_4^4 - 59*x_1^2*x_2^2*x_3^8*x_4^4 + 546*x_1*x_2^3*x_3^8*x_4^4 + 409*x_2^4*x_3^8*x_4^4 - 92*x_1^3*x_3^9*x_4^4 + 518*x_1^2*x_2*x_3^9*x_4^4 + 518*x_1*x_2^2*x_3^9*x_4^4 - 92*x_2^3*x_3^9*x_4^4 - 222*x_1^2*x_3^10*x_4^4 - 558*x_1*x_2*x_3^10*x_4^4 - 222*x_2^2*x_3^10*x_4^4 + 140*x_1*x_3^11*x_4^4 + 140*x_2*x_3^11*x_4^4 - 20*x_3^12*x_4^4 - 36*x_1^11*x_4^5 + 4*x_1^10*x_2*x_4^5 + 292*x_1^9*x_2^2*x_4^5 - 380*x_1^8*x_2^3*x_4^5 - 48*x_1^7*x_2^4*x_4^5 + 168*x_1^6*x_2^5*x_4^5 + 168*x_1^5*x_2^6*x_4^5 - 48*x_1^4*x_2^7*x_4^5 - 380*x_1^3*x_2^8*x_4^5 + 292*x_1^2*x_2^9*x_4^5 + 4*x_1*x_2^10*x_4^5 - 36*x_2^11*x_4^5 + 4*x_1^10*x_3*x_4^5 + 468*x_1^9*x_2*x_3*x_4^5 - 1188*x_1^8*x_2^2*x_3*x_4^5 + 704*x_1^7*x_2^3*x_3*x_4^5 + 750*x_1^6*x_2^4*x_3*x_4^5 - 1512*x_1^5*x_2^5*x_3*x_4^5 + 750*x_1^4*x_2^6*x_3*x_4^5 + 704*x_1^3*x_2^7*x_3*x_4^5 - 1188*x_1^2*x_2^8*x_3*x_4^5 + 468*x_1*x_2^9*x_3*x_4^5 + 4*x_2^10*x_3*x_4^5 + 292*x_1^9*x_3^2*x_4^5 - 1188*x_1^8*x_2*x_3^2*x_4^5 + 952*x_1^7*x_2^2*x_3^2*x_4^5 + 252*x_1^6*x_2^3*x_3^2*x_4^5 - 422*x_1^5*x_2^4*x_3^2*x_4^5 - 422*x_1^4*x_2^5*x_3^2*x_4^5 + 252*x_1^3*x_2^6*x_3^2*x_4^5 + 952*x_1^2*x_2^7*x_3^2*x_4^5 - 1188*x_1*x_2^8*x_3^2*x_4^5 + 292*x_2^9*x_3^2*x_4^5 - 380*x_1^8*x_3^3*x_4^5 + 704*x_1^7*x_2*x_3^3*x_4^5 + 252*x_1^6*x_2^2*x_3^3*x_4^5 - 316*x_1^5*x_2^3*x_3^3*x_4^5 + 180*x_1^4*x_2^4*x_3^3*x_4^5 - 316*x_1^3*x_2^5*x_3^3*x_4^5 + 252*x_1^2*x_2^6*x_3^3*x_4^5 + 704*x_1*x_2^7*x_3^3*x_4^5 - 380*x_2^8*x_3^3*x_4^5 - 48*x_1^7*x_3^4*x_4^5 + 750*x_1^6*x_2*x_3^4*x_4^5 - 422*x_1^5*x_2^2*x_3^4*x_4^5 + 180*x_1^4*x_2^3*x_3^4*x_4^5 + 180*x_1^3*x_2^4*x_3^4*x_4^5 - 422*x_1^2*x_2^5*x_3^4*x_4^5 + 750*x_1*x_2^6*x_3^4*x_4^5 - 48*x_2^7*x_3^4*x_4^5 + 168*x_1^6*x_3^5*x_4^5 - 1512*x_1^5*x_2*x_3^5*x_4^5 - 422*x_1^4*x_2^2*x_3^5*x_4^5 - 316*x_1^3*x_2^3*x_3^5*x_4^5 - 422*x_1^2*x_2^4*x_3^5*x_4^5 - 1512*x_1*x_2^5*x_3^5*x_4^5 + 168*x_2^6*x_3^5*x_4^5 + 168*x_1^5*x_3^6*x_4^5 + 750*x_1^4*x_2*x_3^6*x_4^5 + 252*x_1^3*x_2^2*x_3^6*x_4^5 + 252*x_1^2*x_2^3*x_3^6*x_4^5 + 750*x_1*x_2^4*x_3^6*x_4^5 + 168*x_2^5*x_3^6*x_4^5 - 48*x_1^4*x_3^7*x_4^5 + 704*x_1^3*x_2*x_3^7*x_4^5 + 952*x_1^2*x_2^2*x_3^7*x_4^5 + 704*x_1*x_2^3*x_3^7*x_4^5 - 48*x_2^4*x_3^7*x_4^5 - 380*x_1^3*x_3^8*x_4^5 - 1188*x_1^2*x_2*x_3^8*x_4^5 - 1188*x_1*x_2^2*x_3^8*x_4^5 - 380*x_2^3*x_3^8*x_4^5 + 292*x_1^2*x_3^9*x_4^5 + 468*x_1*x_2*x_3^9*x_4^5 + 292*x_2^2*x_3^9*x_4^5 + 4*x_1*x_3^10*x_4^5 + 4*x_2*x_3^10*x_4^5 - 36*x_3^11*x_4^5 + 64*x_1^10*x_4^6 - 260*x_1^9*x_2*x_4^6 + 148*x_1^8*x_2^2*x_4^6 + 304*x_1^7*x_2^3*x_4^6 - 334*x_1^6*x_2^4*x_4^6 + 168*x_1^5*x_2^5*x_4^6 - 334*x_1^4*x_2^6*x_4^6 + 304*x_1^3*x_2^7*x_4^6 + 148*x_1^2*x_2^8*x_4^6 - 260*x_1*x_2^9*x_4^6 + 64*x_2^10*x_4^6 - 260*x_1^9*x_3*x_4^6 + 392*x_1^8*x_2*x_3*x_4^6 + 660*x_1^7*x_2^2*x_3*x_4^6 - 1460*x_1^6*x_2^3*x_3*x_4^6 + 750*x_1^5*x_2^4*x_3*x_4^6 + 750*x_1^4*x_2^5*x_3*x_4^6 - 1460*x_1^3*x_2^6*x_3*x_4^6 + 660*x_1^2*x_2^7*x_3*x_4^6 + 392*x_1*x_2^8*x_3*x_4^6 - 260*x_2^9*x_3*x_4^6 + 148*x_1^8*x_3^2*x_4^6 + 660*x_1^7*x_2*x_3^2*x_4^6 - 1394*x_1^6*x_2^2*x_3^2*x_4^6 + 252*x_1^5*x_2^3*x_3^2*x_4^6 + 622*x_1^4*x_2^4*x_3^2*x_4^6 + 252*x_1^3*x_2^5*x_3^2*x_4^6 - 1394*x_1^2*x_2^6*x_3^2*x_4^6 + 660*x_1*x_2^7*x_3^2*x_4^6 + 148*x_2^8*x_3^2*x_4^6 + 304*x_1^7*x_3^3*x_4^6 - 1460*x_1^6*x_2*x_3^3*x_4^6 + 252*x_1^5*x_2^2*x_3^3*x_4^6 + 28*x_1^4*x_2^3*x_3^3*x_4^6 + 28*x_1^3*x_2^4*x_3^3*x_4^6 + 252*x_1^2*x_2^5*x_3^3*x_4^6 - 1460*x_1*x_2^6*x_3^3*x_4^6 + 304*x_2^7*x_3^3*x_4^6 - 334*x_1^6*x_3^4*x_4^6 + 750*x_1^5*x_2*x_3^4*x_4^6 + 622*x_1^4*x_2^2*x_3^4*x_4^6 + 28*x_1^3*x_2^3*x_3^4*x_4^6 + 622*x_1^2*x_2^4*x_3^4*x_4^6 + 750*x_1*x_2^5*x_3^4*x_4^6 - 334*x_2^6*x_3^4*x_4^6 + 168*x_1^5*x_3^5*x_4^6 + 750*x_1^4*x_2*x_3^5*x_4^6 + 252*x_1^3*x_2^2*x_3^5*x_4^6 + 252*x_1^2*x_2^3*x_3^5*x_4^6 + 750*x_1*x_2^4*x_3^5*x_4^6 + 168*x_2^5*x_3^5*x_4^6 - 334*x_1^4*x_3^6*x_4^6 - 1460*x_1^3*x_2*x_3^6*x_4^6 - 1394*x_1^2*x_2^2*x_3^6*x_4^6 - 1460*x_1*x_2^3*x_3^6*x_4^6 - 334*x_2^4*x_3^6*x_4^6 + 304*x_1^3*x_3^7*x_4^6 + 660*x_1^2*x_2*x_3^7*x_4^6 + 660*x_1*x_2^2*x_3^7*x_4^6 + 304*x_2^3*x_3^7*x_4^6 + 148*x_1^2*x_3^8*x_4^6 + 392*x_1*x_2*x_3^8*x_4^6 + 148*x_2^2*x_3^8*x_4^6 - 260*x_1*x_3^9*x_4^6 - 260*x_2*x_3^9*x_4^6 + 64*x_3^10*x_4^6 + 20*x_1^9*x_4^7 + 180*x_1^8*x_2*x_4^7 - 488*x_1^7*x_2^2*x_4^7 + 304*x_1^6*x_2^3*x_4^7 - 48*x_1^5*x_2^4*x_4^7 - 48*x_1^4*x_2^5*x_4^7 + 304*x_1^3*x_2^6*x_4^7 - 488*x_1^2*x_2^7*x_4^7 + 180*x_1*x_2^8*x_4^7 + 20*x_2^9*x_4^7 + 180*x_1^8*x_3*x_4^7 - 952*x_1^7*x_2*x_3*x_4^7 + 660*x_1^6*x_2^2*x_3*x_4^7 + 704*x_1^5*x_2^3*x_3*x_4^7 - 1396*x_1^4*x_2^4*x_3*x_4^7 + 704*x_1^3*x_2^5*x_3*x_4^7 + 660*x_1^2*x_2^6*x_3*x_4^7 - 952*x_1*x_2^7*x_3*x_4^7 + 180*x_2^8*x_3*x_4^7 - 488*x_1^7*x_3^2*x_4^7 + 660*x_1^6*x_2*x_3^2*x_4^7 + 952*x_1^5*x_2^2*x_3^2*x_4^7 - 612*x_1^4*x_2^3*x_3^2*x_4^7 - 612*x_1^3*x_2^4*x_3^2*x_4^7 + 952*x_1^2*x_2^5*x_3^2*x_4^7 + 660*x_1*x_2^6*x_3^2*x_4^7 - 488*x_2^7*x_3^2*x_4^7 + 304*x_1^6*x_3^3*x_4^7 + 704*x_1^5*x_2*x_3^3*x_4^7 - 612*x_1^4*x_2^2*x_3^3*x_4^7 - 72*x_1^3*x_2^3*x_3^3*x_4^7 - 612*x_1^2*x_2^4*x_3^3*x_4^7 + 704*x_1*x_2^5*x_3^3*x_4^7 + 304*x_2^6*x_3^3*x_4^7 - 48*x_1^5*x_3^4*x_4^7 - 1396*x_1^4*x_2*x_3^4*x_4^7 - 612*x_1^3*x_2^2*x_3^4*x_4^7 - 612*x_1^2*x_2^3*x_3^4*x_4^7 - 1396*x_1*x_2^4*x_3^4*x_4^7 - 48*x_2^5*x_3^4*x_4^7 - 48*x_1^4*x_3^5*x_4^7 + 704*x_1^3*x_2*x_3^5*x_4^7 + 952*x_1^2*x_2^2*x_3^5*x_4^7 + 704*x_1*x_2^3*x_3^5*x_4^7 - 48*x_2^4*x_3^5*x_4^7 + 304*x_1^3*x_3^6*x_4^7 + 660*x_1^2*x_2*x_3^6*x_4^7 + 660*x_1*x_2^2*x_3^6*x_4^7 + 304*x_2^3*x_3^6*x_4^7 - 488*x_1^2*x_3^7*x_4^7 - 952*x_1*x_2*x_3^7*x_4^7 - 488*x_2^2*x_3^7*x_4^7 + 180*x_1*x_3^8*x_4^7 + 180*x_2*x_3^8*x_4^7 + 20*x_3^9*x_4^7 - 90*x_1^8*x_4^8 + 180*x_1^7*x_2*x_4^8 + 148*x_1^6*x_2^2*x_4^8 - 380*x_1^5*x_2^3*x_4^8 + 409*x_1^4*x_2^4*x_4^8 - 380*x_1^3*x_2^5*x_4^8 + 148*x_1^2*x_2^6*x_4^8 + 180*x_1*x_2^7*x_4^8 - 90*x_2^8*x_4^8 + 180*x_1^7*x_3*x_4^8 + 392*x_1^6*x_2*x_3*x_4^8 - 1188*x_1^5*x_2^2*x_3*x_4^8 + 546*x_1^4*x_2^3*x_3*x_4^8 + 546*x_1^3*x_2^4*x_3*x_4^8 - 1188*x_1^2*x_2^5*x_3*x_4^8 + 392*x_1*x_2^6*x_3*x_4^8 + 180*x_2^7*x_3*x_4^8 + 148*x_1^6*x_3^2*x_4^8 - 1188*x_1^5*x_2*x_3^2*x_4^8 - 59*x_1^4*x_2^2*x_3^2*x_4^8 + 736*x_1^3*x_2^3*x_3^2*x_4^8 - 59*x_1^2*x_2^4*x_3^2*x_4^8 - 1188*x_1*x_2^5*x_3^2*x_4^8 + 148*x_2^6*x_3^2*x_4^8 - 380*x_1^5*x_3^3*x_4^8 + 546*x_1^4*x_2*x_3^3*x_4^8 + 736*x_1^3*x_2^2*x_3^3*x_4^8 + 736*x_1^2*x_2^3*x_3^3*x_4^8 + 546*x_1*x_2^4*x_3^3*x_4^8 - 380*x_2^5*x_3^3*x_4^8 + 409*x_1^4*x_3^4*x_4^8 + 546*x_1^3*x_2*x_3^4*x_4^8 - 59*x_1^2*x_2^2*x_3^4*x_4^8 + 546*x_1*x_2^3*x_3^4*x_4^8 + 409*x_2^4*x_3^4*x_4^8 - 380*x_1^3*x_3^5*x_4^8 - 1188*x_1^2*x_2*x_3^5*x_4^8 - 1188*x_1*x_2^2*x_3^5*x_4^8 - 380*x_2^3*x_3^5*x_4^8 + 148*x_1^2*x_3^6*x_4^8 + 392*x_1*x_2*x_3^6*x_4^8 + 148*x_2^2*x_3^6*x_4^8 + 180*x_1*x_3^7*x_4^8 + 180*x_2*x_3^7*x_4^8 - 90*x_3^8*x_4^8 + 20*x_1^7*x_4^9 - 260*x_1^6*x_2*x_4^9 + 292*x_1^5*x_2^2*x_4^9 - 92*x_1^4*x_2^3*x_4^9 - 92*x_1^3*x_2^4*x_4^9 + 292*x_1^2*x_2^5*x_4^9 - 260*x_1*x_2^6*x_4^9 + 20*x_2^7*x_4^9 - 260*x_1^6*x_3*x_4^9 + 468*x_1^5*x_2*x_3*x_4^9 + 518*x_1^4*x_2^2*x_3*x_4^9 - 812*x_1^3*x_2^3*x_3*x_4^9 + 518*x_1^2*x_2^4*x_3*x_4^9 + 468*x_1*x_2^5*x_3*x_4^9 - 260*x_2^6*x_3*x_4^9 + 292*x_1^5*x_3^2*x_4^9 + 518*x_1^4*x_2*x_3^2*x_4^9 - 592*x_1^3*x_2^2*x_3^2*x_4^9 - 592*x_1^2*x_2^3*x_3^2*x_4^9 + 518*x_1*x_2^4*x_3^2*x_4^9 + 292*x_2^5*x_3^2*x_4^9 - 92*x_1^4*x_3^3*x_4^9 - 812*x_1^3*x_2*x_3^3*x_4^9 - 592*x_1^2*x_2^2*x_3^3*x_4^9 - 812*x_1*x_2^3*x_3^3*x_4^9 - 92*x_2^4*x_3^3*x_4^9 - 92*x_1^3*x_3^4*x_4^9 + 518*x_1^2*x_2*x_3^4*x_4^9 + 518*x_1*x_2^2*x_3^4*x_4^9 - 92*x_2^3*x_3^4*x_4^9 + 292*x_1^2*x_3^5*x_4^9 + 468*x_1*x_2*x_3^5*x_4^9 + 292*x_2^2*x_3^5*x_4^9 - 260*x_1*x_3^6*x_4^9 - 260*x_2*x_3^6*x_4^9 + 20*x_3^7*x_4^9 + 64*x_1^6*x_4^10 + 4*x_1^5*x_2*x_4^10 - 222*x_1^4*x_2^2*x_4^10 + 236*x_1^3*x_2^3*x_4^10 - 222*x_1^2*x_2^4*x_4^10 + 4*x_1*x_2^5*x_4^10 + 64*x_2^6*x_4^10 + 4*x_1^5*x_3*x_4^10 - 558*x_1^4*x_2*x_3*x_4^10 + 244*x_1^3*x_2^2*x_3*x_4^10 + 244*x_1^2*x_2^3*x_3*x_4^10 - 558*x_1*x_2^4*x_3*x_4^10 + 4*x_2^5*x_3*x_4^10 - 222*x_1^4*x_3^2*x_4^10 + 244*x_1^3*x_2*x_3^2*x_4^10 + 682*x_1^2*x_2^2*x_3^2*x_4^10 + 244*x_1*x_2^3*x_3^2*x_4^10 - 222*x_2^4*x_3^2*x_4^10 + 236*x_1^3*x_3^3*x_4^10 + 244*x_1^2*x_2*x_3^3*x_4^10 + 244*x_1*x_2^2*x_3^3*x_4^10 + 236*x_2^3*x_3^3*x_4^10 - 222*x_1^2*x_3^4*x_4^10 - 558*x_1*x_2*x_3^4*x_4^10 - 222*x_2^2*x_3^4*x_4^10 + 4*x_1*x_3^5*x_4^10 + 4*x_2*x_3^5*x_4^10 + 64*x_3^6*x_4^10 - 36*x_1^5*x_4^11 + 140*x_1^4*x_2*x_4^11 - 28*x_1^3*x_2^2*x_4^11 - 28*x_1^2*x_2^3*x_4^11 + 140*x_1*x_2^4*x_4^11 - 36*x_2^5*x_4^11 + 140*x_1^4*x_3*x_4^11 + 108*x_1^3*x_2*x_3*x_4^11 - 360*x_1^2*x_2^2*x_3*x_4^11 + 108*x_1*x_2^3*x_3*x_4^11 + 140*x_2^4*x_3*x_4^11 - 28*x_1^3*x_3^2*x_4^11 - 360*x_1^2*x_2*x_3^2*x_4^11 - 360*x_1*x_2^2*x_3^2*x_4^11 - 28*x_2^3*x_3^2*x_4^11 - 28*x_1^2*x_3^3*x_4^11 + 108*x_1*x_2*x_3^3*x_4^11 - 28*x_2^2*x_3^3*x_4^11 + 140*x_1*x_3^4*x_4^11 + 140*x_2*x_3^4*x_4^11 - 36*x_3^5*x_4^11 - 20*x_1^4*x_4^12 - 60*x_1^3*x_2*x_4^12 + 74*x_1^2*x_2^2*x_4^12 - 60*x_1*x_2^3*x_4^12 - 20*x_2^4*x_4^12 - 60*x_1^3*x_3*x_4^12 + 146*x_1^2*x_2*x_3*x_4^12 + 146*x_1*x_2^2*x_3*x_4^12 - 60*x_2^3*x_3*x_4^12 + 74*x_1^2*x_3^2*x_4^12 + 146*x_1*x_2*x_3^2*x_4^12 + 74*x_2^2*x_3^2*x_4^12 - 60*x_1*x_3^3*x_4^12 - 60*x_2*x_3^3*x_4^12 - 20*x_3^4*x_4^12 + 20*x_1^3*x_4^13 - 20*x_1^2*x_2*x_4^13 - 20*x_1*x_2^2*x_4^13 + 20*x_2^3*x_4^13 - 20*x_1^2*x_3*x_4^13 - 100*x_1*x_2*x_3*x_4^13 - 20*x_2^2*x_3*x_4^13 - 20*x_1*x_3^2*x_4^13 - 20*x_2*x_3^2*x_4^13 + 20*x_3^3*x_4^13 + 20*x_1*x_2*x_4^14 + 20*x_1*x_3*x_4^14 + 20*x_2*x_3*x_4^14 - 4*x_1*x_4^15 - 4*x_2*x_4^15 - 4*x_3*x_4^15 + x_4^16 - 4*x_1^15*x_5 + 20*x_1^14*x_2*x_5 - 20*x_1^13*x_2^2*x_5 - 60*x_1^12*x_2^3*x_5 + 140*x_1^11*x_2^4*x_5 + 4*x_1^10*x_2^5*x_5 - 260*x_1^9*x_2^6*x_5 + 180*x_1^8*x_2^7*x_5 + 180*x_1^7*x_2^8*x_5 - 260*x_1^6*x_2^9*x_5 + 4*x_1^5*x_2^10*x_5 + 140*x_1^4*x_2^11*x_5 - 60*x_1^3*x_2^12*x_5 - 20*x_1^2*x_2^13*x_5 + 20*x_1*x_2^14*x_5 - 4*x_2^15*x_5 + 20*x_1^14*x_3*x_5 - 100*x_1^13*x_2*x_3*x_5 + 146*x_1^12*x_2^2*x_3*x_5 + 108*x_1^11*x_2^3*x_3*x_5 - 558*x_1^10*x_2^4*x_3*x_5 + 468*x_1^9*x_2^5*x_3*x_5 + 392*x_1^8*x_2^6*x_3*x_5 - 952*x_1^7*x_2^7*x_3*x_5 + 392*x_1^6*x_2^8*x_3*x_5 + 468*x_1^5*x_2^9*x_3*x_5 - 558*x_1^4*x_2^10*x_3*x_5 + 108*x_1^3*x_2^11*x_3*x_5 + 146*x_1^2*x_2^12*x_3*x_5 - 100*x_1*x_2^13*x_3*x_5 + 20*x_2^14*x_3*x_5 - 20*x_1^13*x_3^2*x_5 + 146*x_1^12*x_2*x_3^2*x_5 - 360*x_1^11*x_2^2*x_3^2*x_5 + 244*x_1^10*x_2^3*x_3^2*x_5 + 518*x_1^9*x_2^4*x_3^2*x_5 - 1188*x_1^8*x_2^5*x_3^2*x_5 + 660*x_1^7*x_2^6*x_3^2*x_5 + 660*x_1^6*x_2^7*x_3^2*x_5 - 1188*x_1^5*x_2^8*x_3^2*x_5 + 518*x_1^4*x_2^9*x_3^2*x_5 + 244*x_1^3*x_2^10*x_3^2*x_5 - 360*x_1^2*x_2^11*x_3^2*x_5 + 146*x_1*x_2^12*x_3^2*x_5 - 20*x_2^13*x_3^2*x_5 - 60*x_1^12*x_3^3*x_5 + 108*x_1^11*x_2*x_3^3*x_5 + 244*x_1^10*x_2^2*x_3^3*x_5 - 812*x_1^9*x_2^3*x_3^3*x_5 + 546*x_1^8*x_2^4*x_3^3*x_5 + 704*x_1^7*x_2^5*x_3^3*x_5 - 1460*x_1^6*x_2^6*x_3^3*x_5 + 704*x_1^5*x_2^7*x_3^3*x_5 + 546*x_1^4*x_2^8*x_3^3*x_5 - 812*x_1^3*x_2^9*x_3^3*x_5 + 244*x_1^2*x_2^10*x_3^3*x_5 + 108*x_1*x_2^11*x_3^3*x_5 - 60*x_2^12*x_3^3*x_5 + 140*x_1^11*x_3^4*x_5 - 558*x_1^10*x_2*x_3^4*x_5 + 518*x_1^9*x_2^2*x_3^4*x_5 + 546*x_1^8*x_2^3*x_3^4*x_5 - 1396*x_1^7*x_2^4*x_3^4*x_5 + 750*x_1^6*x_2^5*x_3^4*x_5 + 750*x_1^5*x_2^6*x_3^4*x_5 - 1396*x_1^4*x_2^7*x_3^4*x_5 + 546*x_1^3*x_2^8*x_3^4*x_5 + 518*x_1^2*x_2^9*x_3^4*x_5 - 558*x_1*x_2^10*x_3^4*x_5 + 140*x_2^11*x_3^4*x_5 + 4*x_1^10*x_3^5*x_5 + 468*x_1^9*x_2*x_3^5*x_5 - 1188*x_1^8*x_2^2*x_3^5*x_5 + 704*x_1^7*x_2^3*x_3^5*x_5 + 750*x_1^6*x_2^4*x_3^5*x_5 - 1512*x_1^5*x_2^5*x_3^5*x_5 + 750*x_1^4*x_2^6*x_3^5*x_5 + 704*x_1^3*x_2^7*x_3^5*x_5 - 1188*x_1^2*x_2^8*x_3^5*x_5 + 468*x_1*x_2^9*x_3^5*x_5 + 4*x_2^10*x_3^5*x_5 - 260*x_1^9*x_3^6*x_5 + 392*x_1^8*x_2*x_3^6*x_5 + 660*x_1^7*x_2^2*x_3^6*x_5 - 1460*x_1^6*x_2^3*x_3^6*x_5 + 750*x_1^5*x_2^4*x_3^6*x_5 + 750*x_1^4*x_2^5*x_3^6*x_5 - 1460*x_1^3*x_2^6*x_3^6*x_5 + 660*x_1^2*x_2^7*x_3^6*x_5 + 392*x_1*x_2^8*x_3^6*x_5 - 260*x_2^9*x_3^6*x_5 + 180*x_1^8*x_3^7*x_5 - 952*x_1^7*x_2*x_3^7*x_5 + 660*x_1^6*x_2^2*x_3^7*x_5 + 704*x_1^5*x_2^3*x_3^7*x_5 - 1396*x_1^4*x_2^4*x_3^7*x_5 + 704*x_1^3*x_2^5*x_3^7*x_5 + 660*x_1^2*x_2^6*x_3^7*x_5 - 952*x_1*x_2^7*x_3^7*x_5 + 180*x_2^8*x_3^7*x_5 + 180*x_1^7*x_3^8*x_5 + 392*x_1^6*x_2*x_3^8*x_5 - 1188*x_1^5*x_2^2*x_3^8*x_5 + 546*x_1^4*x_2^3*x_3^8*x_5 + 546*x_1^3*x_2^4*x_3^8*x_5 - 1188*x_1^2*x_2^5*x_3^8*x_5 + 392*x_1*x_2^6*x_3^8*x_5 + 180*x_2^7*x_3^8*x_5 - 260*x_1^6*x_3^9*x_5 + 468*x_1^5*x_2*x_3^9*x_5 + 518*x_1^4*x_2^2*x_3^9*x_5 - 812*x_1^3*x_2^3*x_3^9*x_5 + 518*x_1^2*x_2^4*x_3^9*x_5 + 468*x_1*x_2^5*x_3^9*x_5 - 260*x_2^6*x_3^9*x_5 + 4*x_1^5*x_3^10*x_5 - 558*x_1^4*x_2*x_3^10*x_5 + 244*x_1^3*x_2^2*x_3^10*x_5 + 244*x_1^2*x_2^3*x_3^10*x_5 - 558*x_1*x_2^4*x_3^10*x_5 + 4*x_2^5*x_3^10*x_5 + 140*x_1^4*x_3^11*x_5 + 108*x_1^3*x_2*x_3^11*x_5 - 360*x_1^2*x_2^2*x_3^11*x_5 + 108*x_1*x_2^3*x_3^11*x_5 + 140*x_2^4*x_3^11*x_5 - 60*x_1^3*x_3^12*x_5 + 146*x_1^2*x_2*x_3^12*x_5 + 146*x_1*x_2^2*x_3^12*x_5 - 60*x_2^3*x_3^12*x_5 - 20*x_1^2*x_3^13*x_5 - 100*x_1*x_2*x_3^13*x_5 - 20*x_2^2*x_3^13*x_5 + 20*x_1*x_3^14*x_5 + 20*x_2*x_3^14*x_5 - 4*x_3^15*x_5 + 20*x_1^14*x_4*x_5 - 100*x_1^13*x_2*x_4*x_5 + 146*x_1^12*x_2^2*x_4*x_5 + 108*x_1^11*x_2^3*x_4*x_5 - 558*x_1^10*x_2^4*x_4*x_5 + 468*x_1^9*x_2^5*x_4*x_5 + 392*x_1^8*x_2^6*x_4*x_5 - 952*x_1^7*x_2^7*x_4*x_5 + 392*x_1^6*x_2^8*x_4*x_5 + 468*x_1^5*x_2^9*x_4*x_5 - 558*x_1^4*x_2^10*x_4*x_5 + 108*x_1^3*x_2^11*x_4*x_5 + 146*x_1^2*x_2^12*x_4*x_5 - 100*x_1*x_2^13*x_4*x_5 + 20*x_2^14*x_4*x_5 - 100*x_1^13*x_3*x_4*x_5 + 424*x_1^12*x_2*x_3*x_4*x_5 - 636*x_1^11*x_2^2*x_3*x_4*x_5 + 68*x_1^10*x_2^3*x_3*x_4*x_5 + 1168*x_1^9*x_2^4*x_3*x_4*x_5 - 1812*x_1^8*x_2^5*x_3*x_4*x_5 + 888*x_1^7*x_2^6*x_3*x_4*x_5 + 888*x_1^6*x_2^7*x_3*x_4*x_5 - 1812*x_1^5*x_2^8*x_3*x_4*x_5 + 1168*x_1^4*x_2^9*x_3*x_4*x_5 + 68*x_1^3*x_2^10*x_3*x_4*x_5 - 636*x_1^2*x_2^11*x_3*x_4*x_5 + 424*x_1*x_2^12*x_3*x_4*x_5 - 100*x_2^13*x_3*x_4*x_5 + 146*x_1^12*x_3^2*x_4*x_5 - 636*x_1^11*x_2*x_3^2*x_4*x_5 + 1132*x_1^10*x_2^2*x_3^2*x_4*x_5 - 892*x_1^9*x_2^3*x_3^2*x_4*x_5 - 242*x_1^8*x_2^4*x_3^2*x_4*x_5 + 1528*x_1^7*x_2^5*x_3^2*x_4*x_5 - 2072*x_1^6*x_2^6*x_3^2*x_4*x_5 + 1528*x_1^5*x_2^7*x_3^2*x_4*x_5 - 242*x_1^4*x_2^8*x_3^2*x_4*x_5 - 892*x_1^3*x_2^9*x_3^2*x_4*x_5 + 1132*x_1^2*x_2^10*x_3^2*x_4*x_5 - 636*x_1*x_2^11*x_3^2*x_4*x_5 + 146*x_2^12*x_3^2*x_4*x_5 + 108*x_1^11*x_3^3*x_4*x_5 + 68*x_1^10*x_2*x_3^3*x_4*x_5 - 892*x_1^9*x_2^2*x_3^3*x_4*x_5 + 1468*x_1^8*x_2^3*x_3^3*x_4*x_5 - 1080*x_1^7*x_2^4*x_3^3*x_4*x_5 + 328*x_1^6*x_2^5*x_3^3*x_4*x_5 + 328*x_1^5*x_2^6*x_3^3*x_4*x_5 - 1080*x_1^4*x_2^7*x_3^3*x_4*x_5 + 1468*x_1^3*x_2^8*x_3^3*x_4*x_5 - 892*x_1^2*x_2^9*x_3^3*x_4*x_5 + 68*x_1*x_2^10*x_3^3*x_4*x_5 + 108*x_2^11*x_3^3*x_4*x_5 - 558*x_1^10*x_3^4*x_4*x_5 + 1168*x_1^9*x_2*x_3^4*x_4*x_5 - 242*x_1^8*x_2^2*x_3^4*x_4*x_5 - 1080*x_1^7*x_2^3*x_3^4*x_4*x_5 + 1028*x_1^6*x_2^4*x_3^4*x_4*x_5 - 596*x_1^5*x_2^5*x_3^4*x_4*x_5 + 1028*x_1^4*x_2^6*x_3^4*x_4*x_5 - 1080*x_1^3*x_2^7*x_3^4*x_4*x_5 - 242*x_1^2*x_2^8*x_3^4*x_4*x_5 + 1168*x_1*x_2^9*x_3^4*x_4*x_5 - 558*x_2^10*x_3^4*x_4*x_5 + 468*x_1^9*x_3^5*x_4*x_5 - 1812*x_1^8*x_2*x_3^5*x_4*x_5 + 1528*x_1^7*x_2^2*x_3^5*x_4*x_5 + 328*x_1^6*x_2^3*x_3^5*x_4*x_5 - 596*x_1^5*x_2^4*x_3^5*x_4*x_5 - 596*x_1^4*x_2^5*x_3^5*x_4*x_5 + 328*x_1^3*x_2^6*x_3^5*x_4*x_5 + 1528*x_1^2*x_2^7*x_3^5*x_4*x_5 - 1812*x_1*x_2^8*x_3^5*x_4*x_5 + 468*x_2^9*x_3^5*x_4*x_5 + 392*x_1^8*x_3^6*x_4*x_5 + 888*x_1^7*x_2*x_3^6*x_4*x_5 - 2072*x_1^6*x_2^2*x_3^6*x_4*x_5 + 328*x_1^5*x_2^3*x_3^6*x_4*x_5 + 1028*x_1^4*x_2^4*x_3^6*x_4*x_5 + 328*x_1^3*x_2^5*x_3^6*x_4*x_5 - 2072*x_1^2*x_2^6*x_3^6*x_4*x_5 + 888*x_1*x_2^7*x_3^6*x_4*x_5 + 392*x_2^8*x_3^6*x_4*x_5 - 952*x_1^7*x_3^7*x_4*x_5 + 888*x_1^6*x_2*x_3^7*x_4*x_5 + 1528*x_1^5*x_2^2*x_3^7*x_4*x_5 - 1080*x_1^4*x_2^3*x_3^7*x_4*x_5 - 1080*x_1^3*x_2^4*x_3^7*x_4*x_5 + 1528*x_1^2*x_2^5*x_3^7*x_4*x_5 + 888*x_1*x_2^6*x_3^7*x_4*x_5 - 952*x_2^7*x_3^7*x_4*x_5 + 392*x_1^6*x_3^8*x_4*x_5 - 1812*x_1^5*x_2*x_3^8*x_4*x_5 - 242*x_1^4*x_2^2*x_3^8*x_4*x_5 + 1468*x_1^3*x_2^3*x_3^8*x_4*x_5 - 242*x_1^2*x_2^4*x_3^8*x_4*x_5 - 1812*x_1*x_2^5*x_3^8*x_4*x_5 + 392*x_2^6*x_3^8*x_4*x_5 + 468*x_1^5*x_3^9*x_4*x_5 + 1168*x_1^4*x_2*x_3^9*x_4*x_5 - 892*x_1^3*x_2^2*x_3^9*x_4*x_5 - 892*x_1^2*x_2^3*x_3^9*x_4*x_5 + 1168*x_1*x_2^4*x_3^9*x_4*x_5 + 468*x_2^5*x_3^9*x_4*x_5 - 558*x_1^4*x_3^10*x_4*x_5 + 68*x_1^3*x_2*x_3^10*x_4*x_5 + 1132*x_1^2*x_2^2*x_3^10*x_4*x_5 + 68*x_1*x_2^3*x_3^10*x_4*x_5 - 558*x_2^4*x_3^10*x_4*x_5 + 108*x_1^3*x_3^11*x_4*x_5 - 636*x_1^2*x_2*x_3^11*x_4*x_5 - 636*x_1*x_2^2*x_3^11*x_4*x_5 + 108*x_2^3*x_3^11*x_4*x_5 + 146*x_1^2*x_3^12*x_4*x_5 + 424*x_1*x_2*x_3^12*x_4*x_5 + 146*x_2^2*x_3^12*x_4*x_5 - 100*x_1*x_3^13*x_4*x_5 - 100*x_2*x_3^13*x_4*x_5 + 20*x_3^14*x_4*x_5 - 20*x_1^13*x_4^2*x_5 + 146*x_1^12*x_2*x_4^2*x_5 - 360*x_1^11*x_2^2*x_4^2*x_5 + 244*x_1^10*x_2^3*x_4^2*x_5 + 518*x_1^9*x_2^4*x_4^2*x_5 - 1188*x_1^8*x_2^5*x_4^2*x_5 + 660*x_1^7*x_2^6*x_4^2*x_5 + 660*x_1^6*x_2^7*x_4^2*x_5 - 1188*x_1^5*x_2^8*x_4^2*x_5 + 518*x_1^4*x_2^9*x_4^2*x_5 + 244*x_1^3*x_2^10*x_4^2*x_5 - 360*x_1^2*x_2^11*x_4^2*x_5 + 146*x_1*x_2^12*x_4^2*x_5 - 20*x_2^13*x_4^2*x_5 + 146*x_1^12*x_3*x_4^2*x_5 - 636*x_1^11*x_2*x_3*x_4^2*x_5 + 1132*x_1^10*x_2^2*x_3*x_4^2*x_5 - 892*x_1^9*x_2^3*x_3*x_4^2*x_5 - 242*x_1^8*x_2^4*x_3*x_4^2*x_5 + 1528*x_1^7*x_2^5*x_3*x_4^2*x_5 - 2072*x_1^6*x_2^6*x_3*x_4^2*x_5 + 1528*x_1^5*x_2^7*x_3*x_4^2*x_5 - 242*x_1^4*x_2^8*x_3*x_4^2*x_5 - 892*x_1^3*x_2^9*x_3*x_4^2*x_5 + 1132*x_1^2*x_2^10*x_3*x_4^2*x_5 - 636*x_1*x_2^11*x_3*x_4^2*x_5 + 146*x_2^12*x_3*x_4^2*x_5 - 360*x_1^11*x_3^2*x_4^2*x_5 + 1132*x_1^10*x_2*x_3^2*x_4^2*x_5 - 1492*x_1^9*x_2^2*x_3^2*x_4^2*x_5 + 1148*x_1^8*x_2^3*x_3^2*x_4^2*x_5 - 616*x_1^7*x_2^4*x_3^2*x_4^2*x_5 + 188*x_1^6*x_2^5*x_3^2*x_4^2*x_5 + 188*x_1^5*x_2^6*x_3^2*x_4^2*x_5 - 616*x_1^4*x_2^7*x_3^2*x_4^2*x_5 + 1148*x_1^3*x_2^8*x_3^2*x_4^2*x_5 - 1492*x_1^2*x_2^9*x_3^2*x_4^2*x_5 + 1132*x_1*x_2^10*x_3^2*x_4^2*x_5 - 360*x_2^11*x_3^2*x_4^2*x_5 + 244*x_1^10*x_3^3*x_4^2*x_5 - 892*x_1^9*x_2*x_3^3*x_4^2*x_5 + 1148*x_1^8*x_2^2*x_3^3*x_4^2*x_5 - 776*x_1^7*x_2^3*x_3^3*x_4^2*x_5 + 452*x_1^6*x_2^4*x_3^3*x_4^2*x_5 - 388*x_1^5*x_2^5*x_3^3*x_4^2*x_5 + 452*x_1^4*x_2^6*x_3^3*x_4^2*x_5 - 776*x_1^3*x_2^7*x_3^3*x_4^2*x_5 + 1148*x_1^2*x_2^8*x_3^3*x_4^2*x_5 - 892*x_1*x_2^9*x_3^3*x_4^2*x_5 + 244*x_2^10*x_3^3*x_4^2*x_5 + 518*x_1^9*x_3^4*x_4^2*x_5 - 242*x_1^8*x_2*x_3^4*x_4^2*x_5 - 616*x_1^7*x_2^2*x_3^4*x_4^2*x_5 + 452*x_1^6*x_2^3*x_3^4*x_4^2*x_5 - 52*x_1^5*x_2^4*x_3^4*x_4^2*x_5 - 52*x_1^4*x_2^5*x_3^4*x_4^2*x_5 + 452*x_1^3*x_2^6*x_3^4*x_4^2*x_5 - 616*x_1^2*x_2^7*x_3^4*x_4^2*x_5 - 242*x_1*x_2^8*x_3^4*x_4^2*x_5 + 518*x_2^9*x_3^4*x_4^2*x_5 - 1188*x_1^8*x_3^5*x_4^2*x_5 + 1528*x_1^7*x_2*x_3^5*x_4^2*x_5 + 188*x_1^6*x_2^2*x_3^5*x_4^2*x_5 - 388*x_1^5*x_2^3*x_3^5*x_4^2*x_5 - 52*x_1^4*x_2^4*x_3^5*x_4^2*x_5 - 388*x_1^3*x_2^5*x_3^5*x_4^2*x_5 + 188*x_1^2*x_2^6*x_3^5*x_4^2*x_5 + 1528*x_1*x_2^7*x_3^5*x_4^2*x_5 - 1188*x_2^8*x_3^5*x_4^2*x_5 + 660*x_1^7*x_3^6*x_4^2*x_5 - 2072*x_1^6*x_2*x_3^6*x_4^2*x_5 + 188*x_1^5*x_2^2*x_3^6*x_4^2*x_5 + 452*x_1^4*x_2^3*x_3^6*x_4^2*x_5 + 452*x_1^3*x_2^4*x_3^6*x_4^2*x_5 + 188*x_1^2*x_2^5*x_3^6*x_4^2*x_5 - 2072*x_1*x_2^6*x_3^6*x_4^2*x_5 + 660*x_2^7*x_3^6*x_4^2*x_5 + 660*x_1^6*x_3^7*x_4^2*x_5 + 1528*x_1^5*x_2*x_3^7*x_4^2*x_5 - 616*x_1^4*x_2^2*x_3^7*x_4^2*x_5 - 776*x_1^3*x_2^3*x_3^7*x_4^2*x_5 - 616*x_1^2*x_2^4*x_3^7*x_4^2*x_5 + 1528*x_1*x_2^5*x_3^7*x_4^2*x_5 + 660*x_2^6*x_3^7*x_4^2*x_5 - 1188*x_1^5*x_3^8*x_4^2*x_5 - 242*x_1^4*x_2*x_3^8*x_4^2*x_5 + 1148*x_1^3*x_2^2*x_3^8*x_4^2*x_5 + 1148*x_1^2*x_2^3*x_3^8*x_4^2*x_5 - 242*x_1*x_2^4*x_3^8*x_4^2*x_5 - 1188*x_2^5*x_3^8*x_4^2*x_5 + 518*x_1^4*x_3^9*x_4^2*x_5 - 892*x_1^3*x_2*x_3^9*x_4^2*x_5 - 1492*x_1^2*x_2^2*x_3^9*x_4^2*x_5 - 892*x_1*x_2^3*x_3^9*x_4^2*x_5 + 518*x_2^4*x_3^9*x_4^2*x_5 + 244*x_1^3*x_3^10*x_4^2*x_5 + 1132*x_1^2*x_2*x_3^10*x_4^2*x_5 + 1132*x_1*x_2^2*x_3^10*x_4^2*x_5 + 244*x_2^3*x_3^10*x_4^2*x_5 - 360*x_1^2*x_3^11*x_4^2*x_5 - 636*x_1*x_2*x_3^11*x_4^2*x_5 - 360*x_2^2*x_3^11*x_4^2*x_5 + 146*x_1*x_3^12*x_4^2*x_5 + 146*x_2*x_3^12*x_4^2*x_5 - 20*x_3^13*x_4^2*x_5 - 60*x_1^12*x_4^3*x_5 + 108*x_1^11*x_2*x_4^3*x_5 + 244*x_1^10*x_2^2*x_4^3*x_5 - 812*x_1^9*x_2^3*x_4^3*x_5 + 546*x_1^8*x_2^4*x_4^3*x_5 + 704*x_1^7*x_2^5*x_4^3*x_5 - 1460*x_1^6*x_2^6*x_4^3*x_5 + 704*x_1^5*x_2^7*x_4^3*x_5 + 546*x_1^4*x_2^8*x_4^3*x_5 - 812*x_1^3*x_2^9*x_4^3*x_5 + 244*x_1^2*x_2^10*x_4^3*x_5 + 108*x_1*x_2^11*x_4^3*x_5 - 60*x_2^12*x_4^3*x_5 + 108*x_1^11*x_3*x_4^3*x_5 + 68*x_1^10*x_2*x_3*x_4^3*x_5 - 892*x_1^9*x_2^2*x_3*x_4^3*x_5 + 1468*x_1^8*x_2^3*x_3*x_4^3*x_5 - 1080*x_1^7*x_2^4*x_3*x_4^3*x_5 + 328*x_1^6*x_2^5*x_3*x_4^3*x_5 + 328*x_1^5*x_2^6*x_3*x_4^3*x_5 - 1080*x_1^4*x_2^7*x_3*x_4^3*x_5 + 1468*x_1^3*x_2^8*x_3*x_4^3*x_5 - 892*x_1^2*x_2^9*x_3*x_4^3*x_5 + 68*x_1*x_2^10*x_3*x_4^3*x_5 + 108*x_2^11*x_3*x_4^3*x_5 + 244*x_1^10*x_3^2*x_4^3*x_5 - 892*x_1^9*x_2*x_3^2*x_4^3*x_5 + 1148*x_1^8*x_2^2*x_3^2*x_4^3*x_5 - 776*x_1^7*x_2^3*x_3^2*x_4^3*x_5 + 452*x_1^6*x_2^4*x_3^2*x_4^3*x_5 - 388*x_1^5*x_2^5*x_3^2*x_4^3*x_5 + 452*x_1^4*x_2^6*x_3^2*x_4^3*x_5 - 776*x_1^3*x_2^7*x_3^2*x_4^3*x_5 + 1148*x_1^2*x_2^8*x_3^2*x_4^3*x_5 - 892*x_1*x_2^9*x_3^2*x_4^3*x_5 + 244*x_2^10*x_3^2*x_4^3*x_5 - 812*x_1^9*x_3^3*x_4^3*x_5 + 1468*x_1^8*x_2*x_3^3*x_4^3*x_5 - 776*x_1^7*x_2^2*x_3^3*x_4^3*x_5 + 168*x_1^6*x_2^3*x_3^3*x_4^3*x_5 - 28*x_1^5*x_2^4*x_3^3*x_4^3*x_5 - 28*x_1^4*x_2^5*x_3^3*x_4^3*x_5 + 168*x_1^3*x_2^6*x_3^3*x_4^3*x_5 - 776*x_1^2*x_2^7*x_3^3*x_4^3*x_5 + 1468*x_1*x_2^8*x_3^3*x_4^3*x_5 - 812*x_2^9*x_3^3*x_4^3*x_5 + 546*x_1^8*x_3^4*x_4^3*x_5 - 1080*x_1^7*x_2*x_3^4*x_4^3*x_5 + 452*x_1^6*x_2^2*x_3^4*x_4^3*x_5 - 28*x_1^5*x_2^3*x_3^4*x_4^3*x_5 - 28*x_1^3*x_2^5*x_3^4*x_4^3*x_5 + 452*x_1^2*x_2^6*x_3^4*x_4^3*x_5 - 1080*x_1*x_2^7*x_3^4*x_4^3*x_5 + 546*x_2^8*x_3^4*x_4^3*x_5 + 704*x_1^7*x_3^5*x_4^3*x_5 + 328*x_1^6*x_2*x_3^5*x_4^3*x_5 - 388*x_1^5*x_2^2*x_3^5*x_4^3*x_5 - 28*x_1^4*x_2^3*x_3^5*x_4^3*x_5 - 28*x_1^3*x_2^4*x_3^5*x_4^3*x_5 - 388*x_1^2*x_2^5*x_3^5*x_4^3*x_5 + 328*x_1*x_2^6*x_3^5*x_4^3*x_5 + 704*x_2^7*x_3^5*x_4^3*x_5 - 1460*x_1^6*x_3^6*x_4^3*x_5 + 328*x_1^5*x_2*x_3^6*x_4^3*x_5 + 452*x_1^4*x_2^2*x_3^6*x_4^3*x_5 + 168*x_1^3*x_2^3*x_3^6*x_4^3*x_5 + 452*x_1^2*x_2^4*x_3^6*x_4^3*x_5 + 328*x_1*x_2^5*x_3^6*x_4^3*x_5 - 1460*x_2^6*x_3^6*x_4^3*x_5 + 704*x_1^5*x_3^7*x_4^3*x_5 - 1080*x_1^4*x_2*x_3^7*x_4^3*x_5 - 776*x_1^3*x_2^2*x_3^7*x_4^3*x_5 - 776*x_1^2*x_2^3*x_3^7*x_4^3*x_5 - 1080*x_1*x_2^4*x_3^7*x_4^3*x_5 + 704*x_2^5*x_3^7*x_4^3*x_5 + 546*x_1^4*x_3^8*x_4^3*x_5 + 1468*x_1^3*x_2*x_3^8*x_4^3*x_5 + 1148*x_1^2*x_2^2*x_3^8*x_4^3*x_5 + 1468*x_1*x_2^3*x_3^8*x_4^3*x_5 + 546*x_2^4*x_3^8*x_4^3*x_5 - 812*x_1^3*x_3^9*x_4^3*x_5 - 892*x_1^2*x_2*x_3^9*x_4^3*x_5 - 892*x_1*x_2^2*x_3^9*x_4^3*x_5 - 812*x_2^3*x_3^9*x_4^3*x_5 + 244*x_1^2*x_3^10*x_4^3*x_5 + 68*x_1*x_2*x_3^10*x_4^3*x_5 + 244*x_2^2*x_3^10*x_4^3*x_5 + 108*x_1*x_3^11*x_4^3*x_5 + 108*x_2*x_3^11*x_4^3*x_5 - 60*x_3^12*x_4^3*x_5 + 140*x_1^11*x_4^4*x_5 - 558*x_1^10*x_2*x_4^4*x_5 + 518*x_1^9*x_2^2*x_4^4*x_5 + 546*x_1^8*x_2^3*x_4^4*x_5 - 1396*x_1^7*x_2^4*x_4^4*x_5 + 750*x_1^6*x_2^5*x_4^4*x_5 + 750*x_1^5*x_2^6*x_4^4*x_5 - 1396*x_1^4*x_2^7*x_4^4*x_5 + 546*x_1^3*x_2^8*x_4^4*x_5 + 518*x_1^2*x_2^9*x_4^4*x_5 - 558*x_1*x_2^10*x_4^4*x_5 + 140*x_2^11*x_4^4*x_5 - 558*x_1^10*x_3*x_4^4*x_5 + 1168*x_1^9*x_2*x_3*x_4^4*x_5 - 242*x_1^8*x_2^2*x_3*x_4^4*x_5 - 1080*x_1^7*x_2^3*x_3*x_4^4*x_5 + 1028*x_1^6*x_2^4*x_3*x_4^4*x_5 - 596*x_1^5*x_2^5*x_3*x_4^4*x_5 + 1028*x_1^4*x_2^6*x_3*x_4^4*x_5 - 1080*x_1^3*x_2^7*x_3*x_4^4*x_5 - 242*x_1^2*x_2^8*x_3*x_4^4*x_5 + 1168*x_1*x_2^9*x_3*x_4^4*x_5 - 558*x_2^10*x_3*x_4^4*x_5 + 518*x_1^9*x_3^2*x_4^4*x_5 - 242*x_1^8*x_2*x_3^2*x_4^4*x_5 - 616*x_1^7*x_2^2*x_3^2*x_4^4*x_5 + 452*x_1^6*x_2^3*x_3^2*x_4^4*x_5 - 52*x_1^5*x_2^4*x_3^2*x_4^4*x_5 - 52*x_1^4*x_2^5*x_3^2*x_4^4*x_5 + 452*x_1^3*x_2^6*x_3^2*x_4^4*x_5 - 616*x_1^2*x_2^7*x_3^2*x_4^4*x_5 - 242*x_1*x_2^8*x_3^2*x_4^4*x_5 + 518*x_2^9*x_3^2*x_4^4*x_5 + 546*x_1^8*x_3^3*x_4^4*x_5 - 1080*x_1^7*x_2*x_3^3*x_4^4*x_5 + 452*x_1^6*x_2^2*x_3^3*x_4^4*x_5 - 28*x_1^5*x_2^3*x_3^3*x_4^4*x_5 - 28*x_1^3*x_2^5*x_3^3*x_4^4*x_5 + 452*x_1^2*x_2^6*x_3^3*x_4^4*x_5 - 1080*x_1*x_2^7*x_3^3*x_4^4*x_5 + 546*x_2^8*x_3^3*x_4^4*x_5 - 1396*x_1^7*x_3^4*x_4^4*x_5 + 1028*x_1^6*x_2*x_3^4*x_4^4*x_5 - 52*x_1^5*x_2^2*x_3^4*x_4^4*x_5 - 52*x_1^2*x_2^5*x_3^4*x_4^4*x_5 + 1028*x_1*x_2^6*x_3^4*x_4^4*x_5 - 1396*x_2^7*x_3^4*x_4^4*x_5 + 750*x_1^6*x_3^5*x_4^4*x_5 - 596*x_1^5*x_2*x_3^5*x_4^4*x_5 - 52*x_1^4*x_2^2*x_3^5*x_4^4*x_5 - 28*x_1^3*x_2^3*x_3^5*x_4^4*x_5 - 52*x_1^2*x_2^4*x_3^5*x_4^4*x_5 - 596*x_1*x_2^5*x_3^5*x_4^4*x_5 + 750*x_2^6*x_3^5*x_4^4*x_5 + 750*x_1^5*x_3^6*x_4^4*x_5 + 1028*x_1^4*x_2*x_3^6*x_4^4*x_5 + 452*x_1^3*x_2^2*x_3^6*x_4^4*x_5 + 452*x_1^2*x_2^3*x_3^6*x_4^4*x_5 + 1028*x_1*x_2^4*x_3^6*x_4^4*x_5 + 750*x_2^5*x_3^6*x_4^4*x_5 - 1396*x_1^4*x_3^7*x_4^4*x_5 - 1080*x_1^3*x_2*x_3^7*x_4^4*x_5 - 616*x_1^2*x_2^2*x_3^7*x_4^4*x_5 - 1080*x_1*x_2^3*x_3^7*x_4^4*x_5 - 1396*x_2^4*x_3^7*x_4^4*x_5 + 546*x_1^3*x_3^8*x_4^4*x_5 - 242*x_1^2*x_2*x_3^8*x_4^4*x_5 - 242*x_1*x_2^2*x_3^8*x_4^4*x_5 + 546*x_2^3*x_3^8*x_4^4*x_5 + 518*x_1^2*x_3^9*x_4^4*x_5 + 1168*x_1*x_2*x_3^9*x_4^4*x_5 + 518*x_2^2*x_3^9*x_4^4*x_5 - 558*x_1*x_3^10*x_4^4*x_5 - 558*x_2*x_3^10*x_4^4*x_5 + 140*x_3^11*x_4^4*x_5 + 4*x_1^10*x_4^5*x_5 + 468*x_1^9*x_2*x_4^5*x_5 - 1188*x_1^8*x_2^2*x_4^5*x_5 + 704*x_1^7*x_2^3*x_4^5*x_5 + 750*x_1^6*x_2^4*x_4^5*x_5 - 1512*x_1^5*x_2^5*x_4^5*x_5 + 750*x_1^4*x_2^6*x_4^5*x_5 + 704*x_1^3*x_2^7*x_4^5*x_5 - 1188*x_1^2*x_2^8*x_4^5*x_5 + 468*x_1*x_2^9*x_4^5*x_5 + 4*x_2^10*x_4^5*x_5 + 468*x_1^9*x_3*x_4^5*x_5 - 1812*x_1^8*x_2*x_3*x_4^5*x_5 + 1528*x_1^7*x_2^2*x_3*x_4^5*x_5 + 328*x_1^6*x_2^3*x_3*x_4^5*x_5 - 596*x_1^5*x_2^4*x_3*x_4^5*x_5 - 596*x_1^4*x_2^5*x_3*x_4^5*x_5 + 328*x_1^3*x_2^6*x_3*x_4^5*x_5 + 1528*x_1^2*x_2^7*x_3*x_4^5*x_5 - 1812*x_1*x_2^8*x_3*x_4^5*x_5 + 468*x_2^9*x_3*x_4^5*x_5 - 1188*x_1^8*x_3^2*x_4^5*x_5 + 1528*x_1^7*x_2*x_3^2*x_4^5*x_5 + 188*x_1^6*x_2^2*x_3^2*x_4^5*x_5 - 388*x_1^5*x_2^3*x_3^2*x_4^5*x_5 - 52*x_1^4*x_2^4*x_3^2*x_4^5*x_5 - 388*x_1^3*x_2^5*x_3^2*x_4^5*x_5 + 188*x_1^2*x_2^6*x_3^2*x_4^5*x_5 + 1528*x_1*x_2^7*x_3^2*x_4^5*x_5 - 1188*x_2^8*x_3^2*x_4^5*x_5 + 704*x_1^7*x_3^3*x_4^5*x_5 + 328*x_1^6*x_2*x_3^3*x_4^5*x_5 - 388*x_1^5*x_2^2*x_3^3*x_4^5*x_5 - 28*x_1^4*x_2^3*x_3^3*x_4^5*x_5 - 28*x_1^3*x_2^4*x_3^3*x_4^5*x_5 - 388*x_1^2*x_2^5*x_3^3*x_4^5*x_5 + 328*x_1*x_2^6*x_3^3*x_4^5*x_5 + 704*x_2^7*x_3^3*x_4^5*x_5 + 750*x_1^6*x_3^4*x_4^5*x_5 - 596*x_1^5*x_2*x_3^4*x_4^5*x_5 - 52*x_1^4*x_2^2*x_3^4*x_4^5*x_5 - 28*x_1^3*x_2^3*x_3^4*x_4^5*x_5 - 52*x_1^2*x_2^4*x_3^4*x_4^5*x_5 - 596*x_1*x_2^5*x_3^4*x_4^5*x_5 + 750*x_2^6*x_3^4*x_4^5*x_5 - 1512*x_1^5*x_3^5*x_4^5*x_5 - 596*x_1^4*x_2*x_3^5*x_4^5*x_5 - 388*x_1^3*x_2^2*x_3^5*x_4^5*x_5 - 388*x_1^2*x_2^3*x_3^5*x_4^5*x_5 - 596*x_1*x_2^4*x_3^5*x_4^5*x_5 - 1512*x_2^5*x_3^5*x_4^5*x_5 + 750*x_1^4*x_3^6*x_4^5*x_5 + 328*x_1^3*x_2*x_3^6*x_4^5*x_5 + 188*x_1^2*x_2^2*x_3^6*x_4^5*x_5 + 328*x_1*x_2^3*x_3^6*x_4^5*x_5 + 750*x_2^4*x_3^6*x_4^5*x_5 + 704*x_1^3*x_3^7*x_4^5*x_5 + 1528*x_1^2*x_2*x_3^7*x_4^5*x_5 + 1528*x_1*x_2^2*x_3^7*x_4^5*x_5 + 704*x_2^3*x_3^7*x_4^5*x_5 - 1188*x_1^2*x_3^8*x_4^5*x_5 - 1812*x_1*x_2*x_3^8*x_4^5*x_5 - 1188*x_2^2*x_3^8*x_4^5*x_5 + 468*x_1*x_3^9*x_4^5*x_5 + 468*x_2*x_3^9*x_4^5*x_5 + 4*x_3^10*x_4^5*x_5 - 260*x_1^9*x_4^6*x_5 + 392*x_1^8*x_2*x_4^6*x_5 + 660*x_1^7*x_2^2*x_4^6*x_5 - 1460*x_1^6*x_2^3*x_4^6*x_5 + 750*x_1^5*x_2^4*x_4^6*x_5 + 750*x_1^4*x_2^5*x_4^6*x_5 - 1460*x_1^3*x_2^6*x_4^6*x_5 + 660*x_1^2*x_2^7*x_4^6*x_5 + 392*x_1*x_2^8*x_4^6*x_5 - 260*x_2^9*x_4^6*x_5 + 392*x_1^8*x_3*x_4^6*x_5 + 888*x_1^7*x_2*x_3*x_4^6*x_5 - 2072*x_1^6*x_2^2*x_3*x_4^6*x_5 + 328*x_1^5*x_2^3*x_3*x_4^6*x_5 + 1028*x_1^4*x_2^4*x_3*x_4^6*x_5 + 328*x_1^3*x_2^5*x_3*x_4^6*x_5 - 2072*x_1^2*x_2^6*x_3*x_4^6*x_5 + 888*x_1*x_2^7*x_3*x_4^6*x_5 + 392*x_2^8*x_3*x_4^6*x_5 + 660*x_1^7*x_3^2*x_4^6*x_5 - 2072*x_1^6*x_2*x_3^2*x_4^6*x_5 + 188*x_1^5*x_2^2*x_3^2*x_4^6*x_5 + 452*x_1^4*x_2^3*x_3^2*x_4^6*x_5 + 452*x_1^3*x_2^4*x_3^2*x_4^6*x_5 + 188*x_1^2*x_2^5*x_3^2*x_4^6*x_5 - 2072*x_1*x_2^6*x_3^2*x_4^6*x_5 + 660*x_2^7*x_3^2*x_4^6*x_5 - 1460*x_1^6*x_3^3*x_4^6*x_5 + 328*x_1^5*x_2*x_3^3*x_4^6*x_5 + 452*x_1^4*x_2^2*x_3^3*x_4^6*x_5 + 168*x_1^3*x_2^3*x_3^3*x_4^6*x_5 + 452*x_1^2*x_2^4*x_3^3*x_4^6*x_5 + 328*x_1*x_2^5*x_3^3*x_4^6*x_5 - 1460*x_2^6*x_3^3*x_4^6*x_5 + 750*x_1^5*x_3^4*x_4^6*x_5 + 1028*x_1^4*x_2*x_3^4*x_4^6*x_5 + 452*x_1^3*x_2^2*x_3^4*x_4^6*x_5 + 452*x_1^2*x_2^3*x_3^4*x_4^6*x_5 + 1028*x_1*x_2^4*x_3^4*x_4^6*x_5 + 750*x_2^5*x_3^4*x_4^6*x_5 + 750*x_1^4*x_3^5*x_4^6*x_5 + 328*x_1^3*x_2*x_3^5*x_4^6*x_5 + 188*x_1^2*x_2^2*x_3^5*x_4^6*x_5 + 328*x_1*x_2^3*x_3^5*x_4^6*x_5 + 750*x_2^4*x_3^5*x_4^6*x_5 - 1460*x_1^3*x_3^6*x_4^6*x_5 - 2072*x_1^2*x_2*x_3^6*x_4^6*x_5 - 2072*x_1*x_2^2*x_3^6*x_4^6*x_5 - 1460*x_2^3*x_3^6*x_4^6*x_5 + 660*x_1^2*x_3^7*x_4^6*x_5 + 888*x_1*x_2*x_3^7*x_4^6*x_5 + 660*x_2^2*x_3^7*x_4^6*x_5 + 392*x_1*x_3^8*x_4^6*x_5 + 392*x_2*x_3^8*x_4^6*x_5 - 260*x_3^9*x_4^6*x_5 + 180*x_1^8*x_4^7*x_5 - 952*x_1^7*x_2*x_4^7*x_5 + 660*x_1^6*x_2^2*x_4^7*x_5 + 704*x_1^5*x_2^3*x_4^7*x_5 - 1396*x_1^4*x_2^4*x_4^7*x_5 + 704*x_1^3*x_2^5*x_4^7*x_5 + 660*x_1^2*x_2^6*x_4^7*x_5 - 952*x_1*x_2^7*x_4^7*x_5 + 180*x_2^8*x_4^7*x_5 - 952*x_1^7*x_3*x_4^7*x_5 + 888*x_1^6*x_2*x_3*x_4^7*x_5 + 1528*x_1^5*x_2^2*x_3*x_4^7*x_5 - 1080*x_1^4*x_2^3*x_3*x_4^7*x_5 - 1080*x_1^3*x_2^4*x_3*x_4^7*x_5 + 1528*x_1^2*x_2^5*x_3*x_4^7*x_5 + 888*x_1*x_2^6*x_3*x_4^7*x_5 - 952*x_2^7*x_3*x_4^7*x_5 + 660*x_1^6*x_3^2*x_4^7*x_5 + 1528*x_1^5*x_2*x_3^2*x_4^7*x_5 - 616*x_1^4*x_2^2*x_3^2*x_4^7*x_5 - 776*x_1^3*x_2^3*x_3^2*x_4^7*x_5 - 616*x_1^2*x_2^4*x_3^2*x_4^7*x_5 + 1528*x_1*x_2^5*x_3^2*x_4^7*x_5 + 660*x_2^6*x_3^2*x_4^7*x_5 + 704*x_1^5*x_3^3*x_4^7*x_5 - 1080*x_1^4*x_2*x_3^3*x_4^7*x_5 - 776*x_1^3*x_2^2*x_3^3*x_4^7*x_5 - 776*x_1^2*x_2^3*x_3^3*x_4^7*x_5 - 1080*x_1*x_2^4*x_3^3*x_4^7*x_5 + 704*x_2^5*x_3^3*x_4^7*x_5 - 1396*x_1^4*x_3^4*x_4^7*x_5 - 1080*x_1^3*x_2*x_3^4*x_4^7*x_5 - 616*x_1^2*x_2^2*x_3^4*x_4^7*x_5 - 1080*x_1*x_2^3*x_3^4*x_4^7*x_5 - 1396*x_2^4*x_3^4*x_4^7*x_5 + 704*x_1^3*x_3^5*x_4^7*x_5 + 1528*x_1^2*x_2*x_3^5*x_4^7*x_5 + 1528*x_1*x_2^2*x_3^5*x_4^7*x_5 + 704*x_2^3*x_3^5*x_4^7*x_5 + 660*x_1^2*x_3^6*x_4^7*x_5 + 888*x_1*x_2*x_3^6*x_4^7*x_5 + 660*x_2^2*x_3^6*x_4^7*x_5 - 952*x_1*x_3^7*x_4^7*x_5 - 952*x_2*x_3^7*x_4^7*x_5 + 180*x_3^8*x_4^7*x_5 + 180*x_1^7*x_4^8*x_5 + 392*x_1^6*x_2*x_4^8*x_5 - 1188*x_1^5*x_2^2*x_4^8*x_5 + 546*x_1^4*x_2^3*x_4^8*x_5 + 546*x_1^3*x_2^4*x_4^8*x_5 - 1188*x_1^2*x_2^5*x_4^8*x_5 + 392*x_1*x_2^6*x_4^8*x_5 + 180*x_2^7*x_4^8*x_5 + 392*x_1^6*x_3*x_4^8*x_5 - 1812*x_1^5*x_2*x_3*x_4^8*x_5 - 242*x_1^4*x_2^2*x_3*x_4^8*x_5 + 1468*x_1^3*x_2^3*x_3*x_4^8*x_5 - 242*x_1^2*x_2^4*x_3*x_4^8*x_5 - 1812*x_1*x_2^5*x_3*x_4^8*x_5 + 392*x_2^6*x_3*x_4^8*x_5 - 1188*x_1^5*x_3^2*x_4^8*x_5 - 242*x_1^4*x_2*x_3^2*x_4^8*x_5 + 1148*x_1^3*x_2^2*x_3^2*x_4^8*x_5 + 1148*x_1^2*x_2^3*x_3^2*x_4^8*x_5 - 242*x_1*x_2^4*x_3^2*x_4^8*x_5 - 1188*x_2^5*x_3^2*x_4^8*x_5 + 546*x_1^4*x_3^3*x_4^8*x_5 + 1468*x_1^3*x_2*x_3^3*x_4^8*x_5 + 1148*x_1^2*x_2^2*x_3^3*x_4^8*x_5 + 1468*x_1*x_2^3*x_3^3*x_4^8*x_5 + 546*x_2^4*x_3^3*x_4^8*x_5 + 546*x_1^3*x_3^4*x_4^8*x_5 - 242*x_1^2*x_2*x_3^4*x_4^8*x_5 - 242*x_1*x_2^2*x_3^4*x_4^8*x_5 + 546*x_2^3*x_3^4*x_4^8*x_5 - 1188*x_1^2*x_3^5*x_4^8*x_5 - 1812*x_1*x_2*x_3^5*x_4^8*x_5 - 1188*x_2^2*x_3^5*x_4^8*x_5 + 392*x_1*x_3^6*x_4^8*x_5 + 392*x_2*x_3^6*x_4^8*x_5 + 180*x_3^7*x_4^8*x_5 - 260*x_1^6*x_4^9*x_5 + 468*x_1^5*x_2*x_4^9*x_5 + 518*x_1^4*x_2^2*x_4^9*x_5 - 812*x_1^3*x_2^3*x_4^9*x_5 + 518*x_1^2*x_2^4*x_4^9*x_5 + 468*x_1*x_2^5*x_4^9*x_5 - 260*x_2^6*x_4^9*x_5 + 468*x_1^5*x_3*x_4^9*x_5 + 1168*x_1^4*x_2*x_3*x_4^9*x_5 - 892*x_1^3*x_2^2*x_3*x_4^9*x_5 - 892*x_1^2*x_2^3*x_3*x_4^9*x_5 + 1168*x_1*x_2^4*x_3*x_4^9*x_5 + 468*x_2^5*x_3*x_4^9*x_5 + 518*x_1^4*x_3^2*x_4^9*x_5 - 892*x_1^3*x_2*x_3^2*x_4^9*x_5 - 1492*x_1^2*x_2^2*x_3^2*x_4^9*x_5 - 892*x_1*x_2^3*x_3^2*x_4^9*x_5 + 518*x_2^4*x_3^2*x_4^9*x_5 - 812*x_1^3*x_3^3*x_4^9*x_5 - 892*x_1^2*x_2*x_3^3*x_4^9*x_5 - 892*x_1*x_2^2*x_3^3*x_4^9*x_5 - 812*x_2^3*x_3^3*x_4^9*x_5 + 518*x_1^2*x_3^4*x_4^9*x_5 + 1168*x_1*x_2*x_3^4*x_4^9*x_5 + 518*x_2^2*x_3^4*x_4^9*x_5 + 468*x_1*x_3^5*x_4^9*x_5 + 468*x_2*x_3^5*x_4^9*x_5 - 260*x_3^6*x_4^9*x_5 + 4*x_1^5*x_4^10*x_5 - 558*x_1^4*x_2*x_4^10*x_5 + 244*x_1^3*x_2^2*x_4^10*x_5 + 244*x_1^2*x_2^3*x_4^10*x_5 - 558*x_1*x_2^4*x_4^10*x_5 + 4*x_2^5*x_4^10*x_5 - 558*x_1^4*x_3*x_4^10*x_5 + 68*x_1^3*x_2*x_3*x_4^10*x_5 + 1132*x_1^2*x_2^2*x_3*x_4^10*x_5 + 68*x_1*x_2^3*x_3*x_4^10*x_5 - 558*x_2^4*x_3*x_4^10*x_5 + 244*x_1^3*x_3^2*x_4^10*x_5 + 1132*x_1^2*x_2*x_3^2*x_4^10*x_5 + 1132*x_1*x_2^2*x_3^2*x_4^10*x_5 + 244*x_2^3*x_3^2*x_4^10*x_5 + 244*x_1^2*x_3^3*x_4^10*x_5 + 68*x_1*x_2*x_3^3*x_4^10*x_5 + 244*x_2^2*x_3^3*x_4^10*x_5 - 558*x_1*x_3^4*x_4^10*x_5 - 558*x_2*x_3^4*x_4^10*x_5 + 4*x_3^5*x_4^10*x_5 + 140*x_1^4*x_4^11*x_5 + 108*x_1^3*x_2*x_4^11*x_5 - 360*x_1^2*x_2^2*x_4^11*x_5 + 108*x_1*x_2^3*x_4^11*x_5 + 140*x_2^4*x_4^11*x_5 + 108*x_1^3*x_3*x_4^11*x_5 - 636*x_1^2*x_2*x_3*x_4^11*x_5 - 636*x_1*x_2^2*x_3*x_4^11*x_5 + 108*x_2^3*x_3*x_4^11*x_5 - 360*x_1^2*x_3^2*x_4^11*x_5 - 636*x_1*x_2*x_3^2*x_4^11*x_5 - 360*x_2^2*x_3^2*x_4^11*x_5 + 108*x_1*x_3^3*x_4^11*x_5 + 108*x_2*x_3^3*x_4^11*x_5 + 140*x_3^4*x_4^11*x_5 - 60*x_1^3*x_4^12*x_5 + 146*x_1^2*x_2*x_4^12*x_5 + 146*x_1*x_2^2*x_4^12*x_5 - 60*x_2^3*x_4^12*x_5 + 146*x_1^2*x_3*x_4^12*x_5 + 424*x_1*x_2*x_3*x_4^12*x_5 + 146*x_2^2*x_3*x_4^12*x_5 + 146*x_1*x_3^2*x_4^12*x_5 + 146*x_2*x_3^2*x_4^12*x_5 - 60*x_3^3*x_4^12*x_5 - 20*x_1^2*x_4^13*x_5 - 100*x_1*x_2*x_4^13*x_5 - 20*x_2^2*x_4^13*x_5 - 100*x_1*x_3*x_4^13*x_5 - 100*x_2*x_3*x_4^13*x_5 - 20*x_3^2*x_4^13*x_5 + 20*x_1*x_4^14*x_5 + 20*x_2*x_4^14*x_5 + 20*x_3*x_4^14*x_5 - 4*x_4^15*x_5 - 20*x_1^13*x_2*x_5^2 + 74*x_1^12*x_2^2*x_5^2 - 28*x_1^11*x_2^3*x_5^2 - 222*x_1^10*x_2^4*x_5^2 + 292*x_1^9*x_2^5*x_5^2 + 148*x_1^8*x_2^6*x_5^2 - 488*x_1^7*x_2^7*x_5^2 + 148*x_1^6*x_2^8*x_5^2 + 292*x_1^5*x_2^9*x_5^2 - 222*x_1^4*x_2^10*x_5^2 - 28*x_1^3*x_2^11*x_5^2 + 74*x_1^2*x_2^12*x_5^2 - 20*x_1*x_2^13*x_5^2 - 20*x_1^13*x_3*x_5^2 + 146*x_1^12*x_2*x_3*x_5^2 - 360*x_1^11*x_2^2*x_3*x_5^2 + 244*x_1^10*x_2^3*x_3*x_5^2 + 518*x_1^9*x_2^4*x_3*x_5^2 - 1188*x_1^8*x_2^5*x_3*x_5^2 + 660*x_1^7*x_2^6*x_3*x_5^2 + 660*x_1^6*x_2^7*x_3*x_5^2 - 1188*x_1^5*x_2^8*x_3*x_5^2 + 518*x_1^4*x_2^9*x_3*x_5^2 + 244*x_1^3*x_2^10*x_3*x_5^2 - 360*x_1^2*x_2^11*x_3*x_5^2 + 146*x_1*x_2^12*x_3*x_5^2 - 20*x_2^13*x_3*x_5^2 + 74*x_1^12*x_3^2*x_5^2 - 360*x_1^11*x_2*x_3^2*x_5^2 + 682*x_1^10*x_2^2*x_3^2*x_5^2 - 592*x_1^9*x_2^3*x_3^2*x_5^2 - 59*x_1^8*x_2^4*x_3^2*x_5^2 + 952*x_1^7*x_2^5*x_3^2*x_5^2 - 1394*x_1^6*x_2^6*x_3^2*x_5^2 + 952*x_1^5*x_2^7*x_3^2*x_5^2 - 59*x_1^4*x_2^8*x_3^2*x_5^2 - 592*x_1^3*x_2^9*x_3^2*x_5^2 + 682*x_1^2*x_2^10*x_3^2*x_5^2 - 360*x_1*x_2^11*x_3^2*x_5^2 + 74*x_2^12*x_3^2*x_5^2 - 28*x_1^11*x_3^3*x_5^2 + 244*x_1^10*x_2*x_3^3*x_5^2 - 592*x_1^9*x_2^2*x_3^3*x_5^2 + 736*x_1^8*x_2^3*x_3^3*x_5^2 - 612*x_1^7*x_2^4*x_3^3*x_5^2 + 252*x_1^6*x_2^5*x_3^3*x_5^2 + 252*x_1^5*x_2^6*x_3^3*x_5^2 - 612*x_1^4*x_2^7*x_3^3*x_5^2 + 736*x_1^3*x_2^8*x_3^3*x_5^2 - 592*x_1^2*x_2^9*x_3^3*x_5^2 + 244*x_1*x_2^10*x_3^3*x_5^2 - 28*x_2^11*x_3^3*x_5^2 - 222*x_1^10*x_3^4*x_5^2 + 518*x_1^9*x_2*x_3^4*x_5^2 - 59*x_1^8*x_2^2*x_3^4*x_5^2 - 612*x_1^7*x_2^3*x_3^4*x_5^2 + 622*x_1^6*x_2^4*x_3^4*x_5^2 - 422*x_1^5*x_2^5*x_3^4*x_5^2 + 622*x_1^4*x_2^6*x_3^4*x_5^2 - 612*x_1^3*x_2^7*x_3^4*x_5^2 - 59*x_1^2*x_2^8*x_3^4*x_5^2 + 518*x_1*x_2^9*x_3^4*x_5^2 - 222*x_2^10*x_3^4*x_5^2 + 292*x_1^9*x_3^5*x_5^2 - 1188*x_1^8*x_2*x_3^5*x_5^2 + 952*x_1^7*x_2^2*x_3^5*x_5^2 + 252*x_1^6*x_2^3*x_3^5*x_5^2 - 422*x_1^5*x_2^4*x_3^5*x_5^2 - 422*x_1^4*x_2^5*x_3^5*x_5^2 + 252*x_1^3*x_2^6*x_3^5*x_5^2 + 952*x_1^2*x_2^7*x_3^5*x_5^2 - 1188*x_1*x_2^8*x_3^5*x_5^2 + 292*x_2^9*x_3^5*x_5^2 + 148*x_1^8*x_3^6*x_5^2 + 660*x_1^7*x_2*x_3^6*x_5^2 - 1394*x_1^6*x_2^2*x_3^6*x_5^2 + 252*x_1^5*x_2^3*x_3^6*x_5^2 + 622*x_1^4*x_2^4*x_3^6*x_5^2 + 252*x_1^3*x_2^5*x_3^6*x_5^2 - 1394*x_1^2*x_2^6*x_3^6*x_5^2 + 660*x_1*x_2^7*x_3^6*x_5^2 + 148*x_2^8*x_3^6*x_5^2 - 488*x_1^7*x_3^7*x_5^2 + 660*x_1^6*x_2*x_3^7*x_5^2 + 952*x_1^5*x_2^2*x_3^7*x_5^2 - 612*x_1^4*x_2^3*x_3^7*x_5^2 - 612*x_1^3*x_2^4*x_3^7*x_5^2 + 952*x_1^2*x_2^5*x_3^7*x_5^2 + 660*x_1*x_2^6*x_3^7*x_5^2 - 488*x_2^7*x_3^7*x_5^2 + 148*x_1^6*x_3^8*x_5^2 - 1188*x_1^5*x_2*x_3^8*x_5^2 - 59*x_1^4*x_2^2*x_3^8*x_5^2 + 736*x_1^3*x_2^3*x_3^8*x_5^2 - 59*x_1^2*x_2^4*x_3^8*x_5^2 - 1188*x_1*x_2^5*x_3^8*x_5^2 + 148*x_2^6*x_3^8*x_5^2 + 292*x_1^5*x_3^9*x_5^2 + 518*x_1^4*x_2*x_3^9*x_5^2 - 592*x_1^3*x_2^2*x_3^9*x_5^2 - 592*x_1^2*x_2^3*x_3^9*x_5^2 + 518*x_1*x_2^4*x_3^9*x_5^2 + 292*x_2^5*x_3^9*x_5^2 - 222*x_1^4*x_3^10*x_5^2 + 244*x_1^3*x_2*x_3^10*x_5^2 + 682*x_1^2*x_2^2*x_3^10*x_5^2 + 244*x_1*x_2^3*x_3^10*x_5^2 - 222*x_2^4*x_3^10*x_5^2 - 28*x_1^3*x_3^11*x_5^2 - 360*x_1^2*x_2*x_3^11*x_5^2 - 360*x_1*x_2^2*x_3^11*x_5^2 - 28*x_2^3*x_3^11*x_5^2 + 74*x_1^2*x_3^12*x_5^2 + 146*x_1*x_2*x_3^12*x_5^2 + 74*x_2^2*x_3^12*x_5^2 - 20*x_1*x_3^13*x_5^2 - 20*x_2*x_3^13*x_5^2 - 20*x_1^13*x_4*x_5^2 + 146*x_1^12*x_2*x_4*x_5^2 - 360*x_1^11*x_2^2*x_4*x_5^2 + 244*x_1^10*x_2^3*x_4*x_5^2 + 518*x_1^9*x_2^4*x_4*x_5^2 - 1188*x_1^8*x_2^5*x_4*x_5^2 + 660*x_1^7*x_2^6*x_4*x_5^2 + 660*x_1^6*x_2^7*x_4*x_5^2 - 1188*x_1^5*x_2^8*x_4*x_5^2 + 518*x_1^4*x_2^9*x_4*x_5^2 + 244*x_1^3*x_2^10*x_4*x_5^2 - 360*x_1^2*x_2^11*x_4*x_5^2 + 146*x_1*x_2^12*x_4*x_5^2 - 20*x_2^13*x_4*x_5^2 + 146*x_1^12*x_3*x_4*x_5^2 - 636*x_1^11*x_2*x_3*x_4*x_5^2 + 1132*x_1^10*x_2^2*x_3*x_4*x_5^2 - 892*x_1^9*x_2^3*x_3*x_4*x_5^2 - 242*x_1^8*x_2^4*x_3*x_4*x_5^2 + 1528*x_1^7*x_2^5*x_3*x_4*x_5^2 - 2072*x_1^6*x_2^6*x_3*x_4*x_5^2 + 1528*x_1^5*x_2^7*x_3*x_4*x_5^2 - 242*x_1^4*x_2^8*x_3*x_4*x_5^2 - 892*x_1^3*x_2^9*x_3*x_4*x_5^2 + 1132*x_1^2*x_2^10*x_3*x_4*x_5^2 - 636*x_1*x_2^11*x_3*x_4*x_5^2 + 146*x_2^12*x_3*x_4*x_5^2 - 360*x_1^11*x_3^2*x_4*x_5^2 + 1132*x_1^10*x_2*x_3^2*x_4*x_5^2 - 1492*x_1^9*x_2^2*x_3^2*x_4*x_5^2 + 1148*x_1^8*x_2^3*x_3^2*x_4*x_5^2 - 616*x_1^7*x_2^4*x_3^2*x_4*x_5^2 + 188*x_1^6*x_2^5*x_3^2*x_4*x_5^2 + 188*x_1^5*x_2^6*x_3^2*x_4*x_5^2 - 616*x_1^4*x_2^7*x_3^2*x_4*x_5^2 + 1148*x_1^3*x_2^8*x_3^2*x_4*x_5^2 - 1492*x_1^2*x_2^9*x_3^2*x_4*x_5^2 + 1132*x_1*x_2^10*x_3^2*x_4*x_5^2 - 360*x_2^11*x_3^2*x_4*x_5^2 + 244*x_1^10*x_3^3*x_4*x_5^2 - 892*x_1^9*x_2*x_3^3*x_4*x_5^2 + 1148*x_1^8*x_2^2*x_3^3*x_4*x_5^2 - 776*x_1^7*x_2^3*x_3^3*x_4*x_5^2 + 452*x_1^6*x_2^4*x_3^3*x_4*x_5^2 - 388*x_1^5*x_2^5*x_3^3*x_4*x_5^2 + 452*x_1^4*x_2^6*x_3^3*x_4*x_5^2 - 776*x_1^3*x_2^7*x_3^3*x_4*x_5^2 + 1148*x_1^2*x_2^8*x_3^3*x_4*x_5^2 - 892*x_1*x_2^9*x_3^3*x_4*x_5^2 + 244*x_2^10*x_3^3*x_4*x_5^2 + 518*x_1^9*x_3^4*x_4*x_5^2 - 242*x_1^8*x_2*x_3^4*x_4*x_5^2 - 616*x_1^7*x_2^2*x_3^4*x_4*x_5^2 + 452*x_1^6*x_2^3*x_3^4*x_4*x_5^2 - 52*x_1^5*x_2^4*x_3^4*x_4*x_5^2 - 52*x_1^4*x_2^5*x_3^4*x_4*x_5^2 + 452*x_1^3*x_2^6*x_3^4*x_4*x_5^2 - 616*x_1^2*x_2^7*x_3^4*x_4*x_5^2 - 242*x_1*x_2^8*x_3^4*x_4*x_5^2 + 518*x_2^9*x_3^4*x_4*x_5^2 - 1188*x_1^8*x_3^5*x_4*x_5^2 + 1528*x_1^7*x_2*x_3^5*x_4*x_5^2 + 188*x_1^6*x_2^2*x_3^5*x_4*x_5^2 - 388*x_1^5*x_2^3*x_3^5*x_4*x_5^2 - 52*x_1^4*x_2^4*x_3^5*x_4*x_5^2 - 388*x_1^3*x_2^5*x_3^5*x_4*x_5^2 + 188*x_1^2*x_2^6*x_3^5*x_4*x_5^2 + 1528*x_1*x_2^7*x_3^5*x_4*x_5^2 - 1188*x_2^8*x_3^5*x_4*x_5^2 + 660*x_1^7*x_3^6*x_4*x_5^2 - 2072*x_1^6*x_2*x_3^6*x_4*x_5^2 + 188*x_1^5*x_2^2*x_3^6*x_4*x_5^2 + 452*x_1^4*x_2^3*x_3^6*x_4*x_5^2 + 452*x_1^3*x_2^4*x_3^6*x_4*x_5^2 + 188*x_1^2*x_2^5*x_3^6*x_4*x_5^2 - 2072*x_1*x_2^6*x_3^6*x_4*x_5^2 + 660*x_2^7*x_3^6*x_4*x_5^2 + 660*x_1^6*x_3^7*x_4*x_5^2 + 1528*x_1^5*x_2*x_3^7*x_4*x_5^2 - 616*x_1^4*x_2^2*x_3^7*x_4*x_5^2 - 776*x_1^3*x_2^3*x_3^7*x_4*x_5^2 - 616*x_1^2*x_2^4*x_3^7*x_4*x_5^2 + 1528*x_1*x_2^5*x_3^7*x_4*x_5^2 + 660*x_2^6*x_3^7*x_4*x_5^2 - 1188*x_1^5*x_3^8*x_4*x_5^2 - 242*x_1^4*x_2*x_3^8*x_4*x_5^2 + 1148*x_1^3*x_2^2*x_3^8*x_4*x_5^2 + 1148*x_1^2*x_2^3*x_3^8*x_4*x_5^2 - 242*x_1*x_2^4*x_3^8*x_4*x_5^2 - 1188*x_2^5*x_3^8*x_4*x_5^2 + 518*x_1^4*x_3^9*x_4*x_5^2 - 892*x_1^3*x_2*x_3^9*x_4*x_5^2 - 1492*x_1^2*x_2^2*x_3^9*x_4*x_5^2 - 892*x_1*x_2^3*x_3^9*x_4*x_5^2 + 518*x_2^4*x_3^9*x_4*x_5^2 + 244*x_1^3*x_3^10*x_4*x_5^2 + 1132*x_1^2*x_2*x_3^10*x_4*x_5^2 + 1132*x_1*x_2^2*x_3^10*x_4*x_5^2 + 244*x_2^3*x_3^10*x_4*x_5^2 - 360*x_1^2*x_3^11*x_4*x_5^2 - 636*x_1*x_2*x_3^11*x_4*x_5^2 - 360*x_2^2*x_3^11*x_4*x_5^2 + 146*x_1*x_3^12*x_4*x_5^2 + 146*x_2*x_3^12*x_4*x_5^2 - 20*x_3^13*x_4*x_5^2 + 74*x_1^12*x_4^2*x_5^2 - 360*x_1^11*x_2*x_4^2*x_5^2 + 682*x_1^10*x_2^2*x_4^2*x_5^2 - 592*x_1^9*x_2^3*x_4^2*x_5^2 - 59*x_1^8*x_2^4*x_4^2*x_5^2 + 952*x_1^7*x_2^5*x_4^2*x_5^2 - 1394*x_1^6*x_2^6*x_4^2*x_5^2 + 952*x_1^5*x_2^7*x_4^2*x_5^2 - 59*x_1^4*x_2^8*x_4^2*x_5^2 - 592*x_1^3*x_2^9*x_4^2*x_5^2 + 682*x_1^2*x_2^10*x_4^2*x_5^2 - 360*x_1*x_2^11*x_4^2*x_5^2 + 74*x_2^12*x_4^2*x_5^2 - 360*x_1^11*x_3*x_4^2*x_5^2 + 1132*x_1^10*x_2*x_3*x_4^2*x_5^2 - 1492*x_1^9*x_2^2*x_3*x_4^2*x_5^2 + 1148*x_1^8*x_2^3*x_3*x_4^2*x_5^2 - 616*x_1^7*x_2^4*x_3*x_4^2*x_5^2 + 188*x_1^6*x_2^5*x_3*x_4^2*x_5^2 + 188*x_1^5*x_2^6*x_3*x_4^2*x_5^2 - 616*x_1^4*x_2^7*x_3*x_4^2*x_5^2 + 1148*x_1^3*x_2^8*x_3*x_4^2*x_5^2 - 1492*x_1^2*x_2^9*x_3*x_4^2*x_5^2 + 1132*x_1*x_2^10*x_3*x_4^2*x_5^2 - 360*x_2^11*x_3*x_4^2*x_5^2 + 682*x_1^10*x_3^2*x_4^2*x_5^2 - 1492*x_1^9*x_2*x_3^2*x_4^2*x_5^2 + 1548*x_1^8*x_2^2*x_3^2*x_4^2*x_5^2 - 1032*x_1^7*x_2^3*x_3^2*x_4^2*x_5^2 + 330*x_1^6*x_2^4*x_3^2*x_4^2*x_5^2 + 36*x_1^5*x_2^5*x_3^2*x_4^2*x_5^2 + 330*x_1^4*x_2^6*x_3^2*x_4^2*x_5^2 - 1032*x_1^3*x_2^7*x_3^2*x_4^2*x_5^2 + 1548*x_1^2*x_2^8*x_3^2*x_4^2*x_5^2 - 1492*x_1*x_2^9*x_3^2*x_4^2*x_5^2 + 682*x_2^10*x_3^2*x_4^2*x_5^2 - 592*x_1^9*x_3^3*x_4^2*x_5^2 + 1148*x_1^8*x_2*x_3^3*x_4^2*x_5^2 - 1032*x_1^7*x_2^2*x_3^3*x_4^2*x_5^2 + 656*x_1^6*x_2^3*x_3^3*x_4^2*x_5^2 - 240*x_1^5*x_2^4*x_3^3*x_4^2*x_5^2 - 240*x_1^4*x_2^5*x_3^3*x_4^2*x_5^2 + 656*x_1^3*x_2^6*x_3^3*x_4^2*x_5^2 - 1032*x_1^2*x_2^7*x_3^3*x_4^2*x_5^2 + 1148*x_1*x_2^8*x_3^3*x_4^2*x_5^2 - 592*x_2^9*x_3^3*x_4^2*x_5^2 - 59*x_1^8*x_3^4*x_4^2*x_5^2 - 616*x_1^7*x_2*x_3^4*x_4^2*x_5^2 + 330*x_1^6*x_2^2*x_3^4*x_4^2*x_5^2 - 240*x_1^5*x_2^3*x_3^4*x_4^2*x_5^2 + 390*x_1^4*x_2^4*x_3^4*x_4^2*x_5^2 - 240*x_1^3*x_2^5*x_3^4*x_4^2*x_5^2 + 330*x_1^2*x_2^6*x_3^4*x_4^2*x_5^2 - 616*x_1*x_2^7*x_3^4*x_4^2*x_5^2 - 59*x_2^8*x_3^4*x_4^2*x_5^2 + 952*x_1^7*x_3^5*x_4^2*x_5^2 + 188*x_1^6*x_2*x_3^5*x_4^2*x_5^2 + 36*x_1^5*x_2^2*x_3^5*x_4^2*x_5^2 - 240*x_1^4*x_2^3*x_3^5*x_4^2*x_5^2 - 240*x_1^3*x_2^4*x_3^5*x_4^2*x_5^2 + 36*x_1^2*x_2^5*x_3^5*x_4^2*x_5^2 + 188*x_1*x_2^6*x_3^5*x_4^2*x_5^2 + 952*x_2^7*x_3^5*x_4^2*x_5^2 - 1394*x_1^6*x_3^6*x_4^2*x_5^2 + 188*x_1^5*x_2*x_3^6*x_4^2*x_5^2 + 330*x_1^4*x_2^2*x_3^6*x_4^2*x_5^2 + 656*x_1^3*x_2^3*x_3^6*x_4^2*x_5^2 + 330*x_1^2*x_2^4*x_3^6*x_4^2*x_5^2 + 188*x_1*x_2^5*x_3^6*x_4^2*x_5^2 - 1394*x_2^6*x_3^6*x_4^2*x_5^2 + 952*x_1^5*x_3^7*x_4^2*x_5^2 - 616*x_1^4*x_2*x_3^7*x_4^2*x_5^2 - 1032*x_1^3*x_2^2*x_3^7*x_4^2*x_5^2 - 1032*x_1^2*x_2^3*x_3^7*x_4^2*x_5^2 - 616*x_1*x_2^4*x_3^7*x_4^2*x_5^2 + 952*x_2^5*x_3^7*x_4^2*x_5^2 - 59*x_1^4*x_3^8*x_4^2*x_5^2 + 1148*x_1^3*x_2*x_3^8*x_4^2*x_5^2 + 1548*x_1^2*x_2^2*x_3^8*x_4^2*x_5^2 + 1148*x_1*x_2^3*x_3^8*x_4^2*x_5^2 - 59*x_2^4*x_3^8*x_4^2*x_5^2 - 592*x_1^3*x_3^9*x_4^2*x_5^2 - 1492*x_1^2*x_2*x_3^9*x_4^2*x_5^2 - 1492*x_1*x_2^2*x_3^9*x_4^2*x_5^2 - 592*x_2^3*x_3^9*x_4^2*x_5^2 + 682*x_1^2*x_3^10*x_4^2*x_5^2 + 1132*x_1*x_2*x_3^10*x_4^2*x_5^2 + 682*x_2^2*x_3^10*x_4^2*x_5^2 - 360*x_1*x_3^11*x_4^2*x_5^2 - 360*x_2*x_3^11*x_4^2*x_5^2 + 74*x_3^12*x_4^2*x_5^2 - 28*x_1^11*x_4^3*x_5^2 + 244*x_1^10*x_2*x_4^3*x_5^2 - 592*x_1^9*x_2^2*x_4^3*x_5^2 + 736*x_1^8*x_2^3*x_4^3*x_5^2 - 612*x_1^7*x_2^4*x_4^3*x_5^2 + 252*x_1^6*x_2^5*x_4^3*x_5^2 + 252*x_1^5*x_2^6*x_4^3*x_5^2 - 612*x_1^4*x_2^7*x_4^3*x_5^2 + 736*x_1^3*x_2^8*x_4^3*x_5^2 - 592*x_1^2*x_2^9*x_4^3*x_5^2 + 244*x_1*x_2^10*x_4^3*x_5^2 - 28*x_2^11*x_4^3*x_5^2 + 244*x_1^10*x_3*x_4^3*x_5^2 - 892*x_1^9*x_2*x_3*x_4^3*x_5^2 + 1148*x_1^8*x_2^2*x_3*x_4^3*x_5^2 - 776*x_1^7*x_2^3*x_3*x_4^3*x_5^2 + 452*x_1^6*x_2^4*x_3*x_4^3*x_5^2 - 388*x_1^5*x_2^5*x_3*x_4^3*x_5^2 + 452*x_1^4*x_2^6*x_3*x_4^3*x_5^2 - 776*x_1^3*x_2^7*x_3*x_4^3*x_5^2 + 1148*x_1^2*x_2^8*x_3*x_4^3*x_5^2 - 892*x_1*x_2^9*x_3*x_4^3*x_5^2 + 244*x_2^10*x_3*x_4^3*x_5^2 - 592*x_1^9*x_3^2*x_4^3*x_5^2 + 1148*x_1^8*x_2*x_3^2*x_4^3*x_5^2 - 1032*x_1^7*x_2^2*x_3^2*x_4^3*x_5^2 + 656*x_1^6*x_2^3*x_3^2*x_4^3*x_5^2 - 240*x_1^5*x_2^4*x_3^2*x_4^3*x_5^2 - 240*x_1^4*x_2^5*x_3^2*x_4^3*x_5^2 + 656*x_1^3*x_2^6*x_3^2*x_4^3*x_5^2 - 1032*x_1^2*x_2^7*x_3^2*x_4^3*x_5^2 + 1148*x_1*x_2^8*x_3^2*x_4^3*x_5^2 - 592*x_2^9*x_3^2*x_4^3*x_5^2 + 736*x_1^8*x_3^3*x_4^3*x_5^2 - 776*x_1^7*x_2*x_3^3*x_4^3*x_5^2 + 656*x_1^6*x_2^2*x_3^3*x_4^3*x_5^2 - 336*x_1^5*x_2^3*x_3^3*x_4^3*x_5^2 + 140*x_1^4*x_2^4*x_3^3*x_4^3*x_5^2 - 336*x_1^3*x_2^5*x_3^3*x_4^3*x_5^2 + 656*x_1^2*x_2^6*x_3^3*x_4^3*x_5^2 - 776*x_1*x_2^7*x_3^3*x_4^3*x_5^2 + 736*x_2^8*x_3^3*x_4^3*x_5^2 - 612*x_1^7*x_3^4*x_4^3*x_5^2 + 452*x_1^6*x_2*x_3^4*x_4^3*x_5^2 - 240*x_1^5*x_2^2*x_3^4*x_4^3*x_5^2 + 140*x_1^4*x_2^3*x_3^4*x_4^3*x_5^2 + 140*x_1^3*x_2^4*x_3^4*x_4^3*x_5^2 - 240*x_1^2*x_2^5*x_3^4*x_4^3*x_5^2 + 452*x_1*x_2^6*x_3^4*x_4^3*x_5^2 - 612*x_2^7*x_3^4*x_4^3*x_5^2 + 252*x_1^6*x_3^5*x_4^3*x_5^2 - 388*x_1^5*x_2*x_3^5*x_4^3*x_5^2 - 240*x_1^4*x_2^2*x_3^5*x_4^3*x_5^2 - 336*x_1^3*x_2^3*x_3^5*x_4^3*x_5^2 - 240*x_1^2*x_2^4*x_3^5*x_4^3*x_5^2 - 388*x_1*x_2^5*x_3^5*x_4^3*x_5^2 + 252*x_2^6*x_3^5*x_4^3*x_5^2 + 252*x_1^5*x_3^6*x_4^3*x_5^2 + 452*x_1^4*x_2*x_3^6*x_4^3*x_5^2 + 656*x_1^3*x_2^2*x_3^6*x_4^3*x_5^2 + 656*x_1^2*x_2^3*x_3^6*x_4^3*x_5^2 + 452*x_1*x_2^4*x_3^6*x_4^3*x_5^2 + 252*x_2^5*x_3^6*x_4^3*x_5^2 - 612*x_1^4*x_3^7*x_4^3*x_5^2 - 776*x_1^3*x_2*x_3^7*x_4^3*x_5^2 - 1032*x_1^2*x_2^2*x_3^7*x_4^3*x_5^2 - 776*x_1*x_2^3*x_3^7*x_4^3*x_5^2 - 612*x_2^4*x_3^7*x_4^3*x_5^2 + 736*x_1^3*x_3^8*x_4^3*x_5^2 + 1148*x_1^2*x_2*x_3^8*x_4^3*x_5^2 + 1148*x_1*x_2^2*x_3^8*x_4^3*x_5^2 + 736*x_2^3*x_3^8*x_4^3*x_5^2 - 592*x_1^2*x_3^9*x_4^3*x_5^2 - 892*x_1*x_2*x_3^9*x_4^3*x_5^2 - 592*x_2^2*x_3^9*x_4^3*x_5^2 + 244*x_1*x_3^10*x_4^3*x_5^2 + 244*x_2*x_3^10*x_4^3*x_5^2 - 28*x_3^11*x_4^3*x_5^2 - 222*x_1^10*x_4^4*x_5^2 + 518*x_1^9*x_2*x_4^4*x_5^2 - 59*x_1^8*x_2^2*x_4^4*x_5^2 - 612*x_1^7*x_2^3*x_4^4*x_5^2 + 622*x_1^6*x_2^4*x_4^4*x_5^2 - 422*x_1^5*x_2^5*x_4^4*x_5^2 + 622*x_1^4*x_2^6*x_4^4*x_5^2 - 612*x_1^3*x_2^7*x_4^4*x_5^2 - 59*x_1^2*x_2^8*x_4^4*x_5^2 + 518*x_1*x_2^9*x_4^4*x_5^2 - 222*x_2^10*x_4^4*x_5^2 + 518*x_1^9*x_3*x_4^4*x_5^2 - 242*x_1^8*x_2*x_3*x_4^4*x_5^2 - 616*x_1^7*x_2^2*x_3*x_4^4*x_5^2 + 452*x_1^6*x_2^3*x_3*x_4^4*x_5^2 - 52*x_1^5*x_2^4*x_3*x_4^4*x_5^2 - 52*x_1^4*x_2^5*x_3*x_4^4*x_5^2 + 452*x_1^3*x_2^6*x_3*x_4^4*x_5^2 - 616*x_1^2*x_2^7*x_3*x_4^4*x_5^2 - 242*x_1*x_2^8*x_3*x_4^4*x_5^2 + 518*x_2^9*x_3*x_4^4*x_5^2 - 59*x_1^8*x_3^2*x_4^4*x_5^2 - 616*x_1^7*x_2*x_3^2*x_4^4*x_5^2 + 330*x_1^6*x_2^2*x_3^2*x_4^4*x_5^2 - 240*x_1^5*x_2^3*x_3^2*x_4^4*x_5^2 + 390*x_1^4*x_2^4*x_3^2*x_4^4*x_5^2 - 240*x_1^3*x_2^5*x_3^2*x_4^4*x_5^2 + 330*x_1^2*x_2^6*x_3^2*x_4^4*x_5^2 - 616*x_1*x_2^7*x_3^2*x_4^4*x_5^2 - 59*x_2^8*x_3^2*x_4^4*x_5^2 - 612*x_1^7*x_3^3*x_4^4*x_5^2 + 452*x_1^6*x_2*x_3^3*x_4^4*x_5^2 - 240*x_1^5*x_2^2*x_3^3*x_4^4*x_5^2 + 140*x_1^4*x_2^3*x_3^3*x_4^4*x_5^2 + 140*x_1^3*x_2^4*x_3^3*x_4^4*x_5^2 - 240*x_1^2*x_2^5*x_3^3*x_4^4*x_5^2 + 452*x_1*x_2^6*x_3^3*x_4^4*x_5^2 - 612*x_2^7*x_3^3*x_4^4*x_5^2 + 622*x_1^6*x_3^4*x_4^4*x_5^2 - 52*x_1^5*x_2*x_3^4*x_4^4*x_5^2 + 390*x_1^4*x_2^2*x_3^4*x_4^4*x_5^2 + 140*x_1^3*x_2^3*x_3^4*x_4^4*x_5^2 + 390*x_1^2*x_2^4*x_3^4*x_4^4*x_5^2 - 52*x_1*x_2^5*x_3^4*x_4^4*x_5^2 + 622*x_2^6*x_3^4*x_4^4*x_5^2 - 422*x_1^5*x_3^5*x_4^4*x_5^2 - 52*x_1^4*x_2*x_3^5*x_4^4*x_5^2 - 240*x_1^3*x_2^2*x_3^5*x_4^4*x_5^2 - 240*x_1^2*x_2^3*x_3^5*x_4^4*x_5^2 - 52*x_1*x_2^4*x_3^5*x_4^4*x_5^2 - 422*x_2^5*x_3^5*x_4^4*x_5^2 + 622*x_1^4*x_3^6*x_4^4*x_5^2 + 452*x_1^3*x_2*x_3^6*x_4^4*x_5^2 + 330*x_1^2*x_2^2*x_3^6*x_4^4*x_5^2 + 452*x_1*x_2^3*x_3^6*x_4^4*x_5^2 + 622*x_2^4*x_3^6*x_4^4*x_5^2 - 612*x_1^3*x_3^7*x_4^4*x_5^2 - 616*x_1^2*x_2*x_3^7*x_4^4*x_5^2 - 616*x_1*x_2^2*x_3^7*x_4^4*x_5^2 - 612*x_2^3*x_3^7*x_4^4*x_5^2 - 59*x_1^2*x_3^8*x_4^4*x_5^2 - 242*x_1*x_2*x_3^8*x_4^4*x_5^2 - 59*x_2^2*x_3^8*x_4^4*x_5^2 + 518*x_1*x_3^9*x_4^4*x_5^2 + 518*x_2*x_3^9*x_4^4*x_5^2 - 222*x_3^10*x_4^4*x_5^2 + 292*x_1^9*x_4^5*x_5^2 - 1188*x_1^8*x_2*x_4^5*x_5^2 + 952*x_1^7*x_2^2*x_4^5*x_5^2 + 252*x_1^6*x_2^3*x_4^5*x_5^2 - 422*x_1^5*x_2^4*x_4^5*x_5^2 - 422*x_1^4*x_2^5*x_4^5*x_5^2 + 252*x_1^3*x_2^6*x_4^5*x_5^2 + 952*x_1^2*x_2^7*x_4^5*x_5^2 - 1188*x_1*x_2^8*x_4^5*x_5^2 + 292*x_2^9*x_4^5*x_5^2 - 1188*x_1^8*x_3*x_4^5*x_5^2 + 1528*x_1^7*x_2*x_3*x_4^5*x_5^2 + 188*x_1^6*x_2^2*x_3*x_4^5*x_5^2 - 388*x_1^5*x_2^3*x_3*x_4^5*x_5^2 - 52*x_1^4*x_2^4*x_3*x_4^5*x_5^2 - 388*x_1^3*x_2^5*x_3*x_4^5*x_5^2 + 188*x_1^2*x_2^6*x_3*x_4^5*x_5^2 + 1528*x_1*x_2^7*x_3*x_4^5*x_5^2 - 1188*x_2^8*x_3*x_4^5*x_5^2 + 952*x_1^7*x_3^2*x_4^5*x_5^2 + 188*x_1^6*x_2*x_3^2*x_4^5*x_5^2 + 36*x_1^5*x_2^2*x_3^2*x_4^5*x_5^2 - 240*x_1^4*x_2^3*x_3^2*x_4^5*x_5^2 - 240*x_1^3*x_2^4*x_3^2*x_4^5*x_5^2 + 36*x_1^2*x_2^5*x_3^2*x_4^5*x_5^2 + 188*x_1*x_2^6*x_3^2*x_4^5*x_5^2 + 952*x_2^7*x_3^2*x_4^5*x_5^2 + 252*x_1^6*x_3^3*x_4^5*x_5^2 - 388*x_1^5*x_2*x_3^3*x_4^5*x_5^2 - 240*x_1^4*x_2^2*x_3^3*x_4^5*x_5^2 - 336*x_1^3*x_2^3*x_3^3*x_4^5*x_5^2 - 240*x_1^2*x_2^4*x_3^3*x_4^5*x_5^2 - 388*x_1*x_2^5*x_3^3*x_4^5*x_5^2 + 252*x_2^6*x_3^3*x_4^5*x_5^2 - 422*x_1^5*x_3^4*x_4^5*x_5^2 - 52*x_1^4*x_2*x_3^4*x_4^5*x_5^2 - 240*x_1^3*x_2^2*x_3^4*x_4^5*x_5^2 - 240*x_1^2*x_2^3*x_3^4*x_4^5*x_5^2 - 52*x_1*x_2^4*x_3^4*x_4^5*x_5^2 - 422*x_2^5*x_3^4*x_4^5*x_5^2 - 422*x_1^4*x_3^5*x_4^5*x_5^2 - 388*x_1^3*x_2*x_3^5*x_4^5*x_5^2 + 36*x_1^2*x_2^2*x_3^5*x_4^5*x_5^2 - 388*x_1*x_2^3*x_3^5*x_4^5*x_5^2 - 422*x_2^4*x_3^5*x_4^5*x_5^2 + 252*x_1^3*x_3^6*x_4^5*x_5^2 + 188*x_1^2*x_2*x_3^6*x_4^5*x_5^2 + 188*x_1*x_2^2*x_3^6*x_4^5*x_5^2 + 252*x_2^3*x_3^6*x_4^5*x_5^2 + 952*x_1^2*x_3^7*x_4^5*x_5^2 + 1528*x_1*x_2*x_3^7*x_4^5*x_5^2 + 952*x_2^2*x_3^7*x_4^5*x_5^2 - 1188*x_1*x_3^8*x_4^5*x_5^2 - 1188*x_2*x_3^8*x_4^5*x_5^2 + 292*x_3^9*x_4^5*x_5^2 + 148*x_1^8*x_4^6*x_5^2 + 660*x_1^7*x_2*x_4^6*x_5^2 - 1394*x_1^6*x_2^2*x_4^6*x_5^2 + 252*x_1^5*x_2^3*x_4^6*x_5^2 + 622*x_1^4*x_2^4*x_4^6*x_5^2 + 252*x_1^3*x_2^5*x_4^6*x_5^2 - 1394*x_1^2*x_2^6*x_4^6*x_5^2 + 660*x_1*x_2^7*x_4^6*x_5^2 + 148*x_2^8*x_4^6*x_5^2 + 660*x_1^7*x_3*x_4^6*x_5^2 - 2072*x_1^6*x_2*x_3*x_4^6*x_5^2 + 188*x_1^5*x_2^2*x_3*x_4^6*x_5^2 + 452*x_1^4*x_2^3*x_3*x_4^6*x_5^2 + 452*x_1^3*x_2^4*x_3*x_4^6*x_5^2 + 188*x_1^2*x_2^5*x_3*x_4^6*x_5^2 - 2072*x_1*x_2^6*x_3*x_4^6*x_5^2 + 660*x_2^7*x_3*x_4^6*x_5^2 - 1394*x_1^6*x_3^2*x_4^6*x_5^2 + 188*x_1^5*x_2*x_3^2*x_4^6*x_5^2 + 330*x_1^4*x_2^2*x_3^2*x_4^6*x_5^2 + 656*x_1^3*x_2^3*x_3^2*x_4^6*x_5^2 + 330*x_1^2*x_2^4*x_3^2*x_4^6*x_5^2 + 188*x_1*x_2^5*x_3^2*x_4^6*x_5^2 - 1394*x_2^6*x_3^2*x_4^6*x_5^2 + 252*x_1^5*x_3^3*x_4^6*x_5^2 + 452*x_1^4*x_2*x_3^3*x_4^6*x_5^2 + 656*x_1^3*x_2^2*x_3^3*x_4^6*x_5^2 + 656*x_1^2*x_2^3*x_3^3*x_4^6*x_5^2 + 452*x_1*x_2^4*x_3^3*x_4^6*x_5^2 + 252*x_2^5*x_3^3*x_4^6*x_5^2 + 622*x_1^4*x_3^4*x_4^6*x_5^2 + 452*x_1^3*x_2*x_3^4*x_4^6*x_5^2 + 330*x_1^2*x_2^2*x_3^4*x_4^6*x_5^2 + 452*x_1*x_2^3*x_3^4*x_4^6*x_5^2 + 622*x_2^4*x_3^4*x_4^6*x_5^2 + 252*x_1^3*x_3^5*x_4^6*x_5^2 + 188*x_1^2*x_2*x_3^5*x_4^6*x_5^2 + 188*x_1*x_2^2*x_3^5*x_4^6*x_5^2 + 252*x_2^3*x_3^5*x_4^6*x_5^2 - 1394*x_1^2*x_3^6*x_4^6*x_5^2 - 2072*x_1*x_2*x_3^6*x_4^6*x_5^2 - 1394*x_2^2*x_3^6*x_4^6*x_5^2 + 660*x_1*x_3^7*x_4^6*x_5^2 + 660*x_2*x_3^7*x_4^6*x_5^2 + 148*x_3^8*x_4^6*x_5^2 - 488*x_1^7*x_4^7*x_5^2 + 660*x_1^6*x_2*x_4^7*x_5^2 + 952*x_1^5*x_2^2*x_4^7*x_5^2 - 612*x_1^4*x_2^3*x_4^7*x_5^2 - 612*x_1^3*x_2^4*x_4^7*x_5^2 + 952*x_1^2*x_2^5*x_4^7*x_5^2 + 660*x_1*x_2^6*x_4^7*x_5^2 - 488*x_2^7*x_4^7*x_5^2 + 660*x_1^6*x_3*x_4^7*x_5^2 + 1528*x_1^5*x_2*x_3*x_4^7*x_5^2 - 616*x_1^4*x_2^2*x_3*x_4^7*x_5^2 - 776*x_1^3*x_2^3*x_3*x_4^7*x_5^2 - 616*x_1^2*x_2^4*x_3*x_4^7*x_5^2 + 1528*x_1*x_2^5*x_3*x_4^7*x_5^2 + 660*x_2^6*x_3*x_4^7*x_5^2 + 952*x_1^5*x_3^2*x_4^7*x_5^2 - 616*x_1^4*x_2*x_3^2*x_4^7*x_5^2 - 1032*x_1^3*x_2^2*x_3^2*x_4^7*x_5^2 - 1032*x_1^2*x_2^3*x_3^2*x_4^7*x_5^2 - 616*x_1*x_2^4*x_3^2*x_4^7*x_5^2 + 952*x_2^5*x_3^2*x_4^7*x_5^2 - 612*x_1^4*x_3^3*x_4^7*x_5^2 - 776*x_1^3*x_2*x_3^3*x_4^7*x_5^2 - 1032*x_1^2*x_2^2*x_3^3*x_4^7*x_5^2 - 776*x_1*x_2^3*x_3^3*x_4^7*x_5^2 - 612*x_2^4*x_3^3*x_4^7*x_5^2 - 612*x_1^3*x_3^4*x_4^7*x_5^2 - 616*x_1^2*x_2*x_3^4*x_4^7*x_5^2 - 616*x_1*x_2^2*x_3^4*x_4^7*x_5^2 - 612*x_2^3*x_3^4*x_4^7*x_5^2 + 952*x_1^2*x_3^5*x_4^7*x_5^2 + 1528*x_1*x_2*x_3^5*x_4^7*x_5^2 + 952*x_2^2*x_3^5*x_4^7*x_5^2 + 660*x_1*x_3^6*x_4^7*x_5^2 + 660*x_2*x_3^6*x_4^7*x_5^2 - 488*x_3^7*x_4^7*x_5^2 + 148*x_1^6*x_4^8*x_5^2 - 1188*x_1^5*x_2*x_4^8*x_5^2 - 59*x_1^4*x_2^2*x_4^8*x_5^2 + 736*x_1^3*x_2^3*x_4^8*x_5^2 - 59*x_1^2*x_2^4*x_4^8*x_5^2 - 1188*x_1*x_2^5*x_4^8*x_5^2 + 148*x_2^6*x_4^8*x_5^2 - 1188*x_1^5*x_3*x_4^8*x_5^2 - 242*x_1^4*x_2*x_3*x_4^8*x_5^2 + 1148*x_1^3*x_2^2*x_3*x_4^8*x_5^2 + 1148*x_1^2*x_2^3*x_3*x_4^8*x_5^2 - 242*x_1*x_2^4*x_3*x_4^8*x_5^2 - 1188*x_2^5*x_3*x_4^8*x_5^2 - 59*x_1^4*x_3^2*x_4^8*x_5^2 + 1148*x_1^3*x_2*x_3^2*x_4^8*x_5^2 + 1548*x_1^2*x_2^2*x_3^2*x_4^8*x_5^2 + 1148*x_1*x_2^3*x_3^2*x_4^8*x_5^2 - 59*x_2^4*x_3^2*x_4^8*x_5^2 + 736*x_1^3*x_3^3*x_4^8*x_5^2 + 1148*x_1^2*x_2*x_3^3*x_4^8*x_5^2 + 1148*x_1*x_2^2*x_3^3*x_4^8*x_5^2 + 736*x_2^3*x_3^3*x_4^8*x_5^2 - 59*x_1^2*x_3^4*x_4^8*x_5^2 - 242*x_1*x_2*x_3^4*x_4^8*x_5^2 - 59*x_2^2*x_3^4*x_4^8*x_5^2 - 1188*x_1*x_3^5*x_4^8*x_5^2 - 1188*x_2*x_3^5*x_4^8*x_5^2 + 148*x_3^6*x_4^8*x_5^2 + 292*x_1^5*x_4^9*x_5^2 + 518*x_1^4*x_2*x_4^9*x_5^2 - 592*x_1^3*x_2^2*x_4^9*x_5^2 - 592*x_1^2*x_2^3*x_4^9*x_5^2 + 518*x_1*x_2^4*x_4^9*x_5^2 + 292*x_2^5*x_4^9*x_5^2 + 518*x_1^4*x_3*x_4^9*x_5^2 - 892*x_1^3*x_2*x_3*x_4^9*x_5^2 - 1492*x_1^2*x_2^2*x_3*x_4^9*x_5^2 - 892*x_1*x_2^3*x_3*x_4^9*x_5^2 + 518*x_2^4*x_3*x_4^9*x_5^2 - 592*x_1^3*x_3^2*x_4^9*x_5^2 - 1492*x_1^2*x_2*x_3^2*x_4^9*x_5^2 - 1492*x_1*x_2^2*x_3^2*x_4^9*x_5^2 - 592*x_2^3*x_3^2*x_4^9*x_5^2 - 592*x_1^2*x_3^3*x_4^9*x_5^2 - 892*x_1*x_2*x_3^3*x_4^9*x_5^2 - 592*x_2^2*x_3^3*x_4^9*x_5^2 + 518*x_1*x_3^4*x_4^9*x_5^2 + 518*x_2*x_3^4*x_4^9*x_5^2 + 292*x_3^5*x_4^9*x_5^2 - 222*x_1^4*x_4^10*x_5^2 + 244*x_1^3*x_2*x_4^10*x_5^2 + 682*x_1^2*x_2^2*x_4^10*x_5^2 + 244*x_1*x_2^3*x_4^10*x_5^2 - 222*x_2^4*x_4^10*x_5^2 + 244*x_1^3*x_3*x_4^10*x_5^2 + 1132*x_1^2*x_2*x_3*x_4^10*x_5^2 + 1132*x_1*x_2^2*x_3*x_4^10*x_5^2 + 244*x_2^3*x_3*x_4^10*x_5^2 + 682*x_1^2*x_3^2*x_4^10*x_5^2 + 1132*x_1*x_2*x_3^2*x_4^10*x_5^2 + 682*x_2^2*x_3^2*x_4^10*x_5^2 + 244*x_1*x_3^3*x_4^10*x_5^2 + 244*x_2*x_3^3*x_4^10*x_5^2 - 222*x_3^4*x_4^10*x_5^2 - 28*x_1^3*x_4^11*x_5^2 - 360*x_1^2*x_2*x_4^11*x_5^2 - 360*x_1*x_2^2*x_4^11*x_5^2 - 28*x_2^3*x_4^11*x_5^2 - 360*x_1^2*x_3*x_4^11*x_5^2 - 636*x_1*x_2*x_3*x_4^11*x_5^2 - 360*x_2^2*x_3*x_4^11*x_5^2 - 360*x_1*x_3^2*x_4^11*x_5^2 - 360*x_2*x_3^2*x_4^11*x_5^2 - 28*x_3^3*x_4^11*x_5^2 + 74*x_1^2*x_4^12*x_5^2 + 146*x_1*x_2*x_4^12*x_5^2 + 74*x_2^2*x_4^12*x_5^2 + 146*x_1*x_3*x_4^12*x_5^2 + 146*x_2*x_3*x_4^12*x_5^2 + 74*x_3^2*x_4^12*x_5^2 - 20*x_1*x_4^13*x_5^2 - 20*x_2*x_4^13*x_5^2 - 20*x_3*x_4^13*x_5^2 + 20*x_1^13*x_5^3 - 60*x_1^12*x_2*x_5^3 - 28*x_1^11*x_2^2*x_5^3 + 236*x_1^10*x_2^3*x_5^3 - 92*x_1^9*x_2^4*x_5^3 - 380*x_1^8*x_2^5*x_5^3 + 304*x_1^7*x_2^6*x_5^3 + 304*x_1^6*x_2^7*x_5^3 - 380*x_1^5*x_2^8*x_5^3 - 92*x_1^4*x_2^9*x_5^3 + 236*x_1^3*x_2^10*x_5^3 - 28*x_1^2*x_2^11*x_5^3 - 60*x_1*x_2^12*x_5^3 + 20*x_2^13*x_5^3 - 60*x_1^12*x_3*x_5^3 + 108*x_1^11*x_2*x_3*x_5^3 + 244*x_1^10*x_2^2*x_3*x_5^3 - 812*x_1^9*x_2^3*x_3*x_5^3 + 546*x_1^8*x_2^4*x_3*x_5^3 + 704*x_1^7*x_2^5*x_3*x_5^3 - 1460*x_1^6*x_2^6*x_3*x_5^3 + 704*x_1^5*x_2^7*x_3*x_5^3 + 546*x_1^4*x_2^8*x_3*x_5^3 - 812*x_1^3*x_2^9*x_3*x_5^3 + 244*x_1^2*x_2^10*x_3*x_5^3 + 108*x_1*x_2^11*x_3*x_5^3 - 60*x_2^12*x_3*x_5^3 - 28*x_1^11*x_3^2*x_5^3 + 244*x_1^10*x_2*x_3^2*x_5^3 - 592*x_1^9*x_2^2*x_3^2*x_5^3 + 736*x_1^8*x_2^3*x_3^2*x_5^3 - 612*x_1^7*x_2^4*x_3^2*x_5^3 + 252*x_1^6*x_2^5*x_3^2*x_5^3 + 252*x_1^5*x_2^6*x_3^2*x_5^3 - 612*x_1^4*x_2^7*x_3^2*x_5^3 + 736*x_1^3*x_2^8*x_3^2*x_5^3 - 592*x_1^2*x_2^9*x_3^2*x_5^3 + 244*x_1*x_2^10*x_3^2*x_5^3 - 28*x_2^11*x_3^2*x_5^3 + 236*x_1^10*x_3^3*x_5^3 - 812*x_1^9*x_2*x_3^3*x_5^3 + 736*x_1^8*x_2^2*x_3^3*x_5^3 - 72*x_1^7*x_2^3*x_3^3*x_5^3 + 28*x_1^6*x_2^4*x_3^3*x_5^3 - 316*x_1^5*x_2^5*x_3^3*x_5^3 + 28*x_1^4*x_2^6*x_3^3*x_5^3 - 72*x_1^3*x_2^7*x_3^3*x_5^3 + 736*x_1^2*x_2^8*x_3^3*x_5^3 - 812*x_1*x_2^9*x_3^3*x_5^3 + 236*x_2^10*x_3^3*x_5^3 - 92*x_1^9*x_3^4*x_5^3 + 546*x_1^8*x_2*x_3^4*x_5^3 - 612*x_1^7*x_2^2*x_3^4*x_5^3 + 28*x_1^6*x_2^3*x_3^4*x_5^3 + 180*x_1^5*x_2^4*x_3^4*x_5^3 + 180*x_1^4*x_2^5*x_3^4*x_5^3 + 28*x_1^3*x_2^6*x_3^4*x_5^3 - 612*x_1^2*x_2^7*x_3^4*x_5^3 + 546*x_1*x_2^8*x_3^4*x_5^3 - 92*x_2^9*x_3^4*x_5^3 - 380*x_1^8*x_3^5*x_5^3 + 704*x_1^7*x_2*x_3^5*x_5^3 + 252*x_1^6*x_2^2*x_3^5*x_5^3 - 316*x_1^5*x_2^3*x_3^5*x_5^3 + 180*x_1^4*x_2^4*x_3^5*x_5^3 - 316*x_1^3*x_2^5*x_3^5*x_5^3 + 252*x_1^2*x_2^6*x_3^5*x_5^3 + 704*x_1*x_2^7*x_3^5*x_5^3 - 380*x_2^8*x_3^5*x_5^3 + 304*x_1^7*x_3^6*x_5^3 - 1460*x_1^6*x_2*x_3^6*x_5^3 + 252*x_1^5*x_2^2*x_3^6*x_5^3 + 28*x_1^4*x_2^3*x_3^6*x_5^3 + 28*x_1^3*x_2^4*x_3^6*x_5^3 + 252*x_1^2*x_2^5*x_3^6*x_5^3 - 1460*x_1*x_2^6*x_3^6*x_5^3 + 304*x_2^7*x_3^6*x_5^3 + 304*x_1^6*x_3^7*x_5^3 + 704*x_1^5*x_2*x_3^7*x_5^3 - 612*x_1^4*x_2^2*x_3^7*x_5^3 - 72*x_1^3*x_2^3*x_3^7*x_5^3 - 612*x_1^2*x_2^4*x_3^7*x_5^3 + 704*x_1*x_2^5*x_3^7*x_5^3 + 304*x_2^6*x_3^7*x_5^3 - 380*x_1^5*x_3^8*x_5^3 + 546*x_1^4*x_2*x_3^8*x_5^3 + 736*x_1^3*x_2^2*x_3^8*x_5^3 + 736*x_1^2*x_2^3*x_3^8*x_5^3 + 546*x_1*x_2^4*x_3^8*x_5^3 - 380*x_2^5*x_3^8*x_5^3 - 92*x_1^4*x_3^9*x_5^3 - 812*x_1^3*x_2*x_3^9*x_5^3 - 592*x_1^2*x_2^2*x_3^9*x_5^3 - 812*x_1*x_2^3*x_3^9*x_5^3 - 92*x_2^4*x_3^9*x_5^3 + 236*x_1^3*x_3^10*x_5^3 + 244*x_1^2*x_2*x_3^10*x_5^3 + 244*x_1*x_2^2*x_3^10*x_5^3 + 236*x_2^3*x_3^10*x_5^3 - 28*x_1^2*x_3^11*x_5^3 + 108*x_1*x_2*x_3^11*x_5^3 - 28*x_2^2*x_3^11*x_5^3 - 60*x_1*x_3^12*x_5^3 - 60*x_2*x_3^12*x_5^3 + 20*x_3^13*x_5^3 - 60*x_1^12*x_4*x_5^3 + 108*x_1^11*x_2*x_4*x_5^3 + 244*x_1^10*x_2^2*x_4*x_5^3 - 812*x_1^9*x_2^3*x_4*x_5^3 + 546*x_1^8*x_2^4*x_4*x_5^3 + 704*x_1^7*x_2^5*x_4*x_5^3 - 1460*x_1^6*x_2^6*x_4*x_5^3 + 704*x_1^5*x_2^7*x_4*x_5^3 + 546*x_1^4*x_2^8*x_4*x_5^3 - 812*x_1^3*x_2^9*x_4*x_5^3 + 244*x_1^2*x_2^10*x_4*x_5^3 + 108*x_1*x_2^11*x_4*x_5^3 - 60*x_2^12*x_4*x_5^3 + 108*x_1^11*x_3*x_4*x_5^3 + 68*x_1^10*x_2*x_3*x_4*x_5^3 - 892*x_1^9*x_2^2*x_3*x_4*x_5^3 + 1468*x_1^8*x_2^3*x_3*x_4*x_5^3 - 1080*x_1^7*x_2^4*x_3*x_4*x_5^3 + 328*x_1^6*x_2^5*x_3*x_4*x_5^3 + 328*x_1^5*x_2^6*x_3*x_4*x_5^3 - 1080*x_1^4*x_2^7*x_3*x_4*x_5^3 + 1468*x_1^3*x_2^8*x_3*x_4*x_5^3 - 892*x_1^2*x_2^9*x_3*x_4*x_5^3 + 68*x_1*x_2^10*x_3*x_4*x_5^3 + 108*x_2^11*x_3*x_4*x_5^3 + 244*x_1^10*x_3^2*x_4*x_5^3 - 892*x_1^9*x_2*x_3^2*x_4*x_5^3 + 1148*x_1^8*x_2^2*x_3^2*x_4*x_5^3 - 776*x_1^7*x_2^3*x_3^2*x_4*x_5^3 + 452*x_1^6*x_2^4*x_3^2*x_4*x_5^3 - 388*x_1^5*x_2^5*x_3^2*x_4*x_5^3 + 452*x_1^4*x_2^6*x_3^2*x_4*x_5^3 - 776*x_1^3*x_2^7*x_3^2*x_4*x_5^3 + 1148*x_1^2*x_2^8*x_3^2*x_4*x_5^3 - 892*x_1*x_2^9*x_3^2*x_4*x_5^3 + 244*x_2^10*x_3^2*x_4*x_5^3 - 812*x_1^9*x_3^3*x_4*x_5^3 + 1468*x_1^8*x_2*x_3^3*x_4*x_5^3 - 776*x_1^7*x_2^2*x_3^3*x_4*x_5^3 + 168*x_1^6*x_2^3*x_3^3*x_4*x_5^3 - 28*x_1^5*x_2^4*x_3^3*x_4*x_5^3 - 28*x_1^4*x_2^5*x_3^3*x_4*x_5^3 + 168*x_1^3*x_2^6*x_3^3*x_4*x_5^3 - 776*x_1^2*x_2^7*x_3^3*x_4*x_5^3 + 1468*x_1*x_2^8*x_3^3*x_4*x_5^3 - 812*x_2^9*x_3^3*x_4*x_5^3 + 546*x_1^8*x_3^4*x_4*x_5^3 - 1080*x_1^7*x_2*x_3^4*x_4*x_5^3 + 452*x_1^6*x_2^2*x_3^4*x_4*x_5^3 - 28*x_1^5*x_2^3*x_3^4*x_4*x_5^3 - 28*x_1^3*x_2^5*x_3^4*x_4*x_5^3 + 452*x_1^2*x_2^6*x_3^4*x_4*x_5^3 - 1080*x_1*x_2^7*x_3^4*x_4*x_5^3 + 546*x_2^8*x_3^4*x_4*x_5^3 + 704*x_1^7*x_3^5*x_4*x_5^3 + 328*x_1^6*x_2*x_3^5*x_4*x_5^3 - 388*x_1^5*x_2^2*x_3^5*x_4*x_5^3 - 28*x_1^4*x_2^3*x_3^5*x_4*x_5^3 - 28*x_1^3*x_2^4*x_3^5*x_4*x_5^3 - 388*x_1^2*x_2^5*x_3^5*x_4*x_5^3 + 328*x_1*x_2^6*x_3^5*x_4*x_5^3 + 704*x_2^7*x_3^5*x_4*x_5^3 - 1460*x_1^6*x_3^6*x_4*x_5^3 + 328*x_1^5*x_2*x_3^6*x_4*x_5^3 + 452*x_1^4*x_2^2*x_3^6*x_4*x_5^3 + 168*x_1^3*x_2^3*x_3^6*x_4*x_5^3 + 452*x_1^2*x_2^4*x_3^6*x_4*x_5^3 + 328*x_1*x_2^5*x_3^6*x_4*x_5^3 - 1460*x_2^6*x_3^6*x_4*x_5^3 + 704*x_1^5*x_3^7*x_4*x_5^3 - 1080*x_1^4*x_2*x_3^7*x_4*x_5^3 - 776*x_1^3*x_2^2*x_3^7*x_4*x_5^3 - 776*x_1^2*x_2^3*x_3^7*x_4*x_5^3 - 1080*x_1*x_2^4*x_3^7*x_4*x_5^3 + 704*x_2^5*x_3^7*x_4*x_5^3 + 546*x_1^4*x_3^8*x_4*x_5^3 + 1468*x_1^3*x_2*x_3^8*x_4*x_5^3 + 1148*x_1^2*x_2^2*x_3^8*x_4*x_5^3 + 1468*x_1*x_2^3*x_3^8*x_4*x_5^3 + 546*x_2^4*x_3^8*x_4*x_5^3 - 812*x_1^3*x_3^9*x_4*x_5^3 - 892*x_1^2*x_2*x_3^9*x_4*x_5^3 - 892*x_1*x_2^2*x_3^9*x_4*x_5^3 - 812*x_2^3*x_3^9*x_4*x_5^3 + 244*x_1^2*x_3^10*x_4*x_5^3 + 68*x_1*x_2*x_3^10*x_4*x_5^3 + 244*x_2^2*x_3^10*x_4*x_5^3 + 108*x_1*x_3^11*x_4*x_5^3 + 108*x_2*x_3^11*x_4*x_5^3 - 60*x_3^12*x_4*x_5^3 - 28*x_1^11*x_4^2*x_5^3 + 244*x_1^10*x_2*x_4^2*x_5^3 - 592*x_1^9*x_2^2*x_4^2*x_5^3 + 736*x_1^8*x_2^3*x_4^2*x_5^3 - 612*x_1^7*x_2^4*x_4^2*x_5^3 + 252*x_1^6*x_2^5*x_4^2*x_5^3 + 252*x_1^5*x_2^6*x_4^2*x_5^3 - 612*x_1^4*x_2^7*x_4^2*x_5^3 + 736*x_1^3*x_2^8*x_4^2*x_5^3 - 592*x_1^2*x_2^9*x_4^2*x_5^3 + 244*x_1*x_2^10*x_4^2*x_5^3 - 28*x_2^11*x_4^2*x_5^3 + 244*x_1^10*x_3*x_4^2*x_5^3 - 892*x_1^9*x_2*x_3*x_4^2*x_5^3 + 1148*x_1^8*x_2^2*x_3*x_4^2*x_5^3 - 776*x_1^7*x_2^3*x_3*x_4^2*x_5^3 + 452*x_1^6*x_2^4*x_3*x_4^2*x_5^3 - 388*x_1^5*x_2^5*x_3*x_4^2*x_5^3 + 452*x_1^4*x_2^6*x_3*x_4^2*x_5^3 - 776*x_1^3*x_2^7*x_3*x_4^2*x_5^3 + 1148*x_1^2*x_2^8*x_3*x_4^2*x_5^3 - 892*x_1*x_2^9*x_3*x_4^2*x_5^3 + 244*x_2^10*x_3*x_4^2*x_5^3 - 592*x_1^9*x_3^2*x_4^2*x_5^3 + 1148*x_1^8*x_2*x_3^2*x_4^2*x_5^3 - 1032*x_1^7*x_2^2*x_3^2*x_4^2*x_5^3 + 656*x_1^6*x_2^3*x_3^2*x_4^2*x_5^3 - 240*x_1^5*x_2^4*x_3^2*x_4^2*x_5^3 - 240*x_1^4*x_2^5*x_3^2*x_4^2*x_5^3 + 656*x_1^3*x_2^6*x_3^2*x_4^2*x_5^3 - 1032*x_1^2*x_2^7*x_3^2*x_4^2*x_5^3 + 1148*x_1*x_2^8*x_3^2*x_4^2*x_5^3 - 592*x_2^9*x_3^2*x_4^2*x_5^3 + 736*x_1^8*x_3^3*x_4^2*x_5^3 - 776*x_1^7*x_2*x_3^3*x_4^2*x_5^3 + 656*x_1^6*x_2^2*x_3^3*x_4^2*x_5^3 - 336*x_1^5*x_2^3*x_3^3*x_4^2*x_5^3 + 140*x_1^4*x_2^4*x_3^3*x_4^2*x_5^3 - 336*x_1^3*x_2^5*x_3^3*x_4^2*x_5^3 + 656*x_1^2*x_2^6*x_3^3*x_4^2*x_5^3 - 776*x_1*x_2^7*x_3^3*x_4^2*x_5^3 + 736*x_2^8*x_3^3*x_4^2*x_5^3 - 612*x_1^7*x_3^4*x_4^2*x_5^3 + 452*x_1^6*x_2*x_3^4*x_4^2*x_5^3 - 240*x_1^5*x_2^2*x_3^4*x_4^2*x_5^3 + 140*x_1^4*x_2^3*x_3^4*x_4^2*x_5^3 + 140*x_1^3*x_2^4*x_3^4*x_4^2*x_5^3 - 240*x_1^2*x_2^5*x_3^4*x_4^2*x_5^3 + 452*x_1*x_2^6*x_3^4*x_4^2*x_5^3 - 612*x_2^7*x_3^4*x_4^2*x_5^3 + 252*x_1^6*x_3^5*x_4^2*x_5^3 - 388*x_1^5*x_2*x_3^5*x_4^2*x_5^3 - 240*x_1^4*x_2^2*x_3^5*x_4^2*x_5^3 - 336*x_1^3*x_2^3*x_3^5*x_4^2*x_5^3 - 240*x_1^2*x_2^4*x_3^5*x_4^2*x_5^3 - 388*x_1*x_2^5*x_3^5*x_4^2*x_5^3 + 252*x_2^6*x_3^5*x_4^2*x_5^3 + 252*x_1^5*x_3^6*x_4^2*x_5^3 + 452*x_1^4*x_2*x_3^6*x_4^2*x_5^3 + 656*x_1^3*x_2^2*x_3^6*x_4^2*x_5^3 + 656*x_1^2*x_2^3*x_3^6*x_4^2*x_5^3 + 452*x_1*x_2^4*x_3^6*x_4^2*x_5^3 + 252*x_2^5*x_3^6*x_4^2*x_5^3 - 612*x_1^4*x_3^7*x_4^2*x_5^3 - 776*x_1^3*x_2*x_3^7*x_4^2*x_5^3 - 1032*x_1^2*x_2^2*x_3^7*x_4^2*x_5^3 - 776*x_1*x_2^3*x_3^7*x_4^2*x_5^3 - 612*x_2^4*x_3^7*x_4^2*x_5^3 + 736*x_1^3*x_3^8*x_4^2*x_5^3 + 1148*x_1^2*x_2*x_3^8*x_4^2*x_5^3 + 1148*x_1*x_2^2*x_3^8*x_4^2*x_5^3 + 736*x_2^3*x_3^8*x_4^2*x_5^3 - 592*x_1^2*x_3^9*x_4^2*x_5^3 - 892*x_1*x_2*x_3^9*x_4^2*x_5^3 - 592*x_2^2*x_3^9*x_4^2*x_5^3 + 244*x_1*x_3^10*x_4^2*x_5^3 + 244*x_2*x_3^10*x_4^2*x_5^3 - 28*x_3^11*x_4^2*x_5^3 + 236*x_1^10*x_4^3*x_5^3 - 812*x_1^9*x_2*x_4^3*x_5^3 + 736*x_1^8*x_2^2*x_4^3*x_5^3 - 72*x_1^7*x_2^3*x_4^3*x_5^3 + 28*x_1^6*x_2^4*x_4^3*x_5^3 - 316*x_1^5*x_2^5*x_4^3*x_5^3 + 28*x_1^4*x_2^6*x_4^3*x_5^3 - 72*x_1^3*x_2^7*x_4^3*x_5^3 + 736*x_1^2*x_2^8*x_4^3*x_5^3 - 812*x_1*x_2^9*x_4^3*x_5^3 + 236*x_2^10*x_4^3*x_5^3 - 812*x_1^9*x_3*x_4^3*x_5^3 + 1468*x_1^8*x_2*x_3*x_4^3*x_5^3 - 776*x_1^7*x_2^2*x_3*x_4^3*x_5^3 + 168*x_1^6*x_2^3*x_3*x_4^3*x_5^3 - 28*x_1^5*x_2^4*x_3*x_4^3*x_5^3 - 28*x_1^4*x_2^5*x_3*x_4^3*x_5^3 + 168*x_1^3*x_2^6*x_3*x_4^3*x_5^3 - 776*x_1^2*x_2^7*x_3*x_4^3*x_5^3 + 1468*x_1*x_2^8*x_3*x_4^3*x_5^3 - 812*x_2^9*x_3*x_4^3*x_5^3 + 736*x_1^8*x_3^2*x_4^3*x_5^3 - 776*x_1^7*x_2*x_3^2*x_4^3*x_5^3 + 656*x_1^6*x_2^2*x_3^2*x_4^3*x_5^3 - 336*x_1^5*x_2^3*x_3^2*x_4^3*x_5^3 + 140*x_1^4*x_2^4*x_3^2*x_4^3*x_5^3 - 336*x_1^3*x_2^5*x_3^2*x_4^3*x_5^3 + 656*x_1^2*x_2^6*x_3^2*x_4^3*x_5^3 - 776*x_1*x_2^7*x_3^2*x_4^3*x_5^3 + 736*x_2^8*x_3^2*x_4^3*x_5^3 - 72*x_1^7*x_3^3*x_4^3*x_5^3 + 168*x_1^6*x_2*x_3^3*x_4^3*x_5^3 - 336*x_1^5*x_2^2*x_3^3*x_4^3*x_5^3 - 336*x_1^2*x_2^5*x_3^3*x_4^3*x_5^3 + 168*x_1*x_2^6*x_3^3*x_4^3*x_5^3 - 72*x_2^7*x_3^3*x_4^3*x_5^3 + 28*x_1^6*x_3^4*x_4^3*x_5^3 - 28*x_1^5*x_2*x_3^4*x_4^3*x_5^3 + 140*x_1^4*x_2^2*x_3^4*x_4^3*x_5^3 + 140*x_1^2*x_2^4*x_3^4*x_4^3*x_5^3 - 28*x_1*x_2^5*x_3^4*x_4^3*x_5^3 + 28*x_2^6*x_3^4*x_4^3*x_5^3 - 316*x_1^5*x_3^5*x_4^3*x_5^3 - 28*x_1^4*x_2*x_3^5*x_4^3*x_5^3 - 336*x_1^3*x_2^2*x_3^5*x_4^3*x_5^3 - 336*x_1^2*x_2^3*x_3^5*x_4^3*x_5^3 - 28*x_1*x_2^4*x_3^5*x_4^3*x_5^3 - 316*x_2^5*x_3^5*x_4^3*x_5^3 + 28*x_1^4*x_3^6*x_4^3*x_5^3 + 168*x_1^3*x_2*x_3^6*x_4^3*x_5^3 + 656*x_1^2*x_2^2*x_3^6*x_4^3*x_5^3 + 168*x_1*x_2^3*x_3^6*x_4^3*x_5^3 + 28*x_2^4*x_3^6*x_4^3*x_5^3 - 72*x_1^3*x_3^7*x_4^3*x_5^3 - 776*x_1^2*x_2*x_3^7*x_4^3*x_5^3 - 776*x_1*x_2^2*x_3^7*x_4^3*x_5^3 - 72*x_2^3*x_3^7*x_4^3*x_5^3 + 736*x_1^2*x_3^8*x_4^3*x_5^3 + 1468*x_1*x_2*x_3^8*x_4^3*x_5^3 + 736*x_2^2*x_3^8*x_4^3*x_5^3 - 812*x_1*x_3^9*x_4^3*x_5^3 - 812*x_2*x_3^9*x_4^3*x_5^3 + 236*x_3^10*x_4^3*x_5^3 - 92*x_1^9*x_4^4*x_5^3 + 546*x_1^8*x_2*x_4^4*x_5^3 - 612*x_1^7*x_2^2*x_4^4*x_5^3 + 28*x_1^6*x_2^3*x_4^4*x_5^3 + 180*x_1^5*x_2^4*x_4^4*x_5^3 + 180*x_1^4*x_2^5*x_4^4*x_5^3 + 28*x_1^3*x_2^6*x_4^4*x_5^3 - 612*x_1^2*x_2^7*x_4^4*x_5^3 + 546*x_1*x_2^8*x_4^4*x_5^3 - 92*x_2^9*x_4^4*x_5^3 + 546*x_1^8*x_3*x_4^4*x_5^3 - 1080*x_1^7*x_2*x_3*x_4^4*x_5^3 + 452*x_1^6*x_2^2*x_3*x_4^4*x_5^3 - 28*x_1^5*x_2^3*x_3*x_4^4*x_5^3 - 28*x_1^3*x_2^5*x_3*x_4^4*x_5^3 + 452*x_1^2*x_2^6*x_3*x_4^4*x_5^3 - 1080*x_1*x_2^7*x_3*x_4^4*x_5^3 + 546*x_2^8*x_3*x_4^4*x_5^3 - 612*x_1^7*x_3^2*x_4^4*x_5^3 + 452*x_1^6*x_2*x_3^2*x_4^4*x_5^3 - 240*x_1^5*x_2^2*x_3^2*x_4^4*x_5^3 + 140*x_1^4*x_2^3*x_3^2*x_4^4*x_5^3 + 140*x_1^3*x_2^4*x_3^2*x_4^4*x_5^3 - 240*x_1^2*x_2^5*x_3^2*x_4^4*x_5^3 + 452*x_1*x_2^6*x_3^2*x_4^4*x_5^3 - 612*x_2^7*x_3^2*x_4^4*x_5^3 + 28*x_1^6*x_3^3*x_4^4*x_5^3 - 28*x_1^5*x_2*x_3^3*x_4^4*x_5^3 + 140*x_1^4*x_2^2*x_3^3*x_4^4*x_5^3 + 140*x_1^2*x_2^4*x_3^3*x_4^4*x_5^3 - 28*x_1*x_2^5*x_3^3*x_4^4*x_5^3 + 28*x_2^6*x_3^3*x_4^4*x_5^3 + 180*x_1^5*x_3^4*x_4^4*x_5^3 + 140*x_1^3*x_2^2*x_3^4*x_4^4*x_5^3 + 140*x_1^2*x_2^3*x_3^4*x_4^4*x_5^3 + 180*x_2^5*x_3^4*x_4^4*x_5^3 + 180*x_1^4*x_3^5*x_4^4*x_5^3 - 28*x_1^3*x_2*x_3^5*x_4^4*x_5^3 - 240*x_1^2*x_2^2*x_3^5*x_4^4*x_5^3 - 28*x_1*x_2^3*x_3^5*x_4^4*x_5^3 + 180*x_2^4*x_3^5*x_4^4*x_5^3 + 28*x_1^3*x_3^6*x_4^4*x_5^3 + 452*x_1^2*x_2*x_3^6*x_4^4*x_5^3 + 452*x_1*x_2^2*x_3^6*x_4^4*x_5^3 + 28*x_2^3*x_3^6*x_4^4*x_5^3 - 612*x_1^2*x_3^7*x_4^4*x_5^3 - 1080*x_1*x_2*x_3^7*x_4^4*x_5^3 - 612*x_2^2*x_3^7*x_4^4*x_5^3 + 546*x_1*x_3^8*x_4^4*x_5^3 + 546*x_2*x_3^8*x_4^4*x_5^3 - 92*x_3^9*x_4^4*x_5^3 - 380*x_1^8*x_4^5*x_5^3 + 704*x_1^7*x_2*x_4^5*x_5^3 + 252*x_1^6*x_2^2*x_4^5*x_5^3 - 316*x_1^5*x_2^3*x_4^5*x_5^3 + 180*x_1^4*x_2^4*x_4^5*x_5^3 - 316*x_1^3*x_2^5*x_4^5*x_5^3 + 252*x_1^2*x_2^6*x_4^5*x_5^3 + 704*x_1*x_2^7*x_4^5*x_5^3 - 380*x_2^8*x_4^5*x_5^3 + 704*x_1^7*x_3*x_4^5*x_5^3 + 328*x_1^6*x_2*x_3*x_4^5*x_5^3 - 388*x_1^5*x_2^2*x_3*x_4^5*x_5^3 - 28*x_1^4*x_2^3*x_3*x_4^5*x_5^3 - 28*x_1^3*x_2^4*x_3*x_4^5*x_5^3 - 388*x_1^2*x_2^5*x_3*x_4^5*x_5^3 + 328*x_1*x_2^6*x_3*x_4^5*x_5^3 + 704*x_2^7*x_3*x_4^5*x_5^3 + 252*x_1^6*x_3^2*x_4^5*x_5^3 - 388*x_1^5*x_2*x_3^2*x_4^5*x_5^3 - 240*x_1^4*x_2^2*x_3^2*x_4^5*x_5^3 - 336*x_1^3*x_2^3*x_3^2*x_4^5*x_5^3 - 240*x_1^2*x_2^4*x_3^2*x_4^5*x_5^3 - 388*x_1*x_2^5*x_3^2*x_4^5*x_5^3 + 252*x_2^6*x_3^2*x_4^5*x_5^3 - 316*x_1^5*x_3^3*x_4^5*x_5^3 - 28*x_1^4*x_2*x_3^3*x_4^5*x_5^3 - 336*x_1^3*x_2^2*x_3^3*x_4^5*x_5^3 - 336*x_1^2*x_2^3*x_3^3*x_4^5*x_5^3 - 28*x_1*x_2^4*x_3^3*x_4^5*x_5^3 - 316*x_2^5*x_3^3*x_4^5*x_5^3 + 180*x_1^4*x_3^4*x_4^5*x_5^3 - 28*x_1^3*x_2*x_3^4*x_4^5*x_5^3 - 240*x_1^2*x_2^2*x_3^4*x_4^5*x_5^3 - 28*x_1*x_2^3*x_3^4*x_4^5*x_5^3 + 180*x_2^4*x_3^4*x_4^5*x_5^3 - 316*x_1^3*x_3^5*x_4^5*x_5^3 - 388*x_1^2*x_2*x_3^5*x_4^5*x_5^3 - 388*x_1*x_2^2*x_3^5*x_4^5*x_5^3 - 316*x_2^3*x_3^5*x_4^5*x_5^3 + 252*x_1^2*x_3^6*x_4^5*x_5^3 + 328*x_1*x_2*x_3^6*x_4^5*x_5^3 + 252*x_2^2*x_3^6*x_4^5*x_5^3 + 704*x_1*x_3^7*x_4^5*x_5^3 + 704*x_2*x_3^7*x_4^5*x_5^3 - 380*x_3^8*x_4^5*x_5^3 + 304*x_1^7*x_4^6*x_5^3 - 1460*x_1^6*x_2*x_4^6*x_5^3 + 252*x_1^5*x_2^2*x_4^6*x_5^3 + 28*x_1^4*x_2^3*x_4^6*x_5^3 + 28*x_1^3*x_2^4*x_4^6*x_5^3 + 252*x_1^2*x_2^5*x_4^6*x_5^3 - 1460*x_1*x_2^6*x_4^6*x_5^3 + 304*x_2^7*x_4^6*x_5^3 - 1460*x_1^6*x_3*x_4^6*x_5^3 + 328*x_1^5*x_2*x_3*x_4^6*x_5^3 + 452*x_1^4*x_2^2*x_3*x_4^6*x_5^3 + 168*x_1^3*x_2^3*x_3*x_4^6*x_5^3 + 452*x_1^2*x_2^4*x_3*x_4^6*x_5^3 + 328*x_1*x_2^5*x_3*x_4^6*x_5^3 - 1460*x_2^6*x_3*x_4^6*x_5^3 + 252*x_1^5*x_3^2*x_4^6*x_5^3 + 452*x_1^4*x_2*x_3^2*x_4^6*x_5^3 + 656*x_1^3*x_2^2*x_3^2*x_4^6*x_5^3 + 656*x_1^2*x_2^3*x_3^2*x_4^6*x_5^3 + 452*x_1*x_2^4*x_3^2*x_4^6*x_5^3 + 252*x_2^5*x_3^2*x_4^6*x_5^3 + 28*x_1^4*x_3^3*x_4^6*x_5^3 + 168*x_1^3*x_2*x_3^3*x_4^6*x_5^3 + 656*x_1^2*x_2^2*x_3^3*x_4^6*x_5^3 + 168*x_1*x_2^3*x_3^3*x_4^6*x_5^3 + 28*x_2^4*x_3^3*x_4^6*x_5^3 + 28*x_1^3*x_3^4*x_4^6*x_5^3 + 452*x_1^2*x_2*x_3^4*x_4^6*x_5^3 + 452*x_1*x_2^2*x_3^4*x_4^6*x_5^3 + 28*x_2^3*x_3^4*x_4^6*x_5^3 + 252*x_1^2*x_3^5*x_4^6*x_5^3 + 328*x_1*x_2*x_3^5*x_4^6*x_5^3 + 252*x_2^2*x_3^5*x_4^6*x_5^3 - 1460*x_1*x_3^6*x_4^6*x_5^3 - 1460*x_2*x_3^6*x_4^6*x_5^3 + 304*x_3^7*x_4^6*x_5^3 + 304*x_1^6*x_4^7*x_5^3 + 704*x_1^5*x_2*x_4^7*x_5^3 - 612*x_1^4*x_2^2*x_4^7*x_5^3 - 72*x_1^3*x_2^3*x_4^7*x_5^3 - 612*x_1^2*x_2^4*x_4^7*x_5^3 + 704*x_1*x_2^5*x_4^7*x_5^3 + 304*x_2^6*x_4^7*x_5^3 + 704*x_1^5*x_3*x_4^7*x_5^3 - 1080*x_1^4*x_2*x_3*x_4^7*x_5^3 - 776*x_1^3*x_2^2*x_3*x_4^7*x_5^3 - 776*x_1^2*x_2^3*x_3*x_4^7*x_5^3 - 1080*x_1*x_2^4*x_3*x_4^7*x_5^3 + 704*x_2^5*x_3*x_4^7*x_5^3 - 612*x_1^4*x_3^2*x_4^7*x_5^3 - 776*x_1^3*x_2*x_3^2*x_4^7*x_5^3 - 1032*x_1^2*x_2^2*x_3^2*x_4^7*x_5^3 - 776*x_1*x_2^3*x_3^2*x_4^7*x_5^3 - 612*x_2^4*x_3^2*x_4^7*x_5^3 - 72*x_1^3*x_3^3*x_4^7*x_5^3 - 776*x_1^2*x_2*x_3^3*x_4^7*x_5^3 - 776*x_1*x_2^2*x_3^3*x_4^7*x_5^3 - 72*x_2^3*x_3^3*x_4^7*x_5^3 - 612*x_1^2*x_3^4*x_4^7*x_5^3 - 1080*x_1*x_2*x_3^4*x_4^7*x_5^3 - 612*x_2^2*x_3^4*x_4^7*x_5^3 + 704*x_1*x_3^5*x_4^7*x_5^3 + 704*x_2*x_3^5*x_4^7*x_5^3 + 304*x_3^6*x_4^7*x_5^3 - 380*x_1^5*x_4^8*x_5^3 + 546*x_1^4*x_2*x_4^8*x_5^3 + 736*x_1^3*x_2^2*x_4^8*x_5^3 + 736*x_1^2*x_2^3*x_4^8*x_5^3 + 546*x_1*x_2^4*x_4^8*x_5^3 - 380*x_2^5*x_4^8*x_5^3 + 546*x_1^4*x_3*x_4^8*x_5^3 + 1468*x_1^3*x_2*x_3*x_4^8*x_5^3 + 1148*x_1^2*x_2^2*x_3*x_4^8*x_5^3 + 1468*x_1*x_2^3*x_3*x_4^8*x_5^3 + 546*x_2^4*x_3*x_4^8*x_5^3 + 736*x_1^3*x_3^2*x_4^8*x_5^3 + 1148*x_1^2*x_2*x_3^2*x_4^8*x_5^3 + 1148*x_1*x_2^2*x_3^2*x_4^8*x_5^3 + 736*x_2^3*x_3^2*x_4^8*x_5^3 + 736*x_1^2*x_3^3*x_4^8*x_5^3 + 1468*x_1*x_2*x_3^3*x_4^8*x_5^3 + 736*x_2^2*x_3^3*x_4^8*x_5^3 + 546*x_1*x_3^4*x_4^8*x_5^3 + 546*x_2*x_3^4*x_4^8*x_5^3 - 380*x_3^5*x_4^8*x_5^3 - 92*x_1^4*x_4^9*x_5^3 - 812*x_1^3*x_2*x_4^9*x_5^3 - 592*x_1^2*x_2^2*x_4^9*x_5^3 - 812*x_1*x_2^3*x_4^9*x_5^3 - 92*x_2^4*x_4^9*x_5^3 - 812*x_1^3*x_3*x_4^9*x_5^3 - 892*x_1^2*x_2*x_3*x_4^9*x_5^3 - 892*x_1*x_2^2*x_3*x_4^9*x_5^3 - 812*x_2^3*x_3*x_4^9*x_5^3 - 592*x_1^2*x_3^2*x_4^9*x_5^3 - 892*x_1*x_2*x_3^2*x_4^9*x_5^3 - 592*x_2^2*x_3^2*x_4^9*x_5^3 - 812*x_1*x_3^3*x_4^9*x_5^3 - 812*x_2*x_3^3*x_4^9*x_5^3 - 92*x_3^4*x_4^9*x_5^3 + 236*x_1^3*x_4^10*x_5^3 + 244*x_1^2*x_2*x_4^10*x_5^3 + 244*x_1*x_2^2*x_4^10*x_5^3 + 236*x_2^3*x_4^10*x_5^3 + 244*x_1^2*x_3*x_4^10*x_5^3 + 68*x_1*x_2*x_3*x_4^10*x_5^3 + 244*x_2^2*x_3*x_4^10*x_5^3 + 244*x_1*x_3^2*x_4^10*x_5^3 + 244*x_2*x_3^2*x_4^10*x_5^3 + 236*x_3^3*x_4^10*x_5^3 - 28*x_1^2*x_4^11*x_5^3 + 108*x_1*x_2*x_4^11*x_5^3 - 28*x_2^2*x_4^11*x_5^3 + 108*x_1*x_3*x_4^11*x_5^3 + 108*x_2*x_3*x_4^11*x_5^3 - 28*x_3^2*x_4^11*x_5^3 - 60*x_1*x_4^12*x_5^3 - 60*x_2*x_4^12*x_5^3 - 60*x_3*x_4^12*x_5^3 + 20*x_4^13*x_5^3 - 20*x_1^12*x_5^4 + 140*x_1^11*x_2*x_5^4 - 222*x_1^10*x_2^2*x_5^4 - 92*x_1^9*x_2^3*x_5^4 + 409*x_1^8*x_2^4*x_5^4 - 48*x_1^7*x_2^5*x_5^4 - 334*x_1^6*x_2^6*x_5^4 - 48*x_1^5*x_2^7*x_5^4 + 409*x_1^4*x_2^8*x_5^4 - 92*x_1^3*x_2^9*x_5^4 - 222*x_1^2*x_2^10*x_5^4 + 140*x_1*x_2^11*x_5^4 - 20*x_2^12*x_5^4 + 140*x_1^11*x_3*x_5^4 - 558*x_1^10*x_2*x_3*x_5^4 + 518*x_1^9*x_2^2*x_3*x_5^4 + 546*x_1^8*x_2^3*x_3*x_5^4 - 1396*x_1^7*x_2^4*x_3*x_5^4 + 750*x_1^6*x_2^5*x_3*x_5^4 + 750*x_1^5*x_2^6*x_3*x_5^4 - 1396*x_1^4*x_2^7*x_3*x_5^4 + 546*x_1^3*x_2^8*x_3*x_5^4 + 518*x_1^2*x_2^9*x_3*x_5^4 - 558*x_1*x_2^10*x_3*x_5^4 + 140*x_2^11*x_3*x_5^4 - 222*x_1^10*x_3^2*x_5^4 + 518*x_1^9*x_2*x_3^2*x_5^4 - 59*x_1^8*x_2^2*x_3^2*x_5^4 - 612*x_1^7*x_2^3*x_3^2*x_5^4 + 622*x_1^6*x_2^4*x_3^2*x_5^4 - 422*x_1^5*x_2^5*x_3^2*x_5^4 + 622*x_1^4*x_2^6*x_3^2*x_5^4 - 612*x_1^3*x_2^7*x_3^2*x_5^4 - 59*x_1^2*x_2^8*x_3^2*x_5^4 + 518*x_1*x_2^9*x_3^2*x_5^4 - 222*x_2^10*x_3^2*x_5^4 - 92*x_1^9*x_3^3*x_5^4 + 546*x_1^8*x_2*x_3^3*x_5^4 - 612*x_1^7*x_2^2*x_3^3*x_5^4 + 28*x_1^6*x_2^3*x_3^3*x_5^4 + 180*x_1^5*x_2^4*x_3^3*x_5^4 + 180*x_1^4*x_2^5*x_3^3*x_5^4 + 28*x_1^3*x_2^6*x_3^3*x_5^4 - 612*x_1^2*x_2^7*x_3^3*x_5^4 + 546*x_1*x_2^8*x_3^3*x_5^4 - 92*x_2^9*x_3^3*x_5^4 + 409*x_1^8*x_3^4*x_5^4 - 1396*x_1^7*x_2*x_3^4*x_5^4 + 622*x_1^6*x_2^2*x_3^4*x_5^4 + 180*x_1^5*x_2^3*x_3^4*x_5^4 - 675*x_1^4*x_2^4*x_3^4*x_5^4 + 180*x_1^3*x_2^5*x_3^4*x_5^4 + 622*x_1^2*x_2^6*x_3^4*x_5^4 - 1396*x_1*x_2^7*x_3^4*x_5^4 + 409*x_2^8*x_3^4*x_5^4 - 48*x_1^7*x_3^5*x_5^4 + 750*x_1^6*x_2*x_3^5*x_5^4 - 422*x_1^5*x_2^2*x_3^5*x_5^4 + 180*x_1^4*x_2^3*x_3^5*x_5^4 + 180*x_1^3*x_2^4*x_3^5*x_5^4 - 422*x_1^2*x_2^5*x_3^5*x_5^4 + 750*x_1*x_2^6*x_3^5*x_5^4 - 48*x_2^7*x_3^5*x_5^4 - 334*x_1^6*x_3^6*x_5^4 + 750*x_1^5*x_2*x_3^6*x_5^4 + 622*x_1^4*x_2^2*x_3^6*x_5^4 + 28*x_1^3*x_2^3*x_3^6*x_5^4 + 622*x_1^2*x_2^4*x_3^6*x_5^4 + 750*x_1*x_2^5*x_3^6*x_5^4 - 334*x_2^6*x_3^6*x_5^4 - 48*x_1^5*x_3^7*x_5^4 - 1396*x_1^4*x_2*x_3^7*x_5^4 - 612*x_1^3*x_2^2*x_3^7*x_5^4 - 612*x_1^2*x_2^3*x_3^7*x_5^4 - 1396*x_1*x_2^4*x_3^7*x_5^4 - 48*x_2^5*x_3^7*x_5^4 + 409*x_1^4*x_3^8*x_5^4 + 546*x_1^3*x_2*x_3^8*x_5^4 - 59*x_1^2*x_2^2*x_3^8*x_5^4 + 546*x_1*x_2^3*x_3^8*x_5^4 + 409*x_2^4*x_3^8*x_5^4 - 92*x_1^3*x_3^9*x_5^4 + 518*x_1^2*x_2*x_3^9*x_5^4 + 518*x_1*x_2^2*x_3^9*x_5^4 - 92*x_2^3*x_3^9*x_5^4 - 222*x_1^2*x_3^10*x_5^4 - 558*x_1*x_2*x_3^10*x_5^4 - 222*x_2^2*x_3^10*x_5^4 + 140*x_1*x_3^11*x_5^4 + 140*x_2*x_3^11*x_5^4 - 20*x_3^12*x_5^4 + 140*x_1^11*x_4*x_5^4 - 558*x_1^10*x_2*x_4*x_5^4 + 518*x_1^9*x_2^2*x_4*x_5^4 + 546*x_1^8*x_2^3*x_4*x_5^4 - 1396*x_1^7*x_2^4*x_4*x_5^4 + 750*x_1^6*x_2^5*x_4*x_5^4 + 750*x_1^5*x_2^6*x_4*x_5^4 - 1396*x_1^4*x_2^7*x_4*x_5^4 + 546*x_1^3*x_2^8*x_4*x_5^4 + 518*x_1^2*x_2^9*x_4*x_5^4 - 558*x_1*x_2^10*x_4*x_5^4 + 140*x_2^11*x_4*x_5^4 - 558*x_1^10*x_3*x_4*x_5^4 + 1168*x_1^9*x_2*x_3*x_4*x_5^4 - 242*x_1^8*x_2^2*x_3*x_4*x_5^4 - 1080*x_1^7*x_2^3*x_3*x_4*x_5^4 + 1028*x_1^6*x_2^4*x_3*x_4*x_5^4 - 596*x_1^5*x_2^5*x_3*x_4*x_5^4 + 1028*x_1^4*x_2^6*x_3*x_4*x_5^4 - 1080*x_1^3*x_2^7*x_3*x_4*x_5^4 - 242*x_1^2*x_2^8*x_3*x_4*x_5^4 + 1168*x_1*x_2^9*x_3*x_4*x_5^4 - 558*x_2^10*x_3*x_4*x_5^4 + 518*x_1^9*x_3^2*x_4*x_5^4 - 242*x_1^8*x_2*x_3^2*x_4*x_5^4 - 616*x_1^7*x_2^2*x_3^2*x_4*x_5^4 + 452*x_1^6*x_2^3*x_3^2*x_4*x_5^4 - 52*x_1^5*x_2^4*x_3^2*x_4*x_5^4 - 52*x_1^4*x_2^5*x_3^2*x_4*x_5^4 + 452*x_1^3*x_2^6*x_3^2*x_4*x_5^4 - 616*x_1^2*x_2^7*x_3^2*x_4*x_5^4 - 242*x_1*x_2^8*x_3^2*x_4*x_5^4 + 518*x_2^9*x_3^2*x_4*x_5^4 + 546*x_1^8*x_3^3*x_4*x_5^4 - 1080*x_1^7*x_2*x_3^3*x_4*x_5^4 + 452*x_1^6*x_2^2*x_3^3*x_4*x_5^4 - 28*x_1^5*x_2^3*x_3^3*x_4*x_5^4 - 28*x_1^3*x_2^5*x_3^3*x_4*x_5^4 + 452*x_1^2*x_2^6*x_3^3*x_4*x_5^4 - 1080*x_1*x_2^7*x_3^3*x_4*x_5^4 + 546*x_2^8*x_3^3*x_4*x_5^4 - 1396*x_1^7*x_3^4*x_4*x_5^4 + 1028*x_1^6*x_2*x_3^4*x_4*x_5^4 - 52*x_1^5*x_2^2*x_3^4*x_4*x_5^4 - 52*x_1^2*x_2^5*x_3^4*x_4*x_5^4 + 1028*x_1*x_2^6*x_3^4*x_4*x_5^4 - 1396*x_2^7*x_3^4*x_4*x_5^4 + 750*x_1^6*x_3^5*x_4*x_5^4 - 596*x_1^5*x_2*x_3^5*x_4*x_5^4 - 52*x_1^4*x_2^2*x_3^5*x_4*x_5^4 - 28*x_1^3*x_2^3*x_3^5*x_4*x_5^4 - 52*x_1^2*x_2^4*x_3^5*x_4*x_5^4 - 596*x_1*x_2^5*x_3^5*x_4*x_5^4 + 750*x_2^6*x_3^5*x_4*x_5^4 + 750*x_1^5*x_3^6*x_4*x_5^4 + 1028*x_1^4*x_2*x_3^6*x_4*x_5^4 + 452*x_1^3*x_2^2*x_3^6*x_4*x_5^4 + 452*x_1^2*x_2^3*x_3^6*x_4*x_5^4 + 1028*x_1*x_2^4*x_3^6*x_4*x_5^4 + 750*x_2^5*x_3^6*x_4*x_5^4 - 1396*x_1^4*x_3^7*x_4*x_5^4 - 1080*x_1^3*x_2*x_3^7*x_4*x_5^4 - 616*x_1^2*x_2^2*x_3^7*x_4*x_5^4 - 1080*x_1*x_2^3*x_3^7*x_4*x_5^4 - 1396*x_2^4*x_3^7*x_4*x_5^4 + 546*x_1^3*x_3^8*x_4*x_5^4 - 242*x_1^2*x_2*x_3^8*x_4*x_5^4 - 242*x_1*x_2^2*x_3^8*x_4*x_5^4 + 546*x_2^3*x_3^8*x_4*x_5^4 + 518*x_1^2*x_3^9*x_4*x_5^4 + 1168*x_1*x_2*x_3^9*x_4*x_5^4 + 518*x_2^2*x_3^9*x_4*x_5^4 - 558*x_1*x_3^10*x_4*x_5^4 - 558*x_2*x_3^10*x_4*x_5^4 + 140*x_3^11*x_4*x_5^4 - 222*x_1^10*x_4^2*x_5^4 + 518*x_1^9*x_2*x_4^2*x_5^4 - 59*x_1^8*x_2^2*x_4^2*x_5^4 - 612*x_1^7*x_2^3*x_4^2*x_5^4 + 622*x_1^6*x_2^4*x_4^2*x_5^4 - 422*x_1^5*x_2^5*x_4^2*x_5^4 + 622*x_1^4*x_2^6*x_4^2*x_5^4 - 612*x_1^3*x_2^7*x_4^2*x_5^4 - 59*x_1^2*x_2^8*x_4^2*x_5^4 + 518*x_1*x_2^9*x_4^2*x_5^4 - 222*x_2^10*x_4^2*x_5^4 + 518*x_1^9*x_3*x_4^2*x_5^4 - 242*x_1^8*x_2*x_3*x_4^2*x_5^4 - 616*x_1^7*x_2^2*x_3*x_4^2*x_5^4 + 452*x_1^6*x_2^3*x_3*x_4^2*x_5^4 - 52*x_1^5*x_2^4*x_3*x_4^2*x_5^4 - 52*x_1^4*x_2^5*x_3*x_4^2*x_5^4 + 452*x_1^3*x_2^6*x_3*x_4^2*x_5^4 - 616*x_1^2*x_2^7*x_3*x_4^2*x_5^4 - 242*x_1*x_2^8*x_3*x_4^2*x_5^4 + 518*x_2^9*x_3*x_4^2*x_5^4 - 59*x_1^8*x_3^2*x_4^2*x_5^4 - 616*x_1^7*x_2*x_3^2*x_4^2*x_5^4 + 330*x_1^6*x_2^2*x_3^2*x_4^2*x_5^4 - 240*x_1^5*x_2^3*x_3^2*x_4^2*x_5^4 + 390*x_1^4*x_2^4*x_3^2*x_4^2*x_5^4 - 240*x_1^3*x_2^5*x_3^2*x_4^2*x_5^4 + 330*x_1^2*x_2^6*x_3^2*x_4^2*x_5^4 - 616*x_1*x_2^7*x_3^2*x_4^2*x_5^4 - 59*x_2^8*x_3^2*x_4^2*x_5^4 - 612*x_1^7*x_3^3*x_4^2*x_5^4 + 452*x_1^6*x_2*x_3^3*x_4^2*x_5^4 - 240*x_1^5*x_2^2*x_3^3*x_4^2*x_5^4 + 140*x_1^4*x_2^3*x_3^3*x_4^2*x_5^4 + 140*x_1^3*x_2^4*x_3^3*x_4^2*x_5^4 - 240*x_1^2*x_2^5*x_3^3*x_4^2*x_5^4 + 452*x_1*x_2^6*x_3^3*x_4^2*x_5^4 - 612*x_2^7*x_3^3*x_4^2*x_5^4 + 622*x_1^6*x_3^4*x_4^2*x_5^4 - 52*x_1^5*x_2*x_3^4*x_4^2*x_5^4 + 390*x_1^4*x_2^2*x_3^4*x_4^2*x_5^4 + 140*x_1^3*x_2^3*x_3^4*x_4^2*x_5^4 + 390*x_1^2*x_2^4*x_3^4*x_4^2*x_5^4 - 52*x_1*x_2^5*x_3^4*x_4^2*x_5^4 + 622*x_2^6*x_3^4*x_4^2*x_5^4 - 422*x_1^5*x_3^5*x_4^2*x_5^4 - 52*x_1^4*x_2*x_3^5*x_4^2*x_5^4 - 240*x_1^3*x_2^2*x_3^5*x_4^2*x_5^4 - 240*x_1^2*x_2^3*x_3^5*x_4^2*x_5^4 - 52*x_1*x_2^4*x_3^5*x_4^2*x_5^4 - 422*x_2^5*x_3^5*x_4^2*x_5^4 + 622*x_1^4*x_3^6*x_4^2*x_5^4 + 452*x_1^3*x_2*x_3^6*x_4^2*x_5^4 + 330*x_1^2*x_2^2*x_3^6*x_4^2*x_5^4 + 452*x_1*x_2^3*x_3^6*x_4^2*x_5^4 + 622*x_2^4*x_3^6*x_4^2*x_5^4 - 612*x_1^3*x_3^7*x_4^2*x_5^4 - 616*x_1^2*x_2*x_3^7*x_4^2*x_5^4 - 616*x_1*x_2^2*x_3^7*x_4^2*x_5^4 - 612*x_2^3*x_3^7*x_4^2*x_5^4 - 59*x_1^2*x_3^8*x_4^2*x_5^4 - 242*x_1*x_2*x_3^8*x_4^2*x_5^4 - 59*x_2^2*x_3^8*x_4^2*x_5^4 + 518*x_1*x_3^9*x_4^2*x_5^4 + 518*x_2*x_3^9*x_4^2*x_5^4 - 222*x_3^10*x_4^2*x_5^4 - 92*x_1^9*x_4^3*x_5^4 + 546*x_1^8*x_2*x_4^3*x_5^4 - 612*x_1^7*x_2^2*x_4^3*x_5^4 + 28*x_1^6*x_2^3*x_4^3*x_5^4 + 180*x_1^5*x_2^4*x_4^3*x_5^4 + 180*x_1^4*x_2^5*x_4^3*x_5^4 + 28*x_1^3*x_2^6*x_4^3*x_5^4 - 612*x_1^2*x_2^7*x_4^3*x_5^4 + 546*x_1*x_2^8*x_4^3*x_5^4 - 92*x_2^9*x_4^3*x_5^4 + 546*x_1^8*x_3*x_4^3*x_5^4 - 1080*x_1^7*x_2*x_3*x_4^3*x_5^4 + 452*x_1^6*x_2^2*x_3*x_4^3*x_5^4 - 28*x_1^5*x_2^3*x_3*x_4^3*x_5^4 - 28*x_1^3*x_2^5*x_3*x_4^3*x_5^4 + 452*x_1^2*x_2^6*x_3*x_4^3*x_5^4 - 1080*x_1*x_2^7*x_3*x_4^3*x_5^4 + 546*x_2^8*x_3*x_4^3*x_5^4 - 612*x_1^7*x_3^2*x_4^3*x_5^4 + 452*x_1^6*x_2*x_3^2*x_4^3*x_5^4 - 240*x_1^5*x_2^2*x_3^2*x_4^3*x_5^4 + 140*x_1^4*x_2^3*x_3^2*x_4^3*x_5^4 + 140*x_1^3*x_2^4*x_3^2*x_4^3*x_5^4 - 240*x_1^2*x_2^5*x_3^2*x_4^3*x_5^4 + 452*x_1*x_2^6*x_3^2*x_4^3*x_5^4 - 612*x_2^7*x_3^2*x_4^3*x_5^4 + 28*x_1^6*x_3^3*x_4^3*x_5^4 - 28*x_1^5*x_2*x_3^3*x_4^3*x_5^4 + 140*x_1^4*x_2^2*x_3^3*x_4^3*x_5^4 + 140*x_1^2*x_2^4*x_3^3*x_4^3*x_5^4 - 28*x_1*x_2^5*x_3^3*x_4^3*x_5^4 + 28*x_2^6*x_3^3*x_4^3*x_5^4 + 180*x_1^5*x_3^4*x_4^3*x_5^4 + 140*x_1^3*x_2^2*x_3^4*x_4^3*x_5^4 + 140*x_1^2*x_2^3*x_3^4*x_4^3*x_5^4 + 180*x_2^5*x_3^4*x_4^3*x_5^4 + 180*x_1^4*x_3^5*x_4^3*x_5^4 - 28*x_1^3*x_2*x_3^5*x_4^3*x_5^4 - 240*x_1^2*x_2^2*x_3^5*x_4^3*x_5^4 - 28*x_1*x_2^3*x_3^5*x_4^3*x_5^4 + 180*x_2^4*x_3^5*x_4^3*x_5^4 + 28*x_1^3*x_3^6*x_4^3*x_5^4 + 452*x_1^2*x_2*x_3^6*x_4^3*x_5^4 + 452*x_1*x_2^2*x_3^6*x_4^3*x_5^4 + 28*x_2^3*x_3^6*x_4^3*x_5^4 - 612*x_1^2*x_3^7*x_4^3*x_5^4 - 1080*x_1*x_2*x_3^7*x_4^3*x_5^4 - 612*x_2^2*x_3^7*x_4^3*x_5^4 + 546*x_1*x_3^8*x_4^3*x_5^4 + 546*x_2*x_3^8*x_4^3*x_5^4 - 92*x_3^9*x_4^3*x_5^4 + 409*x_1^8*x_4^4*x_5^4 - 1396*x_1^7*x_2*x_4^4*x_5^4 + 622*x_1^6*x_2^2*x_4^4*x_5^4 + 180*x_1^5*x_2^3*x_4^4*x_5^4 - 675*x_1^4*x_2^4*x_4^4*x_5^4 + 180*x_1^3*x_2^5*x_4^4*x_5^4 + 622*x_1^2*x_2^6*x_4^4*x_5^4 - 1396*x_1*x_2^7*x_4^4*x_5^4 + 409*x_2^8*x_4^4*x_5^4 - 1396*x_1^7*x_3*x_4^4*x_5^4 + 1028*x_1^6*x_2*x_3*x_4^4*x_5^4 - 52*x_1^5*x_2^2*x_3*x_4^4*x_5^4 - 52*x_1^2*x_2^5*x_3*x_4^4*x_5^4 + 1028*x_1*x_2^6*x_3*x_4^4*x_5^4 - 1396*x_2^7*x_3*x_4^4*x_5^4 + 622*x_1^6*x_3^2*x_4^4*x_5^4 - 52*x_1^5*x_2*x_3^2*x_4^4*x_5^4 + 390*x_1^4*x_2^2*x_3^2*x_4^4*x_5^4 + 140*x_1^3*x_2^3*x_3^2*x_4^4*x_5^4 + 390*x_1^2*x_2^4*x_3^2*x_4^4*x_5^4 - 52*x_1*x_2^5*x_3^2*x_4^4*x_5^4 + 622*x_2^6*x_3^2*x_4^4*x_5^4 + 180*x_1^5*x_3^3*x_4^4*x_5^4 + 140*x_1^3*x_2^2*x_3^3*x_4^4*x_5^4 + 140*x_1^2*x_2^3*x_3^3*x_4^4*x_5^4 + 180*x_2^5*x_3^3*x_4^4*x_5^4 - 675*x_1^4*x_3^4*x_4^4*x_5^4 + 390*x_1^2*x_2^2*x_3^4*x_4^4*x_5^4 - 675*x_2^4*x_3^4*x_4^4*x_5^4 + 180*x_1^3*x_3^5*x_4^4*x_5^4 - 52*x_1^2*x_2*x_3^5*x_4^4*x_5^4 - 52*x_1*x_2^2*x_3^5*x_4^4*x_5^4 + 180*x_2^3*x_3^5*x_4^4*x_5^4 + 622*x_1^2*x_3^6*x_4^4*x_5^4 + 1028*x_1*x_2*x_3^6*x_4^4*x_5^4 + 622*x_2^2*x_3^6*x_4^4*x_5^4 - 1396*x_1*x_3^7*x_4^4*x_5^4 - 1396*x_2*x_3^7*x_4^4*x_5^4 + 409*x_3^8*x_4^4*x_5^4 - 48*x_1^7*x_4^5*x_5^4 + 750*x_1^6*x_2*x_4^5*x_5^4 - 422*x_1^5*x_2^2*x_4^5*x_5^4 + 180*x_1^4*x_2^3*x_4^5*x_5^4 + 180*x_1^3*x_2^4*x_4^5*x_5^4 - 422*x_1^2*x_2^5*x_4^5*x_5^4 + 750*x_1*x_2^6*x_4^5*x_5^4 - 48*x_2^7*x_4^5*x_5^4 + 750*x_1^6*x_3*x_4^5*x_5^4 - 596*x_1^5*x_2*x_3*x_4^5*x_5^4 - 52*x_1^4*x_2^2*x_3*x_4^5*x_5^4 - 28*x_1^3*x_2^3*x_3*x_4^5*x_5^4 - 52*x_1^2*x_2^4*x_3*x_4^5*x_5^4 - 596*x_1*x_2^5*x_3*x_4^5*x_5^4 + 750*x_2^6*x_3*x_4^5*x_5^4 - 422*x_1^5*x_3^2*x_4^5*x_5^4 - 52*x_1^4*x_2*x_3^2*x_4^5*x_5^4 - 240*x_1^3*x_2^2*x_3^2*x_4^5*x_5^4 - 240*x_1^2*x_2^3*x_3^2*x_4^5*x_5^4 - 52*x_1*x_2^4*x_3^2*x_4^5*x_5^4 - 422*x_2^5*x_3^2*x_4^5*x_5^4 + 180*x_1^4*x_3^3*x_4^5*x_5^4 - 28*x_1^3*x_2*x_3^3*x_4^5*x_5^4 - 240*x_1^2*x_2^2*x_3^3*x_4^5*x_5^4 - 28*x_1*x_2^3*x_3^3*x_4^5*x_5^4 + 180*x_2^4*x_3^3*x_4^5*x_5^4 + 180*x_1^3*x_3^4*x_4^5*x_5^4 - 52*x_1^2*x_2*x_3^4*x_4^5*x_5^4 - 52*x_1*x_2^2*x_3^4*x_4^5*x_5^4 + 180*x_2^3*x_3^4*x_4^5*x_5^4 - 422*x_1^2*x_3^5*x_4^5*x_5^4 - 596*x_1*x_2*x_3^5*x_4^5*x_5^4 - 422*x_2^2*x_3^5*x_4^5*x_5^4 + 750*x_1*x_3^6*x_4^5*x_5^4 + 750*x_2*x_3^6*x_4^5*x_5^4 - 48*x_3^7*x_4^5*x_5^4 - 334*x_1^6*x_4^6*x_5^4 + 750*x_1^5*x_2*x_4^6*x_5^4 + 622*x_1^4*x_2^2*x_4^6*x_5^4 + 28*x_1^3*x_2^3*x_4^6*x_5^4 + 622*x_1^2*x_2^4*x_4^6*x_5^4 + 750*x_1*x_2^5*x_4^6*x_5^4 - 334*x_2^6*x_4^6*x_5^4 + 750*x_1^5*x_3*x_4^6*x_5^4 + 1028*x_1^4*x_2*x_3*x_4^6*x_5^4 + 452*x_1^3*x_2^2*x_3*x_4^6*x_5^4 + 452*x_1^2*x_2^3*x_3*x_4^6*x_5^4 + 1028*x_1*x_2^4*x_3*x_4^6*x_5^4 + 750*x_2^5*x_3*x_4^6*x_5^4 + 622*x_1^4*x_3^2*x_4^6*x_5^4 + 452*x_1^3*x_2*x_3^2*x_4^6*x_5^4 + 330*x_1^2*x_2^2*x_3^2*x_4^6*x_5^4 + 452*x_1*x_2^3*x_3^2*x_4^6*x_5^4 + 622*x_2^4*x_3^2*x_4^6*x_5^4 + 28*x_1^3*x_3^3*x_4^6*x_5^4 + 452*x_1^2*x_2*x_3^3*x_4^6*x_5^4 + 452*x_1*x_2^2*x_3^3*x_4^6*x_5^4 + 28*x_2^3*x_3^3*x_4^6*x_5^4 + 622*x_1^2*x_3^4*x_4^6*x_5^4 + 1028*x_1*x_2*x_3^4*x_4^6*x_5^4 + 622*x_2^2*x_3^4*x_4^6*x_5^4 + 750*x_1*x_3^5*x_4^6*x_5^4 + 750*x_2*x_3^5*x_4^6*x_5^4 - 334*x_3^6*x_4^6*x_5^4 - 48*x_1^5*x_4^7*x_5^4 - 1396*x_1^4*x_2*x_4^7*x_5^4 - 612*x_1^3*x_2^2*x_4^7*x_5^4 - 612*x_1^2*x_2^3*x_4^7*x_5^4 - 1396*x_1*x_2^4*x_4^7*x_5^4 - 48*x_2^5*x_4^7*x_5^4 - 1396*x_1^4*x_3*x_4^7*x_5^4 - 1080*x_1^3*x_2*x_3*x_4^7*x_5^4 - 616*x_1^2*x_2^2*x_3*x_4^7*x_5^4 - 1080*x_1*x_2^3*x_3*x_4^7*x_5^4 - 1396*x_2^4*x_3*x_4^7*x_5^4 - 612*x_1^3*x_3^2*x_4^7*x_5^4 - 616*x_1^2*x_2*x_3^2*x_4^7*x_5^4 - 616*x_1*x_2^2*x_3^2*x_4^7*x_5^4 - 612*x_2^3*x_3^2*x_4^7*x_5^4 - 612*x_1^2*x_3^3*x_4^7*x_5^4 - 1080*x_1*x_2*x_3^3*x_4^7*x_5^4 - 612*x_2^2*x_3^3*x_4^7*x_5^4 - 1396*x_1*x_3^4*x_4^7*x_5^4 - 1396*x_2*x_3^4*x_4^7*x_5^4 - 48*x_3^5*x_4^7*x_5^4 + 409*x_1^4*x_4^8*x_5^4 + 546*x_1^3*x_2*x_4^8*x_5^4 - 59*x_1^2*x_2^2*x_4^8*x_5^4 + 546*x_1*x_2^3*x_4^8*x_5^4 + 409*x_2^4*x_4^8*x_5^4 + 546*x_1^3*x_3*x_4^8*x_5^4 - 242*x_1^2*x_2*x_3*x_4^8*x_5^4 - 242*x_1*x_2^2*x_3*x_4^8*x_5^4 + 546*x_2^3*x_3*x_4^8*x_5^4 - 59*x_1^2*x_3^2*x_4^8*x_5^4 - 242*x_1*x_2*x_3^2*x_4^8*x_5^4 - 59*x_2^2*x_3^2*x_4^8*x_5^4 + 546*x_1*x_3^3*x_4^8*x_5^4 + 546*x_2*x_3^3*x_4^8*x_5^4 + 409*x_3^4*x_4^8*x_5^4 - 92*x_1^3*x_4^9*x_5^4 + 518*x_1^2*x_2*x_4^9*x_5^4 + 518*x_1*x_2^2*x_4^9*x_5^4 - 92*x_2^3*x_4^9*x_5^4 + 518*x_1^2*x_3*x_4^9*x_5^4 + 1168*x_1*x_2*x_3*x_4^9*x_5^4 + 518*x_2^2*x_3*x_4^9*x_5^4 + 518*x_1*x_3^2*x_4^9*x_5^4 + 518*x_2*x_3^2*x_4^9*x_5^4 - 92*x_3^3*x_4^9*x_5^4 - 222*x_1^2*x_4^10*x_5^4 - 558*x_1*x_2*x_4^10*x_5^4 - 222*x_2^2*x_4^10*x_5^4 - 558*x_1*x_3*x_4^10*x_5^4 - 558*x_2*x_3*x_4^10*x_5^4 - 222*x_3^2*x_4^10*x_5^4 + 140*x_1*x_4^11*x_5^4 + 140*x_2*x_4^11*x_5^4 + 140*x_3*x_4^11*x_5^4 - 20*x_4^12*x_5^4 - 36*x_1^11*x_5^5 + 4*x_1^10*x_2*x_5^5 + 292*x_1^9*x_2^2*x_5^5 - 380*x_1^8*x_2^3*x_5^5 - 48*x_1^7*x_2^4*x_5^5 + 168*x_1^6*x_2^5*x_5^5 + 168*x_1^5*x_2^6*x_5^5 - 48*x_1^4*x_2^7*x_5^5 - 380*x_1^3*x_2^8*x_5^5 + 292*x_1^2*x_2^9*x_5^5 + 4*x_1*x_2^10*x_5^5 - 36*x_2^11*x_5^5 + 4*x_1^10*x_3*x_5^5 + 468*x_1^9*x_2*x_3*x_5^5 - 1188*x_1^8*x_2^2*x_3*x_5^5 + 704*x_1^7*x_2^3*x_3*x_5^5 + 750*x_1^6*x_2^4*x_3*x_5^5 - 1512*x_1^5*x_2^5*x_3*x_5^5 + 750*x_1^4*x_2^6*x_3*x_5^5 + 704*x_1^3*x_2^7*x_3*x_5^5 - 1188*x_1^2*x_2^8*x_3*x_5^5 + 468*x_1*x_2^9*x_3*x_5^5 + 4*x_2^10*x_3*x_5^5 + 292*x_1^9*x_3^2*x_5^5 - 1188*x_1^8*x_2*x_3^2*x_5^5 + 952*x_1^7*x_2^2*x_3^2*x_5^5 + 252*x_1^6*x_2^3*x_3^2*x_5^5 - 422*x_1^5*x_2^4*x_3^2*x_5^5 - 422*x_1^4*x_2^5*x_3^2*x_5^5 + 252*x_1^3*x_2^6*x_3^2*x_5^5 + 952*x_1^2*x_2^7*x_3^2*x_5^5 - 1188*x_1*x_2^8*x_3^2*x_5^5 + 292*x_2^9*x_3^2*x_5^5 - 380*x_1^8*x_3^3*x_5^5 + 704*x_1^7*x_2*x_3^3*x_5^5 + 252*x_1^6*x_2^2*x_3^3*x_5^5 - 316*x_1^5*x_2^3*x_3^3*x_5^5 + 180*x_1^4*x_2^4*x_3^3*x_5^5 - 316*x_1^3*x_2^5*x_3^3*x_5^5 + 252*x_1^2*x_2^6*x_3^3*x_5^5 + 704*x_1*x_2^7*x_3^3*x_5^5 - 380*x_2^8*x_3^3*x_5^5 - 48*x_1^7*x_3^4*x_5^5 + 750*x_1^6*x_2*x_3^4*x_5^5 - 422*x_1^5*x_2^2*x_3^4*x_5^5 + 180*x_1^4*x_2^3*x_3^4*x_5^5 + 180*x_1^3*x_2^4*x_3^4*x_5^5 - 422*x_1^2*x_2^5*x_3^4*x_5^5 + 750*x_1*x_2^6*x_3^4*x_5^5 - 48*x_2^7*x_3^4*x_5^5 + 168*x_1^6*x_3^5*x_5^5 - 1512*x_1^5*x_2*x_3^5*x_5^5 - 422*x_1^4*x_2^2*x_3^5*x_5^5 - 316*x_1^3*x_2^3*x_3^5*x_5^5 - 422*x_1^2*x_2^4*x_3^5*x_5^5 - 1512*x_1*x_2^5*x_3^5*x_5^5 + 168*x_2^6*x_3^5*x_5^5 + 168*x_1^5*x_3^6*x_5^5 + 750*x_1^4*x_2*x_3^6*x_5^5 + 252*x_1^3*x_2^2*x_3^6*x_5^5 + 252*x_1^2*x_2^3*x_3^6*x_5^5 + 750*x_1*x_2^4*x_3^6*x_5^5 + 168*x_2^5*x_3^6*x_5^5 - 48*x_1^4*x_3^7*x_5^5 + 704*x_1^3*x_2*x_3^7*x_5^5 + 952*x_1^2*x_2^2*x_3^7*x_5^5 + 704*x_1*x_2^3*x_3^7*x_5^5 - 48*x_2^4*x_3^7*x_5^5 - 380*x_1^3*x_3^8*x_5^5 - 1188*x_1^2*x_2*x_3^8*x_5^5 - 1188*x_1*x_2^2*x_3^8*x_5^5 - 380*x_2^3*x_3^8*x_5^5 + 292*x_1^2*x_3^9*x_5^5 + 468*x_1*x_2*x_3^9*x_5^5 + 292*x_2^2*x_3^9*x_5^5 + 4*x_1*x_3^10*x_5^5 + 4*x_2*x_3^10*x_5^5 - 36*x_3^11*x_5^5 + 4*x_1^10*x_4*x_5^5 + 468*x_1^9*x_2*x_4*x_5^5 - 1188*x_1^8*x_2^2*x_4*x_5^5 + 704*x_1^7*x_2^3*x_4*x_5^5 + 750*x_1^6*x_2^4*x_4*x_5^5 - 1512*x_1^5*x_2^5*x_4*x_5^5 + 750*x_1^4*x_2^6*x_4*x_5^5 + 704*x_1^3*x_2^7*x_4*x_5^5 - 1188*x_1^2*x_2^8*x_4*x_5^5 + 468*x_1*x_2^9*x_4*x_5^5 + 4*x_2^10*x_4*x_5^5 + 468*x_1^9*x_3*x_4*x_5^5 - 1812*x_1^8*x_2*x_3*x_4*x_5^5 + 1528*x_1^7*x_2^2*x_3*x_4*x_5^5 + 328*x_1^6*x_2^3*x_3*x_4*x_5^5 - 596*x_1^5*x_2^4*x_3*x_4*x_5^5 - 596*x_1^4*x_2^5*x_3*x_4*x_5^5 + 328*x_1^3*x_2^6*x_3*x_4*x_5^5 + 1528*x_1^2*x_2^7*x_3*x_4*x_5^5 - 1812*x_1*x_2^8*x_3*x_4*x_5^5 + 468*x_2^9*x_3*x_4*x_5^5 - 1188*x_1^8*x_3^2*x_4*x_5^5 + 1528*x_1^7*x_2*x_3^2*x_4*x_5^5 + 188*x_1^6*x_2^2*x_3^2*x_4*x_5^5 - 388*x_1^5*x_2^3*x_3^2*x_4*x_5^5 - 52*x_1^4*x_2^4*x_3^2*x_4*x_5^5 - 388*x_1^3*x_2^5*x_3^2*x_4*x_5^5 + 188*x_1^2*x_2^6*x_3^2*x_4*x_5^5 + 1528*x_1*x_2^7*x_3^2*x_4*x_5^5 - 1188*x_2^8*x_3^2*x_4*x_5^5 + 704*x_1^7*x_3^3*x_4*x_5^5 + 328*x_1^6*x_2*x_3^3*x_4*x_5^5 - 388*x_1^5*x_2^2*x_3^3*x_4*x_5^5 - 28*x_1^4*x_2^3*x_3^3*x_4*x_5^5 - 28*x_1^3*x_2^4*x_3^3*x_4*x_5^5 - 388*x_1^2*x_2^5*x_3^3*x_4*x_5^5 + 328*x_1*x_2^6*x_3^3*x_4*x_5^5 + 704*x_2^7*x_3^3*x_4*x_5^5 + 750*x_1^6*x_3^4*x_4*x_5^5 - 596*x_1^5*x_2*x_3^4*x_4*x_5^5 - 52*x_1^4*x_2^2*x_3^4*x_4*x_5^5 - 28*x_1^3*x_2^3*x_3^4*x_4*x_5^5 - 52*x_1^2*x_2^4*x_3^4*x_4*x_5^5 - 596*x_1*x_2^5*x_3^4*x_4*x_5^5 + 750*x_2^6*x_3^4*x_4*x_5^5 - 1512*x_1^5*x_3^5*x_4*x_5^5 - 596*x_1^4*x_2*x_3^5*x_4*x_5^5 - 388*x_1^3*x_2^2*x_3^5*x_4*x_5^5 - 388*x_1^2*x_2^3*x_3^5*x_4*x_5^5 - 596*x_1*x_2^4*x_3^5*x_4*x_5^5 - 1512*x_2^5*x_3^5*x_4*x_5^5 + 750*x_1^4*x_3^6*x_4*x_5^5 + 328*x_1^3*x_2*x_3^6*x_4*x_5^5 + 188*x_1^2*x_2^2*x_3^6*x_4*x_5^5 + 328*x_1*x_2^3*x_3^6*x_4*x_5^5 + 750*x_2^4*x_3^6*x_4*x_5^5 + 704*x_1^3*x_3^7*x_4*x_5^5 + 1528*x_1^2*x_2*x_3^7*x_4*x_5^5 + 1528*x_1*x_2^2*x_3^7*x_4*x_5^5 + 704*x_2^3*x_3^7*x_4*x_5^5 - 1188*x_1^2*x_3^8*x_4*x_5^5 - 1812*x_1*x_2*x_3^8*x_4*x_5^5 - 1188*x_2^2*x_3^8*x_4*x_5^5 + 468*x_1*x_3^9*x_4*x_5^5 + 468*x_2*x_3^9*x_4*x_5^5 + 4*x_3^10*x_4*x_5^5 + 292*x_1^9*x_4^2*x_5^5 - 1188*x_1^8*x_2*x_4^2*x_5^5 + 952*x_1^7*x_2^2*x_4^2*x_5^5 + 252*x_1^6*x_2^3*x_4^2*x_5^5 - 422*x_1^5*x_2^4*x_4^2*x_5^5 - 422*x_1^4*x_2^5*x_4^2*x_5^5 + 252*x_1^3*x_2^6*x_4^2*x_5^5 + 952*x_1^2*x_2^7*x_4^2*x_5^5 - 1188*x_1*x_2^8*x_4^2*x_5^5 + 292*x_2^9*x_4^2*x_5^5 - 1188*x_1^8*x_3*x_4^2*x_5^5 + 1528*x_1^7*x_2*x_3*x_4^2*x_5^5 + 188*x_1^6*x_2^2*x_3*x_4^2*x_5^5 - 388*x_1^5*x_2^3*x_3*x_4^2*x_5^5 - 52*x_1^4*x_2^4*x_3*x_4^2*x_5^5 - 388*x_1^3*x_2^5*x_3*x_4^2*x_5^5 + 188*x_1^2*x_2^6*x_3*x_4^2*x_5^5 + 1528*x_1*x_2^7*x_3*x_4^2*x_5^5 - 1188*x_2^8*x_3*x_4^2*x_5^5 + 952*x_1^7*x_3^2*x_4^2*x_5^5 + 188*x_1^6*x_2*x_3^2*x_4^2*x_5^5 + 36*x_1^5*x_2^2*x_3^2*x_4^2*x_5^5 - 240*x_1^4*x_2^3*x_3^2*x_4^2*x_5^5 - 240*x_1^3*x_2^4*x_3^2*x_4^2*x_5^5 + 36*x_1^2*x_2^5*x_3^2*x_4^2*x_5^5 + 188*x_1*x_2^6*x_3^2*x_4^2*x_5^5 + 952*x_2^7*x_3^2*x_4^2*x_5^5 + 252*x_1^6*x_3^3*x_4^2*x_5^5 - 388*x_1^5*x_2*x_3^3*x_4^2*x_5^5 - 240*x_1^4*x_2^2*x_3^3*x_4^2*x_5^5 - 336*x_1^3*x_2^3*x_3^3*x_4^2*x_5^5 - 240*x_1^2*x_2^4*x_3^3*x_4^2*x_5^5 - 388*x_1*x_2^5*x_3^3*x_4^2*x_5^5 + 252*x_2^6*x_3^3*x_4^2*x_5^5 - 422*x_1^5*x_3^4*x_4^2*x_5^5 - 52*x_1^4*x_2*x_3^4*x_4^2*x_5^5 - 240*x_1^3*x_2^2*x_3^4*x_4^2*x_5^5 - 240*x_1^2*x_2^3*x_3^4*x_4^2*x_5^5 - 52*x_1*x_2^4*x_3^4*x_4^2*x_5^5 - 422*x_2^5*x_3^4*x_4^2*x_5^5 - 422*x_1^4*x_3^5*x_4^2*x_5^5 - 388*x_1^3*x_2*x_3^5*x_4^2*x_5^5 + 36*x_1^2*x_2^2*x_3^5*x_4^2*x_5^5 - 388*x_1*x_2^3*x_3^5*x_4^2*x_5^5 - 422*x_2^4*x_3^5*x_4^2*x_5^5 + 252*x_1^3*x_3^6*x_4^2*x_5^5 + 188*x_1^2*x_2*x_3^6*x_4^2*x_5^5 + 188*x_1*x_2^2*x_3^6*x_4^2*x_5^5 + 252*x_2^3*x_3^6*x_4^2*x_5^5 + 952*x_1^2*x_3^7*x_4^2*x_5^5 + 1528*x_1*x_2*x_3^7*x_4^2*x_5^5 + 952*x_2^2*x_3^7*x_4^2*x_5^5 - 1188*x_1*x_3^8*x_4^2*x_5^5 - 1188*x_2*x_3^8*x_4^2*x_5^5 + 292*x_3^9*x_4^2*x_5^5 - 380*x_1^8*x_4^3*x_5^5 + 704*x_1^7*x_2*x_4^3*x_5^5 + 252*x_1^6*x_2^2*x_4^3*x_5^5 - 316*x_1^5*x_2^3*x_4^3*x_5^5 + 180*x_1^4*x_2^4*x_4^3*x_5^5 - 316*x_1^3*x_2^5*x_4^3*x_5^5 + 252*x_1^2*x_2^6*x_4^3*x_5^5 + 704*x_1*x_2^7*x_4^3*x_5^5 - 380*x_2^8*x_4^3*x_5^5 + 704*x_1^7*x_3*x_4^3*x_5^5 + 328*x_1^6*x_2*x_3*x_4^3*x_5^5 - 388*x_1^5*x_2^2*x_3*x_4^3*x_5^5 - 28*x_1^4*x_2^3*x_3*x_4^3*x_5^5 - 28*x_1^3*x_2^4*x_3*x_4^3*x_5^5 - 388*x_1^2*x_2^5*x_3*x_4^3*x_5^5 + 328*x_1*x_2^6*x_3*x_4^3*x_5^5 + 704*x_2^7*x_3*x_4^3*x_5^5 + 252*x_1^6*x_3^2*x_4^3*x_5^5 - 388*x_1^5*x_2*x_3^2*x_4^3*x_5^5 - 240*x_1^4*x_2^2*x_3^2*x_4^3*x_5^5 - 336*x_1^3*x_2^3*x_3^2*x_4^3*x_5^5 - 240*x_1^2*x_2^4*x_3^2*x_4^3*x_5^5 - 388*x_1*x_2^5*x_3^2*x_4^3*x_5^5 + 252*x_2^6*x_3^2*x_4^3*x_5^5 - 316*x_1^5*x_3^3*x_4^3*x_5^5 - 28*x_1^4*x_2*x_3^3*x_4^3*x_5^5 - 336*x_1^3*x_2^2*x_3^3*x_4^3*x_5^5 - 336*x_1^2*x_2^3*x_3^3*x_4^3*x_5^5 - 28*x_1*x_2^4*x_3^3*x_4^3*x_5^5 - 316*x_2^5*x_3^3*x_4^3*x_5^5 + 180*x_1^4*x_3^4*x_4^3*x_5^5 - 28*x_1^3*x_2*x_3^4*x_4^3*x_5^5 - 240*x_1^2*x_2^2*x_3^4*x_4^3*x_5^5 - 28*x_1*x_2^3*x_3^4*x_4^3*x_5^5 + 180*x_2^4*x_3^4*x_4^3*x_5^5 - 316*x_1^3*x_3^5*x_4^3*x_5^5 - 388*x_1^2*x_2*x_3^5*x_4^3*x_5^5 - 388*x_1*x_2^2*x_3^5*x_4^3*x_5^5 - 316*x_2^3*x_3^5*x_4^3*x_5^5 + 252*x_1^2*x_3^6*x_4^3*x_5^5 + 328*x_1*x_2*x_3^6*x_4^3*x_5^5 + 252*x_2^2*x_3^6*x_4^3*x_5^5 + 704*x_1*x_3^7*x_4^3*x_5^5 + 704*x_2*x_3^7*x_4^3*x_5^5 - 380*x_3^8*x_4^3*x_5^5 - 48*x_1^7*x_4^4*x_5^5 + 750*x_1^6*x_2*x_4^4*x_5^5 - 422*x_1^5*x_2^2*x_4^4*x_5^5 + 180*x_1^4*x_2^3*x_4^4*x_5^5 + 180*x_1^3*x_2^4*x_4^4*x_5^5 - 422*x_1^2*x_2^5*x_4^4*x_5^5 + 750*x_1*x_2^6*x_4^4*x_5^5 - 48*x_2^7*x_4^4*x_5^5 + 750*x_1^6*x_3*x_4^4*x_5^5 - 596*x_1^5*x_2*x_3*x_4^4*x_5^5 - 52*x_1^4*x_2^2*x_3*x_4^4*x_5^5 - 28*x_1^3*x_2^3*x_3*x_4^4*x_5^5 - 52*x_1^2*x_2^4*x_3*x_4^4*x_5^5 - 596*x_1*x_2^5*x_3*x_4^4*x_5^5 + 750*x_2^6*x_3*x_4^4*x_5^5 - 422*x_1^5*x_3^2*x_4^4*x_5^5 - 52*x_1^4*x_2*x_3^2*x_4^4*x_5^5 - 240*x_1^3*x_2^2*x_3^2*x_4^4*x_5^5 - 240*x_1^2*x_2^3*x_3^2*x_4^4*x_5^5 - 52*x_1*x_2^4*x_3^2*x_4^4*x_5^5 - 422*x_2^5*x_3^2*x_4^4*x_5^5 + 180*x_1^4*x_3^3*x_4^4*x_5^5 - 28*x_1^3*x_2*x_3^3*x_4^4*x_5^5 - 240*x_1^2*x_2^2*x_3^3*x_4^4*x_5^5 - 28*x_1*x_2^3*x_3^3*x_4^4*x_5^5 + 180*x_2^4*x_3^3*x_4^4*x_5^5 + 180*x_1^3*x_3^4*x_4^4*x_5^5 - 52*x_1^2*x_2*x_3^4*x_4^4*x_5^5 - 52*x_1*x_2^2*x_3^4*x_4^4*x_5^5 + 180*x_2^3*x_3^4*x_4^4*x_5^5 - 422*x_1^2*x_3^5*x_4^4*x_5^5 - 596*x_1*x_2*x_3^5*x_4^4*x_5^5 - 422*x_2^2*x_3^5*x_4^4*x_5^5 + 750*x_1*x_3^6*x_4^4*x_5^5 + 750*x_2*x_3^6*x_4^4*x_5^5 - 48*x_3^7*x_4^4*x_5^5 + 168*x_1^6*x_4^5*x_5^5 - 1512*x_1^5*x_2*x_4^5*x_5^5 - 422*x_1^4*x_2^2*x_4^5*x_5^5 - 316*x_1^3*x_2^3*x_4^5*x_5^5 - 422*x_1^2*x_2^4*x_4^5*x_5^5 - 1512*x_1*x_2^5*x_4^5*x_5^5 + 168*x_2^6*x_4^5*x_5^5 - 1512*x_1^5*x_3*x_4^5*x_5^5 - 596*x_1^4*x_2*x_3*x_4^5*x_5^5 - 388*x_1^3*x_2^2*x_3*x_4^5*x_5^5 - 388*x_1^2*x_2^3*x_3*x_4^5*x_5^5 - 596*x_1*x_2^4*x_3*x_4^5*x_5^5 - 1512*x_2^5*x_3*x_4^5*x_5^5 - 422*x_1^4*x_3^2*x_4^5*x_5^5 - 388*x_1^3*x_2*x_3^2*x_4^5*x_5^5 + 36*x_1^2*x_2^2*x_3^2*x_4^5*x_5^5 - 388*x_1*x_2^3*x_3^2*x_4^5*x_5^5 - 422*x_2^4*x_3^2*x_4^5*x_5^5 - 316*x_1^3*x_3^3*x_4^5*x_5^5 - 388*x_1^2*x_2*x_3^3*x_4^5*x_5^5 - 388*x_1*x_2^2*x_3^3*x_4^5*x_5^5 - 316*x_2^3*x_3^3*x_4^5*x_5^5 - 422*x_1^2*x_3^4*x_4^5*x_5^5 - 596*x_1*x_2*x_3^4*x_4^5*x_5^5 - 422*x_2^2*x_3^4*x_4^5*x_5^5 - 1512*x_1*x_3^5*x_4^5*x_5^5 - 1512*x_2*x_3^5*x_4^5*x_5^5 + 168*x_3^6*x_4^5*x_5^5 + 168*x_1^5*x_4^6*x_5^5 + 750*x_1^4*x_2*x_4^6*x_5^5 + 252*x_1^3*x_2^2*x_4^6*x_5^5 + 252*x_1^2*x_2^3*x_4^6*x_5^5 + 750*x_1*x_2^4*x_4^6*x_5^5 + 168*x_2^5*x_4^6*x_5^5 + 750*x_1^4*x_3*x_4^6*x_5^5 + 328*x_1^3*x_2*x_3*x_4^6*x_5^5 + 188*x_1^2*x_2^2*x_3*x_4^6*x_5^5 + 328*x_1*x_2^3*x_3*x_4^6*x_5^5 + 750*x_2^4*x_3*x_4^6*x_5^5 + 252*x_1^3*x_3^2*x_4^6*x_5^5 + 188*x_1^2*x_2*x_3^2*x_4^6*x_5^5 + 188*x_1*x_2^2*x_3^2*x_4^6*x_5^5 + 252*x_2^3*x_3^2*x_4^6*x_5^5 + 252*x_1^2*x_3^3*x_4^6*x_5^5 + 328*x_1*x_2*x_3^3*x_4^6*x_5^5 + 252*x_2^2*x_3^3*x_4^6*x_5^5 + 750*x_1*x_3^4*x_4^6*x_5^5 + 750*x_2*x_3^4*x_4^6*x_5^5 + 168*x_3^5*x_4^6*x_5^5 - 48*x_1^4*x_4^7*x_5^5 + 704*x_1^3*x_2*x_4^7*x_5^5 + 952*x_1^2*x_2^2*x_4^7*x_5^5 + 704*x_1*x_2^3*x_4^7*x_5^5 - 48*x_2^4*x_4^7*x_5^5 + 704*x_1^3*x_3*x_4^7*x_5^5 + 1528*x_1^2*x_2*x_3*x_4^7*x_5^5 + 1528*x_1*x_2^2*x_3*x_4^7*x_5^5 + 704*x_2^3*x_3*x_4^7*x_5^5 + 952*x_1^2*x_3^2*x_4^7*x_5^5 + 1528*x_1*x_2*x_3^2*x_4^7*x_5^5 + 952*x_2^2*x_3^2*x_4^7*x_5^5 + 704*x_1*x_3^3*x_4^7*x_5^5 + 704*x_2*x_3^3*x_4^7*x_5^5 - 48*x_3^4*x_4^7*x_5^5 - 380*x_1^3*x_4^8*x_5^5 - 1188*x_1^2*x_2*x_4^8*x_5^5 - 1188*x_1*x_2^2*x_4^8*x_5^5 - 380*x_2^3*x_4^8*x_5^5 - 1188*x_1^2*x_3*x_4^8*x_5^5 - 1812*x_1*x_2*x_3*x_4^8*x_5^5 - 1188*x_2^2*x_3*x_4^8*x_5^5 - 1188*x_1*x_3^2*x_4^8*x_5^5 - 1188*x_2*x_3^2*x_4^8*x_5^5 - 380*x_3^3*x_4^8*x_5^5 + 292*x_1^2*x_4^9*x_5^5 + 468*x_1*x_2*x_4^9*x_5^5 + 292*x_2^2*x_4^9*x_5^5 + 468*x_1*x_3*x_4^9*x_5^5 + 468*x_2*x_3*x_4^9*x_5^5 + 292*x_3^2*x_4^9*x_5^5 + 4*x_1*x_4^10*x_5^5 + 4*x_2*x_4^10*x_5^5 + 4*x_3*x_4^10*x_5^5 - 36*x_4^11*x_5^5 + 64*x_1^10*x_5^6 - 260*x_1^9*x_2*x_5^6 + 148*x_1^8*x_2^2*x_5^6 + 304*x_1^7*x_2^3*x_5^6 - 334*x_1^6*x_2^4*x_5^6 + 168*x_1^5*x_2^5*x_5^6 - 334*x_1^4*x_2^6*x_5^6 + 304*x_1^3*x_2^7*x_5^6 + 148*x_1^2*x_2^8*x_5^6 - 260*x_1*x_2^9*x_5^6 + 64*x_2^10*x_5^6 - 260*x_1^9*x_3*x_5^6 + 392*x_1^8*x_2*x_3*x_5^6 + 660*x_1^7*x_2^2*x_3*x_5^6 - 1460*x_1^6*x_2^3*x_3*x_5^6 + 750*x_1^5*x_2^4*x_3*x_5^6 + 750*x_1^4*x_2^5*x_3*x_5^6 - 1460*x_1^3*x_2^6*x_3*x_5^6 + 660*x_1^2*x_2^7*x_3*x_5^6 + 392*x_1*x_2^8*x_3*x_5^6 - 260*x_2^9*x_3*x_5^6 + 148*x_1^8*x_3^2*x_5^6 + 660*x_1^7*x_2*x_3^2*x_5^6 - 1394*x_1^6*x_2^2*x_3^2*x_5^6 + 252*x_1^5*x_2^3*x_3^2*x_5^6 + 622*x_1^4*x_2^4*x_3^2*x_5^6 + 252*x_1^3*x_2^5*x_3^2*x_5^6 - 1394*x_1^2*x_2^6*x_3^2*x_5^6 + 660*x_1*x_2^7*x_3^2*x_5^6 + 148*x_2^8*x_3^2*x_5^6 + 304*x_1^7*x_3^3*x_5^6 - 1460*x_1^6*x_2*x_3^3*x_5^6 + 252*x_1^5*x_2^2*x_3^3*x_5^6 + 28*x_1^4*x_2^3*x_3^3*x_5^6 + 28*x_1^3*x_2^4*x_3^3*x_5^6 + 252*x_1^2*x_2^5*x_3^3*x_5^6 - 1460*x_1*x_2^6*x_3^3*x_5^6 + 304*x_2^7*x_3^3*x_5^6 - 334*x_1^6*x_3^4*x_5^6 + 750*x_1^5*x_2*x_3^4*x_5^6 + 622*x_1^4*x_2^2*x_3^4*x_5^6 + 28*x_1^3*x_2^3*x_3^4*x_5^6 + 622*x_1^2*x_2^4*x_3^4*x_5^6 + 750*x_1*x_2^5*x_3^4*x_5^6 - 334*x_2^6*x_3^4*x_5^6 + 168*x_1^5*x_3^5*x_5^6 + 750*x_1^4*x_2*x_3^5*x_5^6 + 252*x_1^3*x_2^2*x_3^5*x_5^6 + 252*x_1^2*x_2^3*x_3^5*x_5^6 + 750*x_1*x_2^4*x_3^5*x_5^6 + 168*x_2^5*x_3^5*x_5^6 - 334*x_1^4*x_3^6*x_5^6 - 1460*x_1^3*x_2*x_3^6*x_5^6 - 1394*x_1^2*x_2^2*x_3^6*x_5^6 - 1460*x_1*x_2^3*x_3^6*x_5^6 - 334*x_2^4*x_3^6*x_5^6 + 304*x_1^3*x_3^7*x_5^6 + 660*x_1^2*x_2*x_3^7*x_5^6 + 660*x_1*x_2^2*x_3^7*x_5^6 + 304*x_2^3*x_3^7*x_5^6 + 148*x_1^2*x_3^8*x_5^6 + 392*x_1*x_2*x_3^8*x_5^6 + 148*x_2^2*x_3^8*x_5^6 - 260*x_1*x_3^9*x_5^6 - 260*x_2*x_3^9*x_5^6 + 64*x_3^10*x_5^6 - 260*x_1^9*x_4*x_5^6 + 392*x_1^8*x_2*x_4*x_5^6 + 660*x_1^7*x_2^2*x_4*x_5^6 - 1460*x_1^6*x_2^3*x_4*x_5^6 + 750*x_1^5*x_2^4*x_4*x_5^6 + 750*x_1^4*x_2^5*x_4*x_5^6 - 1460*x_1^3*x_2^6*x_4*x_5^6 + 660*x_1^2*x_2^7*x_4*x_5^6 + 392*x_1*x_2^8*x_4*x_5^6 - 260*x_2^9*x_4*x_5^6 + 392*x_1^8*x_3*x_4*x_5^6 + 888*x_1^7*x_2*x_3*x_4*x_5^6 - 2072*x_1^6*x_2^2*x_3*x_4*x_5^6 + 328*x_1^5*x_2^3*x_3*x_4*x_5^6 + 1028*x_1^4*x_2^4*x_3*x_4*x_5^6 + 328*x_1^3*x_2^5*x_3*x_4*x_5^6 - 2072*x_1^2*x_2^6*x_3*x_4*x_5^6 + 888*x_1*x_2^7*x_3*x_4*x_5^6 + 392*x_2^8*x_3*x_4*x_5^6 + 660*x_1^7*x_3^2*x_4*x_5^6 - 2072*x_1^6*x_2*x_3^2*x_4*x_5^6 + 188*x_1^5*x_2^2*x_3^2*x_4*x_5^6 + 452*x_1^4*x_2^3*x_3^2*x_4*x_5^6 + 452*x_1^3*x_2^4*x_3^2*x_4*x_5^6 + 188*x_1^2*x_2^5*x_3^2*x_4*x_5^6 - 2072*x_1*x_2^6*x_3^2*x_4*x_5^6 + 660*x_2^7*x_3^2*x_4*x_5^6 - 1460*x_1^6*x_3^3*x_4*x_5^6 + 328*x_1^5*x_2*x_3^3*x_4*x_5^6 + 452*x_1^4*x_2^2*x_3^3*x_4*x_5^6 + 168*x_1^3*x_2^3*x_3^3*x_4*x_5^6 + 452*x_1^2*x_2^4*x_3^3*x_4*x_5^6 + 328*x_1*x_2^5*x_3^3*x_4*x_5^6 - 1460*x_2^6*x_3^3*x_4*x_5^6 + 750*x_1^5*x_3^4*x_4*x_5^6 + 1028*x_1^4*x_2*x_3^4*x_4*x_5^6 + 452*x_1^3*x_2^2*x_3^4*x_4*x_5^6 + 452*x_1^2*x_2^3*x_3^4*x_4*x_5^6 + 1028*x_1*x_2^4*x_3^4*x_4*x_5^6 + 750*x_2^5*x_3^4*x_4*x_5^6 + 750*x_1^4*x_3^5*x_4*x_5^6 + 328*x_1^3*x_2*x_3^5*x_4*x_5^6 + 188*x_1^2*x_2^2*x_3^5*x_4*x_5^6 + 328*x_1*x_2^3*x_3^5*x_4*x_5^6 + 750*x_2^4*x_3^5*x_4*x_5^6 - 1460*x_1^3*x_3^6*x_4*x_5^6 - 2072*x_1^2*x_2*x_3^6*x_4*x_5^6 - 2072*x_1*x_2^2*x_3^6*x_4*x_5^6 - 1460*x_2^3*x_3^6*x_4*x_5^6 + 660*x_1^2*x_3^7*x_4*x_5^6 + 888*x_1*x_2*x_3^7*x_4*x_5^6 + 660*x_2^2*x_3^7*x_4*x_5^6 + 392*x_1*x_3^8*x_4*x_5^6 + 392*x_2*x_3^8*x_4*x_5^6 - 260*x_3^9*x_4*x_5^6 + 148*x_1^8*x_4^2*x_5^6 + 660*x_1^7*x_2*x_4^2*x_5^6 - 1394*x_1^6*x_2^2*x_4^2*x_5^6 + 252*x_1^5*x_2^3*x_4^2*x_5^6 + 622*x_1^4*x_2^4*x_4^2*x_5^6 + 252*x_1^3*x_2^5*x_4^2*x_5^6 - 1394*x_1^2*x_2^6*x_4^2*x_5^6 + 660*x_1*x_2^7*x_4^2*x_5^6 + 148*x_2^8*x_4^2*x_5^6 + 660*x_1^7*x_3*x_4^2*x_5^6 - 2072*x_1^6*x_2*x_3*x_4^2*x_5^6 + 188*x_1^5*x_2^2*x_3*x_4^2*x_5^6 + 452*x_1^4*x_2^3*x_3*x_4^2*x_5^6 + 452*x_1^3*x_2^4*x_3*x_4^2*x_5^6 + 188*x_1^2*x_2^5*x_3*x_4^2*x_5^6 - 2072*x_1*x_2^6*x_3*x_4^2*x_5^6 + 660*x_2^7*x_3*x_4^2*x_5^6 - 1394*x_1^6*x_3^2*x_4^2*x_5^6 + 188*x_1^5*x_2*x_3^2*x_4^2*x_5^6 + 330*x_1^4*x_2^2*x_3^2*x_4^2*x_5^6 + 656*x_1^3*x_2^3*x_3^2*x_4^2*x_5^6 + 330*x_1^2*x_2^4*x_3^2*x_4^2*x_5^6 + 188*x_1*x_2^5*x_3^2*x_4^2*x_5^6 - 1394*x_2^6*x_3^2*x_4^2*x_5^6 + 252*x_1^5*x_3^3*x_4^2*x_5^6 + 452*x_1^4*x_2*x_3^3*x_4^2*x_5^6 + 656*x_1^3*x_2^2*x_3^3*x_4^2*x_5^6 + 656*x_1^2*x_2^3*x_3^3*x_4^2*x_5^6 + 452*x_1*x_2^4*x_3^3*x_4^2*x_5^6 + 252*x_2^5*x_3^3*x_4^2*x_5^6 + 622*x_1^4*x_3^4*x_4^2*x_5^6 + 452*x_1^3*x_2*x_3^4*x_4^2*x_5^6 + 330*x_1^2*x_2^2*x_3^4*x_4^2*x_5^6 + 452*x_1*x_2^3*x_3^4*x_4^2*x_5^6 + 622*x_2^4*x_3^4*x_4^2*x_5^6 + 252*x_1^3*x_3^5*x_4^2*x_5^6 + 188*x_1^2*x_2*x_3^5*x_4^2*x_5^6 + 188*x_1*x_2^2*x_3^5*x_4^2*x_5^6 + 252*x_2^3*x_3^5*x_4^2*x_5^6 - 1394*x_1^2*x_3^6*x_4^2*x_5^6 - 2072*x_1*x_2*x_3^6*x_4^2*x_5^6 - 1394*x_2^2*x_3^6*x_4^2*x_5^6 + 660*x_1*x_3^7*x_4^2*x_5^6 + 660*x_2*x_3^7*x_4^2*x_5^6 + 148*x_3^8*x_4^2*x_5^6 + 304*x_1^7*x_4^3*x_5^6 - 1460*x_1^6*x_2*x_4^3*x_5^6 + 252*x_1^5*x_2^2*x_4^3*x_5^6 + 28*x_1^4*x_2^3*x_4^3*x_5^6 + 28*x_1^3*x_2^4*x_4^3*x_5^6 + 252*x_1^2*x_2^5*x_4^3*x_5^6 - 1460*x_1*x_2^6*x_4^3*x_5^6 + 304*x_2^7*x_4^3*x_5^6 - 1460*x_1^6*x_3*x_4^3*x_5^6 + 328*x_1^5*x_2*x_3*x_4^3*x_5^6 + 452*x_1^4*x_2^2*x_3*x_4^3*x_5^6 + 168*x_1^3*x_2^3*x_3*x_4^3*x_5^6 + 452*x_1^2*x_2^4*x_3*x_4^3*x_5^6 + 328*x_1*x_2^5*x_3*x_4^3*x_5^6 - 1460*x_2^6*x_3*x_4^3*x_5^6 + 252*x_1^5*x_3^2*x_4^3*x_5^6 + 452*x_1^4*x_2*x_3^2*x_4^3*x_5^6 + 656*x_1^3*x_2^2*x_3^2*x_4^3*x_5^6 + 656*x_1^2*x_2^3*x_3^2*x_4^3*x_5^6 + 452*x_1*x_2^4*x_3^2*x_4^3*x_5^6 + 252*x_2^5*x_3^2*x_4^3*x_5^6 + 28*x_1^4*x_3^3*x_4^3*x_5^6 + 168*x_1^3*x_2*x_3^3*x_4^3*x_5^6 + 656*x_1^2*x_2^2*x_3^3*x_4^3*x_5^6 + 168*x_1*x_2^3*x_3^3*x_4^3*x_5^6 + 28*x_2^4*x_3^3*x_4^3*x_5^6 + 28*x_1^3*x_3^4*x_4^3*x_5^6 + 452*x_1^2*x_2*x_3^4*x_4^3*x_5^6 + 452*x_1*x_2^2*x_3^4*x_4^3*x_5^6 + 28*x_2^3*x_3^4*x_4^3*x_5^6 + 252*x_1^2*x_3^5*x_4^3*x_5^6 + 328*x_1*x_2*x_3^5*x_4^3*x_5^6 + 252*x_2^2*x_3^5*x_4^3*x_5^6 - 1460*x_1*x_3^6*x_4^3*x_5^6 - 1460*x_2*x_3^6*x_4^3*x_5^6 + 304*x_3^7*x_4^3*x_5^6 - 334*x_1^6*x_4^4*x_5^6 + 750*x_1^5*x_2*x_4^4*x_5^6 + 622*x_1^4*x_2^2*x_4^4*x_5^6 + 28*x_1^3*x_2^3*x_4^4*x_5^6 + 622*x_1^2*x_2^4*x_4^4*x_5^6 + 750*x_1*x_2^5*x_4^4*x_5^6 - 334*x_2^6*x_4^4*x_5^6 + 750*x_1^5*x_3*x_4^4*x_5^6 + 1028*x_1^4*x_2*x_3*x_4^4*x_5^6 + 452*x_1^3*x_2^2*x_3*x_4^4*x_5^6 + 452*x_1^2*x_2^3*x_3*x_4^4*x_5^6 + 1028*x_1*x_2^4*x_3*x_4^4*x_5^6 + 750*x_2^5*x_3*x_4^4*x_5^6 + 622*x_1^4*x_3^2*x_4^4*x_5^6 + 452*x_1^3*x_2*x_3^2*x_4^4*x_5^6 + 330*x_1^2*x_2^2*x_3^2*x_4^4*x_5^6 + 452*x_1*x_2^3*x_3^2*x_4^4*x_5^6 + 622*x_2^4*x_3^2*x_4^4*x_5^6 + 28*x_1^3*x_3^3*x_4^4*x_5^6 + 452*x_1^2*x_2*x_3^3*x_4^4*x_5^6 + 452*x_1*x_2^2*x_3^3*x_4^4*x_5^6 + 28*x_2^3*x_3^3*x_4^4*x_5^6 + 622*x_1^2*x_3^4*x_4^4*x_5^6 + 1028*x_1*x_2*x_3^4*x_4^4*x_5^6 + 622*x_2^2*x_3^4*x_4^4*x_5^6 + 750*x_1*x_3^5*x_4^4*x_5^6 + 750*x_2*x_3^5*x_4^4*x_5^6 - 334*x_3^6*x_4^4*x_5^6 + 168*x_1^5*x_4^5*x_5^6 + 750*x_1^4*x_2*x_4^5*x_5^6 + 252*x_1^3*x_2^2*x_4^5*x_5^6 + 252*x_1^2*x_2^3*x_4^5*x_5^6 + 750*x_1*x_2^4*x_4^5*x_5^6 + 168*x_2^5*x_4^5*x_5^6 + 750*x_1^4*x_3*x_4^5*x_5^6 + 328*x_1^3*x_2*x_3*x_4^5*x_5^6 + 188*x_1^2*x_2^2*x_3*x_4^5*x_5^6 + 328*x_1*x_2^3*x_3*x_4^5*x_5^6 + 750*x_2^4*x_3*x_4^5*x_5^6 + 252*x_1^3*x_3^2*x_4^5*x_5^6 + 188*x_1^2*x_2*x_3^2*x_4^5*x_5^6 + 188*x_1*x_2^2*x_3^2*x_4^5*x_5^6 + 252*x_2^3*x_3^2*x_4^5*x_5^6 + 252*x_1^2*x_3^3*x_4^5*x_5^6 + 328*x_1*x_2*x_3^3*x_4^5*x_5^6 + 252*x_2^2*x_3^3*x_4^5*x_5^6 + 750*x_1*x_3^4*x_4^5*x_5^6 + 750*x_2*x_3^4*x_4^5*x_5^6 + 168*x_3^5*x_4^5*x_5^6 - 334*x_1^4*x_4^6*x_5^6 - 1460*x_1^3*x_2*x_4^6*x_5^6 - 1394*x_1^2*x_2^2*x_4^6*x_5^6 - 1460*x_1*x_2^3*x_4^6*x_5^6 - 334*x_2^4*x_4^6*x_5^6 - 1460*x_1^3*x_3*x_4^6*x_5^6 - 2072*x_1^2*x_2*x_3*x_4^6*x_5^6 - 2072*x_1*x_2^2*x_3*x_4^6*x_5^6 - 1460*x_2^3*x_3*x_4^6*x_5^6 - 1394*x_1^2*x_3^2*x_4^6*x_5^6 - 2072*x_1*x_2*x_3^2*x_4^6*x_5^6 - 1394*x_2^2*x_3^2*x_4^6*x_5^6 - 1460*x_1*x_3^3*x_4^6*x_5^6 - 1460*x_2*x_3^3*x_4^6*x_5^6 - 334*x_3^4*x_4^6*x_5^6 + 304*x_1^3*x_4^7*x_5^6 + 660*x_1^2*x_2*x_4^7*x_5^6 + 660*x_1*x_2^2*x_4^7*x_5^6 + 304*x_2^3*x_4^7*x_5^6 + 660*x_1^2*x_3*x_4^7*x_5^6 + 888*x_1*x_2*x_3*x_4^7*x_5^6 + 660*x_2^2*x_3*x_4^7*x_5^6 + 660*x_1*x_3^2*x_4^7*x_5^6 + 660*x_2*x_3^2*x_4^7*x_5^6 + 304*x_3^3*x_4^7*x_5^6 + 148*x_1^2*x_4^8*x_5^6 + 392*x_1*x_2*x_4^8*x_5^6 + 148*x_2^2*x_4^8*x_5^6 + 392*x_1*x_3*x_4^8*x_5^6 + 392*x_2*x_3*x_4^8*x_5^6 + 148*x_3^2*x_4^8*x_5^6 - 260*x_1*x_4^9*x_5^6 - 260*x_2*x_4^9*x_5^6 - 260*x_3*x_4^9*x_5^6 + 64*x_4^10*x_5^6 + 20*x_1^9*x_5^7 + 180*x_1^8*x_2*x_5^7 - 488*x_1^7*x_2^2*x_5^7 + 304*x_1^6*x_2^3*x_5^7 - 48*x_1^5*x_2^4*x_5^7 - 48*x_1^4*x_2^5*x_5^7 + 304*x_1^3*x_2^6*x_5^7 - 488*x_1^2*x_2^7*x_5^7 + 180*x_1*x_2^8*x_5^7 + 20*x_2^9*x_5^7 + 180*x_1^8*x_3*x_5^7 - 952*x_1^7*x_2*x_3*x_5^7 + 660*x_1^6*x_2^2*x_3*x_5^7 + 704*x_1^5*x_2^3*x_3*x_5^7 - 1396*x_1^4*x_2^4*x_3*x_5^7 + 704*x_1^3*x_2^5*x_3*x_5^7 + 660*x_1^2*x_2^6*x_3*x_5^7 - 952*x_1*x_2^7*x_3*x_5^7 + 180*x_2^8*x_3*x_5^7 - 488*x_1^7*x_3^2*x_5^7 + 660*x_1^6*x_2*x_3^2*x_5^7 + 952*x_1^5*x_2^2*x_3^2*x_5^7 - 612*x_1^4*x_2^3*x_3^2*x_5^7 - 612*x_1^3*x_2^4*x_3^2*x_5^7 + 952*x_1^2*x_2^5*x_3^2*x_5^7 + 660*x_1*x_2^6*x_3^2*x_5^7 - 488*x_2^7*x_3^2*x_5^7 + 304*x_1^6*x_3^3*x_5^7 + 704*x_1^5*x_2*x_3^3*x_5^7 - 612*x_1^4*x_2^2*x_3^3*x_5^7 - 72*x_1^3*x_2^3*x_3^3*x_5^7 - 612*x_1^2*x_2^4*x_3^3*x_5^7 + 704*x_1*x_2^5*x_3^3*x_5^7 + 304*x_2^6*x_3^3*x_5^7 - 48*x_1^5*x_3^4*x_5^7 - 1396*x_1^4*x_2*x_3^4*x_5^7 - 612*x_1^3*x_2^2*x_3^4*x_5^7 - 612*x_1^2*x_2^3*x_3^4*x_5^7 - 1396*x_1*x_2^4*x_3^4*x_5^7 - 48*x_2^5*x_3^4*x_5^7 - 48*x_1^4*x_3^5*x_5^7 + 704*x_1^3*x_2*x_3^5*x_5^7 + 952*x_1^2*x_2^2*x_3^5*x_5^7 + 704*x_1*x_2^3*x_3^5*x_5^7 - 48*x_2^4*x_3^5*x_5^7 + 304*x_1^3*x_3^6*x_5^7 + 660*x_1^2*x_2*x_3^6*x_5^7 + 660*x_1*x_2^2*x_3^6*x_5^7 + 304*x_2^3*x_3^6*x_5^7 - 488*x_1^2*x_3^7*x_5^7 - 952*x_1*x_2*x_3^7*x_5^7 - 488*x_2^2*x_3^7*x_5^7 + 180*x_1*x_3^8*x_5^7 + 180*x_2*x_3^8*x_5^7 + 20*x_3^9*x_5^7 + 180*x_1^8*x_4*x_5^7 - 952*x_1^7*x_2*x_4*x_5^7 + 660*x_1^6*x_2^2*x_4*x_5^7 + 704*x_1^5*x_2^3*x_4*x_5^7 - 1396*x_1^4*x_2^4*x_4*x_5^7 + 704*x_1^3*x_2^5*x_4*x_5^7 + 660*x_1^2*x_2^6*x_4*x_5^7 - 952*x_1*x_2^7*x_4*x_5^7 + 180*x_2^8*x_4*x_5^7 - 952*x_1^7*x_3*x_4*x_5^7 + 888*x_1^6*x_2*x_3*x_4*x_5^7 + 1528*x_1^5*x_2^2*x_3*x_4*x_5^7 - 1080*x_1^4*x_2^3*x_3*x_4*x_5^7 - 1080*x_1^3*x_2^4*x_3*x_4*x_5^7 + 1528*x_1^2*x_2^5*x_3*x_4*x_5^7 + 888*x_1*x_2^6*x_3*x_4*x_5^7 - 952*x_2^7*x_3*x_4*x_5^7 + 660*x_1^6*x_3^2*x_4*x_5^7 + 1528*x_1^5*x_2*x_3^2*x_4*x_5^7 - 616*x_1^4*x_2^2*x_3^2*x_4*x_5^7 - 776*x_1^3*x_2^3*x_3^2*x_4*x_5^7 - 616*x_1^2*x_2^4*x_3^2*x_4*x_5^7 + 1528*x_1*x_2^5*x_3^2*x_4*x_5^7 + 660*x_2^6*x_3^2*x_4*x_5^7 + 704*x_1^5*x_3^3*x_4*x_5^7 - 1080*x_1^4*x_2*x_3^3*x_4*x_5^7 - 776*x_1^3*x_2^2*x_3^3*x_4*x_5^7 - 776*x_1^2*x_2^3*x_3^3*x_4*x_5^7 - 1080*x_1*x_2^4*x_3^3*x_4*x_5^7 + 704*x_2^5*x_3^3*x_4*x_5^7 - 1396*x_1^4*x_3^4*x_4*x_5^7 - 1080*x_1^3*x_2*x_3^4*x_4*x_5^7 - 616*x_1^2*x_2^2*x_3^4*x_4*x_5^7 - 1080*x_1*x_2^3*x_3^4*x_4*x_5^7 - 1396*x_2^4*x_3^4*x_4*x_5^7 + 704*x_1^3*x_3^5*x_4*x_5^7 + 1528*x_1^2*x_2*x_3^5*x_4*x_5^7 + 1528*x_1*x_2^2*x_3^5*x_4*x_5^7 + 704*x_2^3*x_3^5*x_4*x_5^7 + 660*x_1^2*x_3^6*x_4*x_5^7 + 888*x_1*x_2*x_3^6*x_4*x_5^7 + 660*x_2^2*x_3^6*x_4*x_5^7 - 952*x_1*x_3^7*x_4*x_5^7 - 952*x_2*x_3^7*x_4*x_5^7 + 180*x_3^8*x_4*x_5^7 - 488*x_1^7*x_4^2*x_5^7 + 660*x_1^6*x_2*x_4^2*x_5^7 + 952*x_1^5*x_2^2*x_4^2*x_5^7 - 612*x_1^4*x_2^3*x_4^2*x_5^7 - 612*x_1^3*x_2^4*x_4^2*x_5^7 + 952*x_1^2*x_2^5*x_4^2*x_5^7 + 660*x_1*x_2^6*x_4^2*x_5^7 - 488*x_2^7*x_4^2*x_5^7 + 660*x_1^6*x_3*x_4^2*x_5^7 + 1528*x_1^5*x_2*x_3*x_4^2*x_5^7 - 616*x_1^4*x_2^2*x_3*x_4^2*x_5^7 - 776*x_1^3*x_2^3*x_3*x_4^2*x_5^7 - 616*x_1^2*x_2^4*x_3*x_4^2*x_5^7 + 1528*x_1*x_2^5*x_3*x_4^2*x_5^7 + 660*x_2^6*x_3*x_4^2*x_5^7 + 952*x_1^5*x_3^2*x_4^2*x_5^7 - 616*x_1^4*x_2*x_3^2*x_4^2*x_5^7 - 1032*x_1^3*x_2^2*x_3^2*x_4^2*x_5^7 - 1032*x_1^2*x_2^3*x_3^2*x_4^2*x_5^7 - 616*x_1*x_2^4*x_3^2*x_4^2*x_5^7 + 952*x_2^5*x_3^2*x_4^2*x_5^7 - 612*x_1^4*x_3^3*x_4^2*x_5^7 - 776*x_1^3*x_2*x_3^3*x_4^2*x_5^7 - 1032*x_1^2*x_2^2*x_3^3*x_4^2*x_5^7 - 776*x_1*x_2^3*x_3^3*x_4^2*x_5^7 - 612*x_2^4*x_3^3*x_4^2*x_5^7 - 612*x_1^3*x_3^4*x_4^2*x_5^7 - 616*x_1^2*x_2*x_3^4*x_4^2*x_5^7 - 616*x_1*x_2^2*x_3^4*x_4^2*x_5^7 - 612*x_2^3*x_3^4*x_4^2*x_5^7 + 952*x_1^2*x_3^5*x_4^2*x_5^7 + 1528*x_1*x_2*x_3^5*x_4^2*x_5^7 + 952*x_2^2*x_3^5*x_4^2*x_5^7 + 660*x_1*x_3^6*x_4^2*x_5^7 + 660*x_2*x_3^6*x_4^2*x_5^7 - 488*x_3^7*x_4^2*x_5^7 + 304*x_1^6*x_4^3*x_5^7 + 704*x_1^5*x_2*x_4^3*x_5^7 - 612*x_1^4*x_2^2*x_4^3*x_5^7 - 72*x_1^3*x_2^3*x_4^3*x_5^7 - 612*x_1^2*x_2^4*x_4^3*x_5^7 + 704*x_1*x_2^5*x_4^3*x_5^7 + 304*x_2^6*x_4^3*x_5^7 + 704*x_1^5*x_3*x_4^3*x_5^7 - 1080*x_1^4*x_2*x_3*x_4^3*x_5^7 - 776*x_1^3*x_2^2*x_3*x_4^3*x_5^7 - 776*x_1^2*x_2^3*x_3*x_4^3*x_5^7 - 1080*x_1*x_2^4*x_3*x_4^3*x_5^7 + 704*x_2^5*x_3*x_4^3*x_5^7 - 612*x_1^4*x_3^2*x_4^3*x_5^7 - 776*x_1^3*x_2*x_3^2*x_4^3*x_5^7 - 1032*x_1^2*x_2^2*x_3^2*x_4^3*x_5^7 - 776*x_1*x_2^3*x_3^2*x_4^3*x_5^7 - 612*x_2^4*x_3^2*x_4^3*x_5^7 - 72*x_1^3*x_3^3*x_4^3*x_5^7 - 776*x_1^2*x_2*x_3^3*x_4^3*x_5^7 - 776*x_1*x_2^2*x_3^3*x_4^3*x_5^7 - 72*x_2^3*x_3^3*x_4^3*x_5^7 - 612*x_1^2*x_3^4*x_4^3*x_5^7 - 1080*x_1*x_2*x_3^4*x_4^3*x_5^7 - 612*x_2^2*x_3^4*x_4^3*x_5^7 + 704*x_1*x_3^5*x_4^3*x_5^7 + 704*x_2*x_3^5*x_4^3*x_5^7 + 304*x_3^6*x_4^3*x_5^7 - 48*x_1^5*x_4^4*x_5^7 - 1396*x_1^4*x_2*x_4^4*x_5^7 - 612*x_1^3*x_2^2*x_4^4*x_5^7 - 612*x_1^2*x_2^3*x_4^4*x_5^7 - 1396*x_1*x_2^4*x_4^4*x_5^7 - 48*x_2^5*x_4^4*x_5^7 - 1396*x_1^4*x_3*x_4^4*x_5^7 - 1080*x_1^3*x_2*x_3*x_4^4*x_5^7 - 616*x_1^2*x_2^2*x_3*x_4^4*x_5^7 - 1080*x_1*x_2^3*x_3*x_4^4*x_5^7 - 1396*x_2^4*x_3*x_4^4*x_5^7 - 612*x_1^3*x_3^2*x_4^4*x_5^7 - 616*x_1^2*x_2*x_3^2*x_4^4*x_5^7 - 616*x_1*x_2^2*x_3^2*x_4^4*x_5^7 - 612*x_2^3*x_3^2*x_4^4*x_5^7 - 612*x_1^2*x_3^3*x_4^4*x_5^7 - 1080*x_1*x_2*x_3^3*x_4^4*x_5^7 - 612*x_2^2*x_3^3*x_4^4*x_5^7 - 1396*x_1*x_3^4*x_4^4*x_5^7 - 1396*x_2*x_3^4*x_4^4*x_5^7 - 48*x_3^5*x_4^4*x_5^7 - 48*x_1^4*x_4^5*x_5^7 + 704*x_1^3*x_2*x_4^5*x_5^7 + 952*x_1^2*x_2^2*x_4^5*x_5^7 + 704*x_1*x_2^3*x_4^5*x_5^7 - 48*x_2^4*x_4^5*x_5^7 + 704*x_1^3*x_3*x_4^5*x_5^7 + 1528*x_1^2*x_2*x_3*x_4^5*x_5^7 + 1528*x_1*x_2^2*x_3*x_4^5*x_5^7 + 704*x_2^3*x_3*x_4^5*x_5^7 + 952*x_1^2*x_3^2*x_4^5*x_5^7 + 1528*x_1*x_2*x_3^2*x_4^5*x_5^7 + 952*x_2^2*x_3^2*x_4^5*x_5^7 + 704*x_1*x_3^3*x_4^5*x_5^7 + 704*x_2*x_3^3*x_4^5*x_5^7 - 48*x_3^4*x_4^5*x_5^7 + 304*x_1^3*x_4^6*x_5^7 + 660*x_1^2*x_2*x_4^6*x_5^7 + 660*x_1*x_2^2*x_4^6*x_5^7 + 304*x_2^3*x_4^6*x_5^7 + 660*x_1^2*x_3*x_4^6*x_5^7 + 888*x_1*x_2*x_3*x_4^6*x_5^7 + 660*x_2^2*x_3*x_4^6*x_5^7 + 660*x_1*x_3^2*x_4^6*x_5^7 + 660*x_2*x_3^2*x_4^6*x_5^7 + 304*x_3^3*x_4^6*x_5^7 - 488*x_1^2*x_4^7*x_5^7 - 952*x_1*x_2*x_4^7*x_5^7 - 488*x_2^2*x_4^7*x_5^7 - 952*x_1*x_3*x_4^7*x_5^7 - 952*x_2*x_3*x_4^7*x_5^7 - 488*x_3^2*x_4^7*x_5^7 + 180*x_1*x_4^8*x_5^7 + 180*x_2*x_4^8*x_5^7 + 180*x_3*x_4^8*x_5^7 + 20*x_4^9*x_5^7 - 90*x_1^8*x_5^8 + 180*x_1^7*x_2*x_5^8 + 148*x_1^6*x_2^2*x_5^8 - 380*x_1^5*x_2^3*x_5^8 + 409*x_1^4*x_2^4*x_5^8 - 380*x_1^3*x_2^5*x_5^8 + 148*x_1^2*x_2^6*x_5^8 + 180*x_1*x_2^7*x_5^8 - 90*x_2^8*x_5^8 + 180*x_1^7*x_3*x_5^8 + 392*x_1^6*x_2*x_3*x_5^8 - 1188*x_1^5*x_2^2*x_3*x_5^8 + 546*x_1^4*x_2^3*x_3*x_5^8 + 546*x_1^3*x_2^4*x_3*x_5^8 - 1188*x_1^2*x_2^5*x_3*x_5^8 + 392*x_1*x_2^6*x_3*x_5^8 + 180*x_2^7*x_3*x_5^8 + 148*x_1^6*x_3^2*x_5^8 - 1188*x_1^5*x_2*x_3^2*x_5^8 - 59*x_1^4*x_2^2*x_3^2*x_5^8 + 736*x_1^3*x_2^3*x_3^2*x_5^8 - 59*x_1^2*x_2^4*x_3^2*x_5^8 - 1188*x_1*x_2^5*x_3^2*x_5^8 + 148*x_2^6*x_3^2*x_5^8 - 380*x_1^5*x_3^3*x_5^8 + 546*x_1^4*x_2*x_3^3*x_5^8 + 736*x_1^3*x_2^2*x_3^3*x_5^8 + 736*x_1^2*x_2^3*x_3^3*x_5^8 + 546*x_1*x_2^4*x_3^3*x_5^8 - 380*x_2^5*x_3^3*x_5^8 + 409*x_1^4*x_3^4*x_5^8 + 546*x_1^3*x_2*x_3^4*x_5^8 - 59*x_1^2*x_2^2*x_3^4*x_5^8 + 546*x_1*x_2^3*x_3^4*x_5^8 + 409*x_2^4*x_3^4*x_5^8 - 380*x_1^3*x_3^5*x_5^8 - 1188*x_1^2*x_2*x_3^5*x_5^8 - 1188*x_1*x_2^2*x_3^5*x_5^8 - 380*x_2^3*x_3^5*x_5^8 + 148*x_1^2*x_3^6*x_5^8 + 392*x_1*x_2*x_3^6*x_5^8 + 148*x_2^2*x_3^6*x_5^8 + 180*x_1*x_3^7*x_5^8 + 180*x_2*x_3^7*x_5^8 - 90*x_3^8*x_5^8 + 180*x_1^7*x_4*x_5^8 + 392*x_1^6*x_2*x_4*x_5^8 - 1188*x_1^5*x_2^2*x_4*x_5^8 + 546*x_1^4*x_2^3*x_4*x_5^8 + 546*x_1^3*x_2^4*x_4*x_5^8 - 1188*x_1^2*x_2^5*x_4*x_5^8 + 392*x_1*x_2^6*x_4*x_5^8 + 180*x_2^7*x_4*x_5^8 + 392*x_1^6*x_3*x_4*x_5^8 - 1812*x_1^5*x_2*x_3*x_4*x_5^8 - 242*x_1^4*x_2^2*x_3*x_4*x_5^8 + 1468*x_1^3*x_2^3*x_3*x_4*x_5^8 - 242*x_1^2*x_2^4*x_3*x_4*x_5^8 - 1812*x_1*x_2^5*x_3*x_4*x_5^8 + 392*x_2^6*x_3*x_4*x_5^8 - 1188*x_1^5*x_3^2*x_4*x_5^8 - 242*x_1^4*x_2*x_3^2*x_4*x_5^8 + 1148*x_1^3*x_2^2*x_3^2*x_4*x_5^8 + 1148*x_1^2*x_2^3*x_3^2*x_4*x_5^8 - 242*x_1*x_2^4*x_3^2*x_4*x_5^8 - 1188*x_2^5*x_3^2*x_4*x_5^8 + 546*x_1^4*x_3^3*x_4*x_5^8 + 1468*x_1^3*x_2*x_3^3*x_4*x_5^8 + 1148*x_1^2*x_2^2*x_3^3*x_4*x_5^8 + 1468*x_1*x_2^3*x_3^3*x_4*x_5^8 + 546*x_2^4*x_3^3*x_4*x_5^8 + 546*x_1^3*x_3^4*x_4*x_5^8 - 242*x_1^2*x_2*x_3^4*x_4*x_5^8 - 242*x_1*x_2^2*x_3^4*x_4*x_5^8 + 546*x_2^3*x_3^4*x_4*x_5^8 - 1188*x_1^2*x_3^5*x_4*x_5^8 - 1812*x_1*x_2*x_3^5*x_4*x_5^8 - 1188*x_2^2*x_3^5*x_4*x_5^8 + 392*x_1*x_3^6*x_4*x_5^8 + 392*x_2*x_3^6*x_4*x_5^8 + 180*x_3^7*x_4*x_5^8 + 148*x_1^6*x_4^2*x_5^8 - 1188*x_1^5*x_2*x_4^2*x_5^8 - 59*x_1^4*x_2^2*x_4^2*x_5^8 + 736*x_1^3*x_2^3*x_4^2*x_5^8 - 59*x_1^2*x_2^4*x_4^2*x_5^8 - 1188*x_1*x_2^5*x_4^2*x_5^8 + 148*x_2^6*x_4^2*x_5^8 - 1188*x_1^5*x_3*x_4^2*x_5^8 - 242*x_1^4*x_2*x_3*x_4^2*x_5^8 + 1148*x_1^3*x_2^2*x_3*x_4^2*x_5^8 + 1148*x_1^2*x_2^3*x_3*x_4^2*x_5^8 - 242*x_1*x_2^4*x_3*x_4^2*x_5^8 - 1188*x_2^5*x_3*x_4^2*x_5^8 - 59*x_1^4*x_3^2*x_4^2*x_5^8 + 1148*x_1^3*x_2*x_3^2*x_4^2*x_5^8 + 1548*x_1^2*x_2^2*x_3^2*x_4^2*x_5^8 + 1148*x_1*x_2^3*x_3^2*x_4^2*x_5^8 - 59*x_2^4*x_3^2*x_4^2*x_5^8 + 736*x_1^3*x_3^3*x_4^2*x_5^8 + 1148*x_1^2*x_2*x_3^3*x_4^2*x_5^8 + 1148*x_1*x_2^2*x_3^3*x_4^2*x_5^8 + 736*x_2^3*x_3^3*x_4^2*x_5^8 - 59*x_1^2*x_3^4*x_4^2*x_5^8 - 242*x_1*x_2*x_3^4*x_4^2*x_5^8 - 59*x_2^2*x_3^4*x_4^2*x_5^8 - 1188*x_1*x_3^5*x_4^2*x_5^8 - 1188*x_2*x_3^5*x_4^2*x_5^8 + 148*x_3^6*x_4^2*x_5^8 - 380*x_1^5*x_4^3*x_5^8 + 546*x_1^4*x_2*x_4^3*x_5^8 + 736*x_1^3*x_2^2*x_4^3*x_5^8 + 736*x_1^2*x_2^3*x_4^3*x_5^8 + 546*x_1*x_2^4*x_4^3*x_5^8 - 380*x_2^5*x_4^3*x_5^8 + 546*x_1^4*x_3*x_4^3*x_5^8 + 1468*x_1^3*x_2*x_3*x_4^3*x_5^8 + 1148*x_1^2*x_2^2*x_3*x_4^3*x_5^8 + 1468*x_1*x_2^3*x_3*x_4^3*x_5^8 + 546*x_2^4*x_3*x_4^3*x_5^8 + 736*x_1^3*x_3^2*x_4^3*x_5^8 + 1148*x_1^2*x_2*x_3^2*x_4^3*x_5^8 + 1148*x_1*x_2^2*x_3^2*x_4^3*x_5^8 + 736*x_2^3*x_3^2*x_4^3*x_5^8 + 736*x_1^2*x_3^3*x_4^3*x_5^8 + 1468*x_1*x_2*x_3^3*x_4^3*x_5^8 + 736*x_2^2*x_3^3*x_4^3*x_5^8 + 546*x_1*x_3^4*x_4^3*x_5^8 + 546*x_2*x_3^4*x_4^3*x_5^8 - 380*x_3^5*x_4^3*x_5^8 + 409*x_1^4*x_4^4*x_5^8 + 546*x_1^3*x_2*x_4^4*x_5^8 - 59*x_1^2*x_2^2*x_4^4*x_5^8 + 546*x_1*x_2^3*x_4^4*x_5^8 + 409*x_2^4*x_4^4*x_5^8 + 546*x_1^3*x_3*x_4^4*x_5^8 - 242*x_1^2*x_2*x_3*x_4^4*x_5^8 - 242*x_1*x_2^2*x_3*x_4^4*x_5^8 + 546*x_2^3*x_3*x_4^4*x_5^8 - 59*x_1^2*x_3^2*x_4^4*x_5^8 - 242*x_1*x_2*x_3^2*x_4^4*x_5^8 - 59*x_2^2*x_3^2*x_4^4*x_5^8 + 546*x_1*x_3^3*x_4^4*x_5^8 + 546*x_2*x_3^3*x_4^4*x_5^8 + 409*x_3^4*x_4^4*x_5^8 - 380*x_1^3*x_4^5*x_5^8 - 1188*x_1^2*x_2*x_4^5*x_5^8 - 1188*x_1*x_2^2*x_4^5*x_5^8 - 380*x_2^3*x_4^5*x_5^8 - 1188*x_1^2*x_3*x_4^5*x_5^8 - 1812*x_1*x_2*x_3*x_4^5*x_5^8 - 1188*x_2^2*x_3*x_4^5*x_5^8 - 1188*x_1*x_3^2*x_4^5*x_5^8 - 1188*x_2*x_3^2*x_4^5*x_5^8 - 380*x_3^3*x_4^5*x_5^8 + 148*x_1^2*x_4^6*x_5^8 + 392*x_1*x_2*x_4^6*x_5^8 + 148*x_2^2*x_4^6*x_5^8 + 392*x_1*x_3*x_4^6*x_5^8 + 392*x_2*x_3*x_4^6*x_5^8 + 148*x_3^2*x_4^6*x_5^8 + 180*x_1*x_4^7*x_5^8 + 180*x_2*x_4^7*x_5^8 + 180*x_3*x_4^7*x_5^8 - 90*x_4^8*x_5^8 + 20*x_1^7*x_5^9 - 260*x_1^6*x_2*x_5^9 + 292*x_1^5*x_2^2*x_5^9 - 92*x_1^4*x_2^3*x_5^9 - 92*x_1^3*x_2^4*x_5^9 + 292*x_1^2*x_2^5*x_5^9 - 260*x_1*x_2^6*x_5^9 + 20*x_2^7*x_5^9 - 260*x_1^6*x_3*x_5^9 + 468*x_1^5*x_2*x_3*x_5^9 + 518*x_1^4*x_2^2*x_3*x_5^9 - 812*x_1^3*x_2^3*x_3*x_5^9 + 518*x_1^2*x_2^4*x_3*x_5^9 + 468*x_1*x_2^5*x_3*x_5^9 - 260*x_2^6*x_3*x_5^9 + 292*x_1^5*x_3^2*x_5^9 + 518*x_1^4*x_2*x_3^2*x_5^9 - 592*x_1^3*x_2^2*x_3^2*x_5^9 - 592*x_1^2*x_2^3*x_3^2*x_5^9 + 518*x_1*x_2^4*x_3^2*x_5^9 + 292*x_2^5*x_3^2*x_5^9 - 92*x_1^4*x_3^3*x_5^9 - 812*x_1^3*x_2*x_3^3*x_5^9 - 592*x_1^2*x_2^2*x_3^3*x_5^9 - 812*x_1*x_2^3*x_3^3*x_5^9 - 92*x_2^4*x_3^3*x_5^9 - 92*x_1^3*x_3^4*x_5^9 + 518*x_1^2*x_2*x_3^4*x_5^9 + 518*x_1*x_2^2*x_3^4*x_5^9 - 92*x_2^3*x_3^4*x_5^9 + 292*x_1^2*x_3^5*x_5^9 + 468*x_1*x_2*x_3^5*x_5^9 + 292*x_2^2*x_3^5*x_5^9 - 260*x_1*x_3^6*x_5^9 - 260*x_2*x_3^6*x_5^9 + 20*x_3^7*x_5^9 - 260*x_1^6*x_4*x_5^9 + 468*x_1^5*x_2*x_4*x_5^9 + 518*x_1^4*x_2^2*x_4*x_5^9 - 812*x_1^3*x_2^3*x_4*x_5^9 + 518*x_1^2*x_2^4*x_4*x_5^9 + 468*x_1*x_2^5*x_4*x_5^9 - 260*x_2^6*x_4*x_5^9 + 468*x_1^5*x_3*x_4*x_5^9 + 1168*x_1^4*x_2*x_3*x_4*x_5^9 - 892*x_1^3*x_2^2*x_3*x_4*x_5^9 - 892*x_1^2*x_2^3*x_3*x_4*x_5^9 + 1168*x_1*x_2^4*x_3*x_4*x_5^9 + 468*x_2^5*x_3*x_4*x_5^9 + 518*x_1^4*x_3^2*x_4*x_5^9 - 892*x_1^3*x_2*x_3^2*x_4*x_5^9 - 1492*x_1^2*x_2^2*x_3^2*x_4*x_5^9 - 892*x_1*x_2^3*x_3^2*x_4*x_5^9 + 518*x_2^4*x_3^2*x_4*x_5^9 - 812*x_1^3*x_3^3*x_4*x_5^9 - 892*x_1^2*x_2*x_3^3*x_4*x_5^9 - 892*x_1*x_2^2*x_3^3*x_4*x_5^9 - 812*x_2^3*x_3^3*x_4*x_5^9 + 518*x_1^2*x_3^4*x_4*x_5^9 + 1168*x_1*x_2*x_3^4*x_4*x_5^9 + 518*x_2^2*x_3^4*x_4*x_5^9 + 468*x_1*x_3^5*x_4*x_5^9 + 468*x_2*x_3^5*x_4*x_5^9 - 260*x_3^6*x_4*x_5^9 + 292*x_1^5*x_4^2*x_5^9 + 518*x_1^4*x_2*x_4^2*x_5^9 - 592*x_1^3*x_2^2*x_4^2*x_5^9 - 592*x_1^2*x_2^3*x_4^2*x_5^9 + 518*x_1*x_2^4*x_4^2*x_5^9 + 292*x_2^5*x_4^2*x_5^9 + 518*x_1^4*x_3*x_4^2*x_5^9 - 892*x_1^3*x_2*x_3*x_4^2*x_5^9 - 1492*x_1^2*x_2^2*x_3*x_4^2*x_5^9 - 892*x_1*x_2^3*x_3*x_4^2*x_5^9 + 518*x_2^4*x_3*x_4^2*x_5^9 - 592*x_1^3*x_3^2*x_4^2*x_5^9 - 1492*x_1^2*x_2*x_3^2*x_4^2*x_5^9 - 1492*x_1*x_2^2*x_3^2*x_4^2*x_5^9 - 592*x_2^3*x_3^2*x_4^2*x_5^9 - 592*x_1^2*x_3^3*x_4^2*x_5^9 - 892*x_1*x_2*x_3^3*x_4^2*x_5^9 - 592*x_2^2*x_3^3*x_4^2*x_5^9 + 518*x_1*x_3^4*x_4^2*x_5^9 + 518*x_2*x_3^4*x_4^2*x_5^9 + 292*x_3^5*x_4^2*x_5^9 - 92*x_1^4*x_4^3*x_5^9 - 812*x_1^3*x_2*x_4^3*x_5^9 - 592*x_1^2*x_2^2*x_4^3*x_5^9 - 812*x_1*x_2^3*x_4^3*x_5^9 - 92*x_2^4*x_4^3*x_5^9 - 812*x_1^3*x_3*x_4^3*x_5^9 - 892*x_1^2*x_2*x_3*x_4^3*x_5^9 - 892*x_1*x_2^2*x_3*x_4^3*x_5^9 - 812*x_2^3*x_3*x_4^3*x_5^9 - 592*x_1^2*x_3^2*x_4^3*x_5^9 - 892*x_1*x_2*x_3^2*x_4^3*x_5^9 - 592*x_2^2*x_3^2*x_4^3*x_5^9 - 812*x_1*x_3^3*x_4^3*x_5^9 - 812*x_2*x_3^3*x_4^3*x_5^9 - 92*x_3^4*x_4^3*x_5^9 - 92*x_1^3*x_4^4*x_5^9 + 518*x_1^2*x_2*x_4^4*x_5^9 + 518*x_1*x_2^2*x_4^4*x_5^9 - 92*x_2^3*x_4^4*x_5^9 + 518*x_1^2*x_3*x_4^4*x_5^9 + 1168*x_1*x_2*x_3*x_4^4*x_5^9 + 518*x_2^2*x_3*x_4^4*x_5^9 + 518*x_1*x_3^2*x_4^4*x_5^9 + 518*x_2*x_3^2*x_4^4*x_5^9 - 92*x_3^3*x_4^4*x_5^9 + 292*x_1^2*x_4^5*x_5^9 + 468*x_1*x_2*x_4^5*x_5^9 + 292*x_2^2*x_4^5*x_5^9 + 468*x_1*x_3*x_4^5*x_5^9 + 468*x_2*x_3*x_4^5*x_5^9 + 292*x_3^2*x_4^5*x_5^9 - 260*x_1*x_4^6*x_5^9 - 260*x_2*x_4^6*x_5^9 - 260*x_3*x_4^6*x_5^9 + 20*x_4^7*x_5^9 + 64*x_1^6*x_5^10 + 4*x_1^5*x_2*x_5^10 - 222*x_1^4*x_2^2*x_5^10 + 236*x_1^3*x_2^3*x_5^10 - 222*x_1^2*x_2^4*x_5^10 + 4*x_1*x_2^5*x_5^10 + 64*x_2^6*x_5^10 + 4*x_1^5*x_3*x_5^10 - 558*x_1^4*x_2*x_3*x_5^10 + 244*x_1^3*x_2^2*x_3*x_5^10 + 244*x_1^2*x_2^3*x_3*x_5^10 - 558*x_1*x_2^4*x_3*x_5^10 + 4*x_2^5*x_3*x_5^10 - 222*x_1^4*x_3^2*x_5^10 + 244*x_1^3*x_2*x_3^2*x_5^10 + 682*x_1^2*x_2^2*x_3^2*x_5^10 + 244*x_1*x_2^3*x_3^2*x_5^10 - 222*x_2^4*x_3^2*x_5^10 + 236*x_1^3*x_3^3*x_5^10 + 244*x_1^2*x_2*x_3^3*x_5^10 + 244*x_1*x_2^2*x_3^3*x_5^10 + 236*x_2^3*x_3^3*x_5^10 - 222*x_1^2*x_3^4*x_5^10 - 558*x_1*x_2*x_3^4*x_5^10 - 222*x_2^2*x_3^4*x_5^10 + 4*x_1*x_3^5*x_5^10 + 4*x_2*x_3^5*x_5^10 + 64*x_3^6*x_5^10 + 4*x_1^5*x_4*x_5^10 - 558*x_1^4*x_2*x_4*x_5^10 + 244*x_1^3*x_2^2*x_4*x_5^10 + 244*x_1^2*x_2^3*x_4*x_5^10 - 558*x_1*x_2^4*x_4*x_5^10 + 4*x_2^5*x_4*x_5^10 - 558*x_1^4*x_3*x_4*x_5^10 + 68*x_1^3*x_2*x_3*x_4*x_5^10 + 1132*x_1^2*x_2^2*x_3*x_4*x_5^10 + 68*x_1*x_2^3*x_3*x_4*x_5^10 - 558*x_2^4*x_3*x_4*x_5^10 + 244*x_1^3*x_3^2*x_4*x_5^10 + 1132*x_1^2*x_2*x_3^2*x_4*x_5^10 + 1132*x_1*x_2^2*x_3^2*x_4*x_5^10 + 244*x_2^3*x_3^2*x_4*x_5^10 + 244*x_1^2*x_3^3*x_4*x_5^10 + 68*x_1*x_2*x_3^3*x_4*x_5^10 + 244*x_2^2*x_3^3*x_4*x_5^10 - 558*x_1*x_3^4*x_4*x_5^10 - 558*x_2*x_3^4*x_4*x_5^10 + 4*x_3^5*x_4*x_5^10 - 222*x_1^4*x_4^2*x_5^10 + 244*x_1^3*x_2*x_4^2*x_5^10 + 682*x_1^2*x_2^2*x_4^2*x_5^10 + 244*x_1*x_2^3*x_4^2*x_5^10 - 222*x_2^4*x_4^2*x_5^10 + 244*x_1^3*x_3*x_4^2*x_5^10 + 1132*x_1^2*x_2*x_3*x_4^2*x_5^10 + 1132*x_1*x_2^2*x_3*x_4^2*x_5^10 + 244*x_2^3*x_3*x_4^2*x_5^10 + 682*x_1^2*x_3^2*x_4^2*x_5^10 + 1132*x_1*x_2*x_3^2*x_4^2*x_5^10 + 682*x_2^2*x_3^2*x_4^2*x_5^10 + 244*x_1*x_3^3*x_4^2*x_5^10 + 244*x_2*x_3^3*x_4^2*x_5^10 - 222*x_3^4*x_4^2*x_5^10 + 236*x_1^3*x_4^3*x_5^10 + 244*x_1^2*x_2*x_4^3*x_5^10 + 244*x_1*x_2^2*x_4^3*x_5^10 + 236*x_2^3*x_4^3*x_5^10 + 244*x_1^2*x_3*x_4^3*x_5^10 + 68*x_1*x_2*x_3*x_4^3*x_5^10 + 244*x_2^2*x_3*x_4^3*x_5^10 + 244*x_1*x_3^2*x_4^3*x_5^10 + 244*x_2*x_3^2*x_4^3*x_5^10 + 236*x_3^3*x_4^3*x_5^10 - 222*x_1^2*x_4^4*x_5^10 - 558*x_1*x_2*x_4^4*x_5^10 - 222*x_2^2*x_4^4*x_5^10 - 558*x_1*x_3*x_4^4*x_5^10 - 558*x_2*x_3*x_4^4*x_5^10 - 222*x_3^2*x_4^4*x_5^10 + 4*x_1*x_4^5*x_5^10 + 4*x_2*x_4^5*x_5^10 + 4*x_3*x_4^5*x_5^10 + 64*x_4^6*x_5^10 - 36*x_1^5*x_5^11 + 140*x_1^4*x_2*x_5^11 - 28*x_1^3*x_2^2*x_5^11 - 28*x_1^2*x_2^3*x_5^11 + 140*x_1*x_2^4*x_5^11 - 36*x_2^5*x_5^11 + 140*x_1^4*x_3*x_5^11 + 108*x_1^3*x_2*x_3*x_5^11 - 360*x_1^2*x_2^2*x_3*x_5^11 + 108*x_1*x_2^3*x_3*x_5^11 + 140*x_2^4*x_3*x_5^11 - 28*x_1^3*x_3^2*x_5^11 - 360*x_1^2*x_2*x_3^2*x_5^11 - 360*x_1*x_2^2*x_3^2*x_5^11 - 28*x_2^3*x_3^2*x_5^11 - 28*x_1^2*x_3^3*x_5^11 + 108*x_1*x_2*x_3^3*x_5^11 - 28*x_2^2*x_3^3*x_5^11 + 140*x_1*x_3^4*x_5^11 + 140*x_2*x_3^4*x_5^11 - 36*x_3^5*x_5^11 + 140*x_1^4*x_4*x_5^11 + 108*x_1^3*x_2*x_4*x_5^11 - 360*x_1^2*x_2^2*x_4*x_5^11 + 108*x_1*x_2^3*x_4*x_5^11 + 140*x_2^4*x_4*x_5^11 + 108*x_1^3*x_3*x_4*x_5^11 - 636*x_1^2*x_2*x_3*x_4*x_5^11 - 636*x_1*x_2^2*x_3*x_4*x_5^11 + 108*x_2^3*x_3*x_4*x_5^11 - 360*x_1^2*x_3^2*x_4*x_5^11 - 636*x_1*x_2*x_3^2*x_4*x_5^11 - 360*x_2^2*x_3^2*x_4*x_5^11 + 108*x_1*x_3^3*x_4*x_5^11 + 108*x_2*x_3^3*x_4*x_5^11 + 140*x_3^4*x_4*x_5^11 - 28*x_1^3*x_4^2*x_5^11 - 360*x_1^2*x_2*x_4^2*x_5^11 - 360*x_1*x_2^2*x_4^2*x_5^11 - 28*x_2^3*x_4^2*x_5^11 - 360*x_1^2*x_3*x_4^2*x_5^11 - 636*x_1*x_2*x_3*x_4^2*x_5^11 - 360*x_2^2*x_3*x_4^2*x_5^11 - 360*x_1*x_3^2*x_4^2*x_5^11 - 360*x_2*x_3^2*x_4^2*x_5^11 - 28*x_3^3*x_4^2*x_5^11 - 28*x_1^2*x_4^3*x_5^11 + 108*x_1*x_2*x_4^3*x_5^11 - 28*x_2^2*x_4^3*x_5^11 + 108*x_1*x_3*x_4^3*x_5^11 + 108*x_2*x_3*x_4^3*x_5^11 - 28*x_3^2*x_4^3*x_5^11 + 140*x_1*x_4^4*x_5^11 + 140*x_2*x_4^4*x_5^11 + 140*x_3*x_4^4*x_5^11 - 36*x_4^5*x_5^11 - 20*x_1^4*x_5^12 - 60*x_1^3*x_2*x_5^12 + 74*x_1^2*x_2^2*x_5^12 - 60*x_1*x_2^3*x_5^12 - 20*x_2^4*x_5^12 - 60*x_1^3*x_3*x_5^12 + 146*x_1^2*x_2*x_3*x_5^12 + 146*x_1*x_2^2*x_3*x_5^12 - 60*x_2^3*x_3*x_5^12 + 74*x_1^2*x_3^2*x_5^12 + 146*x_1*x_2*x_3^2*x_5^12 + 74*x_2^2*x_3^2*x_5^12 - 60*x_1*x_3^3*x_5^12 - 60*x_2*x_3^3*x_5^12 - 20*x_3^4*x_5^12 - 60*x_1^3*x_4*x_5^12 + 146*x_1^2*x_2*x_4*x_5^12 + 146*x_1*x_2^2*x_4*x_5^12 - 60*x_2^3*x_4*x_5^12 + 146*x_1^2*x_3*x_4*x_5^12 + 424*x_1*x_2*x_3*x_4*x_5^12 + 146*x_2^2*x_3*x_4*x_5^12 + 146*x_1*x_3^2*x_4*x_5^12 + 146*x_2*x_3^2*x_4*x_5^12 - 60*x_3^3*x_4*x_5^12 + 74*x_1^2*x_4^2*x_5^12 + 146*x_1*x_2*x_4^2*x_5^12 + 74*x_2^2*x_4^2*x_5^12 + 146*x_1*x_3*x_4^2*x_5^12 + 146*x_2*x_3*x_4^2*x_5^12 + 74*x_3^2*x_4^2*x_5^12 - 60*x_1*x_4^3*x_5^12 - 60*x_2*x_4^3*x_5^12 - 60*x_3*x_4^3*x_5^12 - 20*x_4^4*x_5^12 + 20*x_1^3*x_5^13 - 20*x_1^2*x_2*x_5^13 - 20*x_1*x_2^2*x_5^13 + 20*x_2^3*x_5^13 - 20*x_1^2*x_3*x_5^13 - 100*x_1*x_2*x_3*x_5^13 - 20*x_2^2*x_3*x_5^13 - 20*x_1*x_3^2*x_5^13 - 20*x_2*x_3^2*x_5^13 + 20*x_3^3*x_5^13 - 20*x_1^2*x_4*x_5^13 - 100*x_1*x_2*x_4*x_5^13 - 20*x_2^2*x_4*x_5^13 - 100*x_1*x_3*x_4*x_5^13 - 100*x_2*x_3*x_4*x_5^13 - 20*x_3^2*x_4*x_5^13 - 20*x_1*x_4^2*x_5^13 - 20*x_2*x_4^2*x_5^13 - 20*x_3*x_4^2*x_5^13 + 20*x_4^3*x_5^13 + 20*x_1*x_2*x_5^14 + 20*x_1*x_3*x_5^14 + 20*x_2*x_3*x_5^14 + 20*x_1*x_4*x_5^14 + 20*x_2*x_4*x_5^14 + 20*x_3*x_4*x_5^14 - 4*x_1*x_5^15 - 4*x_2*x_5^15 - 4*x_3*x_5^15 - 4*x_4*x_5^15 + x_5^16"
      ]
     },
     "execution_count": 10,
     "metadata": {},
     "output_type": "execute_result"
    }
   ],
   "source": [
    "addi.subs({a_4:-(x_1 + x_2 + x_3 + x_4 + x_5),a_3:(x_1*x_2 + x_1*x_3 + x_2*x_3 + x_1*x_4 + x_2*x_4 + x_3*x_4 + x_1*x_5 + x_2*x_5 + x_3*x_5 + x_4*x_5),\n",
    "              a_2:-(x_1*x_2*x_3 + x_1*x_2*x_4 + x_1*x_3*x_4 + x_2*x_3*x_4 + x_1*x_2*x_5 + x_1*x_3*x_5 + x_2*x_3*x_5 + x_1*x_4*x_5 + x_2*x_4*x_5 + x_3*x_4*x_5),\n",
    "              a_1:(x_1*x_2*x_3*x_4 + x_1*x_2*x_3*x_5 + x_1*x_2*x_4*x_5 + x_1*x_3*x_4*x_5 + x_2*x_3*x_4*x_5),a_0:-(x_1*x_2*x_3*x_4*x_5)}).full_simplify().factor()"
   ]
  },
  {
   "cell_type": "code",
   "execution_count": 13,
   "id": "97a19f39",
   "metadata": {},
   "outputs": [
    {
     "data": {
      "text/plain": [
       "-a_0^2*a_2^2"
      ]
     },
     "execution_count": 13,
     "metadata": {},
     "output_type": "execute_result"
    }
   ],
   "source": [
    "addi.subs({a_4:0,a_3:0,a_1:0})/(3125*27)"
   ]
  },
  {
   "cell_type": "code",
   "execution_count": 53,
   "id": "06bcdf60",
   "metadata": {},
   "outputs": [],
   "source": [
    "addi2=(a_4^16 - 20*a_3*a_4^14 + 160*a_3^2*a_4^12 + 40*a_2*a_4^13 - 640*a_3^3*a_4^10 - 640*a_2*a_3*a_4^11 - 20*a_1*a_4^12 + 1280*a_3^4*a_4^8 + 3840*a_2*a_3^2*a_4^9 + 634*a_2^2*a_4^10 + 338*a_1*a_3*a_4^10 - 152*a_0*a_4^11 - 1024*a_3^5*a_4^6 - 10240*a_2*a_3^3*a_4^7 - 7608*a_2^2*a_3*a_4^8 - 2136*a_1*a_3^2*a_4^8 - 634*a_1*a_2*a_4^9 + 2090*a_0*a_3*a_4^9 + 10240*a_2*a_3^4*a_4^5 + 30432*a_2^2*a_3^2*a_4^6 + 5984*a_1*a_3^3*a_4^6 + 4968*a_2^3*a_4^7 + 8076*a_1*a_2*a_3*a_4^7 - 10596*a_0*a_3^2*a_4^7 - 170*a_1^2*a_4^8 - 3094*a_0*a_2*a_4^8 - 40576*a_2^2*a_3^3*a_4^4 - 6272*a_1*a_3^4*a_4^4 - 39744*a_2^3*a_3*a_4^5 - 34176*a_1*a_2*a_3^2*a_4^5 + 23360*a_0*a_3^3*a_4^5 - 7452*a_1*a_2^2*a_4^6 + 1320*a_1^2*a_3*a_4^6 + 30180*a_0*a_2*a_3*a_4^6 + 1520*a_0*a_1*a_4^7 + 79488*a_2^3*a_3^2*a_4^3 + 48064*a_1*a_2*a_3^3*a_4^3 - 18752*a_0*a_3^4*a_4^3 + 19197*a_2^4*a_4^4 + 63666*a_1*a_2^2*a_3*a_4^4 - 2427*a_1^2*a_3^2*a_4^4 - 94656*a_0*a_2*a_3^2*a_4^4 - 2628*a_1^2*a_2*a_4^5 - 20592*a_0*a_2^2*a_4^5 - 12300*a_0*a_1*a_3*a_4^5 - 2000*a_0^2*a_4^6 - 76788*a_2^4*a_3*a_4^2 - 135432*a_1*a_2^2*a_3^2*a_4^2 - 532*a_1^2*a_3^3*a_4^2 + 93760*a_0*a_2*a_3^3*a_4^2 - 38394*a_1*a_2^3*a_4^3 + 9198*a_1^2*a_2*a_3*a_4^3 + 118890*a_0*a_2^2*a_3*a_4^3 + 27330*a_0*a_1*a_3^2*a_4^3 + 1548*a_1^3*a_4^4 + 19620*a_0*a_1*a_2*a_4^4 + 15000*a_0^2*a_3*a_4^4 + 29160*a_2^5*a_4 + 165240*a_1*a_2^3*a_3*a_4 + 5040*a_1^2*a_2*a_3^2*a_4 - 153000*a_0*a_2^2*a_3^2*a_4 - 9800*a_0*a_1*a_3^3*a_4 - 10125*a_1^2*a_2^2*a_4^2 - 44550*a_0*a_2^3*a_4^2 - 6390*a_1^3*a_3*a_4^2 - 79200*a_0*a_1*a_2*a_3*a_4^2 - 27375*a_0^2*a_3^2*a_4^2 - 5400*a_0*a_1^2*a_4^3 - 27000*a_0^2*a_2*a_4^3 - 72900*a_1*a_2^4 - 8100*a_1^2*a_2^2*a_3 + 81000*a_0*a_2^3*a_3 + 900*a_1^3*a_3^2 + 18000*a_0*a_1*a_2*a_3^2 - 2500*a_0^2*a_3^3 + 12150*a_1^3*a_2*a_4 + 60750*a_0*a_1*a_2^2*a_4 + 20250*a_0*a_1^2*a_3*a_4 + 101250*a_0^2*a_2*a_3*a_4 - 3375*a_1^4 - 33750*a_0*a_1^2*a_2 - 84375*a_0^2*a_2^2)*(a_1^2*a_2^2*a_3^2*a_4^2 - 4*a_0*a_2^3*a_3^2*a_4^2 - 4*a_1^3*a_3^3*a_4^2 + 18*a_0*a_1*a_2*a_3^3*a_4^2 - 27*a_0^2*a_3^4*a_4^2 - 4*a_1^2*a_2^3*a_4^3 + 16*a_0*a_2^4*a_4^3 + 18*a_1^3*a_2*a_3*a_4^3 - 80*a_0*a_1*a_2^2*a_3*a_4^3 - 6*a_0*a_1^2*a_3^2*a_4^3 + 144*a_0^2*a_2*a_3^2*a_4^3 - 27*a_1^4*a_4^4 + 144*a_0*a_1^2*a_2*a_4^4 - 128*a_0^2*a_2^2*a_4^4 - 192*a_0^2*a_1*a_3*a_4^4 + 256*a_0^3*a_4^5 - 4*a_1^2*a_2^2*a_3^3 + 16*a_0*a_2^3*a_3^3 + 16*a_1^3*a_3^4 - 72*a_0*a_1*a_2*a_3^4 + 108*a_0^2*a_3^5 + 18*a_1^2*a_2^3*a_3*a_4 - 72*a_0*a_2^4*a_3*a_4 - 80*a_1^3*a_2*a_3^2*a_4 + 356*a_0*a_1*a_2^2*a_3^2*a_4 + 24*a_0*a_1^2*a_3^3*a_4 - 630*a_0^2*a_2*a_3^3*a_4 - 6*a_1^3*a_2^2*a_4^2 + 24*a_0*a_1*a_2^3*a_4^2 + 144*a_1^4*a_3*a_4^2 - 746*a_0*a_1^2*a_2*a_3*a_4^2 + 560*a_0^2*a_2^2*a_3*a_4^2 + 1020*a_0^2*a_1*a_3^2*a_4^2 - 36*a_0*a_1^3*a_4^3 + 160*a_0^2*a_1*a_2*a_4^3 - 1600*a_0^3*a_3*a_4^3 - 27*a_1^2*a_2^4 + 108*a_0*a_2^5 + 144*a_1^3*a_2^2*a_3 - 630*a_0*a_1*a_2^3*a_3 - 128*a_1^4*a_3^2 + 560*a_0*a_1^2*a_2*a_3^2 + 825*a_0^2*a_2^2*a_3^2 - 900*a_0^2*a_1*a_3^3 - 192*a_1^4*a_2*a_4 + 1020*a_0*a_1^2*a_2^2*a_4 - 900*a_0^2*a_2^3*a_4 + 160*a_0*a_1^3*a_3*a_4 - 2050*a_0^2*a_1*a_2*a_3*a_4 + 2250*a_0^3*a_3^2*a_4 - 50*a_0^2*a_1^2*a_4^2 + 2000*a_0^3*a_2*a_4^2 + 256*a_1^5 - 1600*a_0*a_1^3*a_2 + 2250*a_0^2*a_1*a_2^2 + 2000*a_0^2*a_1^2*a_3 - 3750*a_0^3*a_2*a_3 - 2500*a_0^3*a_1*a_4 + 3125*a_0^4)"
   ]
  },
  {
   "cell_type": "code",
   "execution_count": 54,
   "id": "650dffda",
   "metadata": {},
   "outputs": [],
   "source": [
    "addi3=addi2.subs({a_4:0,a_3:0,a_1:0,a_2:5,a_0:3})"
   ]
  },
  {
   "cell_type": "code",
   "execution_count": 55,
   "id": "619d05f3",
   "metadata": {},
   "outputs": [],
   "source": [
    "addi4=(-addi3/100000000).factor()"
   ]
  },
  {
   "cell_type": "code",
   "execution_count": 58,
   "id": "91be438d",
   "metadata": {},
   "outputs": [],
   "source": [
    "addi4=addi4*256"
   ]
  },
  {
   "cell_type": "code",
   "execution_count": 59,
   "id": "cd278e26",
   "metadata": {},
   "outputs": [
    {
     "data": {
      "text/plain": [
       "19683"
      ]
     },
     "execution_count": 59,
     "metadata": {},
     "output_type": "execute_result"
    }
   ],
   "source": [
    "factor(addi4/5^5)"
   ]
  },
  {
   "cell_type": "code",
   "execution_count": 14,
   "id": "abf9b998",
   "metadata": {},
   "outputs": [],
   "source": [
    "expres=(108*a_0*a_2^5 + 3125*a_0^4)==a_0^2*a_2^2"
   ]
  },
  {
   "cell_type": "code",
   "execution_count": 25,
   "id": "fa75d5f4",
   "metadata": {},
   "outputs": [
    {
     "data": {
      "text/plain": [
       "a_0 == 1/18750*(r28^2*(-I*sqrt(3) - 1) - 9375*(-54/3125*r28^5 + 1/234375*sqrt(16402500*r28^4 - 1/15)*r28^3)^(2/3)*(-I*sqrt(3) + 1))/(-54/3125*r28^5 + 1/234375*sqrt(16402500*r28^4 - 1/15)*r28^3)^(1/3)"
      ]
     },
     "execution_count": 25,
     "metadata": {},
     "output_type": "execute_result"
    }
   ],
   "source": []
  },
  {
   "cell_type": "code",
   "execution_count": 19,
   "id": "16276770",
   "metadata": {},
   "outputs": [],
   "source": [
    "m=solve(expres,a_0,a_2)[2][0].rhs()"
   ]
  },
  {
   "cell_type": "code",
   "execution_count": 24,
   "id": "a597dae9",
   "metadata": {},
   "outputs": [
    {
     "data": {
      "text/plain": [
       "-1/18750*I*sqrt(3)*r24^2/(-54/3125*r24^5 + 1/234375*sqrt(16402500*r24^4 - 1/15)*r24^3)^(1/3) - 1/18750*r24^2/(-54/3125*r24^5 + 1/234375*sqrt(16402500*r24^4 - 1/15)*r24^3)^(1/3) + 1/2*I*sqrt(3)*(-54/3125*r24^5 + 1/234375*sqrt(16402500*r24^4 - 1/15)*r24^3)^(1/3) - 1/2*(-54/3125*r24^5 + 1/234375*sqrt(16402500*r24^4 - 1/15)*r24^3)^(1/3)"
      ]
     },
     "execution_count": 24,
     "metadata": {},
     "output_type": "execute_result"
    }
   ],
   "source": [
    "m.full_simplify().expand()"
   ]
  },
  {
   "cell_type": "code",
   "execution_count": 31,
   "id": "983b6104",
   "metadata": {},
   "outputs": [
    {
     "data": {
      "text/plain": [
       "True"
      ]
     },
     "execution_count": 31,
     "metadata": {},
     "output_type": "execute_result"
    }
   ],
   "source": [
    "m.has(r24)"
   ]
  },
  {
   "cell_type": "code",
   "execution_count": 33,
   "id": "aa0475ec",
   "metadata": {},
   "outputs": [
    {
     "data": {
      "text/plain": [
       "1/33750*9^(2/3)*5^(1/3)*((I*sqrt(15)*9^(2/3)*5^(1/3)*sqrt(3) - sqrt(15)*9^(2/3)*5^(1/3))*(7*sqrt(406715051)*sqrt(15) - 546750)^(2/3) - 45*I*15^(1/6)*sqrt(3) - 45*15^(1/6))/(7*sqrt(406715051) - 36450*sqrt(15))^(1/3)"
      ]
     },
     "execution_count": 33,
     "metadata": {},
     "output_type": "execute_result"
    }
   ],
   "source": [
    "m.subs({r24:3}).full_simplify()"
   ]
  },
  {
   "cell_type": "code",
   "execution_count": null,
   "id": "bf39afff",
   "metadata": {},
   "outputs": [],
   "source": []
  }
 ],
 "metadata": {
  "kernelspec": {
   "display_name": "SageMath 9.7 [conda env:sagemath]",
   "language": "sage",
   "name": "conda-env-sagemath-sagemath"
  },
  "language_info": {
   "codemirror_mode": {
    "name": "ipython",
    "version": 3
   },
   "file_extension": ".py",
   "mimetype": "text/x-python",
   "name": "python",
   "nbconvert_exporter": "python",
   "pygments_lexer": "ipython3",
   "version": "3.10.4"
  }
 },
 "nbformat": 4,
 "nbformat_minor": 5
}
