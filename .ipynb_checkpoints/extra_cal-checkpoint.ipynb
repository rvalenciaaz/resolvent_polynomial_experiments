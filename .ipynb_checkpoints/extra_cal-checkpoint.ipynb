{
 "cells": [
  {
   "cell_type": "code",
   "execution_count": 43,
   "id": "8a2572e0",
   "metadata": {},
   "outputs": [
    {
     "data": {
      "text/plain": [
       "(x_1, x_2, x_3, x_4, b, c, d, e, a)"
      ]
     },
     "execution_count": 43,
     "metadata": {},
     "output_type": "execute_result"
    }
   ],
   "source": [
    "var(\"x_1,x_2,x_3,x_4,b,c,d,e,a\")"
   ]
  },
  {
   "cell_type": "code",
   "execution_count": 46,
   "id": "199f25db",
   "metadata": {},
   "outputs": [],
   "source": [
    "sem=-((x_1-x_2)*(x_1-x_3)+(x_2-x_3)^2).expand().full_simplify()"
   ]
  },
  {
   "cell_type": "code",
   "execution_count": 47,
   "id": "06f7e114",
   "metadata": {},
   "outputs": [
    {
     "data": {
      "text/plain": [
       "-x_1^2 + x_1*x_2 - x_2^2 + (x_1 + x_2)*x_3 - x_3^2"
      ]
     },
     "execution_count": 47,
     "metadata": {},
     "output_type": "execute_result"
    }
   ],
   "source": [
    "sem"
   ]
  },
  {
   "cell_type": "code",
   "execution_count": 76,
   "id": "cc2ae80e",
   "metadata": {},
   "outputs": [],
   "source": [
    "def mycollect(e1, e2):\n",
    "    \"\"\"\n",
    "    Collects e2 coefficients in e1, even when e2 is not a factor of\n",
    "    some of the terms of e1\n",
    "    \"\"\"\n",
    "    g = maxima_calculus.gensym()._sage_()\n",
    "    while g in e1.variables(): g = maxima_calculus.gensym()._sage_()\n",
    "    return sum([v[0]*g^v[1]\n",
    "                for v in e1.subs(e2==g).coefficients(g)]).subs(g==e2)"
   ]
  },
  {
   "cell_type": "code",
   "execution_count": 48,
   "id": "0bc2fe79",
   "metadata": {},
   "outputs": [],
   "source": [
    "comp=-x_1^2 + x_1*x_2 - x_2^2 + (x_1 + x_2)*x_3 - x_3^2"
   ]
  },
  {
   "cell_type": "code",
   "execution_count": null,
   "id": "100d12e1",
   "metadata": {},
   "outputs": [],
   "source": []
  },
  {
   "cell_type": "code",
   "execution_count": 71,
   "id": "a56cd283",
   "metadata": {},
   "outputs": [],
   "source": [
    "tsem=sem.subs({x_1:x_2,x_2:x_3,x_3:x_1})"
   ]
  },
  {
   "cell_type": "code",
   "execution_count": 73,
   "id": "6a2f3e77",
   "metadata": {},
   "outputs": [
    {
     "data": {
      "text/plain": [
       "(x_1^2 - x_1*x_2 + x_2^2 - (x_1 + x_2)*x_3 + x_3^2)/(x_1^2 - x_1*(x_2 + x_3) + x_2^2 - x_2*x_3 + x_3^2)"
      ]
     },
     "execution_count": 73,
     "metadata": {},
     "output_type": "execute_result"
    }
   ],
   "source": [
    "sem/tsem"
   ]
  },
  {
   "cell_type": "code",
   "execution_count": null,
   "id": "52b13383",
   "metadata": {},
   "outputs": [],
   "source": []
  },
  {
   "cell_type": "code",
   "execution_count": 85,
   "id": "b3ac7acc",
   "metadata": {},
   "outputs": [],
   "source": [
    "new=((x_1-x_2)*(x_1-x_3)*(x_1-x_4)+(x_2-x_3)^2*(x_2-x_4)^2*(x_3-x_4)^2).expand()"
   ]
  },
  {
   "cell_type": "code",
   "execution_count": 86,
   "id": "d970b411",
   "metadata": {},
   "outputs": [
    {
     "data": {
      "text/plain": [
       "x_2^4*x_3^2 - 2*x_2^3*x_3^3 + x_2^2*x_3^4 - 2*x_2^4*x_3*x_4 + 2*x_2^3*x_3^2*x_4 + 2*x_2^2*x_3^3*x_4 - 2*x_2*x_3^4*x_4 + x_2^4*x_4^2 + 2*x_2^3*x_3*x_4^2 - 6*x_2^2*x_3^2*x_4^2 + 2*x_2*x_3^3*x_4^2 + x_3^4*x_4^2 - 2*x_2^3*x_4^3 + 2*x_2^2*x_3*x_4^3 + 2*x_2*x_3^2*x_4^3 - 2*x_3^3*x_4^3 + x_2^2*x_4^4 - 2*x_2*x_3*x_4^4 + x_3^2*x_4^4 + x_1^3 - x_1^2*x_2 - x_1^2*x_3 + x_1*x_2*x_3 - x_1^2*x_4 + x_1*x_2*x_4 + x_1*x_3*x_4 - x_2*x_3*x_4"
      ]
     },
     "execution_count": 86,
     "metadata": {},
     "output_type": "execute_result"
    }
   ],
   "source": [
    "new"
   ]
  },
  {
   "cell_type": "code",
   "execution_count": 82,
   "id": "990d9577",
   "metadata": {},
   "outputs": [],
   "source": [
    "ty=((3*b^2 - 8*c)).subs({b:-(x_1+x_2+x_3+x_4),c:(x_3*x_4+x_2*x_4+x_2*x_3+x_1*x_4+x_1*x_3+x_1*x_2),d:-(x_1*x_2*x_3+x_1*x_2*x_4+x_1*x_3*x_4+x_2*x_3*x_4),e:(x_1*x_2*x_3*x_4)})\n"
   ]
  },
  {
   "cell_type": "code",
   "execution_count": 83,
   "id": "fd068daf",
   "metadata": {},
   "outputs": [
    {
     "data": {
      "text/plain": [
       "3*x_1^2 - 2*x_1*x_2 + 3*x_2^2 - 2*x_1*x_3 - 2*x_2*x_3 + 3*x_3^2 - 2*x_1*x_4 - 2*x_2*x_4 - 2*x_3*x_4 + 3*x_4^2"
      ]
     },
     "execution_count": 83,
     "metadata": {},
     "output_type": "execute_result"
    }
   ],
   "source": [
    "ty.expand()"
   ]
  },
  {
   "cell_type": "code",
   "execution_count": 4,
   "id": "dfedc6d9",
   "metadata": {},
   "outputs": [],
   "source": [
    "ftio=(x-x_2)^3*(x-x_3)^3"
   ]
  },
  {
   "cell_type": "code",
   "execution_count": 7,
   "id": "29c3cf6e",
   "metadata": {},
   "outputs": [],
   "source": [
    "dftio=derivative(ftio,x).expand()"
   ]
  },
  {
   "cell_type": "code",
   "execution_count": 10,
   "id": "070480ef",
   "metadata": {},
   "outputs": [
    {
     "data": {
      "text/plain": [
       "(x - x_2)^3*(x - x_3)^3"
      ]
     },
     "execution_count": 10,
     "metadata": {},
     "output_type": "execute_result"
    }
   ],
   "source": [
    "ftio"
   ]
  },
  {
   "cell_type": "code",
   "execution_count": 12,
   "id": "219fc84c",
   "metadata": {},
   "outputs": [],
   "source": [
    "i1=[0,2,2,2]"
   ]
  },
  {
   "cell_type": "code",
   "execution_count": 13,
   "id": "3e155d10",
   "metadata": {},
   "outputs": [],
   "source": [
    "value1=sum(i1)"
   ]
  },
  {
   "cell_type": "code",
   "execution_count": 14,
   "id": "e0d0894b",
   "metadata": {},
   "outputs": [],
   "source": [
    "add1=[3,2,1,0]"
   ]
  },
  {
   "cell_type": "code",
   "execution_count": 16,
   "id": "31794d55",
   "metadata": {},
   "outputs": [],
   "source": [
    "i2=[x + y for x, y in zip(i1, add1)]"
   ]
  },
  {
   "cell_type": "code",
   "execution_count": 22,
   "id": "b5bd276e",
   "metadata": {},
   "outputs": [],
   "source": [
    "value2=sum(i2)"
   ]
  },
  {
   "cell_type": "code",
   "execution_count": 23,
   "id": "2aded31f",
   "metadata": {},
   "outputs": [],
   "source": [
    "i2=[0]+i2"
   ]
  },
  {
   "cell_type": "code",
   "execution_count": 21,
   "id": "62893644",
   "metadata": {},
   "outputs": [],
   "source": [
    "add2=[4,3,2,1,0]"
   ]
  },
  {
   "cell_type": "code",
   "execution_count": 25,
   "id": "f71d6fa3",
   "metadata": {},
   "outputs": [],
   "source": [
    "i3=[x + y for x, y in zip(i2, add2)]"
   ]
  },
  {
   "cell_type": "code",
   "execution_count": 26,
   "id": "7d0238ad",
   "metadata": {},
   "outputs": [],
   "source": [
    "value3=sum(i3)"
   ]
  },
  {
   "cell_type": "code",
   "execution_count": 33,
   "id": "74de2d84",
   "metadata": {},
   "outputs": [
    {
     "data": {
      "text/plain": [
       "-368"
      ]
     },
     "execution_count": 33,
     "metadata": {},
     "output_type": "execute_result"
    }
   ],
   "source": [
    "(b^2*c^2 - 4*b^3*d - 4*a*c^3 + 18*a*b*c*d - 27*a^2*d^2).subs({a:3,b:4,c:3,d:2}).full_simplify()"
   ]
  },
  {
   "cell_type": "code",
   "execution_count": 35,
   "id": "2722117b",
   "metadata": {},
   "outputs": [
    {
     "data": {
      "text/plain": [
       "2^4 * 23"
      ]
     },
     "execution_count": 35,
     "metadata": {},
     "output_type": "execute_result"
    }
   ],
   "source": [
    "368.factor()"
   ]
  },
  {
   "cell_type": "code",
   "execution_count": 37,
   "id": "2d3a7310",
   "metadata": {},
   "outputs": [
    {
     "data": {
      "text/plain": [
       "-12"
      ]
     },
     "execution_count": 37,
     "metadata": {},
     "output_type": "execute_result"
    }
   ],
   "source": [
    "(b^2-4*a*c).subs({a:2,b:2,c:2})"
   ]
  },
  {
   "cell_type": "code",
   "execution_count": 38,
   "id": "bd13d362",
   "metadata": {},
   "outputs": [
    {
     "data": {
      "text/plain": [
       "2^2 * 3"
      ]
     },
     "execution_count": 38,
     "metadata": {},
     "output_type": "execute_result"
    }
   ],
   "source": [
    "12.factor()"
   ]
  },
  {
   "cell_type": "code",
   "execution_count": 44,
   "id": "942f21c8",
   "metadata": {},
   "outputs": [],
   "source": [
    "dis4=256*a^(3)*e^(3)-192*a^(2)*b*d*e^(2)-128*a^(2)*c^(2)*e^(2)+144*a^(2)*c*d^(2)*e-27*a^(2)*d^(4)+144*a*b^(2)*c*e^(2)-6*a*b^(2)*d^(2)*e-80*a*b*c^(2)*d*e+18*a*b*c*d^(3)+16*a*c^(4)*e-4*a*c^(3)*d^(2)-27*b^(4)*e^(2)+18*b^(3)*c*d*e-4*b^(3)*d^(3)-4*b^(2)*c^(3)*e+b^(2)*c^(2)*d^(2)"
   ]
  },
  {
   "cell_type": "code",
   "execution_count": 45,
   "id": "0a4a9aad",
   "metadata": {},
   "outputs": [
    {
     "data": {
      "text/plain": [
       "b^2*c^2*d^2 - 4*a*c^3*d^2 - 4*b^3*d^3 + 18*a*b*c*d^3 - 27*a^2*d^4 - 4*b^2*c^3*e + 16*a*c^4*e + 18*b^3*c*d*e - 80*a*b*c^2*d*e - 6*a*b^2*d^2*e + 144*a^2*c*d^2*e - 27*b^4*e^2 + 144*a*b^2*c*e^2 - 128*a^2*c^2*e^2 - 192*a^2*b*d*e^2 + 256*a^3*e^3"
      ]
     },
     "execution_count": 45,
     "metadata": {},
     "output_type": "execute_result"
    }
   ],
   "source": [
    "dis4"
   ]
  },
  {
   "cell_type": "code",
   "execution_count": 74,
   "id": "88614dd8",
   "metadata": {},
   "outputs": [
    {
     "data": {
      "text/plain": [
       "Symbolic Ring"
      ]
     },
     "execution_count": 74,
     "metadata": {},
     "output_type": "execute_result"
    }
   ],
   "source": [
    "dis4.parent()"
   ]
  },
  {
   "cell_type": "code",
   "execution_count": 46,
   "id": "235fd560",
   "metadata": {},
   "outputs": [
    {
     "data": {
      "text/plain": [
       "16448"
      ]
     },
     "execution_count": 46,
     "metadata": {},
     "output_type": "execute_result"
    }
   ],
   "source": [
    "dis4.subs({a:4,b:6,c:6,d:4,e:2})"
   ]
  },
  {
   "cell_type": "code",
   "execution_count": 47,
   "id": "4d1b3023",
   "metadata": {
    "scrolled": true
   },
   "outputs": [
    {
     "data": {
      "text/plain": [
       "2^6 * 257"
      ]
     },
     "execution_count": 47,
     "metadata": {},
     "output_type": "execute_result"
    }
   ],
   "source": [
    "16448.factor()"
   ]
  },
  {
   "cell_type": "code",
   "execution_count": null,
   "id": "a80e1da3",
   "metadata": {},
   "outputs": [],
   "source": [
    "3125  *a_{5}^{4}a_{0}^{4}-2500*a_{5}^{3}a_{4}a_{1}a_{0}^{3}-3750*a_{5}^{3}a_{3}a_{2}a_{0}^{3}+2000*a_{5}^{3}a_{3}a_{1}^{2}a_{0}^{2}+2250*a_{b}^{3}a_{2}^{2}a_{1}a_{0}^{2} \n",
    " -1600*a_{b}^{3}a_{2}a_{1}^{3}a_{0}+256*a_{5}^{3}a_{1}^{b}+2000*a_{6}^{2}a_{4}^{2}a_{2}a_{0}^{3}-50*a_{6}^{2}a_{4}^{2}a_{1}^{2}a_{0}^{2}+2250*a_{b}^{2}a_{4}a_{3}^{2}a_{0}^{3} \n",
    " -2050*a_{b}^{2}a_{4}a_{3}a_{2}a_{1}a_{0}^{2}+160*a_{5}^{2}a_{4}a_{3}a_{1}^{3}a_{0}-900*a_{b}^{2}a_{4}a_{2}^{3}a_{0}^{2}+1020*a_{b}^{2}a_{4}a_{2}^{2}a_{1}^{2}a_{0} \n",
    " -192*a_{5}^{2}a_{4}a_{2}a_{1}^{4}-900*a_{6}^{2}a_{3}^{3}a_{1}a_{0}^{2}+825*a_{6}^{2}a_{3}^{2}a_{2}^{2}a_{0}^{2}+560*a_{b}^{2}a_{3}^{2}a_{2}a_{1}^{2}a_{0}-128*a_{b}^{2}a_{3}^{2}a_{1}^{4} \n",
    " -630*a_{b}^{2}a_{3}a_{2}^{3}a_{1}a_{0}+144*a_{b}^{2}a_{3}a_{2}^{2}a_{1}^{3}+108*a_{b}^{2}a_{2}^{5}a_{0}-27*a_{b}^{2}a_{2}^{4}a_{1}^{2}-1600*a_{f}a_{4}^{3}a_{3}a_{0}^{3} \n",
    " +160*a_{5}a_{4}^{3}a_{2}a_{1}a_{0}^{2}-36*a_{b}a_{4}^{3}a_{1}^{3}a_{0}+1020*a_{b}a_{4}^{2}a_{3}^{2}a_{1}a_{0}^{2}+560*a_{5}a_{4}^{2}a_{3}a_{2}^{2}a_{0}^{2} \n",
    " -746*a_{6}a_{4}^{2}a_{3}a_{2}a_{1}^{2}a_{0}+144*a_{5}a_{4}^{2}a_{3}a_{1}^{4}+24*a_{b}a_{4}^{2}a_{2}^{3}a_{1}a_{0}-6*a_{b}a_{4}^{2}a_{2}^{2}a_{1}^{3} \n",
    " -630*a_{b}a_{4}a_{3}^{3}a_{2}a_{0}^{2}+24*a_{b}a_{4}a_{3}^{3}a_{1}^{2}a_{0}+356*a_{5}a_{4}a_{3}^{2}a_{2}^{2}a_{1}a_{0}-80*a_{b}a_{4}a_{3}^{2}a_{2}a_{1}^{3} \n",
    " -72\\cdot\\sigma_{b}a_{4}a_{3}a_{2}^{4}a_{0}+18*a_{b}a_{4}a_{3}a_{2}^{3}a_{1}^{2}+108*a_{5}a_{3}^{b}a_{0}^{2}-72*a_{b}a_{3}^{4}a_{2}a_{1}a_{0}+16*a_{b}a_{3}^{4}a_{1}^{3} \n",
    " +16*a_{b}a_{3}^{3}a_{2}^{3}a_{0}-4*a_{b}a_{3}^{3}a_{2}^{2}a_{1}^{2}+256*a_{4}^{6}a_{0}^{3}-192*a_{4}^{4}a_{3}a_{1}a_{0}^{2}-128*a_{4}^{4}a_{2}^{2}a_{0}^{2} \n",
    " +144*a_{4}^{4}a_{2}a_{1}^{2}a_{0}-27*a_{4}^{4}a_{1}^{4}+144*a_{4}^{3}a_{3}^{2}a_{2}a_{0}^{2}-6*a_{4}^{3}a_{3}^{2}a_{1}^{2}a_{0}-80*a_{4}^{3}a_{3}a_{2}^{2}a_{1}a_{0} \n",
    " +18*a_{4}^{3}a_{3}a_{2}a_{1}^{3}+16*a_{4}^{3}a_{2}^{4}a_{0}-4*a_{4}^{3}a_{2}^{3}a_{1}^{2}-27*a_{4}^{2}a_{3}^{4}a_{0}^{2}+18*a_{4}^{2}a_{3}^{3}a_{2}a_{1}a_{0}-4*a_{4}^{2}a_{3}^{3}a_{1}^{3} \n",
    " -4*a_{4}^{2}a_{3}^{2}a_{2}^{3}a_{0}+a_{4}^{2}a_{3}^{2}a_{2}^{2}a_{1}^{2}  "
   ]
  },
  {
   "cell_type": "code",
   "execution_count": 4,
   "id": "002713ca",
   "metadata": {},
   "outputs": [],
   "source": [
    "A = InfinitePolynomialRing(QQ, 'a')\n",
    "\n",
    "a = A.gen()\n",
    "\n",
    "for N in range(5, 6):\n",
    "\n",
    "    x = polygen(A, 'x')\n",
    "\n",
    "    P = sum(a[i] * x^i for i in range(N + 1))\n",
    "\n",
    "    M = P.sylvester_matrix(diff(P, x), x)\n",
    "    \n",
    "    Q=M.determinant()"
   ]
  },
  {
   "cell_type": "code",
   "execution_count": 6,
   "id": "0628cd0f",
   "metadata": {},
   "outputs": [
    {
     "name": "stdout",
     "output_type": "stream",
     "text": [
      "3125*a_5^5*a_0^4 - 2500*a_5^4*a_4*a_1*a_0^3 - 3750*a_5^4*a_3*a_2*a_0^3 + 2000*a_5^4*a_3*a_1^2*a_0^2 + 2250*a_5^4*a_2^2*a_1*a_0^2 - 1600*a_5^4*a_2*a_1^3*a_0 + 256*a_5^4*a_1^5 + 2000*a_5^3*a_4^2*a_2*a_0^3 - 50*a_5^3*a_4^2*a_1^2*a_0^2 + 2250*a_5^3*a_4*a_3^2*a_0^3 - 2050*a_5^3*a_4*a_3*a_2*a_1*a_0^2 + 160*a_5^3*a_4*a_3*a_1^3*a_0 - 900*a_5^3*a_4*a_2^3*a_0^2 + 1020*a_5^3*a_4*a_2^2*a_1^2*a_0 - 192*a_5^3*a_4*a_2*a_1^4 - 900*a_5^3*a_3^3*a_1*a_0^2 + 825*a_5^3*a_3^2*a_2^2*a_0^2 + 560*a_5^3*a_3^2*a_2*a_1^2*a_0 - 128*a_5^3*a_3^2*a_1^4 - 630*a_5^3*a_3*a_2^3*a_1*a_0 + 144*a_5^3*a_3*a_2^2*a_1^3 + 108*a_5^3*a_2^5*a_0 - 27*a_5^3*a_2^4*a_1^2 - 1600*a_5^2*a_4^3*a_3*a_0^3 + 160*a_5^2*a_4^3*a_2*a_1*a_0^2 - 36*a_5^2*a_4^3*a_1^3*a_0 + 1020*a_5^2*a_4^2*a_3^2*a_1*a_0^2 + 560*a_5^2*a_4^2*a_3*a_2^2*a_0^2 - 746*a_5^2*a_4^2*a_3*a_2*a_1^2*a_0 + 144*a_5^2*a_4^2*a_3*a_1^4 + 24*a_5^2*a_4^2*a_2^3*a_1*a_0 - 6*a_5^2*a_4^2*a_2^2*a_1^3 - 630*a_5^2*a_4*a_3^3*a_2*a_0^2 + 24*a_5^2*a_4*a_3^3*a_1^2*a_0 + 356*a_5^2*a_4*a_3^2*a_2^2*a_1*a_0 - 80*a_5^2*a_4*a_3^2*a_2*a_1^3 - 72*a_5^2*a_4*a_3*a_2^4*a_0 + 18*a_5^2*a_4*a_3*a_2^3*a_1^2 + 108*a_5^2*a_3^5*a_0^2 - 72*a_5^2*a_3^4*a_2*a_1*a_0 + 16*a_5^2*a_3^4*a_1^3 + 16*a_5^2*a_3^3*a_2^3*a_0 - 4*a_5^2*a_3^3*a_2^2*a_1^2 + 256*a_5*a_4^5*a_0^3 - 192*a_5*a_4^4*a_3*a_1*a_0^2 - 128*a_5*a_4^4*a_2^2*a_0^2 + 144*a_5*a_4^4*a_2*a_1^2*a_0 - 27*a_5*a_4^4*a_1^4 + 144*a_5*a_4^3*a_3^2*a_2*a_0^2 - 6*a_5*a_4^3*a_3^2*a_1^2*a_0 - 80*a_5*a_4^3*a_3*a_2^2*a_1*a_0 + 18*a_5*a_4^3*a_3*a_2*a_1^3 + 16*a_5*a_4^3*a_2^4*a_0 - 4*a_5*a_4^3*a_2^3*a_1^2 - 27*a_5*a_4^2*a_3^4*a_0^2 + 18*a_5*a_4^2*a_3^3*a_2*a_1*a_0 - 4*a_5*a_4^2*a_3^3*a_1^3 - 4*a_5*a_4^2*a_3^2*a_2^3*a_0 + a_5*a_4^2*a_3^2*a_2^2*a_1^2\n"
     ]
    }
   ],
   "source": [
    "print(Q)"
   ]
  },
  {
   "cell_type": "code",
   "execution_count": 72,
   "id": "33aec5e2",
   "metadata": {},
   "outputs": [],
   "source": [
    "tmp2=tmp.change_ring(SR)"
   ]
  },
  {
   "cell_type": "code",
   "execution_count": 73,
   "id": "33adcfb5",
   "metadata": {},
   "outputs": [
    {
     "data": {
      "text/plain": [
       "3125*a_5^5*a_0^4 + (-2500)*a_5^4*a_4*a_1*a_0^3 + (-3750)*a_5^4*a_3*a_2*a_0^3 + 2000*a_5^4*a_3*a_1^2*a_0^2 + 2250*a_5^4*a_2^2*a_1*a_0^2 + (-1600)*a_5^4*a_2*a_1^3*a_0 + 256*a_5^4*a_1^5 + 2000*a_5^3*a_4^2*a_2*a_0^3 + (-50)*a_5^3*a_4^2*a_1^2*a_0^2 + 2250*a_5^3*a_4*a_3^2*a_0^3 + (-2050)*a_5^3*a_4*a_3*a_2*a_1*a_0^2 + 160*a_5^3*a_4*a_3*a_1^3*a_0 + (-900)*a_5^3*a_4*a_2^3*a_0^2 + 1020*a_5^3*a_4*a_2^2*a_1^2*a_0 + (-192)*a_5^3*a_4*a_2*a_1^4 + (-900)*a_5^3*a_3^3*a_1*a_0^2 + 825*a_5^3*a_3^2*a_2^2*a_0^2 + 560*a_5^3*a_3^2*a_2*a_1^2*a_0 + (-128)*a_5^3*a_3^2*a_1^4 + (-630)*a_5^3*a_3*a_2^3*a_1*a_0 + 144*a_5^3*a_3*a_2^2*a_1^3 + 108*a_5^3*a_2^5*a_0 + (-27)*a_5^3*a_2^4*a_1^2 + (-1600)*a_5^2*a_4^3*a_3*a_0^3 + 160*a_5^2*a_4^3*a_2*a_1*a_0^2 + (-36)*a_5^2*a_4^3*a_1^3*a_0 + 1020*a_5^2*a_4^2*a_3^2*a_1*a_0^2 + 560*a_5^2*a_4^2*a_3*a_2^2*a_0^2 + (-746)*a_5^2*a_4^2*a_3*a_2*a_1^2*a_0 + 144*a_5^2*a_4^2*a_3*a_1^4 + 24*a_5^2*a_4^2*a_2^3*a_1*a_0 + (-6)*a_5^2*a_4^2*a_2^2*a_1^3 + (-630)*a_5^2*a_4*a_3^3*a_2*a_0^2 + 24*a_5^2*a_4*a_3^3*a_1^2*a_0 + 356*a_5^2*a_4*a_3^2*a_2^2*a_1*a_0 + (-80)*a_5^2*a_4*a_3^2*a_2*a_1^3 + (-72)*a_5^2*a_4*a_3*a_2^4*a_0 + 18*a_5^2*a_4*a_3*a_2^3*a_1^2 + 108*a_5^2*a_3^5*a_0^2 + (-72)*a_5^2*a_3^4*a_2*a_1*a_0 + 16*a_5^2*a_3^4*a_1^3 + 16*a_5^2*a_3^3*a_2^3*a_0 + (-4)*a_5^2*a_3^3*a_2^2*a_1^2 + 256*a_5*a_4^5*a_0^3 + (-192)*a_5*a_4^4*a_3*a_1*a_0^2 + (-128)*a_5*a_4^4*a_2^2*a_0^2 + 144*a_5*a_4^4*a_2*a_1^2*a_0 + (-27)*a_5*a_4^4*a_1^4 + 144*a_5*a_4^3*a_3^2*a_2*a_0^2 + (-6)*a_5*a_4^3*a_3^2*a_1^2*a_0 + (-80)*a_5*a_4^3*a_3*a_2^2*a_1*a_0 + 18*a_5*a_4^3*a_3*a_2*a_1^3 + 16*a_5*a_4^3*a_2^4*a_0 + (-4)*a_5*a_4^3*a_2^3*a_1^2 + (-27)*a_5*a_4^2*a_3^4*a_0^2 + 18*a_5*a_4^2*a_3^3*a_2*a_1*a_0 + (-4)*a_5*a_4^2*a_3^3*a_1^3 + (-4)*a_5*a_4^2*a_3^2*a_2^3*a_0 + a_5*a_4^2*a_3^2*a_2^2*a_1^2"
      ]
     },
     "execution_count": 73,
     "metadata": {},
     "output_type": "execute_result"
    }
   ],
   "source": [
    "tmp2"
   ]
  },
  {
   "cell_type": "code",
   "execution_count": 71,
   "id": "49789949",
   "metadata": {},
   "outputs": [
    {
     "data": {
      "text/plain": [
       "3125*a_5^5*a_0^4 + (-2500)*a_5^4*a_4*a_1*a_0^3 + (-3750)*a_5^4*a_3*a_2*a_0^3 + 2000*a_5^4*a_3*a_1^2*a_0^2 + 2250*a_5^4*a_2^2*a_1*a_0^2 + (-1600)*a_5^4*a_2*a_1^3*a_0 + 256*a_5^4*a_1^5 + 2000*a_5^3*a_4^2*a_2*a_0^3 + (-50)*a_5^3*a_4^2*a_1^2*a_0^2 + 2250*a_5^3*a_4*a_3^2*a_0^3 + (-2050)*a_5^3*a_4*a_3*a_2*a_1*a_0^2 + 160*a_5^3*a_4*a_3*a_1^3*a_0 + (-900)*a_5^3*a_4*a_2^3*a_0^2 + 1020*a_5^3*a_4*a_2^2*a_1^2*a_0 + (-192)*a_5^3*a_4*a_2*a_1^4 + (-900)*a_5^3*a_3^3*a_1*a_0^2 + 825*a_5^3*a_3^2*a_2^2*a_0^2 + 560*a_5^3*a_3^2*a_2*a_1^2*a_0 + (-128)*a_5^3*a_3^2*a_1^4 + (-630)*a_5^3*a_3*a_2^3*a_1*a_0 + 144*a_5^3*a_3*a_2^2*a_1^3 + 108*a_5^3*a_2^5*a_0 + (-27)*a_5^3*a_2^4*a_1^2 + (-1600)*a_5^2*a_4^3*a_3*a_0^3 + 160*a_5^2*a_4^3*a_2*a_1*a_0^2 + (-36)*a_5^2*a_4^3*a_1^3*a_0 + 1020*a_5^2*a_4^2*a_3^2*a_1*a_0^2 + 560*a_5^2*a_4^2*a_3*a_2^2*a_0^2 + (-746)*a_5^2*a_4^2*a_3*a_2*a_1^2*a_0 + 144*a_5^2*a_4^2*a_3*a_1^4 + 24*a_5^2*a_4^2*a_2^3*a_1*a_0 + (-6)*a_5^2*a_4^2*a_2^2*a_1^3 + (-630)*a_5^2*a_4*a_3^3*a_2*a_0^2 + 24*a_5^2*a_4*a_3^3*a_1^2*a_0 + 356*a_5^2*a_4*a_3^2*a_2^2*a_1*a_0 + (-80)*a_5^2*a_4*a_3^2*a_2*a_1^3 + (-72)*a_5^2*a_4*a_3*a_2^4*a_0 + 18*a_5^2*a_4*a_3*a_2^3*a_1^2 + 108*a_5^2*a_3^5*a_0^2 + (-72)*a_5^2*a_3^4*a_2*a_1*a_0 + 16*a_5^2*a_3^4*a_1^3 + 16*a_5^2*a_3^3*a_2^3*a_0 + (-4)*a_5^2*a_3^3*a_2^2*a_1^2 + 256*a_5*a_4^5*a_0^3 + (-192)*a_5*a_4^4*a_3*a_1*a_0^2 + (-128)*a_5*a_4^4*a_2^2*a_0^2 + 144*a_5*a_4^4*a_2*a_1^2*a_0 + (-27)*a_5*a_4^4*a_1^4 + 144*a_5*a_4^3*a_3^2*a_2*a_0^2 + (-6)*a_5*a_4^3*a_3^2*a_1^2*a_0 + (-80)*a_5*a_4^3*a_3*a_2^2*a_1*a_0 + 18*a_5*a_4^3*a_3*a_2*a_1^3 + 16*a_5*a_4^3*a_2^4*a_0 + (-4)*a_5*a_4^3*a_2^3*a_1^2 + (-27)*a_5*a_4^2*a_3^4*a_0^2 + 18*a_5*a_4^2*a_3^3*a_2*a_1*a_0 + (-4)*a_5*a_4^2*a_3^3*a_1^3 + (-4)*a_5*a_4^2*a_3^2*a_2^3*a_0 + a_5*a_4^2*a_3^2*a_2^2*a_1^2"
      ]
     },
     "execution_count": 71,
     "metadata": {},
     "output_type": "execute_result"
    }
   ],
   "source": [
    "tmp2.subs({a_0:1})"
   ]
  },
  {
   "cell_type": "code",
   "execution_count": null,
   "id": "8127c4d3",
   "metadata": {},
   "outputs": [],
   "source": []
  },
  {
   "cell_type": "code",
   "execution_count": 76,
   "id": "937c83ef",
   "metadata": {},
   "outputs": [],
   "source": [
    "pi1=[5, 8, 9, 8, 5, 2]"
   ]
  },
  {
   "cell_type": "code",
   "execution_count": 78,
   "id": "6d014bd7",
   "metadata": {},
   "outputs": [],
   "source": [
    "pi2=[x^4,x^3,x^2,x,1]"
   ]
  },
  {
   "cell_type": "code",
   "execution_count": 81,
   "id": "91cadca3",
   "metadata": {},
   "outputs": [],
   "source": [
    "pi3=[x*y for x, y in zip(pi1, pi2)]"
   ]
  },
  {
   "cell_type": "code",
   "execution_count": 85,
   "id": "543200b8",
   "metadata": {},
   "outputs": [],
   "source": [
    "pi4=sum(pi3)"
   ]
  },
  {
   "cell_type": "code",
   "execution_count": 86,
   "id": "20d93d52",
   "metadata": {},
   "outputs": [],
   "source": [
    "R.<x> = QQ[]\n",
    "\n",
    "f = pi4\n"
   ]
  },
  {
   "cell_type": "code",
   "execution_count": 87,
   "id": "b12dbc43",
   "metadata": {},
   "outputs": [
    {
     "data": {
      "text/plain": [
       "5*x^4 + 8*x^3 + 9*x^2 + 8*x + 5"
      ]
     },
     "execution_count": 87,
     "metadata": {},
     "output_type": "execute_result"
    }
   ],
   "source": [
    "f"
   ]
  },
  {
   "cell_type": "code",
   "execution_count": 88,
   "id": "ba5bbfbb",
   "metadata": {},
   "outputs": [],
   "source": [
    "\n",
    "d = f.discriminant()"
   ]
  },
  {
   "cell_type": "code",
   "execution_count": 90,
   "id": "d5ad23cd",
   "metadata": {},
   "outputs": [
    {
     "data": {
      "text/plain": [
       "2^4 * 3^3 * 5 * 7^3"
      ]
     },
     "execution_count": 90,
     "metadata": {},
     "output_type": "execute_result"
    }
   ],
   "source": [
    "d.factor()"
   ]
  },
  {
   "cell_type": "code",
   "execution_count": 3,
   "id": "e6ef5d9e",
   "metadata": {},
   "outputs": [
    {
     "name": "stdout",
     "output_type": "stream",
     "text": [
      "[3, 4, 3, 2]\n",
      "3*x^3 + 4*x^2 + 3*x + 2\n",
      "[4, 6, 6, 4, 2]\n",
      "4*x^4 + 6*x^3 + 6*x^2 + 4*x + 2\n",
      "[5, 8, 9, 8, 5, 2]\n",
      "5*x^5 + 8*x^4 + 9*x^3 + 8*x^2 + 5*x + 2\n",
      "[6, 10, 12, 12, 10, 6, 2]\n",
      "6*x^6 + 10*x^5 + 12*x^4 + 12*x^3 + 10*x^2 + 6*x + 2\n",
      "[7, 12, 15, 16, 15, 12, 7, 2]\n",
      "7*x^7 + 12*x^6 + 15*x^5 + 16*x^4 + 15*x^3 + 12*x^2 + 7*x + 2\n",
      "[8, 14, 18, 20, 20, 18, 14, 8, 2]\n",
      "8*x^8 + 14*x^7 + 18*x^6 + 20*x^5 + 20*x^4 + 18*x^3 + 14*x^2 + 8*x + 2\n",
      "[9, 16, 21, 24, 25, 24, 21, 16, 9, 2]\n",
      "9*x^9 + 16*x^8 + 21*x^7 + 24*x^6 + 25*x^5 + 24*x^4 + 21*x^3 + 16*x^2 + 9*x + 2\n",
      "[10, 18, 24, 28, 30, 30, 28, 24, 18, 10, 2]\n",
      "10*x^10 + 18*x^9 + 24*x^8 + 28*x^7 + 30*x^6 + 30*x^5 + 28*x^4 + 24*x^3 + 18*x^2 + 10*x + 2\n",
      "[11, 20, 27, 32, 35, 36, 35, 32, 27, 20, 11, 2]\n",
      "11*x^11 + 20*x^10 + 27*x^9 + 32*x^8 + 35*x^7 + 36*x^6 + 35*x^5 + 32*x^4 + 27*x^3 + 20*x^2 + 11*x + 2\n",
      "[12, 22, 30, 36, 40, 42, 42, 40, 36, 30, 22, 12, 2]\n",
      "12*x^12 + 22*x^11 + 30*x^10 + 36*x^9 + 40*x^8 + 42*x^7 + 42*x^6 + 40*x^5 + 36*x^4 + 30*x^3 + 22*x^2 + 12*x + 2\n",
      "[13, 24, 33, 40, 45, 48, 49, 48, 45, 40, 33, 24, 13, 2]\n",
      "13*x^13 + 24*x^12 + 33*x^11 + 40*x^10 + 45*x^9 + 48*x^8 + 49*x^7 + 48*x^6 + 45*x^5 + 40*x^4 + 33*x^3 + 24*x^2 + 13*x + 2\n",
      "[14, 26, 36, 44, 50, 54, 56, 56, 54, 50, 44, 36, 26, 14, 2]\n",
      "14*x^14 + 26*x^13 + 36*x^12 + 44*x^11 + 50*x^10 + 54*x^9 + 56*x^8 + 56*x^7 + 54*x^6 + 50*x^5 + 44*x^4 + 36*x^3 + 26*x^2 + 14*x + 2\n",
      "[15, 28, 39, 48, 55, 60, 63, 64, 63, 60, 55, 48, 39, 28, 15, 2]\n",
      "15*x^15 + 28*x^14 + 39*x^13 + 48*x^12 + 55*x^11 + 60*x^10 + 63*x^9 + 64*x^8 + 63*x^7 + 60*x^6 + 55*x^5 + 48*x^4 + 39*x^3 + 28*x^2 + 15*x + 2\n",
      "[16, 30, 42, 52, 60, 66, 70, 72, 72, 70, 66, 60, 52, 42, 30, 16, 2]\n",
      "16*x^16 + 30*x^15 + 42*x^14 + 52*x^13 + 60*x^12 + 66*x^11 + 70*x^10 + 72*x^9 + 72*x^8 + 70*x^7 + 66*x^6 + 60*x^5 + 52*x^4 + 42*x^3 + 30*x^2 + 16*x + 2\n",
      "[17, 32, 45, 56, 65, 72, 77, 80, 81, 80, 77, 72, 65, 56, 45, 32, 17, 2]\n",
      "17*x^17 + 32*x^16 + 45*x^15 + 56*x^14 + 65*x^13 + 72*x^12 + 77*x^11 + 80*x^10 + 81*x^9 + 80*x^8 + 77*x^7 + 72*x^6 + 65*x^5 + 56*x^4 + 45*x^3 + 32*x^2 + 17*x + 2\n",
      "[18, 34, 48, 60, 70, 78, 84, 88, 90, 90, 88, 84, 78, 70, 60, 48, 34, 18, 2]\n",
      "18*x^18 + 34*x^17 + 48*x^16 + 60*x^15 + 70*x^14 + 78*x^13 + 84*x^12 + 88*x^11 + 90*x^10 + 90*x^9 + 88*x^8 + 84*x^7 + 78*x^6 + 70*x^5 + 60*x^4 + 48*x^3 + 34*x^2 + 18*x + 2\n",
      "[19, 36, 51, 64, 75, 84, 91, 96, 99, 100, 99, 96, 91, 84, 75, 64, 51, 36, 19, 2]\n",
      "19*x^19 + 36*x^18 + 51*x^17 + 64*x^16 + 75*x^15 + 84*x^14 + 91*x^13 + 96*x^12 + 99*x^11 + 100*x^10 + 99*x^9 + 96*x^8 + 91*x^7 + 84*x^6 + 75*x^5 + 64*x^4 + 51*x^3 + 36*x^2 + 19*x + 2\n",
      "[20, 38, 54, 68, 80, 90, 98, 104, 108, 110, 110, 108, 104, 98, 90, 80, 68, 54, 38, 20, 2]\n",
      "20*x^20 + 38*x^19 + 54*x^18 + 68*x^17 + 80*x^16 + 90*x^15 + 98*x^14 + 104*x^13 + 108*x^12 + 110*x^11 + 110*x^10 + 108*x^9 + 104*x^8 + 98*x^7 + 90*x^6 + 80*x^5 + 68*x^4 + 54*x^3 + 38*x^2 + 20*x + 2\n",
      "[21, 40, 57, 72, 85, 96, 105, 112, 117, 120, 121, 120, 117, 112, 105, 96, 85, 72, 57, 40, 21, 2]\n",
      "21*x^21 + 40*x^20 + 57*x^19 + 72*x^18 + 85*x^17 + 96*x^16 + 105*x^15 + 112*x^14 + 117*x^13 + 120*x^12 + 121*x^11 + 120*x^10 + 117*x^9 + 112*x^8 + 105*x^7 + 96*x^6 + 85*x^5 + 72*x^4 + 57*x^3 + 40*x^2 + 21*x + 2\n",
      "[22, 42, 60, 76, 90, 102, 112, 120, 126, 130, 132, 132, 130, 126, 120, 112, 102, 90, 76, 60, 42, 22, 2]\n",
      "22*x^22 + 42*x^21 + 60*x^20 + 76*x^19 + 90*x^18 + 102*x^17 + 112*x^16 + 120*x^15 + 126*x^14 + 130*x^13 + 132*x^12 + 132*x^11 + 130*x^10 + 126*x^9 + 120*x^8 + 112*x^7 + 102*x^6 + 90*x^5 + 76*x^4 + 60*x^3 + 42*x^2 + 22*x + 2\n"
     ]
    }
   ],
   "source": [
    "R.<x> = QQ[]\n",
    "val_list=[]\n",
    "disc_list=[]\n",
    "factor_list=[]\n",
    "ini=[2,2,2]\n",
    "\n",
    "mix=list(reversed([x^i for i in range(0,3)]))\n",
    "\n",
    "g=sum([x*y for x, y in zip(ini,mix)])\n",
    "inid=g.discriminant()\n",
    "disc_list.append(inid.abs())\n",
    "factor_list.append(inid.abs().factor())\n",
    "val_list.append(sum(ini))\n",
    "for j in range(0,20):\n",
    "    ini=[0]+ini\n",
    "    add=list(reversed(list(range(0,j+4))))\n",
    "    ini=[x + y for x, y in zip(ini, add)]\n",
    "    print(ini)\n",
    "    pi2=list(reversed([x^i for i in range(0,j+4)]))\n",
    "    f=sum([x*y for x, y in zip(ini,pi2)])\n",
    "    print(f)\n",
    "    d=f.discriminant()\n",
    "    disc_list.append(d.abs())\n",
    "    factor_list.append(d.abs().factor())\n",
    "    tmp=sum(ini)\n",
    "    val_list.append(tmp)"
   ]
  },
  {
   "cell_type": "code",
   "execution_count": 133,
   "id": "f01b994d",
   "metadata": {},
   "outputs": [
    {
     "name": "stdout",
     "output_type": "stream",
     "text": [
      "2^2 * 3\n",
      "2^4 * 23\n",
      "2^6 * 257\n",
      "2^6 * 5 * 29 * 163\n",
      "2^10 * 226843\n",
      "2^6 * 17 * 59 * 359 * 2543\n",
      "2^14 * 5 * 31 * 191 * 61967\n",
      "2^8 * 7 * 11 * 6028879 * 7671679\n",
      "2^18 * 7^2 * 13^2 * 61333 * 109390621\n",
      "2^12 * 3^4 * 127 * 6527641846658662753\n",
      "2^22 * 2141 * 63331 * 11270847015262969\n",
      "2^12 * 69403031 * 160593243667 * 4090706467373\n",
      "2^26 * 101118410680702880324912742588637\n",
      "2^14 * 976334621891 * 130598744514383 * 146072396603051\n",
      "2^30 * 5^2 * 626630030143371421347057072632640617059\n",
      "2^18 * 6961381109 * 398218367624020943 * 1548497439529638790853\n",
      "2^34 * 2246417 * 3393619 * 4048129 * 378248798132893 * 451195031452999\n",
      "2^20 * 7 * 967 * 8363 * 568570348119259321481 * 256750552739782713093699701443\n",
      "2^38 * 3 * 109^2 * 9161 * 10917917072346060580135268895454514281616133207173\n",
      "2^20 * 83 * 571344675436669 * 456961891749935417562503 * 5713765613478395500643144261\n",
      "2^42 * 751 * 47062609950877859382418596597761 * 128700279594580632470304608360507\n"
     ]
    }
   ],
   "source": [
    "for i in factor_list:\n",
    "    print(i)"
   ]
  },
  {
   "cell_type": "code",
   "execution_count": null,
   "id": "50fad22c",
   "metadata": {},
   "outputs": [],
   "source": [
    "it can be a perfect square"
   ]
  },
  {
   "cell_type": "code",
   "execution_count": 2,
   "id": "ab2c5f02",
   "metadata": {},
   "outputs": [
    {
     "name": "stdout",
     "output_type": "stream",
     "text": [
      "12\n",
      "368\n",
      "16448\n",
      "1512640\n",
      "232287232\n",
      "58603251904\n",
      "30056989245440\n",
      "911712020524481792\n",
      "14564547705040753917952\n",
      "275045792467262110679494656\n",
      "6409873702560175367939472490496\n",
      "186751445918741443673401882433622016\n",
      "6785941670267437020132845054247848378368\n",
      "305158721124869685617557956722690271312330752\n",
      "16820971788482965286666539955016800452435404390400\n",
      "1125296872041700812250993070556972152389951906463350784\n",
      "90483527065291502442647598850176330475448569657203932266496\n",
      "8665270374714698164856383238644284052558626035837846230873931776\n",
      "979933850952901838060585997514561809227756264604301245994144603570176\n",
      "129831057575257456202601762021280927161163018394342665871306676799422857216\n",
      "20005769166278529363452565294011642822755815188920928015529683619308153243435008\n"
     ]
    }
   ],
   "source": [
    "for i in disc_list:\n",
    "    print(i)"
   ]
  },
  {
   "cell_type": "code",
   "execution_count": 6,
   "id": "29d07165",
   "metadata": {},
   "outputs": [],
   "source": [
    "prix=disc_list[0:7]"
   ]
  },
  {
   "cell_type": "code",
   "execution_count": 18,
   "id": "209ca161",
   "metadata": {},
   "outputs": [],
   "source": [
    "prix2=[2^(2*i)for i in range(1,8)]"
   ]
  },
  {
   "cell_type": "code",
   "execution_count": 21,
   "id": "a4657a9d",
   "metadata": {},
   "outputs": [],
   "source": [
    "prix3=[x/y for x,y in zip(prix,prix2)] "
   ]
  },
  {
   "cell_type": "code",
   "execution_count": 22,
   "id": "ca74b408",
   "metadata": {},
   "outputs": [
    {
     "data": {
      "text/plain": [
       "[3, 23, 257, 23635/4, 226843, 915675811/64, 1834533035]"
      ]
     },
     "execution_count": 22,
     "metadata": {},
     "output_type": "execute_result"
    }
   ],
   "source": [
    "prix3"
   ]
  },
  {
   "cell_type": "code",
   "execution_count": null,
   "id": "9bc7e7ac",
   "metadata": {},
   "outputs": [],
   "source": []
  }
 ],
 "metadata": {
  "kernelspec": {
   "display_name": "SageMath 9.7 [conda env:sagemath]",
   "language": "sage",
   "name": "conda-env-sagemath-sagemath"
  },
  "language_info": {
   "codemirror_mode": {
    "name": "ipython",
    "version": 3
   },
   "file_extension": ".py",
   "mimetype": "text/x-python",
   "name": "python",
   "nbconvert_exporter": "python",
   "pygments_lexer": "ipython3",
   "version": "3.10.4"
  }
 },
 "nbformat": 4,
 "nbformat_minor": 5
}
