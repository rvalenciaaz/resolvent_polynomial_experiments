{
 "cells": [
  {
   "cell_type": "code",
   "execution_count": 1,
   "id": "36d90521",
   "metadata": {},
   "outputs": [],
   "source": [
    "var_list=[\"w\"+str(i) for i in range(0,100)]+[\"a\"+str(i) for i in range(0,100)]+[\"x\"+str(i) for i in range(0,100)]+[\"alpha\",\"beta\",\"ratio\"]"
   ]
  },
  {
   "cell_type": "code",
   "execution_count": 2,
   "id": "efdd4859",
   "metadata": {},
   "outputs": [
    {
     "data": {
      "text/plain": [
       "(w0,\n",
       " w1,\n",
       " w2,\n",
       " w3,\n",
       " w4,\n",
       " w5,\n",
       " w6,\n",
       " w7,\n",
       " w8,\n",
       " w9,\n",
       " w10,\n",
       " w11,\n",
       " w12,\n",
       " w13,\n",
       " w14,\n",
       " w15,\n",
       " w16,\n",
       " w17,\n",
       " w18,\n",
       " w19,\n",
       " w20,\n",
       " w21,\n",
       " w22,\n",
       " w23,\n",
       " w24,\n",
       " w25,\n",
       " w26,\n",
       " w27,\n",
       " w28,\n",
       " w29,\n",
       " w30,\n",
       " w31,\n",
       " w32,\n",
       " w33,\n",
       " w34,\n",
       " w35,\n",
       " w36,\n",
       " w37,\n",
       " w38,\n",
       " w39,\n",
       " w40,\n",
       " w41,\n",
       " w42,\n",
       " w43,\n",
       " w44,\n",
       " w45,\n",
       " w46,\n",
       " w47,\n",
       " w48,\n",
       " w49,\n",
       " w50,\n",
       " w51,\n",
       " w52,\n",
       " w53,\n",
       " w54,\n",
       " w55,\n",
       " w56,\n",
       " w57,\n",
       " w58,\n",
       " w59,\n",
       " w60,\n",
       " w61,\n",
       " w62,\n",
       " w63,\n",
       " w64,\n",
       " w65,\n",
       " w66,\n",
       " w67,\n",
       " w68,\n",
       " w69,\n",
       " w70,\n",
       " w71,\n",
       " w72,\n",
       " w73,\n",
       " w74,\n",
       " w75,\n",
       " w76,\n",
       " w77,\n",
       " w78,\n",
       " w79,\n",
       " w80,\n",
       " w81,\n",
       " w82,\n",
       " w83,\n",
       " w84,\n",
       " w85,\n",
       " w86,\n",
       " w87,\n",
       " w88,\n",
       " w89,\n",
       " w90,\n",
       " w91,\n",
       " w92,\n",
       " w93,\n",
       " w94,\n",
       " w95,\n",
       " w96,\n",
       " w97,\n",
       " w98,\n",
       " w99,\n",
       " a0,\n",
       " a1,\n",
       " a2,\n",
       " a3,\n",
       " a4,\n",
       " a5,\n",
       " a6,\n",
       " a7,\n",
       " a8,\n",
       " a9,\n",
       " a10,\n",
       " a11,\n",
       " a12,\n",
       " a13,\n",
       " a14,\n",
       " a15,\n",
       " a16,\n",
       " a17,\n",
       " a18,\n",
       " a19,\n",
       " a20,\n",
       " a21,\n",
       " a22,\n",
       " a23,\n",
       " a24,\n",
       " a25,\n",
       " a26,\n",
       " a27,\n",
       " a28,\n",
       " a29,\n",
       " a30,\n",
       " a31,\n",
       " a32,\n",
       " a33,\n",
       " a34,\n",
       " a35,\n",
       " a36,\n",
       " a37,\n",
       " a38,\n",
       " a39,\n",
       " a40,\n",
       " a41,\n",
       " a42,\n",
       " a43,\n",
       " a44,\n",
       " a45,\n",
       " a46,\n",
       " a47,\n",
       " a48,\n",
       " a49,\n",
       " a50,\n",
       " a51,\n",
       " a52,\n",
       " a53,\n",
       " a54,\n",
       " a55,\n",
       " a56,\n",
       " a57,\n",
       " a58,\n",
       " a59,\n",
       " a60,\n",
       " a61,\n",
       " a62,\n",
       " a63,\n",
       " a64,\n",
       " a65,\n",
       " a66,\n",
       " a67,\n",
       " a68,\n",
       " a69,\n",
       " a70,\n",
       " a71,\n",
       " a72,\n",
       " a73,\n",
       " a74,\n",
       " a75,\n",
       " a76,\n",
       " a77,\n",
       " a78,\n",
       " a79,\n",
       " a80,\n",
       " a81,\n",
       " a82,\n",
       " a83,\n",
       " a84,\n",
       " a85,\n",
       " a86,\n",
       " a87,\n",
       " a88,\n",
       " a89,\n",
       " a90,\n",
       " a91,\n",
       " a92,\n",
       " a93,\n",
       " a94,\n",
       " a95,\n",
       " a96,\n",
       " a97,\n",
       " a98,\n",
       " a99,\n",
       " x0,\n",
       " x1,\n",
       " x2,\n",
       " x3,\n",
       " x4,\n",
       " x5,\n",
       " x6,\n",
       " x7,\n",
       " x8,\n",
       " x9,\n",
       " x10,\n",
       " x11,\n",
       " x12,\n",
       " x13,\n",
       " x14,\n",
       " x15,\n",
       " x16,\n",
       " x17,\n",
       " x18,\n",
       " x19,\n",
       " x20,\n",
       " x21,\n",
       " x22,\n",
       " x23,\n",
       " x24,\n",
       " x25,\n",
       " x26,\n",
       " x27,\n",
       " x28,\n",
       " x29,\n",
       " x30,\n",
       " x31,\n",
       " x32,\n",
       " x33,\n",
       " x34,\n",
       " x35,\n",
       " x36,\n",
       " x37,\n",
       " x38,\n",
       " x39,\n",
       " x40,\n",
       " x41,\n",
       " x42,\n",
       " x43,\n",
       " x44,\n",
       " x45,\n",
       " x46,\n",
       " x47,\n",
       " x48,\n",
       " x49,\n",
       " x50,\n",
       " x51,\n",
       " x52,\n",
       " x53,\n",
       " x54,\n",
       " x55,\n",
       " x56,\n",
       " x57,\n",
       " x58,\n",
       " x59,\n",
       " x60,\n",
       " x61,\n",
       " x62,\n",
       " x63,\n",
       " x64,\n",
       " x65,\n",
       " x66,\n",
       " x67,\n",
       " x68,\n",
       " x69,\n",
       " x70,\n",
       " x71,\n",
       " x72,\n",
       " x73,\n",
       " x74,\n",
       " x75,\n",
       " x76,\n",
       " x77,\n",
       " x78,\n",
       " x79,\n",
       " x80,\n",
       " x81,\n",
       " x82,\n",
       " x83,\n",
       " x84,\n",
       " x85,\n",
       " x86,\n",
       " x87,\n",
       " x88,\n",
       " x89,\n",
       " x90,\n",
       " x91,\n",
       " x92,\n",
       " x93,\n",
       " x94,\n",
       " x95,\n",
       " x96,\n",
       " x97,\n",
       " x98,\n",
       " x99,\n",
       " alpha,\n",
       " beta,\n",
       " ratio)"
      ]
     },
     "execution_count": 2,
     "metadata": {},
     "output_type": "execute_result"
    }
   ],
   "source": [
    "var(var_list)"
   ]
  },
  {
   "cell_type": "code",
   "execution_count": 3,
   "id": "e80c1eb7",
   "metadata": {},
   "outputs": [],
   "source": [
    "def mycollect(e1, e2):\n",
    "    \"\"\"\n",
    "    Collects e2 coefficients in e1, even when e2 is not a factor of\n",
    "    some of the terms of e1\n",
    "    \"\"\"\n",
    "    g = maxima_calculus.gensym()._sage_()\n",
    "    while g in e1.variables(): g = maxima_calculus.gensym()._sage_()\n",
    "    return sum([v[0]*g^v[1]\n",
    "                for v in e1.subs(e2==g).coefficients(g)]).subs(g==e2)"
   ]
  },
  {
   "cell_type": "code",
   "execution_count": 4,
   "id": "7cff122c",
   "metadata": {},
   "outputs": [],
   "source": [
    "def mainexp(n):\n",
    "    return sum([i*eval(\"a\"+str(n-i))*(eval(\"w\"+str(i))*beta-alpha*eval(\"w\"+str(i+1))) for i in [1..n]])"
   ]
  },
  {
   "cell_type": "code",
   "execution_count": 5,
   "id": "c4b8fbca",
   "metadata": {},
   "outputs": [],
   "source": [
    "def mainsim(n):\n",
    "    return sum([i*eval(\"a\"+str(n-i))*(alpha*eval(\"w\"+str(i+1))) for i in [1..n]])"
   ]
  },
  {
   "cell_type": "code",
   "execution_count": 6,
   "id": "537d6a2b",
   "metadata": {},
   "outputs": [],
   "source": [
    "def polexp(n):\n",
    "    return sum([eval(\"a\"+str(n-i))*eval(\"w\"+str(i+1)) for i in [1..n]])+w1"
   ]
  },
  {
   "cell_type": "code",
   "execution_count": 22,
   "id": "68b4c87f",
   "metadata": {
    "scrolled": true
   },
   "outputs": [],
   "source": [
    "try1=mainexp(2).expand().operands()\n",
    "try2=[i for i in try1 if i.has(w3)]\n",
    "try3=try2[0].subs({a0:1,w3:1})"
   ]
  },
  {
   "cell_type": "code",
   "execution_count": 23,
   "id": "07c5250f",
   "metadata": {},
   "outputs": [],
   "source": [
    "def poltotal(n):\n",
    "    return sum([eval(\"a\"+str(n-i))*eval(\"w\"+str(i)) for i in [0..n]])\n",
    "def polshift(n):\n",
    "    return sum([eval(\"a\"+str(n-i))*eval(\"w\"+str(i+1)) for i in [0..n]])"
   ]
  },
  {
   "cell_type": "code",
   "execution_count": 24,
   "id": "49a4859b",
   "metadata": {},
   "outputs": [
    {
     "data": {
      "text/plain": [
       "2*(beta*w2 - alpha*w3)*a0 + (beta*w1 - alpha*w2)*a1"
      ]
     },
     "execution_count": 24,
     "metadata": {},
     "output_type": "execute_result"
    }
   ],
   "source": [
    "mainexp(2)"
   ]
  },
  {
   "cell_type": "markdown",
   "id": "c000b8e9",
   "metadata": {},
   "source": [
    "def poltotal(n):\n",
    "    return sum([eval(\"a\"+str(n-i))*eval(\"w\"+str(n-i)) for i in [0..n]])\n",
    "def polshift(n):\n",
    "    return sum([eval(\"a\"+str(n-i))*eval(\"w\"+str(n-i+1)) for i in [0..n]])"
   ]
  },
  {
   "cell_type": "code",
   "execution_count": 25,
   "id": "8bfa6b87",
   "metadata": {},
   "outputs": [
    {
     "data": {
      "text/plain": [
       "a2*beta*w0 - a0*alpha*w3 - (a2*alpha - a1*beta)*w1 - (a1*alpha - a0*beta)*w2"
      ]
     },
     "execution_count": 25,
     "metadata": {},
     "output_type": "execute_result"
    }
   ],
   "source": [
    "(poltotal(2)*beta-polshift(2)*alpha).full_simplify()"
   ]
  },
  {
   "cell_type": "code",
   "execution_count": 26,
   "id": "c9b795c3",
   "metadata": {},
   "outputs": [
    {
     "data": {
      "text/plain": [
       "-a1*alpha*w2 - 2*a0*alpha*w3"
      ]
     },
     "execution_count": 26,
     "metadata": {},
     "output_type": "execute_result"
    }
   ],
   "source": [
    "mainexp(2).subs({beta:0})"
   ]
  },
  {
   "cell_type": "code",
   "execution_count": 27,
   "id": "d6607131",
   "metadata": {},
   "outputs": [],
   "source": [
    "#reduced1=(a1 - alpha*a2)*b + 2*(a2 - alpha*a3)*c\n",
    "reduced2=(mainexp(2)-try3*polexp(2)).full_simplify()\n",
    "reduced3=reduced2.subs({w1:ratio*w2})\n",
    "sreduced=solve(reduced3==0, ratio)\n",
    "mainratio=sreduced[0].rhs()\n",
    "mainratio2=mainratio.subs({beta:0})\n",
    "mainpre=(mainratio2^2+a1*mainratio2+a0).full_simplify().factor()"
   ]
  },
  {
   "cell_type": "code",
   "execution_count": 28,
   "id": "8e75b75b",
   "metadata": {},
   "outputs": [
    {
     "data": {
      "text/plain": [
       "-1/2*a1"
      ]
     },
     "execution_count": 28,
     "metadata": {},
     "output_type": "execute_result"
    }
   ],
   "source": [
    "mainratio2"
   ]
  },
  {
   "cell_type": "code",
   "execution_count": 29,
   "id": "d9d8daa8",
   "metadata": {},
   "outputs": [
    {
     "data": {
      "text/plain": [
       "a1*beta*w1 - 2*a0*alpha*w3 - (a1*alpha - 2*a0*beta)*w2"
      ]
     },
     "execution_count": 29,
     "metadata": {},
     "output_type": "execute_result"
    }
   ],
   "source": [
    "mycollect(mainexp(2).expand(),w2)"
   ]
  },
  {
   "cell_type": "code",
   "execution_count": 30,
   "id": "2e319d46",
   "metadata": {},
   "outputs": [
    {
     "data": {
      "text/plain": [
       "a1*w2 + a0*w3 + w1"
      ]
     },
     "execution_count": 30,
     "metadata": {},
     "output_type": "execute_result"
    }
   ],
   "source": [
    "polexp(2)"
   ]
  },
  {
   "cell_type": "code",
   "execution_count": 31,
   "id": "d5f58483",
   "metadata": {},
   "outputs": [],
   "source": [
    "alt=(mainexp(2).expand()+((a1*alpha - 2*a0*beta)/a1)*polexp(2)).full_simplify()"
   ]
  },
  {
   "cell_type": "code",
   "execution_count": 32,
   "id": "074f47b9",
   "metadata": {},
   "outputs": [],
   "source": [
    "alt2=alt.subs({w1:ratio*w3})"
   ]
  },
  {
   "cell_type": "code",
   "execution_count": 33,
   "id": "817aa6d4",
   "metadata": {},
   "outputs": [],
   "source": [
    "alt3=solve(alt2==0,ratio)"
   ]
  },
  {
   "cell_type": "code",
   "execution_count": 34,
   "id": "babf4d4e",
   "metadata": {},
   "outputs": [],
   "source": [
    "altratio=alt3[0].rhs().factor().subs({alpha:1}).factor()"
   ]
  },
  {
   "cell_type": "code",
   "execution_count": 35,
   "id": "ae38937d",
   "metadata": {},
   "outputs": [
    {
     "data": {
      "text/plain": [
       "(2*a0*beta + a1)*a0/(a1^2*beta - 2*a0*beta + a1)"
      ]
     },
     "execution_count": 35,
     "metadata": {},
     "output_type": "execute_result"
    }
   ],
   "source": [
    "altratio"
   ]
  },
  {
   "cell_type": "code",
   "execution_count": 36,
   "id": "9a0fac14",
   "metadata": {},
   "outputs": [],
   "source": [
    "mainsus=mainratio.subs({alpha:1})"
   ]
  },
  {
   "cell_type": "code",
   "execution_count": 37,
   "id": "7be7a841",
   "metadata": {},
   "outputs": [
    {
     "data": {
      "text/plain": [
       "(2*a0*beta + a1)*a0/(a1^2*beta - 2*a0*beta + a1)"
      ]
     },
     "execution_count": 37,
     "metadata": {},
     "output_type": "execute_result"
    }
   ],
   "source": [
    "altratio"
   ]
  },
  {
   "cell_type": "code",
   "execution_count": 38,
   "id": "36a7819f",
   "metadata": {},
   "outputs": [
    {
     "data": {
      "text/plain": [
       "-(2*a0*beta + a1)/(a1*beta + 2)"
      ]
     },
     "execution_count": 38,
     "metadata": {},
     "output_type": "execute_result"
    }
   ],
   "source": [
    "mainsus"
   ]
  },
  {
   "cell_type": "code",
   "execution_count": null,
   "id": "16eaa38d",
   "metadata": {},
   "outputs": [],
   "source": []
  },
  {
   "cell_type": "code",
   "execution_count": 64,
   "id": "8c86cf35",
   "metadata": {},
   "outputs": [],
   "source": [
    "try1=mainexp(3).expand().operands()\n",
    "try2=[i for i in try1 if i.has(w4)]\n",
    "try3=try2[0].subs({a0:1,w4:1})\n",
    "#th1=(a1 - alpha*a2)*b + 2*(a2 - alpha*a3)*c\n",
    "th2=(mainexp(3)-try3*polexp(3)).full_simplify()\n",
    "#th3=th2.subs({w1:ratio*w2})\n",
    "#sth=solve(th3==0, ratio)\n",
    "#mainratio=sth[0].rhs()\n",
    "#mainpre=(mainratio^2+a1*mainratio+a0).full_simplify().factor()"
   ]
  },
  {
   "cell_type": "code",
   "execution_count": 65,
   "id": "4640c993",
   "metadata": {},
   "outputs": [
    {
     "data": {
      "text/plain": [
       "-2*a2*alpha*w2 - a1*alpha*w3 - 3*alpha*w1"
      ]
     },
     "execution_count": 65,
     "metadata": {},
     "output_type": "execute_result"
    }
   ],
   "source": []
  },
  {
   "cell_type": "code",
   "execution_count": 48,
   "id": "312ff622",
   "metadata": {},
   "outputs": [],
   "source": []
  },
  {
   "cell_type": "code",
   "execution_count": 49,
   "id": "54e7ec2b",
   "metadata": {},
   "outputs": [],
   "source": []
  },
  {
   "cell_type": "code",
   "execution_count": 52,
   "id": "4bf2a86c",
   "metadata": {},
   "outputs": [],
   "source": []
  },
  {
   "cell_type": "code",
   "execution_count": 53,
   "id": "efd267e4",
   "metadata": {},
   "outputs": [
    {
     "data": {
      "text/plain": [
       "w5"
      ]
     },
     "execution_count": 53,
     "metadata": {},
     "output_type": "execute_result"
    }
   ],
   "source": [
    "wnumi"
   ]
  },
  {
   "cell_type": "code",
   "execution_count": 17,
   "id": "2eea4565",
   "metadata": {},
   "outputs": [],
   "source": [
    "numi=2\n",
    "wnumi=\"w\"+str(numi+1)\n",
    "wnumi=eval(wnumi)\n",
    "try1=mainexp(numi).expand().operands()\n",
    "try2=[i for i in try1 if i.has(wnumi)]\n",
    "try3=try2[0].subs({a0:1,wnumi:1})\n",
    "#th1=(a1 - alpha*a2)*b + 2*(a2 - alpha*a3)*c\n",
    "th2=(mainexp(numi)-try3*polexp(numi)).full_simplify()\n",
    "#th3=th2.subs({w1:ratio*w2})"
   ]
  },
  {
   "cell_type": "code",
   "execution_count": 25,
   "id": "e4cd6738",
   "metadata": {},
   "outputs": [],
   "source": [
    "order2=th2.subs({w1:w2*ratio})\n",
    "sorder2=solve(order2==0, ratio)[0].rhs()"
   ]
  },
  {
   "cell_type": "code",
   "execution_count": 28,
   "id": "73d0c592",
   "metadata": {},
   "outputs": [
    {
     "data": {
      "text/plain": [
       "-(a1*alpha + 2*a0)/(a1 + 2*alpha)"
      ]
     },
     "execution_count": 28,
     "metadata": {},
     "output_type": "execute_result"
    }
   ],
   "source": [
    "sorder2.subs({beta:1})"
   ]
  },
  {
   "cell_type": "code",
   "execution_count": 12,
   "id": "3231633d",
   "metadata": {},
   "outputs": [],
   "source": [
    "#third1=(w1 - alpha*w2)*b + 2*c*(w2 - alpha*w3)+3*d*(w3 - alpha*a4)\n",
    "#third2=(third1+3*alpha*(w1+b*w2+c*w3+d*a4)).full_simplify()\n",
    "if numi==3:\n",
    "    term1=th2.subs({w1:1,w2:0,w3:0})\n",
    "    term2=th2.subs({w1:0,w2:1,w3:0})\n",
    "    term3=th2.subs({w1:0,w2:0,w3:1})\n",
    "    newb=(term2/term1).full_simplify()\n",
    "    newc=(term3/term1).full_simplify()"
   ]
  },
  {
   "cell_type": "code",
   "execution_count": 16,
   "id": "3aafe788",
   "metadata": {},
   "outputs": [
    {
     "data": {
      "text/plain": [
       "2*(a2*alpha + a1*beta)/(a2*beta + 3*alpha)"
      ]
     },
     "execution_count": 16,
     "metadata": {},
     "output_type": "execute_result"
    }
   ],
   "source": [
    "newb"
   ]
  },
  {
   "cell_type": "code",
   "execution_count": 77,
   "id": "109bcc4c",
   "metadata": {},
   "outputs": [
    {
     "ename": "NameError",
     "evalue": "name 'b' is not defined",
     "output_type": "error",
     "traceback": [
      "\u001b[0;31m---------------------------------------------------------------------------\u001b[0m",
      "\u001b[0;31mNameError\u001b[0m                                 Traceback (most recent call last)",
      "Cell \u001b[0;32mIn[77], line 1\u001b[0m\n\u001b[0;32m----> 1\u001b[0m newratio\u001b[38;5;241m=\u001b[39mmainratio\u001b[38;5;241m.\u001b[39msubs({\u001b[43mb\u001b[49m:newb,c:newc})\u001b[38;5;241m.\u001b[39mfull_simplify()\n\u001b[1;32m      2\u001b[0m expa\u001b[38;5;241m=\u001b[39mnewratio\u001b[38;5;241m*\u001b[39m\u001b[38;5;241m*\u001b[39mInteger(\u001b[38;5;241m2\u001b[39m)\u001b[38;5;241m+\u001b[39mnewb\u001b[38;5;241m*\u001b[39mnewratio\u001b[38;5;241m+\u001b[39mnewc\n\u001b[1;32m      3\u001b[0m expa2\u001b[38;5;241m=\u001b[39mexpa\u001b[38;5;241m.\u001b[39mfull_simplify()\u001b[38;5;241m.\u001b[39mfactor()\n",
      "\u001b[0;31mNameError\u001b[0m: name 'b' is not defined"
     ]
    }
   ],
   "source": [
    "newratio=mainratio.subs({b:newb,c:newc}).full_simplify()\n",
    "expa=newratio^2+newb*newratio+newc\n",
    "expa2=expa.full_simplify().factor()"
   ]
  },
  {
   "cell_type": "code",
   "execution_count": 6,
   "id": "ea37c427",
   "metadata": {},
   "outputs": [],
   "source": [
    "exp1=alpha^2*b^2 - 3*alpha^2*c + alpha*b*c + c^2 - 9*alpha*d - 3*b*d"
   ]
  },
  {
   "cell_type": "code",
   "execution_count": 7,
   "id": "b7f00f76",
   "metadata": {},
   "outputs": [],
   "source": [
    "dsol=solve(exp1==0,d)\n",
    "dsol2=dsol[0].rhs()"
   ]
  },
  {
   "cell_type": "code",
   "execution_count": 8,
   "id": "286f3b1a",
   "metadata": {},
   "outputs": [],
   "source": [
    "dratio=newratio.subs({d:dsol2}).full_simplify().factor()"
   ]
  },
  {
   "cell_type": "code",
   "execution_count": 9,
   "id": "e56a1f55",
   "metadata": {},
   "outputs": [],
   "source": [
    "altexpa=(dratio^2+newb*dratio+newc).full_simplify().factor()"
   ]
  },
  {
   "cell_type": "code",
   "execution_count": 10,
   "id": "d00733cb",
   "metadata": {},
   "outputs": [],
   "source": [
    "altexpa2=-altexpa.numerator()"
   ]
  },
  {
   "cell_type": "code",
   "execution_count": null,
   "id": "1d4b7787",
   "metadata": {},
   "outputs": [],
   "source": []
  },
  {
   "cell_type": "code",
   "execution_count": 11,
   "id": "9e3eb0f8",
   "metadata": {},
   "outputs": [],
   "source": [
    "dis2=b^2-4*a*c"
   ]
  },
  {
   "cell_type": "code",
   "execution_count": 12,
   "id": "2f910fdc",
   "metadata": {},
   "outputs": [],
   "source": [
    "altexpa3=mycollect(altexpa2,alpha)\n",
    "altexpa4=altexpa3.operands()\n",
    "altexpa5=[i.subs({alpha:1})for i in altexpa4]"
   ]
  },
  {
   "cell_type": "code",
   "execution_count": 13,
   "id": "12532186",
   "metadata": {},
   "outputs": [
    {
     "data": {
      "text/plain": [
       "(b^2 - 3*c)*alpha^2 + (b*c - 9*d)*alpha + c^2 - 3*b*d"
      ]
     },
     "execution_count": 13,
     "metadata": {},
     "output_type": "execute_result"
    }
   ],
   "source": [
    "altexpa3"
   ]
  },
  {
   "cell_type": "code",
   "execution_count": 14,
   "id": "46254148",
   "metadata": {},
   "outputs": [],
   "source": [
    "altexpa5=[b^2 - 3*c, b*c - 9*d, c^2-3*b*d]"
   ]
  },
  {
   "cell_type": "code",
   "execution_count": 15,
   "id": "f2bdb333",
   "metadata": {},
   "outputs": [],
   "source": [
    "dis3=dis2.subs({a:altexpa5[0],b:altexpa5[1],c:altexpa5[2]})"
   ]
  },
  {
   "cell_type": "code",
   "execution_count": 16,
   "id": "d9733090",
   "metadata": {},
   "outputs": [],
   "source": [
    "dis3=dis3.full_simplify().factor()/-3"
   ]
  },
  {
   "cell_type": "code",
   "execution_count": 17,
   "id": "4459f74c",
   "metadata": {},
   "outputs": [],
   "source": [
    "fourth1=(a1 - alpha*a2)*b + 2*c*(a2 - alpha*a3)+3*d*(a3 - alpha*a4)+4*e*(a4 - alpha*a5)\n",
    "fourth2=(fourth1+4*alpha*(a1+b*a2+c*a3+d*a4+e*a5)).full_simplify()"
   ]
  },
  {
   "cell_type": "code",
   "execution_count": 18,
   "id": "5ed0a907",
   "metadata": {},
   "outputs": [],
   "source": [
    "foterm1=fourth2.subs({a1:1,a2:0,a3:0,a4:0})\n",
    "foterm2=fourth2.subs({a1:0,a2:1,a3:0,a4:0})\n",
    "foterm3=fourth2.subs({a1:0,a2:0,a3:1,a4:0})\n",
    "foterm4=fourth2.subs({a1:0,a2:0,a3:0,a4:1})\n",
    "newfb=foterm2/foterm1\n",
    "newfc=foterm3/foterm1\n",
    "newfd=foterm4/foterm1"
   ]
  },
  {
   "cell_type": "code",
   "execution_count": 19,
   "id": "127c6d51",
   "metadata": {},
   "outputs": [],
   "source": [
    "foratio=(newratio.subs({b:newfb,c:newfc,d:newfd})).full_simplify()\n",
    "dosb=newb.subs({b:newfb,c:newfc,d:newfd}).full_simplify()\n",
    "dosc=newc.subs({b:newfb,c:newfc,d:newfd}).full_simplify()"
   ]
  },
  {
   "cell_type": "code",
   "execution_count": 20,
   "id": "f848feb2",
   "metadata": {},
   "outputs": [],
   "source": [
    "foexp2=(foratio^2+dosb*foratio+dosc).full_simplify().factor()"
   ]
  },
  {
   "cell_type": "code",
   "execution_count": 21,
   "id": "f5fafa28",
   "metadata": {},
   "outputs": [
    {
     "data": {
      "text/plain": [
       "-2*(3*alpha^4*b^2 - 8*alpha^4*c + 4*alpha^3*b*c + 4*alpha^2*c^2 - 24*alpha^3*d - 6*alpha^2*b*d + 4*alpha*c*d - 48*alpha^2*e - 24*alpha*b*e + 3*d^2 - 8*c*e)*(alpha^4 + alpha^3*b + alpha^2*c + alpha*d + e)/((4*alpha^3 + 3*alpha^2*b + 2*alpha*c + d)^2*(6*alpha^2 + 3*alpha*b + c))"
      ]
     },
     "execution_count": 21,
     "metadata": {},
     "output_type": "execute_result"
    }
   ],
   "source": [
    "foexp2"
   ]
  },
  {
   "cell_type": "code",
   "execution_count": 22,
   "id": "5ad98482",
   "metadata": {},
   "outputs": [],
   "source": [
    "exp2=3*alpha^4*b^2 - 8*alpha^4*c + 4*alpha^3*b*c + 4*alpha^2*c^2 - 24*alpha^3*d - 6*alpha^2*b*d + 4*alpha*c*d - 48*alpha^2*e - 24*alpha*b*e + 3*d^2 - 8*c*e"
   ]
  },
  {
   "cell_type": "code",
   "execution_count": 23,
   "id": "d74d4ece",
   "metadata": {},
   "outputs": [],
   "source": [
    "esol=solve(exp2==0,e)\n",
    "esol2=esol[0].rhs()"
   ]
  },
  {
   "cell_type": "code",
   "execution_count": 24,
   "id": "64c0a6b7",
   "metadata": {},
   "outputs": [],
   "source": [
    "eratio=foratio.subs({e:esol2}).full_simplify().factor()"
   ]
  },
  {
   "cell_type": "code",
   "execution_count": 25,
   "id": "93374f3d",
   "metadata": {},
   "outputs": [],
   "source": [
    "altafo=(eratio^2+dosb*eratio+dosc).full_simplify().factor()"
   ]
  },
  {
   "cell_type": "code",
   "execution_count": 26,
   "id": "29beef97",
   "metadata": {},
   "outputs": [
    {
     "data": {
      "text/plain": [
       "-3/4*(3*alpha^4*b^2 - 8*alpha^4*c + 4*alpha^3*b*c + 4*alpha^2*c^2 - 24*alpha^3*d - 6*alpha^2*b*d + 4*alpha*c*d - 48*alpha^2*e - 24*alpha*b*e + 3*d^2 - 8*c*e)/(6*alpha^2 + 3*alpha*b + c)^2"
      ]
     },
     "execution_count": 26,
     "metadata": {},
     "output_type": "execute_result"
    }
   ],
   "source": [
    "altafo"
   ]
  },
  {
   "cell_type": "code",
   "execution_count": 27,
   "id": "af1e4cf6",
   "metadata": {},
   "outputs": [],
   "source": [
    "altafo2=altafo.numerator()/-3\n",
    "altafo3=(altafo2-(3*b^2 - 8*c)*(alpha^4 + alpha^3*b + alpha^2*c + alpha*d + e)).full_simplify()\n",
    "altafo4=mycollect(altafo3,alpha)/-3\n",
    "altafo5=altafo4.operands()"
   ]
  },
  {
   "cell_type": "code",
   "execution_count": 28,
   "id": "8a0bbb72",
   "metadata": {},
   "outputs": [
    {
     "data": {
      "text/plain": [
       "2/9*(3*b^2 - 8*c)*alpha^4 + 1/9*(9*b^3 - 28*b*c + 24*d)*alpha^3 + 1/9*(9*b^2*c - 28*c^2 + 6*b*d + 48*e)*alpha^2 + b^2*e + 1/9*(9*b^2*d - 28*c*d + 24*b*e)*alpha - 1/3*d^2 - 16/9*c*e"
      ]
     },
     "execution_count": 28,
     "metadata": {},
     "output_type": "execute_result"
    }
   ],
   "source": [
    "altafo4"
   ]
  },
  {
   "cell_type": "code",
   "execution_count": 29,
   "id": "d83052aa",
   "metadata": {},
   "outputs": [],
   "source": [
    "altafo5=[(b^3 - 4*b*c + 8*d)*alpha^3,\n",
    " (b^2*c - 4*c^2 + 2*b*d + 16*e)*alpha^2,\n",
    " (b^2*d - 4*c*d + 8*b*e)*alpha,\n",
    " b^2*e-d^2]"
   ]
  },
  {
   "cell_type": "code",
   "execution_count": 30,
   "id": "26fb36a1",
   "metadata": {},
   "outputs": [],
   "source": [
    "altafo6=[i.subs({alpha:1})for i in altafo5]"
   ]
  },
  {
   "cell_type": "code",
   "execution_count": 31,
   "id": "bc719031",
   "metadata": {},
   "outputs": [],
   "source": [
    "altafo7=[j/altafo6[0]for j in altafo6]"
   ]
  },
  {
   "cell_type": "code",
   "execution_count": 32,
   "id": "abb94519",
   "metadata": {},
   "outputs": [
    {
     "data": {
      "text/plain": [
       "[1,\n",
       " (b^2*c - 4*c^2 + 2*b*d + 16*e)/(b^3 - 4*b*c + 8*d),\n",
       " (b^2*d - 4*c*d + 8*b*e)/(b^3 - 4*b*c + 8*d),\n",
       " (b^2*e - d^2)/(b^3 - 4*b*c + 8*d)]"
      ]
     },
     "execution_count": 32,
     "metadata": {},
     "output_type": "execute_result"
    }
   ],
   "source": [
    "altafo7"
   ]
  },
  {
   "cell_type": "code",
   "execution_count": 33,
   "id": "8c1c3bc3",
   "metadata": {},
   "outputs": [],
   "source": [
    "dis4=(dis3.subs({b:altafo7[1],c:altafo7[2],d:altafo7[3]})).full_simplify().factor()"
   ]
  },
  {
   "cell_type": "code",
   "execution_count": 34,
   "id": "faecdbe8",
   "metadata": {},
   "outputs": [],
   "source": [
    "dis4=dis4.numerator()"
   ]
  },
  {
   "cell_type": "code",
   "execution_count": 35,
   "id": "6064036d",
   "metadata": {},
   "outputs": [
    {
     "data": {
      "text/plain": [
       "b^2*c^2*d^2 - 4*b^3*d^3 - 4*b^2*c^3*e + 18*b^3*c*d*e - 27*b^4*e^2 - 4*c^3*d^2 + 18*b*c*d^3 + 16*c^4*e - 80*b*c^2*d*e - 6*b^2*d^2*e + 144*b^2*c*e^2 - 27*d^4 + 144*c*d^2*e - 128*c^2*e^2 - 192*b*d*e^2 + 256*e^3"
      ]
     },
     "execution_count": 35,
     "metadata": {},
     "output_type": "execute_result"
    }
   ],
   "source": [
    "dis4"
   ]
  },
  {
   "cell_type": "code",
   "execution_count": null,
   "id": "c7912e87",
   "metadata": {},
   "outputs": [],
   "source": []
  },
  {
   "cell_type": "code",
   "execution_count": 36,
   "id": "4466b063",
   "metadata": {},
   "outputs": [],
   "source": [
    "fifth1=(a1 - alpha*a2)*b + 2*c*(a2 - alpha*a3)+3*d*(a3 - alpha*a4)+4*e*(a4 - alpha*a5)+5*f*(a5 - alpha*a6)\n",
    "fifth2=(fifth1+5*alpha*(a1+b*a2+c*a3+d*a4+e*a5+f*a6)).full_simplify()"
   ]
  },
  {
   "cell_type": "code",
   "execution_count": 37,
   "id": "37b1ffce",
   "metadata": {},
   "outputs": [
    {
     "data": {
      "text/plain": [
       "5*a1*alpha + (4*a2*alpha + a1)*b + (3*a3*alpha + 2*a2)*c + (2*a4*alpha + 3*a3)*d + (a5*alpha + 4*a4)*e + 5*a5*f"
      ]
     },
     "execution_count": 37,
     "metadata": {},
     "output_type": "execute_result"
    }
   ],
   "source": [
    "fifth2"
   ]
  },
  {
   "cell_type": "code",
   "execution_count": 38,
   "id": "4223a626",
   "metadata": {},
   "outputs": [],
   "source": [
    "fiterm1=fifth2.subs({a1:1,a2:0,a3:0,a4:0,a5:0})\n",
    "fiterm2=fifth2.subs({a1:0,a2:1,a3:0,a4:0,a5:0})\n",
    "fiterm3=fifth2.subs({a1:0,a2:0,a3:1,a4:0,a5:0})\n",
    "fiterm4=fifth2.subs({a1:0,a2:0,a3:0,a4:1,a5:0})\n",
    "fiterm5=fifth2.subs({a1:0,a2:0,a3:0,a4:0,a5:1})\n",
    "fifb=fiterm2/fiterm1\n",
    "fifc=fiterm3/fiterm1\n",
    "fifd=fiterm4/fiterm1\n",
    "fife=fiterm5/fiterm1"
   ]
  },
  {
   "cell_type": "code",
   "execution_count": 39,
   "id": "4839af1b",
   "metadata": {},
   "outputs": [],
   "source": [
    "fifratio=(foratio.subs({b:fifb,c:fifc,d:fifd,e:fife})).full_simplify().factor()\n",
    "cincob=dosb.subs({b:fifb,c:fifc,d:fifd,e:fife}).full_simplify().factor()\n",
    "cincoc=dosc.subs({b:fifb,c:fifc,d:fifd,e:fife}).full_simplify().factor()"
   ]
  },
  {
   "cell_type": "code",
   "execution_count": 40,
   "id": "d63bc722",
   "metadata": {},
   "outputs": [
    {
     "data": {
      "text/plain": [
       "(2*(alpha*b + c)/(3*alpha + b), (alpha*c + 3*d)/(3*alpha + b))"
      ]
     },
     "execution_count": 40,
     "metadata": {},
     "output_type": "execute_result"
    }
   ],
   "source": [
    "newb, newc"
   ]
  },
  {
   "cell_type": "code",
   "execution_count": 41,
   "id": "fcd0a280",
   "metadata": {},
   "outputs": [
    {
     "data": {
      "text/plain": [
       "((3*alpha^2*b + 4*alpha*c + 3*d)/(6*alpha^2 + 3*alpha*b + c),\n",
       " (alpha^2*c + 3*alpha*d + 6*e)/(6*alpha^2 + 3*alpha*b + c))"
      ]
     },
     "execution_count": 41,
     "metadata": {},
     "output_type": "execute_result"
    }
   ],
   "source": [
    "dosb,dosc"
   ]
  },
  {
   "cell_type": "code",
   "execution_count": 42,
   "id": "37167530",
   "metadata": {},
   "outputs": [
    {
     "data": {
      "text/plain": [
       "(2*(2*alpha^3*b + 3*alpha^2*c + 3*alpha*d + 2*e)/(10*alpha^3 + 6*alpha^2*b + 3*alpha*c + d),\n",
       " (alpha^3*c + 3*alpha^2*d + 6*alpha*e + 10*f)/(10*alpha^3 + 6*alpha^2*b + 3*alpha*c + d))"
      ]
     },
     "execution_count": 42,
     "metadata": {},
     "output_type": "execute_result"
    }
   ],
   "source": [
    "cincob, cincoc"
   ]
  },
  {
   "cell_type": "code",
   "execution_count": 43,
   "id": "6e09a220",
   "metadata": {},
   "outputs": [],
   "source": [
    "fiexp2=(fifratio^2+cincob*fifratio+cincoc).full_simplify().factor()"
   ]
  },
  {
   "cell_type": "code",
   "execution_count": 44,
   "id": "a452501f",
   "metadata": {},
   "outputs": [
    {
     "data": {
      "text/plain": [
       "-5*(2*alpha^6*b^2 - 5*alpha^6*c + 3*alpha^5*b*c + 3*alpha^4*c^2 - 15*alpha^5*d - 3*alpha^4*b*d + 4*alpha^3*c*d - 30*alpha^4*e - 14*alpha^3*b*e + 3*alpha^2*d^2 - 3*alpha^2*c*e - 50*alpha^3*f - 30*alpha^2*b*f + 3*alpha*d*e - 15*alpha*c*f + 2*e^2 - 5*d*f)*(alpha^5 + alpha^4*b + alpha^3*c + alpha^2*d + alpha*e + f)/((5*alpha^4 + 4*alpha^3*b + 3*alpha^2*c + 2*alpha*d + e)^2*(10*alpha^3 + 6*alpha^2*b + 3*alpha*c + d))"
      ]
     },
     "execution_count": 44,
     "metadata": {},
     "output_type": "execute_result"
    }
   ],
   "source": [
    "fiexp2"
   ]
  },
  {
   "cell_type": "code",
   "execution_count": 45,
   "id": "d4b720a2",
   "metadata": {},
   "outputs": [],
   "source": [
    "exp3=(2*alpha^6*b^2 - 5*alpha^6*c + 3*alpha^5*b*c + 3*alpha^4*c^2 - 15*alpha^5*d - 3*alpha^4*b*d + 4*alpha^3*c*d - 30*alpha^4*e - 14*alpha^3*b*e + 3*alpha^2*d^2 - 3*alpha^2*c*e - 50*alpha^3*f - 30*alpha^2*b*f + 3*alpha*d*e - 15*alpha*c*f + 2*e^2 - 5*d*f)"
   ]
  },
  {
   "cell_type": "code",
   "execution_count": 46,
   "id": "a30bbee6",
   "metadata": {},
   "outputs": [],
   "source": [
    "fsol=solve(exp3==0,f)\n",
    "fsol2=fsol[0].rhs()"
   ]
  },
  {
   "cell_type": "code",
   "execution_count": 47,
   "id": "80526638",
   "metadata": {},
   "outputs": [],
   "source": [
    "fratio=fifratio.subs({f:fsol2}).full_simplify().factor()"
   ]
  },
  {
   "cell_type": "code",
   "execution_count": 48,
   "id": "8cafa6eb",
   "metadata": {},
   "outputs": [
    {
     "data": {
      "text/plain": [
       "-(alpha*b + c)/(3*alpha + b)"
      ]
     },
     "execution_count": 48,
     "metadata": {},
     "output_type": "execute_result"
    }
   ],
   "source": [
    "dratio"
   ]
  },
  {
   "cell_type": "code",
   "execution_count": 49,
   "id": "2135b94c",
   "metadata": {},
   "outputs": [
    {
     "data": {
      "text/plain": [
       "-1/2*(3*alpha^2*b + 4*alpha*c + 3*d)/(6*alpha^2 + 3*alpha*b + c)"
      ]
     },
     "execution_count": 49,
     "metadata": {},
     "output_type": "execute_result"
    }
   ],
   "source": [
    "eratio"
   ]
  },
  {
   "cell_type": "code",
   "execution_count": 50,
   "id": "6b5586a4",
   "metadata": {},
   "outputs": [
    {
     "data": {
      "text/plain": [
       "-(2*alpha^3*b + 3*alpha^2*c + 3*alpha*d + 2*e)/(10*alpha^3 + 6*alpha^2*b + 3*alpha*c + d)"
      ]
     },
     "execution_count": 50,
     "metadata": {},
     "output_type": "execute_result"
    }
   ],
   "source": [
    "fratio"
   ]
  },
  {
   "cell_type": "code",
   "execution_count": 51,
   "id": "0f6218de",
   "metadata": {},
   "outputs": [],
   "source": [
    "altafi=(fratio^2+cincob*fratio+cincoc).full_simplify().factor()"
   ]
  },
  {
   "cell_type": "code",
   "execution_count": null,
   "id": "49860835",
   "metadata": {},
   "outputs": [],
   "source": []
  },
  {
   "cell_type": "code",
   "execution_count": 52,
   "id": "b659a1fe",
   "metadata": {},
   "outputs": [],
   "source": [
    "altafi2=mycollect(altafi.numerator(),alpha)"
   ]
  },
  {
   "cell_type": "code",
   "execution_count": 53,
   "id": "ab38c4be",
   "metadata": {},
   "outputs": [],
   "source": [
    "newbi=altafi2\n",
    "for i in range(0,2):\n",
    "    newbi=mycollect(newbi,alpha)\n",
    "    pris=newbi.operands()[0].subs({alpha:1})\n",
    "    newbi=(newbi-pris*alpha^(2-i-1)*(alpha^5 + alpha^4*b + alpha^3*c + alpha^2*d + alpha*e+f)).full_simplify()"
   ]
  },
  {
   "cell_type": "code",
   "execution_count": 54,
   "id": "60ad3589",
   "metadata": {},
   "outputs": [
    {
     "data": {
      "text/plain": [
       "-4*(b^4 - 5*b^2*c + 4*c^2 + 6*b*d - 15*e)*alpha^4 - 4*(b^3*c - 4*b*c^2 - b^2*d + 12*c*d - 7*b*e - 25*f)*alpha^3 - 4*b^3*f - 4*(b^3*d - 4*b*c*d - b^2*e + 9*d^2 + c*e - 15*b*f)*alpha^2 + 16*b*c*f - 4*(b^3*e - 4*b*c*e - b^2*f + 9*d*e - 5*c*f)*alpha - 4*e^2 - 20*d*f"
      ]
     },
     "execution_count": 54,
     "metadata": {},
     "output_type": "execute_result"
    }
   ],
   "source": [
    "mycollect(newbi,alpha)"
   ]
  },
  {
   "cell_type": "code",
   "execution_count": null,
   "id": "a7a0e63e",
   "metadata": {},
   "outputs": [],
   "source": []
  },
  {
   "cell_type": "code",
   "execution_count": 55,
   "id": "83aed158",
   "metadata": {},
   "outputs": [
    {
     "data": {
      "text/plain": [
       "-2*(2*b^2 - 5*c)*alpha^6 - 6*(b*c - 5*d)*alpha^5 - 6*(c^2 - b*d - 10*e)*alpha^4 - 4*(2*c*d - 7*b*e - 25*f)*alpha^3 - 6*(d^2 - c*e - 10*b*f)*alpha^2 - 6*(d*e - 5*c*f)*alpha - 4*e^2 + 10*d*f"
      ]
     },
     "execution_count": 55,
     "metadata": {},
     "output_type": "execute_result"
    }
   ],
   "source": [
    "altafi2"
   ]
  },
  {
   "cell_type": "code",
   "execution_count": 56,
   "id": "33e6283c",
   "metadata": {},
   "outputs": [],
   "source": [
    "dis1=altafi2.operands()[0].subs({alpha:1})"
   ]
  },
  {
   "cell_type": "code",
   "execution_count": 57,
   "id": "b55180e3",
   "metadata": {},
   "outputs": [
    {
     "data": {
      "text/plain": [
       "alpha^4 + alpha^3*b + alpha^2*c + alpha*d + e"
      ]
     },
     "execution_count": 57,
     "metadata": {},
     "output_type": "execute_result"
    }
   ],
   "source": [
    "(alpha^4 + alpha^3*b + alpha^2*c + alpha*d + e)"
   ]
  },
  {
   "cell_type": "code",
   "execution_count": 58,
   "id": "7110f98d",
   "metadata": {},
   "outputs": [
    {
     "data": {
      "text/plain": [
       "-3/4*(3*alpha^4*b^2 - 8*alpha^4*c + 4*alpha^3*b*c + 4*alpha^2*c^2 - 24*alpha^3*d - 6*alpha^2*b*d + 4*alpha*c*d - 48*alpha^2*e - 24*alpha*b*e + 3*d^2 - 8*c*e)/(6*alpha^2 + 3*alpha*b + c)^2"
      ]
     },
     "execution_count": 58,
     "metadata": {},
     "output_type": "execute_result"
    }
   ],
   "source": [
    "altafo"
   ]
  },
  {
   "cell_type": "code",
   "execution_count": 59,
   "id": "6ef12f61",
   "metadata": {},
   "outputs": [],
   "source": [
    "tmp=mycollect(altafo3,alpha)"
   ]
  },
  {
   "cell_type": "code",
   "execution_count": 60,
   "id": "a091b4bf",
   "metadata": {},
   "outputs": [
    {
     "data": {
      "text/plain": [
       "-3*b^3 - 3*b^2*c - 3*b^2*d - 3*b^2*e - 2*b^2 + 28/3*b*c + 28/3*c^2 - 2*b*d + 28/3*c*d + d^2 - 8*b*e + 16/3*c*e + 16/3*c - 8*d - 16*e"
      ]
     },
     "execution_count": 60,
     "metadata": {},
     "output_type": "execute_result"
    }
   ],
   "source": [
    "tmp.subs({alpha:1})"
   ]
  },
  {
   "cell_type": "code",
   "execution_count": 61,
   "id": "00c1694c",
   "metadata": {},
   "outputs": [
    {
     "ename": "NameError",
     "evalue": "name 'tmp2' is not defined",
     "output_type": "error",
     "traceback": [
      "\u001b[0;31m---------------------------------------------------------------------------\u001b[0m",
      "\u001b[0;31mNameError\u001b[0m                                 Traceback (most recent call last)",
      "Cell \u001b[0;32mIn[61], line 1\u001b[0m\n\u001b[0;32m----> 1\u001b[0m \u001b[43mtmp2\u001b[49m\u001b[38;5;241m.\u001b[39msubs({alpha:Integer(\u001b[38;5;241m1\u001b[39m)})\n",
      "\u001b[0;31mNameError\u001b[0m: name 'tmp2' is not defined"
     ]
    }
   ],
   "source": [
    "tmp2.subs({alpha:1})"
   ]
  },
  {
   "cell_type": "code",
   "execution_count": null,
   "id": "6967009d",
   "metadata": {},
   "outputs": [],
   "source": []
  }
 ],
 "metadata": {
  "kernelspec": {
   "display_name": "SageMath 9.7 [conda env:sagemath]",
   "language": "sage",
   "name": "conda-env-sagemath-sagemath"
  },
  "language_info": {
   "codemirror_mode": {
    "name": "ipython",
    "version": 3
   },
   "file_extension": ".py",
   "mimetype": "text/x-python",
   "name": "python",
   "nbconvert_exporter": "python",
   "pygments_lexer": "ipython3",
   "version": "3.10.4"
  }
 },
 "nbformat": 4,
 "nbformat_minor": 5
}
