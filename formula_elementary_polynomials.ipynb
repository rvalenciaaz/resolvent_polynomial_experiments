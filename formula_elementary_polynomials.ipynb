{
 "cells": [
  {
   "cell_type": "code",
   "execution_count": 1,
   "id": "272545ae",
   "metadata": {},
   "outputs": [],
   "source": [
    "def mycollect(e1, e2):\n",
    "    \"\"\"\n",
    "    Collects e2 coefficients in e1, even when e2 is not a factor of\n",
    "    some of the terms of e1\n",
    "    \"\"\"\n",
    "    g = maxima_calculus.gensym()._sage_()\n",
    "    while g in e1.variables(): g = maxima_calculus.gensym()._sage_()\n",
    "    return sum([v[0]*g^v[1]\n",
    "                for v in e1.subs(e2==g).coefficients(g)]).subs(g==e2)"
   ]
  },
  {
   "cell_type": "code",
   "execution_count": 2,
   "id": "7c2f6597",
   "metadata": {},
   "outputs": [],
   "source": [
    "var_list=[\"a\"+str(i) for i in range(0,100)]+[\"x\"+str(i) for i in range(0,100)]+[\"e\"+str(i) for i in range(0,100)]+[\"s1\",\"s2\"]"
   ]
  },
  {
   "cell_type": "code",
   "execution_count": 2,
   "id": "66224045",
   "metadata": {},
   "outputs": [
    {
     "name": "stdout",
     "output_type": "stream",
     "text": [
      "4*(x0 - x1)^2*(x0 - x2)^2\n",
      "9*(x0 - x1)^2*(x0 - x2)^2*(x0 - x3)^2\n",
      "16*(x0 - x1)^2*(x0 - x2)^2*(x0 - x3)^2*(x0 - x4)^2\n",
      "25*(x0 - x1)^2*(x0 - x2)^2*(x0 - x3)^2*(x0 - x4)^2*(x0 - x5)^2\n",
      "36*(x0 - x1)^2*(x0 - x2)^2*(x0 - x3)^2*(x0 - x4)^2*(x0 - x5)^2*(x0 - x6)^2\n",
      "49*(x0 - x1)^2*(x0 - x2)^2*(x0 - x3)^2*(x0 - x4)^2*(x0 - x5)^2*(x0 - x6)^2*(x0 - x7)^2\n"
     ]
    }
   ],
   "source": [
    "var_list=[\"x\"+str(i) for i in range(0,100)]+[\"e\"+str(i) for i in range(0,100)]\n",
    "var(var_list+[\"n\"])\n",
    "e = SymmetricFunctions(QQ).e()\n",
    "def ele_dict(deg):\n",
    "        es=[e[i].expand(deg) for i in range(0,deg+1)]\n",
    "        coe=list([eval(\"e\"+str(i)) for i in range(0,deg+1)])\n",
    "        return dict(zip(coe,es))\n",
    "def asum(n):\n",
    "    return sum((-1)**k * (n-k-1)*(n-k)/2 * x0**(n-k-2) *eval(\"e\"+str(k)) for k in [0..(n-2)])\n",
    "def bsum(n):\n",
    "    return sum((-1)**k * k*(n-k) * x0**(n-k-1) *eval(\"e\"+str(k)) for k in [1..(n-1)])\n",
    "def csum(n):\n",
    "    return sum((-1)**k * k*(k-1)/2 * x0**(n-k) *eval(\"e\"+str(k)) for k in [2..(n)])\n",
    "for j in range(3,9):\n",
    "    formula=bsum(j)**2-4*asum(j)*csum(j)\n",
    "    che=formula.subs(ele_dict(j)).full_simplify().factor()\n",
    "    print(che)"
   ]
  },
  {
   "cell_type": "code",
   "execution_count": 3,
   "id": "a2912a19",
   "metadata": {},
   "outputs": [
    {
     "data": {
      "text/plain": [
       "(a0,\n",
       " a1,\n",
       " a2,\n",
       " a3,\n",
       " a4,\n",
       " a5,\n",
       " a6,\n",
       " a7,\n",
       " a8,\n",
       " a9,\n",
       " a10,\n",
       " a11,\n",
       " a12,\n",
       " a13,\n",
       " a14,\n",
       " a15,\n",
       " a16,\n",
       " a17,\n",
       " a18,\n",
       " a19,\n",
       " a20,\n",
       " a21,\n",
       " a22,\n",
       " a23,\n",
       " a24,\n",
       " a25,\n",
       " a26,\n",
       " a27,\n",
       " a28,\n",
       " a29,\n",
       " a30,\n",
       " a31,\n",
       " a32,\n",
       " a33,\n",
       " a34,\n",
       " a35,\n",
       " a36,\n",
       " a37,\n",
       " a38,\n",
       " a39,\n",
       " a40,\n",
       " a41,\n",
       " a42,\n",
       " a43,\n",
       " a44,\n",
       " a45,\n",
       " a46,\n",
       " a47,\n",
       " a48,\n",
       " a49,\n",
       " a50,\n",
       " a51,\n",
       " a52,\n",
       " a53,\n",
       " a54,\n",
       " a55,\n",
       " a56,\n",
       " a57,\n",
       " a58,\n",
       " a59,\n",
       " a60,\n",
       " a61,\n",
       " a62,\n",
       " a63,\n",
       " a64,\n",
       " a65,\n",
       " a66,\n",
       " a67,\n",
       " a68,\n",
       " a69,\n",
       " a70,\n",
       " a71,\n",
       " a72,\n",
       " a73,\n",
       " a74,\n",
       " a75,\n",
       " a76,\n",
       " a77,\n",
       " a78,\n",
       " a79,\n",
       " a80,\n",
       " a81,\n",
       " a82,\n",
       " a83,\n",
       " a84,\n",
       " a85,\n",
       " a86,\n",
       " a87,\n",
       " a88,\n",
       " a89,\n",
       " a90,\n",
       " a91,\n",
       " a92,\n",
       " a93,\n",
       " a94,\n",
       " a95,\n",
       " a96,\n",
       " a97,\n",
       " a98,\n",
       " a99,\n",
       " x0,\n",
       " x1,\n",
       " x2,\n",
       " x3,\n",
       " x4,\n",
       " x5,\n",
       " x6,\n",
       " x7,\n",
       " x8,\n",
       " x9,\n",
       " x10,\n",
       " x11,\n",
       " x12,\n",
       " x13,\n",
       " x14,\n",
       " x15,\n",
       " x16,\n",
       " x17,\n",
       " x18,\n",
       " x19,\n",
       " x20,\n",
       " x21,\n",
       " x22,\n",
       " x23,\n",
       " x24,\n",
       " x25,\n",
       " x26,\n",
       " x27,\n",
       " x28,\n",
       " x29,\n",
       " x30,\n",
       " x31,\n",
       " x32,\n",
       " x33,\n",
       " x34,\n",
       " x35,\n",
       " x36,\n",
       " x37,\n",
       " x38,\n",
       " x39,\n",
       " x40,\n",
       " x41,\n",
       " x42,\n",
       " x43,\n",
       " x44,\n",
       " x45,\n",
       " x46,\n",
       " x47,\n",
       " x48,\n",
       " x49,\n",
       " x50,\n",
       " x51,\n",
       " x52,\n",
       " x53,\n",
       " x54,\n",
       " x55,\n",
       " x56,\n",
       " x57,\n",
       " x58,\n",
       " x59,\n",
       " x60,\n",
       " x61,\n",
       " x62,\n",
       " x63,\n",
       " x64,\n",
       " x65,\n",
       " x66,\n",
       " x67,\n",
       " x68,\n",
       " x69,\n",
       " x70,\n",
       " x71,\n",
       " x72,\n",
       " x73,\n",
       " x74,\n",
       " x75,\n",
       " x76,\n",
       " x77,\n",
       " x78,\n",
       " x79,\n",
       " x80,\n",
       " x81,\n",
       " x82,\n",
       " x83,\n",
       " x84,\n",
       " x85,\n",
       " x86,\n",
       " x87,\n",
       " x88,\n",
       " x89,\n",
       " x90,\n",
       " x91,\n",
       " x92,\n",
       " x93,\n",
       " x94,\n",
       " x95,\n",
       " x96,\n",
       " x97,\n",
       " x98,\n",
       " x99,\n",
       " e0,\n",
       " e1,\n",
       " e2,\n",
       " e3,\n",
       " e4,\n",
       " e5,\n",
       " e6,\n",
       " e7,\n",
       " e8,\n",
       " e9,\n",
       " e10,\n",
       " e11,\n",
       " e12,\n",
       " e13,\n",
       " e14,\n",
       " e15,\n",
       " e16,\n",
       " e17,\n",
       " e18,\n",
       " e19,\n",
       " e20,\n",
       " e21,\n",
       " e22,\n",
       " e23,\n",
       " e24,\n",
       " e25,\n",
       " e26,\n",
       " e27,\n",
       " e28,\n",
       " e29,\n",
       " e30,\n",
       " e31,\n",
       " e32,\n",
       " e33,\n",
       " e34,\n",
       " e35,\n",
       " e36,\n",
       " e37,\n",
       " e38,\n",
       " e39,\n",
       " e40,\n",
       " e41,\n",
       " e42,\n",
       " e43,\n",
       " e44,\n",
       " e45,\n",
       " e46,\n",
       " e47,\n",
       " e48,\n",
       " e49,\n",
       " e50,\n",
       " e51,\n",
       " e52,\n",
       " e53,\n",
       " e54,\n",
       " e55,\n",
       " e56,\n",
       " e57,\n",
       " e58,\n",
       " e59,\n",
       " e60,\n",
       " e61,\n",
       " e62,\n",
       " e63,\n",
       " e64,\n",
       " e65,\n",
       " e66,\n",
       " e67,\n",
       " e68,\n",
       " e69,\n",
       " e70,\n",
       " e71,\n",
       " e72,\n",
       " e73,\n",
       " e74,\n",
       " e75,\n",
       " e76,\n",
       " e77,\n",
       " e78,\n",
       " e79,\n",
       " e80,\n",
       " e81,\n",
       " e82,\n",
       " e83,\n",
       " e84,\n",
       " e85,\n",
       " e86,\n",
       " e87,\n",
       " e88,\n",
       " e89,\n",
       " e90,\n",
       " e91,\n",
       " e92,\n",
       " e93,\n",
       " e94,\n",
       " e95,\n",
       " e96,\n",
       " e97,\n",
       " e98,\n",
       " e99,\n",
       " s1,\n",
       " s2,\n",
       " n)"
      ]
     },
     "execution_count": 3,
     "metadata": {},
     "output_type": "execute_result"
    }
   ],
   "source": [
    "var(var_list+[\"n\"])"
   ]
  },
  {
   "cell_type": "code",
   "execution_count": 8,
   "id": "2d318d92",
   "metadata": {},
   "outputs": [],
   "source": [
    "e = SymmetricFunctions(QQ).e()"
   ]
  },
  {
   "cell_type": "code",
   "execution_count": 9,
   "id": "6db88793",
   "metadata": {},
   "outputs": [],
   "source": [
    "def ele_dict_norm(deg):\n",
    "        es=[e[i].expand(deg) for i in range(0,deg+1)]\n",
    "        coe=list([eval(\"e\"+str(i)) for i in range(0,deg+1)])\n",
    "        return dict(zip(coe,es))"
   ]
  },
  {
   "cell_type": "code",
   "execution_count": 10,
   "id": "9540e6f6",
   "metadata": {},
   "outputs": [],
   "source": [
    "h = SymmetricFunctions(QQ).h()"
   ]
  },
  {
   "cell_type": "code",
   "execution_count": 11,
   "id": "b1025885",
   "metadata": {},
   "outputs": [],
   "source": [
    "def h_dict_norm(deg):\n",
    "        es=[h[i].expand(deg) for i in range(0,deg+1)]\n",
    "        coe=list([eval(\"e\"+str(i)) for i in range(0,deg+1)])\n",
    "        return dict(zip(coe,es))"
   ]
  },
  {
   "cell_type": "code",
   "execution_count": 6,
   "id": "3103e21f",
   "metadata": {},
   "outputs": [],
   "source": [
    "def asum_ex(n):\n",
    "    return sum((-1)**k * (n-k-1)*(n-k)/2 * x0**(n-k-2) *eval(\"e\"+str(k)) for k in [0..(n-2)])\n",
    "def bsum_ex(n):\n",
    "    return sum((-1)**k * k*(n-k) * x0**(n-k-1) *eval(\"e\"+str(k)) for k in [1..(n-1)])\n",
    "def csum_ex(n):\n",
    "    return sum((-1)**k * k*(k-1)/2 * x0**(n-k) *eval(\"e\"+str(k)) for k in [2..(n)])"
   ]
  },
  {
   "cell_type": "code",
   "execution_count": 13,
   "id": "48a0f10b",
   "metadata": {},
   "outputs": [
    {
     "name": "stdout",
     "output_type": "stream",
     "text": [
      "4*(x0 - x1)^2*(x0 - x2)^2\n",
      "9*(x0 - x1)^2*(x0 - x2)^2*(x0 - x3)^2\n",
      "16*(x0 - x1)^2*(x0 - x2)^2*(x0 - x3)^2*(x0 - x4)^2\n",
      "25*(x0 - x1)^2*(x0 - x2)^2*(x0 - x3)^2*(x0 - x4)^2*(x0 - x5)^2\n",
      "36*(x0 - x1)^2*(x0 - x2)^2*(x0 - x3)^2*(x0 - x4)^2*(x0 - x5)^2*(x0 - x6)^2\n",
      "49*(x0 - x1)^2*(x0 - x2)^2*(x0 - x3)^2*(x0 - x4)^2*(x0 - x5)^2*(x0 - x6)^2*(x0 - x7)^2\n"
     ]
    }
   ],
   "source": [
    "for j in range(3,9):\n",
    "    formula=bsum_ex(j)**2-4*asum_ex(j)*csum_ex(j)\n",
    "    che=formula.subs(ele_dict_norm(j)).full_simplify().factor()\n",
    "    print(che)"
   ]
  },
  {
   "cell_type": "code",
   "execution_count": 18,
   "id": "b791f0ee",
   "metadata": {},
   "outputs": [],
   "source": [
    "prior=bsum_ex(4).subs(ele_dict_norm(4)).full_simplify().factor()-3*(x0 - x1)*(x0 - x2)*(x0 - x3)"
   ]
  },
  {
   "cell_type": "code",
   "execution_count": 20,
   "id": "20e21aa7",
   "metadata": {},
   "outputs": [
    {
     "data": {
      "text/plain": [
       "-2*(3*x0^2 - 2*x0*x1 - 2*x0*x2 + x1*x2 - 2*x0*x3 + x1*x3 + x2*x3)*x0"
      ]
     },
     "execution_count": 20,
     "metadata": {},
     "output_type": "execute_result"
    }
   ],
   "source": [
    "prior.full_simplify().factor()"
   ]
  },
  {
   "cell_type": "code",
   "execution_count": 21,
   "id": "720e1c4f",
   "metadata": {},
   "outputs": [
    {
     "data": {
      "text/plain": [
       "3*x0^2 - 2*x0*x1 - 2*x0*x2 + x1*x2 - 2*x0*x3 + x1*x3 + x2*x3"
      ]
     },
     "execution_count": 21,
     "metadata": {},
     "output_type": "execute_result"
    }
   ],
   "source": [
    "asum_ex(4).subs(ele_dict_norm(4)).full_simplify().factor()"
   ]
  },
  {
   "cell_type": "code",
   "execution_count": 26,
   "id": "c13171c0",
   "metadata": {},
   "outputs": [],
   "source": [
    "prior2=bsum_ex(4).subs(ele_dict_norm(4)).full_simplify().factor()+3*(x0 - x1)*(x0 - x2)*(x0 - x3)"
   ]
  },
  {
   "cell_type": "code",
   "execution_count": 28,
   "id": "469d3b1c",
   "metadata": {},
   "outputs": [
    {
     "data": {
      "text/plain": [
       "-x0^2*x1 - x0^2*x2 + 2*x0*x1*x2 - x0^2*x3 + 2*x0*x1*x3 + 2*x0*x2*x3 - 3*x1*x2*x3"
      ]
     },
     "execution_count": 28,
     "metadata": {},
     "output_type": "execute_result"
    }
   ],
   "source": [
    "prior2.full_simplify().factor()/2"
   ]
  },
  {
   "cell_type": "code",
   "execution_count": 24,
   "id": "57cab994",
   "metadata": {},
   "outputs": [
    {
     "data": {
      "text/plain": [
       "(x0^2*x1 + x0^2*x2 - 2*x0*x1*x2 + x0^2*x3 - 2*x0*x1*x3 - 2*x0*x2*x3 + 3*x1*x2*x3)*x0"
      ]
     },
     "execution_count": 24,
     "metadata": {},
     "output_type": "execute_result"
    }
   ],
   "source": [
    "csum_ex(4).subs(ele_dict_norm(4)).full_simplify().factor()"
   ]
  },
  {
   "cell_type": "code",
   "execution_count": null,
   "id": "4435f7ed",
   "metadata": {},
   "outputs": [],
   "source": []
  }
 ],
 "metadata": {
  "kernelspec": {
   "display_name": "SageMath 9.7 [conda env:sagemath]",
   "language": "sage",
   "name": "conda-env-sagemath-sagemath"
  },
  "language_info": {
   "codemirror_mode": {
    "name": "ipython",
    "version": 3
   },
   "file_extension": ".py",
   "mimetype": "text/x-python",
   "name": "python",
   "nbconvert_exporter": "python",
   "pygments_lexer": "ipython3",
   "version": "3.10.4"
  }
 },
 "nbformat": 4,
 "nbformat_minor": 5
}
