{
 "cells": [
  {
   "cell_type": "code",
   "execution_count": 121,
   "id": "8040fb62",
   "metadata": {},
   "outputs": [
    {
     "data": {
      "text/plain": [
       "(u,\n",
       " v,\n",
       " w,\n",
       " x,\n",
       " y,\n",
       " z,\n",
       " w,\n",
       " a,\n",
       " b,\n",
       " c,\n",
       " d,\n",
       " t,\n",
       " o,\n",
       " p,\n",
       " q,\n",
       " n,\n",
       " x_1,\n",
       " x_2,\n",
       " x_3,\n",
       " m_1,\n",
       " m_2,\n",
       " m_3,\n",
       " n_1,\n",
       " n_2,\n",
       " n_3,\n",
       " l_1,\n",
       " l_2,\n",
       " l_3,\n",
       " alpha,\n",
       " aux,\n",
       " ratio,\n",
       " pos1,\n",
       " pos2)"
      ]
     },
     "execution_count": 121,
     "metadata": {},
     "output_type": "execute_result"
    }
   ],
   "source": [
    "var('u,v,,w,x,y,z,w,a,b,c,d,t,o,p,q,n,x_1,x_2,x_3,m_1,m_2,m_3,n_1,n_2,n_3,l_1,l_2,l_3,alpha,aux,ratio, pos1,pos2')"
   ]
  },
  {
   "cell_type": "code",
   "execution_count": 23,
   "id": "7a54b997",
   "metadata": {},
   "outputs": [],
   "source": [
    "#from sage.symbolic.expression_conversions import PolynomialConverter"
   ]
  },
  {
   "cell_type": "code",
   "execution_count": 24,
   "id": "1392e8ba",
   "metadata": {},
   "outputs": [],
   "source": [
    "def mycollect(e1, e2):\n",
    "    \"\"\"\n",
    "    Collects e2 coefficients in e1, even when e2 is not a factor of\n",
    "    some of the terms of e1\n",
    "    \"\"\"\n",
    "    g = maxima_calculus.gensym()._sage_()\n",
    "    while g in e1.variables(): g = maxima_calculus.gensym()._sage_()\n",
    "    return sum([v[0]*g^v[1]\n",
    "                for v in e1.subs(e2==g).coefficients(g)]).subs(g==e2)"
   ]
  },
  {
   "cell_type": "code",
   "execution_count": 25,
   "id": "5e0b6d85",
   "metadata": {},
   "outputs": [
    {
     "data": {
      "text/plain": [
       "(a0, a1, a2, a3, a4, a5, a6, a7, a8, a9)"
      ]
     },
     "execution_count": 25,
     "metadata": {},
     "output_type": "execute_result"
    }
   ],
   "source": [
    "slist=[]\n",
    "for i in range(0,10):\n",
    "    slist.append('a'+str(i))\n",
    "var(slist)"
   ]
  },
  {
   "cell_type": "code",
   "execution_count": 26,
   "id": "9d86d75f",
   "metadata": {},
   "outputs": [],
   "source": [
    "def g(t,n,pos1,pos2,shift):\n",
    "    return (eval(\"a\"+str(pos1))-eval(\"a\"+str(pos2)))/(pos2-pos1)*((t-shift)-(n-pos1))+eval(\"a\"+str(pos1))"
   ]
  },
  {
   "cell_type": "markdown",
   "id": "512daba8",
   "metadata": {},
   "source": [
    "slist=[]\n",
    "for i in range(0,8):\n",
    "    slist.append('a'+str(i))"
   ]
  },
  {
   "cell_type": "markdown",
   "id": "20473302",
   "metadata": {},
   "source": [
    "var(slist)"
   ]
  },
  {
   "cell_type": "markdown",
   "id": "bbb27d57",
   "metadata": {},
   "source": [
    "from sympy import Function,rsolve\n",
    "#from sympy.abc import n\n",
    "#from sympy import symbols\n",
    "#a,b,c,x,y = symbols('a,b,c,x,y')"
   ]
  },
  {
   "cell_type": "markdown",
   "id": "9e430d31",
   "metadata": {},
   "source": []
  },
  {
   "cell_type": "markdown",
   "id": "acfa0302",
   "metadata": {},
   "source": [
    "rsolve?"
   ]
  },
  {
   "cell_type": "markdown",
   "id": "007fc739",
   "metadata": {},
   "source": [
    "y = Function('y')"
   ]
  },
  {
   "cell_type": "markdown",
   "id": "1471fdad",
   "metadata": {},
   "source": [
    "f = y(n)+b*y(n-1)+c*y(n-2)"
   ]
  },
  {
   "cell_type": "markdown",
   "id": "4e5038f0",
   "metadata": {},
   "source": [
    "ex=rsolve(f, y(n))"
   ]
  },
  {
   "cell_type": "markdown",
   "id": "b0839994",
   "metadata": {},
   "source": []
  },
  {
   "cell_type": "markdown",
   "id": "3961b216",
   "metadata": {},
   "source": []
  },
  {
   "cell_type": "code",
   "execution_count": 27,
   "id": "c9b8f701",
   "metadata": {},
   "outputs": [],
   "source": [
    "#case 1"
   ]
  },
  {
   "cell_type": "code",
   "execution_count": 28,
   "id": "e2847971",
   "metadata": {},
   "outputs": [],
   "source": [
    "expresion=g(t,n,0,1,0)+b*g(t,n,1,2,0)+c*g(t,n,2,3,0)"
   ]
  },
  {
   "cell_type": "code",
   "execution_count": null,
   "id": "7bad0715",
   "metadata": {},
   "outputs": [],
   "source": []
  },
  {
   "cell_type": "code",
   "execution_count": 29,
   "id": "87abc67d",
   "metadata": {},
   "outputs": [],
   "source": [
    "expresion2=expresion.simplify_full().factor()"
   ]
  },
  {
   "cell_type": "code",
   "execution_count": 30,
   "id": "b99b8932",
   "metadata": {},
   "outputs": [],
   "source": [
    "con1=((a0+b*a1+c*a2)*(t-n)).factor()"
   ]
  },
  {
   "cell_type": "code",
   "execution_count": 31,
   "id": "1dc94271",
   "metadata": {},
   "outputs": [],
   "source": [
    "reduced1=(expresion2-(a0+b*a1+c*a2)-(a0+b*a1+c*a2)*(t-n)+(a1+b*a2+c*a3)*(t-n)).simplify_full()"
   ]
  },
  {
   "cell_type": "code",
   "execution_count": 32,
   "id": "640f282c",
   "metadata": {},
   "outputs": [
    {
     "data": {
      "text/plain": [
       "(a1 - a2)*b + 2*(a2 - a3)*c"
      ]
     },
     "execution_count": 32,
     "metadata": {},
     "output_type": "execute_result"
    }
   ],
   "source": [
    "reduced1"
   ]
  },
  {
   "cell_type": "code",
   "execution_count": 33,
   "id": "883191bc",
   "metadata": {},
   "outputs": [],
   "source": [
    "l_1=0\n",
    "l_3=0\n",
    "n_2=2\n",
    "n_3=0\n",
    "m_2=0\n",
    "n_1=l_2+2\n",
    "m_1=1\n",
    "m_3=l_2+4\n",
    "##### ------\n",
    "l_2=-4"
   ]
  },
  {
   "cell_type": "code",
   "execution_count": 34,
   "id": "ca60db4a",
   "metadata": {},
   "outputs": [],
   "source": [
    "o=(m_1*b+m_2*c+m_3)\n",
    "p=(n_1*b+n_2*c+n_3)\n",
    "q=(l_1*b+l_2*c+l_3)"
   ]
  },
  {
   "cell_type": "code",
   "execution_count": 52,
   "id": "a6cec2b8",
   "metadata": {},
   "outputs": [],
   "source": [
    "reduced1=o*a1+p*a2+q*a3"
   ]
  },
  {
   "cell_type": "code",
   "execution_count": 108,
   "id": "90f43400",
   "metadata": {},
   "outputs": [],
   "source": []
  },
  {
   "cell_type": "code",
   "execution_count": 138,
   "id": "cdb54b98",
   "metadata": {},
   "outputs": [],
   "source": [
    "reduced1=(a1 - alpha*a2)*b + 2*(a2 - alpha*a3)*c"
   ]
  },
  {
   "cell_type": "code",
   "execution_count": 139,
   "id": "d894e8e0",
   "metadata": {},
   "outputs": [
    {
     "data": {
      "text/plain": [
       "-2*a3*alpha*c - (a2*alpha - a1)*b + 2*a2*c"
      ]
     },
     "execution_count": 139,
     "metadata": {},
     "output_type": "execute_result"
    }
   ],
   "source": [
    "mycollect(reduced1,a3)"
   ]
  },
  {
   "cell_type": "code",
   "execution_count": 140,
   "id": "fac05afb",
   "metadata": {},
   "outputs": [],
   "source": [
    "reduced2=(reduced1+2*alpha*(a1+b*a2+c*a3)).full_simplify()"
   ]
  },
  {
   "cell_type": "code",
   "execution_count": 141,
   "id": "63fa4fc3",
   "metadata": {},
   "outputs": [],
   "source": [
    "#reduced2=(reduced1-((b*l_1 + c*l_2 + l_3)/c)*(a1+b*a2+c*a3)).full_simplify()"
   ]
  },
  {
   "cell_type": "code",
   "execution_count": 142,
   "id": "720a5c5b",
   "metadata": {},
   "outputs": [
    {
     "data": {
      "text/plain": [
       "2*a1*alpha + (a2*alpha + a1)*b + 2*a2*c"
      ]
     },
     "execution_count": 142,
     "metadata": {},
     "output_type": "execute_result"
    }
   ],
   "source": [
    "reduced2"
   ]
  },
  {
   "cell_type": "code",
   "execution_count": 143,
   "id": "cd816695",
   "metadata": {},
   "outputs": [],
   "source": [
    "reduced3=reduced2.subs({a1:ratio*a2})"
   ]
  },
  {
   "cell_type": "code",
   "execution_count": 144,
   "id": "8dc51247",
   "metadata": {},
   "outputs": [],
   "source": [
    "sreduced=solve(reduced3==0, ratio)"
   ]
  },
  {
   "cell_type": "code",
   "execution_count": 145,
   "id": "a2554b01",
   "metadata": {},
   "outputs": [
    {
     "data": {
      "text/plain": [
       "[ratio == -(alpha*b + 2*c)/(2*alpha + b)]"
      ]
     },
     "execution_count": 145,
     "metadata": {},
     "output_type": "execute_result"
    }
   ],
   "source": [
    "sreduced"
   ]
  },
  {
   "cell_type": "code",
   "execution_count": 146,
   "id": "8e831846",
   "metadata": {},
   "outputs": [],
   "source": [
    "mainratio=sreduced[0].rhs()"
   ]
  },
  {
   "cell_type": "code",
   "execution_count": 147,
   "id": "576c0be2",
   "metadata": {},
   "outputs": [
    {
     "data": {
      "text/plain": [
       "-(b + 2*c)/(b + 2)"
      ]
     },
     "execution_count": 147,
     "metadata": {},
     "output_type": "execute_result"
    }
   ],
   "source": [
    "mainratio.subs({alpha:1}).full_simplify()"
   ]
  },
  {
   "cell_type": "code",
   "execution_count": 148,
   "id": "05a206e1",
   "metadata": {},
   "outputs": [],
   "source": [
    "mainpre=(mainratio^2+b*mainratio+c).full_simplify().factor()"
   ]
  },
  {
   "cell_type": "code",
   "execution_count": 150,
   "id": "eff8f5d8",
   "metadata": {},
   "outputs": [
    {
     "data": {
      "text/plain": [
       "-(alpha^2 + alpha*b + c)*(b^2 - 4*c)/(2*alpha + b)^2"
      ]
     },
     "execution_count": 150,
     "metadata": {},
     "output_type": "execute_result"
    }
   ],
   "source": [
    "mainpre"
   ]
  },
  {
   "cell_type": "code",
   "execution_count": null,
   "id": "40cb6d46",
   "metadata": {},
   "outputs": [],
   "source": []
  },
  {
   "cell_type": "code",
   "execution_count": 149,
   "id": "ff3ef8ba",
   "metadata": {},
   "outputs": [],
   "source": [
    "values=mainpre.numerator()"
   ]
  },
  {
   "cell_type": "code",
   "execution_count": 548,
   "id": "c512d22b",
   "metadata": {},
   "outputs": [],
   "source": [
    "values2=values.expand()"
   ]
  },
  {
   "cell_type": "code",
   "execution_count": 549,
   "id": "dafb09a5",
   "metadata": {},
   "outputs": [
    {
     "data": {
      "text/plain": [
       "-2*b^3 - b^2*(c + 4) + 8*b*c + 4*c^2 + 16*c"
      ]
     },
     "execution_count": 549,
     "metadata": {},
     "output_type": "execute_result"
    }
   ],
   "source": [
    "mycollect(values2,b)"
   ]
  },
  {
   "cell_type": "code",
   "execution_count": 550,
   "id": "b161b7b3",
   "metadata": {},
   "outputs": [],
   "source": [
    "eq1=-(- 2*l_2 + 2*m_3 - 4)==-4\n",
    "eq2=(l_2 - m_3)^2==16"
   ]
  },
  {
   "cell_type": "code",
   "execution_count": 522,
   "id": "b607a361",
   "metadata": {},
   "outputs": [
    {
     "data": {
      "text/plain": [
       "[[l_2 == r3, m_3 == r3 + 4]]"
      ]
     },
     "execution_count": 522,
     "metadata": {},
     "output_type": "execute_result"
    }
   ],
   "source": [
    "solve([eq1,eq2],l_2,m_3)"
   ]
  },
  {
   "cell_type": "code",
   "execution_count": 470,
   "id": "f08b1f44",
   "metadata": {},
   "outputs": [],
   "source": [
    "mex1=(l_2*m_1 - m_1*n_1)==-2\n",
    "mex2=(l_2*m_2 + l_2*m_3 - l_2*n_1 - m_2*n_1 - m_3*n_1 + n_1^2)==-4\n",
    "mex3=(m_1^2 - 2*m_1)==-1\n",
    "mex4=-2*(l_2*m_1 - m_1*m_2 - m_1*m_3 + l_2 + m_2 + m_3 - 2*n_1)==8\n",
    "mex5=(l_2 - m_2 - m_3)^2==16"
   ]
  },
  {
   "cell_type": "code",
   "execution_count": 313,
   "id": "669342e4",
   "metadata": {},
   "outputs": [
    {
     "data": {
      "text/plain": [
       "[[l_2 == r1, n_1 == r1 + 2, m_1 == 1, m_2 == r2, m_3 == r1 - r2 + 4]]"
      ]
     },
     "execution_count": 313,
     "metadata": {},
     "output_type": "execute_result"
    }
   ],
   "source": [
    "solve([mex1,mex2,mex3,mex4,mex5],l_2,n_1,m_1,m_2,m_3)"
   ]
  },
  {
   "cell_type": "code",
   "execution_count": 300,
   "id": "dc720f2c",
   "metadata": {},
   "outputs": [
    {
     "data": {
      "text/plain": [
       "-2*b^3 - b^2*c - 4*b^2 + 8*b*c + 4*c^2 + 16*c"
      ]
     },
     "execution_count": 300,
     "metadata": {},
     "output_type": "execute_result"
    }
   ],
   "source": [
    "(-(b^2-4*c)*(2*b+c+4)).expand()"
   ]
  },
  {
   "cell_type": "code",
   "execution_count": 15,
   "id": "5d4ee308",
   "metadata": {},
   "outputs": [],
   "source": [
    "#case 2, step 2, separation 1"
   ]
  },
  {
   "cell_type": "code",
   "execution_count": 105,
   "id": "7f34887e",
   "metadata": {},
   "outputs": [],
   "source": [
    "case2=(g(t,n,0,2)+b*g(t,n,1,3)+c*g(t,n,2,4))*2"
   ]
  },
  {
   "cell_type": "code",
   "execution_count": 106,
   "id": "c52f46bc",
   "metadata": {},
   "outputs": [
    {
     "data": {
      "text/plain": [
       "-((a1 - a3)*(n - t - 1) - 2*a1)*b - ((a2 - a4)*(n - t - 2) - 2*a2)*c - (a0 - a2)*(n - t) + 2*a0"
      ]
     },
     "execution_count": 106,
     "metadata": {},
     "output_type": "execute_result"
    }
   ],
   "source": [
    "case2"
   ]
  },
  {
   "cell_type": "code",
   "execution_count": 107,
   "id": "c327ed96",
   "metadata": {},
   "outputs": [],
   "source": [
    "case3=(case2-2*(a0+b*a1+c*a2)-(a0+b*a1+c*a2)*(t-n)+(a2+b*a3+c*a4)*(t-n)).full_simplify()"
   ]
  },
  {
   "cell_type": "code",
   "execution_count": 108,
   "id": "e8161d76",
   "metadata": {},
   "outputs": [
    {
     "data": {
      "text/plain": [
       "(a1 - a3)*b + 2*(a2 - a4)*c"
      ]
     },
     "execution_count": 108,
     "metadata": {},
     "output_type": "execute_result"
    }
   ],
   "source": [
    "case3=(a1 - a3)*b + 2*(a2 - a4)*c"
   ]
  },
  {
   "cell_type": "code",
   "execution_count": 19,
   "id": "a0f9c330",
   "metadata": {},
   "outputs": [],
   "source": [
    "case4=(case3+2*(a2+b*a3+c*a4)-(b/c)*(a1+b*a2+c*a3)).full_simplify()"
   ]
  },
  {
   "cell_type": "code",
   "execution_count": 20,
   "id": "a1e7a5ef",
   "metadata": {},
   "outputs": [
    {
     "data": {
      "text/plain": [
       "a1*(b - b/c) - a2*b^2/c + 2*a2*c + 2*a2"
      ]
     },
     "execution_count": 20,
     "metadata": {},
     "output_type": "execute_result"
    }
   ],
   "source": [
    "mycollect(case4,a1)"
   ]
  },
  {
   "cell_type": "code",
   "execution_count": 21,
   "id": "bf98def9",
   "metadata": {},
   "outputs": [],
   "source": [
    "rat4=(-(b^2/c - 2*c - 2) /(b - b/c)).full_simplify()"
   ]
  },
  {
   "cell_type": "code",
   "execution_count": 22,
   "id": "a91bb454",
   "metadata": {},
   "outputs": [],
   "source": [
    "rat5=(rat4^2+b*rat4+c).simplify_full().factor()"
   ]
  },
  {
   "cell_type": "code",
   "execution_count": 23,
   "id": "37250758",
   "metadata": {},
   "outputs": [
    {
     "data": {
      "text/plain": [
       "-(b^4*c - 3*b^2*c^3 - 2*b^4 + 6*b^2*c^2 - 4*c^4 + 5*b^2*c - 8*c^3 - 4*c^2)/(b^2*(c - 1)^2)"
      ]
     },
     "execution_count": 23,
     "metadata": {},
     "output_type": "execute_result"
    }
   ],
   "source": [
    "rat5"
   ]
  },
  {
   "cell_type": "code",
   "execution_count": 24,
   "id": "9929e5e2",
   "metadata": {},
   "outputs": [],
   "source": [
    "rat6=-(b^4*c - 3*b^2*c^3 - 2*b^4 + 6*b^2*c^2 - 4*c^4 + 5*b^2*c - 8*c^3 - 4*c^2)"
   ]
  },
  {
   "cell_type": "code",
   "execution_count": 25,
   "id": "2e2a625b",
   "metadata": {},
   "outputs": [],
   "source": [
    "rat7=(rat6.subs({b:-(x_1+x_2),c:x_1*x_2}))"
   ]
  },
  {
   "cell_type": "code",
   "execution_count": 26,
   "id": "a15b57b0",
   "metadata": {},
   "outputs": [],
   "source": [
    "rat8=rat7.full_simplify().factor()"
   ]
  },
  {
   "cell_type": "code",
   "execution_count": 27,
   "id": "e90a0238",
   "metadata": {},
   "outputs": [
    {
     "data": {
      "text/plain": [
       "(x_1^3*x_2 + 3*x_1^2*x_2^2 - 2*x_1^2 - x_1*x_2 - x_2^2)*(3*x_1^2*x_2^2 + x_1*x_2^3 - x_1^2 - x_1*x_2 - 2*x_2^2)"
      ]
     },
     "execution_count": 27,
     "metadata": {},
     "output_type": "execute_result"
    }
   ],
   "source": [
    "rat8"
   ]
  },
  {
   "cell_type": "code",
   "execution_count": 28,
   "id": "3ea21cd9",
   "metadata": {},
   "outputs": [],
   "source": [
    "casex2=(g(t,n,0,2)+b*g(t,n,1,3)+c*g(t,n,2,4)+d*g(t,n,3,5))*2"
   ]
  },
  {
   "cell_type": "code",
   "execution_count": 29,
   "id": "0df42191",
   "metadata": {},
   "outputs": [],
   "source": [
    "casex3=(casex2-2*(a0+b*a1+c*a2+d*a3)-(a0+b*a1+c*a2+d*a3)*(t-n)+(a2+b*a3+c*a4+d*a5)*(t-n)).full_simplify()"
   ]
  },
  {
   "cell_type": "code",
   "execution_count": 30,
   "id": "9a104fe6",
   "metadata": {},
   "outputs": [],
   "source": [
    "casex4=(casex3+3*(a2+b*a3+c*a4+d*a5)-(c/d)*(a1+b*a2+c*a3+d*a4)).full_simplify()"
   ]
  },
  {
   "cell_type": "code",
   "execution_count": 31,
   "id": "dd40ee4a",
   "metadata": {},
   "outputs": [
    {
     "data": {
      "text/plain": [
       "a1*(b - c/d) + 2*a3*b + 2*a2*c - a2*b*c/d - a3*c^2/d + 3*a3*d + 3*a2"
      ]
     },
     "execution_count": 31,
     "metadata": {},
     "output_type": "execute_result"
    }
   ],
   "source": [
    "mycollect(casex4, a1)"
   ]
  },
  {
   "cell_type": "code",
   "execution_count": 32,
   "id": "2e285a95",
   "metadata": {},
   "outputs": [
    {
     "data": {
      "text/plain": [
       "a1*b + 2*a3*b + a2*(2*c - b*c/d + 3) - a3*c^2/d + 3*a3*d - a1*c/d"
      ]
     },
     "execution_count": 32,
     "metadata": {},
     "output_type": "execute_result"
    }
   ],
   "source": [
    "mycollect(casex4, a2)"
   ]
  },
  {
   "cell_type": "code",
   "execution_count": 33,
   "id": "aa319ce4",
   "metadata": {},
   "outputs": [
    {
     "data": {
      "text/plain": [
       "a3*(2*b - c^2/d + 3*d) + a1*b + 2*a2*c - a2*b*c/d + 3*a2 - a1*c/d"
      ]
     },
     "execution_count": 33,
     "metadata": {},
     "output_type": "execute_result"
    }
   ],
   "source": [
    "mycollect(casex4, a3)"
   ]
  },
  {
   "cell_type": "code",
   "execution_count": 34,
   "id": "28e1a079",
   "metadata": {},
   "outputs": [],
   "source": [
    "seratio1=((2*c - b*c/d + 3)/(b - c/d)).full_simplify()\n",
    "seratio2=((2*b - c^2/d + 3*d)/(b - c/d)).full_simplify()"
   ]
  },
  {
   "cell_type": "code",
   "execution_count": 35,
   "id": "2bb000ba",
   "metadata": {},
   "outputs": [],
   "source": [
    "mainratiocom=mainratio.subs({b:seratio1,c:seratio2})"
   ]
  },
  {
   "cell_type": "code",
   "execution_count": 36,
   "id": "b5d8ea73",
   "metadata": {},
   "outputs": [],
   "source": [
    "mainratiocom2=mainratiocom.full_simplify()"
   ]
  },
  {
   "cell_type": "code",
   "execution_count": 37,
   "id": "725deee4",
   "metadata": {},
   "outputs": [
    {
     "data": {
      "text/plain": [
       "(b^3*c^3 + 2*b^2*c^4 - 10*b^3*c^2*d - 12*b^2*c^3*d + 32*b^3*c*d^2 + 12*b^2*c^2*d^2 - 4*b*c^3*d^2 - 8*c^4*d^2 - 32*b^3*d^3 + 36*b^2*c*d^3 + 48*b*c^2*d^3 + 16*c^3*d^3 - 72*b^2*d^4 - 72*b*c*d^4 - 4*b*c^4 - 8*c^5 - 3*b^2*c^2*d + 44*b*c^3*d + 48*c^4*d + 12*b^2*c*d^2 - 144*b*c^2*d^2 - 32*c^3*d^2 + 72*b*c*d^3 - 108*c^2*d^3 + 108*b*d^4 + 216*d^5 + 20*c^3*d - 9*b*c*d^2 - 126*c^2*d^2 + 54*b*d^3 + 108*c*d^3 + 108*d^4 + 27*d^3)*(b + c + d + 1)/(b*c - 2*b*d - 2*c*d + 2*c - 3*d)^3"
      ]
     },
     "execution_count": 37,
     "metadata": {},
     "output_type": "execute_result"
    }
   ],
   "source": [
    "(mainratiocom2^3+b*mainratiocom2^2+c*mainratiocom2+d).full_simplify().factor()"
   ]
  },
  {
   "cell_type": "code",
   "execution_count": 38,
   "id": "18186f91",
   "metadata": {},
   "outputs": [],
   "source": [
    "rat5=rat4.subs({b:seratio1,c:seratio2})"
   ]
  },
  {
   "cell_type": "code",
   "execution_count": 39,
   "id": "448f607f",
   "metadata": {},
   "outputs": [
    {
     "data": {
      "text/plain": [
       "-(b^2*c^2 - 2*c^4 - 30*b*d^3 - 18*d^4 - 2*c^3 - (12*b^2 - 16*c^2 - 18*c - 9)*d^2 + 2*(3*b*c^2 - b*c)*d)/(b*c^3 + 3*(2*c + 3)*d^3 - b*c^2 - (b*c - 3*b)*d^2 - (2*c^3 + (b^2 - 3)*c + c^2)*d)"
      ]
     },
     "execution_count": 39,
     "metadata": {},
     "output_type": "execute_result"
    }
   ],
   "source": [
    "rat5.full_simplify()"
   ]
  },
  {
   "cell_type": "code",
   "execution_count": 40,
   "id": "1f704814",
   "metadata": {},
   "outputs": [],
   "source": [
    "#case 3, step 1, separation 2"
   ]
  },
  {
   "cell_type": "code",
   "execution_count": 41,
   "id": "6e706e59",
   "metadata": {},
   "outputs": [],
   "source": [
    "case3=g(t,n,0,1)+b*g(t,n,2,3)+c*g(t,n,4,5)"
   ]
  },
  {
   "cell_type": "code",
   "execution_count": 42,
   "id": "ed8bfb91",
   "metadata": {},
   "outputs": [],
   "source": [
    "simcase3=(case3-(a0+b*a2+c*a4)-(t-n)*(a0+b*a2+c*a4)+(t-n)*(a1+b*a3+c*a5)).full_simplify()/2"
   ]
  },
  {
   "cell_type": "code",
   "execution_count": 43,
   "id": "e160533f",
   "metadata": {},
   "outputs": [
    {
     "data": {
      "text/plain": [
       "(a2 - a3)*b + 2*(a4 - a5)*c"
      ]
     },
     "execution_count": 43,
     "metadata": {},
     "output_type": "execute_result"
    }
   ],
   "source": [
    "simcase3"
   ]
  },
  {
   "cell_type": "code",
   "execution_count": 44,
   "id": "fbb8be19",
   "metadata": {},
   "outputs": [],
   "source": [
    "simcase4=(simcase3+(2*a3+2*b*a4+2*c*a5)).simplify_full()"
   ]
  },
  {
   "cell_type": "code",
   "execution_count": 45,
   "id": "58402b9b",
   "metadata": {},
   "outputs": [],
   "source": [
    "simcase5=mycollect(simcase4,a4)"
   ]
  },
  {
   "cell_type": "code",
   "execution_count": 46,
   "id": "db569ecc",
   "metadata": {},
   "outputs": [],
   "source": [
    "simcase6=(simcase5-(2*(b+c)*1/c*a2+2*(b+c)*1/c*b*a3+2*(b+c)*a4)).simplify_full()"
   ]
  },
  {
   "cell_type": "code",
   "execution_count": 47,
   "id": "ec68fa96",
   "metadata": {},
   "outputs": [
    {
     "data": {
      "text/plain": [
       "a2*(b - 2*b/c - 2) - 3*a3*b - 2*a3*b^2/c + 2*a3"
      ]
     },
     "execution_count": 47,
     "metadata": {},
     "output_type": "execute_result"
    }
   ],
   "source": [
    "mycollect(simcase6, a2)"
   ]
  },
  {
   "cell_type": "code",
   "execution_count": 48,
   "id": "ab24a4b0",
   "metadata": {},
   "outputs": [],
   "source": [
    "ratio6=(-(2*b^2)/c - 3*b + 2)/(b - 2*b/c - 2)"
   ]
  },
  {
   "cell_type": "code",
   "execution_count": 49,
   "id": "548b829b",
   "metadata": {},
   "outputs": [],
   "source": [
    "ratio7=ratio6.full_simplify()"
   ]
  },
  {
   "cell_type": "code",
   "execution_count": 50,
   "id": "241c2385",
   "metadata": {},
   "outputs": [
    {
     "data": {
      "text/plain": [
       "-(2*b^2 + (3*b - 2)*c)/((b - 2)*c - 2*b)"
      ]
     },
     "execution_count": 50,
     "metadata": {},
     "output_type": "execute_result"
    }
   ],
   "source": [
    "ratio7"
   ]
  },
  {
   "cell_type": "code",
   "execution_count": 51,
   "id": "ddb89621",
   "metadata": {},
   "outputs": [],
   "source": [
    "ex6=ratio7^2+b*ratio7+c"
   ]
  },
  {
   "cell_type": "code",
   "execution_count": 52,
   "id": "69c63647",
   "metadata": {},
   "outputs": [
    {
     "data": {
      "text/plain": [
       "-(2*b^4*c + 3*b^3*c^2 - b^2*c^3 - 8*b^4 - 22*b^3*c - 13*b^2*c^2 + 4*b*c^3 + 8*b^2*c + 8*b*c^2 - 4*c^3 - 4*c^2)/(b*c - 2*b - 2*c)^2"
      ]
     },
     "execution_count": 52,
     "metadata": {},
     "output_type": "execute_result"
    }
   ],
   "source": [
    "ex6.full_simplify().factor()"
   ]
  },
  {
   "cell_type": "code",
   "execution_count": 53,
   "id": "c3b6bee6",
   "metadata": {},
   "outputs": [],
   "source": [
    "bew=(-2*b^4*c + 8*b^4 - 3*b^3*c^2 + 22*b^3*c + b^2*c^3 + 13*b^2*c^2 - 8*b^2*c - 4*b*c^3 - 8*b*c^2 + 4*c^3 + 4*c^2)"
   ]
  },
  {
   "cell_type": "code",
   "execution_count": 54,
   "id": "d39b37d2",
   "metadata": {},
   "outputs": [],
   "source": [
    "bew2=bew.subs({b:-(x_1+x_2),c:x_1*x_2})"
   ]
  },
  {
   "cell_type": "code",
   "execution_count": 55,
   "id": "3dd5c753",
   "metadata": {},
   "outputs": [],
   "source": [
    "bew3=bew2.full_simplify().factor()"
   ]
  },
  {
   "cell_type": "code",
   "execution_count": 56,
   "id": "37698f95",
   "metadata": {},
   "outputs": [
    {
     "data": {
      "text/plain": [
       "0"
      ]
     },
     "execution_count": 56,
     "metadata": {},
     "output_type": "execute_result"
    }
   ],
   "source": [
    "bew3.subs({x_1:-5,x_2:-5})"
   ]
  },
  {
   "cell_type": "code",
   "execution_count": 57,
   "id": "4ec67b90",
   "metadata": {},
   "outputs": [],
   "source": [
    "cl3=g(t,n,0,1)+b*g(t,n,2,3)+c*g(t,n,4,5)+d*g(t,n,6,7)"
   ]
  },
  {
   "cell_type": "code",
   "execution_count": null,
   "id": "a18f0906",
   "metadata": {},
   "outputs": [],
   "source": []
  },
  {
   "cell_type": "code",
   "execution_count": 58,
   "id": "8d6399ef",
   "metadata": {},
   "outputs": [],
   "source": [
    "scl3=(cl3-(a0+b*a2+c*a4+d*a6)-(t-n)*(a0+b*a2+c*a4+d*a6)+(t-n)*(a1+b*a3+c*a5+d*a7)).full_simplify()/2"
   ]
  },
  {
   "cell_type": "code",
   "execution_count": 59,
   "id": "a60ee8be",
   "metadata": {},
   "outputs": [
    {
     "data": {
      "text/plain": [
       "(a2 - a3)*b + 2*(a4 - a5)*c + 3*(a6 - a7)*d"
      ]
     },
     "execution_count": 59,
     "metadata": {},
     "output_type": "execute_result"
    }
   ],
   "source": [
    "scl3"
   ]
  },
  {
   "cell_type": "code",
   "execution_count": 60,
   "id": "5b03a4e7",
   "metadata": {},
   "outputs": [],
   "source": [
    "scl4=(scl3+(3*a4+3*b*a5+3*c*a6+3*d*a7)-(3/d*(c+d))*(a3+b*a4+c*a5+d*a6)-(1/d*(3*b - 5*c - 3*c^2/d))*(a2+b*a3+c*a4+d*a5)).simplify_full()"
   ]
  },
  {
   "cell_type": "code",
   "execution_count": 61,
   "id": "477193df",
   "metadata": {},
   "outputs": [
    {
     "data": {
      "text/plain": [
       "(3*a4*c^3 + 3*(a3*b + a2)*c^2 + ((a2 - a3 - 3*a4)*b + 2*a4*c - 3*a3 + 3*a4)*d^2 - (3*a3*b^2 - 5*a4*c^2 + 3*a2*b - ((5*a3 - 6*a4)*b + 5*a2 - 3*a3)*c)*d)/d^2"
      ]
     },
     "execution_count": 61,
     "metadata": {},
     "output_type": "execute_result"
    }
   ],
   "source": [
    "scl4.simplify_full()"
   ]
  },
  {
   "cell_type": "code",
   "execution_count": 62,
   "id": "0d70e1a5",
   "metadata": {},
   "outputs": [
    {
     "data": {
      "text/plain": [
       "-a4*(3*b - 2*c - 3*c^3/d^2 + 6*b*c/d - 5*c^2/d - 3) + a2*b - a3*b + 3*a3*b*c^2/d^2 - 3*a3*b^2/d + 5*a3*b*c/d - 3*a3 + 3*a2*c^2/d^2 - 3*a2*b/d + 5*a2*c/d - 3*a3*c/d"
      ]
     },
     "execution_count": 62,
     "metadata": {},
     "output_type": "execute_result"
    }
   ],
   "source": [
    "mycollect(scl4,a4)"
   ]
  },
  {
   "cell_type": "code",
   "execution_count": 63,
   "id": "a8b1a819",
   "metadata": {},
   "outputs": [],
   "source": [
    "ratios1=(-(b - 3*b*c^2/d^2 + 3*b^2/d - 5*b*c/d + 3*c/d + 3)/(b + 3*c^2/d^2 - 3*b/d + 5*c/d)).full_simplify()\n",
    "ratios2=(-(3*b - 2*c - 3*c^3/d^2 + 6*b*c/d - 5*c^2/d - 3)/(b + 3*c^2/d^2 - 3*b/d + 5*c/d)).full_simplify()"
   ]
  },
  {
   "cell_type": "code",
   "execution_count": 64,
   "id": "c71c34fd",
   "metadata": {},
   "outputs": [],
   "source": [
    "ratio8=ratio7.subs({b:ratios1,c:ratios2}).full_simplify()"
   ]
  },
  {
   "cell_type": "code",
   "execution_count": 65,
   "id": "02d074cf",
   "metadata": {},
   "outputs": [
    {
     "data": {
      "text/plain": [
       "-(18*b^2*c^4 + 9*(3*b - 2)*c^5 + (17*b^2 - 2*(5*b + 9)*c + 24*b - 9)*d^4 + (39*b^3 + (5*b - 83)*c^2 - 9*b^2 - (53*b^2 - 120*b + 21)*c + 18*b)*d^3 + (18*b^4 - 6*b^3*c + 2*(39*b - 67)*c^3 - 31*(4*b^2 - 3*b)*c^2)*d^2 - 3*(12*b^3*c^2 - (30*b - 29)*c^4 + (7*b^2 - 6*b)*c^3)*d)/(9*(b - 2)*c^5 - 18*b*c^4 + (11*b^2 - 6*(b + 1)*c + 6*b - 9)*d^4 + (15*b^3 - (5*b + 41)*c^2 - 33*b^2 - (13*b^2 - 100*b + 9)*c)*d^3 + (2*(11*b - 43)*c^3 - 18*b^3 - (60*b^2 - 91*b - 30)*c^2 + 6*(3*b^3 + 4*b^2 - 3*b)*c)*d^2 + 3*((10*b - 23)*c^4 + 12*b^2*c^2 - (9*b^2 + 2*b - 6)*c^3)*d)"
      ]
     },
     "execution_count": 65,
     "metadata": {},
     "output_type": "execute_result"
    }
   ],
   "source": [
    "ratio8"
   ]
  },
  {
   "cell_type": "code",
   "execution_count": 66,
   "id": "f2356a42",
   "metadata": {},
   "outputs": [],
   "source": [
    "#case 4, step 2, separation 2"
   ]
  },
  {
   "cell_type": "code",
   "execution_count": 24,
   "id": "7115ae4c",
   "metadata": {},
   "outputs": [],
   "source": [
    "case4=(g(t,n,0,2)+b*g(t,n,2,4)+c*g(t,n,4,6))*2"
   ]
  },
  {
   "cell_type": "code",
   "execution_count": 25,
   "id": "2c08f267",
   "metadata": {},
   "outputs": [],
   "source": [
    "recase4=(case4-2*(a0+b*a2+c*a4)-(t-n)*(a0+b*a2+c*a4)+(t-n)*(a2+b*a4+c*a6)).full_simplify()/2"
   ]
  },
  {
   "cell_type": "code",
   "execution_count": 47,
   "id": "7e2491de",
   "metadata": {},
   "outputs": [
    {
     "data": {
      "text/plain": [
       "a2*b - a4*b + 2*a4*c - 2*a6*c"
      ]
     },
     "execution_count": 47,
     "metadata": {},
     "output_type": "execute_result"
    }
   ],
   "source": [
    "recase4.expand()"
   ]
  },
  {
   "cell_type": "code",
   "execution_count": null,
   "id": "361237e8",
   "metadata": {},
   "outputs": [],
   "source": [
    "a1*b+(2c-b)*a2-2*a3"
   ]
  },
  {
   "cell_type": "code",
   "execution_count": 27,
   "id": "a4961264",
   "metadata": {},
   "outputs": [],
   "source": [
    "recase5=(recase4+(2*a2+2*b*a4+2*c*a6)).full_simplify()"
   ]
  },
  {
   "cell_type": "code",
   "execution_count": 28,
   "id": "60bfe553",
   "metadata": {},
   "outputs": [
    {
     "data": {
      "text/plain": [
       "a4*(b + 2*c) + a2*b + 2*a2"
      ]
     },
     "execution_count": 28,
     "metadata": {},
     "output_type": "execute_result"
    }
   ],
   "source": [
    "mycollect(recase5,a4)"
   ]
  },
  {
   "cell_type": "code",
   "execution_count": 29,
   "id": "6c408d5e",
   "metadata": {},
   "outputs": [],
   "source": [
    "recase6=(recase5-2*(a2+b*a3+c*a4)-b/c*(a2+b*a3+c*a4)).full_simplify()"
   ]
  },
  {
   "cell_type": "code",
   "execution_count": 30,
   "id": "db943d57",
   "metadata": {},
   "outputs": [
    {
     "data": {
      "text/plain": [
       "-(a3*b^2 - (a2 - 2*a3)*b*c + a2*b)/c"
      ]
     },
     "execution_count": 30,
     "metadata": {},
     "output_type": "execute_result"
    }
   ],
   "source": [
    "recase6"
   ]
  },
  {
   "cell_type": "code",
   "execution_count": 31,
   "id": "1c6a8a1a",
   "metadata": {},
   "outputs": [
    {
     "data": {
      "text/plain": [
       "-a3*(2*b + b^2/c) + a2*b - a2*b/c"
      ]
     },
     "execution_count": 31,
     "metadata": {},
     "output_type": "execute_result"
    }
   ],
   "source": [
    "mycollect(recase6, a3)"
   ]
  },
  {
   "cell_type": "code",
   "execution_count": 32,
   "id": "b0d40dfc",
   "metadata": {},
   "outputs": [],
   "source": [
    "ratiocase4=((2*b + b^2/c)/(b - b/c)).full_simplify()"
   ]
  },
  {
   "cell_type": "code",
   "execution_count": 33,
   "id": "c96bfbcb",
   "metadata": {},
   "outputs": [
    {
     "data": {
      "text/plain": [
       "(b + 2*c)/(c - 1)"
      ]
     },
     "execution_count": 33,
     "metadata": {},
     "output_type": "execute_result"
    }
   ],
   "source": [
    "ratiocase4"
   ]
  },
  {
   "cell_type": "code",
   "execution_count": 34,
   "id": "30f3b676",
   "metadata": {},
   "outputs": [],
   "source": [
    "new=(ratiocase4^2+b*ratiocase4+c).full_simplify().factor()"
   ]
  },
  {
   "cell_type": "code",
   "execution_count": 35,
   "id": "c861806d",
   "metadata": {},
   "outputs": [
    {
     "data": {
      "text/plain": [
       "(b + c + 1)^2*c/(c - 1)^2"
      ]
     },
     "execution_count": 35,
     "metadata": {},
     "output_type": "execute_result"
    }
   ],
   "source": [
    "new"
   ]
  },
  {
   "cell_type": "code",
   "execution_count": 79,
   "id": "615f40ae",
   "metadata": {},
   "outputs": [],
   "source": [
    "new2=(b^2*c + 2*b*c^2 - c^3 - 2*b^2 - 6*b*c - 2*c^2 - c)"
   ]
  },
  {
   "cell_type": "code",
   "execution_count": 80,
   "id": "67b684a8",
   "metadata": {},
   "outputs": [],
   "source": [
    "new3=new2.subs({b:-(x_1+x_2),c:x_1*x_2})"
   ]
  },
  {
   "cell_type": "code",
   "execution_count": 81,
   "id": "01470c52",
   "metadata": {},
   "outputs": [],
   "source": [
    "new4=new3.full_simplify().factor()"
   ]
  },
  {
   "cell_type": "code",
   "execution_count": 82,
   "id": "94d36e75",
   "metadata": {},
   "outputs": [
    {
     "data": {
      "text/plain": [
       "-(x_1^2*x_2 + 2*x_1*x_2 - 2*x_1 - x_2)*(x_1*x_2^2 + 2*x_1*x_2 - x_1 - 2*x_2)"
      ]
     },
     "execution_count": 82,
     "metadata": {},
     "output_type": "execute_result"
    }
   ],
   "source": [
    "new4"
   ]
  },
  {
   "cell_type": "code",
   "execution_count": 83,
   "id": "2f769011",
   "metadata": {},
   "outputs": [
    {
     "data": {
      "text/plain": [
       "-2*(x_1^2 - 1)*(x_1 - 1)"
      ]
     },
     "execution_count": 83,
     "metadata": {},
     "output_type": "execute_result"
    }
   ],
   "source": [
    "new4.subs({x_2:1})"
   ]
  },
  {
   "cell_type": "code",
   "execution_count": 36,
   "id": "80a908ca",
   "metadata": {},
   "outputs": [],
   "source": [
    "ext4=(g(t,n,0,2)+b*g(t,n,2,4)+c*g(t,n,4,6)+d*g(t,n,6,8))*2"
   ]
  },
  {
   "cell_type": "code",
   "execution_count": 37,
   "id": "7d953dc7",
   "metadata": {},
   "outputs": [],
   "source": [
    "ext5=(ext4-2*(a0+b*a2+c*a4+d*a6)-(t-n)*(a0+b*a2+c*a4+d*a6)+(t-n)*(a2+b*a4+c*a6+d*a8)).simplify_full()/2"
   ]
  },
  {
   "cell_type": "code",
   "execution_count": 43,
   "id": "2d1f9b9d",
   "metadata": {},
   "outputs": [
    {
     "data": {
      "text/plain": [
       "(a2 - a4)*b + 2*(a4 - a6)*c + 3*(a6 - a8)*d"
      ]
     },
     "execution_count": 43,
     "metadata": {},
     "output_type": "execute_result"
    }
   ],
   "source": [
    "ext5"
   ]
  },
  {
   "cell_type": "code",
   "execution_count": 44,
   "id": "e1076273",
   "metadata": {},
   "outputs": [
    {
     "data": {
      "text/plain": [
       "a2*b - a4*b + 2*a4*c - 2*a6*c + 3*a6*d - 3*a8*d"
      ]
     },
     "execution_count": 44,
     "metadata": {},
     "output_type": "execute_result"
    }
   ],
   "source": [
    "ext5.expand()"
   ]
  },
  {
   "cell_type": "code",
   "execution_count": 38,
   "id": "d996b44d",
   "metadata": {},
   "outputs": [],
   "source": [
    "ext6=(ext5+3*(a2+b*a4+c*a6+d*a8)-(1/d*(c+3*d))*(a3+b*a4+c*a5+d*a6)+(1/d*(3*c + c^2/d))*(a2+b*a3+c*a4+d*a5)).full_simplify()"
   ]
  },
  {
   "cell_type": "code",
   "execution_count": 39,
   "id": "3712c255",
   "metadata": {},
   "outputs": [
    {
     "data": {
      "text/plain": [
       "-a4*(b - 2*c - c^3/d^2 + b*c/d - 3*c^2/d) + a2*b + a3*b*c^2/d^2 + 3*a3*b*c/d + 3*a2 - 3*a3 + a2*c^2/d^2 + 3*a2*c/d - a3*c/d"
      ]
     },
     "execution_count": 39,
     "metadata": {},
     "output_type": "execute_result"
    }
   ],
   "source": [
    "mycollect(ext6,a4)"
   ]
  },
  {
   "cell_type": "code",
   "execution_count": 40,
   "id": "6a025661",
   "metadata": {},
   "outputs": [],
   "source": [
    "rt1=((b*c^2/d^2 + 3*b*c/d - c/d - 3)/(b + c^2/d^2 + 3*c/d + 3)).full_simplify()\n",
    "rt2=(-(b - 2*c - c^3/d^2 + b*c/d - 3*c^2/d)/(b + c^2/d^2 + 3*c/d + 3)).full_simplify()"
   ]
  },
  {
   "cell_type": "code",
   "execution_count": 41,
   "id": "45d7ed9c",
   "metadata": {},
   "outputs": [
    {
     "data": {
      "text/plain": [
       "(b*c^2 + (3*b - 1)*c*d - 3*d^2)/((b + 3)*d^2 + c^2 + 3*c*d)"
      ]
     },
     "execution_count": 41,
     "metadata": {},
     "output_type": "execute_result"
    }
   ],
   "source": [
    "rt1"
   ]
  },
  {
   "cell_type": "code",
   "execution_count": 42,
   "id": "b71c7c2d",
   "metadata": {},
   "outputs": [
    {
     "data": {
      "text/plain": [
       "(c^3 - (b - 2*c)*d^2 - (b*c - 3*c^2)*d)/((b + 3)*d^2 + c^2 + 3*c*d)"
      ]
     },
     "execution_count": 42,
     "metadata": {},
     "output_type": "execute_result"
    }
   ],
   "source": [
    "rt2"
   ]
  },
  {
   "cell_type": "code",
   "execution_count": 91,
   "id": "25f2d1c0",
   "metadata": {},
   "outputs": [],
   "source": [
    "rs4=ratiocase4.subs({b:rt1,c:rt2})"
   ]
  },
  {
   "cell_type": "code",
   "execution_count": 92,
   "id": "06b3929f",
   "metadata": {},
   "outputs": [
    {
     "data": {
      "text/plain": [
       "-(b*c^2 + 2*c^3 - (2*b - 4*c + 3)*d^2 + ((b - 1)*c + 6*c^2)*d)/(c^3 - (2*b - 2*c + 3)*d^2 - c^2 - ((b + 3)*c - 3*c^2)*d)"
      ]
     },
     "execution_count": 92,
     "metadata": {},
     "output_type": "execute_result"
    }
   ],
   "source": [
    "rs4.full_simplify()"
   ]
  },
  {
   "cell_type": "code",
   "execution_count": 93,
   "id": "d48d9ead",
   "metadata": {},
   "outputs": [
    {
     "data": {
      "text/plain": [
       "(b^3*c^7 + 4*b^2*c^8 + 3*b*c^9 - 2*c^10 - b^4*c^5*d + b^3*c^6*d + 26*b^2*c^7*d + 33*b*c^8*d - 17*c^9*d - 4*b^4*c^4*d^2 - 20*b^3*c^5*d^2 + 46*b^2*c^6*d^2 + 144*b*c^7*d^2 - 57*c^8*d^2 - b^4*c^3*d^3 - 58*b^3*c^4*d^3 - 37*b^2*c^5*d^3 + 315*b*c^6*d^3 - 93*c^7*d^3 + 10*b^4*c^2*d^4 - 29*b^3*c^3*d^4 - 203*b^2*c^4*d^4 + 351*b*c^5*d^4 - 69*c^6*d^4 + 4*b^4*c*d^5 + 50*b^3*c^2*d^5 - 202*b^2*c^3*d^5 + 162*b*c^4*d^5 - 6*c^5*d^5 - 8*b^4*d^6 + 36*b^3*c*d^6 - 36*b^2*c^2*d^6 - 12*b*c^3*d^6 + 20*c^4*d^6 - 8*b^3*d^7 + 24*b^2*c*d^7 - 24*b*c^2*d^7 + 8*c^3*d^7 - 2*b^3*c^6 - 10*b^2*c^7 - 14*b*c^8 - 4*c^9 - 8*b^3*c^5*d - 62*b^2*c^6*d - 114*b*c^7*d - 38*c^8*d - b^3*c^4*d^2 - 124*b^2*c^5*d^2 - 368*b*c^6*d^2 - 146*c^7*d^2 + 30*b^3*c^3*d^3 - 38*b^2*c^4*d^3 - 594*b*c^5*d^3 - 299*c^6*d^3 + 29*b^3*c^2*d^4 + 170*b^2*c^3*d^4 - 476*b*c^4*d^4 - 368*c^5*d^4 - 20*b^3*c*d^5 + 199*b^2*c^2*d^5 - 102*b*c^3*d^5 - 293*c^4*d^5 - 28*b^3*d^6 + 36*b^2*c*d^6 + 120*b*c^2*d^6 - 148*c^3*d^6 - 36*b^2*d^7 + 72*b*c*d^7 - 36*c^2*d^7 - b*c^7 - 2*c^8 + 5*b^2*c^5*d + 9*b*c^6*d - 5*c^7*d + 29*b^2*c^4*d^2 + 101*b*c^5*d^2 + 47*c^6*d^2 + 40*b^2*c^3*d^3 + 288*b*c^4*d^3 + 263*c^5*d^3 - 29*b^2*c^2*d^4 + 287*b*c^3*d^4 + 537*c^4*d^4 - 75*b^2*c*d^5 + 531*c^3*d^5 - 18*b^2*d^6 - 135*b*c*d^6 + 261*c^2*d^6 - 54*b*d^7 + 54*c*d^7 - 4*b*c^4*d^2 - 6*c^5*d^2 - 30*b*c^3*d^3 - 57*c^4*d^3 - 69*b*c^2*d^4 - 192*c^3*d^4 - 36*b*c*d^5 - 279*c^2*d^5 + 27*b*d^6 - 162*c*d^6 - 27*d^7 + c^3*d^3 + 9*c^2*d^4 + 27*c*d^5 + 27*d^6)/(c^3 - b*c*d + 3*c^2*d - 2*b*d^2 + 2*c*d^2 - c^2 - 3*c*d - 3*d^2)^3"
      ]
     },
     "execution_count": 93,
     "metadata": {},
     "output_type": "execute_result"
    }
   ],
   "source": [
    "(rs4^3+b*rs4^2+c*rs4+d).simplify_full().factor()"
   ]
  },
  {
   "cell_type": "code",
   "execution_count": 76,
   "id": "9f117f7f",
   "metadata": {},
   "outputs": [
    {
     "data": {
      "text/plain": [
       "(step, sep)"
      ]
     },
     "execution_count": 76,
     "metadata": {},
     "output_type": "execute_result"
    }
   ],
   "source": [
    "var([\"step\",\"sep\"])"
   ]
  },
  {
   "cell_type": "code",
   "execution_count": 266,
   "id": "5d544f4b",
   "metadata": {},
   "outputs": [],
   "source": [
    "step=1\n",
    "sep=1"
   ]
  },
  {
   "cell_type": "code",
   "execution_count": 267,
   "id": "e9cc598d",
   "metadata": {},
   "outputs": [],
   "source": [
    "gen=(g(t,n,0,step,0)+b*g(t,n,sep,sep+step,0)+c*g(t,n,2*sep,(2*sep+step),0))*step"
   ]
  },
  {
   "cell_type": "code",
   "execution_count": 268,
   "id": "b49890d4",
   "metadata": {},
   "outputs": [
    {
     "data": {
      "text/plain": [
       "-((a1 - a2)*(n - t - 1) - a1)*b - ((a2 - a3)*(n - t - 2) - a2)*c - (a0 - a1)*(n - t) + a0"
      ]
     },
     "execution_count": 268,
     "metadata": {},
     "output_type": "execute_result"
    }
   ],
   "source": [
    "gen"
   ]
  },
  {
   "cell_type": "code",
   "execution_count": 269,
   "id": "b163345c",
   "metadata": {},
   "outputs": [],
   "source": [
    "regen=((gen-step*(a0+b*eval(\"a\"+str(sep))+c*eval(\"a\"+str(2*sep)))-(a0+b*eval(\"a\"+str(sep))+c*eval(\"a\"+str(2*sep)))*(t-n)+(eval(\"a\"+str(step))+b*eval(\"a\"+str(sep+step))+c*eval(\"a\"+str(2*sep+step)))*(t-n))/sep).full_simplify()"
   ]
  },
  {
   "cell_type": "code",
   "execution_count": 270,
   "id": "5f684aa2",
   "metadata": {},
   "outputs": [
    {
     "data": {
      "text/plain": [
       "(a1 - a2)*b + 2*(a2 - a3)*c"
      ]
     },
     "execution_count": 270,
     "metadata": {},
     "output_type": "execute_result"
    }
   ],
   "source": [
    "regen"
   ]
  },
  {
   "cell_type": "code",
   "execution_count": 271,
   "id": "54a5e592",
   "metadata": {},
   "outputs": [],
   "source": [
    "sumi1_1=2*(a1+b*a2+c*a3)\n",
    "sumi1_2=2*(a3+b*a4+c*a5)-(2*(b+c)/c)*(a2+b*a3+c*a4)\n",
    "sumi2_1=2*(a2+b*a3+c*a4)-(b/c)*(a1+b*a2+c*a3)\n",
    "sumi3_1=2*(a3+b*a4+c*a5)-(b/c)*(a2+b*a3+c*a4)+(a1+b*a2+ c*a3)*((b^2/c - 2)/c) \n",
    "sumi2_2=2*(a2+b*a4+c*a6)-((b+2*c)/c)*(a2+b*a3+c*a4)\n",
    "sumi3_3=2*(a3+b*a6+c*a9)-((b+2*c)/c)*(a4+b*a5+c*a6)"
   ]
  },
  {
   "cell_type": "code",
   "execution_count": 272,
   "id": "40316c11",
   "metadata": {},
   "outputs": [],
   "source": [
    "regen2=(regen+eval(\"sumi\"+str(step)+\"_\"+str(sep))).full_simplify()*c^2"
   ]
  },
  {
   "cell_type": "code",
   "execution_count": 273,
   "id": "4cbce327",
   "metadata": {},
   "outputs": [
    {
     "data": {
      "text/plain": [
       "((a1 + a2)*b + 2*a2*c + 2*a1)*c^2"
      ]
     },
     "execution_count": 273,
     "metadata": {},
     "output_type": "execute_result"
    }
   ],
   "source": [
    "mycollect(regen2,a3)"
   ]
  },
  {
   "cell_type": "code",
   "execution_count": 274,
   "id": "6c74016c",
   "metadata": {},
   "outputs": [
    {
     "data": {
      "text/plain": [
       "((a1 + a2)*b + 2*a2*c + 2*a1)*c^2"
      ]
     },
     "execution_count": 274,
     "metadata": {},
     "output_type": "execute_result"
    }
   ],
   "source": [
    "mycollect(regen2,a3)"
   ]
  },
  {
   "cell_type": "markdown",
   "id": "7338fd55",
   "metadata": {},
   "source": [
    "regen2=(regen2+((b^2 + 2*b*c)/c)*(a3+b*a4+c*a5)).full_simplify()*c"
   ]
  },
  {
   "cell_type": "markdown",
   "id": "8e6461d0",
   "metadata": {},
   "source": [
    "mycollect(regen2,a3)"
   ]
  },
  {
   "cell_type": "code",
   "execution_count": 275,
   "id": "fa9eb96c",
   "metadata": {},
   "outputs": [],
   "source": [
    "#regen3=regen2.subs({a1:ratio*a2})\n",
    "regen3=regen2.subs({a1:ratio*a2})"
   ]
  },
  {
   "cell_type": "code",
   "execution_count": 276,
   "id": "d4b4e788",
   "metadata": {},
   "outputs": [],
   "source": [
    "regen4=regen3.full_simplify()"
   ]
  },
  {
   "cell_type": "code",
   "execution_count": 277,
   "id": "40ecc161",
   "metadata": {},
   "outputs": [
    {
     "data": {
      "text/plain": [
       "a2*b*c^2 + 2*a2*c^3 + (a2*b + 2*a2)*c^2*ratio"
      ]
     },
     "execution_count": 277,
     "metadata": {},
     "output_type": "execute_result"
    }
   ],
   "source": [
    "regen4"
   ]
  },
  {
   "cell_type": "code",
   "execution_count": 278,
   "id": "21c4c80d",
   "metadata": {},
   "outputs": [],
   "source": [
    "soregen=solve(regen4==0,ratio)"
   ]
  },
  {
   "cell_type": "code",
   "execution_count": 279,
   "id": "12f3b505",
   "metadata": {},
   "outputs": [
    {
     "data": {
      "text/plain": [
       "[ratio == -(b + 2*c)/(b + 2)]"
      ]
     },
     "execution_count": 279,
     "metadata": {},
     "output_type": "execute_result"
    }
   ],
   "source": [
    "soregen"
   ]
  },
  {
   "cell_type": "code",
   "execution_count": null,
   "id": "231f4298",
   "metadata": {},
   "outputs": [],
   "source": []
  },
  {
   "cell_type": "code",
   "execution_count": 280,
   "id": "9eda7757",
   "metadata": {},
   "outputs": [],
   "source": [
    "rati=soregen[0].rhs()"
   ]
  },
  {
   "cell_type": "code",
   "execution_count": 281,
   "id": "30189b45",
   "metadata": {},
   "outputs": [],
   "source": [
    "rati=rati.factor()"
   ]
  },
  {
   "cell_type": "code",
   "execution_count": 282,
   "id": "e17a0d09",
   "metadata": {},
   "outputs": [],
   "source": [
    "ratiexp=(rati^2+b*rati+c).full_simplify().factor()"
   ]
  },
  {
   "cell_type": "code",
   "execution_count": 283,
   "id": "9fbcfebc",
   "metadata": {},
   "outputs": [
    {
     "data": {
      "text/plain": [
       "-(b^2 - 4*c)*(b + c + 1)/(b + 2)^2"
      ]
     },
     "execution_count": 283,
     "metadata": {},
     "output_type": "execute_result"
    }
   ],
   "source": [
    "ratiexp"
   ]
  },
  {
   "cell_type": "code",
   "execution_count": 263,
   "id": "465ee541",
   "metadata": {},
   "outputs": [],
   "source": [
    "extra=(2*b + c + 4)"
   ]
  },
  {
   "cell_type": "code",
   "execution_count": 306,
   "id": "a3f9d7c9",
   "metadata": {},
   "outputs": [],
   "source": [
    "equx=4*x^2+2*b*x+c==-(b^2 - 4*c)*(2*b + c + 4)/(b + 2)^2"
   ]
  },
  {
   "cell_type": "code",
   "execution_count": 307,
   "id": "6bdd8ca2",
   "metadata": {},
   "outputs": [],
   "source": [
    "equx2=(-(b^2 - 4*c)*(2*b + c + 4)/(b + 2)^2)"
   ]
  },
  {
   "cell_type": "code",
   "execution_count": null,
   "id": "9351ed5c",
   "metadata": {},
   "outputs": [],
   "source": []
  },
  {
   "cell_type": "code",
   "execution_count": 308,
   "id": "26da4e82",
   "metadata": {},
   "outputs": [
    {
     "data": {
      "text/plain": [
       "-2*b^3/(b^2 + 4*b + 4) - (b^2/(b^2 + 4*b + 4) - 8*b/(b^2 + 4*b + 4) - 16/(b^2 + 4*b + 4))*c - 4*b^2/(b^2 + 4*b + 4) + 4*c^2/(b^2 + 4*b + 4)"
      ]
     },
     "execution_count": 308,
     "metadata": {},
     "output_type": "execute_result"
    }
   ],
   "source": [
    "mycollect(equx2,c)"
   ]
  },
  {
   "cell_type": "code",
   "execution_count": 309,
   "id": "9c4111ac",
   "metadata": {},
   "outputs": [
    {
     "data": {
      "text/plain": [
       "[x == -1/4*(b^2 + 2*b + sqrt(b^4 - 4*b^3 - 12*b^2 - 8*(b^2 - 2*b - 6)*c + 16*c^2))/(b + 2), x == -1/4*(b^2 + 2*b - sqrt(b^4 - 4*b^3 - 12*b^2 - 8*(b^2 - 2*b - 6)*c + 16*c^2))/(b + 2)]"
      ]
     },
     "execution_count": 309,
     "metadata": {},
     "output_type": "execute_result"
    }
   ],
   "source": [
    "solve(equx,x)"
   ]
  },
  {
   "cell_type": "code",
   "execution_count": 264,
   "id": "9162f368",
   "metadata": {},
   "outputs": [],
   "source": [
    "extra2=extra.subs({b:-x_1-x_2,c:x_1*x_2})"
   ]
  },
  {
   "cell_type": "code",
   "execution_count": 265,
   "id": "3fd5f320",
   "metadata": {},
   "outputs": [
    {
     "data": {
      "text/plain": [
       "(x_1 - 2)*(x_2 - 2)"
      ]
     },
     "execution_count": 265,
     "metadata": {},
     "output_type": "execute_result"
    }
   ],
   "source": [
    "extra2.full_simplify().factor()"
   ]
  },
  {
   "cell_type": "code",
   "execution_count": 98,
   "id": "b86e368d",
   "metadata": {},
   "outputs": [
    {
     "data": {
      "text/plain": [
       "0"
      ]
     },
     "execution_count": 98,
     "metadata": {},
     "output_type": "execute_result"
    }
   ],
   "source": [
    "extra2.subs({x_1:1,x_2:1})"
   ]
  },
  {
   "cell_type": "code",
   "execution_count": 340,
   "id": "3ea961ce",
   "metadata": {},
   "outputs": [],
   "source": [
    "gogen=(g(t,n,0,step)+b*g(t,n,sep,sep+step)+c*g(t,n,2*sep,(2*sep+step))+d*g(t,n,3*sep,(3*sep+step)))*step"
   ]
  },
  {
   "cell_type": "code",
   "execution_count": 341,
   "id": "a1c8dc5a",
   "metadata": {},
   "outputs": [],
   "source": [
    "gogen2=((gtgen-(a0+b*a2+c*a4+d*a6)-(t-n)*(a0+b*a2+c*a4+d*a6)+(t-n)*(a1+b*a3+c*a5+d*a7))/sep).full_simplify()"
   ]
  },
  {
   "cell_type": "code",
   "execution_count": 342,
   "id": "eb80b369",
   "metadata": {},
   "outputs": [
    {
     "data": {
      "text/plain": [
       "(a2 - a3)*b + 2*(a4 - a5)*c + 3*(a6 - a7)*d"
      ]
     },
     "execution_count": 342,
     "metadata": {},
     "output_type": "execute_result"
    }
   ],
   "source": [
    "gogen2"
   ]
  },
  {
   "cell_type": "code",
   "execution_count": 348,
   "id": "81dac558",
   "metadata": {},
   "outputs": [],
   "source": [
    "sute=3*(a4+b*a5+c*a6+d*a7)-(3*(c+d)/d)*(a3+b*a4+c*a5+d*a6)"
   ]
  },
  {
   "cell_type": "code",
   "execution_count": 353,
   "id": "8c532df5",
   "metadata": {},
   "outputs": [],
   "source": [
    "gogen3=((gtgen2+sute).full_simplify().factor())*d"
   ]
  },
  {
   "cell_type": "code",
   "execution_count": 355,
   "id": "c8956188",
   "metadata": {},
   "outputs": [
    {
     "data": {
      "text/plain": [
       "-3*a4*b*c + a2*b*d - a3*b*d - 3*a4*b*d + 2*a4*c*d - (3*c^2 - 3*b*d + 5*c*d)*a5 - 3*a3*c - 3*a3*d + 3*a4*d"
      ]
     },
     "execution_count": 355,
     "metadata": {},
     "output_type": "execute_result"
    }
   ],
   "source": [
    "mycollect(gogen3,a5)"
   ]
  },
  {
   "cell_type": "code",
   "execution_count": 362,
   "id": "3efbe598",
   "metadata": {},
   "outputs": [],
   "source": [
    "gogen4=((gogen3+((3*c^2 - 3*b*d + 5*c*d)/d)*(a2+b*a3+c*a4+d*a5)).full_simplify().factor())*d"
   ]
  },
  {
   "cell_type": "code",
   "execution_count": 370,
   "id": "4a3761e9",
   "metadata": {},
   "outputs": [],
   "source": [
    "term1=mycollect(gogen4,a2).subs({a2:1,a3:0,a4:0})"
   ]
  },
  {
   "cell_type": "code",
   "execution_count": 371,
   "id": "05a97d8f",
   "metadata": {},
   "outputs": [],
   "source": [
    "term2=mycollect(gogen4,a3).subs({a2:0,a3:1,a4:0})"
   ]
  },
  {
   "cell_type": "code",
   "execution_count": 372,
   "id": "dd51cb3a",
   "metadata": {},
   "outputs": [],
   "source": [
    "term3=mycollect(gogen4,a4).subs({a2:0,a3:0,a4:1})"
   ]
  },
  {
   "cell_type": "code",
   "execution_count": 376,
   "id": "c6914628",
   "metadata": {},
   "outputs": [],
   "source": [
    "newb=(term2/term1).factor()"
   ]
  },
  {
   "cell_type": "code",
   "execution_count": 377,
   "id": "d82e7ce6",
   "metadata": {},
   "outputs": [],
   "source": [
    "newc=(term3/term1).factor()"
   ]
  },
  {
   "cell_type": "code",
   "execution_count": 380,
   "id": "78147843",
   "metadata": {},
   "outputs": [],
   "source": [
    "thrati=rati.subs({b:newb,c:newc})"
   ]
  },
  {
   "cell_type": "code",
   "execution_count": 382,
   "id": "a3cae0a4",
   "metadata": {},
   "outputs": [],
   "source": [
    "thrati=thrati.full_simplify()"
   ]
  },
  {
   "cell_type": "code",
   "execution_count": 384,
   "id": "473f8cc8",
   "metadata": {},
   "outputs": [],
   "source": [
    "thexp=thrati^2+newb*thrati+newc"
   ]
  },
  {
   "cell_type": "code",
   "execution_count": 388,
   "id": "59561708",
   "metadata": {},
   "outputs": [],
   "source": [
    "thexp2=thexp.full_simplify().numerator()"
   ]
  },
  {
   "cell_type": "code",
   "execution_count": 395,
   "id": "6088af63",
   "metadata": {},
   "outputs": [],
   "source": [
    "thexp3=(thexp2.subs({b:-x_1-x_2-x_3,c:x_1*x_2+x_1*x_3+x_2*x_3,d:x_1*x_2*x_3})).full_simplify().factor(0)"
   ]
  },
  {
   "cell_type": "code",
   "execution_count": 400,
   "id": "b2f81251",
   "metadata": {},
   "outputs": [
    {
     "data": {
      "text/plain": [
       "-4*(21*x_3^9 - 6662*x_3^8 + 9209*x_3^7 - 478764*x_3^6 - 779404*x_3^5 - 1249712*x_3^4 - 980496*x_3^3 - 324864*x_3^2 - 38016*x_3)*(3*x_3^3 - 62*x_3^2 - 100*x_3 - 24)*(x_3^2 + 26*x_3 + 12)*x_3"
      ]
     },
     "execution_count": 400,
     "metadata": {},
     "output_type": "execute_result"
    }
   ],
   "source": [
    "thexp3.subs({x_1:-2,x_2:1})"
   ]
  },
  {
   "cell_type": "code",
   "execution_count": 517,
   "id": "6d41b376",
   "metadata": {},
   "outputs": [
    {
     "data": {
      "text/plain": [
       "-(b + 2*c + 3*d)/(2*b + c + 3)"
      ]
     },
     "execution_count": 517,
     "metadata": {},
     "output_type": "execute_result"
    }
   ],
   "source": [
    "-(b+2*c+3*d)/(2*b+c+3)"
   ]
  },
  {
   "cell_type": "code",
   "execution_count": 722,
   "id": "2b895621",
   "metadata": {},
   "outputs": [],
   "source": [
    "tri=-(u*b+v*c+w*d)/(x*b+y*c+z)"
   ]
  },
  {
   "cell_type": "code",
   "execution_count": 753,
   "id": "59c686ba",
   "metadata": {},
   "outputs": [],
   "source": [
    "tri=-((v+1/2)*b+v*c+(3/4*v-3/8)*d)/((1/3*z- 1/2)*b+(1/12*z-1/4)*c+z)"
   ]
  },
  {
   "cell_type": "code",
   "execution_count": 754,
   "id": "ec6e1717",
   "metadata": {},
   "outputs": [],
   "source": [
    "#tri=-(4*b+5*c+6*d)/(2*b+c+6)"
   ]
  },
  {
   "cell_type": "code",
   "execution_count": 755,
   "id": "29cc7b9e",
   "metadata": {},
   "outputs": [],
   "source": [
    "#tri=-(4*b+5*c+6*d)/(2*b+c+9)"
   ]
  },
  {
   "cell_type": "code",
   "execution_count": 756,
   "id": "eb034445",
   "metadata": {},
   "outputs": [],
   "source": [
    "#tri=-((3+3/8)*b+2*c+(1-1/8)*d)/((4/9-1/4)*b+(2/27-1/12)*c+2)"
   ]
  },
  {
   "cell_type": "code",
   "execution_count": 757,
   "id": "a3665d3f",
   "metadata": {},
   "outputs": [
    {
     "data": {
      "text/plain": [
       "-3/2*(2*(4*b + 4*c + 3*d)*v + 4*b - 3*d)/((4*b + c + 12)*z - 6*b - 3*c)"
      ]
     },
     "execution_count": 757,
     "metadata": {},
     "output_type": "execute_result"
    }
   ],
   "source": [
    "tri.full_simplify()"
   ]
  },
  {
   "cell_type": "code",
   "execution_count": 758,
   "id": "f00fa712",
   "metadata": {},
   "outputs": [],
   "source": [
    "tri2=(tri^2+((2*c+2*b)/(b+3))*tri+(3*d + c)/(b + 3)).simplify_full().factor()"
   ]
  },
  {
   "cell_type": "code",
   "execution_count": 759,
   "id": "f301ab17",
   "metadata": {},
   "outputs": [
    {
     "data": {
      "text/plain": [
       "1/4*(576*b^3*v^2 + 1152*b^2*c*v^2 + 576*b*c^2*v^2 + 864*b^2*d*v^2 + 864*b*c*d*v^2 + 324*b*d^2*v^2 - 384*b^3*v*z - 864*b^2*c*v*z - 576*b*c^2*v*z - 96*c^3*v*z - 288*b^2*d*v*z - 360*b*c*d*v*z - 72*c^2*d*v*z + 64*b^2*c*z^2 + 32*b*c^2*z^2 + 4*c^3*z^2 + 192*b^2*d*z^2 + 96*b*c*d*z^2 + 12*c^2*d*z^2 + 1152*b^3*v + 2016*b^2*c*v + 1152*b*c^2*v + 288*c^3*v + 432*b^2*d*v + 216*b*c*d*v + 216*c^2*d*v - 324*b*d^2*v + 1728*b^2*v^2 + 3456*b*c*v^2 + 1728*c^2*v^2 + 2592*b*d*v^2 + 2592*c*d*v^2 + 972*d^2*v^2 - 192*b^3*z - 432*b^2*c*z - 192*b*c^2*z - 24*c^3*z - 432*b^2*d*z - 252*b*c*d*z - 36*c^2*d*z - 1152*b^2*v*z - 2304*b*c*v*z - 1152*c^2*v*z - 864*b*d*v*z - 864*c*d*v*z + 384*b*c*z^2 + 96*c^2*z^2 + 1152*b*d*z^2 + 288*c*d*z^2 + 432*b^3 + 576*b^2*c + 288*b*c^2 + 36*c^3 + 108*b*c*d + 81*b*d^2 + 1728*b^2*v + 1728*b*c*v - 1296*c*d*v - 972*d^2*v - 576*b^2*z - 1152*b*c*z - 288*c^2*z - 1296*b*d*z - 432*c*d*z + 576*c*z^2 + 1728*d*z^2 + 432*b^2 - 648*b*d + 243*d^2)/((4*b*z + c*z - 6*b - 3*c + 12*z)^2*(b + 3))"
      ]
     },
     "execution_count": 759,
     "metadata": {},
     "output_type": "execute_result"
    }
   ],
   "source": [
    "tri2"
   ]
  },
  {
   "cell_type": "code",
   "execution_count": 760,
   "id": "73bfe1a9",
   "metadata": {},
   "outputs": [],
   "source": [
    "numtri2=tri2.numerator()"
   ]
  },
  {
   "cell_type": "code",
   "execution_count": 761,
   "id": "0eb984cf",
   "metadata": {},
   "outputs": [
    {
     "data": {
      "text/plain": [
       "576*b^3*v^2 + 1152*b^2*c*v^2 + 576*b*c^2*v^2 + 864*b^2*d*v^2 + 864*b*c*d*v^2 + 324*b*d^2*v^2 - 384*b^3*v*z - 864*b^2*c*v*z - 576*b*c^2*v*z - 96*c^3*v*z - 288*b^2*d*v*z - 360*b*c*d*v*z - 72*c^2*d*v*z + 64*b^2*c*z^2 + 32*b*c^2*z^2 + 4*c^3*z^2 + 192*b^2*d*z^2 + 96*b*c*d*z^2 + 12*c^2*d*z^2 + 1152*b^3*v + 2016*b^2*c*v + 1152*b*c^2*v + 288*c^3*v + 432*b^2*d*v + 216*b*c*d*v + 216*c^2*d*v - 324*b*d^2*v + 1728*b^2*v^2 + 3456*b*c*v^2 + 1728*c^2*v^2 + 2592*b*d*v^2 + 2592*c*d*v^2 + 972*d^2*v^2 - 192*b^3*z - 432*b^2*c*z - 192*b*c^2*z - 24*c^3*z - 432*b^2*d*z - 252*b*c*d*z - 36*c^2*d*z - 1152*b^2*v*z - 2304*b*c*v*z - 1152*c^2*v*z - 864*b*d*v*z - 864*c*d*v*z + 384*b*c*z^2 + 96*c^2*z^2 + 1152*b*d*z^2 + 288*c*d*z^2 + 432*b^3 + 576*b^2*c + 288*b*c^2 + 36*c^3 + 108*b*c*d + 81*b*d^2 + 1728*b^2*v + 1728*b*c*v - 1296*c*d*v - 972*d^2*v - 576*b^2*z - 1152*b*c*z - 288*c^2*z - 1296*b*d*z - 432*c*d*z + 576*c*z^2 + 1728*d*z^2 + 432*b^2 - 648*b*d + 243*d^2"
      ]
     },
     "execution_count": 761,
     "metadata": {},
     "output_type": "execute_result"
    }
   ],
   "source": [
    "numtri2.factor()"
   ]
  },
  {
   "cell_type": "code",
   "execution_count": 762,
   "id": "9ddd5b7f",
   "metadata": {},
   "outputs": [],
   "source": [
    "ty=numtri2"
   ]
  },
  {
   "cell_type": "code",
   "execution_count": 763,
   "id": "8ce675b6",
   "metadata": {},
   "outputs": [],
   "source": [
    "ty2=ty.subs({b:-x_1-x_2-x_3,c:x_1*x_2+x_1*x_3+x_2*x_3,d:-x_1*x_2*x_3})"
   ]
  },
  {
   "cell_type": "code",
   "execution_count": 764,
   "id": "87127502",
   "metadata": {},
   "outputs": [],
   "source": [
    "ty3=ty2.full_simplify()"
   ]
  },
  {
   "cell_type": "code",
   "execution_count": 772,
   "id": "0a1668fa",
   "metadata": {},
   "outputs": [
    {
     "data": {
      "text/plain": [
       "-144*(4*v^2 + 8*v + 3)*x_1^3 + 36*((8*v + 1)*x_1^3 - 8*(2*v^2 + 4*v + 1)*x_1^2 - 16*v^2 + 8*(4*v^2 + 7*v + 2)*x_1 - 32*v - 12)*x_2^3 + 9*(4*(8*v + 1)*x_1^3 - 4*(6*v*x_1 - 8*v - 1)*x_2^3 - 32*(2*v^2 + 4*v + 1)*x_1^2 - (3*(12*v^2 + 4*v + 3)*x_1^2 + 64*v^2 - 24*(4*v^2 + 5*v + 1)*x_1 + 128*v + 32)*x_2^2 - 64*v^2 + 32*(4*v^2 + 7*v + 2)*x_1 - 8*(3*v*x_1^3 - 3*(4*v^2 + 5*v + 1)*x_1^2 - 16*v^2 + 2*(14*v^2 + 19*v + 4)*x_1 - 28*v - 8)*x_2 - 128*v - 48)*x_3^3 + 432*(4*v^2 + 4*v + 1)*x_1^2 - 144*(2*(2*v^2 + 4*v + 1)*x_1^3 - 4*(7*v^2 + 7*v + 2)*x_1^2 - 12*v^2 + 9*(4*v^2 + 4*v + 1)*x_1 - 12*v - 3)*x_2^2 - 9*(32*(2*v^2 + 4*v + 1)*x_1^3 + (3*(12*v^2 + 4*v + 3)*x_1^2 + 64*v^2 - 24*(4*v^2 + 5*v + 1)*x_1 + 128*v + 32)*x_2^3 - 64*(7*v^2 + 7*v + 2)*x_1^2 + (3*(12*v^2 + 4*v + 3)*x_1^3 - 3*(132*v^2 + 52*v + 29)*x_1^2 - 448*v^2 + 16*(50*v^2 + 37*v + 10)*x_1 - 448*v - 128)*x_2^2 - 192*v^2 + 144*(4*v^2 + 4*v + 1)*x_1 - 8*(3*(4*v^2 + 5*v + 1)*x_1^3 - 2*(50*v^2 + 37*v + 10)*x_1^2 - 72*v^2 + (164*v^2 + 140*v + 31)*x_1 - 72*v - 18)*x_2 - 192*v - 48)*x_3^2 + 4*((x_1^3 - 8*x_1^2 + 16*x_1)*x_2^3 - ((3*x_1 - 1)*x_2^3 - x_1^3 + (6*x_1^2 - 27*x_1 + 8)*x_2^2 + 8*x_1^2 + (3*x_1^3 - 27*x_1^2 + 64*x_1 - 16)*x_2 - 16*x_1)*x_3^3 - 8*(x_1^3 - 7*x_1^2 + 12*x_1)*x_2^2 - ((6*x_1^2 - 27*x_1 + 8)*x_2^3 + 8*x_1^3 + 2*(3*x_1^3 - 39*x_1^2 + 104*x_1 - 28)*x_2^2 - 56*x_1^2 - (27*x_1^3 - 208*x_1^2 + 416*x_1 - 96)*x_2 + 96*x_1)*x_3^2 + 16*(x_1^3 - 6*x_1^2 + 9*x_1)*x_2 - ((3*x_1^3 - 27*x_1^2 + 64*x_1 - 16)*x_2^3 - 16*x_1^3 - (27*x_1^3 - 208*x_1^2 + 416*x_1 - 96)*x_2^2 + 96*x_1^2 + 16*(4*x_1^3 - 26*x_1^2 + 45*x_1 - 9)*x_2 - 144*x_1)*x_3)*z^2 + 144*(2*(4*v^2 + 7*v + 2)*x_1^3 - 9*(4*v^2 + 4*v + 1)*x_1^2 + 6*(4*v^2 + 4*v + 1)*x_1)*x_2 + 72*(4*(4*v^2 + 7*v + 2)*x_1^3 - (3*v*x_1^3 - 3*(4*v^2 + 5*v + 1)*x_1^2 - 16*v^2 + 2*(14*v^2 + 19*v + 4)*x_1 - 28*v - 8)*x_2^3 - 18*(4*v^2 + 4*v + 1)*x_1^2 + (3*(4*v^2 + 5*v + 1)*x_1^3 - 2*(50*v^2 + 37*v + 10)*x_1^2 - 72*v^2 + (164*v^2 + 140*v + 31)*x_1 - 72*v - 18)*x_2^2 + 12*(4*v^2 + 4*v + 1)*x_1 - (2*(14*v^2 + 19*v + 4)*x_1^3 - (164*v^2 + 140*v + 31)*x_1^2 - 48*v^2 + 12*(16*v^2 + 14*v + 3)*x_1 - 48*v - 12)*x_2)*x_3 + 12*(16*(2*v + 1)*x_1^3 - 2*((4*v + 1)*x_1^3 - 8*(3*v + 1)*x_1^2 + 18*(2*v + 1)*x_1 - 16*v - 8)*x_2^3 - (2*(4*v + 1)*x_1^3 - (3*(2*v + 1)*x_1 - 8*v - 2)*x_2^3 - 16*(3*v + 1)*x_1^2 - (6*(2*v + 1)*x_1^2 - 27*(2*v + 1)*x_1 + 48*v + 16)*x_2^2 + 36*(2*v + 1)*x_1 - (3*(2*v + 1)*x_1^3 - 27*(2*v + 1)*x_1^2 + 4*(30*v + 17)*x_1 - 72*v - 36)*x_2 - 32*v - 16)*x_3^3 - 48*(2*v + 1)*x_1^2 + 16*((3*v + 1)*x_1^3 - 3*(5*v + 2)*x_1^2 + 9*(2*v + 1)*x_1 - 6*v - 3)*x_2^2 + (16*(3*v + 1)*x_1^3 + (6*(2*v + 1)*x_1^2 - 27*(2*v + 1)*x_1 + 48*v + 16)*x_2^3 - 48*(5*v + 2)*x_1^2 + (6*(2*v + 1)*x_1^3 - 3*(46*v + 25)*x_1^2 + 4*(90*v + 47)*x_1 - 240*v - 96)*x_2^2 + 144*(2*v + 1)*x_1 - (27*(2*v + 1)*x_1^3 - 4*(90*v + 47)*x_1^2 + 48*(13*v + 7)*x_1 - 288*v - 144)*x_2 - 96*v - 48)*x_3^2 - 12*(3*(2*v + 1)*x_1^3 - 12*(2*v + 1)*x_1^2 + 8*(2*v + 1)*x_1)*x_2 - (36*(2*v + 1)*x_1^3 - (3*(2*v + 1)*x_1^3 - 27*(2*v + 1)*x_1^2 + 4*(30*v + 17)*x_1 - 72*v - 36)*x_2^3 - 144*(2*v + 1)*x_1^2 + (27*(2*v + 1)*x_1^3 - 4*(90*v + 47)*x_1^2 + 48*(13*v + 7)*x_1 - 288*v - 144)*x_2^2 + 96*(2*v + 1)*x_1 - 4*((30*v + 17)*x_1^3 - 12*(13*v + 7)*x_1^2 + 96*(2*v + 1)*x_1 - 48*v - 24)*x_2)*x_3)*z"
      ]
     },
     "execution_count": 772,
     "metadata": {},
     "output_type": "execute_result"
    }
   ],
   "source": [
    "ty3"
   ]
  },
  {
   "cell_type": "code",
   "execution_count": null,
   "id": "d23a0843",
   "metadata": {},
   "outputs": [],
   "source": []
  },
  {
   "cell_type": "code",
   "execution_count": 799,
   "id": "29aa5363",
   "metadata": {},
   "outputs": [],
   "source": [
    "rex_1=ty3.subs({x_1:1,x_2:1}).full_simplify().factor()\n",
    "rex_2=ty3.subs({x_1:2}).full_simplify().factor()\n",
    "rex_3=ty3.subs({x_1:3}).full_simplify().factor()"
   ]
  },
  {
   "cell_type": "code",
   "execution_count": 800,
   "id": "873788c5",
   "metadata": {},
   "outputs": [
    {
     "data": {
      "text/plain": [
       "4*(12*v*x_2^2*x_3^2*z - 5*x_2^2*x_3^2*z^2 - 36*v^2*x_2^2*x_3 - 36*v^2*x_2*x_3^2 - 36*v*x_2^2*x_3^2 - 12*v*x_2^2*x_3*z - 12*v*x_2*x_3^2*z + 12*x_2^2*x_3^2*z + 12*x_2^2*x_3*z^2 + 12*x_2*x_3^2*z^2 + 72*v^2*x_2^2 + 180*v^2*x_2*x_3 + 72*v*x_2^2*x_3 + 72*v^2*x_3^2 + 72*v*x_2*x_3^2 + 9*x_2^2*x_3^2 - 24*v*x_2^2*z - 24*v*x_2*x_3*z - 18*x_2^2*x_3*z - 24*v*x_3^2*z - 18*x_2*x_3^2*z - 4*x_2^2*z^2 - 28*x_2*x_3*z^2 - 4*x_3^2*z^2 - 216*v^2*x_2 - 72*v*x_2^2 - 216*v^2*x_3 - 36*v*x_2*x_3 - 27*x_2^2*x_3 - 72*v*x_3^2 - 27*x_2*x_3^2 + 96*v*x_2*z + 12*x_2^2*z + 96*v*x_3*z - 36*x_2*x_3*z + 12*x_3^2*z + 8*x_2*z^2 + 8*x_3*z^2 + 144*v^2 + 72*v*x_2 + 18*x_2^2 + 72*v*x_3 + 45*x_2*x_3 + 18*x_3^2 - 96*v*z + 48*x_2*z + 48*x_3*z - 144*v + 18*x_2 + 18*x_3 - 48*z - 108)*(x_2 - 2)*(x_3 - 2)"
      ]
     },
     "execution_count": 800,
     "metadata": {},
     "output_type": "execute_result"
    }
   ],
   "source": [
    "rex_2"
   ]
  },
  {
   "cell_type": "code",
   "execution_count": 801,
   "id": "4fce96b8",
   "metadata": {},
   "outputs": [],
   "source": [
    "qui1=(12*v*x_2^2*x_3^2*z - 5*x_2^2*x_3^2*z^2 - 36*v^2*x_2^2*x_3 - 36*v^2*x_2*x_3^2 - 36*v*x_2^2*x_3^2 - 12*v*x_2^2*x_3*z - 12*v*x_2*x_3^2*z + 12*x_2^2*x_3^2*z + 12*x_2^2*x_3*z^2 + 12*x_2*x_3^2*z^2 + 72*v^2*x_2^2 + 180*v^2*x_2*x_3 + 72*v*x_2^2*x_3 + 72*v^2*x_3^2 + 72*v*x_2*x_3^2 + 9*x_2^2*x_3^2 - 24*v*x_2^2*z - 24*v*x_2*x_3*z - 18*x_2^2*x_3*z - 24*v*x_3^2*z - 18*x_2*x_3^2*z - 4*x_2^2*z^2 - 28*x_2*x_3*z^2 - 4*x_3^2*z^2 - 216*v^2*x_2 - 72*v*x_2^2 - 216*v^2*x_3 - 36*v*x_2*x_3 - 27*x_2^2*x_3 - 72*v*x_3^2 - 27*x_2*x_3^2 + 96*v*x_2*z + 12*x_2^2*z + 96*v*x_3*z - 36*x_2*x_3*z + 12*x_3^2*z + 8*x_2*z^2 + 8*x_3*z^2 + 144*v^2 + 72*v*x_2 + 18*x_2^2 + 72*v*x_3 + 45*x_2*x_3 + 18*x_3^2 - 96*v*z + 48*x_2*z + 48*x_3*z - 144*v + 18*x_2 + 18*x_3 - 48*z - 108)"
   ]
  },
  {
   "cell_type": "code",
   "execution_count": 802,
   "id": "d00a6fb6",
   "metadata": {},
   "outputs": [],
   "source": [
    "qui2=(qui1.subs({x_2:aux/x_3})).full_simplify()*x_3^2"
   ]
  },
  {
   "cell_type": "code",
   "execution_count": 803,
   "id": "0019413c",
   "metadata": {},
   "outputs": [
    {
     "data": {
      "text/plain": [
       "18*(4*v^2 - 4*v + 1)*x_3^4 + 72*aux^2*v^2 - 9*(4*(aux + 6)*v^2 - 8*(aux + 1)*v + 3*aux - 2)*x_3^3 - 72*aux^2*v + 9*(4*(5*aux + 4)*v^2 + aux^2 - 4*(aux^2 + aux + 4)*v + 5*aux - 12)*x_3^2 + (4*(3*aux + 2)*x_3^3 - 4*x_3^4 - (5*aux^2 + 28*aux)*x_3^2 - 4*aux^2 + 4*(3*aux^2 + 2*aux)*x_3)*z^2 + 18*aux^2 - 9*(4*(aux^2 + 6*aux)*v^2 + 3*aux^2 - 8*(aux^2 + aux)*v - 2*aux)*x_3 - 6*(2*(2*v - 1)*x_3^4 + (2*(aux - 8)*v + 3*aux - 8)*x_3^3 + 4*aux^2*v - 2*(aux^2 + (aux^2 - 2*aux - 8)*v - 3*aux - 4)*x_3^2 - 2*aux^2 + (3*aux^2 + 2*(aux^2 - 8*aux)*v - 8*aux)*x_3)*z"
      ]
     },
     "execution_count": 803,
     "metadata": {},
     "output_type": "execute_result"
    }
   ],
   "source": [
    "qui2"
   ]
  },
  {
   "cell_type": "code",
   "execution_count": 810,
   "id": "dbb6ddd0",
   "metadata": {},
   "outputs": [
    {
     "data": {
      "text/plain": [
       "72*v^2*x_3^2 - 24*v*x_3^2*z - 4*x_3^2*z^2 + (12*v*x_3^2*z - 5*x_3^2*z^2 - 36*v^2*x_3 - 36*v*x_3^2 - 12*v*x_3*z + 12*x_3^2*z + 12*x_3*z^2 + 72*v^2 + 72*v*x_3 + 9*x_3^2 - 24*v*z - 18*x_3*z - 4*z^2 - 72*v - 27*x_3 + 12*z + 18)*x_2^2 - 216*v^2*x_3 - 72*v*x_3^2 + 96*v*x_3*z + 12*x_3^2*z + 8*x_3*z^2 + 144*v^2 - (36*v^2*x_3^2 + 12*v*x_3^2*z - 12*x_3^2*z^2 - 180*v^2*x_3 - 72*v*x_3^2 + 24*v*x_3*z + 18*x_3^2*z + 28*x_3*z^2 + 216*v^2 + 36*v*x_3 + 27*x_3^2 - 96*v*z + 36*x_3*z - 8*z^2 - 72*v - 45*x_3 - 48*z - 18)*x_2 + 72*v*x_3 + 18*x_3^2 - 96*v*z + 48*x_3*z - 144*v + 18*x_3 - 48*z - 108"
      ]
     },
     "execution_count": 810,
     "metadata": {},
     "output_type": "execute_result"
    }
   ],
   "source": [
    "mycollect(qui1,x_2)"
   ]
  },
  {
   "cell_type": "code",
   "execution_count": 806,
   "id": "781cf3a4",
   "metadata": {},
   "outputs": [],
   "source": [
    "num=- (36*v^2*x_3^3 + 12*v*x_3^3*z - 12*x_3^3*z^2 - 180*v^2*x_3^2 - 72*v*x_3^3 + 24*v*x_3^2*z + 18*x_3^3*z + 28*x_3^2*z^2 + 216*v^2*x_3 + 36*v*x_3^2 + 27*x_3^3 - 96*v*x_3*z + 36*x_3^2*z - 8*x_3*z^2 - 72*v*x_3 - 45*x_3^2 - 48*x_3*z - 18*x_3)/x_3"
   ]
  },
  {
   "cell_type": "code",
   "execution_count": 808,
   "id": "009bad5e",
   "metadata": {},
   "outputs": [
    {
     "data": {
      "text/plain": [
       "-216*v^2 + 96*v*z + 8*z^2 + 72*v + 48*z + 18"
      ]
     },
     "execution_count": 808,
     "metadata": {},
     "output_type": "execute_result"
    }
   ],
   "source": [
    "num.full_simplify().factor().subs({x_3:0})"
   ]
  },
  {
   "cell_type": "code",
   "execution_count": 811,
   "id": "38af7120",
   "metadata": {},
   "outputs": [],
   "source": [
    "eq1=(-216*v^2 + 96*v*z + 8*z^2 + 72*v + 48*z + 18)==1"
   ]
  },
  {
   "cell_type": "code",
   "execution_count": null,
   "id": "ca803807",
   "metadata": {},
   "outputs": [],
   "source": []
  },
  {
   "cell_type": "code",
   "execution_count": null,
   "id": "384ebece",
   "metadata": {},
   "outputs": [],
   "source": [
    "(12*v*x_2^2*z - 5*x_2^2*z^2 - 36*v^2*x_2 - 36*v*x_2^2 - 12*v*x_2*z + 12*x_2^2*z + 12*x_2*z^2 + 72*v^2 + 72*v*x_2 + 9*x_2^2 - 24*v*z - 18*x_2*z - 4*z^2 - 72*v - 27*x_2 + 12*z + 18)"
   ]
  },
  {
   "cell_type": "code",
   "execution_count": 748,
   "id": "691436b4",
   "metadata": {},
   "outputs": [],
   "source": [
    "mit=(u*x_2^2 - 4*v*x_2^2 + 4*w*x_2^2 + 4*x*x_2^2 - 16*x_2^2*y + 5*u*x_2 - 8*v*x_2 + 4*w*x_2 + 14*x*x_2 - 8*x_2*y - 4*x_2*z + 4*u - 4*v - 8*x + 8*y + 2*z)"
   ]
  },
  {
   "cell_type": "code",
   "execution_count": 749,
   "id": "175f8838",
   "metadata": {},
   "outputs": [
    {
     "data": {
      "text/plain": [
       "(u - 4*v + 4*w + 4*x - 16*y)*x_2^2 + (5*u - 8*v + 4*w + 14*x - 8*y - 4*z)*x_2 + 4*u - 4*v - 8*x + 8*y + 2*z"
      ]
     },
     "execution_count": 749,
     "metadata": {},
     "output_type": "execute_result"
    }
   ],
   "source": [
    "mycollect(mit,x_2)"
   ]
  },
  {
   "cell_type": "code",
   "execution_count": 687,
   "id": "97850158",
   "metadata": {},
   "outputs": [],
   "source": [
    "rs_1=(u*x_3^2 - 4*v*x_3^2 + 4*w*x_3^2 + 4*x*x_3^2 - 16*x_3^2*y + 5*u*x_3 - 8*v*x_3 + 4*w*x_3 + 14*x*x_3 - 8*x_3*y - 4*x_3*z + 4*u - 4*v - 8*x + 8*y + 2*z)"
   ]
  },
  {
   "cell_type": "code",
   "execution_count": 688,
   "id": "3ea15709",
   "metadata": {},
   "outputs": [],
   "source": [
    "rs_2=(u*x_3 - 4*v*x_3 + 4*w*x_3 + 2*x*x_3 - 8*x_3*y + 4*u - 4*v + 8*x - 8*y - 2*z)"
   ]
  },
  {
   "cell_type": "code",
   "execution_count": 689,
   "id": "bd5ad937",
   "metadata": {},
   "outputs": [
    {
     "data": {
      "text/plain": [
       "(u - 4*v + 4*w + 4*x - 16*y)*x_3^2 + (5*u - 8*v + 4*w + 14*x - 8*y - 4*z)*x_3 + 4*u - 4*v - 8*x + 8*y + 2*z"
      ]
     },
     "execution_count": 689,
     "metadata": {},
     "output_type": "execute_result"
    }
   ],
   "source": [
    "mycollect(rs_1,x_3)"
   ]
  },
  {
   "cell_type": "code",
   "execution_count": 691,
   "id": "45d6e829",
   "metadata": {},
   "outputs": [
    {
     "data": {
      "text/plain": [
       "(u - 4*v + 4*w + 2*x - 8*y)*x_3 + 4*u - 4*v + 8*x - 8*y - 2*z"
      ]
     },
     "execution_count": 691,
     "metadata": {},
     "output_type": "execute_result"
    }
   ],
   "source": [
    "mycollect(rs_2,x_3)"
   ]
  },
  {
   "cell_type": "code",
   "execution_count": 692,
   "id": "576449f4",
   "metadata": {},
   "outputs": [],
   "source": [
    "six_1=(u - 4*v + 4*w + 4*x - 16*y)==1\n",
    "six_2=(5*u - 8*v + 4*w + 14*x - 8*y - 4*z)==-4\n",
    "six_3=( 4*u - 4*v - 8*x + 8*y + 2*z)==4\n",
    "six_4=(u - 4*v + 4*w + 2*x - 8*y)==0\n",
    "six_5=(4*u - 4*v + 8*x - 8*y - 2*z)==0\n"
   ]
  },
  {
   "cell_type": "code",
   "execution_count": 752,
   "id": "eefb9182",
   "metadata": {},
   "outputs": [],
   "source": []
  },
  {
   "cell_type": "code",
   "execution_count": 700,
   "id": "3fb3c536",
   "metadata": {},
   "outputs": [
    {
     "data": {
      "text/plain": [
       "[[u == r63 + 1/2, v == r63, w == 3/4*r63 - 3/8, x == 1/3*r62 - 1/2, y == 1/12*r62 - 1/4, z == r62]]"
      ]
     },
     "execution_count": 700,
     "metadata": {},
     "output_type": "execute_result"
    }
   ],
   "source": [
    "solve([six_1,six_2,six_3,six_4,six_5],u,v,w,x,y,z)"
   ]
  },
  {
   "cell_type": "code",
   "execution_count": 695,
   "id": "dfe55366",
   "metadata": {},
   "outputs": [],
   "source": [
    "vs_1=(u*x_3^2 - 6*v*x_3^2 + 9*w*x_3^2 + 7*x*x_3^2 - 42*x_3^2*y + 9*u*x_3 - 27*v*x_3 + 27*w*x_3 + 39*x*x_3 - 45*x_3*y - 7*x_3*z + 18*u - 27*v - 18*x + 27*y + 3*z)"
   ]
  },
  {
   "cell_type": "code",
   "execution_count": 696,
   "id": "874e7113",
   "metadata": {},
   "outputs": [],
   "source": [
    "vs_2=(u*x_3 - 6*v*x_3 + 9*w*x_3 + 3*x*x_3 - 18*x_3*y + 6*u - 9*v + 18*x - 27*y - 3*z)"
   ]
  },
  {
   "cell_type": "code",
   "execution_count": 698,
   "id": "fb85f612",
   "metadata": {},
   "outputs": [
    {
     "data": {
      "text/plain": [
       "(u - 6*v + 9*w + 7*x - 42*y)*x_3^2 + (9*u - 27*v + 27*w + 39*x - 45*y - 7*z)*x_3 + 18*u - 27*v - 18*x + 27*y + 3*z"
      ]
     },
     "execution_count": 698,
     "metadata": {},
     "output_type": "execute_result"
    }
   ],
   "source": [
    "mycollect(vs_1,x_3)"
   ]
  },
  {
   "cell_type": "code",
   "execution_count": 699,
   "id": "bc625f97",
   "metadata": {},
   "outputs": [
    {
     "data": {
      "text/plain": [
       "(u - 6*v + 9*w + 3*x - 18*y)*x_3 + 6*u - 9*v + 18*x - 27*y - 3*z"
      ]
     },
     "execution_count": 699,
     "metadata": {},
     "output_type": "execute_result"
    }
   ],
   "source": [
    "mycollect(vs_2,x_3)"
   ]
  },
  {
   "cell_type": "code",
   "execution_count": 704,
   "id": "2b6a465d",
   "metadata": {},
   "outputs": [],
   "source": [
    "mix_1=(u - 6*v + 9*w + 7*x - 42*y)==1\n",
    "mix_2=(9*u - 27*v + 27*w + 39*x - 45*y - 7*z)==-6\n",
    "mix_3=(18*u - 27*v - 18*x + 27*y + 3*z)==9\n",
    "mix_4=(u - 6*v + 9*w + 3*x - 18*y)==0\n",
    "mix_5=(6*u - 9*v + 18*x - 27*y - 3*z)==0"
   ]
  },
  {
   "cell_type": "code",
   "execution_count": 705,
   "id": "9c80bd90",
   "metadata": {},
   "outputs": [
    {
     "data": {
      "text/plain": [
       "[[u == 3/2*r65 + 3/8, v == r65, w == 1/2*r65 - 1/8, x == 2/9*r64 - 1/4, y == 1/27*r64 - 1/12, z == r64]]"
      ]
     },
     "execution_count": 705,
     "metadata": {},
     "output_type": "execute_result"
    }
   ],
   "source": [
    "solve([mix_1,mix_2,mix_3,mix_4,mix_5],u,v,w,x,y,z)"
   ]
  },
  {
   "cell_type": "code",
   "execution_count": null,
   "id": "70275ec9",
   "metadata": {},
   "outputs": [],
   "source": []
  },
  {
   "cell_type": "code",
   "execution_count": 670,
   "id": "32526494",
   "metadata": {},
   "outputs": [],
   "source": [
    "sicut_1=(u*x_3 - 2*v*x_3 + w*x_3 + x*x_3 - 2*x_3*y + 2*u - v + 2*x - y - z)"
   ]
  },
  {
   "cell_type": "code",
   "execution_count": 673,
   "id": "1a283d54",
   "metadata": {},
   "outputs": [],
   "source": [
    "sicut_ex=mycollect(sicut_1,x_3)"
   ]
  },
  {
   "cell_type": "code",
   "execution_count": 675,
   "id": "04fc110c",
   "metadata": {},
   "outputs": [
    {
     "data": {
      "text/plain": [
       "(u - 2*v + w + x - 2*y)*x_3 + 2*u - v + 2*x - y - z"
      ]
     },
     "execution_count": 675,
     "metadata": {},
     "output_type": "execute_result"
    }
   ],
   "source": [
    "sicut_ex"
   ]
  },
  {
   "cell_type": "code",
   "execution_count": 676,
   "id": "ff232e37",
   "metadata": {},
   "outputs": [],
   "source": [
    "sem_1_1=(u - 2*v + w + x - 2*y)==0\n",
    "sem_1_2=(2*u - v + 2*x - y - z)==0"
   ]
  },
  {
   "cell_type": "code",
   "execution_count": 680,
   "id": "9127c0f6",
   "metadata": {},
   "outputs": [],
   "source": [
    "extras_1=solve([sem_1_1,sem_1_2],u,v,w,x,y,z)"
   ]
  },
  {
   "cell_type": "code",
   "execution_count": 681,
   "id": "29e0ffdd",
   "metadata": {},
   "outputs": [
    {
     "data": {
      "text/plain": [
       "[[u == r59, v == -r56 - r57 + 2*r58 + 2*r59, w == -2*r56 + 3*r58 + 3*r59, x == r58, y == r57, z == r56]]"
      ]
     },
     "execution_count": 681,
     "metadata": {},
     "output_type": "execute_result"
    }
   ],
   "source": [
    "extras_1"
   ]
  },
  {
   "cell_type": "code",
   "execution_count": 652,
   "id": "1b567866",
   "metadata": {},
   "outputs": [],
   "source": [
    "min1=(u*x_3^2 - 6*v*x_3^2 + 9*w*x_3^2 + 7*x*x_3^2 - 42*x_3^2*y + 9*u*x_3 - 27*v*x_3 + 27*w*x_3 + 39*x*x_3 - 45*x_3*y - 7*x_3*z + 18*u - 27*v - 18*x + 27*y + 3*z)"
   ]
  },
  {
   "cell_type": "code",
   "execution_count": 654,
   "id": "c51a581a",
   "metadata": {},
   "outputs": [
    {
     "data": {
      "text/plain": [
       "(u - 6*v + 9*w + 7*x - 42*y)*x_3^2 + (9*u - 27*v + 27*w + 39*x - 45*y - 7*z)*x_3 + 18*u - 27*v - 18*x + 27*y + 3*z"
      ]
     },
     "execution_count": 654,
     "metadata": {},
     "output_type": "execute_result"
    }
   ],
   "source": [
    "mycollect(min1,x_3)"
   ]
  },
  {
   "cell_type": "code",
   "execution_count": 655,
   "id": "d925201e",
   "metadata": {},
   "outputs": [],
   "source": [
    "mica1=(u - 6*v + 9*w + 7*x - 42*y)==0\n",
    "mica2=(9*u - 27*v + 27*w + 39*x - 45*y - 7*z)==0\n",
    "mica3=(18*u - 27*v - 18*x + 27*y + 3*z)==0"
   ]
  },
  {
   "cell_type": "code",
   "execution_count": 657,
   "id": "1db119a9",
   "metadata": {},
   "outputs": [
    {
     "data": {
      "text/plain": [
       "[[u == r51, v == -1/9*r49 + 3*r50 + 2/3*r51, w == -1/3*r49 + 9*r50 + 1/3*r51, x == 1/3*r49 - 3*r50, y == r50, z == r49]]"
      ]
     },
     "execution_count": 657,
     "metadata": {},
     "output_type": "execute_result"
    }
   ],
   "source": [
    "solve([mica1,mica2,mica3],u,v,w,x,y,z)"
   ]
  },
  {
   "cell_type": "code",
   "execution_count": null,
   "id": "d33ab005",
   "metadata": {},
   "outputs": [],
   "source": [
    "solve([])"
   ]
  },
  {
   "cell_type": "code",
   "execution_count": 649,
   "id": "e27ac87d",
   "metadata": {},
   "outputs": [],
   "source": [
    "sec1=(u*x_3^2 - 4*v*x_3^2 + 4*w*x_3^2 + 4*x*x_3^2 - 16*x_3^2*y + 5*u*x_3 - 8*v*x_3 + 4*w*x_3 + 14*x*x_3 - 8*x_3*y - 4*x_3*z + 4*u - 4*v - 8*x + 8*y + 2*z)"
   ]
  },
  {
   "cell_type": "code",
   "execution_count": 563,
   "id": "7d9e4744",
   "metadata": {},
   "outputs": [],
   "source": [
    "sec2=(u*x_3 - 4*v*x_3 + 4*w*x_3 + 2*x*x_3 - 8*x_3*y + 4*u - 4*v + 8*x - 8*y - 2*z)"
   ]
  },
  {
   "cell_type": "code",
   "execution_count": 578,
   "id": "2725e5ac",
   "metadata": {},
   "outputs": [
    {
     "data": {
      "text/plain": [
       "(u - 4*v + 4*w + 2*x - 8*y)*x_3 + 4*u - 4*v + 8*x - 8*y - 2*z"
      ]
     },
     "execution_count": 578,
     "metadata": {},
     "output_type": "execute_result"
    }
   ],
   "source": [
    "mycollect(sec2,x_3)"
   ]
  },
  {
   "cell_type": "code",
   "execution_count": 554,
   "id": "f0b388e0",
   "metadata": {},
   "outputs": [],
   "source": [
    "eq1=(u - 4*v + 4*w + 4*x - 16*y)==0"
   ]
  },
  {
   "cell_type": "code",
   "execution_count": 557,
   "id": "fa95010d",
   "metadata": {},
   "outputs": [],
   "source": [
    "eq2=(5*u - 8*v + 4*w + 14*x - 8*y - 4*z)==0"
   ]
  },
  {
   "cell_type": "code",
   "execution_count": 558,
   "id": "ae538686",
   "metadata": {},
   "outputs": [],
   "source": [
    "eq3=(4*u - 4*v - 8*x + 8*y + 2*z)==0"
   ]
  },
  {
   "cell_type": "code",
   "execution_count": 583,
   "id": "78e10d27",
   "metadata": {},
   "outputs": [],
   "source": [
    "sueq1=(u - 4*v + 4*w + 2*x - 8*y)==0"
   ]
  },
  {
   "cell_type": "code",
   "execution_count": 584,
   "id": "2194530a",
   "metadata": {},
   "outputs": [],
   "source": [
    "sueq2=(4*u - 4*v + 8*x - 8*y - 2*z)==0"
   ]
  },
  {
   "cell_type": "code",
   "execution_count": 585,
   "id": "2febca03",
   "metadata": {},
   "outputs": [],
   "source": [
    "newsolve2=solve([sueq1,sueq2],u,v,w,x,y,z)"
   ]
  },
  {
   "cell_type": "code",
   "execution_count": 586,
   "id": "d7add03f",
   "metadata": {},
   "outputs": [
    {
     "data": {
      "text/plain": [
       "[[u == r48, v == -1/2*r45 - 2*r46 + 2*r47 + r48, w == -1/2*r45 + 3/2*r47 + 3/4*r48, x == r47, y == r46, z == r45]]"
      ]
     },
     "execution_count": 586,
     "metadata": {},
     "output_type": "execute_result"
    }
   ],
   "source": [
    "newsolve2"
   ]
  },
  {
   "cell_type": "code",
   "execution_count": null,
   "id": "291e755b",
   "metadata": {},
   "outputs": [],
   "source": [
    "u=4,v=-1-24+,x=1,y=1,z=2"
   ]
  },
  {
   "cell_type": "code",
   "execution_count": 561,
   "id": "cdc1142f",
   "metadata": {},
   "outputs": [],
   "source": [
    "newsolve=solve([eq1,eq2,eq3],u,v,w,x,y,z)"
   ]
  },
  {
   "cell_type": "code",
   "execution_count": 565,
   "id": "572631c0",
   "metadata": {},
   "outputs": [
    {
     "data": {
      "text/plain": [
       "[[u == r40, v == -1/6*r38 + 2*r39 + r40, w == -1/2*r38 + 6*r39 + 3/4*r40, x == 1/3*r38, y == r39, z == r38]]"
      ]
     },
     "execution_count": 565,
     "metadata": {},
     "output_type": "execute_result"
    }
   ],
   "source": [
    "newsolve"
   ]
  },
  {
   "cell_type": "code",
   "execution_count": 566,
   "id": "f4c81122",
   "metadata": {},
   "outputs": [
    {
     "ename": "SyntaxError",
     "evalue": "invalid syntax. Maybe you meant '==' or ':=' instead of '='? (3394873853.py, line 1)",
     "output_type": "error",
     "traceback": [
      "\u001b[0;36m  Cell \u001b[0;32mIn[566], line 1\u001b[0;36m\u001b[0m\n\u001b[0;31m    u=Integer(4),v=-Integer(1)+Integer(4)+Integer(2)*y,w=-Integer(3)+Integer(3)+Integer(6)*y,x=Integer(2),y=Integer(1),z=Integer(6)\u001b[0m\n\u001b[0m    ^\u001b[0m\n\u001b[0;31mSyntaxError\u001b[0m\u001b[0;31m:\u001b[0m invalid syntax. Maybe you meant '==' or ':=' instead of '='?\n"
     ]
    }
   ],
   "source": [
    "u=4,v=-1+4+2*y,w=-3+3+6*y,x=2,y=1,z=6"
   ]
  },
  {
   "cell_type": "code",
   "execution_count": null,
   "id": "133935c1",
   "metadata": {},
   "outputs": [],
   "source": []
  }
 ],
 "metadata": {
  "kernelspec": {
   "display_name": "SageMath 9.7 [conda env:sagemath]",
   "language": "sage",
   "name": "conda-env-sagemath-sagemath"
  },
  "language_info": {
   "codemirror_mode": {
    "name": "ipython",
    "version": 3
   },
   "file_extension": ".py",
   "mimetype": "text/x-python",
   "name": "python",
   "nbconvert_exporter": "python",
   "pygments_lexer": "ipython3",
   "version": "3.10.4"
  }
 },
 "nbformat": 4,
 "nbformat_minor": 5
}
