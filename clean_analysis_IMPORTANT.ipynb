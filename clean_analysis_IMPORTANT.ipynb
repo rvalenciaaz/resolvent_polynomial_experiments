{
 "cells": [
  {
   "cell_type": "code",
   "execution_count": 20,
   "id": "fb3bed25",
   "metadata": {},
   "outputs": [
    {
     "data": {
      "text/plain": [
       "(a1,\n",
       " a2,\n",
       " a3,\n",
       " a4,\n",
       " a5,\n",
       " a6,\n",
       " e,\n",
       " f,\n",
       " alpha,\n",
       " a,\n",
       " b,\n",
       " c,\n",
       " d,\n",
       " ratio,\n",
       " x_1,\n",
       " x_2,\n",
       " x_3,\n",
       " x_4,\n",
       " beta,\n",
       " gamma,\n",
       " x)"
      ]
     },
     "execution_count": 20,
     "metadata": {},
     "output_type": "execute_result"
    }
   ],
   "source": [
    "var('a1','a2','a3','a4','a5','a6','e','f','alpha','a','b','c','d','ratio',\"x_1\",\"x_2\",\"x_3\",\"x_4\",\"beta\",\"gamma\",\"x\")"
   ]
  },
  {
   "cell_type": "code",
   "execution_count": 21,
   "id": "e80c1eb7",
   "metadata": {},
   "outputs": [],
   "source": [
    "def mycollect(e1, e2):\n",
    "    \"\"\"\n",
    "    Collects e2 coefficients in e1, even when e2 is not a factor of\n",
    "    some of the terms of e1\n",
    "    \"\"\"\n",
    "    g = maxima_calculus.gensym()._sage_()\n",
    "    while g in e1.variables(): g = maxima_calculus.gensym()._sage_()\n",
    "    return sum([v[0]*g^v[1]\n",
    "                for v in e1.subs(e2==g).coefficients(g)]).subs(g==e2)"
   ]
  },
  {
   "cell_type": "code",
   "execution_count": 22,
   "id": "d6607131",
   "metadata": {},
   "outputs": [],
   "source": [
    "reduced1=(beta*a1 - alpha*a2)*b + 2*(beta*a2 - alpha*a3)*c\n",
    "reduced2=(reduced1+2*alpha*(a1+b*a2+c*a3)).full_simplify()\n",
    "reduced3=reduced2.subs({a1:ratio*a2})\n",
    "sreduced=solve(reduced3==0, ratio)\n",
    "mainratio=sreduced[0].rhs()\n",
    "mainpre=(mainratio^2+b*mainratio+c).full_simplify().factor()"
   ]
  },
  {
   "cell_type": "code",
   "execution_count": 23,
   "id": "f3f32236",
   "metadata": {},
   "outputs": [
    {
     "data": {
      "text/plain": [
       "-(alpha*b + 2*beta*c)/(b*beta + 2*alpha)"
      ]
     },
     "execution_count": 23,
     "metadata": {},
     "output_type": "execute_result"
    }
   ],
   "source": [
    "mainratio"
   ]
  },
  {
   "cell_type": "code",
   "execution_count": 24,
   "id": "31c8271d",
   "metadata": {},
   "outputs": [
    {
     "data": {
      "text/plain": [
       "-(alpha*b*beta + beta^2*c + alpha^2)*(b^2 - 4*c)/(b*beta + 2*alpha)^2"
      ]
     },
     "execution_count": 24,
     "metadata": {},
     "output_type": "execute_result"
    }
   ],
   "source": [
    "mainpre"
   ]
  },
  {
   "cell_type": "code",
   "execution_count": 25,
   "id": "5c3a2b56",
   "metadata": {},
   "outputs": [
    {
     "data": {
      "text/plain": [
       "-1/4*b^2 + c"
      ]
     },
     "execution_count": 25,
     "metadata": {},
     "output_type": "execute_result"
    }
   ],
   "source": [
    "mainpre.subs({beta:0})"
   ]
  },
  {
   "cell_type": "code",
   "execution_count": 26,
   "id": "d5249196",
   "metadata": {},
   "outputs": [
    {
     "data": {
      "text/plain": [
       "-1/2*b"
      ]
     },
     "execution_count": 26,
     "metadata": {},
     "output_type": "execute_result"
    }
   ],
   "source": [
    "mainratio.subs({beta:0}).full_simplify()"
   ]
  },
  {
   "cell_type": "code",
   "execution_count": 27,
   "id": "81aa39d6",
   "metadata": {},
   "outputs": [],
   "source": [
    "tix=a1*alpha*a+2*alpha*b + 3*a3*alpha*c"
   ]
  },
  {
   "cell_type": "code",
   "execution_count": 50,
   "id": "51e28695",
   "metadata": {},
   "outputs": [],
   "source": [
    "tix2=(tix-3*alpha*(a1+b*a2+c*a3)).full_simplify()"
   ]
  },
  {
   "cell_type": "code",
   "execution_count": 51,
   "id": "225782c6",
   "metadata": {},
   "outputs": [
    {
     "data": {
      "text/plain": [
       "(a - 3)*a1*alpha - (3*a2 - 2)*alpha*b"
      ]
     },
     "execution_count": 51,
     "metadata": {},
     "output_type": "execute_result"
    }
   ],
   "source": [
    "tix2"
   ]
  },
  {
   "cell_type": "code",
   "execution_count": 52,
   "id": "29ea29c6",
   "metadata": {},
   "outputs": [],
   "source": [
    "reduced3=tix2.subs({a1:ratio*a2})\n",
    "sreduced=solve(reduced3==0, ratio)\n",
    "mainratio=sreduced[0].rhs()\n",
    "mainpre=(mainratio^2+b*mainratio+c).full_simplify().factor()"
   ]
  },
  {
   "cell_type": "code",
   "execution_count": 53,
   "id": "67095e05",
   "metadata": {},
   "outputs": [
    {
     "data": {
      "text/plain": [
       "((a^2 - 6*a + 9)*a2^2*c + (3*a*a2^2 - 2*(a + 3)*a2 + 4)*b^2)/((a^2 - 6*a + 9)*a2^2)"
      ]
     },
     "execution_count": 53,
     "metadata": {},
     "output_type": "execute_result"
    }
   ],
   "source": [
    "mainpre.full_simplify()"
   ]
  },
  {
   "cell_type": "code",
   "execution_count": 54,
   "id": "4ad5119c",
   "metadata": {},
   "outputs": [],
   "source": [
    "minimal=(beta*a1 - alpha*a2)*b + 2*(beta*a2 - alpha*a3)*c"
   ]
  },
  {
   "cell_type": "code",
   "execution_count": 55,
   "id": "299cabc2",
   "metadata": {},
   "outputs": [],
   "source": [
    "min2=-minimal.subs({beta:0})"
   ]
  },
  {
   "cell_type": "code",
   "execution_count": 56,
   "id": "8770c74e",
   "metadata": {},
   "outputs": [
    {
     "data": {
      "text/plain": [
       "a2*alpha*b + 2*a3*alpha*c"
      ]
     },
     "execution_count": 56,
     "metadata": {},
     "output_type": "execute_result"
    }
   ],
   "source": [
    "min2"
   ]
  },
  {
   "cell_type": "code",
   "execution_count": 57,
   "id": "75d09cc9",
   "metadata": {},
   "outputs": [],
   "source": [
    "min3=min2.subs({a2:ratio*a3})"
   ]
  },
  {
   "cell_type": "code",
   "execution_count": 58,
   "id": "381c6019",
   "metadata": {},
   "outputs": [],
   "source": [
    "solmin=solve(min3==0, ratio)"
   ]
  },
  {
   "cell_type": "code",
   "execution_count": 59,
   "id": "302b5191",
   "metadata": {},
   "outputs": [],
   "source": [
    "solratio=solmin[0].rhs()"
   ]
  },
  {
   "cell_type": "code",
   "execution_count": 60,
   "id": "0c82ec7a",
   "metadata": {},
   "outputs": [],
   "source": [
    "minipre=(a*solratio^2+b*solratio+c).full_simplify().factor()"
   ]
  },
  {
   "cell_type": "code",
   "execution_count": 61,
   "id": "6dcf2f36",
   "metadata": {},
   "outputs": [
    {
     "data": {
      "text/plain": [
       "-b^2 + 4*a*c"
      ]
     },
     "execution_count": 61,
     "metadata": {},
     "output_type": "execute_result"
    }
   ],
   "source": [
    "(minipre.full_simplify()*b^2/c).full_simplify()"
   ]
  },
  {
   "cell_type": "code",
   "execution_count": null,
   "id": "addc0a6e",
   "metadata": {},
   "outputs": [],
   "source": []
  },
  {
   "cell_type": "code",
   "execution_count": 62,
   "id": "ce1ca6ad",
   "metadata": {},
   "outputs": [
    {
     "data": {
      "text/plain": [
       "-2*b"
      ]
     },
     "execution_count": 62,
     "metadata": {},
     "output_type": "execute_result"
    }
   ],
   "source": [
    "solratio*b^2/c"
   ]
  },
  {
   "cell_type": "code",
   "execution_count": 63,
   "id": "77b9e1d9",
   "metadata": {},
   "outputs": [
    {
     "data": {
      "text/plain": [
       "4*c"
      ]
     },
     "execution_count": 63,
     "metadata": {},
     "output_type": "execute_result"
    }
   ],
   "source": [
    "solratio^2*b^2/c"
   ]
  },
  {
   "cell_type": "code",
   "execution_count": 64,
   "id": "6d4e6e49",
   "metadata": {},
   "outputs": [],
   "source": [
    "third1=(beta*a1 - alpha*a2)*b + 2*c*(beta*a2 - alpha*a3)+3*d*(beta*a3 - alpha*a4)\n",
    "valo=third1.subs({beta:0})"
   ]
  },
  {
   "cell_type": "code",
   "execution_count": 65,
   "id": "db3cb037",
   "metadata": {},
   "outputs": [
    {
     "data": {
      "text/plain": [
       "-a2*alpha*b - 2*a3*alpha*c - 3*a4*alpha*d"
      ]
     },
     "execution_count": 65,
     "metadata": {},
     "output_type": "execute_result"
    }
   ],
   "source": [
    "valo"
   ]
  },
  {
   "cell_type": "code",
   "execution_count": 66,
   "id": "ac5eb1df-d6cc-47a1-a983-c247756096df",
   "metadata": {},
   "outputs": [
    {
     "data": {
      "text/plain": [
       "(3*a2 - 2)*b/((a - 3)*a2)"
      ]
     },
     "execution_count": 66,
     "metadata": {},
     "output_type": "execute_result"
    }
   ],
   "source": [
    "mainratio"
   ]
  },
  {
   "cell_type": "code",
   "execution_count": 67,
   "id": "3231633d",
   "metadata": {},
   "outputs": [],
   "source": [
    "third1=(beta*a1 - alpha*a2)*b + 2*c*(beta*a2 - alpha*a3)+3*d*(beta*a3 - alpha*a4)\n",
    "third2=(third1+3*alpha*(a1+b*a2+c*a3+d*a4)).full_simplify()\n",
    "term1=third2.subs({a1:1,a2:0,a3:0})\n",
    "term2=third2.subs({a1:0,a2:1,a3:0})\n",
    "term3=third2.subs({a1:0,a2:0,a3:1})\n",
    "newb=(term2/term1).full_simplify()\n",
    "newc=(term3/term1).full_simplify()"
   ]
  },
  {
   "cell_type": "code",
   "execution_count": 68,
   "id": "d239434c",
   "metadata": {},
   "outputs": [
    {
     "data": {
      "text/plain": [
       "-(a2*alpha - a1*beta)*b - 2*(a3*alpha - a2*beta)*c - 3*(a4*alpha - a3*beta)*d"
      ]
     },
     "execution_count": 68,
     "metadata": {},
     "output_type": "execute_result"
    }
   ],
   "source": [
    "third1"
   ]
  },
  {
   "cell_type": "code",
   "execution_count": 69,
   "id": "19684c55",
   "metadata": {},
   "outputs": [
    {
     "name": "stdout",
     "output_type": "stream",
     "text": [
      "2*(alpha*b + c)/(3*alpha + b)\n",
      "(alpha*c + 3*d)/(3*alpha + b)\n"
     ]
    }
   ],
   "source": [
    "print(newb.subs({beta:1}))\n",
    "print(newc.subs({beta:1}))"
   ]
  },
  {
   "cell_type": "code",
   "execution_count": 70,
   "id": "109bcc4c",
   "metadata": {},
   "outputs": [],
   "source": [
    "newratio=mainratio.subs({b:newb,c:newc}).full_simplify()\n",
    "expa=newratio^2+newb*newratio+newc\n",
    "expa2=expa.full_simplify().factor()"
   ]
  },
  {
   "cell_type": "code",
   "execution_count": 71,
   "id": "decc6e67",
   "metadata": {},
   "outputs": [
    {
     "data": {
      "text/plain": [
       "2*((3*a2 - 2)*alpha*b + (3*a2 - 2)*beta*c)/((a - 3)*a2*b*beta + 3*(a - 3)*a2*alpha)"
      ]
     },
     "execution_count": 71,
     "metadata": {},
     "output_type": "execute_result"
    }
   ],
   "source": [
    "newratio"
   ]
  },
  {
   "cell_type": "code",
   "execution_count": 49,
   "id": "670e55af",
   "metadata": {},
   "outputs": [
    {
     "data": {
      "text/plain": [
       "-1/3*b"
      ]
     },
     "execution_count": 49,
     "metadata": {},
     "output_type": "execute_result"
    }
   ],
   "source": [
    "newratio.subs({beta:0}).full_simplify()"
   ]
  },
  {
   "cell_type": "code",
   "execution_count": 50,
   "id": "ea37c427",
   "metadata": {},
   "outputs": [],
   "source": [
    "exp1=alpha^2*b^2 - 3*alpha^2*c + alpha*b*c + c^2 - 9*alpha*d - 3*b*d"
   ]
  },
  {
   "cell_type": "code",
   "execution_count": 51,
   "id": "b7f00f76",
   "metadata": {},
   "outputs": [],
   "source": [
    "dsol=solve(exp1==0,d)\n",
    "dsol2=dsol[0].rhs()"
   ]
  },
  {
   "cell_type": "code",
   "execution_count": 52,
   "id": "286f3b1a",
   "metadata": {},
   "outputs": [],
   "source": [
    "dratio=newratio.subs({d:dsol2}).full_simplify().factor()"
   ]
  },
  {
   "cell_type": "code",
   "execution_count": 53,
   "id": "1d4bf9a1",
   "metadata": {},
   "outputs": [
    {
     "data": {
      "text/plain": [
       "-(alpha^2*b^2*beta^2 - 3*alpha^2*beta^2*c + alpha*b*beta^2*c + 3*alpha^3*b + alpha^2*b^2 + 6*alpha^2*beta*c + 2*alpha*b*beta*c + beta^2*c^2)/((2*alpha*b*beta + beta^2*c + 3*alpha^2)*(3*alpha + b))"
      ]
     },
     "execution_count": 53,
     "metadata": {},
     "output_type": "execute_result"
    }
   ],
   "source": [
    "dratio"
   ]
  },
  {
   "cell_type": "code",
   "execution_count": 54,
   "id": "e56a1f55",
   "metadata": {},
   "outputs": [],
   "source": [
    "altexpa=(dratio^2+newb*dratio+newc).full_simplify().factor()"
   ]
  },
  {
   "cell_type": "code",
   "execution_count": 55,
   "id": "d00733cb",
   "metadata": {},
   "outputs": [],
   "source": [
    "altexpa2=-altexpa.numerator()"
   ]
  },
  {
   "cell_type": "code",
   "execution_count": 56,
   "id": "1d4b7787",
   "metadata": {},
   "outputs": [
    {
     "data": {
      "text/plain": [
       "(alpha^4*b^5*beta^5 + 3*alpha^5*b^4*beta^4 - 6*alpha^4*b^3*beta^5*c + 2*alpha^3*b^4*beta^5*c - 6*alpha^5*b^4*beta^3 - 2*alpha^4*b^5*beta^3 - 18*alpha^5*b^2*beta^4*c - 2*alpha^3*b^4*beta^4*c + 9*alpha^4*b*beta^5*c^2 - 12*alpha^3*b^2*beta^5*c^2 + alpha^2*b^3*beta^5*c^2 + 36*alpha^5*b^2*beta^3*c + 6*alpha^4*b^3*beta^3*c - 2*alpha^3*b^4*beta^3*c + 27*alpha^5*beta^4*c^2 + 9*alpha^3*b^2*beta^4*c^2 - 2*alpha^2*b^3*beta^4*c^2 + 18*alpha^3*beta^5*c^3 - 6*alpha^2*b*beta^5*c^3 - 27*alpha^6*b^3*beta - 18*alpha^5*b^4*beta - 3*alpha^4*b^5*beta - 54*alpha^5*b^2*beta^2*c - 36*alpha^4*b^3*beta^2*c - 6*alpha^3*b^4*beta^2*c - 54*alpha^5*beta^3*c^2 - 54*alpha^4*b*beta^3*c^2 - 36*alpha^3*b^2*beta^3*c^2 - 8*alpha^2*b^3*beta^3*c^2 - 45*alpha^3*beta^4*c^3 - 18*alpha^2*b*beta^4*c^3 - 5*alpha*b^2*beta^4*c^3 - 6*alpha*beta^5*c^4 - b*beta^5*c^4 + 108*alpha^4*b^2*beta^3*d + 72*alpha^3*b^3*beta^3*d + 12*alpha^2*b^4*beta^3*d + 108*alpha^3*b*beta^4*c*d + 72*alpha^2*b^2*beta^4*c*d + 12*alpha*b^3*beta^4*c*d + 27*alpha^2*beta^5*c^2*d + 18*alpha*b*beta^5*c^2*d + 3*b^2*beta^5*c^2*d - 27*alpha^7*b^2 - 18*alpha^6*b^3 - 3*alpha^5*b^4 + 54*alpha^6*b*beta*c + 36*alpha^5*b^2*beta*c + 6*alpha^4*b^3*beta*c + 54*alpha^5*beta^2*c^2 + 36*alpha^4*b*beta^2*c^2 + 6*alpha^3*b^2*beta^2*c^2 + 18*alpha^3*beta^3*c^3 + 6*alpha^2*b*beta^3*c^3 + 3*alpha*beta^4*c^4 + 324*alpha^5*b*beta^2*d + 216*alpha^4*b^2*beta^2*d + 36*alpha^3*b^3*beta^2*d + 162*alpha^4*beta^3*c*d + 108*alpha^3*b*beta^3*c*d + 18*alpha^2*b^2*beta^3*c*d + 81*alpha^7*c + 54*alpha^6*b*c + 9*alpha^5*b^2*c + 243*alpha^6*beta*d + 162*alpha^5*b*beta*d + 27*alpha^4*b^2*beta*d)/((2*alpha*b*beta + beta^2*c + 3*alpha^2)^2*(b*beta + 3*alpha)*(3*alpha + b)^2)"
      ]
     },
     "execution_count": 56,
     "metadata": {},
     "output_type": "execute_result"
    }
   ],
   "source": [
    "altexpa"
   ]
  },
  {
   "cell_type": "code",
   "execution_count": 57,
   "id": "9e3eb0f8",
   "metadata": {},
   "outputs": [],
   "source": [
    "dis2=b^2-4*a*c"
   ]
  },
  {
   "cell_type": "code",
   "execution_count": 58,
   "id": "2f910fdc",
   "metadata": {},
   "outputs": [],
   "source": [
    "altexpa3=mycollect(altexpa2,alpha)\n",
    "altexpa4=altexpa3.operands()\n",
    "altexpa5=[i.subs({alpha:1})for i in altexpa4]"
   ]
  },
  {
   "cell_type": "code",
   "execution_count": 27,
   "id": "12532186",
   "metadata": {},
   "outputs": [
    {
     "data": {
      "text/plain": [
       "[3*b^2 - 9*c,\n",
       " b*beta*c^2,\n",
       " -3*b^2*beta*d,\n",
       " -b^3*beta + 2*b^3 + 6*b*beta*c - 6*b*c - 27*beta*d,\n",
       " b^2*c + 6*beta*c^2 - 18*b*beta*d - 3*c^2]"
      ]
     },
     "execution_count": 27,
     "metadata": {},
     "output_type": "execute_result"
    }
   ],
   "source": [
    "altexpa5"
   ]
  },
  {
   "cell_type": "code",
   "execution_count": 28,
   "id": "46254148",
   "metadata": {},
   "outputs": [],
   "source": [
    "altexpa5=[b^2 - 3*c, b*c - 9*d, c^2-3*b*d]"
   ]
  },
  {
   "cell_type": "code",
   "execution_count": 29,
   "id": "f2bdb333",
   "metadata": {},
   "outputs": [
    {
     "ename": "NameError",
     "evalue": "name 'dis2' is not defined",
     "output_type": "error",
     "traceback": [
      "\u001b[0;31m---------------------------------------------------------------------------\u001b[0m",
      "\u001b[0;31mNameError\u001b[0m                                 Traceback (most recent call last)",
      "Cell \u001b[0;32mIn[29], line 1\u001b[0m\n\u001b[0;32m----> 1\u001b[0m dis3\u001b[38;5;241m=\u001b[39m\u001b[43mdis2\u001b[49m\u001b[38;5;241m.\u001b[39msubs({a:altexpa5[Integer(\u001b[38;5;241m0\u001b[39m)],b:altexpa5[Integer(\u001b[38;5;241m1\u001b[39m)],c:altexpa5[Integer(\u001b[38;5;241m2\u001b[39m)]})\n",
      "\u001b[0;31mNameError\u001b[0m: name 'dis2' is not defined"
     ]
    }
   ],
   "source": [
    "dis3=dis2.subs({a:altexpa5[0],b:altexpa5[1],c:altexpa5[2]})"
   ]
  },
  {
   "cell_type": "code",
   "execution_count": 26,
   "id": "d9733090",
   "metadata": {},
   "outputs": [
    {
     "ename": "NameError",
     "evalue": "name 'dis3' is not defined",
     "output_type": "error",
     "traceback": [
      "\u001b[0;31m---------------------------------------------------------------------------\u001b[0m",
      "\u001b[0;31mNameError\u001b[0m                                 Traceback (most recent call last)",
      "Cell \u001b[0;32mIn[26], line 1\u001b[0m\n\u001b[0;32m----> 1\u001b[0m dis3\u001b[38;5;241m=\u001b[39m\u001b[43mdis3\u001b[49m\u001b[38;5;241m.\u001b[39mfull_simplify()\u001b[38;5;241m.\u001b[39mfactor()\u001b[38;5;241m/\u001b[39m\u001b[38;5;241m-\u001b[39mInteger(\u001b[38;5;241m3\u001b[39m)\n",
      "\u001b[0;31mNameError\u001b[0m: name 'dis3' is not defined"
     ]
    }
   ],
   "source": [
    "dis3=dis3.full_simplify().factor()/-3"
   ]
  },
  {
   "cell_type": "code",
   "execution_count": 18,
   "id": "4459f74c",
   "metadata": {},
   "outputs": [],
   "source": [
    "fourth1=(a1 - alpha*a2)*b + 2*c*(a2 - alpha*a3)+3*d*(a3 - alpha*a4)+4*e*(a4 - alpha*a5)\n",
    "fourth2=(fourth1+4*alpha*(a1+b*a2+c*a3+d*a4+e*a5)).full_simplify()"
   ]
  },
  {
   "cell_type": "code",
   "execution_count": 19,
   "id": "5ed0a907",
   "metadata": {},
   "outputs": [],
   "source": [
    "foterm1=fourth2.subs({a1:1,a2:0,a3:0,a4:0})\n",
    "foterm2=fourth2.subs({a1:0,a2:1,a3:0,a4:0})\n",
    "foterm3=fourth2.subs({a1:0,a2:0,a3:1,a4:0})\n",
    "foterm4=fourth2.subs({a1:0,a2:0,a3:0,a4:1})\n",
    "newfb=foterm2/foterm1\n",
    "newfc=foterm3/foterm1\n",
    "newfd=foterm4/foterm1"
   ]
  },
  {
   "cell_type": "code",
   "execution_count": 20,
   "id": "127c6d51",
   "metadata": {},
   "outputs": [],
   "source": [
    "foratio=(newratio.subs({b:newfb,c:newfc,d:newfd})).full_simplify()\n",
    "dosb=newb.subs({b:newfb,c:newfc,d:newfd}).full_simplify()\n",
    "dosc=newc.subs({b:newfb,c:newfc,d:newfd}).full_simplify()"
   ]
  },
  {
   "cell_type": "code",
   "execution_count": 21,
   "id": "f848feb2",
   "metadata": {},
   "outputs": [],
   "source": [
    "foexp2=(foratio^2+dosb*foratio+dosc).full_simplify().factor()"
   ]
  },
  {
   "cell_type": "code",
   "execution_count": 22,
   "id": "f5fafa28",
   "metadata": {},
   "outputs": [
    {
     "data": {
      "text/plain": [
       "-2*(3*alpha^4*b^2 - 8*alpha^4*c + 4*alpha^3*b*c + 4*alpha^2*c^2 - 24*alpha^3*d - 6*alpha^2*b*d + 4*alpha*c*d - 48*alpha^2*e - 24*alpha*b*e + 3*d^2 - 8*c*e)*(alpha^4 + alpha^3*b + alpha^2*c + alpha*d + e)/((4*alpha^3 + 3*alpha^2*b + 2*alpha*c + d)^2*(6*alpha^2 + 3*alpha*b + c))"
      ]
     },
     "execution_count": 22,
     "metadata": {},
     "output_type": "execute_result"
    }
   ],
   "source": [
    "foexp2"
   ]
  },
  {
   "cell_type": "code",
   "execution_count": 23,
   "id": "5ad98482",
   "metadata": {},
   "outputs": [],
   "source": [
    "exp2=3*alpha^4*b^2 - 8*alpha^4*c + 4*alpha^3*b*c + 4*alpha^2*c^2 - 24*alpha^3*d - 6*alpha^2*b*d + 4*alpha*c*d - 48*alpha^2*e - 24*alpha*b*e + 3*d^2 - 8*c*e"
   ]
  },
  {
   "cell_type": "code",
   "execution_count": 24,
   "id": "d74d4ece",
   "metadata": {},
   "outputs": [],
   "source": [
    "esol=solve(exp2==0,e)\n",
    "esol2=esol[0].rhs()"
   ]
  },
  {
   "cell_type": "code",
   "execution_count": 25,
   "id": "64c0a6b7",
   "metadata": {},
   "outputs": [],
   "source": [
    "eratio=foratio.subs({e:esol2}).full_simplify().factor()"
   ]
  },
  {
   "cell_type": "code",
   "execution_count": 26,
   "id": "93374f3d",
   "metadata": {},
   "outputs": [],
   "source": [
    "altafo=(eratio^2+dosb*eratio+dosc).full_simplify().factor()"
   ]
  },
  {
   "cell_type": "code",
   "execution_count": 27,
   "id": "29beef97",
   "metadata": {},
   "outputs": [
    {
     "data": {
      "text/plain": [
       "-3/4*(3*alpha^4*b^2 - 8*alpha^4*c + 4*alpha^3*b*c + 4*alpha^2*c^2 - 24*alpha^3*d - 6*alpha^2*b*d + 4*alpha*c*d - 48*alpha^2*e - 24*alpha*b*e + 3*d^2 - 8*c*e)/(6*alpha^2 + 3*alpha*b + c)^2"
      ]
     },
     "execution_count": 27,
     "metadata": {},
     "output_type": "execute_result"
    }
   ],
   "source": [
    "altafo"
   ]
  },
  {
   "cell_type": "code",
   "execution_count": 28,
   "id": "af1e4cf6",
   "metadata": {},
   "outputs": [],
   "source": [
    "altafo2=altafo.numerator()/-3\n",
    "altafo3=(altafo2-(3*b^2 - 8*c)*(alpha^4 + alpha^3*b + alpha^2*c + alpha*d + e)).full_simplify()\n",
    "altafo4=mycollect(altafo3,alpha)/-3\n",
    "altafo5=altafo4.operands()"
   ]
  },
  {
   "cell_type": "code",
   "execution_count": 29,
   "id": "8a0bbb72",
   "metadata": {},
   "outputs": [
    {
     "data": {
      "text/plain": [
       "(b^3 - 4*b*c + 8*d)*alpha^3 + (b^2*c - 4*c^2 + 2*b*d + 16*e)*alpha^2 + b^2*e + (b^2*d - 4*c*d + 8*b*e)*alpha - d^2"
      ]
     },
     "execution_count": 29,
     "metadata": {},
     "output_type": "execute_result"
    }
   ],
   "source": [
    "altafo4"
   ]
  },
  {
   "cell_type": "code",
   "execution_count": 30,
   "id": "d83052aa",
   "metadata": {},
   "outputs": [],
   "source": [
    "altafo5=[(b^3 - 4*b*c + 8*d)*alpha^3,\n",
    " (b^2*c - 4*c^2 + 2*b*d + 16*e)*alpha^2,\n",
    " (b^2*d - 4*c*d + 8*b*e)*alpha,\n",
    " b^2*e-d^2]"
   ]
  },
  {
   "cell_type": "code",
   "execution_count": 31,
   "id": "26fb36a1",
   "metadata": {},
   "outputs": [],
   "source": [
    "altafo6=[i.subs({alpha:1})for i in altafo5]"
   ]
  },
  {
   "cell_type": "code",
   "execution_count": 32,
   "id": "bc719031",
   "metadata": {},
   "outputs": [],
   "source": [
    "altafo7=[j/altafo6[0]for j in altafo6]"
   ]
  },
  {
   "cell_type": "code",
   "execution_count": 33,
   "id": "abb94519",
   "metadata": {},
   "outputs": [
    {
     "data": {
      "text/plain": [
       "[1,\n",
       " (b^2*c - 4*c^2 + 2*b*d + 16*e)/(b^3 - 4*b*c + 8*d),\n",
       " (b^2*d - 4*c*d + 8*b*e)/(b^3 - 4*b*c + 8*d),\n",
       " (b^2*e - d^2)/(b^3 - 4*b*c + 8*d)]"
      ]
     },
     "execution_count": 33,
     "metadata": {},
     "output_type": "execute_result"
    }
   ],
   "source": [
    "altafo7"
   ]
  },
  {
   "cell_type": "code",
   "execution_count": 34,
   "id": "8c1c3bc3",
   "metadata": {},
   "outputs": [],
   "source": [
    "dis4=(dis3.subs({b:altafo7[1],c:altafo7[2],d:altafo7[3]})).full_simplify().factor()"
   ]
  },
  {
   "cell_type": "code",
   "execution_count": 35,
   "id": "faecdbe8",
   "metadata": {},
   "outputs": [],
   "source": [
    "dis4=dis4.numerator()"
   ]
  },
  {
   "cell_type": "code",
   "execution_count": 36,
   "id": "6064036d",
   "metadata": {},
   "outputs": [
    {
     "data": {
      "text/plain": [
       "b^2*c^2*d^2 - 4*b^3*d^3 - 4*b^2*c^3*e + 18*b^3*c*d*e - 27*b^4*e^2 - 4*c^3*d^2 + 18*b*c*d^3 + 16*c^4*e - 80*b*c^2*d*e - 6*b^2*d^2*e + 144*b^2*c*e^2 - 27*d^4 + 144*c*d^2*e - 128*c^2*e^2 - 192*b*d*e^2 + 256*e^3"
      ]
     },
     "execution_count": 36,
     "metadata": {},
     "output_type": "execute_result"
    }
   ],
   "source": [
    "dis4"
   ]
  },
  {
   "cell_type": "code",
   "execution_count": null,
   "id": "c7912e87",
   "metadata": {},
   "outputs": [],
   "source": []
  },
  {
   "cell_type": "code",
   "execution_count": 37,
   "id": "4466b063",
   "metadata": {},
   "outputs": [],
   "source": [
    "fifth1=(a1 - alpha*a2)*b + 2*c*(a2 - alpha*a3)+3*d*(a3 - alpha*a4)+4*e*(a4 - alpha*a5)+5*f*(a5 - alpha*a6)\n",
    "fifth2=(fifth1+5*alpha*(a1+b*a2+c*a3+d*a4+e*a5+f*a6)).full_simplify()"
   ]
  },
  {
   "cell_type": "code",
   "execution_count": 38,
   "id": "37b1ffce",
   "metadata": {},
   "outputs": [
    {
     "data": {
      "text/plain": [
       "5*a1*alpha + (4*a2*alpha + a1)*b + (3*a3*alpha + 2*a2)*c + (2*a4*alpha + 3*a3)*d + (a5*alpha + 4*a4)*e + 5*a5*f"
      ]
     },
     "execution_count": 38,
     "metadata": {},
     "output_type": "execute_result"
    }
   ],
   "source": [
    "fifth2"
   ]
  },
  {
   "cell_type": "code",
   "execution_count": 39,
   "id": "4223a626",
   "metadata": {},
   "outputs": [],
   "source": [
    "fiterm1=fifth2.subs({a1:1,a2:0,a3:0,a4:0,a5:0})\n",
    "fiterm2=fifth2.subs({a1:0,a2:1,a3:0,a4:0,a5:0})\n",
    "fiterm3=fifth2.subs({a1:0,a2:0,a3:1,a4:0,a5:0})\n",
    "fiterm4=fifth2.subs({a1:0,a2:0,a3:0,a4:1,a5:0})\n",
    "fiterm5=fifth2.subs({a1:0,a2:0,a3:0,a4:0,a5:1})\n",
    "fifb=fiterm2/fiterm1\n",
    "fifc=fiterm3/fiterm1\n",
    "fifd=fiterm4/fiterm1\n",
    "fife=fiterm5/fiterm1"
   ]
  },
  {
   "cell_type": "code",
   "execution_count": 40,
   "id": "4839af1b",
   "metadata": {},
   "outputs": [],
   "source": [
    "fifratio=(foratio.subs({b:fifb,c:fifc,d:fifd,e:fife})).full_simplify().factor()\n",
    "cincob=dosb.subs({b:fifb,c:fifc,d:fifd,e:fife}).full_simplify().factor()\n",
    "cincoc=dosc.subs({b:fifb,c:fifc,d:fifd,e:fife}).full_simplify().factor()"
   ]
  },
  {
   "cell_type": "code",
   "execution_count": 41,
   "id": "d63bc722",
   "metadata": {},
   "outputs": [
    {
     "data": {
      "text/plain": [
       "(2*(alpha*b + c)/(3*alpha + b), (alpha*c + 3*d)/(3*alpha + b))"
      ]
     },
     "execution_count": 41,
     "metadata": {},
     "output_type": "execute_result"
    }
   ],
   "source": [
    "newb, newc"
   ]
  },
  {
   "cell_type": "code",
   "execution_count": 42,
   "id": "fcd0a280",
   "metadata": {},
   "outputs": [
    {
     "data": {
      "text/plain": [
       "((3*alpha^2*b + 4*alpha*c + 3*d)/(6*alpha^2 + 3*alpha*b + c),\n",
       " (alpha^2*c + 3*alpha*d + 6*e)/(6*alpha^2 + 3*alpha*b + c))"
      ]
     },
     "execution_count": 42,
     "metadata": {},
     "output_type": "execute_result"
    }
   ],
   "source": [
    "dosb,dosc"
   ]
  },
  {
   "cell_type": "code",
   "execution_count": 43,
   "id": "37167530",
   "metadata": {},
   "outputs": [
    {
     "data": {
      "text/plain": [
       "(2*(2*alpha^3*b + 3*alpha^2*c + 3*alpha*d + 2*e)/(10*alpha^3 + 6*alpha^2*b + 3*alpha*c + d),\n",
       " (alpha^3*c + 3*alpha^2*d + 6*alpha*e + 10*f)/(10*alpha^3 + 6*alpha^2*b + 3*alpha*c + d))"
      ]
     },
     "execution_count": 43,
     "metadata": {},
     "output_type": "execute_result"
    }
   ],
   "source": [
    "cincob, cincoc"
   ]
  },
  {
   "cell_type": "code",
   "execution_count": 44,
   "id": "6e09a220",
   "metadata": {},
   "outputs": [],
   "source": [
    "fiexp2=(fifratio^2+cincob*fifratio+cincoc).full_simplify().factor()"
   ]
  },
  {
   "cell_type": "code",
   "execution_count": 45,
   "id": "a452501f",
   "metadata": {},
   "outputs": [
    {
     "data": {
      "text/plain": [
       "-5*(2*alpha^6*b^2 - 5*alpha^6*c + 3*alpha^5*b*c + 3*alpha^4*c^2 - 15*alpha^5*d - 3*alpha^4*b*d + 4*alpha^3*c*d - 30*alpha^4*e - 14*alpha^3*b*e + 3*alpha^2*d^2 - 3*alpha^2*c*e - 50*alpha^3*f - 30*alpha^2*b*f + 3*alpha*d*e - 15*alpha*c*f + 2*e^2 - 5*d*f)*(alpha^5 + alpha^4*b + alpha^3*c + alpha^2*d + alpha*e + f)/((5*alpha^4 + 4*alpha^3*b + 3*alpha^2*c + 2*alpha*d + e)^2*(10*alpha^3 + 6*alpha^2*b + 3*alpha*c + d))"
      ]
     },
     "execution_count": 45,
     "metadata": {},
     "output_type": "execute_result"
    }
   ],
   "source": [
    "fiexp2"
   ]
  },
  {
   "cell_type": "code",
   "execution_count": 46,
   "id": "d4b720a2",
   "metadata": {},
   "outputs": [],
   "source": [
    "exp3=(2*alpha^6*b^2 - 5*alpha^6*c + 3*alpha^5*b*c + 3*alpha^4*c^2 - 15*alpha^5*d - 3*alpha^4*b*d + 4*alpha^3*c*d - 30*alpha^4*e - 14*alpha^3*b*e + 3*alpha^2*d^2 - 3*alpha^2*c*e - 50*alpha^3*f - 30*alpha^2*b*f + 3*alpha*d*e - 15*alpha*c*f + 2*e^2 - 5*d*f)"
   ]
  },
  {
   "cell_type": "code",
   "execution_count": 47,
   "id": "a30bbee6",
   "metadata": {},
   "outputs": [],
   "source": [
    "fsol=solve(exp3==0,f)\n",
    "fsol2=fsol[0].rhs()"
   ]
  },
  {
   "cell_type": "code",
   "execution_count": 48,
   "id": "80526638",
   "metadata": {},
   "outputs": [],
   "source": [
    "fratio=fifratio.subs({f:fsol2}).full_simplify().factor()"
   ]
  },
  {
   "cell_type": "code",
   "execution_count": 49,
   "id": "8cafa6eb",
   "metadata": {},
   "outputs": [
    {
     "data": {
      "text/plain": [
       "-(alpha*b + c)/(3*alpha + b)"
      ]
     },
     "execution_count": 49,
     "metadata": {},
     "output_type": "execute_result"
    }
   ],
   "source": [
    "dratio"
   ]
  },
  {
   "cell_type": "code",
   "execution_count": 50,
   "id": "2135b94c",
   "metadata": {},
   "outputs": [
    {
     "data": {
      "text/plain": [
       "-1/2*(3*alpha^2*b + 4*alpha*c + 3*d)/(6*alpha^2 + 3*alpha*b + c)"
      ]
     },
     "execution_count": 50,
     "metadata": {},
     "output_type": "execute_result"
    }
   ],
   "source": [
    "eratio"
   ]
  },
  {
   "cell_type": "code",
   "execution_count": 51,
   "id": "6b5586a4",
   "metadata": {},
   "outputs": [
    {
     "data": {
      "text/plain": [
       "-(2*alpha^3*b + 3*alpha^2*c + 3*alpha*d + 2*e)/(10*alpha^3 + 6*alpha^2*b + 3*alpha*c + d)"
      ]
     },
     "execution_count": 51,
     "metadata": {},
     "output_type": "execute_result"
    }
   ],
   "source": [
    "fratio"
   ]
  },
  {
   "cell_type": "code",
   "execution_count": 52,
   "id": "0f6218de",
   "metadata": {},
   "outputs": [],
   "source": [
    "altafi=(fratio^2+cincob*fratio+cincoc).full_simplify().factor()"
   ]
  },
  {
   "cell_type": "code",
   "execution_count": null,
   "id": "49860835",
   "metadata": {},
   "outputs": [],
   "source": []
  },
  {
   "cell_type": "code",
   "execution_count": 53,
   "id": "b659a1fe",
   "metadata": {},
   "outputs": [],
   "source": [
    "altafi2=mycollect(altafi.numerator(),alpha)"
   ]
  },
  {
   "cell_type": "code",
   "execution_count": 54,
   "id": "ab38c4be",
   "metadata": {},
   "outputs": [],
   "source": [
    "newbi=altafi2\n",
    "for i in range(0,2):\n",
    "    newbi=mycollect(newbi,alpha)\n",
    "    pris=newbi.operands()[0].subs({alpha:1})\n",
    "    newbi=(newbi-pris*alpha^(2-i-1)*(alpha^5 + alpha^4*b + alpha^3*c + alpha^2*d + alpha*e+f)).full_simplify()"
   ]
  },
  {
   "cell_type": "code",
   "execution_count": 55,
   "id": "60ad3589",
   "metadata": {},
   "outputs": [
    {
     "data": {
      "text/plain": [
       "-4*(b^4 - 5*b^2*c + 4*c^2 + 6*b*d - 15*e)*alpha^4 - 4*(b^3*c - 4*b*c^2 - b^2*d + 12*c*d - 7*b*e - 25*f)*alpha^3 - 4*b^3*f - 4*(b^3*d - 4*b*c*d - b^2*e + 9*d^2 + c*e - 15*b*f)*alpha^2 + 16*b*c*f - 4*(b^3*e - 4*b*c*e - b^2*f + 9*d*e - 5*c*f)*alpha - 4*e^2 - 20*d*f"
      ]
     },
     "execution_count": 55,
     "metadata": {},
     "output_type": "execute_result"
    }
   ],
   "source": [
    "mycollect(newbi,alpha)"
   ]
  },
  {
   "cell_type": "code",
   "execution_count": null,
   "id": "a7a0e63e",
   "metadata": {},
   "outputs": [],
   "source": []
  },
  {
   "cell_type": "code",
   "execution_count": 56,
   "id": "83aed158",
   "metadata": {},
   "outputs": [
    {
     "data": {
      "text/plain": [
       "-2*(2*b^2 - 5*c)*alpha^6 - 6*(b*c - 5*d)*alpha^5 - 6*(c^2 - b*d - 10*e)*alpha^4 - 4*(2*c*d - 7*b*e - 25*f)*alpha^3 - 6*(d^2 - c*e - 10*b*f)*alpha^2 - 6*(d*e - 5*c*f)*alpha - 4*e^2 + 10*d*f"
      ]
     },
     "execution_count": 56,
     "metadata": {},
     "output_type": "execute_result"
    }
   ],
   "source": [
    "altafi2"
   ]
  },
  {
   "cell_type": "code",
   "execution_count": 57,
   "id": "33e6283c",
   "metadata": {},
   "outputs": [],
   "source": [
    "dis1=altafi2.operands()[0].subs({alpha:1})"
   ]
  },
  {
   "cell_type": "code",
   "execution_count": 58,
   "id": "b55180e3",
   "metadata": {},
   "outputs": [
    {
     "data": {
      "text/plain": [
       "alpha^4 + alpha^3*b + alpha^2*c + alpha*d + e"
      ]
     },
     "execution_count": 58,
     "metadata": {},
     "output_type": "execute_result"
    }
   ],
   "source": [
    "(alpha^4 + alpha^3*b + alpha^2*c + alpha*d + e)"
   ]
  },
  {
   "cell_type": "code",
   "execution_count": 59,
   "id": "7110f98d",
   "metadata": {},
   "outputs": [
    {
     "data": {
      "text/plain": [
       "-3/4*(3*alpha^4*b^2 - 8*alpha^4*c + 4*alpha^3*b*c + 4*alpha^2*c^2 - 24*alpha^3*d - 6*alpha^2*b*d + 4*alpha*c*d - 48*alpha^2*e - 24*alpha*b*e + 3*d^2 - 8*c*e)/(6*alpha^2 + 3*alpha*b + c)^2"
      ]
     },
     "execution_count": 59,
     "metadata": {},
     "output_type": "execute_result"
    }
   ],
   "source": [
    "altafo"
   ]
  },
  {
   "cell_type": "code",
   "execution_count": 60,
   "id": "6ef12f61",
   "metadata": {},
   "outputs": [],
   "source": [
    "tmp=mycollect(altafo3,alpha)"
   ]
  },
  {
   "cell_type": "code",
   "execution_count": 61,
   "id": "a091b4bf",
   "metadata": {},
   "outputs": [
    {
     "data": {
      "text/plain": [
       "-3*b^3 - 3*b^2*c - 3*b^2*d - 3*b^2*e + 12*b*c + 12*c^2 - 6*b*d + 12*c*d + 3*d^2 - 24*b*e - 24*d - 48*e"
      ]
     },
     "execution_count": 61,
     "metadata": {},
     "output_type": "execute_result"
    }
   ],
   "source": [
    "tmp.subs({alpha:1})"
   ]
  },
  {
   "cell_type": "code",
   "execution_count": 62,
   "id": "00c1694c",
   "metadata": {},
   "outputs": [
    {
     "ename": "NameError",
     "evalue": "name 'tmp2' is not defined",
     "output_type": "error",
     "traceback": [
      "\u001b[0;31m---------------------------------------------------------------------------\u001b[0m",
      "\u001b[0;31mNameError\u001b[0m                                 Traceback (most recent call last)",
      "Cell \u001b[0;32mIn[62], line 1\u001b[0m\n\u001b[0;32m----> 1\u001b[0m \u001b[43mtmp2\u001b[49m\u001b[38;5;241m.\u001b[39msubs({alpha:Integer(\u001b[38;5;241m1\u001b[39m)})\n",
      "\u001b[0;31mNameError\u001b[0m: name 'tmp2' is not defined"
     ]
    }
   ],
   "source": [
    "tmp2.subs({alpha:1})"
   ]
  },
  {
   "cell_type": "code",
   "execution_count": null,
   "id": "6967009d",
   "metadata": {},
   "outputs": [],
   "source": []
  },
  {
   "cell_type": "code",
   "execution_count": null,
   "id": "f57af80c",
   "metadata": {},
   "outputs": [],
   "source": []
  },
  {
   "cell_type": "code",
   "execution_count": null,
   "id": "93be1c61",
   "metadata": {},
   "outputs": [],
   "source": []
  },
  {
   "cell_type": "code",
   "execution_count": null,
   "id": "188b8718",
   "metadata": {},
   "outputs": [],
   "source": []
  },
  {
   "cell_type": "code",
   "execution_count": null,
   "id": "309dee52",
   "metadata": {},
   "outputs": [],
   "source": []
  },
  {
   "cell_type": "code",
   "execution_count": null,
   "id": "40a8febf",
   "metadata": {},
   "outputs": [],
   "source": []
  }
 ],
 "metadata": {
  "kernelspec": {
   "display_name": "SageMath 9.7 [conda env:sagemath]",
   "language": "sage",
   "name": "conda-env-sagemath-sagemath"
  },
  "language_info": {
   "codemirror_mode": {
    "name": "ipython",
    "version": 3
   },
   "file_extension": ".py",
   "mimetype": "text/x-python",
   "name": "python",
   "nbconvert_exporter": "python",
   "pygments_lexer": "ipython3",
   "version": "3.10.4"
  }
 },
 "nbformat": 4,
 "nbformat_minor": 5
}
