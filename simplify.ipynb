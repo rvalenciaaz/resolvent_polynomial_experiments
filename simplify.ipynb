{
 "cells": [
  {
   "cell_type": "code",
   "execution_count": 2,
   "id": "35b8ec02",
   "metadata": {},
   "outputs": [
    {
     "data": {
      "text/plain": [
       "(x, y, z, w, a, b, c, t, N)"
      ]
     },
     "execution_count": 2,
     "metadata": {},
     "output_type": "execute_result"
    }
   ],
   "source": [
    "var('x,y,z,w,a,b,c,t,N')"
   ]
  },
  {
   "cell_type": "code",
   "execution_count": 20,
   "id": "93ed26e5",
   "metadata": {},
   "outputs": [],
   "source": [
    "f=(x-y)*(t-N+1)+ b*((y-z)*(t-N)) + c*((z-w)*(t-N-1))==0"
   ]
  },
  {
   "cell_type": "code",
   "execution_count": 24,
   "id": "0dbbd106",
   "metadata": {},
   "outputs": [
    {
     "data": {
      "text/plain": [
       "N*c*w - c*t*w - N*b*y + b*t*y + N*b*z - N*c*z - b*t*z + c*t*z + c*w - N*x + t*x + N*y - t*y - c*z + x - y == 0"
      ]
     },
     "execution_count": 24,
     "metadata": {},
     "output_type": "execute_result"
    }
   ],
   "source": [
    "f.expand()"
   ]
  },
  {
   "cell_type": "code",
   "execution_count": 32,
   "id": "f9673834",
   "metadata": {},
   "outputs": [],
   "source": [
    "eq1=x+b*y+c*z==0"
   ]
  },
  {
   "cell_type": "code",
   "execution_count": 33,
   "id": "9f7abd80",
   "metadata": {},
   "outputs": [],
   "source": [
    "eq2=y+b*z+c*w==0"
   ]
  },
  {
   "cell_type": "code",
   "execution_count": 27,
   "id": "d6aa00a9",
   "metadata": {},
   "outputs": [
    {
     "data": {
      "text/plain": [
       "[]"
      ]
     },
     "execution_count": 27,
     "metadata": {},
     "output_type": "execute_result"
    }
   ],
   "source": []
  },
  {
   "cell_type": "code",
   "execution_count": 13,
   "id": "a50ec04c",
   "metadata": {},
   "outputs": [],
   "source": [
    "new=- (N - t - 1)*x "
   ]
  },
  {
   "cell_type": "code",
   "execution_count": 15,
   "id": "0c3aa2e8",
   "metadata": {},
   "outputs": [],
   "source": [
    "new2= - (N*b - (b - 1)*t - N)*y"
   ]
  },
  {
   "cell_type": "code",
   "execution_count": 19,
   "id": "f09e984a",
   "metadata": {},
   "outputs": [
    {
     "data": {
      "text/plain": [
       "-(N - t)*(b - 1)*y"
      ]
     },
     "execution_count": 19,
     "metadata": {},
     "output_type": "execute_result"
    }
   ],
   "source": [
    "new2.factor()"
   ]
  },
  {
   "cell_type": "code",
   "execution_count": 40,
   "id": "7384d5ac",
   "metadata": {},
   "outputs": [],
   "source": [
    "new3=-(y-(x+b*y)/c)+x+b*y + x - y"
   ]
  },
  {
   "cell_type": "code",
   "execution_count": 35,
   "id": "2c8544dc",
   "metadata": {},
   "outputs": [
    {
     "data": {
      "text/plain": [
       "[]"
      ]
     },
     "execution_count": 35,
     "metadata": {},
     "output_type": "execute_result"
    }
   ],
   "source": [
    "solve([eq1,eq2,new3],x)"
   ]
  },
  {
   "cell_type": "code",
   "execution_count": 41,
   "id": "bd227f41",
   "metadata": {},
   "outputs": [
    {
     "data": {
      "text/plain": [
       "((2*c + 1)*x + ((b - 2)*c + b)*y)/c"
      ]
     },
     "execution_count": 41,
     "metadata": {},
     "output_type": "execute_result"
    }
   ],
   "source": [
    "new3.full_simplify()"
   ]
  },
  {
   "cell_type": "code",
   "execution_count": 39,
   "id": "42158900",
   "metadata": {},
   "outputs": [
    {
     "data": {
      "text/plain": [
       "[]"
      ]
     },
     "execution_count": 39,
     "metadata": {},
     "output_type": "execute_result"
    }
   ],
   "source": [
    "solve([eq1,new3],x)"
   ]
  },
  {
   "cell_type": "code",
   "execution_count": null,
   "id": "49446251",
   "metadata": {},
   "outputs": [],
   "source": [
    "new3.full_simplify()"
   ]
  }
 ],
 "metadata": {
  "kernelspec": {
   "display_name": "SageMath 9.5 [conda env:sagemath]",
   "language": "sage",
   "name": "conda-env-sagemath-sagemath"
  },
  "language_info": {
   "codemirror_mode": {
    "name": "ipython",
    "version": 3
   },
   "file_extension": ".py",
   "mimetype": "text/x-python",
   "name": "python",
   "nbconvert_exporter": "python",
   "pygments_lexer": "ipython3",
   "version": "3.10.4"
  }
 },
 "nbformat": 4,
 "nbformat_minor": 5
}
