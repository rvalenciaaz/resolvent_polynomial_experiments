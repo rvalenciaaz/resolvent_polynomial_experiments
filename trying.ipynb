{
 "cells": [
  {
   "cell_type": "code",
   "execution_count": 1,
   "id": "382503c4",
   "metadata": {},
   "outputs": [],
   "source": [
    "var_list=[\"wn_\"+str(i) for i in range(0,100)]+[\"a\"+str(i) for i in range(0,100)]+[\"x\"+str(i) for i in range(0,100)]+[\"alpha\",\"beta\",\"ratio\"]"
   ]
  },
  {
   "cell_type": "code",
   "execution_count": 2,
   "id": "edb61a74",
   "metadata": {},
   "outputs": [
    {
     "data": {
      "text/plain": [
       "(wn_0,\n",
       " wn_1,\n",
       " wn_2,\n",
       " wn_3,\n",
       " wn_4,\n",
       " wn_5,\n",
       " wn_6,\n",
       " wn_7,\n",
       " wn_8,\n",
       " wn_9,\n",
       " wn_10,\n",
       " wn_11,\n",
       " wn_12,\n",
       " wn_13,\n",
       " wn_14,\n",
       " wn_15,\n",
       " wn_16,\n",
       " wn_17,\n",
       " wn_18,\n",
       " wn_19,\n",
       " wn_20,\n",
       " wn_21,\n",
       " wn_22,\n",
       " wn_23,\n",
       " wn_24,\n",
       " wn_25,\n",
       " wn_26,\n",
       " wn_27,\n",
       " wn_28,\n",
       " wn_29,\n",
       " wn_30,\n",
       " wn_31,\n",
       " wn_32,\n",
       " wn_33,\n",
       " wn_34,\n",
       " wn_35,\n",
       " wn_36,\n",
       " wn_37,\n",
       " wn_38,\n",
       " wn_39,\n",
       " wn_40,\n",
       " wn_41,\n",
       " wn_42,\n",
       " wn_43,\n",
       " wn_44,\n",
       " wn_45,\n",
       " wn_46,\n",
       " wn_47,\n",
       " wn_48,\n",
       " wn_49,\n",
       " wn_50,\n",
       " wn_51,\n",
       " wn_52,\n",
       " wn_53,\n",
       " wn_54,\n",
       " wn_55,\n",
       " wn_56,\n",
       " wn_57,\n",
       " wn_58,\n",
       " wn_59,\n",
       " wn_60,\n",
       " wn_61,\n",
       " wn_62,\n",
       " wn_63,\n",
       " wn_64,\n",
       " wn_65,\n",
       " wn_66,\n",
       " wn_67,\n",
       " wn_68,\n",
       " wn_69,\n",
       " wn_70,\n",
       " wn_71,\n",
       " wn_72,\n",
       " wn_73,\n",
       " wn_74,\n",
       " wn_75,\n",
       " wn_76,\n",
       " wn_77,\n",
       " wn_78,\n",
       " wn_79,\n",
       " wn_80,\n",
       " wn_81,\n",
       " wn_82,\n",
       " wn_83,\n",
       " wn_84,\n",
       " wn_85,\n",
       " wn_86,\n",
       " wn_87,\n",
       " wn_88,\n",
       " wn_89,\n",
       " wn_90,\n",
       " wn_91,\n",
       " wn_92,\n",
       " wn_93,\n",
       " wn_94,\n",
       " wn_95,\n",
       " wn_96,\n",
       " wn_97,\n",
       " wn_98,\n",
       " wn_99,\n",
       " a0,\n",
       " a1,\n",
       " a2,\n",
       " a3,\n",
       " a4,\n",
       " a5,\n",
       " a6,\n",
       " a7,\n",
       " a8,\n",
       " a9,\n",
       " a10,\n",
       " a11,\n",
       " a12,\n",
       " a13,\n",
       " a14,\n",
       " a15,\n",
       " a16,\n",
       " a17,\n",
       " a18,\n",
       " a19,\n",
       " a20,\n",
       " a21,\n",
       " a22,\n",
       " a23,\n",
       " a24,\n",
       " a25,\n",
       " a26,\n",
       " a27,\n",
       " a28,\n",
       " a29,\n",
       " a30,\n",
       " a31,\n",
       " a32,\n",
       " a33,\n",
       " a34,\n",
       " a35,\n",
       " a36,\n",
       " a37,\n",
       " a38,\n",
       " a39,\n",
       " a40,\n",
       " a41,\n",
       " a42,\n",
       " a43,\n",
       " a44,\n",
       " a45,\n",
       " a46,\n",
       " a47,\n",
       " a48,\n",
       " a49,\n",
       " a50,\n",
       " a51,\n",
       " a52,\n",
       " a53,\n",
       " a54,\n",
       " a55,\n",
       " a56,\n",
       " a57,\n",
       " a58,\n",
       " a59,\n",
       " a60,\n",
       " a61,\n",
       " a62,\n",
       " a63,\n",
       " a64,\n",
       " a65,\n",
       " a66,\n",
       " a67,\n",
       " a68,\n",
       " a69,\n",
       " a70,\n",
       " a71,\n",
       " a72,\n",
       " a73,\n",
       " a74,\n",
       " a75,\n",
       " a76,\n",
       " a77,\n",
       " a78,\n",
       " a79,\n",
       " a80,\n",
       " a81,\n",
       " a82,\n",
       " a83,\n",
       " a84,\n",
       " a85,\n",
       " a86,\n",
       " a87,\n",
       " a88,\n",
       " a89,\n",
       " a90,\n",
       " a91,\n",
       " a92,\n",
       " a93,\n",
       " a94,\n",
       " a95,\n",
       " a96,\n",
       " a97,\n",
       " a98,\n",
       " a99,\n",
       " x0,\n",
       " x1,\n",
       " x2,\n",
       " x3,\n",
       " x4,\n",
       " x5,\n",
       " x6,\n",
       " x7,\n",
       " x8,\n",
       " x9,\n",
       " x10,\n",
       " x11,\n",
       " x12,\n",
       " x13,\n",
       " x14,\n",
       " x15,\n",
       " x16,\n",
       " x17,\n",
       " x18,\n",
       " x19,\n",
       " x20,\n",
       " x21,\n",
       " x22,\n",
       " x23,\n",
       " x24,\n",
       " x25,\n",
       " x26,\n",
       " x27,\n",
       " x28,\n",
       " x29,\n",
       " x30,\n",
       " x31,\n",
       " x32,\n",
       " x33,\n",
       " x34,\n",
       " x35,\n",
       " x36,\n",
       " x37,\n",
       " x38,\n",
       " x39,\n",
       " x40,\n",
       " x41,\n",
       " x42,\n",
       " x43,\n",
       " x44,\n",
       " x45,\n",
       " x46,\n",
       " x47,\n",
       " x48,\n",
       " x49,\n",
       " x50,\n",
       " x51,\n",
       " x52,\n",
       " x53,\n",
       " x54,\n",
       " x55,\n",
       " x56,\n",
       " x57,\n",
       " x58,\n",
       " x59,\n",
       " x60,\n",
       " x61,\n",
       " x62,\n",
       " x63,\n",
       " x64,\n",
       " x65,\n",
       " x66,\n",
       " x67,\n",
       " x68,\n",
       " x69,\n",
       " x70,\n",
       " x71,\n",
       " x72,\n",
       " x73,\n",
       " x74,\n",
       " x75,\n",
       " x76,\n",
       " x77,\n",
       " x78,\n",
       " x79,\n",
       " x80,\n",
       " x81,\n",
       " x82,\n",
       " x83,\n",
       " x84,\n",
       " x85,\n",
       " x86,\n",
       " x87,\n",
       " x88,\n",
       " x89,\n",
       " x90,\n",
       " x91,\n",
       " x92,\n",
       " x93,\n",
       " x94,\n",
       " x95,\n",
       " x96,\n",
       " x97,\n",
       " x98,\n",
       " x99,\n",
       " alpha,\n",
       " beta,\n",
       " ratio)"
      ]
     },
     "execution_count": 2,
     "metadata": {},
     "output_type": "execute_result"
    }
   ],
   "source": [
    "var(var_list)"
   ]
  },
  {
   "cell_type": "code",
   "execution_count": 3,
   "id": "10ab0601",
   "metadata": {},
   "outputs": [],
   "source": [
    "def mycollect(e1, e2):\n",
    "    \"\"\"\n",
    "    Collects e2 coefficients in e1, even when e2 is not a factor of\n",
    "    some of the terms of e1\n",
    "    \"\"\"\n",
    "    g = maxima_calculus.gensym()._sage_()\n",
    "    while g in e1.variables(): g = maxima_calculus.gensym()._sage_()\n",
    "    return sum([v[0]*g^v[1]\n",
    "                for v in e1.subs(e2==g).coefficients(g)]).subs(g==e2)"
   ]
  },
  {
   "cell_type": "code",
   "execution_count": 91,
   "id": "a99329db",
   "metadata": {},
   "outputs": [],
   "source": [
    "def mainexp(n):\n",
    "    return sum([i*eval(\"a\"+str(n-i))*(eval(\"wn_\"+str(i))*beta-alpha*eval(\"wn_\"+str(i+1))) for i in [1..n]])"
   ]
  },
  {
   "cell_type": "code",
   "execution_count": 92,
   "id": "9cf863f4",
   "metadata": {},
   "outputs": [],
   "source": [
    "def mainsim(n):\n",
    "    inter=sum([i*eval(\"a\"+str(n-i))*(eval(\"wn_\"+str(i))*beta-alpha*eval(\"wn_\"+str(i+1))) for i in [1..n]])\n",
    "    return inter.subs({beta:0})"
   ]
  },
  {
   "cell_type": "code",
   "execution_count": 72,
   "id": "319a014a",
   "metadata": {},
   "outputs": [],
   "source": [
    "def polexp(n):\n",
    "    return sum([eval(\"a\"+str(n-i))*eval(\"wn_\"+str(i+1)) for i in [1..n]])+wn_1"
   ]
  },
  {
   "cell_type": "code",
   "execution_count": null,
   "id": "bb3d29c6",
   "metadata": {},
   "outputs": [],
   "source": []
  },
  {
   "cell_type": "code",
   "execution_count": 86,
   "id": "fdca96a9",
   "metadata": {},
   "outputs": [],
   "source": [
    "numi=2\n",
    "savi=[]\n",
    "for ind in range(2,numi+1):\n",
    "    wnumi=\"wn_\"+str(numi+1)\n",
    "    wnumi=eval(wnumi)\n",
    "    try1=mainexp(numi).expand().operands()\n",
    "    try2=[i for i in try1 if i.has(wnumi)]\n",
    "    try3=try2[0].subs({a0:1,wnumi:1})\n",
    "    #th1=(a1 - alpha*a2)*b + 2*(a2 - alpha*a3)*c\n",
    "    th2=(mainexp(numi)-try3*polexp(numi)).full_simplify()\n",
    "    if numi==2:\n",
    "        order2=th2.subs({wn_1:wn_2*ratio})\n",
    "        rorder2=solve(order2==0, ratio)[0].rhs()\n",
    "        savi.append(rorder2)\n",
    "    #th3=th2.subs({w1:ratio*w2})\n",
    "    else:\n",
    "        terms=[]\n",
    "        for p in range(1,ind+1):\n",
    "            vari=[eval(\"wn_\"+str(i)) for i in range(1,ind+1)]\n",
    "            mock=[0]*ind\n",
    "            mock[p-1]=1\n",
    "            bina=dict(zip(vari,mock))\n",
    "            terms.append(th2.subs(bina))\n",
    "        terms2=[j/terms[0] for j in terms]"
   ]
  },
  {
   "cell_type": "code",
   "execution_count": 89,
   "id": "e255d024",
   "metadata": {},
   "outputs": [
    {
     "data": {
      "text/plain": [
       "-1/2*a1"
      ]
     },
     "execution_count": 89,
     "metadata": {},
     "output_type": "execute_result"
    }
   ],
   "source": [
    "rorder2.subs({beta:0})"
   ]
  },
  {
   "cell_type": "code",
   "execution_count": 54,
   "id": "d878d2a0",
   "metadata": {},
   "outputs": [
    {
     "data": {
      "text/plain": [
       "a1*wn_2 + a0*wn_3 + wn_1"
      ]
     },
     "execution_count": 54,
     "metadata": {},
     "output_type": "execute_result"
    }
   ],
   "source": [
    "polexp(numi-1)"
   ]
  },
  {
   "cell_type": "code",
   "execution_count": 118,
   "id": "13eb18b1",
   "metadata": {},
   "outputs": [],
   "source": [
    "numi=3\n",
    "savi=[]\n",
    "for ind in range(2,numi+1):\n",
    "    wnumi=\"wn_\"+str(numi+1)\n",
    "    wnumi=eval(wnumi)\n",
    "    try1=mainsim(numi).expand().operands()\n",
    "    try2=[i for i in try1 if i.has(wnumi)]\n",
    "    try3=try2[0].subs({a0:1,wnumi:1})\n",
    "    #th1=(a1 - alpha*a2)*b + 2*(a2 - alpha*a3)*c\n",
    "    th2=(mainsim(numi)-try3*polexp(numi)).full_simplify()\n",
    "    if numi==2:\n",
    "        #th2=mainsim(numi)\n",
    "        order2=th2.subs({wn_1:wn_2*ratio})\n",
    "        rorder2=solve(order2==0, ratio)[0].rhs()\n",
    "        savi.append(rorder2)\n",
    "    #th3=th2.subs({w1:ratio*w2})\n",
    "    else:\n",
    "        terms=[]\n",
    "        for p in range(1,ind+1):\n",
    "            vari=[eval(\"wn_\"+str(i)) for i in range(1,ind+1)]\n",
    "            mock=[0]*ind\n",
    "            mock[p-1]=1\n",
    "            bina=dict(zip(vari,mock))\n",
    "            terms.append(th2.subs(bina))\n",
    "        terms2=[j/terms[0] for j in terms]"
   ]
  },
  {
   "cell_type": "code",
   "execution_count": null,
   "id": "b3146a4f",
   "metadata": {},
   "outputs": [],
   "source": []
  },
  {
   "cell_type": "code",
   "execution_count": 138,
   "id": "1ef2aef7",
   "metadata": {},
   "outputs": [
    {
     "data": {
      "text/plain": [
       "a1*wn_2 + a0*wn_3 + wn_1"
      ]
     },
     "execution_count": 138,
     "metadata": {},
     "output_type": "execute_result"
    }
   ],
   "source": [
    "polexp(2)"
   ]
  },
  {
   "cell_type": "code",
   "execution_count": 149,
   "id": "8c01698f",
   "metadata": {},
   "outputs": [],
   "source": [
    "teni=(a1*wn_3 + a0*wn_4 + wn_2)*3*alpha"
   ]
  },
  {
   "cell_type": "code",
   "execution_count": 153,
   "id": "83bf3fb8",
   "metadata": {},
   "outputs": [],
   "source": [
    "teni2=(mainsim(3)+teni).full_simplify()"
   ]
  },
  {
   "cell_type": "code",
   "execution_count": 154,
   "id": "c2e4ea1d",
   "metadata": {},
   "outputs": [
    {
     "data": {
      "text/plain": [
       "-(a2 - 3)*alpha*wn_2 + a1*alpha*wn_3"
      ]
     },
     "execution_count": 154,
     "metadata": {},
     "output_type": "execute_result"
    }
   ],
   "source": [
    "teni2"
   ]
  },
  {
   "cell_type": "code",
   "execution_count": 124,
   "id": "249365e8",
   "metadata": {},
   "outputs": [],
   "source": [
    "tempo=(th2-(polexp(2)*(a1*alpha)/a0).expand())"
   ]
  },
  {
   "cell_type": "code",
   "execution_count": 127,
   "id": "e0a49228",
   "metadata": {},
   "outputs": [],
   "source": [
    "tempo2=tempo.subs({wn_1:wn_2*ratio})"
   ]
  },
  {
   "cell_type": "code",
   "execution_count": 128,
   "id": "b35b52d0",
   "metadata": {},
   "outputs": [
    {
     "data": {
      "text/plain": [
       "(a1^2 - 2*a0*a2)/(3*a0 - a1)"
      ]
     },
     "execution_count": 128,
     "metadata": {},
     "output_type": "execute_result"
    }
   ],
   "source": [
    "solve(tempo2==0, ratio)[0].rhs()"
   ]
  },
  {
   "cell_type": "code",
   "execution_count": null,
   "id": "f3b10fbb",
   "metadata": {},
   "outputs": [],
   "source": []
  }
 ],
 "metadata": {
  "kernelspec": {
   "display_name": "SageMath 9.7 [conda env:sagemath]",
   "language": "sage",
   "name": "conda-env-sagemath-sagemath"
  },
  "language_info": {
   "codemirror_mode": {
    "name": "ipython",
    "version": 3
   },
   "file_extension": ".py",
   "mimetype": "text/x-python",
   "name": "python",
   "nbconvert_exporter": "python",
   "pygments_lexer": "ipython3",
   "version": "3.10.4"
  }
 },
 "nbformat": 4,
 "nbformat_minor": 5
}
