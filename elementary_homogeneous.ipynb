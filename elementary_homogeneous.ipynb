{
 "cells": [
  {
   "cell_type": "code",
   "execution_count": 39,
   "id": "e3a2de9a",
   "metadata": {},
   "outputs": [],
   "source": [
    "var_list=[\"x\"+str(i) for i in range(0,100)]+[\"e\"+str(i) for i in range(0,100)]+[\"h\"+str(i) for i in range(0,100)]+[\"alpha\",\"beta\",\"ratio\",\"k\"]+[\"p\"+str(i) for i in range(0,100)]"
   ]
  },
  {
   "cell_type": "code",
   "execution_count": 40,
   "id": "cb5d86a9",
   "metadata": {},
   "outputs": [
    {
     "data": {
      "text/plain": [
       "(x0,\n",
       " x1,\n",
       " x2,\n",
       " x3,\n",
       " x4,\n",
       " x5,\n",
       " x6,\n",
       " x7,\n",
       " x8,\n",
       " x9,\n",
       " x10,\n",
       " x11,\n",
       " x12,\n",
       " x13,\n",
       " x14,\n",
       " x15,\n",
       " x16,\n",
       " x17,\n",
       " x18,\n",
       " x19,\n",
       " x20,\n",
       " x21,\n",
       " x22,\n",
       " x23,\n",
       " x24,\n",
       " x25,\n",
       " x26,\n",
       " x27,\n",
       " x28,\n",
       " x29,\n",
       " x30,\n",
       " x31,\n",
       " x32,\n",
       " x33,\n",
       " x34,\n",
       " x35,\n",
       " x36,\n",
       " x37,\n",
       " x38,\n",
       " x39,\n",
       " x40,\n",
       " x41,\n",
       " x42,\n",
       " x43,\n",
       " x44,\n",
       " x45,\n",
       " x46,\n",
       " x47,\n",
       " x48,\n",
       " x49,\n",
       " x50,\n",
       " x51,\n",
       " x52,\n",
       " x53,\n",
       " x54,\n",
       " x55,\n",
       " x56,\n",
       " x57,\n",
       " x58,\n",
       " x59,\n",
       " x60,\n",
       " x61,\n",
       " x62,\n",
       " x63,\n",
       " x64,\n",
       " x65,\n",
       " x66,\n",
       " x67,\n",
       " x68,\n",
       " x69,\n",
       " x70,\n",
       " x71,\n",
       " x72,\n",
       " x73,\n",
       " x74,\n",
       " x75,\n",
       " x76,\n",
       " x77,\n",
       " x78,\n",
       " x79,\n",
       " x80,\n",
       " x81,\n",
       " x82,\n",
       " x83,\n",
       " x84,\n",
       " x85,\n",
       " x86,\n",
       " x87,\n",
       " x88,\n",
       " x89,\n",
       " x90,\n",
       " x91,\n",
       " x92,\n",
       " x93,\n",
       " x94,\n",
       " x95,\n",
       " x96,\n",
       " x97,\n",
       " x98,\n",
       " x99,\n",
       " e0,\n",
       " e1,\n",
       " e2,\n",
       " e3,\n",
       " e4,\n",
       " e5,\n",
       " e6,\n",
       " e7,\n",
       " e8,\n",
       " e9,\n",
       " e10,\n",
       " e11,\n",
       " e12,\n",
       " e13,\n",
       " e14,\n",
       " e15,\n",
       " e16,\n",
       " e17,\n",
       " e18,\n",
       " e19,\n",
       " e20,\n",
       " e21,\n",
       " e22,\n",
       " e23,\n",
       " e24,\n",
       " e25,\n",
       " e26,\n",
       " e27,\n",
       " e28,\n",
       " e29,\n",
       " e30,\n",
       " e31,\n",
       " e32,\n",
       " e33,\n",
       " e34,\n",
       " e35,\n",
       " e36,\n",
       " e37,\n",
       " e38,\n",
       " e39,\n",
       " e40,\n",
       " e41,\n",
       " e42,\n",
       " e43,\n",
       " e44,\n",
       " e45,\n",
       " e46,\n",
       " e47,\n",
       " e48,\n",
       " e49,\n",
       " e50,\n",
       " e51,\n",
       " e52,\n",
       " e53,\n",
       " e54,\n",
       " e55,\n",
       " e56,\n",
       " e57,\n",
       " e58,\n",
       " e59,\n",
       " e60,\n",
       " e61,\n",
       " e62,\n",
       " e63,\n",
       " e64,\n",
       " e65,\n",
       " e66,\n",
       " e67,\n",
       " e68,\n",
       " e69,\n",
       " e70,\n",
       " e71,\n",
       " e72,\n",
       " e73,\n",
       " e74,\n",
       " e75,\n",
       " e76,\n",
       " e77,\n",
       " e78,\n",
       " e79,\n",
       " e80,\n",
       " e81,\n",
       " e82,\n",
       " e83,\n",
       " e84,\n",
       " e85,\n",
       " e86,\n",
       " e87,\n",
       " e88,\n",
       " e89,\n",
       " e90,\n",
       " e91,\n",
       " e92,\n",
       " e93,\n",
       " e94,\n",
       " e95,\n",
       " e96,\n",
       " e97,\n",
       " e98,\n",
       " e99,\n",
       " h0,\n",
       " h1,\n",
       " h2,\n",
       " h3,\n",
       " h4,\n",
       " h5,\n",
       " h6,\n",
       " h7,\n",
       " h8,\n",
       " h9,\n",
       " h10,\n",
       " h11,\n",
       " h12,\n",
       " h13,\n",
       " h14,\n",
       " h15,\n",
       " h16,\n",
       " h17,\n",
       " h18,\n",
       " h19,\n",
       " h20,\n",
       " h21,\n",
       " h22,\n",
       " h23,\n",
       " h24,\n",
       " h25,\n",
       " h26,\n",
       " h27,\n",
       " h28,\n",
       " h29,\n",
       " h30,\n",
       " h31,\n",
       " h32,\n",
       " h33,\n",
       " h34,\n",
       " h35,\n",
       " h36,\n",
       " h37,\n",
       " h38,\n",
       " h39,\n",
       " h40,\n",
       " h41,\n",
       " h42,\n",
       " h43,\n",
       " h44,\n",
       " h45,\n",
       " h46,\n",
       " h47,\n",
       " h48,\n",
       " h49,\n",
       " h50,\n",
       " h51,\n",
       " h52,\n",
       " h53,\n",
       " h54,\n",
       " h55,\n",
       " h56,\n",
       " h57,\n",
       " h58,\n",
       " h59,\n",
       " h60,\n",
       " h61,\n",
       " h62,\n",
       " h63,\n",
       " h64,\n",
       " h65,\n",
       " h66,\n",
       " h67,\n",
       " h68,\n",
       " h69,\n",
       " h70,\n",
       " h71,\n",
       " h72,\n",
       " h73,\n",
       " h74,\n",
       " h75,\n",
       " h76,\n",
       " h77,\n",
       " h78,\n",
       " h79,\n",
       " h80,\n",
       " h81,\n",
       " h82,\n",
       " h83,\n",
       " h84,\n",
       " h85,\n",
       " h86,\n",
       " h87,\n",
       " h88,\n",
       " h89,\n",
       " h90,\n",
       " h91,\n",
       " h92,\n",
       " h93,\n",
       " h94,\n",
       " h95,\n",
       " h96,\n",
       " h97,\n",
       " h98,\n",
       " h99,\n",
       " alpha,\n",
       " beta,\n",
       " ratio,\n",
       " k,\n",
       " p0,\n",
       " p1,\n",
       " p2,\n",
       " p3,\n",
       " p4,\n",
       " p5,\n",
       " p6,\n",
       " p7,\n",
       " p8,\n",
       " p9,\n",
       " p10,\n",
       " p11,\n",
       " p12,\n",
       " p13,\n",
       " p14,\n",
       " p15,\n",
       " p16,\n",
       " p17,\n",
       " p18,\n",
       " p19,\n",
       " p20,\n",
       " p21,\n",
       " p22,\n",
       " p23,\n",
       " p24,\n",
       " p25,\n",
       " p26,\n",
       " p27,\n",
       " p28,\n",
       " p29,\n",
       " p30,\n",
       " p31,\n",
       " p32,\n",
       " p33,\n",
       " p34,\n",
       " p35,\n",
       " p36,\n",
       " p37,\n",
       " p38,\n",
       " p39,\n",
       " p40,\n",
       " p41,\n",
       " p42,\n",
       " p43,\n",
       " p44,\n",
       " p45,\n",
       " p46,\n",
       " p47,\n",
       " p48,\n",
       " p49,\n",
       " p50,\n",
       " p51,\n",
       " p52,\n",
       " p53,\n",
       " p54,\n",
       " p55,\n",
       " p56,\n",
       " p57,\n",
       " p58,\n",
       " p59,\n",
       " p60,\n",
       " p61,\n",
       " p62,\n",
       " p63,\n",
       " p64,\n",
       " p65,\n",
       " p66,\n",
       " p67,\n",
       " p68,\n",
       " p69,\n",
       " p70,\n",
       " p71,\n",
       " p72,\n",
       " p73,\n",
       " p74,\n",
       " p75,\n",
       " p76,\n",
       " p77,\n",
       " p78,\n",
       " p79,\n",
       " p80,\n",
       " p81,\n",
       " p82,\n",
       " p83,\n",
       " p84,\n",
       " p85,\n",
       " p86,\n",
       " p87,\n",
       " p88,\n",
       " p89,\n",
       " p90,\n",
       " p91,\n",
       " p92,\n",
       " p93,\n",
       " p94,\n",
       " p95,\n",
       " p96,\n",
       " p97,\n",
       " p98,\n",
       " p99)"
      ]
     },
     "execution_count": 40,
     "metadata": {},
     "output_type": "execute_result"
    }
   ],
   "source": [
    "var(var_list)"
   ]
  },
  {
   "cell_type": "code",
   "execution_count": 41,
   "id": "a03621d1",
   "metadata": {},
   "outputs": [],
   "source": [
    "e = SymmetricFunctions(QQ).e()\n",
    "h=SymmetricFunctions(QQ).h()\n",
    "p=SymmetricFunctions(QQ).p()"
   ]
  },
  {
   "cell_type": "code",
   "execution_count": null,
   "id": "542fcef0",
   "metadata": {},
   "outputs": [],
   "source": []
  },
  {
   "cell_type": "code",
   "execution_count": 42,
   "id": "2ea88e28",
   "metadata": {},
   "outputs": [],
   "source": [
    "def ele_dict(deg):\n",
    "        es=[e[i].expand(deg) for i in range(0,deg+1)]\n",
    "        coe=[i for i in range(0,deg+1)]\n",
    "        return dict(zip(coe,es))"
   ]
  },
  {
   "cell_type": "code",
   "execution_count": 43,
   "id": "62b151d7",
   "metadata": {},
   "outputs": [],
   "source": [
    "def hom_dict(deg):\n",
    "        es=[h[i].expand(deg) for i in range(0,deg+1)]\n",
    "        coe=[i for i in range(0,deg+1)]\n",
    "        return dict(zip(coe,es))"
   ]
  },
  {
   "cell_type": "code",
   "execution_count": 44,
   "id": "615366e8",
   "metadata": {},
   "outputs": [],
   "source": [
    "def pow_dict(deg):\n",
    "        es=[h[i].expand(deg) for i in range(0,deg+1)]\n",
    "        coe=[i for i in range(0,deg+1)]\n",
    "        return dict(zip(coe,es))"
   ]
  },
  {
   "cell_type": "code",
   "execution_count": 144,
   "id": "ab8ff720",
   "metadata": {},
   "outputs": [],
   "source": [
    "varnum=3"
   ]
  },
  {
   "cell_type": "code",
   "execution_count": 145,
   "id": "dd43ffdb",
   "metadata": {},
   "outputs": [],
   "source": [
    "edic=ele_dict(varnum)"
   ]
  },
  {
   "cell_type": "code",
   "execution_count": 146,
   "id": "1a928733",
   "metadata": {},
   "outputs": [],
   "source": [
    "hdic=hom_dict(varnum)"
   ]
  },
  {
   "cell_type": "code",
   "execution_count": 147,
   "id": "87b7492e",
   "metadata": {},
   "outputs": [],
   "source": [
    "pdic=pow_dict(varnum)"
   ]
  },
  {
   "cell_type": "code",
   "execution_count": 73,
   "id": "86c41dd8",
   "metadata": {},
   "outputs": [],
   "source": [
    "k=2"
   ]
  },
  {
   "cell_type": "code",
   "execution_count": 74,
   "id": "fb7a849d",
   "metadata": {},
   "outputs": [
    {
     "data": {
      "text/plain": [
       "e2*h0 - e1*h1 + e0*h2"
      ]
     },
     "execution_count": 74,
     "metadata": {},
     "output_type": "execute_result"
    }
   ],
   "source": [
    "sum([((-1)**(j))*eval(\"e\"+str(j))*eval(\"h\"+str(k-j)) for j in [0..k]])"
   ]
  },
  {
   "cell_type": "code",
   "execution_count": 72,
   "id": "51f3386b",
   "metadata": {},
   "outputs": [
    {
     "data": {
      "text/plain": [
       "0"
      ]
     },
     "execution_count": 72,
     "metadata": {},
     "output_type": "execute_result"
    }
   ],
   "source": [
    "sum([((-1)**(j))*edic[j]*hdic[k-j] for j in [0..k]])"
   ]
  },
  {
   "cell_type": "code",
   "execution_count": 50,
   "id": "a87714b4",
   "metadata": {},
   "outputs": [
    {
     "data": {
      "text/plain": [
       "x0^2 + x1^2 + x2^2 + x3^2"
      ]
     },
     "execution_count": 50,
     "metadata": {},
     "output_type": "execute_result"
    }
   ],
   "source": [
    "sum([((-1)**(j-1))*j*edic[j]*hdic[k-j] for j in [1..k]])"
   ]
  },
  {
   "cell_type": "code",
   "execution_count": 51,
   "id": "00912ec5",
   "metadata": {},
   "outputs": [],
   "source": [
    "ex2=sum([((-1)**(j-1))*j*eval(\"e\"+str(j))*eval(\"h\"+str(k-j)) for j in [1..k]])-p2"
   ]
  },
  {
   "cell_type": "code",
   "execution_count": 56,
   "id": "857ed109",
   "metadata": {},
   "outputs": [],
   "source": [
    "ex2s=ex_2.subs({h0:1})"
   ]
  },
  {
   "cell_type": "code",
   "execution_count": 75,
   "id": "03de286a",
   "metadata": {},
   "outputs": [
    {
     "data": {
      "text/plain": [
       "e1*h1 - 2*e2 - p2"
      ]
     },
     "execution_count": 75,
     "metadata": {},
     "output_type": "execute_result"
    }
   ],
   "source": []
  },
  {
   "cell_type": "code",
   "execution_count": 60,
   "id": "eb4db6ad",
   "metadata": {},
   "outputs": [
    {
     "data": {
      "text/plain": [
       "[h1 == (2*e2 + p2)/e1]"
      ]
     },
     "execution_count": 60,
     "metadata": {},
     "output_type": "execute_result"
    }
   ],
   "source": [
    "solve(ex2s==0,h1)"
   ]
  },
  {
   "cell_type": "code",
   "execution_count": 63,
   "id": "7853b2b4",
   "metadata": {},
   "outputs": [],
   "source": [
    "k=3"
   ]
  },
  {
   "cell_type": "code",
   "execution_count": 67,
   "id": "ddb9020e",
   "metadata": {},
   "outputs": [],
   "source": [
    "k=3\n",
    "ex3=sum([((-1)**(j-1))*j*eval(\"e\"+str(j))*eval(\"h\"+str(k-j)) for j in [1..k]])"
   ]
  },
  {
   "cell_type": "code",
   "execution_count": 92,
   "id": "64589c1d",
   "metadata": {},
   "outputs": [],
   "source": [
    "ex3s=ex3.subs({h0:1})"
   ]
  },
  {
   "cell_type": "code",
   "execution_count": 105,
   "id": "1851da11",
   "metadata": {},
   "outputs": [
    {
     "data": {
      "text/plain": [
       "-2*e2*h1 + e1*h2 + 3*e3"
      ]
     },
     "execution_count": 105,
     "metadata": {},
     "output_type": "execute_result"
    }
   ],
   "source": [
    "ex3s"
   ]
  },
  {
   "cell_type": "code",
   "execution_count": 93,
   "id": "a1b1de60",
   "metadata": {},
   "outputs": [],
   "source": [
    "n=2"
   ]
  },
  {
   "cell_type": "code",
   "execution_count": 94,
   "id": "258d9de9",
   "metadata": {},
   "outputs": [],
   "source": [
    "bal2=sum([((-1)**(j))*eval(\"e\"+str(j))*eval(\"h\"+str(k-j)) for j in [0..n]])"
   ]
  },
  {
   "cell_type": "code",
   "execution_count": 95,
   "id": "5b02f39e",
   "metadata": {},
   "outputs": [],
   "source": [
    "bal2s=(bal2.subs({h0:1,e0:1})*-e1).full_simplify()"
   ]
  },
  {
   "cell_type": "code",
   "execution_count": 98,
   "id": "51fa793c",
   "metadata": {},
   "outputs": [],
   "source": [
    "join1=ex3s+bal2s"
   ]
  },
  {
   "cell_type": "code",
   "execution_count": 143,
   "id": "60ae93a4",
   "metadata": {},
   "outputs": [],
   "source": [
    "ejoin1=solve(join1==0,h1)"
   ]
  },
  {
   "cell_type": "code",
   "execution_count": 150,
   "id": "77fd1c5a",
   "metadata": {},
   "outputs": [],
   "source": [
    "etjoin1=ejoin1[0].rhs().subs({e1:edic[1],e2:edic[2],e3:edic[3]})"
   ]
  },
  {
   "cell_type": "code",
   "execution_count": 154,
   "id": "a556df95",
   "metadata": {},
   "outputs": [
    {
     "data": {
      "text/plain": [
       "(x0^2*x1 + x0*x1^2 + x0^2*x2 + x1^2*x2 + x0*x2^2 + x1*x2^2)/(x0^2 + x1^2 + x2^2)"
      ]
     },
     "execution_count": 154,
     "metadata": {},
     "output_type": "execute_result"
    }
   ],
   "source": [
    "etjoin1.full_simplify().factor()"
   ]
  },
  {
   "cell_type": "code",
   "execution_count": null,
   "id": "796fe6ce",
   "metadata": {},
   "outputs": [],
   "source": []
  },
  {
   "cell_type": "code",
   "execution_count": 103,
   "id": "faec9d4e",
   "metadata": {},
   "outputs": [],
   "source": [
    "balt2s=bal2.subs({h0:1,e0:1})"
   ]
  },
  {
   "cell_type": "code",
   "execution_count": 112,
   "id": "70802681",
   "metadata": {},
   "outputs": [],
   "source": [
    "join2=(ex3s+(balt2s*(-2*e2)/e1).expand()).full_simplify()"
   ]
  },
  {
   "cell_type": "code",
   "execution_count": 141,
   "id": "1ce3937f",
   "metadata": {},
   "outputs": [],
   "source": [
    "ejoin2=solve(join2,h2)"
   ]
  },
  {
   "cell_type": "code",
   "execution_count": 142,
   "id": "ae46326b",
   "metadata": {},
   "outputs": [
    {
     "data": {
      "text/plain": [
       "[h2 == (2*e2^2 - 3*e1*e3)/(e1^2 - 2*e2)]"
      ]
     },
     "execution_count": 142,
     "metadata": {},
     "output_type": "execute_result"
    }
   ],
   "source": [
    "ejoin2"
   ]
  },
  {
   "cell_type": "code",
   "execution_count": 114,
   "id": "ae706f7b",
   "metadata": {},
   "outputs": [
    {
     "data": {
      "text/plain": [
       "-2*e2*h1 + e1*h2 + 3*e3"
      ]
     },
     "execution_count": 114,
     "metadata": {},
     "output_type": "execute_result"
    }
   ],
   "source": [
    "ex3s"
   ]
  },
  {
   "cell_type": "code",
   "execution_count": 128,
   "id": "01a616f0",
   "metadata": {},
   "outputs": [],
   "source": [
    "sig=(bal2.subs({h0:1,e0:1})*-3*e3/e2).full_simplify()"
   ]
  },
  {
   "cell_type": "code",
   "execution_count": 129,
   "id": "dc7d9d7b",
   "metadata": {
    "scrolled": true
   },
   "outputs": [
    {
     "data": {
      "text/plain": [
       "3*e1*e3*h1/e2 - 3*e3 - 3*e3*h2/e2"
      ]
     },
     "execution_count": 129,
     "metadata": {},
     "output_type": "execute_result"
    }
   ],
   "source": [
    "sig.expand()"
   ]
  },
  {
   "cell_type": "code",
   "execution_count": 133,
   "id": "4e3836a3",
   "metadata": {},
   "outputs": [],
   "source": [
    "sig2=(ex3s+sig).full_simplify().factor()"
   ]
  },
  {
   "cell_type": "code",
   "execution_count": 137,
   "id": "9127b080",
   "metadata": {},
   "outputs": [],
   "source": [
    "sig3=sig2.subs({h2:ratio*h1})"
   ]
  },
  {
   "cell_type": "code",
   "execution_count": 140,
   "id": "6f5640ad",
   "metadata": {},
   "outputs": [],
   "source": [
    "sig4=solve(sig3==0,ratio)"
   ]
  },
  {
   "cell_type": "code",
   "execution_count": 65,
   "id": "1b3af8d9",
   "metadata": {},
   "outputs": [],
   "source": [
    "fsum=edic[0]*hdic[2] - edic[1]*hdic[1] + edic[2]*hdic[0]"
   ]
  },
  {
   "cell_type": "code",
   "execution_count": null,
   "id": "e2225902",
   "metadata": {},
   "outputs": [],
   "source": []
  },
  {
   "cell_type": "code",
   "execution_count": 167,
   "id": "24c65959",
   "metadata": {},
   "outputs": [],
   "source": [
    "k=3\n",
    "ex=sum([((-1)**(j-1))*j*eval(\"e\"+str(j))*eval(\"h\"+str(k-j)) for j in [1..k]])\n",
    "k2=k-1\n",
    "pol=sum([((-1)**(j))*eval(\"e\"+str(j))*eval(\"h\"+str(k2-j)) for j in [0..k2]])"
   ]
  },
  {
   "cell_type": "code",
   "execution_count": 170,
   "id": "86f12c1e",
   "metadata": {},
   "outputs": [
    {
     "data": {
      "text/plain": [
       "3*e3*h0 - 2*e2*h1 + e1*h2"
      ]
     },
     "execution_count": 170,
     "metadata": {},
     "output_type": "execute_result"
    }
   ],
   "source": [
    "ex"
   ]
  },
  {
   "cell_type": "code",
   "execution_count": 24,
   "id": "c08ca582",
   "metadata": {},
   "outputs": [],
   "source": [
    "#sum([((-1)**i)*edic[i]*hdic[m-i] for i in [0..m]])"
   ]
  },
  {
   "cell_type": "code",
   "execution_count": 25,
   "id": "546e5b80",
   "metadata": {},
   "outputs": [],
   "source": [
    "expi1=-edic[1]*hdic[2] + (2*edic[2] + x0*edic[1])*hdic[1] -2*x0*edic[2]*hdic[0]"
   ]
  },
  {
   "cell_type": "code",
   "execution_count": null,
   "id": "f10add04",
   "metadata": {},
   "outputs": [],
   "source": []
  },
  {
   "cell_type": "code",
   "execution_count": 26,
   "id": "42878021",
   "metadata": {},
   "outputs": [],
   "source": [
    "expi2=expi1.full_simplify().factor()"
   ]
  },
  {
   "cell_type": "code",
   "execution_count": 27,
   "id": "8ab1c725",
   "metadata": {},
   "outputs": [
    {
     "data": {
      "text/plain": [
       "x0*x1^2 - x1^3 + 3*x0*x1*x2 + x0*x2^2 - x2^3"
      ]
     },
     "execution_count": 27,
     "metadata": {},
     "output_type": "execute_result"
    }
   ],
   "source": [
    "expi2"
   ]
  },
  {
   "cell_type": "code",
   "execution_count": 28,
   "id": "51468103",
   "metadata": {},
   "outputs": [
    {
     "data": {
      "text/plain": [
       "-x0^3 - 2*x0^2*x1 - 2*x0*x1^2 - x1^3 - 2*x0^2*x2 - 3*x0*x1*x2 - 2*x1^2*x2 - 2*x0*x2^2 - 2*x1*x2^2 - x2^3 + ((x0 + x1 + x2)*x0 + 2*x0*x1 + 2*x0*x2 + 2*x1*x2)*(x0 + x1 + x2) - 2*(x0*x1 + x0*x2 + x1*x2)*x0"
      ]
     },
     "execution_count": 28,
     "metadata": {},
     "output_type": "execute_result"
    }
   ],
   "source": [
    "-edic[1]*hdic[2] + (2*edic[2] + x0*edic[1])*hdic[1] -2*x0*edic[2]*hdic[0]"
   ]
  },
  {
   "cell_type": "code",
   "execution_count": 29,
   "id": "e3a7f352",
   "metadata": {},
   "outputs": [],
   "source": [
    "fsum2=2*x0*edic[0]*hdic[2] - 2*x0*edic[1]*hdic[1] + 2*x0*edic[2]*hdic[0]"
   ]
  },
  {
   "cell_type": "code",
   "execution_count": 30,
   "id": "69432848",
   "metadata": {},
   "outputs": [],
   "source": [
    "fsum3=(2*edic[2] + x0*edic[1])*edic[0]/edic[1]*hdic[2] - (2*edic[2] + x0*edic[1])*hdic[1] + (2*edic[2] + x0*edic[1])*edic[2]/edic[1]*hdic[0]"
   ]
  },
  {
   "cell_type": "code",
   "execution_count": null,
   "id": "6ab5a999",
   "metadata": {},
   "outputs": [],
   "source": []
  },
  {
   "cell_type": "code",
   "execution_count": 31,
   "id": "4be4f040",
   "metadata": {},
   "outputs": [],
   "source": [
    "expi3=(2*x0*edic[0]-edic[1])*hdic[2] + (2*edic[2] - x0*edic[1])*hdic[1]"
   ]
  },
  {
   "cell_type": "code",
   "execution_count": 32,
   "id": "dfdd2b7b",
   "metadata": {},
   "outputs": [],
   "source": [
    "result=expi3.full_simplify().factor()"
   ]
  },
  {
   "cell_type": "code",
   "execution_count": 33,
   "id": "a744fecc",
   "metadata": {},
   "outputs": [],
   "source": [
    "expi4=((2*edic[2] + x0*edic[1])*edic[0]/edic[1]-edic[1])*hdic[2]+((2*edic[2] + x0*edic[1])*edic[2]/edic[1]-2*x0*edic[2])*hdic[0]"
   ]
  },
  {
   "cell_type": "code",
   "execution_count": null,
   "id": "fc162b92",
   "metadata": {},
   "outputs": [],
   "source": []
  },
  {
   "cell_type": "code",
   "execution_count": 34,
   "id": "a4dceaf0",
   "metadata": {},
   "outputs": [],
   "source": [
    "result2=expi4.full_simplify().factor()"
   ]
  },
  {
   "cell_type": "code",
   "execution_count": 35,
   "id": "03c41238",
   "metadata": {},
   "outputs": [
    {
     "name": "stdout",
     "output_type": "stream",
     "text": [
      "x0*x1^2 - x1^3 + 3*x0*x1*x2 + x0*x2^2 - x2^3 x0*x1^2 - x1^3 + 3*x0*x1*x2 + x0*x2^2 - x2^3\n"
     ]
    }
   ],
   "source": [
    "print(result,result2)"
   ]
  },
  {
   "cell_type": "code",
   "execution_count": 36,
   "id": "485fcf06",
   "metadata": {},
   "outputs": [],
   "source": [
    "simpi=(2*x0*e0-e1)*h2+ (2*e2- x0*e1)*h1-beta"
   ]
  },
  {
   "cell_type": "code",
   "execution_count": 37,
   "id": "a40e5695",
   "metadata": {},
   "outputs": [],
   "source": [
    "simpi2=simpi.subs({h2:ratio*h1})"
   ]
  },
  {
   "cell_type": "code",
   "execution_count": 38,
   "id": "ded1bf3f",
   "metadata": {},
   "outputs": [],
   "source": [
    "simpi3=solve(simpi2==0,ratio)"
   ]
  },
  {
   "cell_type": "code",
   "execution_count": 39,
   "id": "461f2f60",
   "metadata": {},
   "outputs": [],
   "source": [
    "simpi4=simpi3[0].rhs().full_simplify().factor()"
   ]
  },
  {
   "cell_type": "code",
   "execution_count": 40,
   "id": "ecbff745",
   "metadata": {},
   "outputs": [],
   "source": [
    "simpi5=simpi4.subs({e0:edic[0],e1:edic[1],e2:edic[2],h1:hdic[1],h2:hdic[2],beta:result})"
   ]
  },
  {
   "cell_type": "code",
   "execution_count": 41,
   "id": "4e60eef4",
   "metadata": {},
   "outputs": [
    {
     "data": {
      "text/plain": [
       "(x0^2 + x0*x1 + x1^2 + x0*x2 + x1*x2 + x2^2)/(x0 + x1 + x2)"
      ]
     },
     "execution_count": 41,
     "metadata": {},
     "output_type": "execute_result"
    }
   ],
   "source": [
    "simpi5.full_simplify().factor()"
   ]
  },
  {
   "cell_type": "code",
   "execution_count": 42,
   "id": "96f1c563",
   "metadata": {},
   "outputs": [],
   "source": [
    "ext1=simpi4.subs({beta:0}).full_simplify()"
   ]
  },
  {
   "cell_type": "code",
   "execution_count": 43,
   "id": "42d27a01",
   "metadata": {},
   "outputs": [
    {
     "data": {
      "text/plain": [
       "(e1*x0 - 2*e2)/(2*e0*x0 - e1)"
      ]
     },
     "execution_count": 43,
     "metadata": {},
     "output_type": "execute_result"
    }
   ],
   "source": [
    "ext1"
   ]
  },
  {
   "cell_type": "code",
   "execution_count": 44,
   "id": "bd3d72f7",
   "metadata": {},
   "outputs": [],
   "source": [
    "ext2=ext1.subs({e0:edic[0],e1:edic[1],e2:edic[2],h1:hdic[1],h2:hdic[2]})"
   ]
  },
  {
   "cell_type": "code",
   "execution_count": 45,
   "id": "e17acb1e",
   "metadata": {},
   "outputs": [
    {
     "data": {
      "text/plain": [
       "(x0^2 - x0*x1 - (x0 + 2*x1)*x2)/(x0 - x1 - x2)"
      ]
     },
     "execution_count": 45,
     "metadata": {},
     "output_type": "execute_result"
    }
   ],
   "source": [
    "ext2.full_simplify()"
   ]
  },
  {
   "cell_type": "code",
   "execution_count": 46,
   "id": "0dff5b1a",
   "metadata": {},
   "outputs": [],
   "source": [
    "neti=((2*e2 + x0*e1)*e0/e1-e1)*h2+((2*e2 + x0*e1)*e2/e1-2*x0*e2)*h0-beta"
   ]
  },
  {
   "cell_type": "code",
   "execution_count": 47,
   "id": "a153cd9d",
   "metadata": {},
   "outputs": [
    {
     "data": {
      "text/plain": [
       "0"
      ]
     },
     "execution_count": 47,
     "metadata": {},
     "output_type": "execute_result"
    }
   ],
   "source": [
    "neti.subs({e0:edic[0],e1:edic[1],e2:edic[2],h0:hdic[0],h1:hdic[1],h2:hdic[2],beta:result}).full_simplify()"
   ]
  },
  {
   "cell_type": "code",
   "execution_count": 48,
   "id": "b36b77f8",
   "metadata": {},
   "outputs": [],
   "source": [
    "neti2=neti.subs({h2:ratio*h0})"
   ]
  },
  {
   "cell_type": "code",
   "execution_count": 49,
   "id": "a197cbe2",
   "metadata": {},
   "outputs": [],
   "source": [
    "neti3=solve(neti2==0,ratio)"
   ]
  },
  {
   "cell_type": "code",
   "execution_count": 50,
   "id": "1519e28e",
   "metadata": {},
   "outputs": [],
   "source": [
    "neti4=neti3[0].rhs().full_simplify().factor()"
   ]
  },
  {
   "cell_type": "code",
   "execution_count": 51,
   "id": "3179779f",
   "metadata": {},
   "outputs": [
    {
     "data": {
      "text/plain": [
       "(e1*e2*h0*x0 - 2*e2^2*h0 + beta*e1)/((e0*e1*x0 - e1^2 + 2*e0*e2)*h0)"
      ]
     },
     "execution_count": 51,
     "metadata": {},
     "output_type": "execute_result"
    }
   ],
   "source": [
    "neti4"
   ]
  },
  {
   "cell_type": "code",
   "execution_count": 52,
   "id": "dd192b93",
   "metadata": {},
   "outputs": [],
   "source": [
    "pr1=neti4.subs({beta:0})"
   ]
  },
  {
   "cell_type": "code",
   "execution_count": 53,
   "id": "edf7dbf6",
   "metadata": {},
   "outputs": [],
   "source": [
    "pr2=pr1.full_simplify()"
   ]
  },
  {
   "cell_type": "code",
   "execution_count": 54,
   "id": "8bb02273",
   "metadata": {},
   "outputs": [],
   "source": [
    "pr3=pr2.subs({e0:edic[0],e1:edic[1],e2:edic[2],h1:hdic[1],h2:hdic[2]})"
   ]
  },
  {
   "cell_type": "code",
   "execution_count": 55,
   "id": "4bab90aa",
   "metadata": {},
   "outputs": [
    {
     "data": {
      "text/plain": [
       "-((x0*x1 + x0*x2 + x1*x2)*(x0 + x1 + x2)*x0 - 2*(x0*x1 + x0*x2 + x1*x2)^2)/((x0 + x1 + x2)^2 - (x0 + x1 + x2)*x0 - 2*x0*x1 - 2*x0*x2 - 2*x1*x2)"
      ]
     },
     "execution_count": 55,
     "metadata": {},
     "output_type": "execute_result"
    }
   ],
   "source": [
    "pr3"
   ]
  },
  {
   "cell_type": "code",
   "execution_count": 56,
   "id": "d0abd795",
   "metadata": {},
   "outputs": [
    {
     "data": {
      "text/plain": [
       "(x0^3*x1 - x0^2*x1^2 - (x0^2 + 3*x0*x1 + 2*x1^2)*x2^2 + (x0^3 - x0^2*x1 - 3*x0*x1^2)*x2)/(x0*x1 - x1^2 + x0*x2 - x2^2)"
      ]
     },
     "execution_count": 56,
     "metadata": {},
     "output_type": "execute_result"
    }
   ],
   "source": [
    "pr3.full_simplify()"
   ]
  },
  {
   "cell_type": "code",
   "execution_count": 57,
   "id": "0e2c918d",
   "metadata": {},
   "outputs": [],
   "source": [
    "final1=-edic[1]*((edic[1]*x0 - 2*edic[2])/(2*edic[0]*x0 - edic[1]))^2 + (2*edic[2] + x0*edic[1])*((edic[1]*x0 - 2*edic[2])/(2*edic[0]*x0 - edic[1])) -2*x0*edic[2]"
   ]
  },
  {
   "cell_type": "code",
   "execution_count": 58,
   "id": "46ee2f42",
   "metadata": {},
   "outputs": [
    {
     "data": {
      "text/plain": [
       "2*(x0^2 - 2*x0*x1 + x1^2 - 2*x0*x2 - 2*x1*x2 + x2^2)*x0*x1*x2/(x0 - x1 - x2)^2"
      ]
     },
     "execution_count": 58,
     "metadata": {},
     "output_type": "execute_result"
    }
   ],
   "source": [
    "final1.full_simplify().factor()"
   ]
  },
  {
   "cell_type": "code",
   "execution_count": 91,
   "id": "84696ff4",
   "metadata": {},
   "outputs": [],
   "source": [
    "pix=-4*((edic[1]/2)^2-edic[1]*(edic[1]/2)+edic[2])"
   ]
  },
  {
   "cell_type": "code",
   "execution_count": 92,
   "id": "05cf1e16",
   "metadata": {},
   "outputs": [
    {
     "data": {
      "text/plain": [
       "(x0 - x1)^2"
      ]
     },
     "execution_count": 92,
     "metadata": {},
     "output_type": "execute_result"
    }
   ],
   "source": [
    "pix.factor()"
   ]
  },
  {
   "cell_type": "code",
   "execution_count": 93,
   "id": "93a1feb2",
   "metadata": {},
   "outputs": [
    {
     "data": {
      "text/plain": [
       "1"
      ]
     },
     "execution_count": 93,
     "metadata": {},
     "output_type": "execute_result"
    }
   ],
   "source": [
    "edic[0]"
   ]
  },
  {
   "cell_type": "code",
   "execution_count": 94,
   "id": "7ae52d56",
   "metadata": {},
   "outputs": [
    {
     "data": {
      "text/plain": [
       "x0 + x1"
      ]
     },
     "execution_count": 94,
     "metadata": {},
     "output_type": "execute_result"
    }
   ],
   "source": [
    "edic[1]"
   ]
  },
  {
   "cell_type": "code",
   "execution_count": null,
   "id": "d655db9b",
   "metadata": {},
   "outputs": [],
   "source": []
  },
  {
   "cell_type": "code",
   "execution_count": null,
   "id": "ba002c2c",
   "metadata": {},
   "outputs": [],
   "source": []
  }
 ],
 "metadata": {
  "kernelspec": {
   "display_name": "SageMath 9.7 [conda env:sagemath]",
   "language": "sage",
   "name": "conda-env-sagemath-sagemath"
  },
  "language_info": {
   "codemirror_mode": {
    "name": "ipython",
    "version": 3
   },
   "file_extension": ".py",
   "mimetype": "text/x-python",
   "name": "python",
   "nbconvert_exporter": "python",
   "pygments_lexer": "ipython3",
   "version": "3.10.4"
  }
 },
 "nbformat": 4,
 "nbformat_minor": 5
}
