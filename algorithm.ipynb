{
 "cells": [
  {
   "cell_type": "code",
   "execution_count": 445,
   "id": "586b660a",
   "metadata": {},
   "outputs": [],
   "source": [
    "def mycollect(e1, e2):\n",
    "    \"\"\"\n",
    "    Collects e2 coefficients in e1, even when e2 is not a factor of\n",
    "    some of the terms of e1\n",
    "    \"\"\"\n",
    "    g = maxima_calculus.gensym()._sage_()\n",
    "    while g in e1.variables(): g = maxima_calculus.gensym()._sage_()\n",
    "    return sum([v[0]*g^v[1]\n",
    "                for v in e1.subs(e2==g).coefficients(g)]).subs(g==e2)"
   ]
  },
  {
   "cell_type": "code",
   "execution_count": 446,
   "id": "f9bd9cba",
   "metadata": {},
   "outputs": [
    {
     "data": {
      "text/plain": [
       "[1,\n",
       " 1,\n",
       " a_1^2 - 4*a_0,\n",
       " a_1^2*a_2^2 - 4*a_0*a_2^3 - 4*a_1^3 + 18*a_0*a_1*a_2 - 27*a_0^2,\n",
       " a_1^2*a_2^2*a_3^2 - 4*a_0*a_2^3*a_3^2 - 4*a_1^3*a_3^3 + 18*a_0*a_1*a_2*a_3^3 - 27*a_0^2*a_3^4 - 4*a_1^2*a_2^3 + 16*a_0*a_2^4 + 18*a_1^3*a_2*a_3 - 80*a_0*a_1*a_2^2*a_3 - 6*a_0*a_1^2*a_3^2 + 144*a_0^2*a_2*a_3^2 - 27*a_1^4 + 144*a_0*a_1^2*a_2 - 128*a_0^2*a_2^2 - 192*a_0^2*a_1*a_3 + 256*a_0^3]"
      ]
     },
     "execution_count": 446,
     "metadata": {},
     "output_type": "execute_result"
    }
   ],
   "source": [
    "disc_list"
   ]
  },
  {
   "cell_type": "code",
   "execution_count": 447,
   "id": "bddf95ac",
   "metadata": {},
   "outputs": [],
   "source": [
    "deg=5"
   ]
  },
  {
   "cell_type": "code",
   "execution_count": 448,
   "id": "116b0938",
   "metadata": {},
   "outputs": [],
   "source": [
    "var_list=[\"a_\"+str(i) for i in range(0,deg)]"
   ]
  },
  {
   "cell_type": "code",
   "execution_count": 449,
   "id": "81880a8c",
   "metadata": {},
   "outputs": [
    {
     "data": {
      "text/plain": [
       "(a_0, a_1, a_2, a_3, a_4, alpha)"
      ]
     },
     "execution_count": 449,
     "metadata": {},
     "output_type": "execute_result"
    }
   ],
   "source": [
    "var(var_list+[\"alpha\"])"
   ]
  },
  {
   "cell_type": "code",
   "execution_count": 450,
   "id": "f4556807",
   "metadata": {},
   "outputs": [],
   "source": [
    "#disc_list=[1,1,a_1^2-4*a_0]"
   ]
  },
  {
   "cell_type": "code",
   "execution_count": 451,
   "id": "d5bd5516",
   "metadata": {},
   "outputs": [],
   "source": [
    "d_coef=[i*(i+1)/2 for i in range(1,deg)]"
   ]
  },
  {
   "cell_type": "code",
   "execution_count": null,
   "id": "77f0506e",
   "metadata": {},
   "outputs": [],
   "source": []
  },
  {
   "cell_type": "code",
   "execution_count": 452,
   "id": "5a3eb1b2",
   "metadata": {},
   "outputs": [],
   "source": [
    "d_sym=[eval(\"a_\"+str(i)) for i in range(0,deg)]\n",
    "d_sym=d_sym[-(deg-2):]+[1]"
   ]
  },
  {
   "cell_type": "code",
   "execution_count": 453,
   "id": "643779b7",
   "metadata": {},
   "outputs": [
    {
     "data": {
      "text/plain": [
       "[a_2, a_3, a_4, 1]"
      ]
     },
     "execution_count": 453,
     "metadata": {},
     "output_type": "execute_result"
    }
   ],
   "source": [
    "d_sym"
   ]
  },
  {
   "cell_type": "code",
   "execution_count": 454,
   "id": "9d929b21",
   "metadata": {},
   "outputs": [],
   "source": [
    "d_alpha=[eval(\"alpha**\"+str(i)) for i in range (0,deg-1)]"
   ]
  },
  {
   "cell_type": "code",
   "execution_count": 455,
   "id": "53006e90",
   "metadata": {},
   "outputs": [],
   "source": [
    "d_exp=sum([i*j*k for i,j,k in zip(d_coef,d_sym,d_alpha)])"
   ]
  },
  {
   "cell_type": "code",
   "execution_count": 456,
   "id": "8b581a1a",
   "metadata": {},
   "outputs": [
    {
     "data": {
      "text/plain": [
       "6*a_4*alpha^2 + 10*alpha^3 + 3*a_3*alpha + a_2"
      ]
     },
     "execution_count": 456,
     "metadata": {},
     "output_type": "execute_result"
    }
   ],
   "source": [
    "d_exp"
   ]
  },
  {
   "cell_type": "code",
   "execution_count": 457,
   "id": "07d6d171",
   "metadata": {},
   "outputs": [],
   "source": [
    "n_coef=[2,2]\n",
    "for j in range(0,deg-3):\n",
    "    n_coef=n_coef+[0]\n",
    "    add=list(range(1,j+4))\n",
    "    n_coef=[x + y for x, y in zip(n_coef, add)]"
   ]
  },
  {
   "cell_type": "code",
   "execution_count": 458,
   "id": "e0912d38",
   "metadata": {},
   "outputs": [
    {
     "data": {
      "text/plain": [
       "[4, 6, 6, 4]"
      ]
     },
     "execution_count": 458,
     "metadata": {},
     "output_type": "execute_result"
    }
   ],
   "source": [
    "n_coef"
   ]
  },
  {
   "cell_type": "code",
   "execution_count": 459,
   "id": "585505d2",
   "metadata": {},
   "outputs": [],
   "source": [
    "eqb_sym=[eval(\"a_\"+str(i)) for i in range(0,deg)]\n",
    "eqb_sym=eqb_sym[-(deg-1):]"
   ]
  },
  {
   "cell_type": "code",
   "execution_count": null,
   "id": "4e7939ac",
   "metadata": {},
   "outputs": [],
   "source": []
  },
  {
   "cell_type": "code",
   "execution_count": 460,
   "id": "96d99453",
   "metadata": {},
   "outputs": [],
   "source": [
    "eqb_exp=sum([i*j*k for i,j,k in zip(n_coef,d_alpha,eqb_sym)])"
   ]
  },
  {
   "cell_type": "code",
   "execution_count": 461,
   "id": "f7352dfe",
   "metadata": {},
   "outputs": [
    {
     "data": {
      "text/plain": [
       "4*a_4*alpha^3 + 6*a_3*alpha^2 + 6*a_2*alpha + 4*a_1"
      ]
     },
     "execution_count": 461,
     "metadata": {},
     "output_type": "execute_result"
    }
   ],
   "source": [
    "eqb_exp"
   ]
  },
  {
   "cell_type": "code",
   "execution_count": 462,
   "id": "61c7bcd4",
   "metadata": {},
   "outputs": [],
   "source": [
    "d_coef_rev=list(reversed(d_coef))"
   ]
  },
  {
   "cell_type": "code",
   "execution_count": 463,
   "id": "7e0402d5",
   "metadata": {},
   "outputs": [],
   "source": [
    "eqc_sym=[eval(\"a_\"+str(i)) for i in range(0,deg)]\n",
    "eqc_sym=eqc_sym[0:(deg-1)]"
   ]
  },
  {
   "cell_type": "code",
   "execution_count": 464,
   "id": "e6d57a8e",
   "metadata": {},
   "outputs": [
    {
     "data": {
      "text/plain": [
       "([a_0, a_1, a_2, a_3], [10, 6, 3, 1], [1, alpha, alpha^2, alpha^3])"
      ]
     },
     "execution_count": 464,
     "metadata": {},
     "output_type": "execute_result"
    }
   ],
   "source": [
    "eqc_sym, d_coef_rev,d_alpha"
   ]
  },
  {
   "cell_type": "code",
   "execution_count": 465,
   "id": "15c7376f",
   "metadata": {},
   "outputs": [],
   "source": [
    "eqc_exp=sum([i*j*k for i,j,k in zip(d_coef_rev,d_alpha,eqc_sym)])"
   ]
  },
  {
   "cell_type": "code",
   "execution_count": 466,
   "id": "e513c9b9",
   "metadata": {},
   "outputs": [
    {
     "data": {
      "text/plain": [
       "a_3*alpha^3 + 3*a_2*alpha^2 + 6*a_1*alpha + 10*a_0"
      ]
     },
     "execution_count": 466,
     "metadata": {},
     "output_type": "execute_result"
    }
   ],
   "source": [
    "eqc_exp"
   ]
  },
  {
   "cell_type": "code",
   "execution_count": null,
   "id": "ae3380a6",
   "metadata": {},
   "outputs": [],
   "source": []
  },
  {
   "cell_type": "code",
   "execution_count": 467,
   "id": "229430e9",
   "metadata": {},
   "outputs": [],
   "source": [
    "#-----------------------------------------------------------------------------------------------"
   ]
  },
  {
   "cell_type": "code",
   "execution_count": 468,
   "id": "9422fe13",
   "metadata": {},
   "outputs": [],
   "source": [
    "ratio=-1/2*(eqb_exp/d_exp)"
   ]
  },
  {
   "cell_type": "code",
   "execution_count": 469,
   "id": "d5877843",
   "metadata": {},
   "outputs": [],
   "source": [
    "eqb=eqb_exp/d_exp\n",
    "eqc=eqc_exp/d_exp"
   ]
  },
  {
   "cell_type": "code",
   "execution_count": 470,
   "id": "cb90b8ce",
   "metadata": {},
   "outputs": [],
   "source": [
    "formula=((ratio^2+eqb*ratio+eqc)*(d_exp^2)).full_simplify().factor()"
   ]
  },
  {
   "cell_type": "code",
   "execution_count": 471,
   "id": "0f2980be",
   "metadata": {},
   "outputs": [],
   "source": [
    "coeffs=[eval(\"a_\"+str(i)) for i in range(0,deg)]+[1]\n",
    "alphas=[eval(\"alpha**\"+str(i)) for i in range (0,deg+1)]"
   ]
  },
  {
   "cell_type": "code",
   "execution_count": 472,
   "id": "8c8d9ae7",
   "metadata": {},
   "outputs": [],
   "source": [
    "full=sum([x*y for x,y in zip(coeffs,alphas)])"
   ]
  },
  {
   "cell_type": "code",
   "execution_count": 473,
   "id": "904b955b",
   "metadata": {},
   "outputs": [],
   "source": [
    "tmp=formula\n",
    "for i in range(0,deg-3):\n",
    "    tmp=mycollect(tmp,alpha)\n",
    "    leading=tmp.operands()[0].subs({alpha:1})\n",
    "    tmp=(tmp-leading*alpha^((deg-3)-i-1)*full).full_simplify()"
   ]
  },
  {
   "cell_type": "code",
   "execution_count": 474,
   "id": "a8e5d9fe",
   "metadata": {},
   "outputs": [],
   "source": [
    "simfo=mycollect(tmp,alpha)"
   ]
  },
  {
   "cell_type": "code",
   "execution_count": 475,
   "id": "9c2bd263",
   "metadata": {},
   "outputs": [
    {
     "data": {
      "text/plain": [
       "-4*(a_4^4 - 5*a_3*a_4^2 + 4*a_3^2 + 6*a_2*a_4 - 15*a_1)*alpha^4 - 4*a_0*a_4^3 - 4*(a_3*a_4^3 - a_2*a_4^2 + 12*a_2*a_3 - (4*a_3^2 + 7*a_1)*a_4 - 25*a_0)*alpha^3 + 16*a_0*a_3*a_4 - 4*(a_2*a_4^3 - a_1*a_4^2 + 9*a_2^2 + a_1*a_3 - (4*a_2*a_3 + 15*a_0)*a_4)*alpha^2 - 4*a_1^2 - 20*a_0*a_2 - 4*(a_1*a_4^3 - 4*a_1*a_3*a_4 - a_0*a_4^2 + 9*a_1*a_2 - 5*a_0*a_3)*alpha"
      ]
     },
     "execution_count": 475,
     "metadata": {},
     "output_type": "execute_result"
    }
   ],
   "source": [
    "simfo"
   ]
  },
  {
   "cell_type": "code",
   "execution_count": 476,
   "id": "6f763e51",
   "metadata": {},
   "outputs": [],
   "source": [
    "simfo_terms=simfo.operands()"
   ]
  },
  {
   "cell_type": "code",
   "execution_count": 477,
   "id": "c4c5c3a1",
   "metadata": {},
   "outputs": [
    {
     "data": {
      "text/plain": [
       "[-4*(a_4^4 - 5*a_3*a_4^2 + 4*a_3^2 + 6*a_2*a_4 - 15*a_1)*alpha^4,\n",
       " -4*a_0*a_4^3,\n",
       " -4*(a_3*a_4^3 - a_2*a_4^2 + 12*a_2*a_3 - (4*a_3^2 + 7*a_1)*a_4 - 25*a_0)*alpha^3,\n",
       " 16*a_0*a_3*a_4,\n",
       " -4*(a_2*a_4^3 - a_1*a_4^2 + 9*a_2^2 + a_1*a_3 - (4*a_2*a_3 + 15*a_0)*a_4)*alpha^2,\n",
       " -4*a_1^2,\n",
       " -20*a_0*a_2,\n",
       " -4*(a_1*a_4^3 - 4*a_1*a_3*a_4 - a_0*a_4^2 + 9*a_1*a_2 - 5*a_0*a_3)*alpha]"
      ]
     },
     "execution_count": 477,
     "metadata": {},
     "output_type": "execute_result"
    }
   ],
   "source": [
    "simfo_terms"
   ]
  },
  {
   "cell_type": "code",
   "execution_count": 478,
   "id": "cf319b3c",
   "metadata": {},
   "outputs": [],
   "source": [
    "lonely_terms=[i for i in simfo_terms if not(i.has(alpha))]"
   ]
  },
  {
   "cell_type": "code",
   "execution_count": 479,
   "id": "f1145ca3",
   "metadata": {},
   "outputs": [],
   "source": [
    "fixed=[i for i in simfo_terms if i not in lonely_terms]+[sum(lonely_terms)]"
   ]
  },
  {
   "cell_type": "code",
   "execution_count": 480,
   "id": "e9cac895",
   "metadata": {},
   "outputs": [
    {
     "data": {
      "text/plain": [
       "[-4*(a_4^4 - 5*a_3*a_4^2 + 4*a_3^2 + 6*a_2*a_4 - 15*a_1)*alpha^4,\n",
       " -4*(a_3*a_4^3 - a_2*a_4^2 + 12*a_2*a_3 - (4*a_3^2 + 7*a_1)*a_4 - 25*a_0)*alpha^3,\n",
       " -4*(a_2*a_4^3 - a_1*a_4^2 + 9*a_2^2 + a_1*a_3 - (4*a_2*a_3 + 15*a_0)*a_4)*alpha^2,\n",
       " -4*(a_1*a_4^3 - 4*a_1*a_3*a_4 - a_0*a_4^2 + 9*a_1*a_2 - 5*a_0*a_3)*alpha,\n",
       " -4*a_0*a_4^3 + 16*a_0*a_3*a_4 - 4*a_1^2 - 20*a_0*a_2]"
      ]
     },
     "execution_count": 480,
     "metadata": {},
     "output_type": "execute_result"
    }
   ],
   "source": [
    "fixed"
   ]
  },
  {
   "cell_type": "code",
   "execution_count": 481,
   "id": "3146dfa0",
   "metadata": {},
   "outputs": [],
   "source": [
    "fixed_only=[i.subs({alpha:1}) for i in fixed]"
   ]
  },
  {
   "cell_type": "code",
   "execution_count": 482,
   "id": "395b6d55",
   "metadata": {},
   "outputs": [],
   "source": [
    "fixed_only_2=[i/fixed_only[0] for i in fixed_only]"
   ]
  },
  {
   "cell_type": "code",
   "execution_count": 483,
   "id": "3816cb26",
   "metadata": {},
   "outputs": [],
   "source": [
    "cal_list=list(reversed(fixed_only_2[1:]))\n",
    "co_list=[eval(\"a_\"+str(i)) for i in range(0,deg)][:deg-1]"
   ]
  },
  {
   "cell_type": "code",
   "execution_count": 484,
   "id": "c912fb28",
   "metadata": {},
   "outputs": [],
   "source": [
    "subi=dict(zip(co_list,cal_list))"
   ]
  },
  {
   "cell_type": "code",
   "execution_count": 485,
   "id": "c3e18fa4",
   "metadata": {},
   "outputs": [
    {
     "data": {
      "text/plain": [
       "{a_0: (a_0*a_4^3 - 4*a_0*a_3*a_4 + a_1^2 + 5*a_0*a_2)/(a_4^4 - 5*a_3*a_4^2 + 4*a_3^2 + 6*a_2*a_4 - 15*a_1),\n",
       " a_1: (a_1*a_4^3 - 4*a_1*a_3*a_4 - a_0*a_4^2 + 9*a_1*a_2 - 5*a_0*a_3)/(a_4^4 - 5*a_3*a_4^2 + 4*a_3^2 + 6*a_2*a_4 - 15*a_1),\n",
       " a_2: (a_2*a_4^3 - a_1*a_4^2 + 9*a_2^2 + a_1*a_3 - (4*a_2*a_3 + 15*a_0)*a_4)/(a_4^4 - 5*a_3*a_4^2 + 4*a_3^2 + 6*a_2*a_4 - 15*a_1),\n",
       " a_3: (a_3*a_4^3 - a_2*a_4^2 + 12*a_2*a_3 - (4*a_3^2 + 7*a_1)*a_4 - 25*a_0)/(a_4^4 - 5*a_3*a_4^2 + 4*a_3^2 + 6*a_2*a_4 - 15*a_1)}"
      ]
     },
     "execution_count": 485,
     "metadata": {},
     "output_type": "execute_result"
    }
   ],
   "source": [
    "subi"
   ]
  },
  {
   "cell_type": "code",
   "execution_count": null,
   "id": "8341c0fd",
   "metadata": {},
   "outputs": [],
   "source": []
  },
  {
   "cell_type": "code",
   "execution_count": 486,
   "id": "203cf921",
   "metadata": {},
   "outputs": [
    {
     "data": {
      "text/plain": [
       "-4*a_4^4 + 20*a_3*a_4^2 - 16*a_3^2 - 24*a_2*a_4 + 60*a_1"
      ]
     },
     "execution_count": 486,
     "metadata": {},
     "output_type": "execute_result"
    }
   ],
   "source": [
    "fixed_only[0]"
   ]
  },
  {
   "cell_type": "code",
   "execution_count": 502,
   "id": "7495deab",
   "metadata": {},
   "outputs": [],
   "source": [
    "disc=((1)*disc_list[deg-1].subs(subi)*(1/4096)*(fixed_only[0])^6).full_simplify().factor()"
   ]
  },
  {
   "cell_type": "code",
   "execution_count": 503,
   "id": "a0a4985a",
   "metadata": {},
   "outputs": [
    {
     "data": {
      "text/plain": [
       "(a_4^16 - 20*a_3*a_4^14 + 160*a_3^2*a_4^12 + 40*a_2*a_4^13 - 640*a_3^3*a_4^10 - 640*a_2*a_3*a_4^11 - 20*a_1*a_4^12 + 1280*a_3^4*a_4^8 + 3840*a_2*a_3^2*a_4^9 + 634*a_2^2*a_4^10 + 338*a_1*a_3*a_4^10 - 152*a_0*a_4^11 - 1024*a_3^5*a_4^6 - 10240*a_2*a_3^3*a_4^7 - 7608*a_2^2*a_3*a_4^8 - 2136*a_1*a_3^2*a_4^8 - 634*a_1*a_2*a_4^9 + 2090*a_0*a_3*a_4^9 + 10240*a_2*a_3^4*a_4^5 + 30432*a_2^2*a_3^2*a_4^6 + 5984*a_1*a_3^3*a_4^6 + 4968*a_2^3*a_4^7 + 8076*a_1*a_2*a_3*a_4^7 - 10596*a_0*a_3^2*a_4^7 - 170*a_1^2*a_4^8 - 3094*a_0*a_2*a_4^8 - 40576*a_2^2*a_3^3*a_4^4 - 6272*a_1*a_3^4*a_4^4 - 39744*a_2^3*a_3*a_4^5 - 34176*a_1*a_2*a_3^2*a_4^5 + 23360*a_0*a_3^3*a_4^5 - 7452*a_1*a_2^2*a_4^6 + 1320*a_1^2*a_3*a_4^6 + 30180*a_0*a_2*a_3*a_4^6 + 1520*a_0*a_1*a_4^7 + 79488*a_2^3*a_3^2*a_4^3 + 48064*a_1*a_2*a_3^3*a_4^3 - 18752*a_0*a_3^4*a_4^3 + 19197*a_2^4*a_4^4 + 63666*a_1*a_2^2*a_3*a_4^4 - 2427*a_1^2*a_3^2*a_4^4 - 94656*a_0*a_2*a_3^2*a_4^4 - 2628*a_1^2*a_2*a_4^5 - 20592*a_0*a_2^2*a_4^5 - 12300*a_0*a_1*a_3*a_4^5 - 2000*a_0^2*a_4^6 - 76788*a_2^4*a_3*a_4^2 - 135432*a_1*a_2^2*a_3^2*a_4^2 - 532*a_1^2*a_3^3*a_4^2 + 93760*a_0*a_2*a_3^3*a_4^2 - 38394*a_1*a_2^3*a_4^3 + 9198*a_1^2*a_2*a_3*a_4^3 + 118890*a_0*a_2^2*a_3*a_4^3 + 27330*a_0*a_1*a_3^2*a_4^3 + 1548*a_1^3*a_4^4 + 19620*a_0*a_1*a_2*a_4^4 + 15000*a_0^2*a_3*a_4^4 + 29160*a_2^5*a_4 + 165240*a_1*a_2^3*a_3*a_4 + 5040*a_1^2*a_2*a_3^2*a_4 - 153000*a_0*a_2^2*a_3^2*a_4 - 9800*a_0*a_1*a_3^3*a_4 - 10125*a_1^2*a_2^2*a_4^2 - 44550*a_0*a_2^3*a_4^2 - 6390*a_1^3*a_3*a_4^2 - 79200*a_0*a_1*a_2*a_3*a_4^2 - 27375*a_0^2*a_3^2*a_4^2 - 5400*a_0*a_1^2*a_4^3 - 27000*a_0^2*a_2*a_4^3 - 72900*a_1*a_2^4 - 8100*a_1^2*a_2^2*a_3 + 81000*a_0*a_2^3*a_3 + 900*a_1^3*a_3^2 + 18000*a_0*a_1*a_2*a_3^2 - 2500*a_0^2*a_3^3 + 12150*a_1^3*a_2*a_4 + 60750*a_0*a_1*a_2^2*a_4 + 20250*a_0*a_1^2*a_3*a_4 + 101250*a_0^2*a_2*a_3*a_4 - 3375*a_1^4 - 33750*a_0*a_1^2*a_2 - 84375*a_0^2*a_2^2)*(a_1^2*a_2^2*a_3^2*a_4^2 - 4*a_0*a_2^3*a_3^2*a_4^2 - 4*a_1^3*a_3^3*a_4^2 + 18*a_0*a_1*a_2*a_3^3*a_4^2 - 27*a_0^2*a_3^4*a_4^2 - 4*a_1^2*a_2^3*a_4^3 + 16*a_0*a_2^4*a_4^3 + 18*a_1^3*a_2*a_3*a_4^3 - 80*a_0*a_1*a_2^2*a_3*a_4^3 - 6*a_0*a_1^2*a_3^2*a_4^3 + 144*a_0^2*a_2*a_3^2*a_4^3 - 27*a_1^4*a_4^4 + 144*a_0*a_1^2*a_2*a_4^4 - 128*a_0^2*a_2^2*a_4^4 - 192*a_0^2*a_1*a_3*a_4^4 + 256*a_0^3*a_4^5 - 4*a_1^2*a_2^2*a_3^3 + 16*a_0*a_2^3*a_3^3 + 16*a_1^3*a_3^4 - 72*a_0*a_1*a_2*a_3^4 + 108*a_0^2*a_3^5 + 18*a_1^2*a_2^3*a_3*a_4 - 72*a_0*a_2^4*a_3*a_4 - 80*a_1^3*a_2*a_3^2*a_4 + 356*a_0*a_1*a_2^2*a_3^2*a_4 + 24*a_0*a_1^2*a_3^3*a_4 - 630*a_0^2*a_2*a_3^3*a_4 - 6*a_1^3*a_2^2*a_4^2 + 24*a_0*a_1*a_2^3*a_4^2 + 144*a_1^4*a_3*a_4^2 - 746*a_0*a_1^2*a_2*a_3*a_4^2 + 560*a_0^2*a_2^2*a_3*a_4^2 + 1020*a_0^2*a_1*a_3^2*a_4^2 - 36*a_0*a_1^3*a_4^3 + 160*a_0^2*a_1*a_2*a_4^3 - 1600*a_0^3*a_3*a_4^3 - 27*a_1^2*a_2^4 + 108*a_0*a_2^5 + 144*a_1^3*a_2^2*a_3 - 630*a_0*a_1*a_2^3*a_3 - 128*a_1^4*a_3^2 + 560*a_0*a_1^2*a_2*a_3^2 + 825*a_0^2*a_2^2*a_3^2 - 900*a_0^2*a_1*a_3^3 - 192*a_1^4*a_2*a_4 + 1020*a_0*a_1^2*a_2^2*a_4 - 900*a_0^2*a_2^3*a_4 + 160*a_0*a_1^3*a_3*a_4 - 2050*a_0^2*a_1*a_2*a_3*a_4 + 2250*a_0^3*a_3^2*a_4 - 50*a_0^2*a_1^2*a_4^2 + 2000*a_0^3*a_2*a_4^2 + 256*a_1^5 - 1600*a_0*a_1^3*a_2 + 2250*a_0^2*a_1*a_2^2 + 2000*a_0^2*a_1^2*a_3 - 3750*a_0^3*a_2*a_3 - 2500*a_0^3*a_1*a_4 + 3125*a_0^4)"
      ]
     },
     "execution_count": 503,
     "metadata": {},
     "output_type": "execute_result"
    }
   ],
   "source": [
    "disc"
   ]
  },
  {
   "cell_type": "code",
   "execution_count": null,
   "id": "10ff8533",
   "metadata": {},
   "outputs": [],
   "source": []
  },
  {
   "cell_type": "code",
   "execution_count": 442,
   "id": "bee1b258",
   "metadata": {},
   "outputs": [],
   "source": [
    "disc_list.append(disc)"
   ]
  },
  {
   "cell_type": "code",
   "execution_count": 444,
   "id": "3f96fa75",
   "metadata": {},
   "outputs": [
    {
     "data": {
      "text/plain": [
       "[1,\n",
       " 1,\n",
       " a_1^2 - 4*a_0,\n",
       " a_1^2*a_2^2 - 4*a_0*a_2^3 - 4*a_1^3 + 18*a_0*a_1*a_2 - 27*a_0^2,\n",
       " a_1^2*a_2^2*a_3^2 - 4*a_0*a_2^3*a_3^2 - 4*a_1^3*a_3^3 + 18*a_0*a_1*a_2*a_3^3 - 27*a_0^2*a_3^4 - 4*a_1^2*a_2^3 + 16*a_0*a_2^4 + 18*a_1^3*a_2*a_3 - 80*a_0*a_1*a_2^2*a_3 - 6*a_0*a_1^2*a_3^2 + 144*a_0^2*a_2*a_3^2 - 27*a_1^4 + 144*a_0*a_1^2*a_2 - 128*a_0^2*a_2^2 - 192*a_0^2*a_1*a_3 + 256*a_0^3]"
      ]
     },
     "execution_count": 444,
     "metadata": {},
     "output_type": "execute_result"
    }
   ],
   "source": [
    "disc_list"
   ]
  },
  {
   "cell_type": "code",
   "execution_count": null,
   "id": "488754c2",
   "metadata": {},
   "outputs": [],
   "source": []
  },
  {
   "cell_type": "code",
   "execution_count": 233,
   "id": "a484877c",
   "metadata": {},
   "outputs": [],
   "source": [
    "#-------------------------------------------------------------------------------------------------------------"
   ]
  },
  {
   "cell_type": "code",
   "execution_count": null,
   "id": "637760a5",
   "metadata": {},
   "outputs": [],
   "source": []
  }
 ],
 "metadata": {
  "kernelspec": {
   "display_name": "SageMath 9.7 [conda env:sagemath]",
   "language": "sage",
   "name": "conda-env-sagemath-sagemath"
  },
  "language_info": {
   "codemirror_mode": {
    "name": "ipython",
    "version": 3
   },
   "file_extension": ".py",
   "mimetype": "text/x-python",
   "name": "python",
   "nbconvert_exporter": "python",
   "pygments_lexer": "ipython3",
   "version": "3.10.4"
  }
 },
 "nbformat": 4,
 "nbformat_minor": 5
}
