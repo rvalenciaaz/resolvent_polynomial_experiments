{
 "cells": [
  {
   "cell_type": "code",
   "execution_count": 1,
   "id": "586b660a",
   "metadata": {},
   "outputs": [],
   "source": [
    "def mycollect(e1, e2):\n",
    "    \"\"\"\n",
    "    Collects e2 coefficients in e1, even when e2 is not a factor of\n",
    "    some of the terms of e1\n",
    "    \"\"\"\n",
    "    g = maxima_calculus.gensym()._sage_()\n",
    "    while g in e1.variables(): g = maxima_calculus.gensym()._sage_()\n",
    "    return sum([v[0]*g^v[1]\n",
    "                for v in e1.subs(e2==g).coefficients(g)]).subs(g==e2)"
   ]
  },
  {
   "cell_type": "code",
   "execution_count": 2,
   "id": "f9bd9cba",
   "metadata": {},
   "outputs": [
    {
     "ename": "NameError",
     "evalue": "name 'disc_list' is not defined",
     "output_type": "error",
     "traceback": [
      "\u001b[0;31m---------------------------------------------------------------------------\u001b[0m",
      "\u001b[0;31mNameError\u001b[0m                                 Traceback (most recent call last)",
      "Cell \u001b[0;32mIn[2], line 1\u001b[0m\n\u001b[0;32m----> 1\u001b[0m \u001b[43mdisc_list\u001b[49m\n",
      "\u001b[0;31mNameError\u001b[0m: name 'disc_list' is not defined"
     ]
    }
   ],
   "source": [
    "disc_list"
   ]
  },
  {
   "cell_type": "code",
   "execution_count": 31,
   "id": "bddf95ac",
   "metadata": {},
   "outputs": [],
   "source": [
    "deg=4"
   ]
  },
  {
   "cell_type": "code",
   "execution_count": 32,
   "id": "116b0938",
   "metadata": {},
   "outputs": [],
   "source": [
    "var_list=[\"a_\"+str(i) for i in range(0,deg)]"
   ]
  },
  {
   "cell_type": "code",
   "execution_count": 33,
   "id": "81880a8c",
   "metadata": {},
   "outputs": [
    {
     "data": {
      "text/plain": [
       "(a_0, a_1, a_2, a_3, alpha)"
      ]
     },
     "execution_count": 33,
     "metadata": {},
     "output_type": "execute_result"
    }
   ],
   "source": [
    "var(var_list+[\"alpha\"])"
   ]
  },
  {
   "cell_type": "code",
   "execution_count": 34,
   "id": "f4556807",
   "metadata": {},
   "outputs": [],
   "source": [
    "#disc_list=[1,1,a_1^2-4*a_0]"
   ]
  },
  {
   "cell_type": "code",
   "execution_count": 35,
   "id": "d5bd5516",
   "metadata": {},
   "outputs": [],
   "source": [
    "d_coef=[i*(i+1)/2 for i in range(1,deg)]"
   ]
  },
  {
   "cell_type": "code",
   "execution_count": null,
   "id": "77f0506e",
   "metadata": {},
   "outputs": [],
   "source": []
  },
  {
   "cell_type": "code",
   "execution_count": 36,
   "id": "5a3eb1b2",
   "metadata": {},
   "outputs": [],
   "source": [
    "d_sym=[eval(\"a_\"+str(i)) for i in range(0,deg)]\n",
    "d_sym=d_sym[-(deg-2):]+[1]"
   ]
  },
  {
   "cell_type": "code",
   "execution_count": 37,
   "id": "643779b7",
   "metadata": {},
   "outputs": [
    {
     "data": {
      "text/plain": [
       "[a_2, a_3, 1]"
      ]
     },
     "execution_count": 37,
     "metadata": {},
     "output_type": "execute_result"
    }
   ],
   "source": [
    "d_sym"
   ]
  },
  {
   "cell_type": "code",
   "execution_count": 38,
   "id": "9d929b21",
   "metadata": {},
   "outputs": [],
   "source": [
    "d_alpha=[eval(\"alpha**\"+str(i)) for i in range (0,deg-1)]"
   ]
  },
  {
   "cell_type": "code",
   "execution_count": 39,
   "id": "53006e90",
   "metadata": {},
   "outputs": [],
   "source": [
    "d_exp=sum([i*j*k for i,j,k in zip(d_coef,d_sym,d_alpha)])"
   ]
  },
  {
   "cell_type": "code",
   "execution_count": 40,
   "id": "8b581a1a",
   "metadata": {},
   "outputs": [
    {
     "data": {
      "text/plain": [
       "3*a_3*alpha + 6*alpha^2 + a_2"
      ]
     },
     "execution_count": 40,
     "metadata": {},
     "output_type": "execute_result"
    }
   ],
   "source": [
    "d_exp"
   ]
  },
  {
   "cell_type": "code",
   "execution_count": 41,
   "id": "07d6d171",
   "metadata": {},
   "outputs": [],
   "source": [
    "n_coef=[2,2]\n",
    "for j in range(0,deg-3):\n",
    "    n_coef=n_coef+[0]\n",
    "    add=list(range(1,j+4))\n",
    "    n_coef=[x + y for x, y in zip(n_coef, add)]"
   ]
  },
  {
   "cell_type": "code",
   "execution_count": 42,
   "id": "e0912d38",
   "metadata": {},
   "outputs": [
    {
     "data": {
      "text/plain": [
       "[3, 4, 3]"
      ]
     },
     "execution_count": 42,
     "metadata": {},
     "output_type": "execute_result"
    }
   ],
   "source": [
    "n_coef"
   ]
  },
  {
   "cell_type": "code",
   "execution_count": 43,
   "id": "585505d2",
   "metadata": {},
   "outputs": [],
   "source": [
    "eqb_sym=[eval(\"a_\"+str(i)) for i in range(0,deg)]\n",
    "eqb_sym=eqb_sym[-(deg-1):]"
   ]
  },
  {
   "cell_type": "code",
   "execution_count": null,
   "id": "4e7939ac",
   "metadata": {},
   "outputs": [],
   "source": []
  },
  {
   "cell_type": "code",
   "execution_count": 44,
   "id": "96d99453",
   "metadata": {},
   "outputs": [],
   "source": [
    "eqb_exp=sum([i*j*k for i,j,k in zip(n_coef,d_alpha,eqb_sym)])"
   ]
  },
  {
   "cell_type": "code",
   "execution_count": 45,
   "id": "f7352dfe",
   "metadata": {},
   "outputs": [
    {
     "data": {
      "text/plain": [
       "3*a_3*alpha^2 + 4*a_2*alpha + 3*a_1"
      ]
     },
     "execution_count": 45,
     "metadata": {},
     "output_type": "execute_result"
    }
   ],
   "source": [
    "eqb_exp"
   ]
  },
  {
   "cell_type": "code",
   "execution_count": 46,
   "id": "61c7bcd4",
   "metadata": {},
   "outputs": [],
   "source": [
    "d_coef_rev=list(reversed(d_coef))"
   ]
  },
  {
   "cell_type": "code",
   "execution_count": 47,
   "id": "7e0402d5",
   "metadata": {},
   "outputs": [],
   "source": [
    "eqc_sym=[eval(\"a_\"+str(i)) for i in range(0,deg)]\n",
    "eqc_sym=eqc_sym[0:(deg-1)]"
   ]
  },
  {
   "cell_type": "code",
   "execution_count": 48,
   "id": "e6d57a8e",
   "metadata": {},
   "outputs": [
    {
     "data": {
      "text/plain": [
       "([a_0, a_1, a_2], [6, 3, 1], [1, alpha, alpha^2])"
      ]
     },
     "execution_count": 48,
     "metadata": {},
     "output_type": "execute_result"
    }
   ],
   "source": [
    "eqc_sym, d_coef_rev,d_alpha"
   ]
  },
  {
   "cell_type": "code",
   "execution_count": 49,
   "id": "15c7376f",
   "metadata": {},
   "outputs": [],
   "source": [
    "eqc_exp=sum([i*j*k for i,j,k in zip(d_coef_rev,d_alpha,eqc_sym)])"
   ]
  },
  {
   "cell_type": "code",
   "execution_count": 50,
   "id": "e513c9b9",
   "metadata": {},
   "outputs": [
    {
     "data": {
      "text/plain": [
       "a_2*alpha^2 + 3*a_1*alpha + 6*a_0"
      ]
     },
     "execution_count": 50,
     "metadata": {},
     "output_type": "execute_result"
    }
   ],
   "source": [
    "eqc_exp"
   ]
  },
  {
   "cell_type": "code",
   "execution_count": null,
   "id": "ae3380a6",
   "metadata": {},
   "outputs": [],
   "source": []
  },
  {
   "cell_type": "code",
   "execution_count": 51,
   "id": "229430e9",
   "metadata": {},
   "outputs": [],
   "source": [
    "#-----------------------------------------------------------------------------------------------"
   ]
  },
  {
   "cell_type": "code",
   "execution_count": 52,
   "id": "9422fe13",
   "metadata": {},
   "outputs": [],
   "source": [
    "ratio=-1/2*(eqb_exp/d_exp)"
   ]
  },
  {
   "cell_type": "code",
   "execution_count": 53,
   "id": "d5877843",
   "metadata": {},
   "outputs": [],
   "source": [
    "eqb=eqb_exp/d_exp\n",
    "eqc=eqc_exp/d_exp"
   ]
  },
  {
   "cell_type": "code",
   "execution_count": 54,
   "id": "cb90b8ce",
   "metadata": {},
   "outputs": [],
   "source": [
    "formula=((ratio^2+eqb*ratio+eqc)*(d_exp^2)).full_simplify().factor()"
   ]
  },
  {
   "cell_type": "code",
   "execution_count": 55,
   "id": "0f2980be",
   "metadata": {},
   "outputs": [],
   "source": [
    "coeffs=[eval(\"a_\"+str(i)) for i in range(0,deg)]+[1]\n",
    "alphas=[eval(\"alpha**\"+str(i)) for i in range (0,deg+1)]"
   ]
  },
  {
   "cell_type": "code",
   "execution_count": 56,
   "id": "8c8d9ae7",
   "metadata": {},
   "outputs": [],
   "source": [
    "full=sum([x*y for x,y in zip(coeffs,alphas)])"
   ]
  },
  {
   "cell_type": "code",
   "execution_count": 57,
   "id": "d12a63f8-bd0f-4913-a5ab-7b06d4ba0bea",
   "metadata": {},
   "outputs": [
    {
     "data": {
      "text/plain": [
       "-9/4*a_3^2*alpha^4 - 3*a_2*a_3*alpha^3 + 6*a_2*alpha^4 - 3*a_2^2*alpha^2 + 9/2*a_1*a_3*alpha^2 + 18*a_1*alpha^3 - 3*a_1*a_2*alpha + 18*a_0*a_3*alpha + 36*a_0*alpha^2 - 9/4*a_1^2 + 6*a_0*a_2"
      ]
     },
     "execution_count": 57,
     "metadata": {},
     "output_type": "execute_result"
    }
   ],
   "source": [
    "formula"
   ]
  },
  {
   "cell_type": "code",
   "execution_count": 58,
   "id": "0d5d1139-f5f7-419a-92d3-a726f764d835",
   "metadata": {},
   "outputs": [
    {
     "data": {
      "text/plain": [
       "-3/4*(3*a_3^2 - 8*a_2)*alpha^4 - 3*(a_2*a_3 - 6*a_1)*alpha^3 - 3/2*(2*a_2^2 - 3*a_1*a_3 - 24*a_0)*alpha^2 - 9/4*a_1^2 + 6*a_0*a_2 - 3*(a_1*a_2 - 6*a_0*a_3)*alpha"
      ]
     },
     "execution_count": 58,
     "metadata": {},
     "output_type": "execute_result"
    }
   ],
   "source": [
    "mycollect(formula,alpha)"
   ]
  },
  {
   "cell_type": "code",
   "execution_count": 59,
   "id": "904b955b",
   "metadata": {},
   "outputs": [],
   "source": [
    "tmp=formula\n",
    "for i in range(0,deg-3):\n",
    "    tmp=mycollect(tmp,alpha)\n",
    "    leading=tmp.operands()[0].subs({alpha:1})\n",
    "    tmp=(tmp-leading*alpha^((deg-3)-i-1)*full).full_simplify()"
   ]
  },
  {
   "cell_type": "code",
   "execution_count": 60,
   "id": "a8e5d9fe",
   "metadata": {},
   "outputs": [],
   "source": [
    "simfo=mycollect(tmp,alpha)"
   ]
  },
  {
   "cell_type": "code",
   "execution_count": 61,
   "id": "9c2bd263",
   "metadata": {},
   "outputs": [
    {
     "data": {
      "text/plain": [
       "9/4*(a_3^3 - 4*a_2*a_3 + 8*a_1)*alpha^3 + 9/4*a_0*a_3^2 + 9/4*(a_2*a_3^2 - 4*a_2^2 + 2*a_1*a_3 + 16*a_0)*alpha^2 - 9/4*a_1^2 + 9/4*(a_1*a_3^2 - 4*a_1*a_2 + 8*a_0*a_3)*alpha"
      ]
     },
     "execution_count": 61,
     "metadata": {},
     "output_type": "execute_result"
    }
   ],
   "source": [
    "simfo"
   ]
  },
  {
   "cell_type": "code",
   "execution_count": 62,
   "id": "6f763e51",
   "metadata": {},
   "outputs": [],
   "source": [
    "simfo_terms=simfo.operands()"
   ]
  },
  {
   "cell_type": "code",
   "execution_count": 63,
   "id": "c4c5c3a1",
   "metadata": {},
   "outputs": [
    {
     "data": {
      "text/plain": [
       "[9/4*(a_3^3 - 4*a_2*a_3 + 8*a_1)*alpha^3,\n",
       " 9/4*a_0*a_3^2,\n",
       " 9/4*(a_2*a_3^2 - 4*a_2^2 + 2*a_1*a_3 + 16*a_0)*alpha^2,\n",
       " -9/4*a_1^2,\n",
       " 9/4*(a_1*a_3^2 - 4*a_1*a_2 + 8*a_0*a_3)*alpha]"
      ]
     },
     "execution_count": 63,
     "metadata": {},
     "output_type": "execute_result"
    }
   ],
   "source": [
    "simfo_terms"
   ]
  },
  {
   "cell_type": "code",
   "execution_count": 64,
   "id": "cf319b3c",
   "metadata": {},
   "outputs": [],
   "source": [
    "lonely_terms=[i for i in simfo_terms if not(i.has(alpha))]"
   ]
  },
  {
   "cell_type": "code",
   "execution_count": 65,
   "id": "f1145ca3",
   "metadata": {},
   "outputs": [],
   "source": [
    "fixed=[i for i in simfo_terms if i not in lonely_terms]+[sum(lonely_terms)]"
   ]
  },
  {
   "cell_type": "code",
   "execution_count": 66,
   "id": "e9cac895",
   "metadata": {},
   "outputs": [
    {
     "data": {
      "text/plain": [
       "[9/4*(a_3^3 - 4*a_2*a_3 + 8*a_1)*alpha^3,\n",
       " 9/4*(a_2*a_3^2 - 4*a_2^2 + 2*a_1*a_3 + 16*a_0)*alpha^2,\n",
       " 9/4*(a_1*a_3^2 - 4*a_1*a_2 + 8*a_0*a_3)*alpha,\n",
       " 9/4*a_0*a_3^2 - 9/4*a_1^2]"
      ]
     },
     "execution_count": 66,
     "metadata": {},
     "output_type": "execute_result"
    }
   ],
   "source": [
    "fixed"
   ]
  },
  {
   "cell_type": "code",
   "execution_count": 67,
   "id": "3146dfa0",
   "metadata": {},
   "outputs": [],
   "source": [
    "fixed_only=[i.subs({alpha:1}) for i in fixed]"
   ]
  },
  {
   "cell_type": "code",
   "execution_count": 68,
   "id": "395b6d55",
   "metadata": {},
   "outputs": [],
   "source": [
    "fixed_only_2=[i/fixed_only[0] for i in fixed_only]"
   ]
  },
  {
   "cell_type": "code",
   "execution_count": 69,
   "id": "3816cb26",
   "metadata": {},
   "outputs": [],
   "source": [
    "cal_list=list(reversed(fixed_only_2[1:]))\n",
    "co_list=[eval(\"a_\"+str(i)) for i in range(0,deg)][:deg-1]"
   ]
  },
  {
   "cell_type": "code",
   "execution_count": 70,
   "id": "c912fb28",
   "metadata": {},
   "outputs": [],
   "source": [
    "subi=dict(zip(co_list,cal_list))"
   ]
  },
  {
   "cell_type": "code",
   "execution_count": 71,
   "id": "c3e18fa4",
   "metadata": {},
   "outputs": [
    {
     "data": {
      "text/plain": [
       "{a_0: (a_0*a_3^2 - a_1^2)/(a_3^3 - 4*a_2*a_3 + 8*a_1),\n",
       " a_1: (a_1*a_3^2 - 4*a_1*a_2 + 8*a_0*a_3)/(a_3^3 - 4*a_2*a_3 + 8*a_1),\n",
       " a_2: (a_2*a_3^2 - 4*a_2^2 + 2*a_1*a_3 + 16*a_0)/(a_3^3 - 4*a_2*a_3 + 8*a_1)}"
      ]
     },
     "execution_count": 71,
     "metadata": {},
     "output_type": "execute_result"
    }
   ],
   "source": [
    "subi"
   ]
  },
  {
   "cell_type": "code",
   "execution_count": null,
   "id": "8341c0fd",
   "metadata": {},
   "outputs": [],
   "source": []
  },
  {
   "cell_type": "code",
   "execution_count": 72,
   "id": "203cf921",
   "metadata": {},
   "outputs": [
    {
     "data": {
      "text/plain": [
       "9/4*a_3^3 - 9*a_2*a_3 + 18*a_1"
      ]
     },
     "execution_count": 72,
     "metadata": {},
     "output_type": "execute_result"
    }
   ],
   "source": [
    "fixed_only[0]"
   ]
  },
  {
   "cell_type": "code",
   "execution_count": 73,
   "id": "7495deab",
   "metadata": {},
   "outputs": [
    {
     "ename": "NameError",
     "evalue": "name 'disc_list' is not defined",
     "output_type": "error",
     "traceback": [
      "\u001b[0;31m---------------------------------------------------------------------------\u001b[0m",
      "\u001b[0;31mNameError\u001b[0m                                 Traceback (most recent call last)",
      "Cell \u001b[0;32mIn[73], line 1\u001b[0m\n\u001b[0;32m----> 1\u001b[0m disc\u001b[38;5;241m=\u001b[39m((Integer(\u001b[38;5;241m1\u001b[39m))\u001b[38;5;241m*\u001b[39m\u001b[43mdisc_list\u001b[49m[deg\u001b[38;5;241m-\u001b[39mInteger(\u001b[38;5;241m1\u001b[39m)]\u001b[38;5;241m.\u001b[39msubs(subi)\u001b[38;5;241m*\u001b[39m(Integer(\u001b[38;5;241m1\u001b[39m)\u001b[38;5;241m/\u001b[39mInteger(\u001b[38;5;241m4096\u001b[39m))\u001b[38;5;241m*\u001b[39m(fixed_only[Integer(\u001b[38;5;241m0\u001b[39m)])\u001b[38;5;241m*\u001b[39m\u001b[38;5;241m*\u001b[39mInteger(\u001b[38;5;241m6\u001b[39m))\u001b[38;5;241m.\u001b[39mfull_simplify()\u001b[38;5;241m.\u001b[39mfactor()\n",
      "\u001b[0;31mNameError\u001b[0m: name 'disc_list' is not defined"
     ]
    }
   ],
   "source": [
    "disc=((1)*disc_list[deg-1].subs(subi)*(1/4096)*(fixed_only[0])^6).full_simplify().factor()"
   ]
  },
  {
   "cell_type": "code",
   "execution_count": 74,
   "id": "a0a4985a",
   "metadata": {},
   "outputs": [
    {
     "data": {
      "text/plain": [
       "<function discriminant at 0x7fc2f1eba7a0>"
      ]
     },
     "execution_count": 74,
     "metadata": {},
     "output_type": "execute_result"
    }
   ],
   "source": [
    "disc"
   ]
  },
  {
   "cell_type": "code",
   "execution_count": null,
   "id": "10ff8533",
   "metadata": {},
   "outputs": [],
   "source": []
  },
  {
   "cell_type": "code",
   "execution_count": 75,
   "id": "bee1b258",
   "metadata": {},
   "outputs": [
    {
     "ename": "NameError",
     "evalue": "name 'disc_list' is not defined",
     "output_type": "error",
     "traceback": [
      "\u001b[0;31m---------------------------------------------------------------------------\u001b[0m",
      "\u001b[0;31mNameError\u001b[0m                                 Traceback (most recent call last)",
      "Cell \u001b[0;32mIn[75], line 1\u001b[0m\n\u001b[0;32m----> 1\u001b[0m \u001b[43mdisc_list\u001b[49m\u001b[38;5;241m.\u001b[39mappend(disc)\n",
      "\u001b[0;31mNameError\u001b[0m: name 'disc_list' is not defined"
     ]
    }
   ],
   "source": [
    "disc_list.append(disc)"
   ]
  },
  {
   "cell_type": "code",
   "execution_count": 444,
   "id": "3f96fa75",
   "metadata": {},
   "outputs": [
    {
     "data": {
      "text/plain": [
       "[1,\n",
       " 1,\n",
       " a_1^2 - 4*a_0,\n",
       " a_1^2*a_2^2 - 4*a_0*a_2^3 - 4*a_1^3 + 18*a_0*a_1*a_2 - 27*a_0^2,\n",
       " a_1^2*a_2^2*a_3^2 - 4*a_0*a_2^3*a_3^2 - 4*a_1^3*a_3^3 + 18*a_0*a_1*a_2*a_3^3 - 27*a_0^2*a_3^4 - 4*a_1^2*a_2^3 + 16*a_0*a_2^4 + 18*a_1^3*a_2*a_3 - 80*a_0*a_1*a_2^2*a_3 - 6*a_0*a_1^2*a_3^2 + 144*a_0^2*a_2*a_3^2 - 27*a_1^4 + 144*a_0*a_1^2*a_2 - 128*a_0^2*a_2^2 - 192*a_0^2*a_1*a_3 + 256*a_0^3]"
      ]
     },
     "execution_count": 444,
     "metadata": {},
     "output_type": "execute_result"
    }
   ],
   "source": [
    "disc_list"
   ]
  },
  {
   "cell_type": "code",
   "execution_count": null,
   "id": "488754c2",
   "metadata": {},
   "outputs": [],
   "source": []
  },
  {
   "cell_type": "code",
   "execution_count": 233,
   "id": "a484877c",
   "metadata": {},
   "outputs": [],
   "source": [
    "#-------------------------------------------------------------------------------------------------------------"
   ]
  },
  {
   "cell_type": "code",
   "execution_count": null,
   "id": "637760a5",
   "metadata": {},
   "outputs": [],
   "source": []
  }
 ],
 "metadata": {
  "kernelspec": {
   "display_name": "SageMath 10.5 [conda env:mamba-sagemath]",
   "language": "sage",
   "name": "conda-env-mamba-sagemath-sagemath"
  },
  "language_info": {
   "codemirror_mode": {
    "name": "ipython",
    "version": 3
   },
   "file_extension": ".py",
   "mimetype": "text/x-python",
   "name": "python",
   "nbconvert_exporter": "python",
   "pygments_lexer": "ipython3",
   "version": "3.12.9"
  }
 },
 "nbformat": 4,
 "nbformat_minor": 5
}
