{
 "cells": [
  {
   "cell_type": "code",
   "execution_count": 1,
   "id": "5a6c9847",
   "metadata": {},
   "outputs": [],
   "source": [
    "def mycollect(e1, e2):\n",
    "    \"\"\"\n",
    "    Collects e2 coefficients in e1, even when e2 is not a factor of\n",
    "    some of the terms of e1\n",
    "    \"\"\"\n",
    "    g = maxima_calculus.gensym()._sage_()\n",
    "    while g in e1.variables(): g = maxima_calculus.gensym()._sage_()\n",
    "    return sum([v[0]*g^v[1]\n",
    "                for v in e1.subs(e2==g).coefficients(g)]).subs(g==e2)"
   ]
  },
  {
   "cell_type": "code",
   "execution_count": 2,
   "id": "9b10c3df",
   "metadata": {},
   "outputs": [],
   "source": [
    "var_list=[\"a\"+str(i) for i in range(0,20)]+[\"x\"+str(i) for i in range(0,20)]+[\"s1\",\"s2\"]"
   ]
  },
  {
   "cell_type": "code",
   "execution_count": 3,
   "id": "1e6a0bef",
   "metadata": {},
   "outputs": [
    {
     "data": {
      "text/plain": [
       "(a0,\n",
       " a1,\n",
       " a2,\n",
       " a3,\n",
       " a4,\n",
       " a5,\n",
       " a6,\n",
       " a7,\n",
       " a8,\n",
       " a9,\n",
       " a10,\n",
       " a11,\n",
       " a12,\n",
       " a13,\n",
       " a14,\n",
       " a15,\n",
       " a16,\n",
       " a17,\n",
       " a18,\n",
       " a19,\n",
       " x0,\n",
       " x1,\n",
       " x2,\n",
       " x3,\n",
       " x4,\n",
       " x5,\n",
       " x6,\n",
       " x7,\n",
       " x8,\n",
       " x9,\n",
       " x10,\n",
       " x11,\n",
       " x12,\n",
       " x13,\n",
       " x14,\n",
       " x15,\n",
       " x16,\n",
       " x17,\n",
       " x18,\n",
       " x19,\n",
       " s1,\n",
       " s2,\n",
       " alpha)"
      ]
     },
     "execution_count": 3,
     "metadata": {},
     "output_type": "execute_result"
    }
   ],
   "source": [
    "var(var_list+[\"alpha\"])"
   ]
  },
  {
   "cell_type": "code",
   "execution_count": null,
   "id": "cdf8590e",
   "metadata": {},
   "outputs": [],
   "source": []
  },
  {
   "cell_type": "code",
   "execution_count": 4,
   "id": "49116411",
   "metadata": {},
   "outputs": [],
   "source": [
    "def eqb(deg):\n",
    "    d_alpha=[eval(\"x0**\"+str(i)) for i in range (0,deg-1)]\n",
    "    d_coef=[i*(i+1)/2 for i in range(1,deg)]\n",
    "    n_coef=[2,2]\n",
    "    for j in range(0,deg-3):\n",
    "        n_coef=n_coef+[0]\n",
    "        add=list(range(1,j+4))\n",
    "        n_coef=[x + y for x, y in zip(n_coef, add)]\n",
    "    eqb_sym=[eval(\"a\"+str(i)) for i in range(0,deg)]\n",
    "    eqb_sym=eqb_sym[-(deg-1):]\n",
    "    return sum([i*j*k for i,j,k in zip(n_coef,d_alpha,eqb_sym)])"
   ]
  },
  {
   "cell_type": "code",
   "execution_count": 5,
   "id": "561a6965",
   "metadata": {},
   "outputs": [],
   "source": [
    "def eqc(deg):\n",
    "    d_alpha=[eval(\"x0**\"+str(i)) for i in range (0,deg-1)]\n",
    "    d_coef=[i*(i+1)/2 for i in range(1,deg)]\n",
    "    eqc_sym=[eval(\"a\"+str(i)) for i in range(0,deg)]\n",
    "    eqc_sym=eqc_sym[0:(deg-1)]\n",
    "    d_coef_rev=list(reversed(d_coef))\n",
    "    return sum([i*j*k for i,j,k in zip(d_coef_rev,d_alpha,eqc_sym)])"
   ]
  },
  {
   "cell_type": "code",
   "execution_count": 6,
   "id": "bbd6f842",
   "metadata": {},
   "outputs": [],
   "source": [
    "def eqa(deg):\n",
    "    d_alpha=[eval(\"x0**\"+str(i)) for i in range (0,deg-1)]\n",
    "    d_coef=[i*(i+1)/2 for i in range(1,deg)]\n",
    "    d_sym=[eval(\"a\"+str(i)) for i in range(0,deg)]\n",
    "    d_sym=d_sym[-(deg-2):]+[1]\n",
    "    return sum([i*j*k for i,j,k in zip(d_coef,d_sym,d_alpha)])"
   ]
  },
  {
   "cell_type": "code",
   "execution_count": 7,
   "id": "2675596d",
   "metadata": {},
   "outputs": [],
   "source": [
    "e = SymmetricFunctions(QQ).e()"
   ]
  },
  {
   "cell_type": "code",
   "execution_count": 8,
   "id": "ff733d28",
   "metadata": {},
   "outputs": [],
   "source": [
    "def ele_dict(deg):\n",
    "        es=[e[i].expand(deg)*(-1)**i for i in range(1,deg+1)]\n",
    "        coe=list(reversed([eval(\"a\"+str(i)) for i in range(0,deg)]))\n",
    "        return dict(zip(coe,es))"
   ]
  },
  {
   "cell_type": "code",
   "execution_count": 11,
   "id": "2709d436",
   "metadata": {},
   "outputs": [
    {
     "name": "stdout",
     "output_type": "stream",
     "text": [
      "2*a1 a0\n",
      "-4*(x0*x1 + x0 + x1)*(x0*x1 - x0 - x1)\n",
      "2*a2*x0 + 2*a1 a1*x0 + 3*a0\n",
      "4*(x0 - x1)^2*(x0 - x2)^2\n",
      "3*a3*x0^2 + 4*a2*x0 + 3*a1 a2*x0^2 + 3*a1*x0 + 6*a0\n",
      "9*(x0 - x1)^2*(x0 - x2)^2*(x0 - x3)^2\n",
      "4*a4*x0^3 + 6*a3*x0^2 + 6*a2*x0 + 4*a1 a3*x0^3 + 3*a2*x0^2 + 6*a1*x0 + 10*a0\n",
      "16*(x0 - x1)^2*(x0 - x2)^2*(x0 - x3)^2*(x0 - x4)^2\n",
      "5*a5*x0^4 + 8*a4*x0^3 + 9*a3*x0^2 + 8*a2*x0 + 5*a1 a4*x0^4 + 3*a3*x0^3 + 6*a2*x0^2 + 10*a1*x0 + 15*a0\n",
      "25*(x0 - x1)^2*(x0 - x2)^2*(x0 - x3)^2*(x0 - x4)^2*(x0 - x5)^2\n",
      "6*a6*x0^5 + 10*a5*x0^4 + 12*a4*x0^3 + 12*a3*x0^2 + 10*a2*x0 + 6*a1 a5*x0^5 + 3*a4*x0^4 + 6*a3*x0^3 + 10*a2*x0^2 + 15*a1*x0 + 21*a0\n",
      "36*(x0 - x1)^2*(x0 - x2)^2*(x0 - x3)^2*(x0 - x4)^2*(x0 - x5)^2*(x0 - x6)^2\n",
      "7*a7*x0^6 + 12*a6*x0^5 + 15*a5*x0^4 + 16*a4*x0^3 + 15*a3*x0^2 + 12*a2*x0 + 7*a1 a6*x0^6 + 3*a5*x0^5 + 6*a4*x0^4 + 10*a3*x0^3 + 15*a2*x0^2 + 21*a1*x0 + 28*a0\n",
      "49*(x0 - x1)^2*(x0 - x2)^2*(x0 - x3)^2*(x0 - x4)^2*(x0 - x5)^2*(x0 - x6)^2*(x0 - x7)^2\n"
     ]
    }
   ],
   "source": [
    "for j in range(2,9):\n",
    "    print(eqb(j),eqc(j))\n",
    "    formula=eqb(j)**2-4*eqc(j)*eqa(j)\n",
    "    che=formula.subs(ele_dict(j)).full_simplify().factor()\n",
    "    print(che)"
   ]
  },
  {
   "cell_type": "code",
   "execution_count": 10,
   "id": "d989bb55",
   "metadata": {},
   "outputs": [
    {
     "name": "stdout",
     "output_type": "stream",
     "text": [
      "3*a3*x0^2 + 2*a2*x0 + a1\n",
      "4*a4*x0^3 + 3*a3*x0^2 + 2*a2*x0 + a1\n",
      "5*a5*x0^4 + 4*a4*x0^3 + 3*a3*x0^2 + 2*a2*x0 + a1\n",
      "6*a6*x0^5 + 5*a5*x0^4 + 4*a4*x0^3 + 3*a3*x0^2 + 2*a2*x0 + a1\n",
      "7*a7*x0^6 + 6*a6*x0^5 + 5*a5*x0^4 + 4*a4*x0^3 + 3*a3*x0^2 + 2*a2*x0 + a1\n",
      "8*a8*x0^7 + 7*a7*x0^6 + 6*a6*x0^5 + 5*a5*x0^4 + 4*a4*x0^3 + 3*a3*x0^2 + 2*a2*x0 + a1\n"
     ]
    }
   ],
   "source": [
    "for j in range(3,9):\n",
    "    ry=mycollect((eqb(j+1)-eqb(j)).full_simplify(),x0)\n",
    "    print(ry)"
   ]
  },
  {
   "cell_type": "code",
   "execution_count": 11,
   "id": "3d8c257d",
   "metadata": {},
   "outputs": [
    {
     "name": "stdout",
     "output_type": "stream",
     "text": [
      "a2*x0^2 + 2*a1*x0 + 3*a0\n",
      "a3*x0^3 + 2*a2*x0^2 + 3*a1*x0 + 4*a0\n",
      "a4*x0^4 + 2*a3*x0^3 + 3*a2*x0^2 + 4*a1*x0 + 5*a0\n",
      "a5*x0^5 + 2*a4*x0^4 + 3*a3*x0^3 + 4*a2*x0^2 + 5*a1*x0 + 6*a0\n",
      "a6*x0^6 + 2*a5*x0^5 + 3*a4*x0^4 + 4*a3*x0^3 + 5*a2*x0^2 + 6*a1*x0 + 7*a0\n",
      "a7*x0^7 + 2*a6*x0^6 + 3*a5*x0^5 + 4*a4*x0^4 + 5*a3*x0^3 + 6*a2*x0^2 + 7*a1*x0 + 8*a0\n"
     ]
    }
   ],
   "source": [
    "for j in range(3,9):\n",
    "    ry=mycollect((eqc(j+1)-eqc(j)).full_simplify(),x0)\n",
    "    print(ry)"
   ]
  },
  {
   "cell_type": "code",
   "execution_count": 12,
   "id": "d8810e5c",
   "metadata": {},
   "outputs": [
    {
     "name": "stdout",
     "output_type": "stream",
     "text": [
      "3*(a3 - 1)*x0 + 6*x0^2\n",
      "6*(a4 - 1)*x0^2 + 10*x0^3\n",
      "10*(a5 - 1)*x0^3 + 15*x0^4\n",
      "15*(a6 - 1)*x0^4 + 21*x0^5\n",
      "21*(a7 - 1)*x0^5 + 28*x0^6\n",
      "28*(a8 - 1)*x0^6 + 36*x0^7\n"
     ]
    }
   ],
   "source": [
    "for j in range(3,9):\n",
    "    ry=mycollect((eqa(j+1)-eqa(j)).full_simplify(),x0)\n",
    "    print(ry)"
   ]
  },
  {
   "cell_type": "code",
   "execution_count": 13,
   "id": "998cb115",
   "metadata": {},
   "outputs": [
    {
     "name": "stdout",
     "output_type": "stream",
     "text": [
      "2*a2*x0 + 2*a1\n",
      "3*a3*x0^2 + 4*a2*x0 + 3*a1\n",
      "4*a4*x0^3 + 6*a3*x0^2 + 6*a2*x0 + 4*a1\n",
      "5*a5*x0^4 + 8*a4*x0^3 + 9*a3*x0^2 + 8*a2*x0 + 5*a1\n",
      "6*a6*x0^5 + 10*a5*x0^4 + 12*a4*x0^3 + 12*a3*x0^2 + 10*a2*x0 + 6*a1\n",
      "7*a7*x0^6 + 12*a6*x0^5 + 15*a5*x0^4 + 16*a4*x0^3 + 15*a3*x0^2 + 12*a2*x0 + 7*a1\n"
     ]
    }
   ],
   "source": [
    "for j in range(3,9):\n",
    "    ry=mycollect((eqb(j)).full_simplify(),x0)\n",
    "    print(ry)"
   ]
  },
  {
   "cell_type": "code",
   "execution_count": 14,
   "id": "73752dda",
   "metadata": {},
   "outputs": [
    {
     "name": "stdout",
     "output_type": "stream",
     "text": [
      "a2 + 3*x0\n",
      "3*a3*x0 + 6*x0^2 + a2\n",
      "6*a4*x0^2 + 10*x0^3 + 3*a3*x0 + a2\n",
      "10*a5*x0^3 + 15*x0^4 + 6*a4*x0^2 + 3*a3*x0 + a2\n",
      "15*a6*x0^4 + 21*x0^5 + 10*a5*x0^3 + 6*a4*x0^2 + 3*a3*x0 + a2\n",
      "21*a7*x0^5 + 28*x0^6 + 15*a6*x0^4 + 10*a5*x0^3 + 6*a4*x0^2 + 3*a3*x0 + a2\n"
     ]
    }
   ],
   "source": [
    "for j in range(3,9):\n",
    "    ry=mycollect((eqa(j)).full_simplify(),x0)\n",
    "    print(ry)"
   ]
  },
  {
   "cell_type": "code",
   "execution_count": 15,
   "id": "58944b8c",
   "metadata": {},
   "outputs": [
    {
     "name": "stdout",
     "output_type": "stream",
     "text": [
      "a1*x0 + 3*a0\n",
      "a2*x0^2 + 3*a1*x0 + 6*a0\n",
      "a3*x0^3 + 3*a2*x0^2 + 6*a1*x0 + 10*a0\n",
      "a4*x0^4 + 3*a3*x0^3 + 6*a2*x0^2 + 10*a1*x0 + 15*a0\n",
      "a5*x0^5 + 3*a4*x0^4 + 6*a3*x0^3 + 10*a2*x0^2 + 15*a1*x0 + 21*a0\n",
      "a6*x0^6 + 3*a5*x0^5 + 6*a4*x0^4 + 10*a3*x0^3 + 15*a2*x0^2 + 21*a1*x0 + 28*a0\n"
     ]
    }
   ],
   "source": [
    "for j in range(3,9):\n",
    "    ry=mycollect((eqc(j)).full_simplify(),x0)\n",
    "    print(ry)"
   ]
  },
  {
   "cell_type": "code",
   "execution_count": null,
   "id": "ad4b43d0",
   "metadata": {},
   "outputs": [],
   "source": []
  },
  {
   "cell_type": "code",
   "execution_count": 26,
   "id": "61a6aa49",
   "metadata": {},
   "outputs": [
    {
     "name": "stdout",
     "output_type": "stream",
     "text": [
      "a1\n",
      "2*a2*x0 + 2*a1\n",
      "3*a3*x0^2 + 4*a2*x0 + 3*a1\n",
      "4*a4*x0^3 + 6*a3*x0^2 + 6*a2*x0 + 4*a1\n",
      "5*a5*x0^4 + 8*a4*x0^3 + 9*a3*x0^2 + 8*a2*x0 + 5*a1\n",
      "6*a6*x0^5 + 10*a5*x0^4 + 12*a4*x0^3 + 12*a3*x0^2 + 10*a2*x0 + 6*a1\n",
      "7*a7*x0^6 + 12*a6*x0^5 + 15*a5*x0^4 + 16*a4*x0^3 + 15*a3*x0^2 + 12*a2*x0 + 7*a1\n"
     ]
    }
   ],
   "source": [
    "#b\n",
    "for n in range(2,9):\n",
    "    print(sum([j*(n-j)*x0^(j-1)*eval(\"a\"+str(j)) for j in [1..n-1]]))"
   ]
  },
  {
   "cell_type": "code",
   "execution_count": 17,
   "id": "bbc0919c",
   "metadata": {},
   "outputs": [
    {
     "name": "stdout",
     "output_type": "stream",
     "text": [
      "a1*x0 + 3*a0\n",
      "a2*x0^2 + 3*a1*x0 + 6*a0\n",
      "a3*x0^3 + 3*a2*x0^2 + 6*a1*x0 + 10*a0\n",
      "a4*x0^4 + 3*a3*x0^3 + 6*a2*x0^2 + 10*a1*x0 + 15*a0\n",
      "a5*x0^5 + 3*a4*x0^4 + 6*a3*x0^3 + 10*a2*x0^2 + 15*a1*x0 + 21*a0\n",
      "a6*x0^6 + 3*a5*x0^5 + 6*a4*x0^4 + 10*a3*x0^3 + 15*a2*x0^2 + 21*a1*x0 + 28*a0\n"
     ]
    }
   ],
   "source": [
    "for j in range(3,9):\n",
    "    ry=mycollect((eqc(j)).full_simplify(),x0)\n",
    "    print(ry)"
   ]
  },
  {
   "cell_type": "code",
   "execution_count": 27,
   "id": "91448c63",
   "metadata": {},
   "outputs": [
    {
     "name": "stdout",
     "output_type": "stream",
     "text": [
      "a0\n",
      "a1*x0 + 3*a0\n",
      "a2*x0^2 + 3*a1*x0 + 6*a0\n",
      "a3*x0^3 + 3*a2*x0^2 + 6*a1*x0 + 10*a0\n",
      "a4*x0^4 + 3*a3*x0^3 + 6*a2*x0^2 + 10*a1*x0 + 15*a0\n",
      "a5*x0^5 + 3*a4*x0^4 + 6*a3*x0^3 + 10*a2*x0^2 + 15*a1*x0 + 21*a0\n",
      "a6*x0^6 + 3*a5*x0^5 + 6*a4*x0^4 + 10*a3*x0^3 + 15*a2*x0^2 + 21*a1*x0 + 28*a0\n"
     ]
    }
   ],
   "source": [
    "#c\n",
    "for n in range(2,9):\n",
    "    print(sum([(n-j+1)*(n-j)/2*x0^(j-1)*eval(\"a\"+str(j-1)) for j in [1..n+1]]))"
   ]
  },
  {
   "cell_type": "code",
   "execution_count": 28,
   "id": "bdcf879b",
   "metadata": {},
   "outputs": [
    {
     "name": "stdout",
     "output_type": "stream",
     "text": [
      "1\n",
      "a2 + 3*x0\n",
      "3*a3*x0 + 6*x0^2 + a2\n",
      "6*a4*x0^2 + 10*x0^3 + 3*a3*x0 + a2\n",
      "10*a5*x0^3 + 15*x0^4 + 6*a4*x0^2 + 3*a3*x0 + a2\n",
      "15*a6*x0^4 + 21*x0^5 + 10*a5*x0^3 + 6*a4*x0^2 + 3*a3*x0 + a2\n",
      "21*a7*x0^5 + 28*x0^6 + 15*a6*x0^4 + 10*a5*x0^3 + 6*a4*x0^2 + 3*a3*x0 + a2\n"
     ]
    }
   ],
   "source": [
    "#a\n",
    "for n in range(2,9):\n",
    "    print(sum([j*(j-1)/2*x0^(j-2)*eval(\"a\"+str(j)) for j in [1..n-1]])+n*(n-1)/2*x0^(n-2))"
   ]
  },
  {
   "cell_type": "code",
   "execution_count": 20,
   "id": "c222c18b",
   "metadata": {},
   "outputs": [
    {
     "name": "stdout",
     "output_type": "stream",
     "text": [
      "a2 + 3*x0\n",
      "3*a3*x0 + 6*x0^2 + a2\n",
      "6*a4*x0^2 + 10*x0^3 + 3*a3*x0 + a2\n",
      "10*a5*x0^3 + 15*x0^4 + 6*a4*x0^2 + 3*a3*x0 + a2\n",
      "15*a6*x0^4 + 21*x0^5 + 10*a5*x0^3 + 6*a4*x0^2 + 3*a3*x0 + a2\n",
      "21*a7*x0^5 + 28*x0^6 + 15*a6*x0^4 + 10*a5*x0^3 + 6*a4*x0^2 + 3*a3*x0 + a2\n"
     ]
    }
   ],
   "source": [
    "for j in range(3,9):\n",
    "    ry=mycollect((eqa(j)).full_simplify(),x0)\n",
    "    print(ry)"
   ]
  },
  {
   "cell_type": "code",
   "execution_count": 21,
   "id": "9f4a32d4",
   "metadata": {},
   "outputs": [],
   "source": [
    "def asum(n):\n",
    "    return sum([j*(j-1)/2*x0^(j-2)*eval(\"a\"+str(j)) for j in [1..n-1]])+n*(n-1)/2*x0^(n-2)\n",
    "def bsum(n):\n",
    "    return sum([j*(n-j)*x0^(j-1)*eval(\"a\"+str(j)) for j in [1..n-1]])\n",
    "def csum(n):\n",
    "    return sum([(n-j+1)*(n-j)/2*x0^(j-1)*eval(\"a\"+str(j-1)) for j in [1..n+1]])"
   ]
  },
  {
   "cell_type": "code",
   "execution_count": 22,
   "id": "f66fd508",
   "metadata": {},
   "outputs": [
    {
     "name": "stdout",
     "output_type": "stream",
     "text": [
      "4*(x0 - x1)^2*(x0 - x2)^2\n",
      "9*(x0 - x1)^2*(x0 - x2)^2*(x0 - x3)^2\n",
      "16*(x0 - x1)^2*(x0 - x2)^2*(x0 - x3)^2*(x0 - x4)^2\n",
      "25*(x0 - x1)^2*(x0 - x2)^2*(x0 - x3)^2*(x0 - x4)^2*(x0 - x5)^2\n",
      "36*(x0 - x1)^2*(x0 - x2)^2*(x0 - x3)^2*(x0 - x4)^2*(x0 - x5)^2*(x0 - x6)^2\n",
      "49*(x0 - x1)^2*(x0 - x2)^2*(x0 - x3)^2*(x0 - x4)^2*(x0 - x5)^2*(x0 - x6)^2*(x0 - x7)^2\n"
     ]
    }
   ],
   "source": [
    "for j in range(3,9):\n",
    "    formula=bsum(j)**2-4*asum(j)*csum(j)\n",
    "    che=formula.subs(ele_dict(j)).full_simplify().factor()\n",
    "    print(che)"
   ]
  },
  {
   "cell_type": "code",
   "execution_count": 23,
   "id": "53222d5a",
   "metadata": {},
   "outputs": [],
   "source": [
    "eq1=bsum(3)/asum(3)==-s1-s2\n",
    "eq2=csum(3)/asum(3)==s1*s2"
   ]
  },
  {
   "cell_type": "code",
   "execution_count": 24,
   "id": "26f08e20",
   "metadata": {},
   "outputs": [
    {
     "data": {
      "text/plain": [
       "[[s1 == -(a2*x0 + a1 + sqrt((a2^2 - 3*a1)*x0^2 + a1^2 - 3*a0*a2 + (a1*a2 - 9*a0)*x0))/(a2 + 3*x0), s2 == -(a2*x0 + a1 - sqrt((a2^2 - 3*a1)*x0^2 + a1^2 - 3*a0*a2 + (a1*a2 - 9*a0)*x0))/(a2 + 3*x0)], [s1 == -(a2*x0 + a1 - sqrt((a2^2 - 3*a1)*x0^2 + a1^2 - 3*a0*a2 + (a1*a2 - 9*a0)*x0))/(a2 + 3*x0), s2 == -(a2*x0 + a1 + sqrt((a2^2 - 3*a1)*x0^2 + a1^2 - 3*a0*a2 + (a1*a2 - 9*a0)*x0))/(a2 + 3*x0)]]"
      ]
     },
     "execution_count": 24,
     "metadata": {},
     "output_type": "execute_result"
    }
   ],
   "source": [
    "solve([eq1,eq2],s1,s2)"
   ]
  },
  {
   "cell_type": "code",
   "execution_count": null,
   "id": "50b7a1f3",
   "metadata": {},
   "outputs": [],
   "source": []
  }
 ],
 "metadata": {
  "kernelspec": {
   "display_name": "SageMath 9.7 [conda env:sagemath]",
   "language": "sage",
   "name": "conda-env-sagemath-sagemath"
  },
  "language_info": {
   "codemirror_mode": {
    "name": "ipython",
    "version": 3
   },
   "file_extension": ".py",
   "mimetype": "text/x-python",
   "name": "python",
   "nbconvert_exporter": "python",
   "pygments_lexer": "ipython3",
   "version": "3.10.4"
  }
 },
 "nbformat": 4,
 "nbformat_minor": 5
}
